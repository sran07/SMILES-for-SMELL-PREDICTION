{
  "cells": [
    {
      "cell_type": "code",
      "source": [
        "from rdkit import rdBase\n",
        "from rdkit import RDConfig\n",
        "!pip install --pre deepchem\n",
        "!pip install rdkit-pypi\n",
        "!pip install rdkit-pypi\n",
        "!pip install mordred"
      ],
      "metadata": {
        "colab": {
          "base_uri": "https://localhost:8080/"
        },
        "id": "RV1uOoGZtGDF",
        "outputId": "65d7c27d-1e05-4af6-fef7-2e92229c4c9e"
      },
      "execution_count": null,
      "outputs": [
        {
          "output_type": "stream",
          "name": "stdout",
          "text": [
            "Looking in indexes: https://pypi.org/simple, https://us-python.pkg.dev/colab-wheels/public/simple/\n",
            "Requirement already satisfied: deepchem in /usr/local/lib/python3.7/dist-packages (2.6.2.dev20221111184512)\n",
            "Requirement already satisfied: scikit-learn in /usr/local/lib/python3.7/dist-packages (from deepchem) (1.0.2)\n",
            "Requirement already satisfied: pandas in /usr/local/lib/python3.7/dist-packages (from deepchem) (1.3.5)\n",
            "Requirement already satisfied: scipy<1.9 in /usr/local/lib/python3.7/dist-packages (from deepchem) (1.7.3)\n",
            "Requirement already satisfied: numpy>=1.21 in /usr/local/lib/python3.7/dist-packages (from deepchem) (1.21.6)\n",
            "Requirement already satisfied: rdkit in /usr/local/lib/python3.7/dist-packages (from deepchem) (2022.9.1)\n",
            "Requirement already satisfied: joblib in /usr/local/lib/python3.7/dist-packages (from deepchem) (1.2.0)\n",
            "Requirement already satisfied: pytz>=2017.3 in /usr/local/lib/python3.7/dist-packages (from pandas->deepchem) (2022.6)\n",
            "Requirement already satisfied: python-dateutil>=2.7.3 in /usr/local/lib/python3.7/dist-packages (from pandas->deepchem) (2.8.2)\n",
            "Requirement already satisfied: six>=1.5 in /usr/local/lib/python3.7/dist-packages (from python-dateutil>=2.7.3->pandas->deepchem) (1.15.0)\n",
            "Requirement already satisfied: Pillow in /usr/local/lib/python3.7/dist-packages (from rdkit->deepchem) (7.1.2)\n",
            "Requirement already satisfied: threadpoolctl>=2.0.0 in /usr/local/lib/python3.7/dist-packages (from scikit-learn->deepchem) (3.1.0)\n",
            "Looking in indexes: https://pypi.org/simple, https://us-python.pkg.dev/colab-wheels/public/simple/\n",
            "Requirement already satisfied: rdkit-pypi in /usr/local/lib/python3.7/dist-packages (2022.9.1)\n",
            "Requirement already satisfied: Pillow in /usr/local/lib/python3.7/dist-packages (from rdkit-pypi) (7.1.2)\n",
            "Requirement already satisfied: numpy in /usr/local/lib/python3.7/dist-packages (from rdkit-pypi) (1.21.6)\n",
            "Looking in indexes: https://pypi.org/simple, https://us-python.pkg.dev/colab-wheels/public/simple/\n",
            "Requirement already satisfied: rdkit-pypi in /usr/local/lib/python3.7/dist-packages (2022.9.1)\n",
            "Requirement already satisfied: numpy in /usr/local/lib/python3.7/dist-packages (from rdkit-pypi) (1.21.6)\n",
            "Requirement already satisfied: Pillow in /usr/local/lib/python3.7/dist-packages (from rdkit-pypi) (7.1.2)\n",
            "Looking in indexes: https://pypi.org/simple, https://us-python.pkg.dev/colab-wheels/public/simple/\n",
            "Collecting mordred\n",
            "  Downloading mordred-1.2.0.tar.gz (128 kB)\n",
            "\u001b[K     |████████████████████████████████| 128 kB 15.0 MB/s \n",
            "\u001b[?25hRequirement already satisfied: six==1.* in /usr/local/lib/python3.7/dist-packages (from mordred) (1.15.0)\n",
            "Requirement already satisfied: numpy==1.* in /usr/local/lib/python3.7/dist-packages (from mordred) (1.21.6)\n",
            "Requirement already satisfied: networkx==2.* in /usr/local/lib/python3.7/dist-packages (from mordred) (2.6.3)\n",
            "Building wheels for collected packages: mordred\n",
            "  Building wheel for mordred (setup.py) ... \u001b[?25l\u001b[?25hdone\n",
            "  Created wheel for mordred: filename=mordred-1.2.0-py3-none-any.whl size=176725 sha256=41ca1614214397501ed5149f2e72f8c8901b60c8287f82d9f6aa0c4706c07e56\n",
            "  Stored in directory: /root/.cache/pip/wheels/02/c0/2e/e7e3d63b431777712ebc128bc4deb9ac5cb19afc7c1ea341ec\n",
            "Successfully built mordred\n",
            "Installing collected packages: mordred\n",
            "Successfully installed mordred-1.2.0\n"
          ]
        }
      ]
    },
    {
      "cell_type": "code",
      "source": [
        "!pip install --pre deepchem\n",
        "!pip install rdkit-pypi"
      ],
      "metadata": {
        "colab": {
          "base_uri": "https://localhost:8080/"
        },
        "id": "M6FoYd_7STXJ",
        "outputId": "68275287-109b-4b09-d07f-196ff4df5b3e"
      },
      "execution_count": null,
      "outputs": [
        {
          "output_type": "stream",
          "name": "stdout",
          "text": [
            "Looking in indexes: https://pypi.org/simple, https://us-python.pkg.dev/colab-wheels/public/simple/\n",
            "Collecting deepchem\n",
            "  Downloading deepchem-2.6.2.dev20221111184512-py3-none-any.whl (693 kB)\n",
            "\u001b[K     |████████████████████████████████| 693 kB 15.1 MB/s \n",
            "\u001b[?25hRequirement already satisfied: numpy>=1.21 in /usr/local/lib/python3.7/dist-packages (from deepchem) (1.21.6)\n",
            "Requirement already satisfied: scipy<1.9 in /usr/local/lib/python3.7/dist-packages (from deepchem) (1.7.3)\n",
            "Requirement already satisfied: pandas in /usr/local/lib/python3.7/dist-packages (from deepchem) (1.3.5)\n",
            "Requirement already satisfied: joblib in /usr/local/lib/python3.7/dist-packages (from deepchem) (1.2.0)\n",
            "Requirement already satisfied: scikit-learn in /usr/local/lib/python3.7/dist-packages (from deepchem) (1.0.2)\n",
            "Collecting rdkit\n",
            "  Downloading rdkit-2022.9.1-cp37-cp37m-manylinux_2_17_x86_64.manylinux2014_x86_64.whl (29.5 MB)\n",
            "\u001b[K     |████████████████████████████████| 29.5 MB 1.2 MB/s \n",
            "\u001b[?25hRequirement already satisfied: pytz>=2017.3 in /usr/local/lib/python3.7/dist-packages (from pandas->deepchem) (2022.6)\n",
            "Requirement already satisfied: python-dateutil>=2.7.3 in /usr/local/lib/python3.7/dist-packages (from pandas->deepchem) (2.8.2)\n",
            "Requirement already satisfied: six>=1.5 in /usr/local/lib/python3.7/dist-packages (from python-dateutil>=2.7.3->pandas->deepchem) (1.15.0)\n",
            "Requirement already satisfied: Pillow in /usr/local/lib/python3.7/dist-packages (from rdkit->deepchem) (7.1.2)\n",
            "Requirement already satisfied: threadpoolctl>=2.0.0 in /usr/local/lib/python3.7/dist-packages (from scikit-learn->deepchem) (3.1.0)\n",
            "Installing collected packages: rdkit, deepchem\n",
            "Successfully installed deepchem-2.6.2.dev20221111184512 rdkit-2022.9.1\n",
            "Looking in indexes: https://pypi.org/simple, https://us-python.pkg.dev/colab-wheels/public/simple/\n",
            "Collecting rdkit-pypi\n",
            "  Downloading rdkit_pypi-2022.9.1-cp37-cp37m-manylinux_2_17_x86_64.manylinux2014_x86_64.whl (29.5 MB)\n",
            "\u001b[K     |████████████████████████████████| 29.5 MB 12.5 MB/s \n",
            "\u001b[?25hRequirement already satisfied: Pillow in /usr/local/lib/python3.7/dist-packages (from rdkit-pypi) (7.1.2)\n",
            "Requirement already satisfied: numpy in /usr/local/lib/python3.7/dist-packages (from rdkit-pypi) (1.21.6)\n",
            "Installing collected packages: rdkit-pypi\n",
            "Successfully installed rdkit-pypi-2022.9.1\n"
          ]
        }
      ]
    },
    {
      "cell_type": "code",
      "source": [
        "import deepchem as dc\n",
        "dc.__version__"
      ],
      "metadata": {
        "colab": {
          "base_uri": "https://localhost:8080/",
          "height": 125
        },
        "id": "wU3Qd06Xtl6z",
        "outputId": "de57463d-67cf-46dc-ccc3-42aae8b60d10"
      },
      "execution_count": null,
      "outputs": [
        {
          "output_type": "stream",
          "name": "stderr",
          "text": [
            "WARNING:deepchem.models.torch_models:Skipped loading modules with pytorch-geometric dependency, missing a dependency. No module named 'torch_geometric'\n",
            "WARNING:deepchem.models:Skipped loading modules with pytorch-geometric dependency, missing a dependency. cannot import name 'DMPNN' from 'deepchem.models.torch_models' (/usr/local/lib/python3.7/dist-packages/deepchem/models/torch_models/__init__.py)\n",
            "WARNING:deepchem.models:Skipped loading modules with pytorch-lightning dependency, missing a dependency. No module named 'pytorch_lightning'\n",
            "WARNING:deepchem.models:Skipped loading some Jax models, missing a dependency. No module named 'haiku'\n"
          ]
        },
        {
          "output_type": "execute_result",
          "data": {
            "text/plain": [
              "'2.6.2.dev'"
            ],
            "application/vnd.google.colaboratory.intrinsic+json": {
              "type": "string"
            }
          },
          "metadata": {},
          "execution_count": 2
        }
      ]
    },
    {
      "cell_type": "code",
      "source": [
        "\n",
        "from rdkit.Chem import AllChem\n",
        "from rdkit import Chem\n",
        "from rdkit.Chem import Descriptors\n",
        "from rdkit.ML.Descriptors import MoleculeDescriptors\n",
        "import pandas as pd\n",
        "import numpy as np\n",
        "from mordred import Calculator, descriptors"
      ],
      "metadata": {
        "id": "BTTRDpT4TXfw"
      },
      "execution_count": null,
      "outputs": []
    },
    {
      "cell_type": "code",
      "source": [
        "url = 'https://raw.githubusercontent.com/gashawmg/molecular-descriptors/main/Orbital_Energies_input_data.csv'\n",
        "dataset = pd.read_csv(url)\n",
        "dataset.shape"
      ],
      "metadata": {
        "colab": {
          "base_uri": "https://localhost:8080/"
        },
        "id": "-QXzT8_ETlfn",
        "outputId": "be34d89c-2f8f-4784-81ff-537539694881"
      },
      "execution_count": null,
      "outputs": [
        {
          "output_type": "execute_result",
          "data": {
            "text/plain": [
              "(2904, 2)"
            ]
          },
          "metadata": {},
          "execution_count": 4
        }
      ]
    },
    {
      "cell_type": "code",
      "source": [
        "\n",
        "dataset = pd.read_csv(url)\n",
        "dataset.shape"
      ],
      "metadata": {
        "id": "tuxZ_1aDD6jd"
      },
      "execution_count": null,
      "outputs": []
    },
    {
      "cell_type": "markdown",
      "source": [
        "#Generating cannonical smiles"
      ],
      "metadata": {
        "id": "LaenNBQMTq_m"
      }
    },
    {
      "cell_type": "code",
      "source": [
        "def canonical_smiles(smiles):\n",
        "    mols = [Chem.MolFromSmiles(smi) for smi in smiles] \n",
        "    smiles = [Chem.MolToSmiles(mol) for mol in mols]\n",
        "    return smiles"
      ],
      "metadata": {
        "id": "apf9_ssZTu_A"
      },
      "execution_count": null,
      "outputs": []
    },
    {
      "cell_type": "code",
      "source": [
        "from rdkit.Chem import Draw\n",
        "from rdkit.Chem.Draw import IPythonConsole\n",
        "\n",
        "Chem.MolFromSmiles('C=CCC')"
      ],
      "metadata": {
        "colab": {
          "base_uri": "https://localhost:8080/",
          "height": 167
        },
        "id": "bp5XIyLdTzc-",
        "outputId": "4357ee6f-5ab6-4f84-8629-1b956d9bc187"
      },
      "execution_count": null,
      "outputs": [
        {
          "output_type": "execute_result",
          "data": {
            "text/plain": [
              "<rdkit.Chem.rdchem.Mol at 0x7f75a5084cb0>"
            ],
            "image/png": "[encoded data removed]"
          },
          "metadata": {},
          "execution_count": 6
        }
      ]
    },
    {
      "cell_type": "code",
      "source": [
        "Canon_SMILES = canonical_smiles(dataset.SMILES)\n",
        "len(Canon_SMILES)"
      ],
      "metadata": {
        "colab": {
          "base_uri": "https://localhost:8080/"
        },
        "id": "AOR8IySPTzf2",
        "outputId": "5a560287-882b-417a-fb26-b9cf97655052"
      },
      "execution_count": null,
      "outputs": [
        {
          "output_type": "execute_result",
          "data": {
            "text/plain": [
              "2904"
            ]
          },
          "metadata": {},
          "execution_count": 7
        }
      ]
    },
    {
      "cell_type": "code",
      "source": [
        "dataset['SMILES'] = Canon_SMILES\n",
        "dataset"
      ],
      "metadata": {
        "colab": {
          "base_uri": "https://localhost:8080/",
          "height": 424
        },
        "id": "hTeyT8uKTziu",
        "outputId": "6c9d5a66-889e-47e2-dadb-13ed7f5f862c"
      },
      "execution_count": null,
      "outputs": [
        {
          "output_type": "execute_result",
          "data": {
            "text/plain": [
              "                                            SMILES   Energygap\n",
              "0                              Cc1ccc(C(F)(F)F)cc1  197.749421\n",
              "1                                      O=C(O)CCCCl  247.493942\n",
              "2     CC(C)(Oc1ccc(CCNC(=O)c2ccc(Cl)cc2)cc1)C(=O)O  164.712327\n",
              "3                                Nc1ccc(Cl)c(Cl)c1  169.027707\n",
              "4                            CC(C)=CCC[C@@H](C)CCO  209.569808\n",
              "...                                            ...         ...\n",
              "2899    c1ccc(P(CCP(c2ccccc2)c2ccccc2)c2ccccc2)cc1  168.649319\n",
              "2900                               Brc1cccc2sccc12  162.928319\n",
              "2901               CCOC(=O)N1c2ccccc2C=C[C@@H]1OCC  165.098245\n",
              "2902                                 c1ccc2sccc2c1  167.958431\n",
              "2903                                 Cc1cccc(C)c1O  188.369417\n",
              "\n",
              "[2904 rows x 2 columns]"
            ],
            "text/html": [
              "\n",
              "  <div id=\"df-ad6ca3ad-1ddc-40be-9ee1-b459cfa950c0\">\n",
              "    <div class=\"colab-df-container\">\n",
              "      <div>\n",
              "<style scoped>\n",
              "    .dataframe tbody tr th:only-of-type {\n",
              "        vertical-align: middle;\n",
              "    }\n",
              "\n",
              "    .dataframe tbody tr th {\n",
              "        vertical-align: top;\n",
              "    }\n",
              "\n",
              "    .dataframe thead th {\n",
              "        text-align: right;\n",
              "    }\n",
              "</style>\n",
              "<table border=\"1\" class=\"dataframe\">\n",
              "  <thead>\n",
              "    <tr style=\"text-align: right;\">\n",
              "      <th></th>\n",
              "      <th>SMILES</th>\n",
              "      <th>Energygap</th>\n",
              "    </tr>\n",
              "  </thead>\n",
              "  <tbody>\n",
              "    <tr>\n",
              "      <th>0</th>\n",
              "      <td>Cc1ccc(C(F)(F)F)cc1</td>\n",
              "      <td>197.749421</td>\n",
              "    </tr>\n",
              "    <tr>\n",
              "      <th>1</th>\n",
              "      <td>O=C(O)CCCCl</td>\n",
              "      <td>247.493942</td>\n",
              "    </tr>\n",
              "    <tr>\n",
              "      <th>2</th>\n",
              "      <td>CC(C)(Oc1ccc(CCNC(=O)c2ccc(Cl)cc2)cc1)C(=O)O</td>\n",
              "      <td>164.712327</td>\n",
              "    </tr>\n",
              "    <tr>\n",
              "      <th>3</th>\n",
              "      <td>Nc1ccc(Cl)c(Cl)c1</td>\n",
              "      <td>169.027707</td>\n",
              "    </tr>\n",
              "    <tr>\n",
              "      <th>4</th>\n",
              "      <td>CC(C)=CCC[C@@H](C)CCO</td>\n",
              "      <td>209.569808</td>\n",
              "    </tr>\n",
              "    <tr>\n",
              "      <th>...</th>\n",
              "      <td>...</td>\n",
              "      <td>...</td>\n",
              "    </tr>\n",
              "    <tr>\n",
              "      <th>2899</th>\n",
              "      <td>c1ccc(P(CCP(c2ccccc2)c2ccccc2)c2ccccc2)cc1</td>\n",
              "      <td>168.649319</td>\n",
              "    </tr>\n",
              "    <tr>\n",
              "      <th>2900</th>\n",
              "      <td>Brc1cccc2sccc12</td>\n",
              "      <td>162.928319</td>\n",
              "    </tr>\n",
              "    <tr>\n",
              "      <th>2901</th>\n",
              "      <td>CCOC(=O)N1c2ccccc2C=C[C@@H]1OCC</td>\n",
              "      <td>165.098245</td>\n",
              "    </tr>\n",
              "    <tr>\n",
              "      <th>2902</th>\n",
              "      <td>c1ccc2sccc2c1</td>\n",
              "      <td>167.958431</td>\n",
              "    </tr>\n",
              "    <tr>\n",
              "      <th>2903</th>\n",
              "      <td>Cc1cccc(C)c1O</td>\n",
              "      <td>188.369417</td>\n",
              "    </tr>\n",
              "  </tbody>\n",
              "</table>\n",
              "<p>2904 rows × 2 columns</p>\n",
              "</div>\n",
              "      <button class=\"colab-df-convert\" onclick=\"convertToInteractive('df-ad6ca3ad-1ddc-40be-9ee1-b459cfa950c0')\"\n",
              "              title=\"Convert this dataframe to an interactive table.\"\n",
              "              style=\"display:none;\">\n",
              "        \n",
              "  <svg xmlns=\"http://www.w3.org/2000/svg\" height=\"24px\"viewBox=\"0 0 24 24\"\n",
              "       width=\"24px\">\n",
              "    <path d=\"M0 0h24v24H0V0z\" fill=\"none\"/>\n",
              "    <path d=\"M18.56 5.44l.94 2.06.94-2.06 2.06-.94-2.06-.94-.94-2.06-.94 2.06-2.06.94zm-11 1L8.5 8.5l.94-2.06 2.06-.94-2.06-.94L8.5 2.5l-.94 2.06-2.06.94zm10 10l.94 2.06.94-2.06 2.06-.94-2.06-.94-.94-2.06-.94 2.06-2.06.94z\"/><path d=\"M17.41 7.96l-1.37-1.37c-.4-.4-.92-.59-1.43-.59-.52 0-1.04.2-1.43.59L10.3 9.45l-7.72 7.72c-.78.78-.78 2.05 0 2.83L4 21.41c.39.39.9.59 1.41.59.51 0 1.02-.2 1.41-.59l7.78-7.78 2.81-2.81c.8-.78.8-2.07 0-2.86zM5.41 20L4 18.59l7.72-7.72 1.47 1.35L5.41 20z\"/>\n",
              "  </svg>\n",
              "      </button>\n",
              "      \n",
              "  <style>\n",
              "    .colab-df-container {\n",
              "      display:flex;\n",
              "      flex-wrap:wrap;\n",
              "      gap: 12px;\n",
              "    }\n",
              "\n",
              "    .colab-df-convert {\n",
              "      background-color: #E8F0FE;\n",
              "      border: none;\n",
              "      border-radius: 50%;\n",
              "      cursor: pointer;\n",
              "      display: none;\n",
              "      fill: #1967D2;\n",
              "      height: 32px;\n",
              "      padding: 0 0 0 0;\n",
              "      width: 32px;\n",
              "    }\n",
              "\n",
              "    .colab-df-convert:hover {\n",
              "      background-color: #E2EBFA;\n",
              "      box-shadow: 0px 1px 2px rgba(60, 64, 67, 0.3), 0px 1px 3px 1px rgba(60, 64, 67, 0.15);\n",
              "      fill: #174EA6;\n",
              "    }\n",
              "\n",
              "    [theme=dark] .colab-df-convert {\n",
              "      background-color: #3B4455;\n",
              "      fill: #D2E3FC;\n",
              "    }\n",
              "\n",
              "    [theme=dark] .colab-df-convert:hover {\n",
              "      background-color: #434B5C;\n",
              "      box-shadow: 0px 1px 3px 1px rgba(0, 0, 0, 0.15);\n",
              "      filter: drop-shadow(0px 1px 2px rgba(0, 0, 0, 0.3));\n",
              "      fill: #FFFFFF;\n",
              "    }\n",
              "  </style>\n",
              "\n",
              "      <script>\n",
              "        const buttonEl =\n",
              "          document.querySelector('#df-ad6ca3ad-1ddc-40be-9ee1-b459cfa950c0 button.colab-df-convert');\n",
              "        buttonEl.style.display =\n",
              "          google.colab.kernel.accessAllowed ? 'block' : 'none';\n",
              "\n",
              "        async function convertToInteractive(key) {\n",
              "          const element = document.querySelector('#df-ad6ca3ad-1ddc-40be-9ee1-b459cfa950c0');\n",
              "          const dataTable =\n",
              "            await google.colab.kernel.invokeFunction('convertToInteractive',\n",
              "                                                     [key], {});\n",
              "          if (!dataTable) return;\n",
              "\n",
              "          const docLinkHtml = 'Like what you see? Visit the ' +\n",
              "            '<a target=\"_blank\" href=https://colab.research.google.com/notebooks/data_table.ipynb>data table notebook</a>'\n",
              "            + ' to learn more about interactive tables.';\n",
              "          element.innerHTML = '';\n",
              "          dataTable['output_type'] = 'display_data';\n",
              "          await google.colab.output.renderOutput(dataTable, element);\n",
              "          const docLink = document.createElement('div');\n",
              "          docLink.innerHTML = docLinkHtml;\n",
              "          element.appendChild(docLink);\n",
              "        }\n",
              "      </script>\n",
              "    </div>\n",
              "  </div>\n",
              "  "
            ]
          },
          "metadata": {},
          "execution_count": 8
        }
      ]
    },
    {
      "cell_type": "code",
      "source": [
        "duplicates_smiles = dataset[dataset['SMILES'].duplicated()]['SMILES'].values\n",
        "len(duplicates_smiles)"
      ],
      "metadata": {
        "colab": {
          "base_uri": "https://localhost:8080/"
        },
        "id": "q-05-GM1TzlI",
        "outputId": "4f847c40-b4fd-47c1-e3bf-d5f22f4d1f9e"
      },
      "execution_count": null,
      "outputs": [
        {
          "output_type": "execute_result",
          "data": {
            "text/plain": [
              "31"
            ]
          },
          "metadata": {},
          "execution_count": 9
        }
      ]
    },
    {
      "cell_type": "code",
      "source": [
        "# Create a list for duplicate smiles\n",
        "dataset[dataset['SMILES'].isin(duplicates_smiles)].sort_values(by=['SMILES'])"
      ],
      "metadata": {
        "colab": {
          "base_uri": "https://localhost:8080/",
          "height": 1000
        },
        "id": "7sJepCjpTzoG",
        "outputId": "54cebd35-f6fa-476e-cb5c-ea7e06d65de6"
      },
      "execution_count": null,
      "outputs": [
        {
          "output_type": "execute_result",
          "data": {
            "text/plain": [
              "                                          SMILES   Energygap\n",
              "218                                  C1=CCCCCCC1  214.097913\n",
              "2125                                 C1=CCCCCCC1  214.097913\n",
              "1901                     C1CC[C@H]2CCCC[C@@H]2C1  251.144790\n",
              "552                      C1CC[C@H]2CCCC[C@@H]2C1  251.144790\n",
              "554                                 C=CN1CCCC1=O  190.834900\n",
              "1808                                C=CN1CCCC1=O  190.835527\n",
              "2203                                 C=Cc1ccccc1  168.467969\n",
              "1354                                 C=Cc1ccccc1  168.475499\n",
              "2341                                 C=Cc1ccccc1  168.490559\n",
              "1265                                 C=Cc1ccncc1  174.833420\n",
              "265                                  C=Cc1ccncc1  174.852873\n",
              "2400              CC(C)(C)OC(=O)N1CCC(C(=O)O)CC1  208.680001\n",
              "1621              CC(C)(C)OC(=O)N1CCC(C(=O)O)CC1  207.397372\n",
              "1184                       CC(C)C[C@@H](N)C(=O)O  224.367726\n",
              "1759                       CC(C)C[C@@H](N)C(=O)O  224.480050\n",
              "2324                                      CC(C)I  192.150158\n",
              "85                                        CC(C)I  192.146393\n",
              "2885                        CC(C)[C@@H](N)C(=O)O  225.261926\n",
              "2408                        CC(C)[C@@H](N)C(=O)O  225.268828\n",
              "21                          CC(C)[C@@H](N)C(=O)O  225.284516\n",
              "1856                            CC(C)[C@@H](N)CO  233.361812\n",
              "2813                            CC(C)[C@@H](N)CO  233.363695\n",
              "1841             CC(C)[C@@H]1CC[C@@H](C)C[C@H]1O  239.017551\n",
              "1448             CC(C)[C@@H]1CC[C@@H](C)C[C@H]1O  239.014413\n",
              "1881               CC1(C)[C@H]2CC=C(CO)[C@@H]1C2  204.956990\n",
              "819                CC1(C)[C@H]2CC=C(CO)[C@@H]1C2  204.956990\n",
              "1635                  CCCCCCCC/C=C/CCCCCCCC(=O)O  214.106698\n",
              "2310                  CCCCCCCC/C=C/CCCCCCCC(=O)O  216.249641\n",
              "262                                           CI  195.299626\n",
              "853                                           CI  195.293351\n",
              "2061  CO[C@H]1O[C@H](CO)[C@H](O)[C@H](O)[C@@H]1O  245.235537\n",
              "1944  CO[C@H]1O[C@H](CO)[C@H](O)[C@H](O)[C@@H]1O  245.222987\n",
              "1918                         CSCC[C@@H](N)C(=O)O  194.000682\n",
              "276                          CSCC[C@@H](N)C(=O)O  200.738247\n",
              "11                        N[C@@H](CC(=O)O)C(=O)O  218.324814\n",
              "1469                      N[C@@H](CC(=O)O)C(=O)O  218.341129\n",
              "135                      N[C@@H](CCC(=O)O)C(=O)O  229.915533\n",
              "475                      N[C@@H](CCC(=O)O)C(=O)O  229.923063\n",
              "871                            N[C@@H](CO)C(=O)O  229.721005\n",
              "1730                           N[C@@H](CO)C(=O)O  233.944768\n",
              "1109                    N[C@@H](Cc1ccccc1)C(=O)O  197.559913\n",
              "313                     N[C@@H](Cc1ccccc1)C(=O)O  197.526656\n",
              "2540                         N[C@H]1CCCC[C@@H]1N  218.194919\n",
              "2194                         N[C@H]1CCCC[C@@H]1N  218.194919\n",
              "1361                  O=C(/C=C/c1ccccc1)c1ccccc1  146.505154\n",
              "921                   O=C(/C=C/c1ccccc1)c1ccccc1  146.505781\n",
              "643                            O=C(O)[C@H]1CCCN1  213.074446\n",
              "254                            O=C(O)[C@H]1CCCN1  219.567282\n",
              "1542                           O=C(O)[C@H]1CCCN1  219.566654\n",
              "914                               O=C(O)c1ccccc1  186.421629\n",
              "2011                              O=C(O)c1ccccc1  186.426021\n",
              "2231                                 O=C1C=CCCC1  188.298508\n",
              "541                                  O=C1C=CCCC1  188.297881\n",
              "1183                         O=C1OC(=O)c2ncccc21  182.409964\n",
              "2715                         O=C1OC(=O)c2ncccc21  182.408709\n",
              "594    OC[C@H]1O[C@H](O)[C@H](O)[C@H](O)[C@@H]1O  231.955564\n",
              "2381   OC[C@H]1O[C@H](O)[C@H](O)[C@H](O)[C@@H]1O  231.931719\n",
              "1294                            c1cnc2[nH]ccc2c1  169.528459\n",
              "1732                            c1cnc2[nH]ccc2c1  169.528459"
            ],
            "text/html": [
              "\n",
              "  <div id=\"df-c42b7187-e31e-43ae-93fd-cd0d14a857cb\">\n",
              "    <div class=\"colab-df-container\">\n",
              "      <div>\n",
              "<style scoped>\n",
              "    .dataframe tbody tr th:only-of-type {\n",
              "        vertical-align: middle;\n",
              "    }\n",
              "\n",
              "    .dataframe tbody tr th {\n",
              "        vertical-align: top;\n",
              "    }\n",
              "\n",
              "    .dataframe thead th {\n",
              "        text-align: right;\n",
              "    }\n",
              "</style>\n",
              "<table border=\"1\" class=\"dataframe\">\n",
              "  <thead>\n",
              "    <tr style=\"text-align: right;\">\n",
              "      <th></th>\n",
              "      <th>SMILES</th>\n",
              "      <th>Energygap</th>\n",
              "    </tr>\n",
              "  </thead>\n",
              "  <tbody>\n",
              "    <tr>\n",
              "      <th>218</th>\n",
              "      <td>C1=CCCCCCC1</td>\n",
              "      <td>214.097913</td>\n",
              "    </tr>\n",
              "    <tr>\n",
              "      <th>2125</th>\n",
              "      <td>C1=CCCCCCC1</td>\n",
              "      <td>214.097913</td>\n",
              "    </tr>\n",
              "    <tr>\n",
              "      <th>1901</th>\n",
              "      <td>C1CC[C@H]2CCCC[C@@H]2C1</td>\n",
              "      <td>251.144790</td>\n",
              "    </tr>\n",
              "    <tr>\n",
              "      <th>552</th>\n",
              "      <td>C1CC[C@H]2CCCC[C@@H]2C1</td>\n",
              "      <td>251.144790</td>\n",
              "    </tr>\n",
              "    <tr>\n",
              "      <th>554</th>\n",
              "      <td>C=CN1CCCC1=O</td>\n",
              "      <td>190.834900</td>\n",
              "    </tr>\n",
              "    <tr>\n",
              "      <th>1808</th>\n",
              "      <td>C=CN1CCCC1=O</td>\n",
              "      <td>190.835527</td>\n",
              "    </tr>\n",
              "    <tr>\n",
              "      <th>2203</th>\n",
              "      <td>C=Cc1ccccc1</td>\n",
              "      <td>168.467969</td>\n",
              "    </tr>\n",
              "    <tr>\n",
              "      <th>1354</th>\n",
              "      <td>C=Cc1ccccc1</td>\n",
              "      <td>168.475499</td>\n",
              "    </tr>\n",
              "    <tr>\n",
              "      <th>2341</th>\n",
              "      <td>C=Cc1ccccc1</td>\n",
              "      <td>168.490559</td>\n",
              "    </tr>\n",
              "    <tr>\n",
              "      <th>1265</th>\n",
              "      <td>C=Cc1ccncc1</td>\n",
              "      <td>174.833420</td>\n",
              "    </tr>\n",
              "    <tr>\n",
              "      <th>265</th>\n",
              "      <td>C=Cc1ccncc1</td>\n",
              "      <td>174.852873</td>\n",
              "    </tr>\n",
              "    <tr>\n",
              "      <th>2400</th>\n",
              "      <td>CC(C)(C)OC(=O)N1CCC(C(=O)O)CC1</td>\n",
              "      <td>208.680001</td>\n",
              "    </tr>\n",
              "    <tr>\n",
              "      <th>1621</th>\n",
              "      <td>CC(C)(C)OC(=O)N1CCC(C(=O)O)CC1</td>\n",
              "      <td>207.397372</td>\n",
              "    </tr>\n",
              "    <tr>\n",
              "      <th>1184</th>\n",
              "      <td>CC(C)C[C@@H](N)C(=O)O</td>\n",
              "      <td>224.367726</td>\n",
              "    </tr>\n",
              "    <tr>\n",
              "      <th>1759</th>\n",
              "      <td>CC(C)C[C@@H](N)C(=O)O</td>\n",
              "      <td>224.480050</td>\n",
              "    </tr>\n",
              "    <tr>\n",
              "      <th>2324</th>\n",
              "      <td>CC(C)I</td>\n",
              "      <td>192.150158</td>\n",
              "    </tr>\n",
              "    <tr>\n",
              "      <th>85</th>\n",
              "      <td>CC(C)I</td>\n",
              "      <td>192.146393</td>\n",
              "    </tr>\n",
              "    <tr>\n",
              "      <th>2885</th>\n",
              "      <td>CC(C)[C@@H](N)C(=O)O</td>\n",
              "      <td>225.261926</td>\n",
              "    </tr>\n",
              "    <tr>\n",
              "      <th>2408</th>\n",
              "      <td>CC(C)[C@@H](N)C(=O)O</td>\n",
              "      <td>225.268828</td>\n",
              "    </tr>\n",
              "    <tr>\n",
              "      <th>21</th>\n",
              "      <td>CC(C)[C@@H](N)C(=O)O</td>\n",
              "      <td>225.284516</td>\n",
              "    </tr>\n",
              "    <tr>\n",
              "      <th>1856</th>\n",
              "      <td>CC(C)[C@@H](N)CO</td>\n",
              "      <td>233.361812</td>\n",
              "    </tr>\n",
              "    <tr>\n",
              "      <th>2813</th>\n",
              "      <td>CC(C)[C@@H](N)CO</td>\n",
              "      <td>233.363695</td>\n",
              "    </tr>\n",
              "    <tr>\n",
              "      <th>1841</th>\n",
              "      <td>CC(C)[C@@H]1CC[C@@H](C)C[C@H]1O</td>\n",
              "      <td>239.017551</td>\n",
              "    </tr>\n",
              "    <tr>\n",
              "      <th>1448</th>\n",
              "      <td>CC(C)[C@@H]1CC[C@@H](C)C[C@H]1O</td>\n",
              "      <td>239.014413</td>\n",
              "    </tr>\n",
              "    <tr>\n",
              "      <th>1881</th>\n",
              "      <td>CC1(C)[C@H]2CC=C(CO)[C@@H]1C2</td>\n",
              "      <td>204.956990</td>\n",
              "    </tr>\n",
              "    <tr>\n",
              "      <th>819</th>\n",
              "      <td>CC1(C)[C@H]2CC=C(CO)[C@@H]1C2</td>\n",
              "      <td>204.956990</td>\n",
              "    </tr>\n",
              "    <tr>\n",
              "      <th>1635</th>\n",
              "      <td>CCCCCCCC/C=C/CCCCCCCC(=O)O</td>\n",
              "      <td>214.106698</td>\n",
              "    </tr>\n",
              "    <tr>\n",
              "      <th>2310</th>\n",
              "      <td>CCCCCCCC/C=C/CCCCCCCC(=O)O</td>\n",
              "      <td>216.249641</td>\n",
              "    </tr>\n",
              "    <tr>\n",
              "      <th>262</th>\n",
              "      <td>CI</td>\n",
              "      <td>195.299626</td>\n",
              "    </tr>\n",
              "    <tr>\n",
              "      <th>853</th>\n",
              "      <td>CI</td>\n",
              "      <td>195.293351</td>\n",
              "    </tr>\n",
              "    <tr>\n",
              "      <th>2061</th>\n",
              "      <td>CO[C@H]1O[C@H](CO)[C@H](O)[C@H](O)[C@@H]1O</td>\n",
              "      <td>245.235537</td>\n",
              "    </tr>\n",
              "    <tr>\n",
              "      <th>1944</th>\n",
              "      <td>CO[C@H]1O[C@H](CO)[C@H](O)[C@H](O)[C@@H]1O</td>\n",
              "      <td>245.222987</td>\n",
              "    </tr>\n",
              "    <tr>\n",
              "      <th>1918</th>\n",
              "      <td>CSCC[C@@H](N)C(=O)O</td>\n",
              "      <td>194.000682</td>\n",
              "    </tr>\n",
              "    <tr>\n",
              "      <th>276</th>\n",
              "      <td>CSCC[C@@H](N)C(=O)O</td>\n",
              "      <td>200.738247</td>\n",
              "    </tr>\n",
              "    <tr>\n",
              "      <th>11</th>\n",
              "      <td>N[C@@H](CC(=O)O)C(=O)O</td>\n",
              "      <td>218.324814</td>\n",
              "    </tr>\n",
              "    <tr>\n",
              "      <th>1469</th>\n",
              "      <td>N[C@@H](CC(=O)O)C(=O)O</td>\n",
              "      <td>218.341129</td>\n",
              "    </tr>\n",
              "    <tr>\n",
              "      <th>135</th>\n",
              "      <td>N[C@@H](CCC(=O)O)C(=O)O</td>\n",
              "      <td>229.915533</td>\n",
              "    </tr>\n",
              "    <tr>\n",
              "      <th>475</th>\n",
              "      <td>N[C@@H](CCC(=O)O)C(=O)O</td>\n",
              "      <td>229.923063</td>\n",
              "    </tr>\n",
              "    <tr>\n",
              "      <th>871</th>\n",
              "      <td>N[C@@H](CO)C(=O)O</td>\n",
              "      <td>229.721005</td>\n",
              "    </tr>\n",
              "    <tr>\n",
              "      <th>1730</th>\n",
              "      <td>N[C@@H](CO)C(=O)O</td>\n",
              "      <td>233.944768</td>\n",
              "    </tr>\n",
              "    <tr>\n",
              "      <th>1109</th>\n",
              "      <td>N[C@@H](Cc1ccccc1)C(=O)O</td>\n",
              "      <td>197.559913</td>\n",
              "    </tr>\n",
              "    <tr>\n",
              "      <th>313</th>\n",
              "      <td>N[C@@H](Cc1ccccc1)C(=O)O</td>\n",
              "      <td>197.526656</td>\n",
              "    </tr>\n",
              "    <tr>\n",
              "      <th>2540</th>\n",
              "      <td>N[C@H]1CCCC[C@@H]1N</td>\n",
              "      <td>218.194919</td>\n",
              "    </tr>\n",
              "    <tr>\n",
              "      <th>2194</th>\n",
              "      <td>N[C@H]1CCCC[C@@H]1N</td>\n",
              "      <td>218.194919</td>\n",
              "    </tr>\n",
              "    <tr>\n",
              "      <th>1361</th>\n",
              "      <td>O=C(/C=C/c1ccccc1)c1ccccc1</td>\n",
              "      <td>146.505154</td>\n",
              "    </tr>\n",
              "    <tr>\n",
              "      <th>921</th>\n",
              "      <td>O=C(/C=C/c1ccccc1)c1ccccc1</td>\n",
              "      <td>146.505781</td>\n",
              "    </tr>\n",
              "    <tr>\n",
              "      <th>643</th>\n",
              "      <td>O=C(O)[C@H]1CCCN1</td>\n",
              "      <td>213.074446</td>\n",
              "    </tr>\n",
              "    <tr>\n",
              "      <th>254</th>\n",
              "      <td>O=C(O)[C@H]1CCCN1</td>\n",
              "      <td>219.567282</td>\n",
              "    </tr>\n",
              "    <tr>\n",
              "      <th>1542</th>\n",
              "      <td>O=C(O)[C@H]1CCCN1</td>\n",
              "      <td>219.566654</td>\n",
              "    </tr>\n",
              "    <tr>\n",
              "      <th>914</th>\n",
              "      <td>O=C(O)c1ccccc1</td>\n",
              "      <td>186.421629</td>\n",
              "    </tr>\n",
              "    <tr>\n",
              "      <th>2011</th>\n",
              "      <td>O=C(O)c1ccccc1</td>\n",
              "      <td>186.426021</td>\n",
              "    </tr>\n",
              "    <tr>\n",
              "      <th>2231</th>\n",
              "      <td>O=C1C=CCCC1</td>\n",
              "      <td>188.298508</td>\n",
              "    </tr>\n",
              "    <tr>\n",
              "      <th>541</th>\n",
              "      <td>O=C1C=CCCC1</td>\n",
              "      <td>188.297881</td>\n",
              "    </tr>\n",
              "    <tr>\n",
              "      <th>1183</th>\n",
              "      <td>O=C1OC(=O)c2ncccc21</td>\n",
              "      <td>182.409964</td>\n",
              "    </tr>\n",
              "    <tr>\n",
              "      <th>2715</th>\n",
              "      <td>O=C1OC(=O)c2ncccc21</td>\n",
              "      <td>182.408709</td>\n",
              "    </tr>\n",
              "    <tr>\n",
              "      <th>594</th>\n",
              "      <td>OC[C@H]1O[C@H](O)[C@H](O)[C@H](O)[C@@H]1O</td>\n",
              "      <td>231.955564</td>\n",
              "    </tr>\n",
              "    <tr>\n",
              "      <th>2381</th>\n",
              "      <td>OC[C@H]1O[C@H](O)[C@H](O)[C@H](O)[C@@H]1O</td>\n",
              "      <td>231.931719</td>\n",
              "    </tr>\n",
              "    <tr>\n",
              "      <th>1294</th>\n",
              "      <td>c1cnc2[nH]ccc2c1</td>\n",
              "      <td>169.528459</td>\n",
              "    </tr>\n",
              "    <tr>\n",
              "      <th>1732</th>\n",
              "      <td>c1cnc2[nH]ccc2c1</td>\n",
              "      <td>169.528459</td>\n",
              "    </tr>\n",
              "  </tbody>\n",
              "</table>\n",
              "</div>\n",
              "      <button class=\"colab-df-convert\" onclick=\"convertToInteractive('df-c42b7187-e31e-43ae-93fd-cd0d14a857cb')\"\n",
              "              title=\"Convert this dataframe to an interactive table.\"\n",
              "              style=\"display:none;\">\n",
              "        \n",
              "  <svg xmlns=\"http://www.w3.org/2000/svg\" height=\"24px\"viewBox=\"0 0 24 24\"\n",
              "       width=\"24px\">\n",
              "    <path d=\"M0 0h24v24H0V0z\" fill=\"none\"/>\n",
              "    <path d=\"M18.56 5.44l.94 2.06.94-2.06 2.06-.94-2.06-.94-.94-2.06-.94 2.06-2.06.94zm-11 1L8.5 8.5l.94-2.06 2.06-.94-2.06-.94L8.5 2.5l-.94 2.06-2.06.94zm10 10l.94 2.06.94-2.06 2.06-.94-2.06-.94-.94-2.06-.94 2.06-2.06.94z\"/><path d=\"M17.41 7.96l-1.37-1.37c-.4-.4-.92-.59-1.43-.59-.52 0-1.04.2-1.43.59L10.3 9.45l-7.72 7.72c-.78.78-.78 2.05 0 2.83L4 21.41c.39.39.9.59 1.41.59.51 0 1.02-.2 1.41-.59l7.78-7.78 2.81-2.81c.8-.78.8-2.07 0-2.86zM5.41 20L4 18.59l7.72-7.72 1.47 1.35L5.41 20z\"/>\n",
              "  </svg>\n",
              "      </button>\n",
              "      \n",
              "  <style>\n",
              "    .colab-df-container {\n",
              "      display:flex;\n",
              "      flex-wrap:wrap;\n",
              "      gap: 12px;\n",
              "    }\n",
              "\n",
              "    .colab-df-convert {\n",
              "      background-color: #E8F0FE;\n",
              "      border: none;\n",
              "      border-radius: 50%;\n",
              "      cursor: pointer;\n",
              "      display: none;\n",
              "      fill: #1967D2;\n",
              "      height: 32px;\n",
              "      padding: 0 0 0 0;\n",
              "      width: 32px;\n",
              "    }\n",
              "\n",
              "    .colab-df-convert:hover {\n",
              "      background-color: #E2EBFA;\n",
              "      box-shadow: 0px 1px 2px rgba(60, 64, 67, 0.3), 0px 1px 3px 1px rgba(60, 64, 67, 0.15);\n",
              "      fill: #174EA6;\n",
              "    }\n",
              "\n",
              "    [theme=dark] .colab-df-convert {\n",
              "      background-color: #3B4455;\n",
              "      fill: #D2E3FC;\n",
              "    }\n",
              "\n",
              "    [theme=dark] .colab-df-convert:hover {\n",
              "      background-color: #434B5C;\n",
              "      box-shadow: 0px 1px 3px 1px rgba(0, 0, 0, 0.15);\n",
              "      filter: drop-shadow(0px 1px 2px rgba(0, 0, 0, 0.3));\n",
              "      fill: #FFFFFF;\n",
              "    }\n",
              "  </style>\n",
              "\n",
              "      <script>\n",
              "        const buttonEl =\n",
              "          document.querySelector('#df-c42b7187-e31e-43ae-93fd-cd0d14a857cb button.colab-df-convert');\n",
              "        buttonEl.style.display =\n",
              "          google.colab.kernel.accessAllowed ? 'block' : 'none';\n",
              "\n",
              "        async function convertToInteractive(key) {\n",
              "          const element = document.querySelector('#df-c42b7187-e31e-43ae-93fd-cd0d14a857cb');\n",
              "          const dataTable =\n",
              "            await google.colab.kernel.invokeFunction('convertToInteractive',\n",
              "                                                     [key], {});\n",
              "          if (!dataTable) return;\n",
              "\n",
              "          const docLinkHtml = 'Like what you see? Visit the ' +\n",
              "            '<a target=\"_blank\" href=https://colab.research.google.com/notebooks/data_table.ipynb>data table notebook</a>'\n",
              "            + ' to learn more about interactive tables.';\n",
              "          element.innerHTML = '';\n",
              "          dataTable['output_type'] = 'display_data';\n",
              "          await google.colab.output.renderOutput(dataTable, element);\n",
              "          const docLink = document.createElement('div');\n",
              "          docLink.innerHTML = docLinkHtml;\n",
              "          element.appendChild(docLink);\n",
              "        }\n",
              "      </script>\n",
              "    </div>\n",
              "  </div>\n",
              "  "
            ]
          },
          "metadata": {},
          "execution_count": 10
        }
      ]
    },
    {
      "cell_type": "code",
      "source": [
        "dataset_new = dataset.drop_duplicates(subset=['SMILES'])\n",
        "len(dataset_new)"
      ],
      "metadata": {
        "colab": {
          "base_uri": "https://localhost:8080/"
        },
        "id": "FtLmySs_Tzp_",
        "outputId": "2f4aa3be-f77a-4069-97a9-be0cab2ffdda"
      },
      "execution_count": null,
      "outputs": [
        {
          "output_type": "execute_result",
          "data": {
            "text/plain": [
              "2873"
            ]
          },
          "metadata": {},
          "execution_count": 11
        }
      ]
    },
    {
      "cell_type": "code",
      "source": [
        "dataset_new"
      ],
      "metadata": {
        "colab": {
          "base_uri": "https://localhost:8080/",
          "height": 424
        },
        "id": "U0EXwZpOUD5-",
        "outputId": "f54e5f36-509f-4a5c-a319-5e5deda10feb"
      },
      "execution_count": null,
      "outputs": [
        {
          "output_type": "execute_result",
          "data": {
            "text/plain": [
              "                                            SMILES   Energygap\n",
              "0                              Cc1ccc(C(F)(F)F)cc1  197.749421\n",
              "1                                      O=C(O)CCCCl  247.493942\n",
              "2     CC(C)(Oc1ccc(CCNC(=O)c2ccc(Cl)cc2)cc1)C(=O)O  164.712327\n",
              "3                                Nc1ccc(Cl)c(Cl)c1  169.027707\n",
              "4                            CC(C)=CCC[C@@H](C)CCO  209.569808\n",
              "...                                            ...         ...\n",
              "2899    c1ccc(P(CCP(c2ccccc2)c2ccccc2)c2ccccc2)cc1  168.649319\n",
              "2900                               Brc1cccc2sccc12  162.928319\n",
              "2901               CCOC(=O)N1c2ccccc2C=C[C@@H]1OCC  165.098245\n",
              "2902                                 c1ccc2sccc2c1  167.958431\n",
              "2903                                 Cc1cccc(C)c1O  188.369417\n",
              "\n",
              "[2873 rows x 2 columns]"
            ],
            "text/html": [
              "\n",
              "  <div id=\"df-1134cf1d-4541-464a-a784-e593abf087fa\">\n",
              "    <div class=\"colab-df-container\">\n",
              "      <div>\n",
              "<style scoped>\n",
              "    .dataframe tbody tr th:only-of-type {\n",
              "        vertical-align: middle;\n",
              "    }\n",
              "\n",
              "    .dataframe tbody tr th {\n",
              "        vertical-align: top;\n",
              "    }\n",
              "\n",
              "    .dataframe thead th {\n",
              "        text-align: right;\n",
              "    }\n",
              "</style>\n",
              "<table border=\"1\" class=\"dataframe\">\n",
              "  <thead>\n",
              "    <tr style=\"text-align: right;\">\n",
              "      <th></th>\n",
              "      <th>SMILES</th>\n",
              "      <th>Energygap</th>\n",
              "    </tr>\n",
              "  </thead>\n",
              "  <tbody>\n",
              "    <tr>\n",
              "      <th>0</th>\n",
              "      <td>Cc1ccc(C(F)(F)F)cc1</td>\n",
              "      <td>197.749421</td>\n",
              "    </tr>\n",
              "    <tr>\n",
              "      <th>1</th>\n",
              "      <td>O=C(O)CCCCl</td>\n",
              "      <td>247.493942</td>\n",
              "    </tr>\n",
              "    <tr>\n",
              "      <th>2</th>\n",
              "      <td>CC(C)(Oc1ccc(CCNC(=O)c2ccc(Cl)cc2)cc1)C(=O)O</td>\n",
              "      <td>164.712327</td>\n",
              "    </tr>\n",
              "    <tr>\n",
              "      <th>3</th>\n",
              "      <td>Nc1ccc(Cl)c(Cl)c1</td>\n",
              "      <td>169.027707</td>\n",
              "    </tr>\n",
              "    <tr>\n",
              "      <th>4</th>\n",
              "      <td>CC(C)=CCC[C@@H](C)CCO</td>\n",
              "      <td>209.569808</td>\n",
              "    </tr>\n",
              "    <tr>\n",
              "      <th>...</th>\n",
              "      <td>...</td>\n",
              "      <td>...</td>\n",
              "    </tr>\n",
              "    <tr>\n",
              "      <th>2899</th>\n",
              "      <td>c1ccc(P(CCP(c2ccccc2)c2ccccc2)c2ccccc2)cc1</td>\n",
              "      <td>168.649319</td>\n",
              "    </tr>\n",
              "    <tr>\n",
              "      <th>2900</th>\n",
              "      <td>Brc1cccc2sccc12</td>\n",
              "      <td>162.928319</td>\n",
              "    </tr>\n",
              "    <tr>\n",
              "      <th>2901</th>\n",
              "      <td>CCOC(=O)N1c2ccccc2C=C[C@@H]1OCC</td>\n",
              "      <td>165.098245</td>\n",
              "    </tr>\n",
              "    <tr>\n",
              "      <th>2902</th>\n",
              "      <td>c1ccc2sccc2c1</td>\n",
              "      <td>167.958431</td>\n",
              "    </tr>\n",
              "    <tr>\n",
              "      <th>2903</th>\n",
              "      <td>Cc1cccc(C)c1O</td>\n",
              "      <td>188.369417</td>\n",
              "    </tr>\n",
              "  </tbody>\n",
              "</table>\n",
              "<p>2873 rows × 2 columns</p>\n",
              "</div>\n",
              "      <button class=\"colab-df-convert\" onclick=\"convertToInteractive('df-1134cf1d-4541-464a-a784-e593abf087fa')\"\n",
              "              title=\"Convert this dataframe to an interactive table.\"\n",
              "              style=\"display:none;\">\n",
              "        \n",
              "  <svg xmlns=\"http://www.w3.org/2000/svg\" height=\"24px\"viewBox=\"0 0 24 24\"\n",
              "       width=\"24px\">\n",
              "    <path d=\"M0 0h24v24H0V0z\" fill=\"none\"/>\n",
              "    <path d=\"M18.56 5.44l.94 2.06.94-2.06 2.06-.94-2.06-.94-.94-2.06-.94 2.06-2.06.94zm-11 1L8.5 8.5l.94-2.06 2.06-.94-2.06-.94L8.5 2.5l-.94 2.06-2.06.94zm10 10l.94 2.06.94-2.06 2.06-.94-2.06-.94-.94-2.06-.94 2.06-2.06.94z\"/><path d=\"M17.41 7.96l-1.37-1.37c-.4-.4-.92-.59-1.43-.59-.52 0-1.04.2-1.43.59L10.3 9.45l-7.72 7.72c-.78.78-.78 2.05 0 2.83L4 21.41c.39.39.9.59 1.41.59.51 0 1.02-.2 1.41-.59l7.78-7.78 2.81-2.81c.8-.78.8-2.07 0-2.86zM5.41 20L4 18.59l7.72-7.72 1.47 1.35L5.41 20z\"/>\n",
              "  </svg>\n",
              "      </button>\n",
              "      \n",
              "  <style>\n",
              "    .colab-df-container {\n",
              "      display:flex;\n",
              "      flex-wrap:wrap;\n",
              "      gap: 12px;\n",
              "    }\n",
              "\n",
              "    .colab-df-convert {\n",
              "      background-color: #E8F0FE;\n",
              "      border: none;\n",
              "      border-radius: 50%;\n",
              "      cursor: pointer;\n",
              "      display: none;\n",
              "      fill: #1967D2;\n",
              "      height: 32px;\n",
              "      padding: 0 0 0 0;\n",
              "      width: 32px;\n",
              "    }\n",
              "\n",
              "    .colab-df-convert:hover {\n",
              "      background-color: #E2EBFA;\n",
              "      box-shadow: 0px 1px 2px rgba(60, 64, 67, 0.3), 0px 1px 3px 1px rgba(60, 64, 67, 0.15);\n",
              "      fill: #174EA6;\n",
              "    }\n",
              "\n",
              "    [theme=dark] .colab-df-convert {\n",
              "      background-color: #3B4455;\n",
              "      fill: #D2E3FC;\n",
              "    }\n",
              "\n",
              "    [theme=dark] .colab-df-convert:hover {\n",
              "      background-color: #434B5C;\n",
              "      box-shadow: 0px 1px 3px 1px rgba(0, 0, 0, 0.15);\n",
              "      filter: drop-shadow(0px 1px 2px rgba(0, 0, 0, 0.3));\n",
              "      fill: #FFFFFF;\n",
              "    }\n",
              "  </style>\n",
              "\n",
              "      <script>\n",
              "        const buttonEl =\n",
              "          document.querySelector('#df-1134cf1d-4541-464a-a784-e593abf087fa button.colab-df-convert');\n",
              "        buttonEl.style.display =\n",
              "          google.colab.kernel.accessAllowed ? 'block' : 'none';\n",
              "\n",
              "        async function convertToInteractive(key) {\n",
              "          const element = document.querySelector('#df-1134cf1d-4541-464a-a784-e593abf087fa');\n",
              "          const dataTable =\n",
              "            await google.colab.kernel.invokeFunction('convertToInteractive',\n",
              "                                                     [key], {});\n",
              "          if (!dataTable) return;\n",
              "\n",
              "          const docLinkHtml = 'Like what you see? Visit the ' +\n",
              "            '<a target=\"_blank\" href=https://colab.research.google.com/notebooks/data_table.ipynb>data table notebook</a>'\n",
              "            + ' to learn more about interactive tables.';\n",
              "          element.innerHTML = '';\n",
              "          dataTable['output_type'] = 'display_data';\n",
              "          await google.colab.output.renderOutput(dataTable, element);\n",
              "          const docLink = document.createElement('div');\n",
              "          docLink.innerHTML = docLinkHtml;\n",
              "          element.appendChild(docLink);\n",
              "        }\n",
              "      </script>\n",
              "    </div>\n",
              "  </div>\n",
              "  "
            ]
          },
          "metadata": {},
          "execution_count": 12
        }
      ]
    },
    {
      "cell_type": "markdown",
      "source": [
        "Calculate descriptors using RDkit"
      ],
      "metadata": {
        "id": "Ah220qnOULeF"
      }
    },
    {
      "cell_type": "markdown",
      "source": [
        "### a. General molecular descriptors-about 200 molecular descriptors"
      ],
      "metadata": {
        "id": "DxlHafgQUOdZ"
      }
    },
    {
      "cell_type": "code",
      "source": [
        "def RDkit_descriptors(smiles):\n",
        "    mols = [Chem.MolFromSmiles(i) for i in smiles] \n",
        "    calc = MoleculeDescriptors.MolecularDescriptorCalculator([x[0] for x in Descriptors._descList])\n",
        "    desc_names = calc.GetDescriptorNames()\n",
        "    \n",
        "    Mol_descriptors =[]\n",
        "    for mol in mols:\n",
        "        # add hydrogens to molecules\n",
        "        mol=Chem.AddHs(mol)\n",
        "        # Calculate all 200 descriptors for each molecule\n",
        "        descriptors = calc.CalcDescriptors(mol)\n",
        "        Mol_descriptors.append(descriptors)\n",
        "    return Mol_descriptors,desc_names \n",
        "\n",
        "# Function call\n",
        "Mol_descriptors,desc_names = RDkit_descriptors(dataset_new['SMILES'])"
      ],
      "metadata": {
        "id": "SRp060gXUD_g"
      },
      "execution_count": null,
      "outputs": []
    },
    {
      "cell_type": "code",
      "source": [
        "df_with_200_descriptors = pd.DataFrame(Mol_descriptors,columns=desc_names)\n",
        "df_with_200_descriptors"
      ],
      "metadata": {
        "colab": {
          "base_uri": "https://localhost:8080/",
          "height": 488
        },
        "id": "sw7ND5O_UECE",
        "outputId": "cb693e21-8847-44e0-c787-f20ae8f8212b"
      },
      "execution_count": null,
      "outputs": [
        {
          "output_type": "execute_result",
          "data": {
            "text/plain": [
              "      MaxEStateIndex  MinEStateIndex  MaxAbsEStateIndex  MinAbsEStateIndex  \\\n",
              "0          12.550510       -5.076351          12.550510           1.008796   \n",
              "1          10.676844       -3.333333          10.676844           1.840718   \n",
              "2          13.050084       -4.111425          13.050084           0.722809   \n",
              "3           7.402685       -0.449630           7.402685           0.074321   \n",
              "4           8.095237       -4.484184           8.095237           1.886963   \n",
              "...              ...             ...                ...                ...   \n",
              "2868        9.505488       -3.873136           9.505488           0.973292   \n",
              "2869        7.651157       -0.170718           7.651157           0.017477   \n",
              "2870       13.017078       -3.813937          13.017078           0.325694   \n",
              "2871        7.592407       -0.348333           7.592407           0.030556   \n",
              "2872        7.522616       -2.919676           7.522616           0.821250   \n",
              "\n",
              "           qed    MolWt  HeavyAtomMolWt  ExactMolWt  NumValenceElectrons  \\\n",
              "0     0.546828  160.138         153.082  160.049985                   60   \n",
              "1     0.569323  122.551         115.495  122.013457                   42   \n",
              "2     0.790287  361.825         341.665  361.108086                  132   \n",
              "3     0.582519  162.019         156.979  160.979905                   48   \n",
              "4     0.606746  156.269         136.109  156.151415                   66   \n",
              "...        ...      ...             ...         ...                  ...   \n",
              "2868  0.373065  398.426         374.234  398.135324                  138   \n",
              "2869  0.625891  213.099         208.059  211.929533                   50   \n",
              "2870  0.823664  247.294         230.158  247.120843                   96   \n",
              "2871  0.519376  134.203         128.155  134.019021                   44   \n",
              "2872  0.557704  122.167         112.087  122.073165                   48   \n",
              "\n",
              "      NumRadicalElectrons  ...  fr_sulfide  fr_sulfonamd  fr_sulfone  \\\n",
              "0                       0  ...           0             0           0   \n",
              "1                       0  ...           0             0           0   \n",
              "2                       0  ...           0             0           0   \n",
              "3                       0  ...           0             0           0   \n",
              "4                       0  ...           0             0           0   \n",
              "...                   ...  ...         ...           ...         ...   \n",
              "2868                    0  ...           0             0           0   \n",
              "2869                    0  ...           0             0           0   \n",
              "2870                    0  ...           0             0           0   \n",
              "2871                    0  ...           0             0           0   \n",
              "2872                    0  ...           0             0           0   \n",
              "\n",
              "      fr_term_acetylene  fr_tetrazole  fr_thiazole  fr_thiocyan  fr_thiophene  \\\n",
              "0                     0             0            0            0             0   \n",
              "1                     0             0            0            0             0   \n",
              "2                     0             0            0            0             0   \n",
              "3                     0             0            0            0             0   \n",
              "4                     0             0            0            0             0   \n",
              "...                 ...           ...          ...          ...           ...   \n",
              "2868                  0             0            0            0             0   \n",
              "2869                  0             0            0            0             1   \n",
              "2870                  0             0            0            0             0   \n",
              "2871                  0             0            0            0             1   \n",
              "2872                  0             0            0            0             0   \n",
              "\n",
              "      fr_unbrch_alkane  fr_urea  \n",
              "0                    0        0  \n",
              "1                    0        0  \n",
              "2                    0        0  \n",
              "3                    0        0  \n",
              "4                    0        0  \n",
              "...                ...      ...  \n",
              "2868                 0        0  \n",
              "2869                 0        0  \n",
              "2870                 0        0  \n",
              "2871                 0        0  \n",
              "2872                 0        0  \n",
              "\n",
              "[2873 rows x 208 columns]"
            ],
            "text/html": [
              "\n",
              "  <div id=\"df-ace0232b-0da4-457f-a99a-be905dfd7423\">\n",
              "    <div class=\"colab-df-container\">\n",
              "      <div>\n",
              "<style scoped>\n",
              "    .dataframe tbody tr th:only-of-type {\n",
              "        vertical-align: middle;\n",
              "    }\n",
              "\n",
              "    .dataframe tbody tr th {\n",
              "        vertical-align: top;\n",
              "    }\n",
              "\n",
              "    .dataframe thead th {\n",
              "        text-align: right;\n",
              "    }\n",
              "</style>\n",
              "<table border=\"1\" class=\"dataframe\">\n",
              "  <thead>\n",
              "    <tr style=\"text-align: right;\">\n",
              "      <th></th>\n",
              "      <th>MaxEStateIndex</th>\n",
              "      <th>MinEStateIndex</th>\n",
              "      <th>MaxAbsEStateIndex</th>\n",
              "      <th>MinAbsEStateIndex</th>\n",
              "      <th>qed</th>\n",
              "      <th>MolWt</th>\n",
              "      <th>HeavyAtomMolWt</th>\n",
              "      <th>ExactMolWt</th>\n",
              "      <th>NumValenceElectrons</th>\n",
              "      <th>NumRadicalElectrons</th>\n",
              "      <th>...</th>\n",
              "      <th>fr_sulfide</th>\n",
              "      <th>fr_sulfonamd</th>\n",
              "      <th>fr_sulfone</th>\n",
              "      <th>fr_term_acetylene</th>\n",
              "      <th>fr_tetrazole</th>\n",
              "      <th>fr_thiazole</th>\n",
              "      <th>fr_thiocyan</th>\n",
              "      <th>fr_thiophene</th>\n",
              "      <th>fr_unbrch_alkane</th>\n",
              "      <th>fr_urea</th>\n",
              "    </tr>\n",
              "  </thead>\n",
              "  <tbody>\n",
              "    <tr>\n",
              "      <th>0</th>\n",
              "      <td>12.550510</td>\n",
              "      <td>-5.076351</td>\n",
              "      <td>12.550510</td>\n",
              "      <td>1.008796</td>\n",
              "      <td>0.546828</td>\n",
              "      <td>160.138</td>\n",
              "      <td>153.082</td>\n",
              "      <td>160.049985</td>\n",
              "      <td>60</td>\n",
              "      <td>0</td>\n",
              "      <td>...</td>\n",
              "      <td>0</td>\n",
              "      <td>0</td>\n",
              "      <td>0</td>\n",
              "      <td>0</td>\n",
              "      <td>0</td>\n",
              "      <td>0</td>\n",
              "      <td>0</td>\n",
              "      <td>0</td>\n",
              "      <td>0</td>\n",
              "      <td>0</td>\n",
              "    </tr>\n",
              "    <tr>\n",
              "      <th>1</th>\n",
              "      <td>10.676844</td>\n",
              "      <td>-3.333333</td>\n",
              "      <td>10.676844</td>\n",
              "      <td>1.840718</td>\n",
              "      <td>0.569323</td>\n",
              "      <td>122.551</td>\n",
              "      <td>115.495</td>\n",
              "      <td>122.013457</td>\n",
              "      <td>42</td>\n",
              "      <td>0</td>\n",
              "      <td>...</td>\n",
              "      <td>0</td>\n",
              "      <td>0</td>\n",
              "      <td>0</td>\n",
              "      <td>0</td>\n",
              "      <td>0</td>\n",
              "      <td>0</td>\n",
              "      <td>0</td>\n",
              "      <td>0</td>\n",
              "      <td>0</td>\n",
              "      <td>0</td>\n",
              "    </tr>\n",
              "    <tr>\n",
              "      <th>2</th>\n",
              "      <td>13.050084</td>\n",
              "      <td>-4.111425</td>\n",
              "      <td>13.050084</td>\n",
              "      <td>0.722809</td>\n",
              "      <td>0.790287</td>\n",
              "      <td>361.825</td>\n",
              "      <td>341.665</td>\n",
              "      <td>361.108086</td>\n",
              "      <td>132</td>\n",
              "      <td>0</td>\n",
              "      <td>...</td>\n",
              "      <td>0</td>\n",
              "      <td>0</td>\n",
              "      <td>0</td>\n",
              "      <td>0</td>\n",
              "      <td>0</td>\n",
              "      <td>0</td>\n",
              "      <td>0</td>\n",
              "      <td>0</td>\n",
              "      <td>0</td>\n",
              "      <td>0</td>\n",
              "    </tr>\n",
              "    <tr>\n",
              "      <th>3</th>\n",
              "      <td>7.402685</td>\n",
              "      <td>-0.449630</td>\n",
              "      <td>7.402685</td>\n",
              "      <td>0.074321</td>\n",
              "      <td>0.582519</td>\n",
              "      <td>162.019</td>\n",
              "      <td>156.979</td>\n",
              "      <td>160.979905</td>\n",
              "      <td>48</td>\n",
              "      <td>0</td>\n",
              "      <td>...</td>\n",
              "      <td>0</td>\n",
              "      <td>0</td>\n",
              "      <td>0</td>\n",
              "      <td>0</td>\n",
              "      <td>0</td>\n",
              "      <td>0</td>\n",
              "      <td>0</td>\n",
              "      <td>0</td>\n",
              "      <td>0</td>\n",
              "      <td>0</td>\n",
              "    </tr>\n",
              "    <tr>\n",
              "      <th>4</th>\n",
              "      <td>8.095237</td>\n",
              "      <td>-4.484184</td>\n",
              "      <td>8.095237</td>\n",
              "      <td>1.886963</td>\n",
              "      <td>0.606746</td>\n",
              "      <td>156.269</td>\n",
              "      <td>136.109</td>\n",
              "      <td>156.151415</td>\n",
              "      <td>66</td>\n",
              "      <td>0</td>\n",
              "      <td>...</td>\n",
              "      <td>0</td>\n",
              "      <td>0</td>\n",
              "      <td>0</td>\n",
              "      <td>0</td>\n",
              "      <td>0</td>\n",
              "      <td>0</td>\n",
              "      <td>0</td>\n",
              "      <td>0</td>\n",
              "      <td>0</td>\n",
              "      <td>0</td>\n",
              "    </tr>\n",
              "    <tr>\n",
              "      <th>...</th>\n",
              "      <td>...</td>\n",
              "      <td>...</td>\n",
              "      <td>...</td>\n",
              "      <td>...</td>\n",
              "      <td>...</td>\n",
              "      <td>...</td>\n",
              "      <td>...</td>\n",
              "      <td>...</td>\n",
              "      <td>...</td>\n",
              "      <td>...</td>\n",
              "      <td>...</td>\n",
              "      <td>...</td>\n",
              "      <td>...</td>\n",
              "      <td>...</td>\n",
              "      <td>...</td>\n",
              "      <td>...</td>\n",
              "      <td>...</td>\n",
              "      <td>...</td>\n",
              "      <td>...</td>\n",
              "      <td>...</td>\n",
              "      <td>...</td>\n",
              "    </tr>\n",
              "    <tr>\n",
              "      <th>2868</th>\n",
              "      <td>9.505488</td>\n",
              "      <td>-3.873136</td>\n",
              "      <td>9.505488</td>\n",
              "      <td>0.973292</td>\n",
              "      <td>0.373065</td>\n",
              "      <td>398.426</td>\n",
              "      <td>374.234</td>\n",
              "      <td>398.135324</td>\n",
              "      <td>138</td>\n",
              "      <td>0</td>\n",
              "      <td>...</td>\n",
              "      <td>0</td>\n",
              "      <td>0</td>\n",
              "      <td>0</td>\n",
              "      <td>0</td>\n",
              "      <td>0</td>\n",
              "      <td>0</td>\n",
              "      <td>0</td>\n",
              "      <td>0</td>\n",
              "      <td>0</td>\n",
              "      <td>0</td>\n",
              "    </tr>\n",
              "    <tr>\n",
              "      <th>2869</th>\n",
              "      <td>7.651157</td>\n",
              "      <td>-0.170718</td>\n",
              "      <td>7.651157</td>\n",
              "      <td>0.017477</td>\n",
              "      <td>0.625891</td>\n",
              "      <td>213.099</td>\n",
              "      <td>208.059</td>\n",
              "      <td>211.929533</td>\n",
              "      <td>50</td>\n",
              "      <td>0</td>\n",
              "      <td>...</td>\n",
              "      <td>0</td>\n",
              "      <td>0</td>\n",
              "      <td>0</td>\n",
              "      <td>0</td>\n",
              "      <td>0</td>\n",
              "      <td>0</td>\n",
              "      <td>0</td>\n",
              "      <td>1</td>\n",
              "      <td>0</td>\n",
              "      <td>0</td>\n",
              "    </tr>\n",
              "    <tr>\n",
              "      <th>2870</th>\n",
              "      <td>13.017078</td>\n",
              "      <td>-3.813937</td>\n",
              "      <td>13.017078</td>\n",
              "      <td>0.325694</td>\n",
              "      <td>0.823664</td>\n",
              "      <td>247.294</td>\n",
              "      <td>230.158</td>\n",
              "      <td>247.120843</td>\n",
              "      <td>96</td>\n",
              "      <td>0</td>\n",
              "      <td>...</td>\n",
              "      <td>0</td>\n",
              "      <td>0</td>\n",
              "      <td>0</td>\n",
              "      <td>0</td>\n",
              "      <td>0</td>\n",
              "      <td>0</td>\n",
              "      <td>0</td>\n",
              "      <td>0</td>\n",
              "      <td>0</td>\n",
              "      <td>0</td>\n",
              "    </tr>\n",
              "    <tr>\n",
              "      <th>2871</th>\n",
              "      <td>7.592407</td>\n",
              "      <td>-0.348333</td>\n",
              "      <td>7.592407</td>\n",
              "      <td>0.030556</td>\n",
              "      <td>0.519376</td>\n",
              "      <td>134.203</td>\n",
              "      <td>128.155</td>\n",
              "      <td>134.019021</td>\n",
              "      <td>44</td>\n",
              "      <td>0</td>\n",
              "      <td>...</td>\n",
              "      <td>0</td>\n",
              "      <td>0</td>\n",
              "      <td>0</td>\n",
              "      <td>0</td>\n",
              "      <td>0</td>\n",
              "      <td>0</td>\n",
              "      <td>0</td>\n",
              "      <td>1</td>\n",
              "      <td>0</td>\n",
              "      <td>0</td>\n",
              "    </tr>\n",
              "    <tr>\n",
              "      <th>2872</th>\n",
              "      <td>7.522616</td>\n",
              "      <td>-2.919676</td>\n",
              "      <td>7.522616</td>\n",
              "      <td>0.821250</td>\n",
              "      <td>0.557704</td>\n",
              "      <td>122.167</td>\n",
              "      <td>112.087</td>\n",
              "      <td>122.073165</td>\n",
              "      <td>48</td>\n",
              "      <td>0</td>\n",
              "      <td>...</td>\n",
              "      <td>0</td>\n",
              "      <td>0</td>\n",
              "      <td>0</td>\n",
              "      <td>0</td>\n",
              "      <td>0</td>\n",
              "      <td>0</td>\n",
              "      <td>0</td>\n",
              "      <td>0</td>\n",
              "      <td>0</td>\n",
              "      <td>0</td>\n",
              "    </tr>\n",
              "  </tbody>\n",
              "</table>\n",
              "<p>2873 rows × 208 columns</p>\n",
              "</div>\n",
              "      <button class=\"colab-df-convert\" onclick=\"convertToInteractive('df-ace0232b-0da4-457f-a99a-be905dfd7423')\"\n",
              "              title=\"Convert this dataframe to an interactive table.\"\n",
              "              style=\"display:none;\">\n",
              "        \n",
              "  <svg xmlns=\"http://www.w3.org/2000/svg\" height=\"24px\"viewBox=\"0 0 24 24\"\n",
              "       width=\"24px\">\n",
              "    <path d=\"M0 0h24v24H0V0z\" fill=\"none\"/>\n",
              "    <path d=\"M18.56 5.44l.94 2.06.94-2.06 2.06-.94-2.06-.94-.94-2.06-.94 2.06-2.06.94zm-11 1L8.5 8.5l.94-2.06 2.06-.94-2.06-.94L8.5 2.5l-.94 2.06-2.06.94zm10 10l.94 2.06.94-2.06 2.06-.94-2.06-.94-.94-2.06-.94 2.06-2.06.94z\"/><path d=\"M17.41 7.96l-1.37-1.37c-.4-.4-.92-.59-1.43-.59-.52 0-1.04.2-1.43.59L10.3 9.45l-7.72 7.72c-.78.78-.78 2.05 0 2.83L4 21.41c.39.39.9.59 1.41.59.51 0 1.02-.2 1.41-.59l7.78-7.78 2.81-2.81c.8-.78.8-2.07 0-2.86zM5.41 20L4 18.59l7.72-7.72 1.47 1.35L5.41 20z\"/>\n",
              "  </svg>\n",
              "      </button>\n",
              "      \n",
              "  <style>\n",
              "    .colab-df-container {\n",
              "      display:flex;\n",
              "      flex-wrap:wrap;\n",
              "      gap: 12px;\n",
              "    }\n",
              "\n",
              "    .colab-df-convert {\n",
              "      background-color: #E8F0FE;\n",
              "      border: none;\n",
              "      border-radius: 50%;\n",
              "      cursor: pointer;\n",
              "      display: none;\n",
              "      fill: #1967D2;\n",
              "      height: 32px;\n",
              "      padding: 0 0 0 0;\n",
              "      width: 32px;\n",
              "    }\n",
              "\n",
              "    .colab-df-convert:hover {\n",
              "      background-color: #E2EBFA;\n",
              "      box-shadow: 0px 1px 2px rgba(60, 64, 67, 0.3), 0px 1px 3px 1px rgba(60, 64, 67, 0.15);\n",
              "      fill: #174EA6;\n",
              "    }\n",
              "\n",
              "    [theme=dark] .colab-df-convert {\n",
              "      background-color: #3B4455;\n",
              "      fill: #D2E3FC;\n",
              "    }\n",
              "\n",
              "    [theme=dark] .colab-df-convert:hover {\n",
              "      background-color: #434B5C;\n",
              "      box-shadow: 0px 1px 3px 1px rgba(0, 0, 0, 0.15);\n",
              "      filter: drop-shadow(0px 1px 2px rgba(0, 0, 0, 0.3));\n",
              "      fill: #FFFFFF;\n",
              "    }\n",
              "  </style>\n",
              "\n",
              "      <script>\n",
              "        const buttonEl =\n",
              "          document.querySelector('#df-ace0232b-0da4-457f-a99a-be905dfd7423 button.colab-df-convert');\n",
              "        buttonEl.style.display =\n",
              "          google.colab.kernel.accessAllowed ? 'block' : 'none';\n",
              "\n",
              "        async function convertToInteractive(key) {\n",
              "          const element = document.querySelector('#df-ace0232b-0da4-457f-a99a-be905dfd7423');\n",
              "          const dataTable =\n",
              "            await google.colab.kernel.invokeFunction('convertToInteractive',\n",
              "                                                     [key], {});\n",
              "          if (!dataTable) return;\n",
              "\n",
              "          const docLinkHtml = 'Like what you see? Visit the ' +\n",
              "            '<a target=\"_blank\" href=https://colab.research.google.com/notebooks/data_table.ipynb>data table notebook</a>'\n",
              "            + ' to learn more about interactive tables.';\n",
              "          element.innerHTML = '';\n",
              "          dataTable['output_type'] = 'display_data';\n",
              "          await google.colab.output.renderOutput(dataTable, element);\n",
              "          const docLink = document.createElement('div');\n",
              "          docLink.innerHTML = docLinkHtml;\n",
              "          element.appendChild(docLink);\n",
              "        }\n",
              "      </script>\n",
              "    </div>\n",
              "  </div>\n",
              "  "
            ]
          },
          "metadata": {},
          "execution_count": 14
        }
      ]
    },
    {
      "cell_type": "markdown",
      "source": [
        "b. Fingerprints"
      ],
      "metadata": {
        "id": "jSVYkZ3sUWtO"
      }
    },
    {
      "cell_type": "code",
      "source": [
        "def morgan_fpts(data):\n",
        "    Morgan_fpts = []\n",
        "    for i in data:\n",
        "        mol = Chem.MolFromSmiles(i) \n",
        "        fpts =  AllChem.GetMorganFingerprintAsBitVect(mol,2,2048)\n",
        "        mfpts = np.array(fpts)\n",
        "        Morgan_fpts.append(mfpts)  \n",
        "    return np.array(Morgan_fpts)"
      ],
      "metadata": {
        "id": "HTpjj7PhUT3N"
      },
      "execution_count": null,
      "outputs": []
    },
    {
      "cell_type": "code",
      "source": [
        "Morgan_fpts = morgan_fpts(dataset_new['SMILES'])\n",
        "Morgan_fpts.shape"
      ],
      "metadata": {
        "colab": {
          "base_uri": "https://localhost:8080/"
        },
        "id": "5Ho05NBqUT50",
        "outputId": "de4ebf8a-de79-47c3-c13e-6d4b0103a6b0"
      },
      "execution_count": null,
      "outputs": [
        {
          "output_type": "execute_result",
          "data": {
            "text/plain": [
              "(2873, 2048)"
            ]
          },
          "metadata": {},
          "execution_count": 16
        }
      ]
    },
    {
      "cell_type": "code",
      "source": [
        "Morgan_fingerprints = pd.DataFrame(Morgan_fpts,columns=['Col_{}'.format(i) for i in range(Morgan_fpts.shape[1])])\n",
        "Morgan_fingerprints"
      ],
      "metadata": {
        "colab": {
          "base_uri": "https://localhost:8080/",
          "height": 488
        },
        "id": "JEF-6UXvUT8s",
        "outputId": "7d4850d6-4b32-4635-949d-1553bb12990b"
      },
      "execution_count": null,
      "outputs": [
        {
          "output_type": "execute_result",
          "data": {
            "text/plain": [
              "      Col_0  Col_1  Col_2  Col_3  Col_4  Col_5  Col_6  Col_7  Col_8  Col_9  \\\n",
              "0         0      0      0      0      0      0      0      0      0      0   \n",
              "1         0      0      0      0      0      0      0      0      0      0   \n",
              "2         0      0      0      0      0      0      0      0      1      0   \n",
              "3         0      0      0      0      0      0      0      0      0      0   \n",
              "4         0      1      0      0      0      0      0      0      0      0   \n",
              "...     ...    ...    ...    ...    ...    ...    ...    ...    ...    ...   \n",
              "2868      0      0      0      0      0      0      0      0      0      0   \n",
              "2869      0      0      0      0      0      0      0      0      0      0   \n",
              "2870      0      0      0      0      0      0      0      0      0      0   \n",
              "2871      0      0      0      0      0      0      0      0      0      0   \n",
              "2872      0      0      0      0      0      0      0      0      0      0   \n",
              "\n",
              "      ...  Col_2038  Col_2039  Col_2040  Col_2041  Col_2042  Col_2043  \\\n",
              "0     ...         0         0         0         0         0         0   \n",
              "1     ...         0         0         0         0         0         0   \n",
              "2     ...         0         0         0         0         0         0   \n",
              "3     ...         0         0         0         0         0         0   \n",
              "4     ...         0         0         0         0         0         0   \n",
              "...   ...       ...       ...       ...       ...       ...       ...   \n",
              "2868  ...         0         0         0         0         0         0   \n",
              "2869  ...         0         0         0         0         0         0   \n",
              "2870  ...         0         0         0         0         0         0   \n",
              "2871  ...         0         0         0         0         0         0   \n",
              "2872  ...         0         0         0         0         0         0   \n",
              "\n",
              "      Col_2044  Col_2045  Col_2046  Col_2047  \n",
              "0            0         0         0         0  \n",
              "1            0         0         0         0  \n",
              "2            0         0         0         0  \n",
              "3            0         0         0         0  \n",
              "4            0         0         0         0  \n",
              "...        ...       ...       ...       ...  \n",
              "2868         0         0         0         0  \n",
              "2869         0         0         0         0  \n",
              "2870         0         0         0         0  \n",
              "2871         0         0         0         0  \n",
              "2872         0         0         0         0  \n",
              "\n",
              "[2873 rows x 2048 columns]"
            ],
            "text/html": [
              "\n",
              "  <div id=\"df-e740a793-f091-4250-b094-c5dd6df7bf51\">\n",
              "    <div class=\"colab-df-container\">\n",
              "      <div>\n",
              "<style scoped>\n",
              "    .dataframe tbody tr th:only-of-type {\n",
              "        vertical-align: middle;\n",
              "    }\n",
              "\n",
              "    .dataframe tbody tr th {\n",
              "        vertical-align: top;\n",
              "    }\n",
              "\n",
              "    .dataframe thead th {\n",
              "        text-align: right;\n",
              "    }\n",
              "</style>\n",
              "<table border=\"1\" class=\"dataframe\">\n",
              "  <thead>\n",
              "    <tr style=\"text-align: right;\">\n",
              "      <th></th>\n",
              "      <th>Col_0</th>\n",
              "      <th>Col_1</th>\n",
              "      <th>Col_2</th>\n",
              "      <th>Col_3</th>\n",
              "      <th>Col_4</th>\n",
              "      <th>Col_5</th>\n",
              "      <th>Col_6</th>\n",
              "      <th>Col_7</th>\n",
              "      <th>Col_8</th>\n",
              "      <th>Col_9</th>\n",
              "      <th>...</th>\n",
              "      <th>Col_2038</th>\n",
              "      <th>Col_2039</th>\n",
              "      <th>Col_2040</th>\n",
              "      <th>Col_2041</th>\n",
              "      <th>Col_2042</th>\n",
              "      <th>Col_2043</th>\n",
              "      <th>Col_2044</th>\n",
              "      <th>Col_2045</th>\n",
              "      <th>Col_2046</th>\n",
              "      <th>Col_2047</th>\n",
              "    </tr>\n",
              "  </thead>\n",
              "  <tbody>\n",
              "    <tr>\n",
              "      <th>0</th>\n",
              "      <td>0</td>\n",
              "      <td>0</td>\n",
              "      <td>0</td>\n",
              "      <td>0</td>\n",
              "      <td>0</td>\n",
              "      <td>0</td>\n",
              "      <td>0</td>\n",
              "      <td>0</td>\n",
              "      <td>0</td>\n",
              "      <td>0</td>\n",
              "      <td>...</td>\n",
              "      <td>0</td>\n",
              "      <td>0</td>\n",
              "      <td>0</td>\n",
              "      <td>0</td>\n",
              "      <td>0</td>\n",
              "      <td>0</td>\n",
              "      <td>0</td>\n",
              "      <td>0</td>\n",
              "      <td>0</td>\n",
              "      <td>0</td>\n",
              "    </tr>\n",
              "    <tr>\n",
              "      <th>1</th>\n",
              "      <td>0</td>\n",
              "      <td>0</td>\n",
              "      <td>0</td>\n",
              "      <td>0</td>\n",
              "      <td>0</td>\n",
              "      <td>0</td>\n",
              "      <td>0</td>\n",
              "      <td>0</td>\n",
              "      <td>0</td>\n",
              "      <td>0</td>\n",
              "      <td>...</td>\n",
              "      <td>0</td>\n",
              "      <td>0</td>\n",
              "      <td>0</td>\n",
              "      <td>0</td>\n",
              "      <td>0</td>\n",
              "      <td>0</td>\n",
              "      <td>0</td>\n",
              "      <td>0</td>\n",
              "      <td>0</td>\n",
              "      <td>0</td>\n",
              "    </tr>\n",
              "    <tr>\n",
              "      <th>2</th>\n",
              "      <td>0</td>\n",
              "      <td>0</td>\n",
              "      <td>0</td>\n",
              "      <td>0</td>\n",
              "      <td>0</td>\n",
              "      <td>0</td>\n",
              "      <td>0</td>\n",
              "      <td>0</td>\n",
              "      <td>1</td>\n",
              "      <td>0</td>\n",
              "      <td>...</td>\n",
              "      <td>0</td>\n",
              "      <td>0</td>\n",
              "      <td>0</td>\n",
              "      <td>0</td>\n",
              "      <td>0</td>\n",
              "      <td>0</td>\n",
              "      <td>0</td>\n",
              "      <td>0</td>\n",
              "      <td>0</td>\n",
              "      <td>0</td>\n",
              "    </tr>\n",
              "    <tr>\n",
              "      <th>3</th>\n",
              "      <td>0</td>\n",
              "      <td>0</td>\n",
              "      <td>0</td>\n",
              "      <td>0</td>\n",
              "      <td>0</td>\n",
              "      <td>0</td>\n",
              "      <td>0</td>\n",
              "      <td>0</td>\n",
              "      <td>0</td>\n",
              "      <td>0</td>\n",
              "      <td>...</td>\n",
              "      <td>0</td>\n",
              "      <td>0</td>\n",
              "      <td>0</td>\n",
              "      <td>0</td>\n",
              "      <td>0</td>\n",
              "      <td>0</td>\n",
              "      <td>0</td>\n",
              "      <td>0</td>\n",
              "      <td>0</td>\n",
              "      <td>0</td>\n",
              "    </tr>\n",
              "    <tr>\n",
              "      <th>4</th>\n",
              "      <td>0</td>\n",
              "      <td>1</td>\n",
              "      <td>0</td>\n",
              "      <td>0</td>\n",
              "      <td>0</td>\n",
              "      <td>0</td>\n",
              "      <td>0</td>\n",
              "      <td>0</td>\n",
              "      <td>0</td>\n",
              "      <td>0</td>\n",
              "      <td>...</td>\n",
              "      <td>0</td>\n",
              "      <td>0</td>\n",
              "      <td>0</td>\n",
              "      <td>0</td>\n",
              "      <td>0</td>\n",
              "      <td>0</td>\n",
              "      <td>0</td>\n",
              "      <td>0</td>\n",
              "      <td>0</td>\n",
              "      <td>0</td>\n",
              "    </tr>\n",
              "    <tr>\n",
              "      <th>...</th>\n",
              "      <td>...</td>\n",
              "      <td>...</td>\n",
              "      <td>...</td>\n",
              "      <td>...</td>\n",
              "      <td>...</td>\n",
              "      <td>...</td>\n",
              "      <td>...</td>\n",
              "      <td>...</td>\n",
              "      <td>...</td>\n",
              "      <td>...</td>\n",
              "      <td>...</td>\n",
              "      <td>...</td>\n",
              "      <td>...</td>\n",
              "      <td>...</td>\n",
              "      <td>...</td>\n",
              "      <td>...</td>\n",
              "      <td>...</td>\n",
              "      <td>...</td>\n",
              "      <td>...</td>\n",
              "      <td>...</td>\n",
              "      <td>...</td>\n",
              "    </tr>\n",
              "    <tr>\n",
              "      <th>2868</th>\n",
              "      <td>0</td>\n",
              "      <td>0</td>\n",
              "      <td>0</td>\n",
              "      <td>0</td>\n",
              "      <td>0</td>\n",
              "      <td>0</td>\n",
              "      <td>0</td>\n",
              "      <td>0</td>\n",
              "      <td>0</td>\n",
              "      <td>0</td>\n",
              "      <td>...</td>\n",
              "      <td>0</td>\n",
              "      <td>0</td>\n",
              "      <td>0</td>\n",
              "      <td>0</td>\n",
              "      <td>0</td>\n",
              "      <td>0</td>\n",
              "      <td>0</td>\n",
              "      <td>0</td>\n",
              "      <td>0</td>\n",
              "      <td>0</td>\n",
              "    </tr>\n",
              "    <tr>\n",
              "      <th>2869</th>\n",
              "      <td>0</td>\n",
              "      <td>0</td>\n",
              "      <td>0</td>\n",
              "      <td>0</td>\n",
              "      <td>0</td>\n",
              "      <td>0</td>\n",
              "      <td>0</td>\n",
              "      <td>0</td>\n",
              "      <td>0</td>\n",
              "      <td>0</td>\n",
              "      <td>...</td>\n",
              "      <td>0</td>\n",
              "      <td>0</td>\n",
              "      <td>0</td>\n",
              "      <td>0</td>\n",
              "      <td>0</td>\n",
              "      <td>0</td>\n",
              "      <td>0</td>\n",
              "      <td>0</td>\n",
              "      <td>0</td>\n",
              "      <td>0</td>\n",
              "    </tr>\n",
              "    <tr>\n",
              "      <th>2870</th>\n",
              "      <td>0</td>\n",
              "      <td>0</td>\n",
              "      <td>0</td>\n",
              "      <td>0</td>\n",
              "      <td>0</td>\n",
              "      <td>0</td>\n",
              "      <td>0</td>\n",
              "      <td>0</td>\n",
              "      <td>0</td>\n",
              "      <td>0</td>\n",
              "      <td>...</td>\n",
              "      <td>0</td>\n",
              "      <td>0</td>\n",
              "      <td>0</td>\n",
              "      <td>0</td>\n",
              "      <td>0</td>\n",
              "      <td>0</td>\n",
              "      <td>0</td>\n",
              "      <td>0</td>\n",
              "      <td>0</td>\n",
              "      <td>0</td>\n",
              "    </tr>\n",
              "    <tr>\n",
              "      <th>2871</th>\n",
              "      <td>0</td>\n",
              "      <td>0</td>\n",
              "      <td>0</td>\n",
              "      <td>0</td>\n",
              "      <td>0</td>\n",
              "      <td>0</td>\n",
              "      <td>0</td>\n",
              "      <td>0</td>\n",
              "      <td>0</td>\n",
              "      <td>0</td>\n",
              "      <td>...</td>\n",
              "      <td>0</td>\n",
              "      <td>0</td>\n",
              "      <td>0</td>\n",
              "      <td>0</td>\n",
              "      <td>0</td>\n",
              "      <td>0</td>\n",
              "      <td>0</td>\n",
              "      <td>0</td>\n",
              "      <td>0</td>\n",
              "      <td>0</td>\n",
              "    </tr>\n",
              "    <tr>\n",
              "      <th>2872</th>\n",
              "      <td>0</td>\n",
              "      <td>0</td>\n",
              "      <td>0</td>\n",
              "      <td>0</td>\n",
              "      <td>0</td>\n",
              "      <td>0</td>\n",
              "      <td>0</td>\n",
              "      <td>0</td>\n",
              "      <td>0</td>\n",
              "      <td>0</td>\n",
              "      <td>...</td>\n",
              "      <td>0</td>\n",
              "      <td>0</td>\n",
              "      <td>0</td>\n",
              "      <td>0</td>\n",
              "      <td>0</td>\n",
              "      <td>0</td>\n",
              "      <td>0</td>\n",
              "      <td>0</td>\n",
              "      <td>0</td>\n",
              "      <td>0</td>\n",
              "    </tr>\n",
              "  </tbody>\n",
              "</table>\n",
              "<p>2873 rows × 2048 columns</p>\n",
              "</div>\n",
              "      <button class=\"colab-df-convert\" onclick=\"convertToInteractive('df-e740a793-f091-4250-b094-c5dd6df7bf51')\"\n",
              "              title=\"Convert this dataframe to an interactive table.\"\n",
              "              style=\"display:none;\">\n",
              "        \n",
              "  <svg xmlns=\"http://www.w3.org/2000/svg\" height=\"24px\"viewBox=\"0 0 24 24\"\n",
              "       width=\"24px\">\n",
              "    <path d=\"M0 0h24v24H0V0z\" fill=\"none\"/>\n",
              "    <path d=\"M18.56 5.44l.94 2.06.94-2.06 2.06-.94-2.06-.94-.94-2.06-.94 2.06-2.06.94zm-11 1L8.5 8.5l.94-2.06 2.06-.94-2.06-.94L8.5 2.5l-.94 2.06-2.06.94zm10 10l.94 2.06.94-2.06 2.06-.94-2.06-.94-.94-2.06-.94 2.06-2.06.94z\"/><path d=\"M17.41 7.96l-1.37-1.37c-.4-.4-.92-.59-1.43-.59-.52 0-1.04.2-1.43.59L10.3 9.45l-7.72 7.72c-.78.78-.78 2.05 0 2.83L4 21.41c.39.39.9.59 1.41.59.51 0 1.02-.2 1.41-.59l7.78-7.78 2.81-2.81c.8-.78.8-2.07 0-2.86zM5.41 20L4 18.59l7.72-7.72 1.47 1.35L5.41 20z\"/>\n",
              "  </svg>\n",
              "      </button>\n",
              "      \n",
              "  <style>\n",
              "    .colab-df-container {\n",
              "      display:flex;\n",
              "      flex-wrap:wrap;\n",
              "      gap: 12px;\n",
              "    }\n",
              "\n",
              "    .colab-df-convert {\n",
              "      background-color: #E8F0FE;\n",
              "      border: none;\n",
              "      border-radius: 50%;\n",
              "      cursor: pointer;\n",
              "      display: none;\n",
              "      fill: #1967D2;\n",
              "      height: 32px;\n",
              "      padding: 0 0 0 0;\n",
              "      width: 32px;\n",
              "    }\n",
              "\n",
              "    .colab-df-convert:hover {\n",
              "      background-color: #E2EBFA;\n",
              "      box-shadow: 0px 1px 2px rgba(60, 64, 67, 0.3), 0px 1px 3px 1px rgba(60, 64, 67, 0.15);\n",
              "      fill: #174EA6;\n",
              "    }\n",
              "\n",
              "    [theme=dark] .colab-df-convert {\n",
              "      background-color: #3B4455;\n",
              "      fill: #D2E3FC;\n",
              "    }\n",
              "\n",
              "    [theme=dark] .colab-df-convert:hover {\n",
              "      background-color: #434B5C;\n",
              "      box-shadow: 0px 1px 3px 1px rgba(0, 0, 0, 0.15);\n",
              "      filter: drop-shadow(0px 1px 2px rgba(0, 0, 0, 0.3));\n",
              "      fill: #FFFFFF;\n",
              "    }\n",
              "  </style>\n",
              "\n",
              "      <script>\n",
              "        const buttonEl =\n",
              "          document.querySelector('#df-e740a793-f091-4250-b094-c5dd6df7bf51 button.colab-df-convert');\n",
              "        buttonEl.style.display =\n",
              "          google.colab.kernel.accessAllowed ? 'block' : 'none';\n",
              "\n",
              "        async function convertToInteractive(key) {\n",
              "          const element = document.querySelector('#df-e740a793-f091-4250-b094-c5dd6df7bf51');\n",
              "          const dataTable =\n",
              "            await google.colab.kernel.invokeFunction('convertToInteractive',\n",
              "                                                     [key], {});\n",
              "          if (!dataTable) return;\n",
              "\n",
              "          const docLinkHtml = 'Like what you see? Visit the ' +\n",
              "            '<a target=\"_blank\" href=https://colab.research.google.com/notebooks/data_table.ipynb>data table notebook</a>'\n",
              "            + ' to learn more about interactive tables.';\n",
              "          element.innerHTML = '';\n",
              "          dataTable['output_type'] = 'display_data';\n",
              "          await google.colab.output.renderOutput(dataTable, element);\n",
              "          const docLink = document.createElement('div');\n",
              "          docLink.innerHTML = docLinkHtml;\n",
              "          element.appendChild(docLink);\n",
              "        }\n",
              "      </script>\n",
              "    </div>\n",
              "  </div>\n",
              "  "
            ]
          },
          "metadata": {},
          "execution_count": 17
        }
      ]
    },
    {
      "cell_type": "code",
      "source": [
        "def All_Mordred_descriptors(data):\n",
        "    calc = Calculator(descriptors, ignore_3D=False)\n",
        "    mols = [Chem.MolFromSmiles(smi) for smi in data]\n",
        "    \n",
        "    # pandas df\n",
        "    df = calc.pandas(mols)\n",
        "    return df"
      ],
      "metadata": {
        "id": "AdK1ug-GUT_U"
      },
      "execution_count": null,
      "outputs": []
    },
    {
      "cell_type": "code",
      "source": [
        "mordred_descriptors = All_Mordred_descriptors(dataset_new['SMILES'])"
      ],
      "metadata": {
        "colab": {
          "base_uri": "https://localhost:8080/"
        },
        "id": "H94LJ--QUd32",
        "outputId": "b4d60d0d-474a-4e52-a54a-71165dd0c9ad"
      },
      "execution_count": null,
      "outputs": [
        {
          "output_type": "stream",
          "name": "stderr",
          "text": [
            "100%|██████████| 2873/2873 [09:43<00:00,  4.92it/s]\n"
          ]
        }
      ]
    },
    {
      "cell_type": "code",
      "source": [
        "mordred_descriptors"
      ],
      "metadata": {
        "colab": {
          "base_uri": "https://localhost:8080/",
          "height": 488
        },
        "id": "26mPUHVXUd6t",
        "outputId": "711cf19c-69ba-4b2a-8615-13c45ae74640"
      },
      "execution_count": null,
      "outputs": [
        {
          "output_type": "execute_result",
          "data": {
            "text/plain": [
              "            ABC      ABCGG  nAcid  nBase    SpAbs_A   SpMax_A  SpDiam_A  \\\n",
              "0      8.302711   7.763360      0      0  12.527341  2.311476  4.622953   \n",
              "1      4.461420   4.736714      1      0   7.727407  1.931852  3.863703   \n",
              "2     19.038123  14.818400      1      0  30.648742  2.324224  4.648448   \n",
              "3      6.651690   6.355891      0      0  10.792280  2.245827  4.491654   \n",
              "4      7.399237   7.388977      0      0  12.133645  2.047810  4.095621   \n",
              "...         ...        ...    ...    ...        ...       ...       ...   \n",
              "2868  21.758550  17.000581      0      0  38.253985  2.374938  4.749876   \n",
              "2869   7.806684   7.343579      0      0  13.098358  2.369838  4.633950   \n",
              "2870  13.382658  11.741399      0      0  22.978744  2.442763  4.885526   \n",
              "2871   7.030628   6.547610      0      0  12.170709  2.322596  4.516123   \n",
              "2872   6.611250   6.419894      0      0  10.891331  2.263821  4.527642   \n",
              "\n",
              "         SpAD_A   SpMAD_A   LogEE_A  ...      SRW10     TSRW10          MW  \\\n",
              "0     12.527341  1.138849  3.302522  ...   9.182249  41.326257  160.049985   \n",
              "1      7.727407  1.103915  2.752227  ...   7.321850  31.336140  122.013457   \n",
              "2     30.648742  1.225950  4.118873  ...   9.931735  59.295845  361.108086   \n",
              "3     10.792280  1.199142  3.099448  ...   8.806724  37.839725  160.979905   \n",
              "4     12.133645  1.103059  3.219224  ...   8.131825  38.565088  156.151415   \n",
              "...         ...       ...       ...  ...        ...        ...         ...   \n",
              "2868  38.253985  1.366214  4.258939  ...  10.073357  62.971588  398.135324   \n",
              "2869  13.098358  1.309836  3.261311  ...   9.161465  53.745115  211.929533   \n",
              "2870  22.978744  1.276597  3.800055  ...   9.763593  50.871918  247.120843   \n",
              "2871  12.170709  1.352301  3.160409  ...   8.914761  51.887188  134.019021   \n",
              "2872  10.891331  1.210148  3.099901  ...   8.876126  37.975562  122.073165   \n",
              "\n",
              "            AMW  WPath WPol  Zagreb1  Zagreb2  mZagreb1  mZagreb2  \n",
              "0      8.891666    152   13     54.0     59.0  5.284722  2.333333  \n",
              "1      8.715247     52    4     24.0     22.0  3.861111  1.833333  \n",
              "2      8.024624   1882   35    124.0    139.0  9.729167  5.486111  \n",
              "3     11.498565     84   10     42.0     46.0  4.083333  2.027778  \n",
              "4      5.037142    194    9     42.0     41.0  5.472222  2.750000  \n",
              "...         ...    ...  ...      ...      ...       ...       ...  \n",
              "2868   7.656449   2014   41    142.0    164.0  6.166667  6.361111  \n",
              "2869  14.128636    105   12     52.0     61.0  2.833333  2.222222  \n",
              "2870   7.060596    574   28     88.0    103.0  6.055556  4.277778  \n",
              "2871   8.934601     79    9     46.0     53.0  1.972222  2.027778  \n",
              "2872   6.424903     82   11     42.0     47.0  4.083333  2.055556  \n",
              "\n",
              "[2873 rows x 1826 columns]"
            ],
            "text/html": [
              "\n",
              "  <div id=\"df-80221529-d25c-4d0b-b796-d6389144faed\">\n",
              "    <div class=\"colab-df-container\">\n",
              "      <div>\n",
              "<style scoped>\n",
              "    .dataframe tbody tr th:only-of-type {\n",
              "        vertical-align: middle;\n",
              "    }\n",
              "\n",
              "    .dataframe tbody tr th {\n",
              "        vertical-align: top;\n",
              "    }\n",
              "\n",
              "    .dataframe thead th {\n",
              "        text-align: right;\n",
              "    }\n",
              "</style>\n",
              "<table border=\"1\" class=\"dataframe\">\n",
              "  <thead>\n",
              "    <tr style=\"text-align: right;\">\n",
              "      <th></th>\n",
              "      <th>ABC</th>\n",
              "      <th>ABCGG</th>\n",
              "      <th>nAcid</th>\n",
              "      <th>nBase</th>\n",
              "      <th>SpAbs_A</th>\n",
              "      <th>SpMax_A</th>\n",
              "      <th>SpDiam_A</th>\n",
              "      <th>SpAD_A</th>\n",
              "      <th>SpMAD_A</th>\n",
              "      <th>LogEE_A</th>\n",
              "      <th>...</th>\n",
              "      <th>SRW10</th>\n",
              "      <th>TSRW10</th>\n",
              "      <th>MW</th>\n",
              "      <th>AMW</th>\n",
              "      <th>WPath</th>\n",
              "      <th>WPol</th>\n",
              "      <th>Zagreb1</th>\n",
              "      <th>Zagreb2</th>\n",
              "      <th>mZagreb1</th>\n",
              "      <th>mZagreb2</th>\n",
              "    </tr>\n",
              "  </thead>\n",
              "  <tbody>\n",
              "    <tr>\n",
              "      <th>0</th>\n",
              "      <td>8.302711</td>\n",
              "      <td>7.763360</td>\n",
              "      <td>0</td>\n",
              "      <td>0</td>\n",
              "      <td>12.527341</td>\n",
              "      <td>2.311476</td>\n",
              "      <td>4.622953</td>\n",
              "      <td>12.527341</td>\n",
              "      <td>1.138849</td>\n",
              "      <td>3.302522</td>\n",
              "      <td>...</td>\n",
              "      <td>9.182249</td>\n",
              "      <td>41.326257</td>\n",
              "      <td>160.049985</td>\n",
              "      <td>8.891666</td>\n",
              "      <td>152</td>\n",
              "      <td>13</td>\n",
              "      <td>54.0</td>\n",
              "      <td>59.0</td>\n",
              "      <td>5.284722</td>\n",
              "      <td>2.333333</td>\n",
              "    </tr>\n",
              "    <tr>\n",
              "      <th>1</th>\n",
              "      <td>4.461420</td>\n",
              "      <td>4.736714</td>\n",
              "      <td>1</td>\n",
              "      <td>0</td>\n",
              "      <td>7.727407</td>\n",
              "      <td>1.931852</td>\n",
              "      <td>3.863703</td>\n",
              "      <td>7.727407</td>\n",
              "      <td>1.103915</td>\n",
              "      <td>2.752227</td>\n",
              "      <td>...</td>\n",
              "      <td>7.321850</td>\n",
              "      <td>31.336140</td>\n",
              "      <td>122.013457</td>\n",
              "      <td>8.715247</td>\n",
              "      <td>52</td>\n",
              "      <td>4</td>\n",
              "      <td>24.0</td>\n",
              "      <td>22.0</td>\n",
              "      <td>3.861111</td>\n",
              "      <td>1.833333</td>\n",
              "    </tr>\n",
              "    <tr>\n",
              "      <th>2</th>\n",
              "      <td>19.038123</td>\n",
              "      <td>14.818400</td>\n",
              "      <td>1</td>\n",
              "      <td>0</td>\n",
              "      <td>30.648742</td>\n",
              "      <td>2.324224</td>\n",
              "      <td>4.648448</td>\n",
              "      <td>30.648742</td>\n",
              "      <td>1.225950</td>\n",
              "      <td>4.118873</td>\n",
              "      <td>...</td>\n",
              "      <td>9.931735</td>\n",
              "      <td>59.295845</td>\n",
              "      <td>361.108086</td>\n",
              "      <td>8.024624</td>\n",
              "      <td>1882</td>\n",
              "      <td>35</td>\n",
              "      <td>124.0</td>\n",
              "      <td>139.0</td>\n",
              "      <td>9.729167</td>\n",
              "      <td>5.486111</td>\n",
              "    </tr>\n",
              "    <tr>\n",
              "      <th>3</th>\n",
              "      <td>6.651690</td>\n",
              "      <td>6.355891</td>\n",
              "      <td>0</td>\n",
              "      <td>0</td>\n",
              "      <td>10.792280</td>\n",
              "      <td>2.245827</td>\n",
              "      <td>4.491654</td>\n",
              "      <td>10.792280</td>\n",
              "      <td>1.199142</td>\n",
              "      <td>3.099448</td>\n",
              "      <td>...</td>\n",
              "      <td>8.806724</td>\n",
              "      <td>37.839725</td>\n",
              "      <td>160.979905</td>\n",
              "      <td>11.498565</td>\n",
              "      <td>84</td>\n",
              "      <td>10</td>\n",
              "      <td>42.0</td>\n",
              "      <td>46.0</td>\n",
              "      <td>4.083333</td>\n",
              "      <td>2.027778</td>\n",
              "    </tr>\n",
              "    <tr>\n",
              "      <th>4</th>\n",
              "      <td>7.399237</td>\n",
              "      <td>7.388977</td>\n",
              "      <td>0</td>\n",
              "      <td>0</td>\n",
              "      <td>12.133645</td>\n",
              "      <td>2.047810</td>\n",
              "      <td>4.095621</td>\n",
              "      <td>12.133645</td>\n",
              "      <td>1.103059</td>\n",
              "      <td>3.219224</td>\n",
              "      <td>...</td>\n",
              "      <td>8.131825</td>\n",
              "      <td>38.565088</td>\n",
              "      <td>156.151415</td>\n",
              "      <td>5.037142</td>\n",
              "      <td>194</td>\n",
              "      <td>9</td>\n",
              "      <td>42.0</td>\n",
              "      <td>41.0</td>\n",
              "      <td>5.472222</td>\n",
              "      <td>2.750000</td>\n",
              "    </tr>\n",
              "    <tr>\n",
              "      <th>...</th>\n",
              "      <td>...</td>\n",
              "      <td>...</td>\n",
              "      <td>...</td>\n",
              "      <td>...</td>\n",
              "      <td>...</td>\n",
              "      <td>...</td>\n",
              "      <td>...</td>\n",
              "      <td>...</td>\n",
              "      <td>...</td>\n",
              "      <td>...</td>\n",
              "      <td>...</td>\n",
              "      <td>...</td>\n",
              "      <td>...</td>\n",
              "      <td>...</td>\n",
              "      <td>...</td>\n",
              "      <td>...</td>\n",
              "      <td>...</td>\n",
              "      <td>...</td>\n",
              "      <td>...</td>\n",
              "      <td>...</td>\n",
              "      <td>...</td>\n",
              "    </tr>\n",
              "    <tr>\n",
              "      <th>2868</th>\n",
              "      <td>21.758550</td>\n",
              "      <td>17.000581</td>\n",
              "      <td>0</td>\n",
              "      <td>0</td>\n",
              "      <td>38.253985</td>\n",
              "      <td>2.374938</td>\n",
              "      <td>4.749876</td>\n",
              "      <td>38.253985</td>\n",
              "      <td>1.366214</td>\n",
              "      <td>4.258939</td>\n",
              "      <td>...</td>\n",
              "      <td>10.073357</td>\n",
              "      <td>62.971588</td>\n",
              "      <td>398.135324</td>\n",
              "      <td>7.656449</td>\n",
              "      <td>2014</td>\n",
              "      <td>41</td>\n",
              "      <td>142.0</td>\n",
              "      <td>164.0</td>\n",
              "      <td>6.166667</td>\n",
              "      <td>6.361111</td>\n",
              "    </tr>\n",
              "    <tr>\n",
              "      <th>2869</th>\n",
              "      <td>7.806684</td>\n",
              "      <td>7.343579</td>\n",
              "      <td>0</td>\n",
              "      <td>0</td>\n",
              "      <td>13.098358</td>\n",
              "      <td>2.369838</td>\n",
              "      <td>4.633950</td>\n",
              "      <td>13.098358</td>\n",
              "      <td>1.309836</td>\n",
              "      <td>3.261311</td>\n",
              "      <td>...</td>\n",
              "      <td>9.161465</td>\n",
              "      <td>53.745115</td>\n",
              "      <td>211.929533</td>\n",
              "      <td>14.128636</td>\n",
              "      <td>105</td>\n",
              "      <td>12</td>\n",
              "      <td>52.0</td>\n",
              "      <td>61.0</td>\n",
              "      <td>2.833333</td>\n",
              "      <td>2.222222</td>\n",
              "    </tr>\n",
              "    <tr>\n",
              "      <th>2870</th>\n",
              "      <td>13.382658</td>\n",
              "      <td>11.741399</td>\n",
              "      <td>0</td>\n",
              "      <td>0</td>\n",
              "      <td>22.978744</td>\n",
              "      <td>2.442763</td>\n",
              "      <td>4.885526</td>\n",
              "      <td>22.978744</td>\n",
              "      <td>1.276597</td>\n",
              "      <td>3.800055</td>\n",
              "      <td>...</td>\n",
              "      <td>9.763593</td>\n",
              "      <td>50.871918</td>\n",
              "      <td>247.120843</td>\n",
              "      <td>7.060596</td>\n",
              "      <td>574</td>\n",
              "      <td>28</td>\n",
              "      <td>88.0</td>\n",
              "      <td>103.0</td>\n",
              "      <td>6.055556</td>\n",
              "      <td>4.277778</td>\n",
              "    </tr>\n",
              "    <tr>\n",
              "      <th>2871</th>\n",
              "      <td>7.030628</td>\n",
              "      <td>6.547610</td>\n",
              "      <td>0</td>\n",
              "      <td>0</td>\n",
              "      <td>12.170709</td>\n",
              "      <td>2.322596</td>\n",
              "      <td>4.516123</td>\n",
              "      <td>12.170709</td>\n",
              "      <td>1.352301</td>\n",
              "      <td>3.160409</td>\n",
              "      <td>...</td>\n",
              "      <td>8.914761</td>\n",
              "      <td>51.887188</td>\n",
              "      <td>134.019021</td>\n",
              "      <td>8.934601</td>\n",
              "      <td>79</td>\n",
              "      <td>9</td>\n",
              "      <td>46.0</td>\n",
              "      <td>53.0</td>\n",
              "      <td>1.972222</td>\n",
              "      <td>2.027778</td>\n",
              "    </tr>\n",
              "    <tr>\n",
              "      <th>2872</th>\n",
              "      <td>6.611250</td>\n",
              "      <td>6.419894</td>\n",
              "      <td>0</td>\n",
              "      <td>0</td>\n",
              "      <td>10.891331</td>\n",
              "      <td>2.263821</td>\n",
              "      <td>4.527642</td>\n",
              "      <td>10.891331</td>\n",
              "      <td>1.210148</td>\n",
              "      <td>3.099901</td>\n",
              "      <td>...</td>\n",
              "      <td>8.876126</td>\n",
              "      <td>37.975562</td>\n",
              "      <td>122.073165</td>\n",
              "      <td>6.424903</td>\n",
              "      <td>82</td>\n",
              "      <td>11</td>\n",
              "      <td>42.0</td>\n",
              "      <td>47.0</td>\n",
              "      <td>4.083333</td>\n",
              "      <td>2.055556</td>\n",
              "    </tr>\n",
              "  </tbody>\n",
              "</table>\n",
              "<p>2873 rows × 1826 columns</p>\n",
              "</div>\n",
              "      <button class=\"colab-df-convert\" onclick=\"convertToInteractive('df-80221529-d25c-4d0b-b796-d6389144faed')\"\n",
              "              title=\"Convert this dataframe to an interactive table.\"\n",
              "              style=\"display:none;\">\n",
              "        \n",
              "  <svg xmlns=\"http://www.w3.org/2000/svg\" height=\"24px\"viewBox=\"0 0 24 24\"\n",
              "       width=\"24px\">\n",
              "    <path d=\"M0 0h24v24H0V0z\" fill=\"none\"/>\n",
              "    <path d=\"M18.56 5.44l.94 2.06.94-2.06 2.06-.94-2.06-.94-.94-2.06-.94 2.06-2.06.94zm-11 1L8.5 8.5l.94-2.06 2.06-.94-2.06-.94L8.5 2.5l-.94 2.06-2.06.94zm10 10l.94 2.06.94-2.06 2.06-.94-2.06-.94-.94-2.06-.94 2.06-2.06.94z\"/><path d=\"M17.41 7.96l-1.37-1.37c-.4-.4-.92-.59-1.43-.59-.52 0-1.04.2-1.43.59L10.3 9.45l-7.72 7.72c-.78.78-.78 2.05 0 2.83L4 21.41c.39.39.9.59 1.41.59.51 0 1.02-.2 1.41-.59l7.78-7.78 2.81-2.81c.8-.78.8-2.07 0-2.86zM5.41 20L4 18.59l7.72-7.72 1.47 1.35L5.41 20z\"/>\n",
              "  </svg>\n",
              "      </button>\n",
              "      \n",
              "  <style>\n",
              "    .colab-df-container {\n",
              "      display:flex;\n",
              "      flex-wrap:wrap;\n",
              "      gap: 12px;\n",
              "    }\n",
              "\n",
              "    .colab-df-convert {\n",
              "      background-color: #E8F0FE;\n",
              "      border: none;\n",
              "      border-radius: 50%;\n",
              "      cursor: pointer;\n",
              "      display: none;\n",
              "      fill: #1967D2;\n",
              "      height: 32px;\n",
              "      padding: 0 0 0 0;\n",
              "      width: 32px;\n",
              "    }\n",
              "\n",
              "    .colab-df-convert:hover {\n",
              "      background-color: #E2EBFA;\n",
              "      box-shadow: 0px 1px 2px rgba(60, 64, 67, 0.3), 0px 1px 3px 1px rgba(60, 64, 67, 0.15);\n",
              "      fill: #174EA6;\n",
              "    }\n",
              "\n",
              "    [theme=dark] .colab-df-convert {\n",
              "      background-color: #3B4455;\n",
              "      fill: #D2E3FC;\n",
              "    }\n",
              "\n",
              "    [theme=dark] .colab-df-convert:hover {\n",
              "      background-color: #434B5C;\n",
              "      box-shadow: 0px 1px 3px 1px rgba(0, 0, 0, 0.15);\n",
              "      filter: drop-shadow(0px 1px 2px rgba(0, 0, 0, 0.3));\n",
              "      fill: #FFFFFF;\n",
              "    }\n",
              "  </style>\n",
              "\n",
              "      <script>\n",
              "        const buttonEl =\n",
              "          document.querySelector('#df-80221529-d25c-4d0b-b796-d6389144faed button.colab-df-convert');\n",
              "        buttonEl.style.display =\n",
              "          google.colab.kernel.accessAllowed ? 'block' : 'none';\n",
              "\n",
              "        async function convertToInteractive(key) {\n",
              "          const element = document.querySelector('#df-80221529-d25c-4d0b-b796-d6389144faed');\n",
              "          const dataTable =\n",
              "            await google.colab.kernel.invokeFunction('convertToInteractive',\n",
              "                                                     [key], {});\n",
              "          if (!dataTable) return;\n",
              "\n",
              "          const docLinkHtml = 'Like what you see? Visit the ' +\n",
              "            '<a target=\"_blank\" href=https://colab.research.google.com/notebooks/data_table.ipynb>data table notebook</a>'\n",
              "            + ' to learn more about interactive tables.';\n",
              "          element.innerHTML = '';\n",
              "          dataTable['output_type'] = 'display_data';\n",
              "          await google.colab.output.renderOutput(dataTable, element);\n",
              "          const docLink = document.createElement('div');\n",
              "          docLink.innerHTML = docLinkHtml;\n",
              "          element.appendChild(docLink);\n",
              "        }\n",
              "      </script>\n",
              "    </div>\n",
              "  </div>\n",
              "  "
            ]
          },
          "metadata": {},
          "execution_count": 20
        }
      ]
    },
    {
      "cell_type": "code",
      "source": [
        "tasks, datasets, transformers = dc.molnet.load_tox21(featurizer='ECFP')\n",
        "train_dataset, valid_dataset, test_dataset = datasets\n",
        "print(train_dataset)"
      ],
      "metadata": {
        "colab": {
          "base_uri": "https://localhost:8080/"
        },
        "id": "ZRWPdy0at6XS",
        "outputId": "f7da23b5-7886-4f22-c728-b2b6fa0a1054"
      },
      "execution_count": null,
      "outputs": [
        {
          "output_type": "stream",
          "name": "stdout",
          "text": [
            "<DiskDataset X.shape: (6264, 1024), y.shape: (6264, 12), w.shape: (6264, 12), task_names: ['NR-AR' 'NR-AR-LBD' 'NR-AhR' ... 'SR-HSE' 'SR-MMP' 'SR-p53']>\n"
          ]
        }
      ]
    },
    {
      "cell_type": "code",
      "source": [
        "train_dataset.w"
      ],
      "metadata": {
        "colab": {
          "base_uri": "https://localhost:8080/"
        },
        "id": "FZv99VTzt_rC",
        "outputId": "d9a6534a-1ac9-4dc9-be20-b39a6889fd39"
      },
      "execution_count": null,
      "outputs": [
        {
          "output_type": "execute_result",
          "data": {
            "text/plain": [
              "array([[1.04502242, 1.03632599, 1.12502653, ..., 1.05576503, 1.17464996,\n",
              "        1.05288369],\n",
              "       [1.04502242, 1.03632599, 1.12502653, ..., 1.05576503, 1.17464996,\n",
              "        1.05288369],\n",
              "       [1.04502242, 1.03632599, 1.12502653, ..., 1.05576503, 0.        ,\n",
              "        1.05288369],\n",
              "       ...,\n",
              "       [1.04502242, 0.        , 1.12502653, ..., 1.05576503, 6.7257384 ,\n",
              "        1.05288369],\n",
              "       [1.04502242, 1.03632599, 1.12502653, ..., 1.05576503, 6.7257384 ,\n",
              "        1.05288369],\n",
              "       [1.04502242, 1.03632599, 1.12502653, ..., 0.        , 1.17464996,\n",
              "        1.05288369]])"
            ]
          },
          "metadata": {},
          "execution_count": 4
        }
      ]
    },
    {
      "cell_type": "code",
      "source": [
        "model = dc.models.MultitaskClassifier(n_tasks=12, n_features=1024, layer_sizes=[1000])"
      ],
      "metadata": {
        "id": "5GbkRDKeuDma"
      },
      "execution_count": null,
      "outputs": []
    },
    {
      "cell_type": "code",
      "source": [
        "model.fit(train_dataset, nb_epoch=10)\n",
        "metric = dc.metrics.Metric(dc.metrics.roc_auc_score)\n",
        "print('training set score:', model.evaluate(train_dataset, [metric], transformers))\n",
        "print('test set score:', model.evaluate(test_dataset, [metric], transformers))"
      ],
      "metadata": {
        "colab": {
          "base_uri": "https://localhost:8080/"
        },
        "id": "dvnqhhLtuGeB",
        "outputId": "96bfed53-548a-4950-e37f-913d7e660cdf"
      },
      "execution_count": null,
      "outputs": [
        {
          "output_type": "stream",
          "name": "stdout",
          "text": [
            "training set score: {'roc_auc_score': 0.9578178897957511}\n",
            "test set score: {'roc_auc_score': 0.6833243935613527}\n"
          ]
        }
      ]
    },
    {
      "cell_type": "code",
      "source": [
        "%matplotlib inline\n",
        "from rdkit import Chem\n",
        "from rdkit.Chem.Draw import IPythonConsole\n",
        "from IPython.display import Image\n",
        "m1 = Chem.MolFromSmiles('Cc1ccccc1')\n",
        "m2 = Chem.MolFromMolFile('data/input.mol')\n",
        "stringWithMolData=file('data/input.mol','r').read()\n",
        "m3 = Chem.MolFromMolBlock(stringWithMolData) #returns a rdkit.Chem.rdchem.Mol as an object\n",
        "#deriving output results from molecules\n",
        "m4 = Chem.MolFromSmiles(m2)\n",
        "print Chem.MolToMolBlock(m4)"
      ],
      "metadata": {
        "id": "j2hFjjzUSDpH"
      },
      "execution_count": null,
      "outputs": []
    },
    {
      "cell_type": "code",
      "source": [
        "#deriving output results from molecules\n",
        "m2 = Chem.MolFromSmiles('C1CCC1')\n",
        "print Chem.MolToMolBlock(m2)"
      ],
      "metadata": {
        "id": "GR82H46lSFYk"
      },
      "execution_count": null,
      "outputs": []
    },
    {
      "cell_type": "markdown",
      "source": [
        "![Screenshot (185).png](data:image/png;base64,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)"
      ],
      "metadata": {
        "id": "-TNwTjjY4YQ1"
      }
    },
    {
      "cell_type": "markdown",
      "source": [
        "![Screenshot (186).png](data:image/png;base64,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)"
      ],
      "metadata": {
        "id": "MJo95odm5axj"
      }
    },
    {
      "cell_type": "markdown",
      "source": [
        "![Screenshot (187).png](data:image/png;base64,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)"
      ],
      "metadata": {
        "id": "k_Fqnvmi6Oz6"
      }
    },
    {
      "cell_type": "markdown",
      "source": [
        "![Screenshot (188).png](data:image/png;base64,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)"
      ],
      "metadata": {
        "id": "3BpLsPiq6Qs6"
      }
    },
    {
      "cell_type": "markdown",
      "source": [
        "![Screenshot (189).png](data:image/png;base64,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)"
      ],
      "metadata": {
        "id": "lOBe1sAX6SWa"
      }
    },
    {
      "cell_type": "markdown",
      "source": [
        "![Screenshot (190).png](data:image/png;base64,iVBORw0KGgoAAAANSUhEUgAAAi4AAADdCAIAAAATsW4WAAAAAXNSR0IArs4c6QAAAARnQU1BAACxjwv8YQUAAAAJcEhZcwAADsMAAA7DAcdvqGQAABm+SURBVHhe7d1BiBb3/cdx87/UPSSo6WkNKy5bGzCYiActZmkOJSdj2wULVkihNthL7F6ipJfgKV1PduOhID30JCgIlYVAuocGke5SlhhBkLgYImgPQVeaNtue/H/c72R48sz8tvN75rvz+62+XxAz85uZ787vmd8z35lnn53vM48ePdoAAEA6/1f8HwCAREhFAIDEnrRUdPHixdHR0fn5+WIeAJC9LFKRMofyhxkfH19cXFTj0tLSxMRE0To6Ojk5uby8XLZbslGL2stFIVr5f64DAEgll7uigwcP3rhx4/bt28ePHz9x4oTyjbWfP39ejVqk6XfffbcvnczMzOjf999/f2hoyFoOHTqk9ffu3WuzAID8ZfcB3cjISDHVQ5nmvffeu3PnzvXr14umDRt08/Thhx+q3fJQeRdV3lfZOpo9fPjw5cuXd+7cqaVap8xzAIAcZJeKPv74Y2WjjRs3FvPfUIvalY1sVrdHf/rTn377299u3rzZWjRx6dKlhYWF733ve9YiY2NjV65c0a1VedeldcpNAAA5yCUVlXctmj5z5kz5gVtJLcPDw8XMhg2//OUvd+3apUxTzAMA1q28flek25e5ubnaD9B0G3Tv3r1iZsOGs2fPfvjhh+UHcQCA9SuvD+h0ozMyMjI7O1vM97h79+7CwkL5m6Tnn3/+2LFjvV9wAACsU3mloqGhocOHD+veqC/BaFZZ54033uj9apymtfKpU6f+57e0lbe++OILJbNiHgCQk+y+tmA3RufOnbNZJZvR0dE9e/ZoQtnIGksHDhzQv0eOHFGusj9O0pp//etfX3/99d7v0Y2Njf385z9XI9+gA4AM8ThUAEBi2d0VAQCeNqQiAEBipCIAQGKkIgBAYqQiAEBipCIAQGKkIgBAYqQiAEBipCIAQGKkIgBAYqQiAEBipCIAQGKkIgBAYqQiAEBipCIAQGKkIgBAYqQiAEBipCIAQGKkIgBAYqQiAEBipCIAQGKkIgBAYqQiAEBipCIAQGJuqej06dOjo6Pz8/PF/EBaBtGG2lzGx8cXFxeL1khLS0sTExMW5+LFi0VrpHyCLC8vT05OWhC9vEVrJJcgol5YEPVLvStaI9UGCb1WoZ9oI03UL/WuaK2wsL0D0l4Ka6kNEnqtQnvoMmiB9c4nFentdPPmzddee62YH0jLIHob/+53v/voo49u3759/PjxEydO9J56GtJ55NSpU4cPH1YQhZqenu49DTWUTxD54IMPhoeHFWRhYWFubq73JNicSxDt//nz5xVBcfbt26felafv5mqD9L5WWqQV7LXqXVlLy5+o/b93796NGzfUrn6pdyuxa2zevFk/5eOPPy7mN2y4e/fuP//5zx07dtiPUATF0UQZpPa16t3D3qPpMmiBJ4BDKtKbZ2pq6s0333zuueeKpnjtg1y6dOkHP/jB2NiYpn/0ox/p388++2xlSYTr16/fuXPHNleoN954o/c01FA+QXSm+9vf/qaLcU3rrKpT4dWrV+103JxLEK2vrKBtFUGzivbFF1/otG5LGwoF6X2tbA/1WvWtrKVKIVpZI83ah4aGLIgugFZJAD/84Q+VUcoVPvnkkxdffFEx9+7dq8yhFsXZv3+/cpt+Yui1Ch1Nl0ELPAEcUtG5c+d05ah3ZjE/kJZB9G7XuUBnDZvWFei1a9f05relzWkT7YadvHQ9+4c//MFOMba0oXyC3L9/f9u2bVu3btW0LsNPnjypsP/5z39saUMuQbS+MsHu3bs1rdO6TuKffvqpItvShlYJMjIysnHjxpW1Hk+Xr5WmrVFLdZVjK2/atOn555+3dptYZU90A6R/LUMoplKLDbNaodeq9mg+ePBA/7YftMAToG0q0mWgLirfeuutYn4gLkHM6dOnd+7cqatU3WN9/vnnRWsknURGR0d10vnzn/+sc1/sadfkE0Qv7/j4uF6Qv/zlLzoLxyYA4xJEJ9zJyck9e/boHP3rX/96sNNuNYiyhf7VnYeWKkVpJzVhNyu6AbKcNDMzc/nyZU0oH+i2RrcjmhZdA926dcuma2l9ZRG7iSk/nbNFRq/M9PR0eZtlLbWvVd/R/O9//2vtLoMWWNdapSK9yc+ePXvs2DG73BuMSxCj08H27dtv37596NAhvaU1XSyIoStWnb9u3Lhx5syZr7/+WpfS5eV2c/kE0fn3vffe0786+T569Egt5Q1Bcy5BHj58+OMf/1jHSAdo165duiEob1maqw2ikaO0pEad6I8ePfqrX/1qeHhYieHAgQPaRGd5tf/73/8+cuSI7bYueubm5tQoL730krLa6t0pP6MrP50rFnxzc3b8+PHyhj70WlWP5ne+8x21uwxaYL1rlYp0kbiwsGCnAL3h9fbTdO+3iZpwCaLzjs4+ukbW+1mz2nawM502eeWVV3QqsStcXWvbSc2WNpRPEJ0EX375ZV1029lTl+cD5DOXIFpfPdJVv52y7aO21RNA1SpB1KKzuSgBKOvYCV0vl8771q4E9tVXX9nK6ohWs3bd4jz77LOrd8dugz799NO+T+eUh5T5dM9ko05Cr1Xt0dyyZYvLoAWeAK1S0djY2JUrV+wtrcu9gwcP6rpPb/6oM6ZLENE5Qhee8ytfTLLfEvd9kNKEbXLu3Dn9qxON9mSVXwyE5BNk69at27Zt002nTnOiIPv37499YV2CaH1tNT09vbjyfeXZ2Vmdo+13Ks01CXLx4kUlDLsfKlnO0CVO7w2NKM4777zzi1/8YvXuaCvlm9///ve9n86Veci+vGBCr1XoaLoMWuBJ8MjJ119//Zvf/GZubq6YH0jLINpQl8Py05/+9MGDB0VrJG2ozS3OwHuSTxB7SS3IhQsXitZILkFE21oQRVPMojVSNUjv7umeyVaTcjy8+uqrt27dKlp7IjQfJxaqN3gZpGTHKPRahY5muZPNdwZ48jyj/4qkBABACg5f5gYAoA1SEQAgMVIRACAxUhEAIDFSEQAgMVIRACAxUhEAIDFSEQAgsa5T0VJkZVKtYytrK21rjcuBQpn25GMZ/3ZBzNoga8qlm6EgdNPam3QzNFRchPYwSj5BYo9mrXyCuBx6r/ETNWhD8gniMt762UMXumHPRLGnody6devVV1/tfQJKlZaWT0OZmpoqH/SiaXsEiz1MpQz4k5/8xJ7vopZyw1CQtePSzVAQutm8m1pNK2s1m9W2FtxFaA+j5BMkdCCi5BNEdNzt0NswsICxXIJo/8uDomirD9qQfIK4jLeqTu+KQrUsa9nTJMtHWCqHW8lOJeHaQpmX6gpihoJoeu24dDMUhG427+bs7OzIyMjbb79ts3tX2HR7tXu4siRCPkGijmZIPkFCZwlb2pBLEJf3Zj5BxGW8VXWaijTCqrUsQ4fWSgBUS3ZKtVDmw4cPFcqedqyAZUHMUBDNrh2XbtYG0dUH3WzYTW2oE8cADxFvQsFr99CWNpRPEKk9EApoSxvKJ4hGRW05XVvakEsQl/dmPkG8xltVgq8t2OeMOk00qUyq3k7W1f3UBct4T6FMnbys/XRdQcxQkDXl0s2+IKvX/aSb3avdw1j5BIk6miH5BOk7S8Sedo1LEJdBm08QcRlvvbpORbrG0U1iw8qkobqf1UKZW7Zs0b9ac3ulIKZL8dBYLt2sBlml7ifd7F7tHsbKJ0jU0QzJJ0j1LBFbqlFcgrgM2nyCiMt469NpKlK3m1cm1eDT+kq59vm+Lot0caRxINVCmbpaqS2IGQqi6bXj0s3aIKG6n3SzSgEVRJfV2rxo8mPBq3toSxvKJ4hok+ZHMySfIBoVT0n94uZcguhAuIy3qk5T0eqVSXXIdUuuG3ObVZ9191ct2Sm1hTIVShdTtrn95lM/LhTk8Q9YMy7djKr7STdrTUxMLCwszMzM2KyilfvTXu0e2qLm8gkSOhBR8gmiUVF7ligWN+MSxOW9mU8QcRlvNR5/ja5DDwK1LEXputp4oa7upyY0a+1awRpF21pj3/cLa4OsKZduhoLQTWtv0k37NrCtr10qWp2E9jBKPkFCByJKPkE0NjRCLIjGTNEaySWIuLw38wniMt76PKP/iqQEAEAKCb5BBwBAL1IRACAxUhEAIDFSEQAgMVIRACAxUhEAIDFSEQAgsa5T0ZJHsbXllSf6WftpSud9g25WhYaKi9AeRsknSOzRrJVPEJdD7zV+ogZtSD5BXMZbP/tL127Yny7bHy03KYqlpeVf8071FHrStP3lvP1VdhmwfbE1Fy7dDAWhm827qdW0slazWW1rwV2E9jBKPkFCByJKPkFEx90OvQ0DCxjLJYj2vzwoirb6oA3JJ4jLeKvq9K7IHljUsCiWPfTpcKXQk5IwpfPoZm8QTdeapXReY1FHMySfIKGzhC1tyCWIy3sznyDiMt6qOk1FGmHti61JtZ7VQ0rn0c1v04Y6cQzw/MomFLx2D21pQ/kEkdoDoYC2tKF8gmhUtK965xLE5b2ZTxCv8VaV4GsL9jmjThNtiq3pgmWc0nl0s6tuhtTuYax8gkQdzZB8gvSdJWJPu8YliMugzSeIuIy3Xl2nIl3j6CaxZbG1aj0rSufRze7V7mGsfIJEHc2QfIK4VL1zCeIyaPMJIi7jrU+nqUjdbl9sTSidRzd7g2i6SgEVRJfV2rxo8mPBq3toSxvKJ4hok+ZHMySfIBoVlM7r4xJEB8JlvFV1mopWL4qlQ65bct2Y26z6rLu/aqEnqa1npVC6mLLN7Tef+nGhII9/wJpx6WYoCN1s3s0JSuc1FjoQUfIJolHRvuqdSxCX92Y+QcRlvNV4/DW6Dj0IF8VSuq42Xqgr9KQJzVq7VrBG0bbW2Pf9wtoga8qlm6EgdNPam3TTvg1s62uXilYnoT2Mkk+Q0IGIkk8QjQ2NEAuiMVO0RnIJIi7vzXyCuIy3Ps/ovyIpAQCQQoJv0AEA0ItUBABIjFQEAEiMVAQASIxUBABIjFQEAEiMVAQASKzrVLTkUWxteeWJftZ+mtJ536CbVaGh4iK0h1HyCRJ7NGvlE8Tl0HuNn6hBG5JPEJfx1s/+0rUb9qfL9kfLTYpiaWn517xTPYWeNG1/OW9/lV0GbF9szYVLN0NB6Gbzbmo1razVbFbbWnAXoT2Mkk+Q0IGIkk8Q0XG3Q2/DwALGcgmi/S8PiqKtPmhD8gniMt6qOr0rsgcWNSyKZQ99Olwp9KQkTOk8utkbRNO1Zimd11jU0QzJJ0joLGFLG3IJ4vLezCeIuIy3qk5TkUZY+2JrUq1n9ZDSeXTz27ShThwDPL+yCQWv3UNb2lA+QaT2QCigLW0onyAaFe2r3rkEcXlv5hPEa7xVJfjagn3OqNNEm2JrumAZp3Qe3eyqmyG1exgrnyBRRzMknyB9Z4nY065xCeIyaPMJIi7jrVfXqUjXOLpJbFlsrVrPitJ5dLN7tXsYK58gUUczJJ8gLlXvXIK4DNp8gojLeOvTaSpSt9sXWxNK59HN3iCarlJABdFltTYvmvxY8Ooe2tKG8gki2qT50QzJJ4hGBaXz+rgE0YFwGW9Vnaai1Yti6ZDrllw35jarPuvur1roSWrrWSmULqZsc/vNp35cKMjjH7BmXLoZCkI3m3dzgtJ5jYUORJR8gmhUtK965xLE5b2ZTxBxGW81Hn+NrkMPwkWxlK6rjRfqCj1pQrPWrhWsUbStNfZ9v7A2yJpy6WYoCN209ibdtG8D2/rapaLVSWgPo+QTJHQgouQTRGNDI8SCaMwUrZFcgojLezOfIC7jrc8z+q9ISgAApJDgG3QAAPQiFQEAEiMVAQASIxUBABIjFQEAEiMVAQASIxUBABIjFQEAEus6FS151P1cXnm4rLWfporrN+hmVWiouAjtYZR8gsQezVr5BHE59F7jJ2rQhuQTxGW89bOHLnTDnqJhz89oUp9RS8sHS0z11BzUtD3ExR4QUgZsX/fThUs3Q0HoZvNuajWtrNVsVttacBehPYyST5DQgYiSTxDRcbdDb8PAAsZyCaL9Lw+Koq0+aEPyCeIy3qo6vSuyZ+c1rM9ozx88XKk5qCRMFVe62RtE07VmqeLaWNTRDMknSOgsYUsbcgni8t7MJ4i4jLeqTlORRlj7up9SLa34kCqudPPbtKFOHAM8SrkJBa/dQ1vaUD5BpPZAKKAtbSifIBoV7QuwugRxeW/mE8RrvFUl+NqCfc6o00Sbup+6YBmniivd7KqbIbV7GCufIFFHMySfIH1nidjTrnEJ4jJo8wkiLuOtV9epSNc4uklsWfezWlqRKq50s3u1exgrnyBRRzMknyAuBVhdgrgM2nyCiMt469NpKlK329f9FKq40s3eIJquUkAF0WW1Ni+a/Fjw6h7a0obyCSLapPnRDMkniEYFVVz7uATRgXAZb1WdpqLV6zPqkOuWXDfmNqs+6+6vWnNQaksrKpQupmxz+82nflwoyOMfsGZcuhkKQjebd3OCKq6NhQ5ElHyCaFS0L8DqEsTlvZlPEHEZbzUef42uQw/C9RmVrquNF+pqDmpCs9auFaxRtK019n2/sDbImnLpZigI3bT2Jt20bwPb+tqlotVJaA+j5BMkdCCi5BNEY0MjxIJozBStkVyCiMt7M58gLuOtzzP6r0hKAACkkOAbdAAA9CIVAQASIxUBABIjFQEAEiMVAQASIxUBABIjFQEAEvNJRRdXyjG1+VN2++N8mZycXG7xpJb2e7LkUbYLANBc21SktKHk8eWXX77yyitFUzzLHLdv375x44YmPvjgg5XmOC57oiCnTp2yxwV+9NFH09PTbbIaAKCJtqloZmZGJ24p5geyd+/eEydOaMKeknQvvjyJuOyJPVKpZdkuAECUtqno0KFD9pzX5Fz2RHmofdkuAECUvL62sLi4OD09rTub2Mff+pr3KNsFAGgoo1S0tFLj9vjx42lvs3QndL512S4AQHO5pCLloaNHj+7bt88qMqXiUrYLABAli1RU5iH78kJCLmW7AABR2tYrmp+f7/vSmk7fsZ+wXbx48eTJk8XMigGCuOyJWF68du2apgeLAACIQuk8AEBieX2DDgDwFCIVAQASIxUBABIjFQEAEiMVAQASIxUBABIjFQEAEnNIRe2r3i0uLo6Pj7cMYiidBwDrTttUZCf9llXvxsbGrly5oiAyPDxM6TwAeKq0TUV7Pare9dq+fXsxFYnSeQCwTuX1uyKlsatXrw72BFJK5wHAOuWWilpWvZtfqVa3c+dOTe/atcsaU7GdoXQeAHTDJxUtta56pw3td0VKZkeOHFHAYkHnKJ0HAB1zSEVWVcGr6t2OHTs2bdp0//79Yr5blM4DgO61TUVlHvKqejc7O6sbka1btxbz3aJ0HgB0r229IveqdwcPHnz//fcHuBHpDWIonQcA6wKl8wAAieX1ZW4AwFOIVAQASIxUBABIjFQEAEiMVAQASIxUBABIjFQEAEiMVAQASKxtKnIswCpWELZNtTqquALAutM2FbkUYDXKHzdv3nzttdeK+UjKglRxBYD1yPMDuoELsIruRaampt58883nnnuuaIpEFVcAWKfcUlGbAqxy7ty5ffv2tXn2KFVcAWCdckhF860LsC4uLt68efOtt94q5lOzHlHFFQC64ZCKdC9ivys6PFABVt1znD179tixY3YvkhxVXAGgY56/KxqsAOvdu3cXFhaUxuzW6vLly5pu/2W8wVDFFQC655mKBivA2vsdPN2LHDx4UDcluiNJkgCo4goA3WubiuzXKubq1auDFWB1YXuyZ8+ea9eu2T3WAN/D3rx58x//+Me5uTkLdfLkSaq4AsBao4orACAxzw/oAAAYAKkIAJAYqQgAkBipCACQGKkIAJAYqQgAkBipCACQmFsqyqHqnVA6DwDWHZ9UpFN/DlXvKJ0HAOuRQyrKpOodpfMAYJ1ySEWZVL2jdB4ArFNtU1FuVe9czFM6DwA61CoV6XYhq6p3LiidBwAda5WKsqp654LSeQDQvVapKKuqdy4onQcA3XOrV6Q7oXfffVd3RQN8d2B+fr7vm2/KAbFxXIKIMtDRo0evXbum6cEiAACiUDoPAJCYw5e5AQBog1QEAEiMVAQASIxUBABIjFQEAEiMVAQASIxUBABIjFQEAEisPxUtLi6Oj4+X1UtPnz49MTGxtLRks81ZUdeSBbQnXpfBNaHVlldK3tlqMtiPAwCsX/2p6P79+9/97ne//PJLTSsl3Lt3b9OmTbYo1tTUlD2eTg4dOmSNL7/88vXr16vPSy1X3rdv39GjR8lGAPD0qPmA7qWXXvrXv/6lZPDZZ5+9/vrralF+skXtbdu2Tf8qG9ls1dtvvz0yMjI7O1vMAwCedDWp6Nlnn92+fbvy0M2bN7///e8XrX5+9rOfLSwsFDMVQ0NDw8PDn3/+eTEPAHjS9aeiO3fu6N/du3fPzMxoYsuWLSvNgzh58mTx+5/R0fn5+aJ1w4YXXnjhH//4x+LiYjFfoURYTAEAngI1d0WydevWr7766sUXX9y4caOmi9ZIvb8r6i21oJgHDhz45JNPivkKbokA4KlSk4p0UzI0NHTmzBnLH8pJjr8rMjt27Lh69ap9OaLP0tLS3NwcN0YA8PSovytaa5s3b96/f//f//73Yv4by8vLp06dGhkZ0W1T0QQAeNL1pyLHD8d6f1dU/i1Raffu3b2/LrKVd+7cOTw8vK5LkgMAYlHFFQCQWJoP6AAAKJGKAACJkYoAAImRigAAiZGKAACJkYoAAImRigAAiZGKAACJkYoAAImRigAAiZGKAACJkYoAAImRigAAiZGKAACJkYoAAImRigAASW3Y8P9k0RYAXxOkXgAAAABJRU5ErkJggg==)"
      ],
      "metadata": {
        "id": "p1l_yCEj6UHu"
      }
    },
    {
      "cell_type": "markdown",
      "source": [
        "![Screenshot (191).png](data:image/png;base64,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)"
      ],
      "metadata": {
        "id": "18hFuqtH6VtD"
      }
    },
    {
      "cell_type": "code",
      "source": [
        "import matplotlib.pyplot as plt\n",
        "import numpy as np\n",
        "import os\n",
        "import tensorflow as tf"
      ],
      "metadata": {
        "id": "GE0GFv1cSAac"
      },
      "execution_count": null,
      "outputs": []
    },
    {
      "cell_type": "code",
      "execution_count": null,
      "metadata": {
        "execution": {
          "iopub.execute_input": "2022-06-08T04:09:07.107317Z",
          "iopub.status.busy": "2022-06-08T04:09:07.106299Z",
          "iopub.status.idle": "2022-06-08T04:09:11.468058Z",
          "shell.execute_reply": "2022-06-08T04:09:11.467369Z"
        },
        "id": "ro4oYaEmxe4r"
      },
      "outputs": [],
      "source": [
        "_URL = 'data.zip'\n",
        "path_to_zip = tf.keras.utils.get_file('dataset.zip', origin=_URL, extract=True)\n",
        "PATH = os.path.join(os.path.dirname(path_to_zip), 'data')\n",
        "\n",
        "train_dir = os.path.join(PATH, 'train')\n",
        "validation_dir = os.path.join(PATH, 'validation')\n",
        "\n",
        "BATCH_SIZE = 32\n",
        "IMG_SIZE = (160, 160)\n",
        "\n",
        "train_dataset = tf.keras.utils.image_dataset_from_directory(train_dir,\n",
        "                                                            shuffle=True,\n",
        "                                                            batch_size=BATCH_SIZE,\n",
        "                                                            image_size=IMG_SIZE)"
      ]
    },
    {
      "cell_type": "code",
      "execution_count": null,
      "metadata": {
        "execution": {
          "iopub.execute_input": "2022-06-08T04:09:11.471656Z",
          "iopub.status.busy": "2022-06-08T04:09:11.471100Z",
          "iopub.status.idle": "2022-06-08T04:09:11.527558Z",
          "shell.execute_reply": "2022-06-08T04:09:11.526941Z"
        },
        "id": "cAvtLwi7_J__",
        "outputId": "b3f1abdc-9969-4df9-fb6a-0f388edfbadd"
      },
      "outputs": [
        {
          "name": "stdout",
          "output_type": "stream",
          "text": [
            "Found 1000 files belonging to 2 classes.\n"
          ]
        }
      ],
      "source": [
        "#odor vs odorless\n",
        "validation_dataset = tf.keras.utils.image_dataset_from_directory(validation_dir,\n",
        "                                                                 shuffle=True,\n",
        "                                                                 batch_size=BATCH_SIZE,\n",
        "                                                                 image_size=IMG_SIZE)"
      ]
    },
    {
      "cell_type": "code",
      "execution_count": null,
      "metadata": {
        "execution": {
          "iopub.execute_input": "2022-06-08T04:09:11.530668Z",
          "iopub.status.busy": "2022-06-08T04:09:11.530160Z",
          "iopub.status.idle": "2022-06-08T04:09:12.004075Z",
          "shell.execute_reply": "2022-06-08T04:09:12.003398Z"
        },
        "id": "K5BeQyKThC_Y"
      },
      "outputs": [],
      "source": [
        "class_names = train_dataset.class_names\n",
        "\n",
        "plt.figure(figsize=(10, 10))\n",
        "for images, labels in train_dataset.take(1):\n",
        "  for i in range(9):\n",
        "    ax = plt.subplot(3, 3, i + 1)\n",
        "    plt.imshow(images[i].numpy().astype(\"uint8\"))\n",
        "    plt.title(class_names[labels[i]])\n",
        "    plt.axis(\"off\")"
      ]
    },
    {
      "cell_type": "code",
      "execution_count": null,
      "metadata": {
        "execution": {
          "iopub.execute_input": "2022-06-08T04:09:12.014200Z",
          "iopub.status.busy": "2022-06-08T04:09:12.013581Z",
          "iopub.status.idle": "2022-06-08T04:09:12.018889Z",
          "shell.execute_reply": "2022-06-08T04:09:12.018301Z"
        },
        "id": "uFFIYrTFV9RO"
      },
      "outputs": [],
      "source": [
        "val_batches = tf.data.experimental.cardinality(validation_dataset)\n",
        "test_dataset = validation_dataset.take(val_batches)\n",
        "validation_dataset = validation_dataset.skip(val_batches)"
      ]
    },
    {
      "cell_type": "code",
      "execution_count": null,
      "metadata": {
        "execution": {
          "iopub.execute_input": "2022-06-08T04:09:12.021783Z",
          "iopub.status.busy": "2022-06-08T04:09:12.021350Z",
          "iopub.status.idle": "2022-06-08T04:09:12.025130Z",
          "shell.execute_reply": "2022-06-08T04:09:12.024587Z"
        },
        "id": "Q9pFlFWgBKgH",
        "outputId": "aaf25dfb-b685-473d-e740-0d81cb0a24b0"
      },
      "outputs": [
        {
          "name": "stdout",
          "output_type": "stream",
          "text": [
            "Number of validation batches: 26\n",
            "Number of test batches: 6\n"
          ]
        }
      ],
      "source": [
        "print('Number of validation batches: %d' % tf.data.experimental.cardinality(validation_dataset))\n",
        "print('Number of test batches: %d' % tf.data.experimental.cardinality(test_dataset))"
      ]
    },
    {
      "cell_type": "markdown",
      "metadata": {
        "id": "MYfcVwYLiR98"
      },
      "source": [
        "### Use data augmentation"
      ]
    },
    {
      "cell_type": "code",
      "execution_count": null,
      "metadata": {
        "execution": {
          "iopub.execute_input": "2022-06-08T04:09:12.034958Z",
          "iopub.status.busy": "2022-06-08T04:09:12.034458Z",
          "iopub.status.idle": "2022-06-08T04:09:12.046427Z",
          "shell.execute_reply": "2022-06-08T04:09:12.045877Z"
        },
        "id": "3P99QiMGit1A"
      },
      "outputs": [],
      "source": [
        "data_augmentation = tf.keras.Sequential([\n",
        "  tf.keras.layers.RandomFlip('horizontal'),\n",
        "  tf.keras.layers.RandomRotation(0.2),\n",
        "])"
      ]
    },
    {
      "cell_type": "markdown",
      "metadata": {
        "id": "bAywKtuVn8uK"
      },
      "source": [
        "### Rescale pixel values\n",
        "\n"
      ]
    },
    {
      "cell_type": "code",
      "execution_count": null,
      "metadata": {
        "execution": {
          "iopub.execute_input": "2022-06-08T04:09:12.722200Z",
          "iopub.status.busy": "2022-06-08T04:09:12.721772Z",
          "iopub.status.idle": "2022-06-08T04:09:12.725190Z",
          "shell.execute_reply": "2022-06-08T04:09:12.724628Z"
        },
        "id": "cO0HM9JAQUFq"
      },
      "outputs": [],
      "source": [
        "preprocess_input = tf.keras.applications.mobilenet_v2.preprocess_input"
      ]
    },
    {
      "cell_type": "markdown",
      "metadata": {
        "id": "OkH-kazQecHB"
      },
      "source": [
        "## Create the base model."
      ]
    },
    {
      "cell_type": "code",
      "execution_count": null,
      "metadata": {
        "execution": {
          "iopub.execute_input": "2022-06-08T04:09:12.734577Z",
          "iopub.status.busy": "2022-06-08T04:09:12.734153Z",
          "iopub.status.idle": "2022-06-08T04:09:13.955140Z",
          "shell.execute_reply": "2022-06-08T04:09:13.954497Z"
        },
        "id": "19IQ2gqneqmS",
        "outputId": "222be24c-aea0-4773-ca08-b5481946fb96"
      },
      "outputs": [
        {
          "name": "stdout",
          "output_type": "stream",
          "text": [
            "Downloading data from https://storage.googleapis.com/tensorflow/keras-applications/mobilenet_v2/mobilenet_v2_weights_tf_dim_ordering_tf_kernels_1.0_160_no_top.h5\n"
          ]
        },
        {
          "name": "stdout",
          "output_type": "stream",
          "text": [
            "\r",
            "   8192/9406464 [..............................] - ETA: 0s"
          ]
        },
        {
          "name": "stdout",
          "output_type": "stream",
          "text": [
            "\b\b\b\b\b\b\b\b\b\b\b\b\b\b\b\b\b\b\b\b\b\b\b\b\b\b\b\b\b\b\b\b\b\b\b\b\b\b\b\b\b\b\b\b\b\b\b\b\b\b\b\b\b\b\b\b\b\b\r",
            "4202496/9406464 [============>.................] - ETA: 0s"
          ]
        },
        {
          "name": "stdout",
          "output_type": "stream",
          "text": [
            "\b\b\b\b\b\b\b\b\b\b\b\b\b\b\b\b\b\b\b\b\b\b\b\b\b\b\b\b\b\b\b\b\b\b\b\b\b\b\b\b\b\b\b\b\b\b\b\b\b\b\b\b\b\b\b\b\b\b\r",
            "9406464/9406464 [==============================] - 0s 0us/step\n"
          ]
        }
      ],
      "source": [
        "\n",
        "IMG_SHAPE = IMG_SIZE + (3,)\n",
        "base_model = tf.keras.applications.MobileNetV2(input_shape=IMG_SHAPE,\n",
        "                                               include_top=False,\n",
        "                                               weights='imagenet')"
      ]
    },
    {
      "cell_type": "code",
      "execution_count": null,
      "metadata": {
        "execution": {
          "iopub.execute_input": "2022-06-08T04:09:13.958984Z",
          "iopub.status.busy": "2022-06-08T04:09:13.958367Z",
          "iopub.status.idle": "2022-06-08T04:09:14.920251Z",
          "shell.execute_reply": "2022-06-08T04:09:14.919434Z"
        },
        "id": "Y-2LJL0EEUcx",
        "outputId": "4053266e-3dbf-4343-c840-fb6c5a835c7b"
      },
      "outputs": [
        {
          "name": "stdout",
          "output_type": "stream",
          "text": [
            "(32, 5, 5, 1280)\n"
          ]
        }
      ],
      "source": [
        "image_batch, label_batch = next(iter(train_dataset))\n",
        "feature_batch = base_model(image_batch)\n",
        "print(feature_batch.shape)"
      ]
    },
    {
      "cell_type": "markdown",
      "metadata": {
        "id": "rlx56nQtfe8Y"
      },
      "source": [
        "## Feature extraction\n",
        "we will freeze the convolutional base created from the previous step and to use as a feature extractor; add a classifier on top of it and train the top-level classifier."
      ]
    },
    {
      "cell_type": "markdown",
      "metadata": {
        "id": "CnMLieHBCwil"
      },
      "source": [
        "### Freeze the convolutional base"
      ]
    },
    {
      "cell_type": "code",
      "execution_count": null,
      "metadata": {
        "execution": {
          "iopub.execute_input": "2022-06-08T04:09:14.923997Z",
          "iopub.status.busy": "2022-06-08T04:09:14.923396Z",
          "iopub.status.idle": "2022-06-08T04:09:14.929451Z",
          "shell.execute_reply": "2022-06-08T04:09:14.928871Z"
        },
        "id": "OTCJH4bphOeo"
      },
      "outputs": [],
      "source": [
        "base_model.trainable = False"
      ]
    },
    {
      "cell_type": "code",
      "execution_count": null,
      "metadata": {
        "execution": {
          "iopub.execute_input": "2022-06-08T04:09:14.932499Z",
          "iopub.status.busy": "2022-06-08T04:09:14.932084Z",
          "iopub.status.idle": "2022-06-08T04:09:15.113577Z",
          "shell.execute_reply": "2022-06-08T04:09:15.112679Z"
        },
        "id": "KpbzSmPkDa-N",
        "outputId": "076c7c99-4b4e-4777-b813-4dd08f47c429"
      },
      "outputs": [
        {
          "name": "stdout",
          "output_type": "stream",
          "text": [
            "Model: \"mobilenetv2_1.00_160\"\n"
          ]
        },
        {
          "name": "stdout",
          "output_type": "stream",
          "text": [
            "__________________________________________________________________________________________________\n"
          ]
        },
        {
          "name": "stdout",
          "output_type": "stream",
          "text": [
            " Layer (type)                   Output Shape         Param #     Connected to                     \n"
          ]
        },
        {
          "name": "stdout",
          "output_type": "stream",
          "text": [
            "==================================================================================================\n"
          ]
        },
        {
          "name": "stdout",
          "output_type": "stream",
          "text": [
            " input_1 (InputLayer)           [(None, 160, 160, 3  0           []                               \n"
          ]
        },
        {
          "name": "stdout",
          "output_type": "stream",
          "text": [
            "                                )]                                                                \n"
          ]
        },
        {
          "name": "stdout",
          "output_type": "stream",
          "text": [
            "                                                                                                  \n"
          ]
        },
        {
          "name": "stdout",
          "output_type": "stream",
          "text": [
            " Conv1 (Conv2D)                 (None, 80, 80, 32)   864         ['input_1[0][0]']                \n"
          ]
        },
        {
          "name": "stdout",
          "output_type": "stream",
          "text": [
            "                                                                                                  \n"
          ]
        },
        {
          "name": "stdout",
          "output_type": "stream",
          "text": [
            " bn_Conv1 (BatchNormalization)  (None, 80, 80, 32)   128         ['Conv1[0][0]']                  \n"
          ]
        },
        {
          "name": "stdout",
          "output_type": "stream",
          "text": [
            "                                                                                                  \n"
          ]
        },
        {
          "name": "stdout",
          "output_type": "stream",
          "text": [
            " Conv1_relu (ReLU)              (None, 80, 80, 32)   0           ['bn_Conv1[0][0]']               \n"
          ]
        },
        {
          "name": "stdout",
          "output_type": "stream",
          "text": [
            "                                                                                                  \n"
          ]
        },
        {
          "name": "stdout",
          "output_type": "stream",
          "text": [
            " expanded_conv_depthwise (Depth  (None, 80, 80, 32)  288         ['Conv1_relu[0][0]']             \n"
          ]
        },
        {
          "name": "stdout",
          "output_type": "stream",
          "text": [
            " wiseConv2D)                                                                                      \n"
          ]
        },
        {
          "name": "stdout",
          "output_type": "stream",
          "text": [
            "                                                                                                  \n"
          ]
        },
        {
          "name": "stdout",
          "output_type": "stream",
          "text": [
            " expanded_conv_depthwise_BN (Ba  (None, 80, 80, 32)  128         ['expanded_conv_depthwise[0][0]']\n"
          ]
        },
        {
          "name": "stdout",
          "output_type": "stream",
          "text": [
            " tchNormalization)                                                                                \n"
          ]
        },
        {
          "name": "stdout",
          "output_type": "stream",
          "text": [
            "                                                                                                  \n"
          ]
        },
        {
          "name": "stdout",
          "output_type": "stream",
          "text": [
            " expanded_conv_depthwise_relu (  (None, 80, 80, 32)  0           ['expanded_conv_depthwise_BN[0][0\n"
          ]
        },
        {
          "name": "stdout",
          "output_type": "stream",
          "text": [
            " ReLU)                                                           ]']                              \n"
          ]
        },
        {
          "name": "stdout",
          "output_type": "stream",
          "text": [
            "                                                                                                  \n"
          ]
        },
        {
          "name": "stdout",
          "output_type": "stream",
          "text": [
            " expanded_conv_project (Conv2D)  (None, 80, 80, 16)  512         ['expanded_conv_depthwise_relu[0]\n"
          ]
        },
        {
          "name": "stdout",
          "output_type": "stream",
          "text": [
            "                                                                 [0]']                            \n"
          ]
        },
        {
          "name": "stdout",
          "output_type": "stream",
          "text": [
            "                                                                                                  \n"
          ]
        },
        {
          "name": "stdout",
          "output_type": "stream",
          "text": [
            " expanded_conv_project_BN (Batc  (None, 80, 80, 16)  64          ['expanded_conv_project[0][0]']  \n"
          ]
        },
        {
          "name": "stdout",
          "output_type": "stream",
          "text": [
            " hNormalization)                                                                                  \n"
          ]
        },
        {
          "name": "stdout",
          "output_type": "stream",
          "text": [
            "                                                                                                  \n"
          ]
        },
        {
          "name": "stdout",
          "output_type": "stream",
          "text": [
            " block_1_expand (Conv2D)        (None, 80, 80, 96)   1536        ['expanded_conv_project_BN[0][0]'\n"
          ]
        },
        {
          "name": "stdout",
          "output_type": "stream",
          "text": [
            "                                                                 ]                                \n"
          ]
        },
        {
          "name": "stdout",
          "output_type": "stream",
          "text": [
            "                                                                                                  \n"
          ]
        },
        {
          "name": "stdout",
          "output_type": "stream",
          "text": [
            " block_1_expand_BN (BatchNormal  (None, 80, 80, 96)  384         ['block_1_expand[0][0]']         \n"
          ]
        },
        {
          "name": "stdout",
          "output_type": "stream",
          "text": [
            " ization)                                                                                         \n"
          ]
        },
        {
          "name": "stdout",
          "output_type": "stream",
          "text": [
            "                                                                                                  \n"
          ]
        },
        {
          "name": "stdout",
          "output_type": "stream",
          "text": [
            " block_1_expand_relu (ReLU)     (None, 80, 80, 96)   0           ['block_1_expand_BN[0][0]']      \n"
          ]
        },
        {
          "name": "stdout",
          "output_type": "stream",
          "text": [
            "                                                                                                  \n"
          ]
        },
        {
          "name": "stdout",
          "output_type": "stream",
          "text": [
            " block_1_pad (ZeroPadding2D)    (None, 81, 81, 96)   0           ['block_1_expand_relu[0][0]']    \n"
          ]
        },
        {
          "name": "stdout",
          "output_type": "stream",
          "text": [
            "                                                                                                  \n"
          ]
        },
        {
          "name": "stdout",
          "output_type": "stream",
          "text": [
            " block_1_depthwise (DepthwiseCo  (None, 40, 40, 96)  864         ['block_1_pad[0][0]']            \n"
          ]
        },
        {
          "name": "stdout",
          "output_type": "stream",
          "text": [
            " nv2D)                                                                                            \n"
          ]
        },
        {
          "name": "stdout",
          "output_type": "stream",
          "text": [
            "                                                                                                  \n"
          ]
        },
        {
          "name": "stdout",
          "output_type": "stream",
          "text": [
            " block_1_depthwise_BN (BatchNor  (None, 40, 40, 96)  384         ['block_1_depthwise[0][0]']      \n"
          ]
        },
        {
          "name": "stdout",
          "output_type": "stream",
          "text": [
            " malization)                                                                                      \n"
          ]
        },
        {
          "name": "stdout",
          "output_type": "stream",
          "text": [
            "                                                                                                  \n"
          ]
        },
        {
          "name": "stdout",
          "output_type": "stream",
          "text": [
            " block_1_depthwise_relu (ReLU)  (None, 40, 40, 96)   0           ['block_1_depthwise_BN[0][0]']   \n"
          ]
        },
        {
          "name": "stdout",
          "output_type": "stream",
          "text": [
            "                                                                                                  \n"
          ]
        },
        {
          "name": "stdout",
          "output_type": "stream",
          "text": [
            " block_1_project (Conv2D)       (None, 40, 40, 24)   2304        ['block_1_depthwise_relu[0][0]'] \n"
          ]
        },
        {
          "name": "stdout",
          "output_type": "stream",
          "text": [
            "                                                                                                  \n"
          ]
        },
        {
          "name": "stdout",
          "output_type": "stream",
          "text": [
            " block_1_project_BN (BatchNorma  (None, 40, 40, 24)  96          ['block_1_project[0][0]']        \n"
          ]
        },
        {
          "name": "stdout",
          "output_type": "stream",
          "text": [
            " lization)                                                                                        \n"
          ]
        },
        {
          "name": "stdout",
          "output_type": "stream",
          "text": [
            "                                                                                                  \n"
          ]
        },
        {
          "name": "stdout",
          "output_type": "stream",
          "text": [
            " block_2_expand (Conv2D)        (None, 40, 40, 144)  3456        ['block_1_project_BN[0][0]']     \n"
          ]
        },
        {
          "name": "stdout",
          "output_type": "stream",
          "text": [
            "                                                                                                  \n"
          ]
        },
        {
          "name": "stdout",
          "output_type": "stream",
          "text": [
            " block_2_expand_BN (BatchNormal  (None, 40, 40, 144)  576        ['block_2_expand[0][0]']         \n"
          ]
        },
        {
          "name": "stdout",
          "output_type": "stream",
          "text": [
            " ization)                                                                                         \n"
          ]
        },
        {
          "name": "stdout",
          "output_type": "stream",
          "text": [
            "                                                                                                  \n"
          ]
        },
        {
          "name": "stdout",
          "output_type": "stream",
          "text": [
            " block_2_expand_relu (ReLU)     (None, 40, 40, 144)  0           ['block_2_expand_BN[0][0]']      \n"
          ]
        },
        {
          "name": "stdout",
          "output_type": "stream",
          "text": [
            "                                                                                                  \n"
          ]
        },
        {
          "name": "stdout",
          "output_type": "stream",
          "text": [
            " block_2_depthwise (DepthwiseCo  (None, 40, 40, 144)  1296       ['block_2_expand_relu[0][0]']    \n"
          ]
        },
        {
          "name": "stdout",
          "output_type": "stream",
          "text": [
            " nv2D)                                                                                            \n"
          ]
        },
        {
          "name": "stdout",
          "output_type": "stream",
          "text": [
            "                                                                                                  \n"
          ]
        },
        {
          "name": "stdout",
          "output_type": "stream",
          "text": [
            " block_2_depthwise_BN (BatchNor  (None, 40, 40, 144)  576        ['block_2_depthwise[0][0]']      \n"
          ]
        },
        {
          "name": "stdout",
          "output_type": "stream",
          "text": [
            " malization)                                                                                      \n"
          ]
        },
        {
          "name": "stdout",
          "output_type": "stream",
          "text": [
            "                                                                                                  \n"
          ]
        },
        {
          "name": "stdout",
          "output_type": "stream",
          "text": [
            " block_2_depthwise_relu (ReLU)  (None, 40, 40, 144)  0           ['block_2_depthwise_BN[0][0]']   \n"
          ]
        },
        {
          "name": "stdout",
          "output_type": "stream",
          "text": [
            "                                                                                                  \n"
          ]
        },
        {
          "name": "stdout",
          "output_type": "stream",
          "text": [
            " block_2_project (Conv2D)       (None, 40, 40, 24)   3456        ['block_2_depthwise_relu[0][0]'] \n"
          ]
        },
        {
          "name": "stdout",
          "output_type": "stream",
          "text": [
            "                                                                                                  \n"
          ]
        },
        {
          "name": "stdout",
          "output_type": "stream",
          "text": [
            " block_2_project_BN (BatchNorma  (None, 40, 40, 24)  96          ['block_2_project[0][0]']        \n"
          ]
        },
        {
          "name": "stdout",
          "output_type": "stream",
          "text": [
            " lization)                                                                                        \n"
          ]
        },
        {
          "name": "stdout",
          "output_type": "stream",
          "text": [
            "                                                                                                  \n"
          ]
        },
        {
          "name": "stdout",
          "output_type": "stream",
          "text": [
            " block_2_add (Add)              (None, 40, 40, 24)   0           ['block_1_project_BN[0][0]',     \n"
          ]
        },
        {
          "name": "stdout",
          "output_type": "stream",
          "text": [
            "                                                                  'block_2_project_BN[0][0]']     \n"
          ]
        },
        {
          "name": "stdout",
          "output_type": "stream",
          "text": [
            "                                                                                                  \n"
          ]
        },
        {
          "name": "stdout",
          "output_type": "stream",
          "text": [
            " block_3_expand (Conv2D)        (None, 40, 40, 144)  3456        ['block_2_add[0][0]']            \n"
          ]
        },
        {
          "name": "stdout",
          "output_type": "stream",
          "text": [
            "                                                                                                  \n"
          ]
        },
        {
          "name": "stdout",
          "output_type": "stream",
          "text": [
            " block_3_expand_BN (BatchNormal  (None, 40, 40, 144)  576        ['block_3_expand[0][0]']         \n"
          ]
        },
        {
          "name": "stdout",
          "output_type": "stream",
          "text": [
            " ization)                                                                                         \n"
          ]
        },
        {
          "name": "stdout",
          "output_type": "stream",
          "text": [
            "                                                                                                  \n"
          ]
        },
        {
          "name": "stdout",
          "output_type": "stream",
          "text": [
            " block_3_expand_relu (ReLU)     (None, 40, 40, 144)  0           ['block_3_expand_BN[0][0]']      \n"
          ]
        },
        {
          "name": "stdout",
          "output_type": "stream",
          "text": [
            "                                                                                                  \n"
          ]
        },
        {
          "name": "stdout",
          "output_type": "stream",
          "text": [
            " block_3_pad (ZeroPadding2D)    (None, 41, 41, 144)  0           ['block_3_expand_relu[0][0]']    \n"
          ]
        },
        {
          "name": "stdout",
          "output_type": "stream",
          "text": [
            "                                                                                                  \n"
          ]
        },
        {
          "name": "stdout",
          "output_type": "stream",
          "text": [
            " block_3_depthwise (DepthwiseCo  (None, 20, 20, 144)  1296       ['block_3_pad[0][0]']            \n"
          ]
        },
        {
          "name": "stdout",
          "output_type": "stream",
          "text": [
            " nv2D)                                                                                            \n"
          ]
        },
        {
          "name": "stdout",
          "output_type": "stream",
          "text": [
            "                                                                                                  \n"
          ]
        },
        {
          "name": "stdout",
          "output_type": "stream",
          "text": [
            " block_3_depthwise_BN (BatchNor  (None, 20, 20, 144)  576        ['block_3_depthwise[0][0]']      \n"
          ]
        },
        {
          "name": "stdout",
          "output_type": "stream",
          "text": [
            " malization)                                                                                      \n"
          ]
        },
        {
          "name": "stdout",
          "output_type": "stream",
          "text": [
            "                                                                                                  \n"
          ]
        },
        {
          "name": "stdout",
          "output_type": "stream",
          "text": [
            " block_3_depthwise_relu (ReLU)  (None, 20, 20, 144)  0           ['block_3_depthwise_BN[0][0]']   \n"
          ]
        },
        {
          "name": "stdout",
          "output_type": "stream",
          "text": [
            "                                                                                                  \n"
          ]
        },
        {
          "name": "stdout",
          "output_type": "stream",
          "text": [
            " block_3_project (Conv2D)       (None, 20, 20, 32)   4608        ['block_3_depthwise_relu[0][0]'] \n"
          ]
        },
        {
          "name": "stdout",
          "output_type": "stream",
          "text": [
            "                                                                                                  \n"
          ]
        },
        {
          "name": "stdout",
          "output_type": "stream",
          "text": [
            " block_3_project_BN (BatchNorma  (None, 20, 20, 32)  128         ['block_3_project[0][0]']        \n"
          ]
        },
        {
          "name": "stdout",
          "output_type": "stream",
          "text": [
            " lization)                                                                                        \n"
          ]
        },
        {
          "name": "stdout",
          "output_type": "stream",
          "text": [
            "                                                                                                  \n"
          ]
        },
        {
          "name": "stdout",
          "output_type": "stream",
          "text": [
            " block_4_expand (Conv2D)        (None, 20, 20, 192)  6144        ['block_3_project_BN[0][0]']     \n"
          ]
        },
        {
          "name": "stdout",
          "output_type": "stream",
          "text": [
            "                                                                                                  \n"
          ]
        },
        {
          "name": "stdout",
          "output_type": "stream",
          "text": [
            " block_4_expand_BN (BatchNormal  (None, 20, 20, 192)  768        ['block_4_expand[0][0]']         \n"
          ]
        },
        {
          "name": "stdout",
          "output_type": "stream",
          "text": [
            " ization)                                                                                         \n"
          ]
        },
        {
          "name": "stdout",
          "output_type": "stream",
          "text": [
            "                                                                                                  \n"
          ]
        },
        {
          "name": "stdout",
          "output_type": "stream",
          "text": [
            " block_4_expand_relu (ReLU)     (None, 20, 20, 192)  0           ['block_4_expand_BN[0][0]']      \n"
          ]
        },
        {
          "name": "stdout",
          "output_type": "stream",
          "text": [
            "                                                                                                  \n"
          ]
        },
        {
          "name": "stdout",
          "output_type": "stream",
          "text": [
            " block_4_depthwise (DepthwiseCo  (None, 20, 20, 192)  1728       ['block_4_expand_relu[0][0]']    \n"
          ]
        },
        {
          "name": "stdout",
          "output_type": "stream",
          "text": [
            " nv2D)                                                                                            \n"
          ]
        },
        {
          "name": "stdout",
          "output_type": "stream",
          "text": [
            "                                                                                                  \n"
          ]
        },
        {
          "name": "stdout",
          "output_type": "stream",
          "text": [
            " block_4_depthwise_BN (BatchNor  (None, 20, 20, 192)  768        ['block_4_depthwise[0][0]']      \n"
          ]
        },
        {
          "name": "stdout",
          "output_type": "stream",
          "text": [
            " malization)                                                                                      \n"
          ]
        },
        {
          "name": "stdout",
          "output_type": "stream",
          "text": [
            "                                                                                                  \n"
          ]
        },
        {
          "name": "stdout",
          "output_type": "stream",
          "text": [
            " block_4_depthwise_relu (ReLU)  (None, 20, 20, 192)  0           ['block_4_depthwise_BN[0][0]']   \n"
          ]
        },
        {
          "name": "stdout",
          "output_type": "stream",
          "text": [
            "                                                                                                  \n"
          ]
        },
        {
          "name": "stdout",
          "output_type": "stream",
          "text": [
            " block_4_project (Conv2D)       (None, 20, 20, 32)   6144        ['block_4_depthwise_relu[0][0]'] \n"
          ]
        },
        {
          "name": "stdout",
          "output_type": "stream",
          "text": [
            "                                                                                                  \n"
          ]
        },
        {
          "name": "stdout",
          "output_type": "stream",
          "text": [
            " block_4_project_BN (BatchNorma  (None, 20, 20, 32)  128         ['block_4_project[0][0]']        \n"
          ]
        },
        {
          "name": "stdout",
          "output_type": "stream",
          "text": [
            " lization)                                                                                        \n"
          ]
        },
        {
          "name": "stdout",
          "output_type": "stream",
          "text": [
            "                                                                                                  \n"
          ]
        },
        {
          "name": "stdout",
          "output_type": "stream",
          "text": [
            " block_4_add (Add)              (None, 20, 20, 32)   0           ['block_3_project_BN[0][0]',     \n"
          ]
        },
        {
          "name": "stdout",
          "output_type": "stream",
          "text": [
            "                                                                  'block_4_project_BN[0][0]']     \n"
          ]
        },
        {
          "name": "stdout",
          "output_type": "stream",
          "text": [
            "                                                                                                  \n"
          ]
        },
        {
          "name": "stdout",
          "output_type": "stream",
          "text": [
            " block_5_expand (Conv2D)        (None, 20, 20, 192)  6144        ['block_4_add[0][0]']            \n"
          ]
        },
        {
          "name": "stdout",
          "output_type": "stream",
          "text": [
            "                                                                                                  \n"
          ]
        },
        {
          "name": "stdout",
          "output_type": "stream",
          "text": [
            " block_5_expand_BN (BatchNormal  (None, 20, 20, 192)  768        ['block_5_expand[0][0]']         \n"
          ]
        },
        {
          "name": "stdout",
          "output_type": "stream",
          "text": [
            " ization)                                                                                         \n"
          ]
        },
        {
          "name": "stdout",
          "output_type": "stream",
          "text": [
            "                                                                                                  \n"
          ]
        },
        {
          "name": "stdout",
          "output_type": "stream",
          "text": [
            " block_5_expand_relu (ReLU)     (None, 20, 20, 192)  0           ['block_5_expand_BN[0][0]']      \n"
          ]
        },
        {
          "name": "stdout",
          "output_type": "stream",
          "text": [
            "                                                                                                  \n"
          ]
        },
        {
          "name": "stdout",
          "output_type": "stream",
          "text": [
            " block_5_depthwise (DepthwiseCo  (None, 20, 20, 192)  1728       ['block_5_expand_relu[0][0]']    \n"
          ]
        },
        {
          "name": "stdout",
          "output_type": "stream",
          "text": [
            " nv2D)                                                                                            \n"
          ]
        },
        {
          "name": "stdout",
          "output_type": "stream",
          "text": [
            "                                                                                                  \n"
          ]
        },
        {
          "name": "stdout",
          "output_type": "stream",
          "text": [
            " block_5_depthwise_BN (BatchNor  (None, 20, 20, 192)  768        ['block_5_depthwise[0][0]']      \n"
          ]
        },
        {
          "name": "stdout",
          "output_type": "stream",
          "text": [
            " malization)                                                                                      \n"
          ]
        },
        {
          "name": "stdout",
          "output_type": "stream",
          "text": [
            "                                                                                                  \n"
          ]
        },
        {
          "name": "stdout",
          "output_type": "stream",
          "text": [
            " block_5_depthwise_relu (ReLU)  (None, 20, 20, 192)  0           ['block_5_depthwise_BN[0][0]']   \n"
          ]
        },
        {
          "name": "stdout",
          "output_type": "stream",
          "text": [
            "                                                                                                  \n"
          ]
        },
        {
          "name": "stdout",
          "output_type": "stream",
          "text": [
            " block_5_project (Conv2D)       (None, 20, 20, 32)   6144        ['block_5_depthwise_relu[0][0]'] \n"
          ]
        },
        {
          "name": "stdout",
          "output_type": "stream",
          "text": [
            "                                                                                                  \n"
          ]
        },
        {
          "name": "stdout",
          "output_type": "stream",
          "text": [
            " block_5_project_BN (BatchNorma  (None, 20, 20, 32)  128         ['block_5_project[0][0]']        \n"
          ]
        },
        {
          "name": "stdout",
          "output_type": "stream",
          "text": [
            " lization)                                                                                        \n"
          ]
        },
        {
          "name": "stdout",
          "output_type": "stream",
          "text": [
            "                                                                                                  \n"
          ]
        },
        {
          "name": "stdout",
          "output_type": "stream",
          "text": [
            " block_5_add (Add)              (None, 20, 20, 32)   0           ['block_4_add[0][0]',            \n"
          ]
        },
        {
          "name": "stdout",
          "output_type": "stream",
          "text": [
            "                                                                  'block_5_project_BN[0][0]']     \n"
          ]
        },
        {
          "name": "stdout",
          "output_type": "stream",
          "text": [
            "                                                                                                  \n"
          ]
        },
        {
          "name": "stdout",
          "output_type": "stream",
          "text": [
            " block_6_expand (Conv2D)        (None, 20, 20, 192)  6144        ['block_5_add[0][0]']            \n"
          ]
        },
        {
          "name": "stdout",
          "output_type": "stream",
          "text": [
            "                                                                                                  \n"
          ]
        },
        {
          "name": "stdout",
          "output_type": "stream",
          "text": [
            " block_6_expand_BN (BatchNormal  (None, 20, 20, 192)  768        ['block_6_expand[0][0]']         \n"
          ]
        },
        {
          "name": "stdout",
          "output_type": "stream",
          "text": [
            " ization)                                                                                         \n"
          ]
        },
        {
          "name": "stdout",
          "output_type": "stream",
          "text": [
            "                                                                                                  \n"
          ]
        },
        {
          "name": "stdout",
          "output_type": "stream",
          "text": [
            " block_6_expand_relu (ReLU)     (None, 20, 20, 192)  0           ['block_6_expand_BN[0][0]']      \n"
          ]
        },
        {
          "name": "stdout",
          "output_type": "stream",
          "text": [
            "                                                                                                  \n"
          ]
        },
        {
          "name": "stdout",
          "output_type": "stream",
          "text": [
            " block_6_pad (ZeroPadding2D)    (None, 21, 21, 192)  0           ['block_6_expand_relu[0][0]']    \n"
          ]
        },
        {
          "name": "stdout",
          "output_type": "stream",
          "text": [
            "                                                                                                  \n"
          ]
        },
        {
          "name": "stdout",
          "output_type": "stream",
          "text": [
            " block_6_depthwise (DepthwiseCo  (None, 10, 10, 192)  1728       ['block_6_pad[0][0]']            \n"
          ]
        },
        {
          "name": "stdout",
          "output_type": "stream",
          "text": [
            " nv2D)                                                                                            \n"
          ]
        },
        {
          "name": "stdout",
          "output_type": "stream",
          "text": [
            "                                                                                                  \n"
          ]
        },
        {
          "name": "stdout",
          "output_type": "stream",
          "text": [
            " block_6_depthwise_BN (BatchNor  (None, 10, 10, 192)  768        ['block_6_depthwise[0][0]']      \n"
          ]
        },
        {
          "name": "stdout",
          "output_type": "stream",
          "text": [
            " malization)                                                                                      \n"
          ]
        },
        {
          "name": "stdout",
          "output_type": "stream",
          "text": [
            "                                                                                                  \n"
          ]
        },
        {
          "name": "stdout",
          "output_type": "stream",
          "text": [
            " block_6_depthwise_relu (ReLU)  (None, 10, 10, 192)  0           ['block_6_depthwise_BN[0][0]']   \n"
          ]
        },
        {
          "name": "stdout",
          "output_type": "stream",
          "text": [
            "                                                                                                  \n"
          ]
        },
        {
          "name": "stdout",
          "output_type": "stream",
          "text": [
            " block_6_project (Conv2D)       (None, 10, 10, 64)   12288       ['block_6_depthwise_relu[0][0]'] \n"
          ]
        },
        {
          "name": "stdout",
          "output_type": "stream",
          "text": [
            "                                                                                                  \n"
          ]
        },
        {
          "name": "stdout",
          "output_type": "stream",
          "text": [
            " block_6_project_BN (BatchNorma  (None, 10, 10, 64)  256         ['block_6_project[0][0]']        \n"
          ]
        },
        {
          "name": "stdout",
          "output_type": "stream",
          "text": [
            " lization)                                                                                        \n"
          ]
        },
        {
          "name": "stdout",
          "output_type": "stream",
          "text": [
            "                                                                                                  \n"
          ]
        },
        {
          "name": "stdout",
          "output_type": "stream",
          "text": [
            " block_7_expand (Conv2D)        (None, 10, 10, 384)  24576       ['block_6_project_BN[0][0]']     \n"
          ]
        },
        {
          "name": "stdout",
          "output_type": "stream",
          "text": [
            "                                                                                                  \n"
          ]
        },
        {
          "name": "stdout",
          "output_type": "stream",
          "text": [
            " block_7_expand_BN (BatchNormal  (None, 10, 10, 384)  1536       ['block_7_expand[0][0]']         \n"
          ]
        },
        {
          "name": "stdout",
          "output_type": "stream",
          "text": [
            " ization)                                                                                         \n"
          ]
        },
        {
          "name": "stdout",
          "output_type": "stream",
          "text": [
            "                                                                                                  \n"
          ]
        },
        {
          "name": "stdout",
          "output_type": "stream",
          "text": [
            " block_7_expand_relu (ReLU)     (None, 10, 10, 384)  0           ['block_7_expand_BN[0][0]']      \n"
          ]
        },
        {
          "name": "stdout",
          "output_type": "stream",
          "text": [
            "                                                                                                  \n"
          ]
        },
        {
          "name": "stdout",
          "output_type": "stream",
          "text": [
            " block_7_depthwise (DepthwiseCo  (None, 10, 10, 384)  3456       ['block_7_expand_relu[0][0]']    \n"
          ]
        },
        {
          "name": "stdout",
          "output_type": "stream",
          "text": [
            " nv2D)                                                                                            \n"
          ]
        },
        {
          "name": "stdout",
          "output_type": "stream",
          "text": [
            "                                                                                                  \n"
          ]
        },
        {
          "name": "stdout",
          "output_type": "stream",
          "text": [
            " block_7_depthwise_BN (BatchNor  (None, 10, 10, 384)  1536       ['block_7_depthwise[0][0]']      \n"
          ]
        },
        {
          "name": "stdout",
          "output_type": "stream",
          "text": [
            " malization)                                                                                      \n"
          ]
        },
        {
          "name": "stdout",
          "output_type": "stream",
          "text": [
            "                                                                                                  \n"
          ]
        },
        {
          "name": "stdout",
          "output_type": "stream",
          "text": [
            " block_7_depthwise_relu (ReLU)  (None, 10, 10, 384)  0           ['block_7_depthwise_BN[0][0]']   \n"
          ]
        },
        {
          "name": "stdout",
          "output_type": "stream",
          "text": [
            "                                                                                                  \n"
          ]
        },
        {
          "name": "stdout",
          "output_type": "stream",
          "text": [
            " block_7_project (Conv2D)       (None, 10, 10, 64)   24576       ['block_7_depthwise_relu[0][0]'] \n"
          ]
        },
        {
          "name": "stdout",
          "output_type": "stream",
          "text": [
            "                                                                                                  \n"
          ]
        },
        {
          "name": "stdout",
          "output_type": "stream",
          "text": [
            " block_7_project_BN (BatchNorma  (None, 10, 10, 64)  256         ['block_7_project[0][0]']        \n"
          ]
        },
        {
          "name": "stdout",
          "output_type": "stream",
          "text": [
            " lization)                                                                                        \n"
          ]
        },
        {
          "name": "stdout",
          "output_type": "stream",
          "text": [
            "                                                                                                  \n"
          ]
        },
        {
          "name": "stdout",
          "output_type": "stream",
          "text": [
            " block_7_add (Add)              (None, 10, 10, 64)   0           ['block_6_project_BN[0][0]',     \n"
          ]
        },
        {
          "name": "stdout",
          "output_type": "stream",
          "text": [
            "                                                                  'block_7_project_BN[0][0]']     \n"
          ]
        },
        {
          "name": "stdout",
          "output_type": "stream",
          "text": [
            "                                                                                                  \n"
          ]
        },
        {
          "name": "stdout",
          "output_type": "stream",
          "text": [
            " block_8_expand (Conv2D)        (None, 10, 10, 384)  24576       ['block_7_add[0][0]']            \n"
          ]
        },
        {
          "name": "stdout",
          "output_type": "stream",
          "text": [
            "                                                                                                  \n"
          ]
        },
        {
          "name": "stdout",
          "output_type": "stream",
          "text": [
            " block_8_expand_BN (BatchNormal  (None, 10, 10, 384)  1536       ['block_8_expand[0][0]']         \n"
          ]
        },
        {
          "name": "stdout",
          "output_type": "stream",
          "text": [
            " ization)                                                                                         \n"
          ]
        },
        {
          "name": "stdout",
          "output_type": "stream",
          "text": [
            "                                                                                                  \n"
          ]
        },
        {
          "name": "stdout",
          "output_type": "stream",
          "text": [
            " block_8_expand_relu (ReLU)     (None, 10, 10, 384)  0           ['block_8_expand_BN[0][0]']      \n"
          ]
        },
        {
          "name": "stdout",
          "output_type": "stream",
          "text": [
            "                                                                                                  \n"
          ]
        },
        {
          "name": "stdout",
          "output_type": "stream",
          "text": [
            " block_8_depthwise (DepthwiseCo  (None, 10, 10, 384)  3456       ['block_8_expand_relu[0][0]']    \n"
          ]
        },
        {
          "name": "stdout",
          "output_type": "stream",
          "text": [
            " nv2D)                                                                                            \n"
          ]
        },
        {
          "name": "stdout",
          "output_type": "stream",
          "text": [
            "                                                                                                  \n"
          ]
        },
        {
          "name": "stdout",
          "output_type": "stream",
          "text": [
            " block_8_depthwise_BN (BatchNor  (None, 10, 10, 384)  1536       ['block_8_depthwise[0][0]']      \n"
          ]
        },
        {
          "name": "stdout",
          "output_type": "stream",
          "text": [
            " malization)                                                                                      \n"
          ]
        },
        {
          "name": "stdout",
          "output_type": "stream",
          "text": [
            "                                                                                                  \n"
          ]
        },
        {
          "name": "stdout",
          "output_type": "stream",
          "text": [
            " block_8_depthwise_relu (ReLU)  (None, 10, 10, 384)  0           ['block_8_depthwise_BN[0][0]']   \n"
          ]
        },
        {
          "name": "stdout",
          "output_type": "stream",
          "text": [
            "                                                                                                  \n"
          ]
        },
        {
          "name": "stdout",
          "output_type": "stream",
          "text": [
            " block_8_project (Conv2D)       (None, 10, 10, 64)   24576       ['block_8_depthwise_relu[0][0]'] \n"
          ]
        },
        {
          "name": "stdout",
          "output_type": "stream",
          "text": [
            "                                                                                                  \n"
          ]
        },
        {
          "name": "stdout",
          "output_type": "stream",
          "text": [
            " block_8_project_BN (BatchNorma  (None, 10, 10, 64)  256         ['block_8_project[0][0]']        \n"
          ]
        },
        {
          "name": "stdout",
          "output_type": "stream",
          "text": [
            " lization)                                                                                        \n"
          ]
        },
        {
          "name": "stdout",
          "output_type": "stream",
          "text": [
            "                                                                                                  \n"
          ]
        },
        {
          "name": "stdout",
          "output_type": "stream",
          "text": [
            " block_8_add (Add)              (None, 10, 10, 64)   0           ['block_7_add[0][0]',            \n"
          ]
        },
        {
          "name": "stdout",
          "output_type": "stream",
          "text": [
            "                                                                  'block_8_project_BN[0][0]']     \n"
          ]
        },
        {
          "name": "stdout",
          "output_type": "stream",
          "text": [
            "                                                                                                  \n"
          ]
        },
        {
          "name": "stdout",
          "output_type": "stream",
          "text": [
            " block_9_expand (Conv2D)        (None, 10, 10, 384)  24576       ['block_8_add[0][0]']            \n"
          ]
        },
        {
          "name": "stdout",
          "output_type": "stream",
          "text": [
            "                                                                                                  \n"
          ]
        },
        {
          "name": "stdout",
          "output_type": "stream",
          "text": [
            " block_9_expand_BN (BatchNormal  (None, 10, 10, 384)  1536       ['block_9_expand[0][0]']         \n"
          ]
        },
        {
          "name": "stdout",
          "output_type": "stream",
          "text": [
            " ization)                                                                                         \n"
          ]
        },
        {
          "name": "stdout",
          "output_type": "stream",
          "text": [
            "                                                                                                  \n"
          ]
        },
        {
          "name": "stdout",
          "output_type": "stream",
          "text": [
            " block_9_expand_relu (ReLU)     (None, 10, 10, 384)  0           ['block_9_expand_BN[0][0]']      \n"
          ]
        },
        {
          "name": "stdout",
          "output_type": "stream",
          "text": [
            "                                                                                                  \n"
          ]
        },
        {
          "name": "stdout",
          "output_type": "stream",
          "text": [
            " block_9_depthwise (DepthwiseCo  (None, 10, 10, 384)  3456       ['block_9_expand_relu[0][0]']    \n"
          ]
        },
        {
          "name": "stdout",
          "output_type": "stream",
          "text": [
            " nv2D)                                                                                            \n"
          ]
        },
        {
          "name": "stdout",
          "output_type": "stream",
          "text": [
            "                                                                                                  \n"
          ]
        },
        {
          "name": "stdout",
          "output_type": "stream",
          "text": [
            " block_9_depthwise_BN (BatchNor  (None, 10, 10, 384)  1536       ['block_9_depthwise[0][0]']      \n"
          ]
        },
        {
          "name": "stdout",
          "output_type": "stream",
          "text": [
            " malization)                                                                                      \n"
          ]
        },
        {
          "name": "stdout",
          "output_type": "stream",
          "text": [
            "                                                                                                  \n"
          ]
        },
        {
          "name": "stdout",
          "output_type": "stream",
          "text": [
            " block_9_depthwise_relu (ReLU)  (None, 10, 10, 384)  0           ['block_9_depthwise_BN[0][0]']   \n"
          ]
        },
        {
          "name": "stdout",
          "output_type": "stream",
          "text": [
            "                                                                                                  \n"
          ]
        },
        {
          "name": "stdout",
          "output_type": "stream",
          "text": [
            " block_9_project (Conv2D)       (None, 10, 10, 64)   24576       ['block_9_depthwise_relu[0][0]'] \n"
          ]
        },
        {
          "name": "stdout",
          "output_type": "stream",
          "text": [
            "                                                                                                  \n"
          ]
        },
        {
          "name": "stdout",
          "output_type": "stream",
          "text": [
            " block_9_project_BN (BatchNorma  (None, 10, 10, 64)  256         ['block_9_project[0][0]']        \n"
          ]
        },
        {
          "name": "stdout",
          "output_type": "stream",
          "text": [
            " lization)                                                                                        \n"
          ]
        },
        {
          "name": "stdout",
          "output_type": "stream",
          "text": [
            "                                                                                                  \n"
          ]
        },
        {
          "name": "stdout",
          "output_type": "stream",
          "text": [
            " block_9_add (Add)              (None, 10, 10, 64)   0           ['block_8_add[0][0]',            \n"
          ]
        },
        {
          "name": "stdout",
          "output_type": "stream",
          "text": [
            "                                                                  'block_9_project_BN[0][0]']     \n"
          ]
        },
        {
          "name": "stdout",
          "output_type": "stream",
          "text": [
            "                                                                                                  \n"
          ]
        },
        {
          "name": "stdout",
          "output_type": "stream",
          "text": [
            " block_10_expand (Conv2D)       (None, 10, 10, 384)  24576       ['block_9_add[0][0]']            \n"
          ]
        },
        {
          "name": "stdout",
          "output_type": "stream",
          "text": [
            "                                                                                                  \n"
          ]
        },
        {
          "name": "stdout",
          "output_type": "stream",
          "text": [
            " block_10_expand_BN (BatchNorma  (None, 10, 10, 384)  1536       ['block_10_expand[0][0]']        \n"
          ]
        },
        {
          "name": "stdout",
          "output_type": "stream",
          "text": [
            " lization)                                                                                        \n"
          ]
        },
        {
          "name": "stdout",
          "output_type": "stream",
          "text": [
            "                                                                                                  \n"
          ]
        },
        {
          "name": "stdout",
          "output_type": "stream",
          "text": [
            " block_10_expand_relu (ReLU)    (None, 10, 10, 384)  0           ['block_10_expand_BN[0][0]']     \n"
          ]
        },
        {
          "name": "stdout",
          "output_type": "stream",
          "text": [
            "                                                                                                  \n"
          ]
        },
        {
          "name": "stdout",
          "output_type": "stream",
          "text": [
            " block_10_depthwise (DepthwiseC  (None, 10, 10, 384)  3456       ['block_10_expand_relu[0][0]']   \n"
          ]
        },
        {
          "name": "stdout",
          "output_type": "stream",
          "text": [
            " onv2D)                                                                                           \n"
          ]
        },
        {
          "name": "stdout",
          "output_type": "stream",
          "text": [
            "                                                                                                  \n"
          ]
        },
        {
          "name": "stdout",
          "output_type": "stream",
          "text": [
            " block_10_depthwise_BN (BatchNo  (None, 10, 10, 384)  1536       ['block_10_depthwise[0][0]']     \n"
          ]
        },
        {
          "name": "stdout",
          "output_type": "stream",
          "text": [
            " rmalization)                                                                                     \n"
          ]
        },
        {
          "name": "stdout",
          "output_type": "stream",
          "text": [
            "                                                                                                  \n"
          ]
        },
        {
          "name": "stdout",
          "output_type": "stream",
          "text": [
            " block_10_depthwise_relu (ReLU)  (None, 10, 10, 384)  0          ['block_10_depthwise_BN[0][0]']  \n"
          ]
        },
        {
          "name": "stdout",
          "output_type": "stream",
          "text": [
            "                                                                                                  \n"
          ]
        },
        {
          "name": "stdout",
          "output_type": "stream",
          "text": [
            " block_10_project (Conv2D)      (None, 10, 10, 96)   36864       ['block_10_depthwise_relu[0][0]']\n"
          ]
        },
        {
          "name": "stdout",
          "output_type": "stream",
          "text": [
            "                                                                                                  \n"
          ]
        },
        {
          "name": "stdout",
          "output_type": "stream",
          "text": [
            " block_10_project_BN (BatchNorm  (None, 10, 10, 96)  384         ['block_10_project[0][0]']       \n"
          ]
        },
        {
          "name": "stdout",
          "output_type": "stream",
          "text": [
            " alization)                                                                                       \n"
          ]
        },
        {
          "name": "stdout",
          "output_type": "stream",
          "text": [
            "                                                                                                  \n"
          ]
        },
        {
          "name": "stdout",
          "output_type": "stream",
          "text": [
            " block_11_expand (Conv2D)       (None, 10, 10, 576)  55296       ['block_10_project_BN[0][0]']    \n"
          ]
        },
        {
          "name": "stdout",
          "output_type": "stream",
          "text": [
            "                                                                                                  \n"
          ]
        },
        {
          "name": "stdout",
          "output_type": "stream",
          "text": [
            " block_11_expand_BN (BatchNorma  (None, 10, 10, 576)  2304       ['block_11_expand[0][0]']        \n"
          ]
        },
        {
          "name": "stdout",
          "output_type": "stream",
          "text": [
            " lization)                                                                                        \n"
          ]
        },
        {
          "name": "stdout",
          "output_type": "stream",
          "text": [
            "                                                                                                  \n"
          ]
        },
        {
          "name": "stdout",
          "output_type": "stream",
          "text": [
            " block_11_expand_relu (ReLU)    (None, 10, 10, 576)  0           ['block_11_expand_BN[0][0]']     \n"
          ]
        },
        {
          "name": "stdout",
          "output_type": "stream",
          "text": [
            "                                                                                                  \n"
          ]
        },
        {
          "name": "stdout",
          "output_type": "stream",
          "text": [
            " block_11_depthwise (DepthwiseC  (None, 10, 10, 576)  5184       ['block_11_expand_relu[0][0]']   \n"
          ]
        },
        {
          "name": "stdout",
          "output_type": "stream",
          "text": [
            " onv2D)                                                                                           \n"
          ]
        },
        {
          "name": "stdout",
          "output_type": "stream",
          "text": [
            "                                                                                                  \n"
          ]
        },
        {
          "name": "stdout",
          "output_type": "stream",
          "text": [
            " block_11_depthwise_BN (BatchNo  (None, 10, 10, 576)  2304       ['block_11_depthwise[0][0]']     \n"
          ]
        },
        {
          "name": "stdout",
          "output_type": "stream",
          "text": [
            " rmalization)                                                                                     \n"
          ]
        },
        {
          "name": "stdout",
          "output_type": "stream",
          "text": [
            "                                                                                                  \n"
          ]
        },
        {
          "name": "stdout",
          "output_type": "stream",
          "text": [
            " block_11_depthwise_relu (ReLU)  (None, 10, 10, 576)  0          ['block_11_depthwise_BN[0][0]']  \n"
          ]
        },
        {
          "name": "stdout",
          "output_type": "stream",
          "text": [
            "                                                                                                  \n"
          ]
        },
        {
          "name": "stdout",
          "output_type": "stream",
          "text": [
            " block_11_project (Conv2D)      (None, 10, 10, 96)   55296       ['block_11_depthwise_relu[0][0]']\n"
          ]
        },
        {
          "name": "stdout",
          "output_type": "stream",
          "text": [
            "                                                                                                  \n"
          ]
        },
        {
          "name": "stdout",
          "output_type": "stream",
          "text": [
            " block_11_project_BN (BatchNorm  (None, 10, 10, 96)  384         ['block_11_project[0][0]']       \n"
          ]
        },
        {
          "name": "stdout",
          "output_type": "stream",
          "text": [
            " alization)                                                                                       \n"
          ]
        },
        {
          "name": "stdout",
          "output_type": "stream",
          "text": [
            "                                                                                                  \n"
          ]
        },
        {
          "name": "stdout",
          "output_type": "stream",
          "text": [
            " block_11_add (Add)             (None, 10, 10, 96)   0           ['block_10_project_BN[0][0]',    \n"
          ]
        },
        {
          "name": "stdout",
          "output_type": "stream",
          "text": [
            "                                                                  'block_11_project_BN[0][0]']    \n"
          ]
        },
        {
          "name": "stdout",
          "output_type": "stream",
          "text": [
            "                                                                                                  \n"
          ]
        },
        {
          "name": "stdout",
          "output_type": "stream",
          "text": [
            " block_12_expand (Conv2D)       (None, 10, 10, 576)  55296       ['block_11_add[0][0]']           \n"
          ]
        },
        {
          "name": "stdout",
          "output_type": "stream",
          "text": [
            "                                                                                                  \n"
          ]
        },
        {
          "name": "stdout",
          "output_type": "stream",
          "text": [
            " block_12_expand_BN (BatchNorma  (None, 10, 10, 576)  2304       ['block_12_expand[0][0]']        \n"
          ]
        },
        {
          "name": "stdout",
          "output_type": "stream",
          "text": [
            " lization)                                                                                        \n"
          ]
        },
        {
          "name": "stdout",
          "output_type": "stream",
          "text": [
            "                                                                                                  \n"
          ]
        },
        {
          "name": "stdout",
          "output_type": "stream",
          "text": [
            " block_12_expand_relu (ReLU)    (None, 10, 10, 576)  0           ['block_12_expand_BN[0][0]']     \n"
          ]
        },
        {
          "name": "stdout",
          "output_type": "stream",
          "text": [
            "                                                                                                  \n"
          ]
        },
        {
          "name": "stdout",
          "output_type": "stream",
          "text": [
            " block_12_depthwise (DepthwiseC  (None, 10, 10, 576)  5184       ['block_12_expand_relu[0][0]']   \n"
          ]
        },
        {
          "name": "stdout",
          "output_type": "stream",
          "text": [
            " onv2D)                                                                                           \n"
          ]
        },
        {
          "name": "stdout",
          "output_type": "stream",
          "text": [
            "                                                                                                  \n"
          ]
        },
        {
          "name": "stdout",
          "output_type": "stream",
          "text": [
            " block_12_depthwise_BN (BatchNo  (None, 10, 10, 576)  2304       ['block_12_depthwise[0][0]']     \n"
          ]
        },
        {
          "name": "stdout",
          "output_type": "stream",
          "text": [
            " rmalization)                                                                                     \n"
          ]
        },
        {
          "name": "stdout",
          "output_type": "stream",
          "text": [
            "                                                                                                  \n"
          ]
        },
        {
          "name": "stdout",
          "output_type": "stream",
          "text": [
            " block_12_depthwise_relu (ReLU)  (None, 10, 10, 576)  0          ['block_12_depthwise_BN[0][0]']  \n"
          ]
        },
        {
          "name": "stdout",
          "output_type": "stream",
          "text": [
            "                                                                                                  \n"
          ]
        },
        {
          "name": "stdout",
          "output_type": "stream",
          "text": [
            " block_12_project (Conv2D)      (None, 10, 10, 96)   55296       ['block_12_depthwise_relu[0][0]']\n"
          ]
        },
        {
          "name": "stdout",
          "output_type": "stream",
          "text": [
            "                                                                                                  \n"
          ]
        },
        {
          "name": "stdout",
          "output_type": "stream",
          "text": [
            " block_12_project_BN (BatchNorm  (None, 10, 10, 96)  384         ['block_12_project[0][0]']       \n"
          ]
        },
        {
          "name": "stdout",
          "output_type": "stream",
          "text": [
            " alization)                                                                                       \n"
          ]
        },
        {
          "name": "stdout",
          "output_type": "stream",
          "text": [
            "                                                                                                  \n"
          ]
        },
        {
          "name": "stdout",
          "output_type": "stream",
          "text": [
            " block_12_add (Add)             (None, 10, 10, 96)   0           ['block_11_add[0][0]',           \n"
          ]
        },
        {
          "name": "stdout",
          "output_type": "stream",
          "text": [
            "                                                                  'block_12_project_BN[0][0]']    \n"
          ]
        },
        {
          "name": "stdout",
          "output_type": "stream",
          "text": [
            "                                                                                                  \n"
          ]
        },
        {
          "name": "stdout",
          "output_type": "stream",
          "text": [
            " block_13_expand (Conv2D)       (None, 10, 10, 576)  55296       ['block_12_add[0][0]']           \n"
          ]
        },
        {
          "name": "stdout",
          "output_type": "stream",
          "text": [
            "                                                                                                  \n"
          ]
        },
        {
          "name": "stdout",
          "output_type": "stream",
          "text": [
            " block_13_expand_BN (BatchNorma  (None, 10, 10, 576)  2304       ['block_13_expand[0][0]']        \n"
          ]
        },
        {
          "name": "stdout",
          "output_type": "stream",
          "text": [
            " lization)                                                                                        \n"
          ]
        },
        {
          "name": "stdout",
          "output_type": "stream",
          "text": [
            "                                                                                                  \n"
          ]
        },
        {
          "name": "stdout",
          "output_type": "stream",
          "text": [
            " block_13_expand_relu (ReLU)    (None, 10, 10, 576)  0           ['block_13_expand_BN[0][0]']     \n"
          ]
        },
        {
          "name": "stdout",
          "output_type": "stream",
          "text": [
            "                                                                                                  \n"
          ]
        },
        {
          "name": "stdout",
          "output_type": "stream",
          "text": [
            " block_13_pad (ZeroPadding2D)   (None, 11, 11, 576)  0           ['block_13_expand_relu[0][0]']   \n"
          ]
        },
        {
          "name": "stdout",
          "output_type": "stream",
          "text": [
            "                                                                                                  \n"
          ]
        },
        {
          "name": "stdout",
          "output_type": "stream",
          "text": [
            " block_13_depthwise (DepthwiseC  (None, 5, 5, 576)   5184        ['block_13_pad[0][0]']           \n"
          ]
        },
        {
          "name": "stdout",
          "output_type": "stream",
          "text": [
            " onv2D)                                                                                           \n"
          ]
        },
        {
          "name": "stdout",
          "output_type": "stream",
          "text": [
            "                                                                                                  \n"
          ]
        },
        {
          "name": "stdout",
          "output_type": "stream",
          "text": [
            " block_13_depthwise_BN (BatchNo  (None, 5, 5, 576)   2304        ['block_13_depthwise[0][0]']     \n"
          ]
        },
        {
          "name": "stdout",
          "output_type": "stream",
          "text": [
            " rmalization)                                                                                     \n"
          ]
        },
        {
          "name": "stdout",
          "output_type": "stream",
          "text": [
            "                                                                                                  \n"
          ]
        },
        {
          "name": "stdout",
          "output_type": "stream",
          "text": [
            " block_13_depthwise_relu (ReLU)  (None, 5, 5, 576)   0           ['block_13_depthwise_BN[0][0]']  \n"
          ]
        },
        {
          "name": "stdout",
          "output_type": "stream",
          "text": [
            "                                                                                                  \n"
          ]
        },
        {
          "name": "stdout",
          "output_type": "stream",
          "text": [
            " block_13_project (Conv2D)      (None, 5, 5, 160)    92160       ['block_13_depthwise_relu[0][0]']\n"
          ]
        },
        {
          "name": "stdout",
          "output_type": "stream",
          "text": [
            "                                                                                                  \n"
          ]
        },
        {
          "name": "stdout",
          "output_type": "stream",
          "text": [
            " block_13_project_BN (BatchNorm  (None, 5, 5, 160)   640         ['block_13_project[0][0]']       \n"
          ]
        },
        {
          "name": "stdout",
          "output_type": "stream",
          "text": [
            " alization)                                                                                       \n"
          ]
        },
        {
          "name": "stdout",
          "output_type": "stream",
          "text": [
            "                                                                                                  \n"
          ]
        },
        {
          "name": "stdout",
          "output_type": "stream",
          "text": [
            " block_14_expand (Conv2D)       (None, 5, 5, 960)    153600      ['block_13_project_BN[0][0]']    \n"
          ]
        },
        {
          "name": "stdout",
          "output_type": "stream",
          "text": [
            "                                                                                                  \n"
          ]
        },
        {
          "name": "stdout",
          "output_type": "stream",
          "text": [
            " block_14_expand_BN (BatchNorma  (None, 5, 5, 960)   3840        ['block_14_expand[0][0]']        \n"
          ]
        },
        {
          "name": "stdout",
          "output_type": "stream",
          "text": [
            " lization)                                                                                        \n"
          ]
        },
        {
          "name": "stdout",
          "output_type": "stream",
          "text": [
            "                                                                                                  \n"
          ]
        },
        {
          "name": "stdout",
          "output_type": "stream",
          "text": [
            " block_14_expand_relu (ReLU)    (None, 5, 5, 960)    0           ['block_14_expand_BN[0][0]']     \n"
          ]
        },
        {
          "name": "stdout",
          "output_type": "stream",
          "text": [
            "                                                                                                  \n"
          ]
        },
        {
          "name": "stdout",
          "output_type": "stream",
          "text": [
            " block_14_depthwise (DepthwiseC  (None, 5, 5, 960)   8640        ['block_14_expand_relu[0][0]']   \n"
          ]
        },
        {
          "name": "stdout",
          "output_type": "stream",
          "text": [
            " onv2D)                                                                                           \n"
          ]
        },
        {
          "name": "stdout",
          "output_type": "stream",
          "text": [
            "                                                                                                  \n"
          ]
        },
        {
          "name": "stdout",
          "output_type": "stream",
          "text": [
            " block_14_depthwise_BN (BatchNo  (None, 5, 5, 960)   3840        ['block_14_depthwise[0][0]']     \n"
          ]
        },
        {
          "name": "stdout",
          "output_type": "stream",
          "text": [
            " rmalization)                                                                                     \n"
          ]
        },
        {
          "name": "stdout",
          "output_type": "stream",
          "text": [
            "                                                                                                  \n"
          ]
        },
        {
          "name": "stdout",
          "output_type": "stream",
          "text": [
            " block_14_depthwise_relu (ReLU)  (None, 5, 5, 960)   0           ['block_14_depthwise_BN[0][0]']  \n"
          ]
        },
        {
          "name": "stdout",
          "output_type": "stream",
          "text": [
            "                                                                                                  \n"
          ]
        },
        {
          "name": "stdout",
          "output_type": "stream",
          "text": [
            " block_14_project (Conv2D)      (None, 5, 5, 160)    153600      ['block_14_depthwise_relu[0][0]']\n"
          ]
        },
        {
          "name": "stdout",
          "output_type": "stream",
          "text": [
            "                                                                                                  \n"
          ]
        },
        {
          "name": "stdout",
          "output_type": "stream",
          "text": [
            " block_14_project_BN (BatchNorm  (None, 5, 5, 160)   640         ['block_14_project[0][0]']       \n"
          ]
        },
        {
          "name": "stdout",
          "output_type": "stream",
          "text": [
            " alization)                                                                                       \n"
          ]
        },
        {
          "name": "stdout",
          "output_type": "stream",
          "text": [
            "                                                                                                  \n"
          ]
        },
        {
          "name": "stdout",
          "output_type": "stream",
          "text": [
            " block_14_add (Add)             (None, 5, 5, 160)    0           ['block_13_project_BN[0][0]',    \n"
          ]
        },
        {
          "name": "stdout",
          "output_type": "stream",
          "text": [
            "                                                                  'block_14_project_BN[0][0]']    \n"
          ]
        },
        {
          "name": "stdout",
          "output_type": "stream",
          "text": [
            "                                                                                                  \n"
          ]
        },
        {
          "name": "stdout",
          "output_type": "stream",
          "text": [
            " block_15_expand (Conv2D)       (None, 5, 5, 960)    153600      ['block_14_add[0][0]']           \n"
          ]
        },
        {
          "name": "stdout",
          "output_type": "stream",
          "text": [
            "                                                                                                  \n"
          ]
        },
        {
          "name": "stdout",
          "output_type": "stream",
          "text": [
            " block_15_expand_BN (BatchNorma  (None, 5, 5, 960)   3840        ['block_15_expand[0][0]']        \n"
          ]
        },
        {
          "name": "stdout",
          "output_type": "stream",
          "text": [
            " lization)                                                                                        \n"
          ]
        },
        {
          "name": "stdout",
          "output_type": "stream",
          "text": [
            "                                                                                                  \n"
          ]
        },
        {
          "name": "stdout",
          "output_type": "stream",
          "text": [
            " block_15_expand_relu (ReLU)    (None, 5, 5, 960)    0           ['block_15_expand_BN[0][0]']     \n"
          ]
        },
        {
          "name": "stdout",
          "output_type": "stream",
          "text": [
            "                                                                                                  \n"
          ]
        },
        {
          "name": "stdout",
          "output_type": "stream",
          "text": [
            " block_15_depthwise (DepthwiseC  (None, 5, 5, 960)   8640        ['block_15_expand_relu[0][0]']   \n"
          ]
        },
        {
          "name": "stdout",
          "output_type": "stream",
          "text": [
            " onv2D)                                                                                           \n"
          ]
        },
        {
          "name": "stdout",
          "output_type": "stream",
          "text": [
            "                                                                                                  \n"
          ]
        },
        {
          "name": "stdout",
          "output_type": "stream",
          "text": [
            " block_15_depthwise_BN (BatchNo  (None, 5, 5, 960)   3840        ['block_15_depthwise[0][0]']     \n"
          ]
        },
        {
          "name": "stdout",
          "output_type": "stream",
          "text": [
            " rmalization)                                                                                     \n"
          ]
        },
        {
          "name": "stdout",
          "output_type": "stream",
          "text": [
            "                                                                                                  \n"
          ]
        },
        {
          "name": "stdout",
          "output_type": "stream",
          "text": [
            " block_15_depthwise_relu (ReLU)  (None, 5, 5, 960)   0           ['block_15_depthwise_BN[0][0]']  \n"
          ]
        },
        {
          "name": "stdout",
          "output_type": "stream",
          "text": [
            "                                                                                                  \n"
          ]
        },
        {
          "name": "stdout",
          "output_type": "stream",
          "text": [
            " block_15_project (Conv2D)      (None, 5, 5, 160)    153600      ['block_15_depthwise_relu[0][0]']\n"
          ]
        },
        {
          "name": "stdout",
          "output_type": "stream",
          "text": [
            "                                                                                                  \n"
          ]
        },
        {
          "name": "stdout",
          "output_type": "stream",
          "text": [
            " block_15_project_BN (BatchNorm  (None, 5, 5, 160)   640         ['block_15_project[0][0]']       \n"
          ]
        },
        {
          "name": "stdout",
          "output_type": "stream",
          "text": [
            " alization)                                                                                       \n"
          ]
        },
        {
          "name": "stdout",
          "output_type": "stream",
          "text": [
            "                                                                                                  \n"
          ]
        },
        {
          "name": "stdout",
          "output_type": "stream",
          "text": [
            " block_15_add (Add)             (None, 5, 5, 160)    0           ['block_14_add[0][0]',           \n"
          ]
        },
        {
          "name": "stdout",
          "output_type": "stream",
          "text": [
            "                                                                  'block_15_project_BN[0][0]']    \n"
          ]
        },
        {
          "name": "stdout",
          "output_type": "stream",
          "text": [
            "                                                                                                  \n"
          ]
        },
        {
          "name": "stdout",
          "output_type": "stream",
          "text": [
            " block_16_expand (Conv2D)       (None, 5, 5, 960)    153600      ['block_15_add[0][0]']           \n"
          ]
        },
        {
          "name": "stdout",
          "output_type": "stream",
          "text": [
            "                                                                                                  \n"
          ]
        },
        {
          "name": "stdout",
          "output_type": "stream",
          "text": [
            " block_16_expand_BN (BatchNorma  (None, 5, 5, 960)   3840        ['block_16_expand[0][0]']        \n"
          ]
        },
        {
          "name": "stdout",
          "output_type": "stream",
          "text": [
            " lization)                                                                                        \n"
          ]
        },
        {
          "name": "stdout",
          "output_type": "stream",
          "text": [
            "                                                                                                  \n"
          ]
        },
        {
          "name": "stdout",
          "output_type": "stream",
          "text": [
            " block_16_expand_relu (ReLU)    (None, 5, 5, 960)    0           ['block_16_expand_BN[0][0]']     \n"
          ]
        },
        {
          "name": "stdout",
          "output_type": "stream",
          "text": [
            "                                                                                                  \n"
          ]
        },
        {
          "name": "stdout",
          "output_type": "stream",
          "text": [
            " block_16_depthwise (DepthwiseC  (None, 5, 5, 960)   8640        ['block_16_expand_relu[0][0]']   \n"
          ]
        },
        {
          "name": "stdout",
          "output_type": "stream",
          "text": [
            " onv2D)                                                                                           \n"
          ]
        },
        {
          "name": "stdout",
          "output_type": "stream",
          "text": [
            "                                                                                                  \n"
          ]
        },
        {
          "name": "stdout",
          "output_type": "stream",
          "text": [
            " block_16_depthwise_BN (BatchNo  (None, 5, 5, 960)   3840        ['block_16_depthwise[0][0]']     \n"
          ]
        },
        {
          "name": "stdout",
          "output_type": "stream",
          "text": [
            " rmalization)                                                                                     \n"
          ]
        },
        {
          "name": "stdout",
          "output_type": "stream",
          "text": [
            "                                                                                                  \n"
          ]
        },
        {
          "name": "stdout",
          "output_type": "stream",
          "text": [
            " block_16_depthwise_relu (ReLU)  (None, 5, 5, 960)   0           ['block_16_depthwise_BN[0][0]']  \n"
          ]
        },
        {
          "name": "stdout",
          "output_type": "stream",
          "text": [
            "                                                                                                  \n"
          ]
        },
        {
          "name": "stdout",
          "output_type": "stream",
          "text": [
            " block_16_project (Conv2D)      (None, 5, 5, 320)    307200      ['block_16_depthwise_relu[0][0]']\n"
          ]
        },
        {
          "name": "stdout",
          "output_type": "stream",
          "text": [
            "                                                                                                  \n"
          ]
        },
        {
          "name": "stdout",
          "output_type": "stream",
          "text": [
            " block_16_project_BN (BatchNorm  (None, 5, 5, 320)   1280        ['block_16_project[0][0]']       \n"
          ]
        },
        {
          "name": "stdout",
          "output_type": "stream",
          "text": [
            " alization)                                                                                       \n"
          ]
        },
        {
          "name": "stdout",
          "output_type": "stream",
          "text": [
            "                                                                                                  \n"
          ]
        },
        {
          "name": "stdout",
          "output_type": "stream",
          "text": [
            " Conv_1 (Conv2D)                (None, 5, 5, 1280)   409600      ['block_16_project_BN[0][0]']    \n"
          ]
        },
        {
          "name": "stdout",
          "output_type": "stream",
          "text": [
            "                                                                                                  \n"
          ]
        },
        {
          "name": "stdout",
          "output_type": "stream",
          "text": [
            " Conv_1_bn (BatchNormalization)  (None, 5, 5, 1280)  5120        ['Conv_1[0][0]']                 \n"
          ]
        },
        {
          "name": "stdout",
          "output_type": "stream",
          "text": [
            "                                                                                                  \n"
          ]
        },
        {
          "name": "stdout",
          "output_type": "stream",
          "text": [
            " out_relu (ReLU)                (None, 5, 5, 1280)   0           ['Conv_1_bn[0][0]']              \n"
          ]
        },
        {
          "name": "stdout",
          "output_type": "stream",
          "text": [
            "                                                                                                  \n"
          ]
        },
        {
          "name": "stdout",
          "output_type": "stream",
          "text": [
            "==================================================================================================\n"
          ]
        },
        {
          "name": "stdout",
          "output_type": "stream",
          "text": [
            "Total params: 2,257,984\n"
          ]
        },
        {
          "name": "stdout",
          "output_type": "stream",
          "text": [
            "Trainable params: 0\n"
          ]
        },
        {
          "name": "stdout",
          "output_type": "stream",
          "text": [
            "Non-trainable params: 2,257,984\n"
          ]
        },
        {
          "name": "stdout",
          "output_type": "stream",
          "text": [
            "__________________________________________________________________________________________________\n"
          ]
        }
      ],
      "source": [
        "# the base model architecture\n",
        "base_model.summary()"
      ]
    },
    {
      "cell_type": "markdown",
      "metadata": {
        "id": "wdMRM8YModbk"
      },
      "source": [
        "### Add a classification head"
      ]
    },
    {
      "cell_type": "code",
      "execution_count": null,
      "metadata": {
        "execution": {
          "iopub.execute_input": "2022-06-08T04:09:15.216709Z",
          "iopub.status.busy": "2022-06-08T04:09:15.216496Z",
          "iopub.status.idle": "2022-06-08T04:09:15.221037Z",
          "shell.execute_reply": "2022-06-08T04:09:15.220486Z"
        },
        "id": "dLnpMF5KOALm",
        "outputId": "ee77e2ec-ae22-442d-839d-75a442df2582"
      },
      "outputs": [
        {
          "name": "stdout",
          "output_type": "stream",
          "text": [
            "(32, 1280)\n"
          ]
        }
      ],
      "source": [
        "global_average_layer = tf.keras.layers.GlobalAveragePooling2D()\n",
        "feature_batch_average = global_average_layer(feature_batch)\n",
        "print(feature_batch_average.shape)"
      ]
    },
    {
      "cell_type": "code",
      "execution_count": null,
      "metadata": {
        "execution": {
          "iopub.execute_input": "2022-06-08T04:09:15.224008Z",
          "iopub.status.busy": "2022-06-08T04:09:15.223652Z",
          "iopub.status.idle": "2022-06-08T04:09:15.231049Z",
          "shell.execute_reply": "2022-06-08T04:09:15.230513Z"
        },
        "id": "Wv4afXKj6cVa",
        "outputId": "074640dd-7ba4-4dbd-bdfe-0344e0d02bc2"
      },
      "outputs": [
        {
          "name": "stdout",
          "output_type": "stream",
          "text": [
            "(32, 1)\n"
          ]
        }
      ],
      "source": [
        "prediction_layer = tf.keras.layers.Dense(1)\n",
        "prediction_batch = prediction_layer(feature_batch_average)\n",
        "print(prediction_batch.shape)"
      ]
    },
    {
      "cell_type": "code",
      "execution_count": null,
      "metadata": {
        "execution": {
          "iopub.execute_input": "2022-06-08T04:09:15.233845Z",
          "iopub.status.busy": "2022-06-08T04:09:15.233434Z",
          "iopub.status.idle": "2022-06-08T04:09:15.567936Z",
          "shell.execute_reply": "2022-06-08T04:09:15.567352Z"
        },
        "id": "DgzQX6Veb2WT"
      },
      "outputs": [],
      "source": [
        "inputs = tf.keras.Input(shape=(160, 160, 3))\n",
        "x = data_augmentation(inputs)\n",
        "x = preprocess_input(x)\n",
        "x = base_model(x, training=False)\n",
        "x = global_average_layer(x)\n",
        "x = tf.keras.layers.Dropout(0.2)(x)\n",
        "outputs = prediction_layer(x)\n",
        "model = tf.keras.Model(inputs, outputs)"
      ]
    },
    {
      "cell_type": "markdown",
      "metadata": {
        "id": "g0ylJXE_kRLi"
      },
      "source": [
        "### Compile the model\n",
        "\n"
      ]
    },
    {
      "cell_type": "code",
      "execution_count": null,
      "metadata": {
        "execution": {
          "iopub.execute_input": "2022-06-08T04:09:15.570859Z",
          "iopub.status.busy": "2022-06-08T04:09:15.570646Z",
          "iopub.status.idle": "2022-06-08T04:09:15.581603Z",
          "shell.execute_reply": "2022-06-08T04:09:15.581011Z"
        },
        "id": "RpR8HdyMhukJ"
      },
      "outputs": [],
      "source": [
        "base_learning_rate = 0.0001\n",
        "model.compile(optimizer=tf.keras.optimizers.Adam(learning_rate=base_learning_rate),\n",
        "              loss=tf.keras.losses.BinaryCrossentropy(from_logits=True),\n",
        "              metrics=['accuracy'])"
      ]
    },
    {
      "cell_type": "code",
      "execution_count": null,
      "metadata": {
        "execution": {
          "iopub.execute_input": "2022-06-08T04:09:15.584523Z",
          "iopub.status.busy": "2022-06-08T04:09:15.584082Z",
          "iopub.status.idle": "2022-06-08T04:09:15.603581Z",
          "shell.execute_reply": "2022-06-08T04:09:15.603047Z"
        },
        "id": "I8ARiyMFsgbH",
        "outputId": "a3ed38af-9572-4db0-f68f-f0eb589fe26d"
      },
      "outputs": [
        {
          "name": "stdout",
          "output_type": "stream",
          "text": [
            "Model: \"model\"\n"
          ]
        },
        {
          "name": "stdout",
          "output_type": "stream",
          "text": [
            "_________________________________________________________________\n"
          ]
        },
        {
          "name": "stdout",
          "output_type": "stream",
          "text": [
            " Layer (type)                Output Shape              Param #   \n"
          ]
        },
        {
          "name": "stdout",
          "output_type": "stream",
          "text": [
            "=================================================================\n"
          ]
        },
        {
          "name": "stdout",
          "output_type": "stream",
          "text": [
            " input_2 (InputLayer)        [(None, 160, 160, 3)]     0         \n"
          ]
        },
        {
          "name": "stdout",
          "output_type": "stream",
          "text": [
            "                                                                 \n"
          ]
        },
        {
          "name": "stdout",
          "output_type": "stream",
          "text": [
            " sequential (Sequential)     (None, 160, 160, 3)       0         \n"
          ]
        },
        {
          "name": "stdout",
          "output_type": "stream",
          "text": [
            "                                                                 \n"
          ]
        },
        {
          "name": "stdout",
          "output_type": "stream",
          "text": [
            " tf.math.truediv (TFOpLambda  (None, 160, 160, 3)      0         \n"
          ]
        },
        {
          "name": "stdout",
          "output_type": "stream",
          "text": [
            " )                                                               \n"
          ]
        },
        {
          "name": "stdout",
          "output_type": "stream",
          "text": [
            "                                                                 \n"
          ]
        },
        {
          "name": "stdout",
          "output_type": "stream",
          "text": [
            " tf.math.subtract (TFOpLambd  (None, 160, 160, 3)      0         \n"
          ]
        },
        {
          "name": "stdout",
          "output_type": "stream",
          "text": [
            " a)                                                              \n"
          ]
        },
        {
          "name": "stdout",
          "output_type": "stream",
          "text": [
            "                                                                 \n"
          ]
        },
        {
          "name": "stdout",
          "output_type": "stream",
          "text": [
            " mobilenetv2_1.00_160 (Funct  (None, 5, 5, 1280)       2257984   \n"
          ]
        },
        {
          "name": "stdout",
          "output_type": "stream",
          "text": [
            " ional)                                                          \n"
          ]
        },
        {
          "name": "stdout",
          "output_type": "stream",
          "text": [
            "                                                                 \n"
          ]
        },
        {
          "name": "stdout",
          "output_type": "stream",
          "text": [
            " global_average_pooling2d (G  (None, 1280)             0         \n"
          ]
        },
        {
          "name": "stdout",
          "output_type": "stream",
          "text": [
            " lobalAveragePooling2D)                                          \n"
          ]
        },
        {
          "name": "stdout",
          "output_type": "stream",
          "text": [
            "                                                                 \n"
          ]
        },
        {
          "name": "stdout",
          "output_type": "stream",
          "text": [
            " dropout (Dropout)           (None, 1280)              0         \n"
          ]
        },
        {
          "name": "stdout",
          "output_type": "stream",
          "text": [
            "                                                                 \n"
          ]
        },
        {
          "name": "stdout",
          "output_type": "stream",
          "text": [
            " dense (Dense)               (None, 1)                 1281      \n"
          ]
        },
        {
          "name": "stdout",
          "output_type": "stream",
          "text": [
            "                                                                 \n"
          ]
        },
        {
          "name": "stdout",
          "output_type": "stream",
          "text": [
            "=================================================================\n"
          ]
        },
        {
          "name": "stdout",
          "output_type": "stream",
          "text": [
            "Total params: 2,259,265\n"
          ]
        },
        {
          "name": "stdout",
          "output_type": "stream",
          "text": [
            "Trainable params: 1,281\n"
          ]
        },
        {
          "name": "stdout",
          "output_type": "stream",
          "text": [
            "Non-trainable params: 2,257,984\n"
          ]
        },
        {
          "name": "stdout",
          "output_type": "stream",
          "text": [
            "_________________________________________________________________\n"
          ]
        }
      ],
      "source": [
        "model.summary()"
      ]
    },
    {
      "cell_type": "code",
      "execution_count": null,
      "metadata": {
        "execution": {
          "iopub.execute_input": "2022-06-08T04:09:15.609251Z",
          "iopub.status.busy": "2022-06-08T04:09:15.608818Z",
          "iopub.status.idle": "2022-06-08T04:09:15.612713Z",
          "shell.execute_reply": "2022-06-08T04:09:15.612194Z"
        },
        "id": "krvBumovycVA",
        "outputId": "83ba1a7c-d7ea-4f0f-bc28-4d414d66f16a"
      },
      "outputs": [
        {
          "data": {
            "text/plain": [
              "2"
            ]
          },
          "execution_count": 23,
          "metadata": {},
          "output_type": "execute_result"
        }
      ],
      "source": [
        "len(model.trainable_variables)"
      ]
    },
    {
      "cell_type": "markdown",
      "metadata": {
        "id": "RxvgOYTDSWTx"
      },
      "source": [
        "### Train the model\n",
        "\n"
      ]
    },
    {
      "cell_type": "code",
      "execution_count": null,
      "metadata": {
        "execution": {
          "iopub.execute_input": "2022-06-08T04:09:15.615423Z",
          "iopub.status.busy": "2022-06-08T04:09:15.614930Z",
          "iopub.status.idle": "2022-06-08T04:09:17.445552Z",
          "shell.execute_reply": "2022-06-08T04:09:17.444713Z"
        },
        "id": "Om4O3EESkab1",
        "outputId": "838caddc-07ef-40c9-a95c-c35a7a66183f"
      },
      "outputs": [
        {
          "name": "stdout",
          "output_type": "stream",
          "text": [
            "\r",
            " 1/26 [>.............................] - ETA: 32s - loss: 0.8032 - accuracy: 0.4688"
          ]
        },
        {
          "name": "stdout",
          "output_type": "stream",
          "text": [
            "\b\b\b\b\b\b\b\b\b\b\b\b\b\b\b\b\b\b\b\b\b\b\b\b\b\b\b\b\b\b\b\b\b\b\b\b\b\b\b\b\b\b\b\b\b\b\b\b\b\b\b\b\b\b\b\b\b\b\b\b\b\b\b\b\b\b\b\b\b\b\b\b\b\b\b\b\b\b\b\b\b\b\b\r",
            " 4/26 [===>..........................] - ETA: 0s - loss: 0.8377 - accuracy: 0.4453 "
          ]
        },
        {
          "name": "stdout",
          "output_type": "stream",
          "text": [
            "\b\b\b\b\b\b\b\b\b\b\b\b\b\b\b\b\b\b\b\b\b\b\b\b\b\b\b\b\b\b\b\b\b\b\b\b\b\b\b\b\b\b\b\b\b\b\b\b\b\b\b\b\b\b\b\b\b\b\b\b\b\b\b\b\b\b\b\b\b\b\b\b\b\b\b\b\b\b\b\b\b\b\r",
            " 7/26 [=======>......................] - ETA: 0s - loss: 0.8395 - accuracy: 0.4598"
          ]
        },
        {
          "name": "stdout",
          "output_type": "stream",
          "text": [
            "\b\b\b\b\b\b\b\b\b\b\b\b\b\b\b\b\b\b\b\b\b\b\b\b\b\b\b\b\b\b\b\b\b\b\b\b\b\b\b\b\b\b\b\b\b\b\b\b\b\b\b\b\b\b\b\b\b\b\b\b\b\b\b\b\b\b\b\b\b\b\b\b\b\b\b\b\b\b\b\b\b\b\r",
            "10/26 [==========>...................] - ETA: 0s - loss: 0.8248 - accuracy: 0.4625"
          ]
        },
        {
          "name": "stdout",
          "output_type": "stream",
          "text": [
            "\b\b\b\b\b\b\b\b\b\b\b\b\b\b\b\b\b\b\b\b\b\b\b\b\b\b\b\b\b\b\b\b\b\b\b\b\b\b\b\b\b\b\b\b\b\b\b\b\b\b\b\b\b\b\b\b\b\b\b\b\b\b\b\b\b\b\b\b\b\b\b\b\b\b\b\b\b\b\b\b\b\b\r",
            "13/26 [==============>...............] - ETA: 0s - loss: 0.8257 - accuracy: 0.4760"
          ]
        },
        {
          "name": "stdout",
          "output_type": "stream",
          "text": [
            "\b\b\b\b\b\b\b\b\b\b\b\b\b\b\b\b\b\b\b\b\b\b\b\b\b\b\b\b\b\b\b\b\b\b\b\b\b\b\b\b\b\b\b\b\b\b\b\b\b\b\b\b\b\b\b\b\b\b\b\b\b\b\b\b\b\b\b\b\b\b\b\b\b\b\b\b\b\b\b\b\b\b\r",
            "16/26 [=================>............] - ETA: 0s - loss: 0.8152 - accuracy: 0.4844"
          ]
        },
        {
          "name": "stdout",
          "output_type": "stream",
          "text": [
            "\b\b\b\b\b\b\b\b\b\b\b\b\b\b\b\b\b\b\b\b\b\b\b\b\b\b\b\b\b\b\b\b\b\b\b\b\b\b\b\b\b\b\b\b\b\b\b\b\b\b\b\b\b\b\b\b\b\b\b\b\b\b\b\b\b\b\b\b\b\b\b\b\b\b\b\b\b\b\b\b\b\b\r",
            "19/26 [====================>.........] - ETA: 0s - loss: 0.8223 - accuracy: 0.4803"
          ]
        },
        {
          "name": "stdout",
          "output_type": "stream",
          "text": [
            "\b\b\b\b\b\b\b\b\b\b\b\b\b\b\b\b\b\b\b\b\b\b\b\b\b\b\b\b\b\b\b\b\b\b\b\b\b\b\b\b\b\b\b\b\b\b\b\b\b\b\b\b\b\b\b\b\b\b\b\b\b\b\b\b\b\b\b\b\b\b\b\b\b\b\b\b\b\b\b\b\b\b\r",
            "22/26 [========================>.....] - ETA: 0s - loss: 0.8375 - accuracy: 0.4744"
          ]
        },
        {
          "name": "stdout",
          "output_type": "stream",
          "text": [
            "\b\b\b\b\b\b\b\b\b\b\b\b\b\b\b\b\b\b\b\b\b\b\b\b\b\b\b\b\b\b\b\b\b\b\b\b\b\b\b\b\b\b\b\b\b\b\b\b\b\b\b\b\b\b\b\b\b\b\b\b\b\b\b\b\b\b\b\b\b\b\b\b\b\b\b\b\b\b\b\b\b\b\r",
            "26/26 [==============================] - ETA: 0s - loss: 0.8350 - accuracy: 0.4802"
          ]
        },
        {
          "name": "stdout",
          "output_type": "stream",
          "text": [
            "\b\b\b\b\b\b\b\b\b\b\b\b\b\b\b\b\b\b\b\b\b\b\b\b\b\b\b\b\b\b\b\b\b\b\b\b\b\b\b\b\b\b\b\b\b\b\b\b\b\b\b\b\b\b\b\b\b\b\b\b\b\b\b\b\b\b\b\b\b\b\b\b\b\b\b\b\b\b\b\b\b\b\r",
            "26/26 [==============================] - 2s 20ms/step - loss: 0.8350 - accuracy: 0.4802\n"
          ]
        }
      ],
      "source": [
        "initial_epochs = 10\n",
        "\n",
        "loss0, accuracy0 = model.evaluate(validation_dataset)"
      ]
    },
    {
      "cell_type": "code",
      "execution_count": null,
      "metadata": {
        "execution": {
          "iopub.execute_input": "2022-06-08T04:09:17.448825Z",
          "iopub.status.busy": "2022-06-08T04:09:17.448306Z",
          "iopub.status.idle": "2022-06-08T04:09:17.452142Z",
          "shell.execute_reply": "2022-06-08T04:09:17.451459Z"
        },
        "id": "8cYT1c48CuSd",
        "outputId": "a5ee1eaf-6ad8-4a65-de32-2c740c731793"
      },
      "outputs": [
        {
          "name": "stdout",
          "output_type": "stream",
          "text": [
            "initial loss: 0.83\n",
            "initial accuracy: 0.48\n"
          ]
        }
      ],
      "source": [
        "print(\"initial loss: {:.2f}\".format(loss0))\n",
        "print(\"initial accuracy: {:.2f}\".format(accuracy0))"
      ]
    },
    {
      "cell_type": "code",
      "execution_count": null,
      "metadata": {
        "execution": {
          "iopub.execute_input": "2022-06-08T04:09:17.455155Z",
          "iopub.status.busy": "2022-06-08T04:09:17.454668Z",
          "iopub.status.idle": "2022-06-08T04:09:42.627986Z",
          "shell.execute_reply": "2022-06-08T04:09:42.627261Z"
        },
        "id": "JsaRFlZ9B6WK",
        "outputId": "90086e10-d9d8-4f9b-a4d0-422e9faec297"
      },
      "outputs": [
        {
          "name": "stdout",
          "output_type": "stream",
          "text": [
            "Epoch 1/10\n"
          ]
        },
        {
          "name": "stdout",
          "output_type": "stream",
          "text": [
            "\r",
            " 1/63 [..............................] - ETA: 2:36 - loss: 0.9221 - accuracy: 0.4375"
          ]
        },
        {
          "name": "stdout",
          "output_type": "stream",
          "text": [
            "\b\b\b\b\b\b\b\b\b\b\b\b\b\b\b\b\b\b\b\b\b\b\b\b\b\b\b\b\b\b\b\b\b\b\b\b\b\b\b\b\b\b\b\b\b\b\b\b\b\b\b\b\b\b\b\b\b\b\b\b\b\b\b\b\b\b\b\b\b\b\b\b\b\b\b\b\b\b\b\b\b\b\b\b\r",
            " 3/63 [>.............................] - ETA: 1s - loss: 0.9257 - accuracy: 0.4375  "
          ]
        },
        {
          "name": "stdout",
          "output_type": "stream",
          "text": [
            "\b\b\b\b\b\b\b\b\b\b\b\b\b\b\b\b\b\b\b\b\b\b\b\b\b\b\b\b\b\b\b\b\b\b\b\b\b\b\b\b\b\b\b\b\b\b\b\b\b\b\b\b\b\b\b\b\b\b\b\b\b\b\b\b\b\b\b\b\b\b\b\b\b\b\b\b\b\b\b\b\b\b\r",
            " 5/63 [=>............................] - ETA: 1s - loss: 0.9143 - accuracy: 0.4437"
          ]
        },
        {
          "name": "stdout",
          "output_type": "stream",
          "text": [
            "\b\b\b\b\b\b\b\b\b\b\b\b\b\b\b\b\b\b\b\b\b\b\b\b\b\b\b\b\b\b\b\b\b\b\b\b\b\b\b\b\b\b\b\b\b\b\b\b\b\b\b\b\b\b\b\b\b\b\b\b\b\b\b\b\b\b\b\b\b\b\b\b\b\b\b\b\b\b\b\b\b\b\r",
            " 7/63 [==>...........................] - ETA: 1s - loss: 0.8891 - accuracy: 0.4643"
          ]
        },
        {
          "name": "stdout",
          "output_type": "stream",
          "text": [
            "\b\b\b\b\b\b\b\b\b\b\b\b\b\b\b\b\b\b\b\b\b\b\b\b\b\b\b\b\b\b\b\b\b\b\b\b\b\b\b\b\b\b\b\b\b\b\b\b\b\b\b\b\b\b\b\b\b\b\b\b\b\b\b\b\b\b\b\b\b\b\b\b\b\b\b\b\b\b\b\b\b\b\r",
            " 9/63 [===>..........................] - ETA: 1s - loss: 0.8917 - accuracy: 0.4618"
          ]
        },
        {
          "name": "stdout",
          "output_type": "stream",
          "text": [
            "\b\b\b\b\b\b\b\b\b\b\b\b\b\b\b\b\b\b\b\b\b\b\b\b\b\b\b\b\b\b\b\b\b\b\b\b\b\b\b\b\b\b\b\b\b\b\b\b\b\b\b\b\b\b\b\b\b\b\b\b\b\b\b\b\b\b\b\b\b\b\b\b\b\b\b\b\b\b\b\b\b\b\r",
            "11/63 [====>.........................] - ETA: 1s - loss: 0.8820 - accuracy: 0.4744"
          ]
        },
        {
          "name": "stdout",
          "output_type": "stream",
          "text": [
            "\b\b\b\b\b\b\b\b\b\b\b\b\b\b\b\b\b\b\b\b\b\b\b\b\b\b\b\b\b\b\b\b\b\b\b\b\b\b\b\b\b\b\b\b\b\b\b\b\b\b\b\b\b\b\b\b\b\b\b\b\b\b\b\b\b\b\b\b\b\b\b\b\b\b\b\b\b\b\b\b\b\b\r",
            "13/63 [=====>........................] - ETA: 1s - loss: 0.8773 - accuracy: 0.4712"
          ]
        },
        {
          "name": "stdout",
          "output_type": "stream",
          "text": [
            "\b\b\b\b\b\b\b\b\b\b\b\b\b\b\b\b\b\b\b\b\b\b\b\b\b\b\b\b\b\b\b\b\b\b\b\b\b\b\b\b\b\b\b\b\b\b\b\b\b\b\b\b\b\b\b\b\b\b\b\b\b\b\b\b\b\b\b\b\b\b\b\b\b\b\b\b\b\b\b\b\b\b\r",
            "15/63 [======>.......................] - ETA: 1s - loss: 0.8791 - accuracy: 0.4667"
          ]
        },
        {
          "name": "stdout",
          "output_type": "stream",
          "text": [
            "\b\b\b\b\b\b\b\b\b\b\b\b\b\b\b\b\b\b\b\b\b\b\b\b\b\b\b\b\b\b\b\b\b\b\b\b\b\b\b\b\b\b\b\b\b\b\b\b\b\b\b\b\b\b\b\b\b\b\b\b\b\b\b\b\b\b\b\b\b\b\b\b\b\b\b\b\b\b\b\b\b\b\r",
            "17/63 [=======>......................] - ETA: 1s - loss: 0.8674 - accuracy: 0.4779"
          ]
        },
        {
          "name": "stdout",
          "output_type": "stream",
          "text": [
            "\b\b\b\b\b\b\b\b\b\b\b\b\b\b\b\b\b\b\b\b\b\b\b\b\b\b\b\b\b\b\b\b\b\b\b\b\b\b\b\b\b\b\b\b\b\b\b\b\b\b\b\b\b\b\b\b\b\b\b\b\b\b\b\b\b\b\b\b\b\b\b\b\b\b\b\b\b\b\b\b\b\b\r",
            "19/63 [========>.....................] - ETA: 1s - loss: 0.8602 - accuracy: 0.4786"
          ]
        },
        {
          "name": "stdout",
          "output_type": "stream",
          "text": [
            "\b\b\b\b\b\b\b\b\b\b\b\b\b\b\b\b\b\b\b\b\b\b\b\b\b\b\b\b\b\b\b\b\b\b\b\b\b\b\b\b\b\b\b\b\b\b\b\b\b\b\b\b\b\b\b\b\b\b\b\b\b\b\b\b\b\b\b\b\b\b\b\b\b\b\b\b\b\b\b\b\b\b\r",
            "21/63 [=========>....................] - ETA: 1s - loss: 0.8539 - accuracy: 0.4940"
          ]
        },
        {
          "name": "stdout",
          "output_type": "stream",
          "text": [
            "\b\b\b\b\b\b\b\b\b\b\b\b\b\b\b\b\b\b\b\b\b\b\b\b\b\b\b\b\b\b\b\b\b\b\b\b\b\b\b\b\b\b\b\b\b\b\b\b\b\b\b\b\b\b\b\b\b\b\b\b\b\b\b\b\b\b\b\b\b\b\b\b\b\b\b\b\b\b\b\b\b\b\r",
            "23/63 [=========>....................] - ETA: 1s - loss: 0.8539 - accuracy: 0.4932"
          ]
        },
        {
          "name": "stdout",
          "output_type": "stream",
          "text": [
            "\b\b\b\b\b\b\b\b\b\b\b\b\b\b\b\b\b\b\b\b\b\b\b\b\b\b\b\b\b\b\b\b\b\b\b\b\b\b\b\b\b\b\b\b\b\b\b\b\b\b\b\b\b\b\b\b\b\b\b\b\b\b\b\b\b\b\b\b\b\b\b\b\b\b\b\b\b\b\b\b\b\b\r",
            "25/63 [==========>...................] - ETA: 1s - loss: 0.8612 - accuracy: 0.4888"
          ]
        },
        {
          "name": "stdout",
          "output_type": "stream",
          "text": [
            "\b\b\b\b\b\b\b\b\b\b\b\b\b\b\b\b\b\b\b\b\b\b\b\b\b\b\b\b\b\b\b\b\b\b\b\b\b\b\b\b\b\b\b\b\b\b\b\b\b\b\b\b\b\b\b\b\b\b\b\b\b\b\b\b\b\b\b\b\b\b\b\b\b\b\b\b\b\b\b\b\b\b\r",
            "27/63 [===========>..................] - ETA: 1s - loss: 0.8444 - accuracy: 0.4954"
          ]
        },
        {
          "name": "stdout",
          "output_type": "stream",
          "text": [
            "\b\b\b\b\b\b\b\b\b\b\b\b\b\b\b\b\b\b\b\b\b\b\b\b\b\b\b\b\b\b\b\b\b\b\b\b\b\b\b\b\b\b\b\b\b\b\b\b\b\b\b\b\b\b\b\b\b\b\b\b\b\b\b\b\b\b\b\b\b\b\b\b\b\b\b\b\b\b\b\b\b\b\r",
            "29/63 [============>.................] - ETA: 0s - loss: 0.8350 - accuracy: 0.4978"
          ]
        },
        {
          "name": "stdout",
          "output_type": "stream",
          "text": [
            "\b\b\b\b\b\b\b\b\b\b\b\b\b\b\b\b\b\b\b\b\b\b\b\b\b\b\b\b\b\b\b\b\b\b\b\b\b\b\b\b\b\b\b\b\b\b\b\b\b\b\b\b\b\b\b\b\b\b\b\b\b\b\b\b\b\b\b\b\b\b\b\b\b\b\b\b\b\b\b\b\b\b\r",
            "31/63 [=============>................] - ETA: 0s - loss: 0.8340 - accuracy: 0.5010"
          ]
        },
        {
          "name": "stdout",
          "output_type": "stream",
          "text": [
            "\b\b\b\b\b\b\b\b\b\b\b\b\b\b\b\b\b\b\b\b\b\b\b\b\b\b\b\b\b\b\b\b\b\b\b\b\b\b\b\b\b\b\b\b\b\b\b\b\b\b\b\b\b\b\b\b\b\b\b\b\b\b\b\b\b\b\b\b\b\b\b\b\b\b\b\b\b\b\b\b\b\b\r",
            "33/63 [==============>...............] - ETA: 0s - loss: 0.8231 - accuracy: 0.5066"
          ]
        },
        {
          "name": "stdout",
          "output_type": "stream",
          "text": [
            "\b\b\b\b\b\b\b\b\b\b\b\b\b\b\b\b\b\b\b\b\b\b\b\b\b\b\b\b\b\b\b\b\b\b\b\b\b\b\b\b\b\b\b\b\b\b\b\b\b\b\b\b\b\b\b\b\b\b\b\b\b\b\b\b\b\b\b\b\b\b\b\b\b\b\b\b\b\b\b\b\b\b\r",
            "35/63 [===============>..............] - ETA: 0s - loss: 0.8210 - accuracy: 0.5054"
          ]
        },
        {
          "name": "stdout",
          "output_type": "stream",
          "text": [
            "\b\b\b\b\b\b\b\b\b\b\b\b\b\b\b\b\b\b\b\b\b\b\b\b\b\b\b\b\b\b\b\b\b\b\b\b\b\b\b\b\b\b\b\b\b\b\b\b\b\b\b\b\b\b\b\b\b\b\b\b\b\b\b\b\b\b\b\b\b\b\b\b\b\b\b\b\b\b\b\b\b\b\r",
            "37/63 [================>.............] - ETA: 0s - loss: 0.8163 - accuracy: 0.5084"
          ]
        },
        {
          "name": "stdout",
          "output_type": "stream",
          "text": [
            "\b\b\b\b\b\b\b\b\b\b\b\b\b\b\b\b\b\b\b\b\b\b\b\b\b\b\b\b\b\b\b\b\b\b\b\b\b\b\b\b\b\b\b\b\b\b\b\b\b\b\b\b\b\b\b\b\b\b\b\b\b\b\b\b\b\b\b\b\b\b\b\b\b\b\b\b\b\b\b\b\b\b\r",
            "39/63 [=================>............] - ETA: 0s - loss: 0.8099 - accuracy: 0.5112"
          ]
        },
        {
          "name": "stdout",
          "output_type": "stream",
          "text": [
            "\b\b\b\b\b\b\b\b\b\b\b\b\b\b\b\b\b\b\b\b\b\b\b\b\b\b\b\b\b\b\b\b\b\b\b\b\b\b\b\b\b\b\b\b\b\b\b\b\b\b\b\b\b\b\b\b\b\b\b\b\b\b\b\b\b\b\b\b\b\b\b\b\b\b\b\b\b\b\b\b\b\b\r",
            "41/63 [==================>...........] - ETA: 0s - loss: 0.8038 - accuracy: 0.5130"
          ]
        },
        {
          "name": "stdout",
          "output_type": "stream",
          "text": [
            "\b\b\b\b\b\b\b\b\b\b\b\b\b\b\b\b\b\b\b\b\b\b\b\b\b\b\b\b\b\b\b\b\b\b\b\b\b\b\b\b\b\b\b\b\b\b\b\b\b\b\b\b\b\b\b\b\b\b\b\b\b\b\b\b\b\b\b\b\b\b\b\b\b\b\b\b\b\b\b\b\b\b\r",
            "43/63 [===================>..........] - ETA: 0s - loss: 0.7985 - accuracy: 0.5145"
          ]
        },
        {
          "name": "stdout",
          "output_type": "stream",
          "text": [
            "\b\b\b\b\b\b\b\b\b\b\b\b\b\b\b\b\b\b\b\b\b\b\b\b\b\b\b\b\b\b\b\b\b\b\b\b\b\b\b\b\b\b\b\b\b\b\b\b\b\b\b\b\b\b\b\b\b\b\b\b\b\b\b\b\b\b\b\b\b\b\b\b\b\b\b\b\b\b\b\b\b\b\r",
            "45/63 [====================>.........] - ETA: 0s - loss: 0.7986 - accuracy: 0.5132"
          ]
        },
        {
          "name": "stdout",
          "output_type": "stream",
          "text": [
            "\b\b\b\b\b\b\b\b\b\b\b\b\b\b\b\b\b\b\b\b\b\b\b\b\b\b\b\b\b\b\b\b\b\b\b\b\b\b\b\b\b\b\b\b\b\b\b\b\b\b\b\b\b\b\b\b\b\b\b\b\b\b\b\b\b\b\b\b\b\b\b\b\b\b\b\b\b\b\b\b\b\b\r",
            "47/63 [=====================>........] - ETA: 0s - loss: 0.7938 - accuracy: 0.5186"
          ]
        },
        {
          "name": "stdout",
          "output_type": "stream",
          "text": [
            "\b\b\b\b\b\b\b\b\b\b\b\b\b\b\b\b\b\b\b\b\b\b\b\b\b\b\b\b\b\b\b\b\b\b\b\b\b\b\b\b\b\b\b\b\b\b\b\b\b\b\b\b\b\b\b\b\b\b\b\b\b\b\b\b\b\b\b\b\b\b\b\b\b\b\b\b\b\b\b\b\b\b\r",
            "49/63 [======================>.......] - ETA: 0s - loss: 0.7915 - accuracy: 0.5198"
          ]
        },
        {
          "name": "stdout",
          "output_type": "stream",
          "text": [
            "\b\b\b\b\b\b\b\b\b\b\b\b\b\b\b\b\b\b\b\b\b\b\b\b\b\b\b\b\b\b\b\b\b\b\b\b\b\b\b\b\b\b\b\b\b\b\b\b\b\b\b\b\b\b\b\b\b\b\b\b\b\b\b\b\b\b\b\b\b\b\b\b\b\b\b\b\b\b\b\b\b\b\r",
            "51/63 [=======================>......] - ETA: 0s - loss: 0.7868 - accuracy: 0.5257"
          ]
        },
        {
          "name": "stdout",
          "output_type": "stream",
          "text": [
            "\b\b\b\b\b\b\b\b\b\b\b\b\b\b\b\b\b\b\b\b\b\b\b\b\b\b\b\b\b\b\b\b\b\b\b\b\b\b\b\b\b\b\b\b\b\b\b\b\b\b\b\b\b\b\b\b\b\b\b\b\b\b\b\b\b\b\b\b\b\b\b\b\b\b\b\b\b\b\b\b\b\b\r",
            "53/63 [========================>.....] - ETA: 0s - loss: 0.7841 - accuracy: 0.5277"
          ]
        },
        {
          "name": "stdout",
          "output_type": "stream",
          "text": [
            "\b\b\b\b\b\b\b\b\b\b\b\b\b\b\b\b\b\b\b\b\b\b\b\b\b\b\b\b\b\b\b\b\b\b\b\b\b\b\b\b\b\b\b\b\b\b\b\b\b\b\b\b\b\b\b\b\b\b\b\b\b\b\b\b\b\b\b\b\b\b\b\b\b\b\b\b\b\b\b\b\b\b\r",
            "55/63 [=========================>....] - ETA: 0s - loss: 0.7795 - accuracy: 0.5290"
          ]
        },
        {
          "name": "stdout",
          "output_type": "stream",
          "text": [
            "\b\b\b\b\b\b\b\b\b\b\b\b\b\b\b\b\b\b\b\b\b\b\b\b\b\b\b\b\b\b\b\b\b\b\b\b\b\b\b\b\b\b\b\b\b\b\b\b\b\b\b\b\b\b\b\b\b\b\b\b\b\b\b\b\b\b\b\b\b\b\b\b\b\b\b\b\b\b\b\b\b\b\r",
            "57/63 [==========================>...] - ETA: 0s - loss: 0.7765 - accuracy: 0.5312"
          ]
        },
        {
          "name": "stdout",
          "output_type": "stream",
          "text": [
            "\b\b\b\b\b\b\b\b\b\b\b\b\b\b\b\b\b\b\b\b\b\b\b\b\b\b\b\b\b\b\b\b\b\b\b\b\b\b\b\b\b\b\b\b\b\b\b\b\b\b\b\b\b\b\b\b\b\b\b\b\b\b\b\b\b\b\b\b\b\b\b\b\b\b\b\b\b\b\b\b\b\b\r",
            "59/63 [===========================>..] - ETA: 0s - loss: 0.7713 - accuracy: 0.5355"
          ]
        },
        {
          "name": "stdout",
          "output_type": "stream",
          "text": [
            "\b\b\b\b\b\b\b\b\b\b\b\b\b\b\b\b\b\b\b\b\b\b\b\b\b\b\b\b\b\b\b\b\b\b\b\b\b\b\b\b\b\b\b\b\b\b\b\b\b\b\b\b\b\b\b\b\b\b\b\b\b\b\b\b\b\b\b\b\b\b\b\b\b\b\b\b\b\b\b\b\b\b\r",
            "61/63 [============================>.] - ETA: 0s - loss: 0.7672 - accuracy: 0.5389"
          ]
        },
        {
          "name": "stdout",
          "output_type": "stream",
          "text": [
            "\b\b\b\b\b\b\b\b\b\b\b\b\b\b\b\b\b\b\b\b\b\b\b\b\b\b\b\b\b\b\b\b\b\b\b\b\b\b\b\b\b\b\b\b\b\b\b\b\b\b\b\b\b\b\b\b\b\b\b\b\b\b\b\b\b\b\b\b\b\b\b\b\b\b\b\b\b\b\b\b\b\b\r",
            "63/63 [==============================] - ETA: 0s - loss: 0.7652 - accuracy: 0.5425"
          ]
        },
        {
          "name": "stdout",
          "output_type": "stream",
          "text": [
            "\b\b\b\b\b\b\b\b\b\b\b\b\b\b\b\b\b\b\b\b\b\b\b\b\b\b\b\b\b\b\b\b\b\b\b\b\b\b\b\b\b\b\b\b\b\b\b\b\b\b\b\b\b\b\b\b\b\b\b\b\b\b\b\b\b\b\b\b\b\b\b\b\b\b\b\b\b\b\b\b\b\b\r",
            "63/63 [==============================] - 5s 37ms/step - loss: 0.7652 - accuracy: 0.5425 - val_loss: 0.5543 - val_accuracy: 0.6696\n"
          ]
        },
        {
          "name": "stdout",
          "output_type": "stream",
          "text": [
            "Epoch 2/10\n"
          ]
        },
        {
          "name": "stdout",
          "output_type": "stream",
          "text": [
            "\r",
            " 1/63 [..............................] - ETA: 3s - loss: 0.5888 - accuracy: 0.4688"
          ]
        },
        {
          "name": "stdout",
          "output_type": "stream",
          "text": [
            "\b\b\b\b\b\b\b\b\b\b\b\b\b\b\b\b\b\b\b\b\b\b\b\b\b\b\b\b\b\b\b\b\b\b\b\b\b\b\b\b\b\b\b\b\b\b\b\b\b\b\b\b\b\b\b\b\b\b\b\b\b\b\b\b\b\b\b\b\b\b\b\b\b\b\b\b\b\b\b\b\b\b\r",
            " 3/63 [>.............................] - ETA: 1s - loss: 0.7088 - accuracy: 0.5104"
          ]
        },
        {
          "name": "stdout",
          "output_type": "stream",
          "text": [
            "\b\b\b\b\b\b\b\b\b\b\b\b\b\b\b\b\b\b\b\b\b\b\b\b\b\b\b\b\b\b\b\b\b\b\b\b\b\b\b\b\b\b\b\b\b\b\b\b\b\b\b\b\b\b\b\b\b\b\b\b\b\b\b\b\b\b\b\b\b\b\b\b\b\b\b\b\b\b\b\b\b\b\r",
            " 5/63 [=>............................] - ETA: 1s - loss: 0.6363 - accuracy: 0.5938"
          ]
        },
        {
          "name": "stdout",
          "output_type": "stream",
          "text": [
            "\b\b\b\b\b\b\b\b\b\b\b\b\b\b\b\b\b\b\b\b\b\b\b\b\b\b\b\b\b\b\b\b\b\b\b\b\b\b\b\b\b\b\b\b\b\b\b\b\b\b\b\b\b\b\b\b\b\b\b\b\b\b\b\b\b\b\b\b\b\b\b\b\b\b\b\b\b\b\b\b\b\b\r",
            " 7/63 [==>...........................] - ETA: 1s - loss: 0.6431 - accuracy: 0.5938"
          ]
        },
        {
          "name": "stdout",
          "output_type": "stream",
          "text": [
            "\b\b\b\b\b\b\b\b\b\b\b\b\b\b\b\b\b\b\b\b\b\b\b\b\b\b\b\b\b\b\b\b\b\b\b\b\b\b\b\b\b\b\b\b\b\b\b\b\b\b\b\b\b\b\b\b\b\b\b\b\b\b\b\b\b\b\b\b\b\b\b\b\b\b\b\b\b\b\b\b\b\b\r",
            " 9/63 [===>..........................] - ETA: 1s - loss: 0.6364 - accuracy: 0.6042"
          ]
        },
        {
          "name": "stdout",
          "output_type": "stream",
          "text": [
            "\b\b\b\b\b\b\b\b\b\b\b\b\b\b\b\b\b\b\b\b\b\b\b\b\b\b\b\b\b\b\b\b\b\b\b\b\b\b\b\b\b\b\b\b\b\b\b\b\b\b\b\b\b\b\b\b\b\b\b\b\b\b\b\b\b\b\b\b\b\b\b\b\b\b\b\b\b\b\b\b\b\b\r",
            "11/63 [====>.........................] - ETA: 1s - loss: 0.6324 - accuracy: 0.6165"
          ]
        },
        {
          "name": "stdout",
          "output_type": "stream",
          "text": [
            "\b\b\b\b\b\b\b\b\b\b\b\b\b\b\b\b\b\b\b\b\b\b\b\b\b\b\b\b\b\b\b\b\b\b\b\b\b\b\b\b\b\b\b\b\b\b\b\b\b\b\b\b\b\b\b\b\b\b\b\b\b\b\b\b\b\b\b\b\b\b\b\b\b\b\b\b\b\b\b\b\b\b\r",
            "13/63 [=====>........................] - ETA: 1s - loss: 0.6411 - accuracy: 0.6058"
          ]
        },
        {
          "name": "stdout",
          "output_type": "stream",
          "text": [
            "\b\b\b\b\b\b\b\b\b\b\b\b\b\b\b\b\b\b\b\b\b\b\b\b\b\b\b\b\b\b\b\b\b\b\b\b\b\b\b\b\b\b\b\b\b\b\b\b\b\b\b\b\b\b\b\b\b\b\b\b\b\b\b\b\b\b\b\b\b\b\b\b\b\b\b\b\b\b\b\b\b\b\r",
            "15/63 [======>.......................] - ETA: 1s - loss: 0.6413 - accuracy: 0.5958"
          ]
        },
        {
          "name": "stdout",
          "output_type": "stream",
          "text": [
            "\b\b\b\b\b\b\b\b\b\b\b\b\b\b\b\b\b\b\b\b\b\b\b\b\b\b\b\b\b\b\b\b\b\b\b\b\b\b\b\b\b\b\b\b\b\b\b\b\b\b\b\b\b\b\b\b\b\b\b\b\b\b\b\b\b\b\b\b\b\b\b\b\b\b\b\b\b\b\b\b\b\b\r",
            "17/63 [=======>......................] - ETA: 1s - loss: 0.6301 - accuracy: 0.6011"
          ]
        },
        {
          "name": "stdout",
          "output_type": "stream",
          "text": [
            "\b\b\b\b\b\b\b\b\b\b\b\b\b\b\b\b\b\b\b\b\b\b\b\b\b\b\b\b\b\b\b\b\b\b\b\b\b\b\b\b\b\b\b\b\b\b\b\b\b\b\b\b\b\b\b\b\b\b\b\b\b\b\b\b\b\b\b\b\b\b\b\b\b\b\b\b\b\b\b\b\b\b\r",
            "19/63 [========>.....................] - ETA: 1s - loss: 0.6295 - accuracy: 0.6053"
          ]
        },
        {
          "name": "stdout",
          "output_type": "stream",
          "text": [
            "\b\b\b\b\b\b\b\b\b\b\b\b\b\b\b\b\b\b\b\b\b\b\b\b\b\b\b\b\b\b\b\b\b\b\b\b\b\b\b\b\b\b\b\b\b\b\b\b\b\b\b\b\b\b\b\b\b\b\b\b\b\b\b\b\b\b\b\b\b\b\b\b\b\b\b\b\b\b\b\b\b\b\r",
            "21/63 [=========>....................] - ETA: 1s - loss: 0.6184 - accuracy: 0.6116"
          ]
        },
        {
          "name": "stdout",
          "output_type": "stream",
          "text": [
            "\b\b\b\b\b\b\b\b\b\b\b\b\b\b\b\b\b\b\b\b\b\b\b\b\b\b\b\b\b\b\b\b\b\b\b\b\b\b\b\b\b\b\b\b\b\b\b\b\b\b\b\b\b\b\b\b\b\b\b\b\b\b\b\b\b\b\b\b\b\b\b\b\b\b\b\b\b\b\b\b\b\b\r",
            "23/63 [=========>....................] - ETA: 1s - loss: 0.6114 - accuracy: 0.6168"
          ]
        },
        {
          "name": "stdout",
          "output_type": "stream",
          "text": [
            "\b\b\b\b\b\b\b\b\b\b\b\b\b\b\b\b\b\b\b\b\b\b\b\b\b\b\b\b\b\b\b\b\b\b\b\b\b\b\b\b\b\b\b\b\b\b\b\b\b\b\b\b\b\b\b\b\b\b\b\b\b\b\b\b\b\b\b\b\b\b\b\b\b\b\b\b\b\b\b\b\b\b\r",
            "25/63 [==========>...................] - ETA: 1s - loss: 0.6091 - accuracy: 0.6212"
          ]
        },
        {
          "name": "stdout",
          "output_type": "stream",
          "text": [
            "\b\b\b\b\b\b\b\b\b\b\b\b\b\b\b\b\b\b\b\b\b\b\b\b\b\b\b\b\b\b\b\b\b\b\b\b\b\b\b\b\b\b\b\b\b\b\b\b\b\b\b\b\b\b\b\b\b\b\b\b\b\b\b\b\b\b\b\b\b\b\b\b\b\b\b\b\b\b\b\b\b\b\r",
            "27/63 [===========>..................] - ETA: 1s - loss: 0.5984 - accuracy: 0.6262"
          ]
        },
        {
          "name": "stdout",
          "output_type": "stream",
          "text": [
            "\b\b\b\b\b\b\b\b\b\b\b\b\b\b\b\b\b\b\b\b\b\b\b\b\b\b\b\b\b\b\b\b\b\b\b\b\b\b\b\b\b\b\b\b\b\b\b\b\b\b\b\b\b\b\b\b\b\b\b\b\b\b\b\b\b\b\b\b\b\b\b\b\b\b\b\b\b\b\b\b\b\b\r",
            "29/63 [============>.................] - ETA: 0s - loss: 0.5960 - accuracy: 0.6282"
          ]
        },
        {
          "name": "stdout",
          "output_type": "stream",
          "text": [
            "\b\b\b\b\b\b\b\b\b\b\b\b\b\b\b\b\b\b\b\b\b\b\b\b\b\b\b\b\b\b\b\b\b\b\b\b\b\b\b\b\b\b\b\b\b\b\b\b\b\b\b\b\b\b\b\b\b\b\b\b\b\b\b\b\b\b\b\b\b\b\b\b\b\b\b\b\b\b\b\b\b\b\r",
            "31/63 [=============>................] - ETA: 0s - loss: 0.5913 - accuracy: 0.6331"
          ]
        },
        {
          "name": "stdout",
          "output_type": "stream",
          "text": [
            "\b\b\b\b\b\b\b\b\b\b\b\b\b\b\b\b\b\b\b\b\b\b\b\b\b\b\b\b\b\b\b\b\b\b\b\b\b\b\b\b\b\b\b\b\b\b\b\b\b\b\b\b\b\b\b\b\b\b\b\b\b\b\b\b\b\b\b\b\b\b\b\b\b\b\b\b\b\b\b\b\b\b\r",
            "33/63 [==============>...............] - ETA: 0s - loss: 0.5898 - accuracy: 0.6354"
          ]
        },
        {
          "name": "stdout",
          "output_type": "stream",
          "text": [
            "\b\b\b\b\b\b\b\b\b\b\b\b\b\b\b\b\b\b\b\b\b\b\b\b\b\b\b\b\b\b\b\b\b\b\b\b\b\b\b\b\b\b\b\b\b\b\b\b\b\b\b\b\b\b\b\b\b\b\b\b\b\b\b\b\b\b\b\b\b\b\b\b\b\b\b\b\b\b\b\b\b\b\r",
            "35/63 [===============>..............] - ETA: 0s - loss: 0.5845 - accuracy: 0.6402"
          ]
        },
        {
          "name": "stdout",
          "output_type": "stream",
          "text": [
            "\b\b\b\b\b\b\b\b\b\b\b\b\b\b\b\b\b\b\b\b\b\b\b\b\b\b\b\b\b\b\b\b\b\b\b\b\b\b\b\b\b\b\b\b\b\b\b\b\b\b\b\b\b\b\b\b\b\b\b\b\b\b\b\b\b\b\b\b\b\b\b\b\b\b\b\b\b\b\b\b\b\b\r",
            "37/63 [================>.............] - ETA: 0s - loss: 0.5828 - accuracy: 0.6444"
          ]
        },
        {
          "name": "stdout",
          "output_type": "stream",
          "text": [
            "\b\b\b\b\b\b\b\b\b\b\b\b\b\b\b\b\b\b\b\b\b\b\b\b\b\b\b\b\b\b\b\b\b\b\b\b\b\b\b\b\b\b\b\b\b\b\b\b\b\b\b\b\b\b\b\b\b\b\b\b\b\b\b\b\b\b\b\b\b\b\b\b\b\b\b\b\b\b\b\b\b\b\r",
            "39/63 [=================>............] - ETA: 0s - loss: 0.5773 - accuracy: 0.6514"
          ]
        },
        {
          "name": "stdout",
          "output_type": "stream",
          "text": [
            "\b\b\b\b\b\b\b\b\b\b\b\b\b\b\b\b\b\b\b\b\b\b\b\b\b\b\b\b\b\b\b\b\b\b\b\b\b\b\b\b\b\b\b\b\b\b\b\b\b\b\b\b\b\b\b\b\b\b\b\b\b\b\b\b\b\b\b\b\b\b\b\b\b\b\b\b\b\b\b\b\b\b\r",
            "41/63 [==================>...........] - ETA: 0s - loss: 0.5774 - accuracy: 0.6509"
          ]
        },
        {
          "name": "stdout",
          "output_type": "stream",
          "text": [
            "\b\b\b\b\b\b\b\b\b\b\b\b\b\b\b\b\b\b\b\b\b\b\b\b\b\b\b\b\b\b\b\b\b\b\b\b\b\b\b\b\b\b\b\b\b\b\b\b\b\b\b\b\b\b\b\b\b\b\b\b\b\b\b\b\b\b\b\b\b\b\b\b\b\b\b\b\b\b\b\b\b\b\r",
            "43/63 [===================>..........] - ETA: 0s - loss: 0.5743 - accuracy: 0.6533"
          ]
        },
        {
          "name": "stdout",
          "output_type": "stream",
          "text": [
            "\b\b\b\b\b\b\b\b\b\b\b\b\b\b\b\b\b\b\b\b\b\b\b\b\b\b\b\b\b\b\b\b\b\b\b\b\b\b\b\b\b\b\b\b\b\b\b\b\b\b\b\b\b\b\b\b\b\b\b\b\b\b\b\b\b\b\b\b\b\b\b\b\b\b\b\b\b\b\b\b\b\b\r",
            "45/63 [====================>.........] - ETA: 0s - loss: 0.5745 - accuracy: 0.6542"
          ]
        },
        {
          "name": "stdout",
          "output_type": "stream",
          "text": [
            "\b\b\b\b\b\b\b\b\b\b\b\b\b\b\b\b\b\b\b\b\b\b\b\b\b\b\b\b\b\b\b\b\b\b\b\b\b\b\b\b\b\b\b\b\b\b\b\b\b\b\b\b\b\b\b\b\b\b\b\b\b\b\b\b\b\b\b\b\b\b\b\b\b\b\b\b\b\b\b\b\b\b\r",
            "47/63 [=====================>........] - ETA: 0s - loss: 0.5726 - accuracy: 0.6576"
          ]
        },
        {
          "name": "stdout",
          "output_type": "stream",
          "text": [
            "\b\b\b\b\b\b\b\b\b\b\b\b\b\b\b\b\b\b\b\b\b\b\b\b\b\b\b\b\b\b\b\b\b\b\b\b\b\b\b\b\b\b\b\b\b\b\b\b\b\b\b\b\b\b\b\b\b\b\b\b\b\b\b\b\b\b\b\b\b\b\b\b\b\b\b\b\b\b\b\b\b\b\r",
            "49/63 [======================>.......] - ETA: 0s - loss: 0.5717 - accuracy: 0.6582"
          ]
        },
        {
          "name": "stdout",
          "output_type": "stream",
          "text": [
            "\b\b\b\b\b\b\b\b\b\b\b\b\b\b\b\b\b\b\b\b\b\b\b\b\b\b\b\b\b\b\b\b\b\b\b\b\b\b\b\b\b\b\b\b\b\b\b\b\b\b\b\b\b\b\b\b\b\b\b\b\b\b\b\b\b\b\b\b\b\b\b\b\b\b\b\b\b\b\b\b\b\b\r",
            "51/63 [=======================>......] - ETA: 0s - loss: 0.5715 - accuracy: 0.6593"
          ]
        },
        {
          "name": "stdout",
          "output_type": "stream",
          "text": [
            "\b\b\b\b\b\b\b\b\b\b\b\b\b\b\b\b\b\b\b\b\b\b\b\b\b\b\b\b\b\b\b\b\b\b\b\b\b\b\b\b\b\b\b\b\b\b\b\b\b\b\b\b\b\b\b\b\b\b\b\b\b\b\b\b\b\b\b\b\b\b\b\b\b\b\b\b\b\b\b\b\b\b\r",
            "53/63 [========================>.....] - ETA: 0s - loss: 0.5701 - accuracy: 0.6598"
          ]
        },
        {
          "name": "stdout",
          "output_type": "stream",
          "text": [
            "\b\b\b\b\b\b\b\b\b\b\b\b\b\b\b\b\b\b\b\b\b\b\b\b\b\b\b\b\b\b\b\b\b\b\b\b\b\b\b\b\b\b\b\b\b\b\b\b\b\b\b\b\b\b\b\b\b\b\b\b\b\b\b\b\b\b\b\b\b\b\b\b\b\b\b\b\b\b\b\b\b\b\r",
            "55/63 [=========================>....] - ETA: 0s - loss: 0.5648 - accuracy: 0.6670"
          ]
        },
        {
          "name": "stdout",
          "output_type": "stream",
          "text": [
            "\b\b\b\b\b\b\b\b\b\b\b\b\b\b\b\b\b\b\b\b\b\b\b\b\b\b\b\b\b\b\b\b\b\b\b\b\b\b\b\b\b\b\b\b\b\b\b\b\b\b\b\b\b\b\b\b\b\b\b\b\b\b\b\b\b\b\b\b\b\b\b\b\b\b\b\b\b\b\b\b\b\b\r",
            "57/63 [==========================>...] - ETA: 0s - loss: 0.5643 - accuracy: 0.6667"
          ]
        },
        {
          "name": "stdout",
          "output_type": "stream",
          "text": [
            "\b\b\b\b\b\b\b\b\b\b\b\b\b\b\b\b\b\b\b\b\b\b\b\b\b\b\b\b\b\b\b\b\b\b\b\b\b\b\b\b\b\b\b\b\b\b\b\b\b\b\b\b\b\b\b\b\b\b\b\b\b\b\b\b\b\b\b\b\b\b\b\b\b\b\b\b\b\b\b\b\b\b\r",
            "59/63 [===========================>..] - ETA: 0s - loss: 0.5607 - accuracy: 0.6700"
          ]
        },
        {
          "name": "stdout",
          "output_type": "stream",
          "text": [
            "\b\b\b\b\b\b\b\b\b\b\b\b\b\b\b\b\b\b\b\b\b\b\b\b\b\b\b\b\b\b\b\b\b\b\b\b\b\b\b\b\b\b\b\b\b\b\b\b\b\b\b\b\b\b\b\b\b\b\b\b\b\b\b\b\b\b\b\b\b\b\b\b\b\b\b\b\b\b\b\b\b\b\r",
            "61/63 [============================>.] - ETA: 0s - loss: 0.5615 - accuracy: 0.6706"
          ]
        },
        {
          "name": "stdout",
          "output_type": "stream",
          "text": [
            "\b\b\b\b\b\b\b\b\b\b\b\b\b\b\b\b\b\b\b\b\b\b\b\b\b\b\b\b\b\b\b\b\b\b\b\b\b\b\b\b\b\b\b\b\b\b\b\b\b\b\b\b\b\b\b\b\b\b\b\b\b\b\b\b\b\b\b\b\b\b\b\b\b\b\b\b\b\b\b\b\b\b\r",
            "63/63 [==============================] - 2s 35ms/step - loss: 0.5610 - accuracy: 0.6695 - val_loss: 0.4037 - val_accuracy: 0.7847\n"
          ]
        },
        {
          "name": "stdout",
          "output_type": "stream",
          "text": [
            "Epoch 3/10\n"
          ]
        },
        {
          "name": "stdout",
          "output_type": "stream",
          "text": [
            "\r",
            " 1/63 [..............................] - ETA: 3s - loss: 0.4030 - accuracy: 0.7812"
          ]
        },
        {
          "name": "stdout",
          "output_type": "stream",
          "text": [
            "\b\b\b\b\b\b\b\b\b\b\b\b\b\b\b\b\b\b\b\b\b\b\b\b\b\b\b\b\b\b\b\b\b\b\b\b\b\b\b\b\b\b\b\b\b\b\b\b\b\b\b\b\b\b\b\b\b\b\b\b\b\b\b\b\b\b\b\b\b\b\b\b\b\b\b\b\b\b\b\b\b\b\r",
            " 3/63 [>.............................] - ETA: 1s - loss: 0.4507 - accuracy: 0.7188"
          ]
        },
        {
          "name": "stdout",
          "output_type": "stream",
          "text": [
            "\b\b\b\b\b\b\b\b\b\b\b\b\b\b\b\b\b\b\b\b\b\b\b\b\b\b\b\b\b\b\b\b\b\b\b\b\b\b\b\b\b\b\b\b\b\b\b\b\b\b\b\b\b\b\b\b\b\b\b\b\b\b\b\b\b\b\b\b\b\b\b\b\b\b\b\b\b\b\b\b\b\b\r",
            " 5/63 [=>............................] - ETA: 1s - loss: 0.4649 - accuracy: 0.7125"
          ]
        },
        {
          "name": "stdout",
          "output_type": "stream",
          "text": [
            "\b\b\b\b\b\b\b\b\b\b\b\b\b\b\b\b\b\b\b\b\b\b\b\b\b\b\b\b\b\b\b\b\b\b\b\b\b\b\b\b\b\b\b\b\b\b\b\b\b\b\b\b\b\b\b\b\b\b\b\b\b\b\b\b\b\b\b\b\b\b\b\b\b\b\b\b\b\b\b\b\b\b\r",
            " 7/63 [==>...........................] - ETA: 1s - loss: 0.4779 - accuracy: 0.7277"
          ]
        },
        {
          "name": "stdout",
          "output_type": "stream",
          "text": [
            "\b\b\b\b\b\b\b\b\b\b\b\b\b\b\b\b\b\b\b\b\b\b\b\b\b\b\b\b\b\b\b\b\b\b\b\b\b\b\b\b\b\b\b\b\b\b\b\b\b\b\b\b\b\b\b\b\b\b\b\b\b\b\b\b\b\b\b\b\b\b\b\b\b\b\b\b\b\b\b\b\b\b\r",
            " 9/63 [===>..........................] - ETA: 1s - loss: 0.4856 - accuracy: 0.7222"
          ]
        },
        {
          "name": "stdout",
          "output_type": "stream",
          "text": [
            "\b\b\b\b\b\b\b\b\b\b\b\b\b\b\b\b\b\b\b\b\b\b\b\b\b\b\b\b\b\b\b\b\b\b\b\b\b\b\b\b\b\b\b\b\b\b\b\b\b\b\b\b\b\b\b\b\b\b\b\b\b\b\b\b\b\b\b\b\b\b\b\b\b\b\b\b\b\b\b\b\b\b\r",
            "11/63 [====>.........................] - ETA: 1s - loss: 0.4841 - accuracy: 0.7358"
          ]
        },
        {
          "name": "stdout",
          "output_type": "stream",
          "text": [
            "\b\b\b\b\b\b\b\b\b\b\b\b\b\b\b\b\b\b\b\b\b\b\b\b\b\b\b\b\b\b\b\b\b\b\b\b\b\b\b\b\b\b\b\b\b\b\b\b\b\b\b\b\b\b\b\b\b\b\b\b\b\b\b\b\b\b\b\b\b\b\b\b\b\b\b\b\b\b\b\b\b\b\r",
            "13/63 [=====>........................] - ETA: 1s - loss: 0.4876 - accuracy: 0.7332"
          ]
        },
        {
          "name": "stdout",
          "output_type": "stream",
          "text": [
            "\b\b\b\b\b\b\b\b\b\b\b\b\b\b\b\b\b\b\b\b\b\b\b\b\b\b\b\b\b\b\b\b\b\b\b\b\b\b\b\b\b\b\b\b\b\b\b\b\b\b\b\b\b\b\b\b\b\b\b\b\b\b\b\b\b\b\b\b\b\b\b\b\b\b\b\b\b\b\b\b\b\b\r",
            "15/63 [======>.......................] - ETA: 1s - loss: 0.4782 - accuracy: 0.7437"
          ]
        },
        {
          "name": "stdout",
          "output_type": "stream",
          "text": [
            "\b\b\b\b\b\b\b\b\b\b\b\b\b\b\b\b\b\b\b\b\b\b\b\b\b\b\b\b\b\b\b\b\b\b\b\b\b\b\b\b\b\b\b\b\b\b\b\b\b\b\b\b\b\b\b\b\b\b\b\b\b\b\b\b\b\b\b\b\b\b\b\b\b\b\b\b\b\b\b\b\b\b\r",
            "17/63 [=======>......................] - ETA: 1s - loss: 0.4798 - accuracy: 0.7445"
          ]
        },
        {
          "name": "stdout",
          "output_type": "stream",
          "text": [
            "\b\b\b\b\b\b\b\b\b\b\b\b\b\b\b\b\b\b\b\b\b\b\b\b\b\b\b\b\b\b\b\b\b\b\b\b\b\b\b\b\b\b\b\b\b\b\b\b\b\b\b\b\b\b\b\b\b\b\b\b\b\b\b\b\b\b\b\b\b\b\b\b\b\b\b\b\b\b\b\b\b\b\r",
            "19/63 [========>.....................] - ETA: 1s - loss: 0.4718 - accuracy: 0.7418"
          ]
        },
        {
          "name": "stdout",
          "output_type": "stream",
          "text": [
            "\b\b\b\b\b\b\b\b\b\b\b\b\b\b\b\b\b\b\b\b\b\b\b\b\b\b\b\b\b\b\b\b\b\b\b\b\b\b\b\b\b\b\b\b\b\b\b\b\b\b\b\b\b\b\b\b\b\b\b\b\b\b\b\b\b\b\b\b\b\b\b\b\b\b\b\b\b\b\b\b\b\b\r",
            "21/63 [=========>....................] - ETA: 1s - loss: 0.4681 - accuracy: 0.7470"
          ]
        },
        {
          "name": "stdout",
          "output_type": "stream",
          "text": [
            "\b\b\b\b\b\b\b\b\b\b\b\b\b\b\b\b\b\b\b\b\b\b\b\b\b\b\b\b\b\b\b\b\b\b\b\b\b\b\b\b\b\b\b\b\b\b\b\b\b\b\b\b\b\b\b\b\b\b\b\b\b\b\b\b\b\b\b\b\b\b\b\b\b\b\b\b\b\b\b\b\b\b\r",
            "23/63 [=========>....................] - ETA: 1s - loss: 0.4638 - accuracy: 0.7582"
          ]
        },
        {
          "name": "stdout",
          "output_type": "stream",
          "text": [
            "\b\b\b\b\b\b\b\b\b\b\b\b\b\b\b\b\b\b\b\b\b\b\b\b\b\b\b\b\b\b\b\b\b\b\b\b\b\b\b\b\b\b\b\b\b\b\b\b\b\b\b\b\b\b\b\b\b\b\b\b\b\b\b\b\b\b\b\b\b\b\b\b\b\b\b\b\b\b\b\b\b\b\r",
            "25/63 [==========>...................] - ETA: 1s - loss: 0.4587 - accuracy: 0.7625"
          ]
        },
        {
          "name": "stdout",
          "output_type": "stream",
          "text": [
            "\b\b\b\b\b\b\b\b\b\b\b\b\b\b\b\b\b\b\b\b\b\b\b\b\b\b\b\b\b\b\b\b\b\b\b\b\b\b\b\b\b\b\b\b\b\b\b\b\b\b\b\b\b\b\b\b\b\b\b\b\b\b\b\b\b\b\b\b\b\b\b\b\b\b\b\b\b\b\b\b\b\b\r",
            "27/63 [===========>..................] - ETA: 1s - loss: 0.4571 - accuracy: 0.7627"
          ]
        },
        {
          "name": "stdout",
          "output_type": "stream",
          "text": [
            "\b\b\b\b\b\b\b\b\b\b\b\b\b\b\b\b\b\b\b\b\b\b\b\b\b\b\b\b\b\b\b\b\b\b\b\b\b\b\b\b\b\b\b\b\b\b\b\b\b\b\b\b\b\b\b\b\b\b\b\b\b\b\b\b\b\b\b\b\b\b\b\b\b\b\b\b\b\b\b\b\b\b\r",
            "29/63 [============>.................] - ETA: 0s - loss: 0.4490 - accuracy: 0.7705"
          ]
        },
        {
          "name": "stdout",
          "output_type": "stream",
          "text": [
            "\b\b\b\b\b\b\b\b\b\b\b\b\b\b\b\b\b\b\b\b\b\b\b\b\b\b\b\b\b\b\b\b\b\b\b\b\b\b\b\b\b\b\b\b\b\b\b\b\b\b\b\b\b\b\b\b\b\b\b\b\b\b\b\b\b\b\b\b\b\b\b\b\b\b\b\b\b\b\b\b\b\b\r",
            "31/63 [=============>................] - ETA: 0s - loss: 0.4483 - accuracy: 0.7702"
          ]
        },
        {
          "name": "stdout",
          "output_type": "stream",
          "text": [
            "\b\b\b\b\b\b\b\b\b\b\b\b\b\b\b\b\b\b\b\b\b\b\b\b\b\b\b\b\b\b\b\b\b\b\b\b\b\b\b\b\b\b\b\b\b\b\b\b\b\b\b\b\b\b\b\b\b\b\b\b\b\b\b\b\b\b\b\b\b\b\b\b\b\b\b\b\b\b\b\b\b\b\r",
            "33/63 [==============>...............] - ETA: 0s - loss: 0.4490 - accuracy: 0.7699"
          ]
        },
        {
          "name": "stdout",
          "output_type": "stream",
          "text": [
            "\b\b\b\b\b\b\b\b\b\b\b\b\b\b\b\b\b\b\b\b\b\b\b\b\b\b\b\b\b\b\b\b\b\b\b\b\b\b\b\b\b\b\b\b\b\b\b\b\b\b\b\b\b\b\b\b\b\b\b\b\b\b\b\b\b\b\b\b\b\b\b\b\b\b\b\b\b\b\b\b\b\b\r",
            "35/63 [===============>..............] - ETA: 0s - loss: 0.4527 - accuracy: 0.7688"
          ]
        },
        {
          "name": "stdout",
          "output_type": "stream",
          "text": [
            "\b\b\b\b\b\b\b\b\b\b\b\b\b\b\b\b\b\b\b\b\b\b\b\b\b\b\b\b\b\b\b\b\b\b\b\b\b\b\b\b\b\b\b\b\b\b\b\b\b\b\b\b\b\b\b\b\b\b\b\b\b\b\b\b\b\b\b\b\b\b\b\b\b\b\b\b\b\b\b\b\b\b\r",
            "37/63 [================>.............] - ETA: 0s - loss: 0.4491 - accuracy: 0.7720"
          ]
        },
        {
          "name": "stdout",
          "output_type": "stream",
          "text": [
            "\b\b\b\b\b\b\b\b\b\b\b\b\b\b\b\b\b\b\b\b\b\b\b\b\b\b\b\b\b\b\b\b\b\b\b\b\b\b\b\b\b\b\b\b\b\b\b\b\b\b\b\b\b\b\b\b\b\b\b\b\b\b\b\b\b\b\b\b\b\b\b\b\b\b\b\b\b\b\b\b\b\b\r",
            "39/63 [=================>............] - ETA: 0s - loss: 0.4507 - accuracy: 0.7708"
          ]
        },
        {
          "name": "stdout",
          "output_type": "stream",
          "text": [
            "\b\b\b\b\b\b\b\b\b\b\b\b\b\b\b\b\b\b\b\b\b\b\b\b\b\b\b\b\b\b\b\b\b\b\b\b\b\b\b\b\b\b\b\b\b\b\b\b\b\b\b\b\b\b\b\b\b\b\b\b\b\b\b\b\b\b\b\b\b\b\b\b\b\b\b\b\b\b\b\b\b\b\r",
            "41/63 [==================>...........] - ETA: 0s - loss: 0.4463 - accuracy: 0.7736"
          ]
        },
        {
          "name": "stdout",
          "output_type": "stream",
          "text": [
            "\b\b\b\b\b\b\b\b\b\b\b\b\b\b\b\b\b\b\b\b\b\b\b\b\b\b\b\b\b\b\b\b\b\b\b\b\b\b\b\b\b\b\b\b\b\b\b\b\b\b\b\b\b\b\b\b\b\b\b\b\b\b\b\b\b\b\b\b\b\b\b\b\b\b\b\b\b\b\b\b\b\b\r",
            "43/63 [===================>..........] - ETA: 0s - loss: 0.4456 - accuracy: 0.7740"
          ]
        },
        {
          "name": "stdout",
          "output_type": "stream",
          "text": [
            "\b\b\b\b\b\b\b\b\b\b\b\b\b\b\b\b\b\b\b\b\b\b\b\b\b\b\b\b\b\b\b\b\b\b\b\b\b\b\b\b\b\b\b\b\b\b\b\b\b\b\b\b\b\b\b\b\b\b\b\b\b\b\b\b\b\b\b\b\b\b\b\b\b\b\b\b\b\b\b\b\b\b\r",
            "45/63 [====================>.........] - ETA: 0s - loss: 0.4443 - accuracy: 0.7736"
          ]
        },
        {
          "name": "stdout",
          "output_type": "stream",
          "text": [
            "\b\b\b\b\b\b\b\b\b\b\b\b\b\b\b\b\b\b\b\b\b\b\b\b\b\b\b\b\b\b\b\b\b\b\b\b\b\b\b\b\b\b\b\b\b\b\b\b\b\b\b\b\b\b\b\b\b\b\b\b\b\b\b\b\b\b\b\b\b\b\b\b\b\b\b\b\b\b\b\b\b\b\r",
            "47/63 [=====================>........] - ETA: 0s - loss: 0.4438 - accuracy: 0.7753"
          ]
        },
        {
          "name": "stdout",
          "output_type": "stream",
          "text": [
            "\b\b\b\b\b\b\b\b\b\b\b\b\b\b\b\b\b\b\b\b\b\b\b\b\b\b\b\b\b\b\b\b\b\b\b\b\b\b\b\b\b\b\b\b\b\b\b\b\b\b\b\b\b\b\b\b\b\b\b\b\b\b\b\b\b\b\b\b\b\b\b\b\b\b\b\b\b\b\b\b\b\b\r",
            "49/63 [======================>.......] - ETA: 0s - loss: 0.4421 - accuracy: 0.7774"
          ]
        },
        {
          "name": "stdout",
          "output_type": "stream",
          "text": [
            "\b\b\b\b\b\b\b\b\b\b\b\b\b\b\b\b\b\b\b\b\b\b\b\b\b\b\b\b\b\b\b\b\b\b\b\b\b\b\b\b\b\b\b\b\b\b\b\b\b\b\b\b\b\b\b\b\b\b\b\b\b\b\b\b\b\b\b\b\b\b\b\b\b\b\b\b\b\b\b\b\b\b\r",
            "51/63 [=======================>......] - ETA: 0s - loss: 0.4393 - accuracy: 0.7794"
          ]
        },
        {
          "name": "stdout",
          "output_type": "stream",
          "text": [
            "\b\b\b\b\b\b\b\b\b\b\b\b\b\b\b\b\b\b\b\b\b\b\b\b\b\b\b\b\b\b\b\b\b\b\b\b\b\b\b\b\b\b\b\b\b\b\b\b\b\b\b\b\b\b\b\b\b\b\b\b\b\b\b\b\b\b\b\b\b\b\b\b\b\b\b\b\b\b\b\b\b\b\r",
            "53/63 [========================>.....] - ETA: 0s - loss: 0.4406 - accuracy: 0.7771"
          ]
        },
        {
          "name": "stdout",
          "output_type": "stream",
          "text": [
            "\b\b\b\b\b\b\b\b\b\b\b\b\b\b\b\b\b\b\b\b\b\b\b\b\b\b\b\b\b\b\b\b\b\b\b\b\b\b\b\b\b\b\b\b\b\b\b\b\b\b\b\b\b\b\b\b\b\b\b\b\b\b\b\b\b\b\b\b\b\b\b\b\b\b\b\b\b\b\b\b\b\b\r",
            "55/63 [=========================>....] - ETA: 0s - loss: 0.4396 - accuracy: 0.7767"
          ]
        },
        {
          "name": "stdout",
          "output_type": "stream",
          "text": [
            "\b\b\b\b\b\b\b\b\b\b\b\b\b\b\b\b\b\b\b\b\b\b\b\b\b\b\b\b\b\b\b\b\b\b\b\b\b\b\b\b\b\b\b\b\b\b\b\b\b\b\b\b\b\b\b\b\b\b\b\b\b\b\b\b\b\b\b\b\b\b\b\b\b\b\b\b\b\b\b\b\b\b\r",
            "57/63 [==========================>...] - ETA: 0s - loss: 0.4375 - accuracy: 0.7769"
          ]
        },
        {
          "name": "stdout",
          "output_type": "stream",
          "text": [
            "\b\b\b\b\b\b\b\b\b\b\b\b\b\b\b\b\b\b\b\b\b\b\b\b\b\b\b\b\b\b\b\b\b\b\b\b\b\b\b\b\b\b\b\b\b\b\b\b\b\b\b\b\b\b\b\b\b\b\b\b\b\b\b\b\b\b\b\b\b\b\b\b\b\b\b\b\b\b\b\b\b\b\r",
            "59/63 [===========================>..] - ETA: 0s - loss: 0.4373 - accuracy: 0.7765"
          ]
        },
        {
          "name": "stdout",
          "output_type": "stream",
          "text": [
            "\b\b\b\b\b\b\b\b\b\b\b\b\b\b\b\b\b\b\b\b\b\b\b\b\b\b\b\b\b\b\b\b\b\b\b\b\b\b\b\b\b\b\b\b\b\b\b\b\b\b\b\b\b\b\b\b\b\b\b\b\b\b\b\b\b\b\b\b\b\b\b\b\b\b\b\b\b\b\b\b\b\b\r",
            "61/63 [============================>.] - ETA: 0s - loss: 0.4370 - accuracy: 0.7761"
          ]
        },
        {
          "name": "stdout",
          "output_type": "stream",
          "text": [
            "\b\b\b\b\b\b\b\b\b\b\b\b\b\b\b\b\b\b\b\b\b\b\b\b\b\b\b\b\b\b\b\b\b\b\b\b\b\b\b\b\b\b\b\b\b\b\b\b\b\b\b\b\b\b\b\b\b\b\b\b\b\b\b\b\b\b\b\b\b\b\b\b\b\b\b\b\b\b\b\b\b\b\r",
            "63/63 [==============================] - 2s 36ms/step - loss: 0.4363 - accuracy: 0.7770 - val_loss: 0.3068 - val_accuracy: 0.8428\n"
          ]
        },
        {
          "name": "stdout",
          "output_type": "stream",
          "text": [
            "Epoch 4/10\n"
          ]
        },
        {
          "name": "stdout",
          "output_type": "stream",
          "text": [
            "\r",
            " 1/63 [..............................] - ETA: 3s - loss: 0.5557 - accuracy: 0.6250"
          ]
        },
        {
          "name": "stdout",
          "output_type": "stream",
          "text": [
            "\b\b\b\b\b\b\b\b\b\b\b\b\b\b\b\b\b\b\b\b\b\b\b\b\b\b\b\b\b\b\b\b\b\b\b\b\b\b\b\b\b\b\b\b\b\b\b\b\b\b\b\b\b\b\b\b\b\b\b\b\b\b\b\b\b\b\b\b\b\b\b\b\b\b\b\b\b\b\b\b\b\b\r",
            " 3/63 [>.............................] - ETA: 1s - loss: 0.4583 - accuracy: 0.7292"
          ]
        },
        {
          "name": "stdout",
          "output_type": "stream",
          "text": [
            "\b\b\b\b\b\b\b\b\b\b\b\b\b\b\b\b\b\b\b\b\b\b\b\b\b\b\b\b\b\b\b\b\b\b\b\b\b\b\b\b\b\b\b\b\b\b\b\b\b\b\b\b\b\b\b\b\b\b\b\b\b\b\b\b\b\b\b\b\b\b\b\b\b\b\b\b\b\b\b\b\b\b\r",
            " 5/63 [=>............................] - ETA: 1s - loss: 0.4438 - accuracy: 0.7500"
          ]
        },
        {
          "name": "stdout",
          "output_type": "stream",
          "text": [
            "\b\b\b\b\b\b\b\b\b\b\b\b\b\b\b\b\b\b\b\b\b\b\b\b\b\b\b\b\b\b\b\b\b\b\b\b\b\b\b\b\b\b\b\b\b\b\b\b\b\b\b\b\b\b\b\b\b\b\b\b\b\b\b\b\b\b\b\b\b\b\b\b\b\b\b\b\b\b\b\b\b\b\r",
            " 7/63 [==>...........................] - ETA: 1s - loss: 0.4140 - accuracy: 0.7768"
          ]
        },
        {
          "name": "stdout",
          "output_type": "stream",
          "text": [
            "\b\b\b\b\b\b\b\b\b\b\b\b\b\b\b\b\b\b\b\b\b\b\b\b\b\b\b\b\b\b\b\b\b\b\b\b\b\b\b\b\b\b\b\b\b\b\b\b\b\b\b\b\b\b\b\b\b\b\b\b\b\b\b\b\b\b\b\b\b\b\b\b\b\b\b\b\b\b\b\b\b\b\r",
            " 9/63 [===>..........................] - ETA: 1s - loss: 0.4041 - accuracy: 0.7882"
          ]
        },
        {
          "name": "stdout",
          "output_type": "stream",
          "text": [
            "\b\b\b\b\b\b\b\b\b\b\b\b\b\b\b\b\b\b\b\b\b\b\b\b\b\b\b\b\b\b\b\b\b\b\b\b\b\b\b\b\b\b\b\b\b\b\b\b\b\b\b\b\b\b\b\b\b\b\b\b\b\b\b\b\b\b\b\b\b\b\b\b\b\b\b\b\b\b\b\b\b\b\r",
            "11/63 [====>.........................] - ETA: 1s - loss: 0.4157 - accuracy: 0.7784"
          ]
        },
        {
          "name": "stdout",
          "output_type": "stream",
          "text": [
            "\b\b\b\b\b\b\b\b\b\b\b\b\b\b\b\b\b\b\b\b\b\b\b\b\b\b\b\b\b\b\b\b\b\b\b\b\b\b\b\b\b\b\b\b\b\b\b\b\b\b\b\b\b\b\b\b\b\b\b\b\b\b\b\b\b\b\b\b\b\b\b\b\b\b\b\b\b\b\b\b\b\b\r",
            "13/63 [=====>........................] - ETA: 1s - loss: 0.4054 - accuracy: 0.7909"
          ]
        },
        {
          "name": "stdout",
          "output_type": "stream",
          "text": [
            "\b\b\b\b\b\b\b\b\b\b\b\b\b\b\b\b\b\b\b\b\b\b\b\b\b\b\b\b\b\b\b\b\b\b\b\b\b\b\b\b\b\b\b\b\b\b\b\b\b\b\b\b\b\b\b\b\b\b\b\b\b\b\b\b\b\b\b\b\b\b\b\b\b\b\b\b\b\b\b\b\b\b\r",
            "15/63 [======>.......................] - ETA: 1s - loss: 0.3915 - accuracy: 0.7979"
          ]
        },
        {
          "name": "stdout",
          "output_type": "stream",
          "text": [
            "\b\b\b\b\b\b\b\b\b\b\b\b\b\b\b\b\b\b\b\b\b\b\b\b\b\b\b\b\b\b\b\b\b\b\b\b\b\b\b\b\b\b\b\b\b\b\b\b\b\b\b\b\b\b\b\b\b\b\b\b\b\b\b\b\b\b\b\b\b\b\b\b\b\b\b\b\b\b\b\b\b\b\r",
            "17/63 [=======>......................] - ETA: 1s - loss: 0.3855 - accuracy: 0.8033"
          ]
        },
        {
          "name": "stdout",
          "output_type": "stream",
          "text": [
            "\b\b\b\b\b\b\b\b\b\b\b\b\b\b\b\b\b\b\b\b\b\b\b\b\b\b\b\b\b\b\b\b\b\b\b\b\b\b\b\b\b\b\b\b\b\b\b\b\b\b\b\b\b\b\b\b\b\b\b\b\b\b\b\b\b\b\b\b\b\b\b\b\b\b\b\b\b\b\b\b\b\b\r",
            "19/63 [========>.....................] - ETA: 1s - loss: 0.3773 - accuracy: 0.8092"
          ]
        },
        {
          "name": "stdout",
          "output_type": "stream",
          "text": [
            "\b\b\b\b\b\b\b\b\b\b\b\b\b\b\b\b\b\b\b\b\b\b\b\b\b\b\b\b\b\b\b\b\b\b\b\b\b\b\b\b\b\b\b\b\b\b\b\b\b\b\b\b\b\b\b\b\b\b\b\b\b\b\b\b\b\b\b\b\b\b\b\b\b\b\b\b\b\b\b\b\b\b\r",
            "21/63 [=========>....................] - ETA: 1s - loss: 0.3736 - accuracy: 0.8140"
          ]
        },
        {
          "name": "stdout",
          "output_type": "stream",
          "text": [
            "\b\b\b\b\b\b\b\b\b\b\b\b\b\b\b\b\b\b\b\b\b\b\b\b\b\b\b\b\b\b\b\b\b\b\b\b\b\b\b\b\b\b\b\b\b\b\b\b\b\b\b\b\b\b\b\b\b\b\b\b\b\b\b\b\b\b\b\b\b\b\b\b\b\b\b\b\b\b\b\b\b\b\r",
            "23/63 [=========>....................] - ETA: 1s - loss: 0.3811 - accuracy: 0.8125"
          ]
        },
        {
          "name": "stdout",
          "output_type": "stream",
          "text": [
            "\b\b\b\b\b\b\b\b\b\b\b\b\b\b\b\b\b\b\b\b\b\b\b\b\b\b\b\b\b\b\b\b\b\b\b\b\b\b\b\b\b\b\b\b\b\b\b\b\b\b\b\b\b\b\b\b\b\b\b\b\b\b\b\b\b\b\b\b\b\b\b\b\b\b\b\b\b\b\b\b\b\b\r",
            "25/63 [==========>...................] - ETA: 1s - loss: 0.3799 - accuracy: 0.8087"
          ]
        },
        {
          "name": "stdout",
          "output_type": "stream",
          "text": [
            "\b\b\b\b\b\b\b\b\b\b\b\b\b\b\b\b\b\b\b\b\b\b\b\b\b\b\b\b\b\b\b\b\b\b\b\b\b\b\b\b\b\b\b\b\b\b\b\b\b\b\b\b\b\b\b\b\b\b\b\b\b\b\b\b\b\b\b\b\b\b\b\b\b\b\b\b\b\b\b\b\b\b\r",
            "27/63 [===========>..................] - ETA: 1s - loss: 0.3789 - accuracy: 0.8067"
          ]
        },
        {
          "name": "stdout",
          "output_type": "stream",
          "text": [
            "\b\b\b\b\b\b\b\b\b\b\b\b\b\b\b\b\b\b\b\b\b\b\b\b\b\b\b\b\b\b\b\b\b\b\b\b\b\b\b\b\b\b\b\b\b\b\b\b\b\b\b\b\b\b\b\b\b\b\b\b\b\b\b\b\b\b\b\b\b\b\b\b\b\b\b\b\b\b\b\b\b\b\r",
            "29/63 [============>.................] - ETA: 0s - loss: 0.3785 - accuracy: 0.8060"
          ]
        },
        {
          "name": "stdout",
          "output_type": "stream",
          "text": [
            "\b\b\b\b\b\b\b\b\b\b\b\b\b\b\b\b\b\b\b\b\b\b\b\b\b\b\b\b\b\b\b\b\b\b\b\b\b\b\b\b\b\b\b\b\b\b\b\b\b\b\b\b\b\b\b\b\b\b\b\b\b\b\b\b\b\b\b\b\b\b\b\b\b\b\b\b\b\b\b\b\b\b\r",
            "31/63 [=============>................] - ETA: 0s - loss: 0.3844 - accuracy: 0.8014"
          ]
        },
        {
          "name": "stdout",
          "output_type": "stream",
          "text": [
            "\b\b\b\b\b\b\b\b\b\b\b\b\b\b\b\b\b\b\b\b\b\b\b\b\b\b\b\b\b\b\b\b\b\b\b\b\b\b\b\b\b\b\b\b\b\b\b\b\b\b\b\b\b\b\b\b\b\b\b\b\b\b\b\b\b\b\b\b\b\b\b\b\b\b\b\b\b\b\b\b\b\b\r",
            "33/63 [==============>...............] - ETA: 0s - loss: 0.3776 - accuracy: 0.8068"
          ]
        },
        {
          "name": "stdout",
          "output_type": "stream",
          "text": [
            "\b\b\b\b\b\b\b\b\b\b\b\b\b\b\b\b\b\b\b\b\b\b\b\b\b\b\b\b\b\b\b\b\b\b\b\b\b\b\b\b\b\b\b\b\b\b\b\b\b\b\b\b\b\b\b\b\b\b\b\b\b\b\b\b\b\b\b\b\b\b\b\b\b\b\b\b\b\b\b\b\b\b\r",
            "35/63 [===============>..............] - ETA: 0s - loss: 0.3797 - accuracy: 0.8062"
          ]
        },
        {
          "name": "stdout",
          "output_type": "stream",
          "text": [
            "\b\b\b\b\b\b\b\b\b\b\b\b\b\b\b\b\b\b\b\b\b\b\b\b\b\b\b\b\b\b\b\b\b\b\b\b\b\b\b\b\b\b\b\b\b\b\b\b\b\b\b\b\b\b\b\b\b\b\b\b\b\b\b\b\b\b\b\b\b\b\b\b\b\b\b\b\b\b\b\b\b\b\r",
            "37/63 [================>.............] - ETA: 0s - loss: 0.3825 - accuracy: 0.8049"
          ]
        },
        {
          "name": "stdout",
          "output_type": "stream",
          "text": [
            "\b\b\b\b\b\b\b\b\b\b\b\b\b\b\b\b\b\b\b\b\b\b\b\b\b\b\b\b\b\b\b\b\b\b\b\b\b\b\b\b\b\b\b\b\b\b\b\b\b\b\b\b\b\b\b\b\b\b\b\b\b\b\b\b\b\b\b\b\b\b\b\b\b\b\b\b\b\b\b\b\b\b\r",
            "39/63 [=================>............] - ETA: 0s - loss: 0.3833 - accuracy: 0.8061"
          ]
        },
        {
          "name": "stdout",
          "output_type": "stream",
          "text": [
            "\b\b\b\b\b\b\b\b\b\b\b\b\b\b\b\b\b\b\b\b\b\b\b\b\b\b\b\b\b\b\b\b\b\b\b\b\b\b\b\b\b\b\b\b\b\b\b\b\b\b\b\b\b\b\b\b\b\b\b\b\b\b\b\b\b\b\b\b\b\b\b\b\b\b\b\b\b\b\b\b\b\b\r",
            "41/63 [==================>...........] - ETA: 0s - loss: 0.3852 - accuracy: 0.8064"
          ]
        },
        {
          "name": "stdout",
          "output_type": "stream",
          "text": [
            "\b\b\b\b\b\b\b\b\b\b\b\b\b\b\b\b\b\b\b\b\b\b\b\b\b\b\b\b\b\b\b\b\b\b\b\b\b\b\b\b\b\b\b\b\b\b\b\b\b\b\b\b\b\b\b\b\b\b\b\b\b\b\b\b\b\b\b\b\b\b\b\b\b\b\b\b\b\b\b\b\b\b\r",
            "43/63 [===================>..........] - ETA: 0s - loss: 0.3812 - accuracy: 0.8103"
          ]
        },
        {
          "name": "stdout",
          "output_type": "stream",
          "text": [
            "\b\b\b\b\b\b\b\b\b\b\b\b\b\b\b\b\b\b\b\b\b\b\b\b\b\b\b\b\b\b\b\b\b\b\b\b\b\b\b\b\b\b\b\b\b\b\b\b\b\b\b\b\b\b\b\b\b\b\b\b\b\b\b\b\b\b\b\b\b\b\b\b\b\b\b\b\b\b\b\b\b\b\r",
            "45/63 [====================>.........] - ETA: 0s - loss: 0.3810 - accuracy: 0.8132"
          ]
        },
        {
          "name": "stdout",
          "output_type": "stream",
          "text": [
            "\b\b\b\b\b\b\b\b\b\b\b\b\b\b\b\b\b\b\b\b\b\b\b\b\b\b\b\b\b\b\b\b\b\b\b\b\b\b\b\b\b\b\b\b\b\b\b\b\b\b\b\b\b\b\b\b\b\b\b\b\b\b\b\b\b\b\b\b\b\b\b\b\b\b\b\b\b\b\b\b\b\b\r",
            "47/63 [=====================>........] - ETA: 0s - loss: 0.3831 - accuracy: 0.8105"
          ]
        },
        {
          "name": "stdout",
          "output_type": "stream",
          "text": [
            "\b\b\b\b\b\b\b\b\b\b\b\b\b\b\b\b\b\b\b\b\b\b\b\b\b\b\b\b\b\b\b\b\b\b\b\b\b\b\b\b\b\b\b\b\b\b\b\b\b\b\b\b\b\b\b\b\b\b\b\b\b\b\b\b\b\b\b\b\b\b\b\b\b\b\b\b\b\b\b\b\b\b\r",
            "49/63 [======================>.......] - ETA: 0s - loss: 0.3806 - accuracy: 0.8119"
          ]
        },
        {
          "name": "stdout",
          "output_type": "stream",
          "text": [
            "\b\b\b\b\b\b\b\b\b\b\b\b\b\b\b\b\b\b\b\b\b\b\b\b\b\b\b\b\b\b\b\b\b\b\b\b\b\b\b\b\b\b\b\b\b\b\b\b\b\b\b\b\b\b\b\b\b\b\b\b\b\b\b\b\b\b\b\b\b\b\b\b\b\b\b\b\b\b\b\b\b\b\r",
            "51/63 [=======================>......] - ETA: 0s - loss: 0.3771 - accuracy: 0.8143"
          ]
        },
        {
          "name": "stdout",
          "output_type": "stream",
          "text": [
            "\b\b\b\b\b\b\b\b\b\b\b\b\b\b\b\b\b\b\b\b\b\b\b\b\b\b\b\b\b\b\b\b\b\b\b\b\b\b\b\b\b\b\b\b\b\b\b\b\b\b\b\b\b\b\b\b\b\b\b\b\b\b\b\b\b\b\b\b\b\b\b\b\b\b\b\b\b\b\b\b\b\b\r",
            "53/63 [========================>.....] - ETA: 0s - loss: 0.3759 - accuracy: 0.8154"
          ]
        },
        {
          "name": "stdout",
          "output_type": "stream",
          "text": [
            "\b\b\b\b\b\b\b\b\b\b\b\b\b\b\b\b\b\b\b\b\b\b\b\b\b\b\b\b\b\b\b\b\b\b\b\b\b\b\b\b\b\b\b\b\b\b\b\b\b\b\b\b\b\b\b\b\b\b\b\b\b\b\b\b\b\b\b\b\b\b\b\b\b\b\b\b\b\b\b\b\b\b\r",
            "55/63 [=========================>....] - ETA: 0s - loss: 0.3741 - accuracy: 0.8182"
          ]
        },
        {
          "name": "stdout",
          "output_type": "stream",
          "text": [
            "\b\b\b\b\b\b\b\b\b\b\b\b\b\b\b\b\b\b\b\b\b\b\b\b\b\b\b\b\b\b\b\b\b\b\b\b\b\b\b\b\b\b\b\b\b\b\b\b\b\b\b\b\b\b\b\b\b\b\b\b\b\b\b\b\b\b\b\b\b\b\b\b\b\b\b\b\b\b\b\b\b\b\r",
            "57/63 [==========================>...] - ETA: 0s - loss: 0.3716 - accuracy: 0.8185"
          ]
        },
        {
          "name": "stdout",
          "output_type": "stream",
          "text": [
            "\b\b\b\b\b\b\b\b\b\b\b\b\b\b\b\b\b\b\b\b\b\b\b\b\b\b\b\b\b\b\b\b\b\b\b\b\b\b\b\b\b\b\b\b\b\b\b\b\b\b\b\b\b\b\b\b\b\b\b\b\b\b\b\b\b\b\b\b\b\b\b\b\b\b\b\b\b\b\b\b\b\b\r",
            "59/63 [===========================>..] - ETA: 0s - loss: 0.3697 - accuracy: 0.8194"
          ]
        },
        {
          "name": "stdout",
          "output_type": "stream",
          "text": [
            "\b\b\b\b\b\b\b\b\b\b\b\b\b\b\b\b\b\b\b\b\b\b\b\b\b\b\b\b\b\b\b\b\b\b\b\b\b\b\b\b\b\b\b\b\b\b\b\b\b\b\b\b\b\b\b\b\b\b\b\b\b\b\b\b\b\b\b\b\b\b\b\b\b\b\b\b\b\b\b\b\b\b\r",
            "61/63 [============================>.] - ETA: 0s - loss: 0.3692 - accuracy: 0.8186"
          ]
        },
        {
          "name": "stdout",
          "output_type": "stream",
          "text": [
            "\b\b\b\b\b\b\b\b\b\b\b\b\b\b\b\b\b\b\b\b\b\b\b\b\b\b\b\b\b\b\b\b\b\b\b\b\b\b\b\b\b\b\b\b\b\b\b\b\b\b\b\b\b\b\b\b\b\b\b\b\b\b\b\b\b\b\b\b\b\b\b\b\b\b\b\b\b\b\b\b\b\b\r",
            "63/63 [==============================] - 2s 35ms/step - loss: 0.3677 - accuracy: 0.8195 - val_loss: 0.2520 - val_accuracy: 0.8886\n"
          ]
        },
        {
          "name": "stdout",
          "output_type": "stream",
          "text": [
            "Epoch 5/10\n"
          ]
        },
        {
          "name": "stdout",
          "output_type": "stream",
          "text": [
            "\r",
            " 1/63 [..............................] - ETA: 3s - loss: 0.3130 - accuracy: 0.8438"
          ]
        },
        {
          "name": "stdout",
          "output_type": "stream",
          "text": [
            "\b\b\b\b\b\b\b\b\b\b\b\b\b\b\b\b\b\b\b\b\b\b\b\b\b\b\b\b\b\b\b\b\b\b\b\b\b\b\b\b\b\b\b\b\b\b\b\b\b\b\b\b\b\b\b\b\b\b\b\b\b\b\b\b\b\b\b\b\b\b\b\b\b\b\b\b\b\b\b\b\b\b\r",
            " 3/63 [>.............................] - ETA: 1s - loss: 0.3430 - accuracy: 0.8229"
          ]
        },
        {
          "name": "stdout",
          "output_type": "stream",
          "text": [
            "\b\b\b\b\b\b\b\b\b\b\b\b\b\b\b\b\b\b\b\b\b\b\b\b\b\b\b\b\b\b\b\b\b\b\b\b\b\b\b\b\b\b\b\b\b\b\b\b\b\b\b\b\b\b\b\b\b\b\b\b\b\b\b\b\b\b\b\b\b\b\b\b\b\b\b\b\b\b\b\b\b\b\r",
            " 5/63 [=>............................] - ETA: 1s - loss: 0.3183 - accuracy: 0.8562"
          ]
        },
        {
          "name": "stdout",
          "output_type": "stream",
          "text": [
            "\b\b\b\b\b\b\b\b\b\b\b\b\b\b\b\b\b\b\b\b\b\b\b\b\b\b\b\b\b\b\b\b\b\b\b\b\b\b\b\b\b\b\b\b\b\b\b\b\b\b\b\b\b\b\b\b\b\b\b\b\b\b\b\b\b\b\b\b\b\b\b\b\b\b\b\b\b\b\b\b\b\b\r",
            " 7/63 [==>...........................] - ETA: 1s - loss: 0.3321 - accuracy: 0.8482"
          ]
        },
        {
          "name": "stdout",
          "output_type": "stream",
          "text": [
            "\b\b\b\b\b\b\b\b\b\b\b\b\b\b\b\b\b\b\b\b\b\b\b\b\b\b\b\b\b\b\b\b\b\b\b\b\b\b\b\b\b\b\b\b\b\b\b\b\b\b\b\b\b\b\b\b\b\b\b\b\b\b\b\b\b\b\b\b\b\b\b\b\b\b\b\b\b\b\b\b\b\b\r",
            " 9/63 [===>..........................] - ETA: 1s - loss: 0.3500 - accuracy: 0.8403"
          ]
        },
        {
          "name": "stdout",
          "output_type": "stream",
          "text": [
            "\b\b\b\b\b\b\b\b\b\b\b\b\b\b\b\b\b\b\b\b\b\b\b\b\b\b\b\b\b\b\b\b\b\b\b\b\b\b\b\b\b\b\b\b\b\b\b\b\b\b\b\b\b\b\b\b\b\b\b\b\b\b\b\b\b\b\b\b\b\b\b\b\b\b\b\b\b\b\b\b\b\b\r",
            "11/63 [====>.........................] - ETA: 1s - loss: 0.3510 - accuracy: 0.8352"
          ]
        },
        {
          "name": "stdout",
          "output_type": "stream",
          "text": [
            "\b\b\b\b\b\b\b\b\b\b\b\b\b\b\b\b\b\b\b\b\b\b\b\b\b\b\b\b\b\b\b\b\b\b\b\b\b\b\b\b\b\b\b\b\b\b\b\b\b\b\b\b\b\b\b\b\b\b\b\b\b\b\b\b\b\b\b\b\b\b\b\b\b\b\b\b\b\b\b\b\b\b\r",
            "13/63 [=====>........................] - ETA: 1s - loss: 0.3463 - accuracy: 0.8438"
          ]
        },
        {
          "name": "stdout",
          "output_type": "stream",
          "text": [
            "\b\b\b\b\b\b\b\b\b\b\b\b\b\b\b\b\b\b\b\b\b\b\b\b\b\b\b\b\b\b\b\b\b\b\b\b\b\b\b\b\b\b\b\b\b\b\b\b\b\b\b\b\b\b\b\b\b\b\b\b\b\b\b\b\b\b\b\b\b\b\b\b\b\b\b\b\b\b\b\b\b\b\r",
            "15/63 [======>.......................] - ETA: 1s - loss: 0.3326 - accuracy: 0.8562"
          ]
        },
        {
          "name": "stdout",
          "output_type": "stream",
          "text": [
            "\b\b\b\b\b\b\b\b\b\b\b\b\b\b\b\b\b\b\b\b\b\b\b\b\b\b\b\b\b\b\b\b\b\b\b\b\b\b\b\b\b\b\b\b\b\b\b\b\b\b\b\b\b\b\b\b\b\b\b\b\b\b\b\b\b\b\b\b\b\b\b\b\b\b\b\b\b\b\b\b\b\b\r",
            "17/63 [=======>......................] - ETA: 1s - loss: 0.3276 - accuracy: 0.8603"
          ]
        },
        {
          "name": "stdout",
          "output_type": "stream",
          "text": [
            "\b\b\b\b\b\b\b\b\b\b\b\b\b\b\b\b\b\b\b\b\b\b\b\b\b\b\b\b\b\b\b\b\b\b\b\b\b\b\b\b\b\b\b\b\b\b\b\b\b\b\b\b\b\b\b\b\b\b\b\b\b\b\b\b\b\b\b\b\b\b\b\b\b\b\b\b\b\b\b\b\b\b\r",
            "19/63 [========>.....................] - ETA: 1s - loss: 0.3256 - accuracy: 0.8503"
          ]
        },
        {
          "name": "stdout",
          "output_type": "stream",
          "text": [
            "\b\b\b\b\b\b\b\b\b\b\b\b\b\b\b\b\b\b\b\b\b\b\b\b\b\b\b\b\b\b\b\b\b\b\b\b\b\b\b\b\b\b\b\b\b\b\b\b\b\b\b\b\b\b\b\b\b\b\b\b\b\b\b\b\b\b\b\b\b\b\b\b\b\b\b\b\b\b\b\b\b\b\r",
            "21/63 [=========>....................] - ETA: 1s - loss: 0.3280 - accuracy: 0.8512"
          ]
        },
        {
          "name": "stdout",
          "output_type": "stream",
          "text": [
            "\b\b\b\b\b\b\b\b\b\b\b\b\b\b\b\b\b\b\b\b\b\b\b\b\b\b\b\b\b\b\b\b\b\b\b\b\b\b\b\b\b\b\b\b\b\b\b\b\b\b\b\b\b\b\b\b\b\b\b\b\b\b\b\b\b\b\b\b\b\b\b\b\b\b\b\b\b\b\b\b\b\b\r",
            "23/63 [=========>....................] - ETA: 1s - loss: 0.3225 - accuracy: 0.8519"
          ]
        },
        {
          "name": "stdout",
          "output_type": "stream",
          "text": [
            "\b\b\b\b\b\b\b\b\b\b\b\b\b\b\b\b\b\b\b\b\b\b\b\b\b\b\b\b\b\b\b\b\b\b\b\b\b\b\b\b\b\b\b\b\b\b\b\b\b\b\b\b\b\b\b\b\b\b\b\b\b\b\b\b\b\b\b\b\b\b\b\b\b\b\b\b\b\b\b\b\b\b\r",
            "25/63 [==========>...................] - ETA: 1s - loss: 0.3174 - accuracy: 0.8550"
          ]
        },
        {
          "name": "stdout",
          "output_type": "stream",
          "text": [
            "\b\b\b\b\b\b\b\b\b\b\b\b\b\b\b\b\b\b\b\b\b\b\b\b\b\b\b\b\b\b\b\b\b\b\b\b\b\b\b\b\b\b\b\b\b\b\b\b\b\b\b\b\b\b\b\b\b\b\b\b\b\b\b\b\b\b\b\b\b\b\b\b\b\b\b\b\b\b\b\b\b\b\r",
            "27/63 [===========>..................] - ETA: 1s - loss: 0.3190 - accuracy: 0.8530"
          ]
        },
        {
          "name": "stdout",
          "output_type": "stream",
          "text": [
            "\b\b\b\b\b\b\b\b\b\b\b\b\b\b\b\b\b\b\b\b\b\b\b\b\b\b\b\b\b\b\b\b\b\b\b\b\b\b\b\b\b\b\b\b\b\b\b\b\b\b\b\b\b\b\b\b\b\b\b\b\b\b\b\b\b\b\b\b\b\b\b\b\b\b\b\b\b\b\b\b\b\b\r",
            "29/63 [============>.................] - ETA: 0s - loss: 0.3152 - accuracy: 0.8545"
          ]
        },
        {
          "name": "stdout",
          "output_type": "stream",
          "text": [
            "\b\b\b\b\b\b\b\b\b\b\b\b\b\b\b\b\b\b\b\b\b\b\b\b\b\b\b\b\b\b\b\b\b\b\b\b\b\b\b\b\b\b\b\b\b\b\b\b\b\b\b\b\b\b\b\b\b\b\b\b\b\b\b\b\b\b\b\b\b\b\b\b\b\b\b\b\b\b\b\b\b\b\r",
            "31/63 [=============>................] - ETA: 0s - loss: 0.3142 - accuracy: 0.8548"
          ]
        },
        {
          "name": "stdout",
          "output_type": "stream",
          "text": [
            "\b\b\b\b\b\b\b\b\b\b\b\b\b\b\b\b\b\b\b\b\b\b\b\b\b\b\b\b\b\b\b\b\b\b\b\b\b\b\b\b\b\b\b\b\b\b\b\b\b\b\b\b\b\b\b\b\b\b\b\b\b\b\b\b\b\b\b\b\b\b\b\b\b\b\b\b\b\b\b\b\b\b\r",
            "33/63 [==============>...............] - ETA: 0s - loss: 0.3142 - accuracy: 0.8551"
          ]
        },
        {
          "name": "stdout",
          "output_type": "stream",
          "text": [
            "\b\b\b\b\b\b\b\b\b\b\b\b\b\b\b\b\b\b\b\b\b\b\b\b\b\b\b\b\b\b\b\b\b\b\b\b\b\b\b\b\b\b\b\b\b\b\b\b\b\b\b\b\b\b\b\b\b\b\b\b\b\b\b\b\b\b\b\b\b\b\b\b\b\b\b\b\b\b\b\b\b\b\r",
            "35/63 [===============>..............] - ETA: 0s - loss: 0.3149 - accuracy: 0.8562"
          ]
        },
        {
          "name": "stdout",
          "output_type": "stream",
          "text": [
            "\b\b\b\b\b\b\b\b\b\b\b\b\b\b\b\b\b\b\b\b\b\b\b\b\b\b\b\b\b\b\b\b\b\b\b\b\b\b\b\b\b\b\b\b\b\b\b\b\b\b\b\b\b\b\b\b\b\b\b\b\b\b\b\b\b\b\b\b\b\b\b\b\b\b\b\b\b\b\b\b\b\b\r",
            "37/63 [================>.............] - ETA: 0s - loss: 0.3136 - accuracy: 0.8581"
          ]
        },
        {
          "name": "stdout",
          "output_type": "stream",
          "text": [
            "\b\b\b\b\b\b\b\b\b\b\b\b\b\b\b\b\b\b\b\b\b\b\b\b\b\b\b\b\b\b\b\b\b\b\b\b\b\b\b\b\b\b\b\b\b\b\b\b\b\b\b\b\b\b\b\b\b\b\b\b\b\b\b\b\b\b\b\b\b\b\b\b\b\b\b\b\b\b\b\b\b\b\r",
            "39/63 [=================>............] - ETA: 0s - loss: 0.3143 - accuracy: 0.8566"
          ]
        },
        {
          "name": "stdout",
          "output_type": "stream",
          "text": [
            "\b\b\b\b\b\b\b\b\b\b\b\b\b\b\b\b\b\b\b\b\b\b\b\b\b\b\b\b\b\b\b\b\b\b\b\b\b\b\b\b\b\b\b\b\b\b\b\b\b\b\b\b\b\b\b\b\b\b\b\b\b\b\b\b\b\b\b\b\b\b\b\b\b\b\b\b\b\b\b\b\b\b\r",
            "41/63 [==================>...........] - ETA: 0s - loss: 0.3139 - accuracy: 0.8590"
          ]
        },
        {
          "name": "stdout",
          "output_type": "stream",
          "text": [
            "\b\b\b\b\b\b\b\b\b\b\b\b\b\b\b\b\b\b\b\b\b\b\b\b\b\b\b\b\b\b\b\b\b\b\b\b\b\b\b\b\b\b\b\b\b\b\b\b\b\b\b\b\b\b\b\b\b\b\b\b\b\b\b\b\b\b\b\b\b\b\b\b\b\b\b\b\b\b\b\b\b\b\r",
            "43/63 [===================>..........] - ETA: 0s - loss: 0.3140 - accuracy: 0.8619"
          ]
        },
        {
          "name": "stdout",
          "output_type": "stream",
          "text": [
            "\b\b\b\b\b\b\b\b\b\b\b\b\b\b\b\b\b\b\b\b\b\b\b\b\b\b\b\b\b\b\b\b\b\b\b\b\b\b\b\b\b\b\b\b\b\b\b\b\b\b\b\b\b\b\b\b\b\b\b\b\b\b\b\b\b\b\b\b\b\b\b\b\b\b\b\b\b\b\b\b\b\b\r",
            "45/63 [====================>.........] - ETA: 0s - loss: 0.3143 - accuracy: 0.8632"
          ]
        },
        {
          "name": "stdout",
          "output_type": "stream",
          "text": [
            "\b\b\b\b\b\b\b\b\b\b\b\b\b\b\b\b\b\b\b\b\b\b\b\b\b\b\b\b\b\b\b\b\b\b\b\b\b\b\b\b\b\b\b\b\b\b\b\b\b\b\b\b\b\b\b\b\b\b\b\b\b\b\b\b\b\b\b\b\b\b\b\b\b\b\b\b\b\b\b\b\b\b\r",
            "47/63 [=====================>........] - ETA: 0s - loss: 0.3181 - accuracy: 0.8624"
          ]
        },
        {
          "name": "stdout",
          "output_type": "stream",
          "text": [
            "\b\b\b\b\b\b\b\b\b\b\b\b\b\b\b\b\b\b\b\b\b\b\b\b\b\b\b\b\b\b\b\b\b\b\b\b\b\b\b\b\b\b\b\b\b\b\b\b\b\b\b\b\b\b\b\b\b\b\b\b\b\b\b\b\b\b\b\b\b\b\b\b\b\b\b\b\b\b\b\b\b\b\r",
            "49/63 [======================>.......] - ETA: 0s - loss: 0.3193 - accuracy: 0.8603"
          ]
        },
        {
          "name": "stdout",
          "output_type": "stream",
          "text": [
            "\b\b\b\b\b\b\b\b\b\b\b\b\b\b\b\b\b\b\b\b\b\b\b\b\b\b\b\b\b\b\b\b\b\b\b\b\b\b\b\b\b\b\b\b\b\b\b\b\b\b\b\b\b\b\b\b\b\b\b\b\b\b\b\b\b\b\b\b\b\b\b\b\b\b\b\b\b\b\b\b\b\b\r",
            "51/63 [=======================>......] - ETA: 0s - loss: 0.3194 - accuracy: 0.8597"
          ]
        },
        {
          "name": "stdout",
          "output_type": "stream",
          "text": [
            "\b\b\b\b\b\b\b\b\b\b\b\b\b\b\b\b\b\b\b\b\b\b\b\b\b\b\b\b\b\b\b\b\b\b\b\b\b\b\b\b\b\b\b\b\b\b\b\b\b\b\b\b\b\b\b\b\b\b\b\b\b\b\b\b\b\b\b\b\b\b\b\b\b\b\b\b\b\b\b\b\b\b\r",
            "53/63 [========================>.....] - ETA: 0s - loss: 0.3197 - accuracy: 0.8585"
          ]
        },
        {
          "name": "stdout",
          "output_type": "stream",
          "text": [
            "\b\b\b\b\b\b\b\b\b\b\b\b\b\b\b\b\b\b\b\b\b\b\b\b\b\b\b\b\b\b\b\b\b\b\b\b\b\b\b\b\b\b\b\b\b\b\b\b\b\b\b\b\b\b\b\b\b\b\b\b\b\b\b\b\b\b\b\b\b\b\b\b\b\b\b\b\b\b\b\b\b\b\r",
            "55/63 [=========================>....] - ETA: 0s - loss: 0.3202 - accuracy: 0.8574"
          ]
        },
        {
          "name": "stdout",
          "output_type": "stream",
          "text": [
            "\b\b\b\b\b\b\b\b\b\b\b\b\b\b\b\b\b\b\b\b\b\b\b\b\b\b\b\b\b\b\b\b\b\b\b\b\b\b\b\b\b\b\b\b\b\b\b\b\b\b\b\b\b\b\b\b\b\b\b\b\b\b\b\b\b\b\b\b\b\b\b\b\b\b\b\b\b\b\b\b\b\b\r",
            "57/63 [==========================>...] - ETA: 0s - loss: 0.3213 - accuracy: 0.8564"
          ]
        },
        {
          "name": "stdout",
          "output_type": "stream",
          "text": [
            "\b\b\b\b\b\b\b\b\b\b\b\b\b\b\b\b\b\b\b\b\b\b\b\b\b\b\b\b\b\b\b\b\b\b\b\b\b\b\b\b\b\b\b\b\b\b\b\b\b\b\b\b\b\b\b\b\b\b\b\b\b\b\b\b\b\b\b\b\b\b\b\b\b\b\b\b\b\b\b\b\b\b\r",
            "59/63 [===========================>..] - ETA: 0s - loss: 0.3198 - accuracy: 0.8570"
          ]
        },
        {
          "name": "stdout",
          "output_type": "stream",
          "text": [
            "\b\b\b\b\b\b\b\b\b\b\b\b\b\b\b\b\b\b\b\b\b\b\b\b\b\b\b\b\b\b\b\b\b\b\b\b\b\b\b\b\b\b\b\b\b\b\b\b\b\b\b\b\b\b\b\b\b\b\b\b\b\b\b\b\b\b\b\b\b\b\b\b\b\b\b\b\b\b\b\b\b\b\r",
            "61/63 [============================>.] - ETA: 0s - loss: 0.3181 - accuracy: 0.8591"
          ]
        },
        {
          "name": "stdout",
          "output_type": "stream",
          "text": [
            "\b\b\b\b\b\b\b\b\b\b\b\b\b\b\b\b\b\b\b\b\b\b\b\b\b\b\b\b\b\b\b\b\b\b\b\b\b\b\b\b\b\b\b\b\b\b\b\b\b\b\b\b\b\b\b\b\b\b\b\b\b\b\b\b\b\b\b\b\b\b\b\b\b\b\b\b\b\b\b\b\b\b\r",
            "63/63 [==============================] - 2s 35ms/step - loss: 0.3183 - accuracy: 0.8595 - val_loss: 0.2180 - val_accuracy: 0.8985\n"
          ]
        },
        {
          "name": "stdout",
          "output_type": "stream",
          "text": [
            "Epoch 6/10\n"
          ]
        },
        {
          "name": "stdout",
          "output_type": "stream",
          "text": [
            "\r",
            " 1/63 [..............................] - ETA: 3s - loss: 0.3548 - accuracy: 0.7500"
          ]
        },
        {
          "name": "stdout",
          "output_type": "stream",
          "text": [
            "\b\b\b\b\b\b\b\b\b\b\b\b\b\b\b\b\b\b\b\b\b\b\b\b\b\b\b\b\b\b\b\b\b\b\b\b\b\b\b\b\b\b\b\b\b\b\b\b\b\b\b\b\b\b\b\b\b\b\b\b\b\b\b\b\b\b\b\b\b\b\b\b\b\b\b\b\b\b\b\b\b\b\r",
            " 3/63 [>.............................] - ETA: 1s - loss: 0.2926 - accuracy: 0.8438"
          ]
        },
        {
          "name": "stdout",
          "output_type": "stream",
          "text": [
            "\b\b\b\b\b\b\b\b\b\b\b\b\b\b\b\b\b\b\b\b\b\b\b\b\b\b\b\b\b\b\b\b\b\b\b\b\b\b\b\b\b\b\b\b\b\b\b\b\b\b\b\b\b\b\b\b\b\b\b\b\b\b\b\b\b\b\b\b\b\b\b\b\b\b\b\b\b\b\b\b\b\b\r",
            " 5/63 [=>............................] - ETA: 1s - loss: 0.3272 - accuracy: 0.8125"
          ]
        },
        {
          "name": "stdout",
          "output_type": "stream",
          "text": [
            "\b\b\b\b\b\b\b\b\b\b\b\b\b\b\b\b\b\b\b\b\b\b\b\b\b\b\b\b\b\b\b\b\b\b\b\b\b\b\b\b\b\b\b\b\b\b\b\b\b\b\b\b\b\b\b\b\b\b\b\b\b\b\b\b\b\b\b\b\b\b\b\b\b\b\b\b\b\b\b\b\b\b\r",
            " 7/63 [==>...........................] - ETA: 1s - loss: 0.3239 - accuracy: 0.8170"
          ]
        },
        {
          "name": "stdout",
          "output_type": "stream",
          "text": [
            "\b\b\b\b\b\b\b\b\b\b\b\b\b\b\b\b\b\b\b\b\b\b\b\b\b\b\b\b\b\b\b\b\b\b\b\b\b\b\b\b\b\b\b\b\b\b\b\b\b\b\b\b\b\b\b\b\b\b\b\b\b\b\b\b\b\b\b\b\b\b\b\b\b\b\b\b\b\b\b\b\b\b\r",
            " 9/63 [===>..........................] - ETA: 1s - loss: 0.3029 - accuracy: 0.8333"
          ]
        },
        {
          "name": "stdout",
          "output_type": "stream",
          "text": [
            "\b\b\b\b\b\b\b\b\b\b\b\b\b\b\b\b\b\b\b\b\b\b\b\b\b\b\b\b\b\b\b\b\b\b\b\b\b\b\b\b\b\b\b\b\b\b\b\b\b\b\b\b\b\b\b\b\b\b\b\b\b\b\b\b\b\b\b\b\b\b\b\b\b\b\b\b\b\b\b\b\b\b\r",
            "11/63 [====>.........................] - ETA: 1s - loss: 0.3062 - accuracy: 0.8324"
          ]
        },
        {
          "name": "stdout",
          "output_type": "stream",
          "text": [
            "\b\b\b\b\b\b\b\b\b\b\b\b\b\b\b\b\b\b\b\b\b\b\b\b\b\b\b\b\b\b\b\b\b\b\b\b\b\b\b\b\b\b\b\b\b\b\b\b\b\b\b\b\b\b\b\b\b\b\b\b\b\b\b\b\b\b\b\b\b\b\b\b\b\b\b\b\b\b\b\b\b\b\r",
            "13/63 [=====>........................] - ETA: 1s - loss: 0.3070 - accuracy: 0.8365"
          ]
        },
        {
          "name": "stdout",
          "output_type": "stream",
          "text": [
            "\b\b\b\b\b\b\b\b\b\b\b\b\b\b\b\b\b\b\b\b\b\b\b\b\b\b\b\b\b\b\b\b\b\b\b\b\b\b\b\b\b\b\b\b\b\b\b\b\b\b\b\b\b\b\b\b\b\b\b\b\b\b\b\b\b\b\b\b\b\b\b\b\b\b\b\b\b\b\b\b\b\b\r",
            "15/63 [======>.......................] - ETA: 1s - loss: 0.3079 - accuracy: 0.8438"
          ]
        },
        {
          "name": "stdout",
          "output_type": "stream",
          "text": [
            "\b\b\b\b\b\b\b\b\b\b\b\b\b\b\b\b\b\b\b\b\b\b\b\b\b\b\b\b\b\b\b\b\b\b\b\b\b\b\b\b\b\b\b\b\b\b\b\b\b\b\b\b\b\b\b\b\b\b\b\b\b\b\b\b\b\b\b\b\b\b\b\b\b\b\b\b\b\b\b\b\b\b\r",
            "17/63 [=======>......................] - ETA: 1s - loss: 0.3066 - accuracy: 0.8456"
          ]
        },
        {
          "name": "stdout",
          "output_type": "stream",
          "text": [
            "\b\b\b\b\b\b\b\b\b\b\b\b\b\b\b\b\b\b\b\b\b\b\b\b\b\b\b\b\b\b\b\b\b\b\b\b\b\b\b\b\b\b\b\b\b\b\b\b\b\b\b\b\b\b\b\b\b\b\b\b\b\b\b\b\b\b\b\b\b\b\b\b\b\b\b\b\b\b\b\b\b\b\r",
            "19/63 [========>.....................] - ETA: 1s - loss: 0.3050 - accuracy: 0.8454"
          ]
        },
        {
          "name": "stdout",
          "output_type": "stream",
          "text": [
            "\b\b\b\b\b\b\b\b\b\b\b\b\b\b\b\b\b\b\b\b\b\b\b\b\b\b\b\b\b\b\b\b\b\b\b\b\b\b\b\b\b\b\b\b\b\b\b\b\b\b\b\b\b\b\b\b\b\b\b\b\b\b\b\b\b\b\b\b\b\b\b\b\b\b\b\b\b\b\b\b\b\b\r",
            "21/63 [=========>....................] - ETA: 1s - loss: 0.3009 - accuracy: 0.8512"
          ]
        },
        {
          "name": "stdout",
          "output_type": "stream",
          "text": [
            "\b\b\b\b\b\b\b\b\b\b\b\b\b\b\b\b\b\b\b\b\b\b\b\b\b\b\b\b\b\b\b\b\b\b\b\b\b\b\b\b\b\b\b\b\b\b\b\b\b\b\b\b\b\b\b\b\b\b\b\b\b\b\b\b\b\b\b\b\b\b\b\b\b\b\b\b\b\b\b\b\b\b\r",
            "23/63 [=========>....................] - ETA: 1s - loss: 0.3058 - accuracy: 0.8519"
          ]
        },
        {
          "name": "stdout",
          "output_type": "stream",
          "text": [
            "\b\b\b\b\b\b\b\b\b\b\b\b\b\b\b\b\b\b\b\b\b\b\b\b\b\b\b\b\b\b\b\b\b\b\b\b\b\b\b\b\b\b\b\b\b\b\b\b\b\b\b\b\b\b\b\b\b\b\b\b\b\b\b\b\b\b\b\b\b\b\b\b\b\b\b\b\b\b\b\b\b\b\r",
            "25/63 [==========>...................] - ETA: 1s - loss: 0.3070 - accuracy: 0.8512"
          ]
        },
        {
          "name": "stdout",
          "output_type": "stream",
          "text": [
            "\b\b\b\b\b\b\b\b\b\b\b\b\b\b\b\b\b\b\b\b\b\b\b\b\b\b\b\b\b\b\b\b\b\b\b\b\b\b\b\b\b\b\b\b\b\b\b\b\b\b\b\b\b\b\b\b\b\b\b\b\b\b\b\b\b\b\b\b\b\b\b\b\b\b\b\b\b\b\b\b\b\b\r",
            "27/63 [===========>..................] - ETA: 1s - loss: 0.3022 - accuracy: 0.8530"
          ]
        },
        {
          "name": "stdout",
          "output_type": "stream",
          "text": [
            "\b\b\b\b\b\b\b\b\b\b\b\b\b\b\b\b\b\b\b\b\b\b\b\b\b\b\b\b\b\b\b\b\b\b\b\b\b\b\b\b\b\b\b\b\b\b\b\b\b\b\b\b\b\b\b\b\b\b\b\b\b\b\b\b\b\b\b\b\b\b\b\b\b\b\b\b\b\b\b\b\b\b\r",
            "29/63 [============>.................] - ETA: 0s - loss: 0.2987 - accuracy: 0.8556"
          ]
        },
        {
          "name": "stdout",
          "output_type": "stream",
          "text": [
            "\b\b\b\b\b\b\b\b\b\b\b\b\b\b\b\b\b\b\b\b\b\b\b\b\b\b\b\b\b\b\b\b\b\b\b\b\b\b\b\b\b\b\b\b\b\b\b\b\b\b\b\b\b\b\b\b\b\b\b\b\b\b\b\b\b\b\b\b\b\b\b\b\b\b\b\b\b\b\b\b\b\b\r",
            "31/63 [=============>................] - ETA: 0s - loss: 0.2973 - accuracy: 0.8569"
          ]
        },
        {
          "name": "stdout",
          "output_type": "stream",
          "text": [
            "\b\b\b\b\b\b\b\b\b\b\b\b\b\b\b\b\b\b\b\b\b\b\b\b\b\b\b\b\b\b\b\b\b\b\b\b\b\b\b\b\b\b\b\b\b\b\b\b\b\b\b\b\b\b\b\b\b\b\b\b\b\b\b\b\b\b\b\b\b\b\b\b\b\b\b\b\b\b\b\b\b\b\r",
            "33/63 [==============>...............] - ETA: 0s - loss: 0.2969 - accuracy: 0.8532"
          ]
        },
        {
          "name": "stdout",
          "output_type": "stream",
          "text": [
            "\b\b\b\b\b\b\b\b\b\b\b\b\b\b\b\b\b\b\b\b\b\b\b\b\b\b\b\b\b\b\b\b\b\b\b\b\b\b\b\b\b\b\b\b\b\b\b\b\b\b\b\b\b\b\b\b\b\b\b\b\b\b\b\b\b\b\b\b\b\b\b\b\b\b\b\b\b\b\b\b\b\b\r",
            "35/63 [===============>..............] - ETA: 0s - loss: 0.3014 - accuracy: 0.8518"
          ]
        },
        {
          "name": "stdout",
          "output_type": "stream",
          "text": [
            "\b\b\b\b\b\b\b\b\b\b\b\b\b\b\b\b\b\b\b\b\b\b\b\b\b\b\b\b\b\b\b\b\b\b\b\b\b\b\b\b\b\b\b\b\b\b\b\b\b\b\b\b\b\b\b\b\b\b\b\b\b\b\b\b\b\b\b\b\b\b\b\b\b\b\b\b\b\b\b\b\b\b\r",
            "37/63 [================>.............] - ETA: 0s - loss: 0.3048 - accuracy: 0.8497"
          ]
        },
        {
          "name": "stdout",
          "output_type": "stream",
          "text": [
            "\b\b\b\b\b\b\b\b\b\b\b\b\b\b\b\b\b\b\b\b\b\b\b\b\b\b\b\b\b\b\b\b\b\b\b\b\b\b\b\b\b\b\b\b\b\b\b\b\b\b\b\b\b\b\b\b\b\b\b\b\b\b\b\b\b\b\b\b\b\b\b\b\b\b\b\b\b\b\b\b\b\b\r",
            "39/63 [=================>............] - ETA: 0s - loss: 0.3020 - accuracy: 0.8534"
          ]
        },
        {
          "name": "stdout",
          "output_type": "stream",
          "text": [
            "\b\b\b\b\b\b\b\b\b\b\b\b\b\b\b\b\b\b\b\b\b\b\b\b\b\b\b\b\b\b\b\b\b\b\b\b\b\b\b\b\b\b\b\b\b\b\b\b\b\b\b\b\b\b\b\b\b\b\b\b\b\b\b\b\b\b\b\b\b\b\b\b\b\b\b\b\b\b\b\b\b\b\r",
            "41/63 [==================>...........] - ETA: 0s - loss: 0.3032 - accuracy: 0.8537"
          ]
        },
        {
          "name": "stdout",
          "output_type": "stream",
          "text": [
            "\b\b\b\b\b\b\b\b\b\b\b\b\b\b\b\b\b\b\b\b\b\b\b\b\b\b\b\b\b\b\b\b\b\b\b\b\b\b\b\b\b\b\b\b\b\b\b\b\b\b\b\b\b\b\b\b\b\b\b\b\b\b\b\b\b\b\b\b\b\b\b\b\b\b\b\b\b\b\b\b\b\b\r",
            "43/63 [===================>..........] - ETA: 0s - loss: 0.3038 - accuracy: 0.8554"
          ]
        },
        {
          "name": "stdout",
          "output_type": "stream",
          "text": [
            "\b\b\b\b\b\b\b\b\b\b\b\b\b\b\b\b\b\b\b\b\b\b\b\b\b\b\b\b\b\b\b\b\b\b\b\b\b\b\b\b\b\b\b\b\b\b\b\b\b\b\b\b\b\b\b\b\b\b\b\b\b\b\b\b\b\b\b\b\b\b\b\b\b\b\b\b\b\b\b\b\b\b\r",
            "45/63 [====================>.........] - ETA: 0s - loss: 0.3037 - accuracy: 0.8569"
          ]
        },
        {
          "name": "stdout",
          "output_type": "stream",
          "text": [
            "\b\b\b\b\b\b\b\b\b\b\b\b\b\b\b\b\b\b\b\b\b\b\b\b\b\b\b\b\b\b\b\b\b\b\b\b\b\b\b\b\b\b\b\b\b\b\b\b\b\b\b\b\b\b\b\b\b\b\b\b\b\b\b\b\b\b\b\b\b\b\b\b\b\b\b\b\b\b\b\b\b\b\r",
            "47/63 [=====================>........] - ETA: 0s - loss: 0.3052 - accuracy: 0.8557"
          ]
        },
        {
          "name": "stdout",
          "output_type": "stream",
          "text": [
            "\b\b\b\b\b\b\b\b\b\b\b\b\b\b\b\b\b\b\b\b\b\b\b\b\b\b\b\b\b\b\b\b\b\b\b\b\b\b\b\b\b\b\b\b\b\b\b\b\b\b\b\b\b\b\b\b\b\b\b\b\b\b\b\b\b\b\b\b\b\b\b\b\b\b\b\b\b\b\b\b\b\b\r",
            "49/63 [======================>.......] - ETA: 0s - loss: 0.3014 - accuracy: 0.8578"
          ]
        },
        {
          "name": "stdout",
          "output_type": "stream",
          "text": [
            "\b\b\b\b\b\b\b\b\b\b\b\b\b\b\b\b\b\b\b\b\b\b\b\b\b\b\b\b\b\b\b\b\b\b\b\b\b\b\b\b\b\b\b\b\b\b\b\b\b\b\b\b\b\b\b\b\b\b\b\b\b\b\b\b\b\b\b\b\b\b\b\b\b\b\b\b\b\b\b\b\b\b\r",
            "51/63 [=======================>......] - ETA: 0s - loss: 0.3031 - accuracy: 0.8572"
          ]
        },
        {
          "name": "stdout",
          "output_type": "stream",
          "text": [
            "\b\b\b\b\b\b\b\b\b\b\b\b\b\b\b\b\b\b\b\b\b\b\b\b\b\b\b\b\b\b\b\b\b\b\b\b\b\b\b\b\b\b\b\b\b\b\b\b\b\b\b\b\b\b\b\b\b\b\b\b\b\b\b\b\b\b\b\b\b\b\b\b\b\b\b\b\b\b\b\b\b\b\r",
            "53/63 [========================>.....] - ETA: 0s - loss: 0.3003 - accuracy: 0.8603"
          ]
        },
        {
          "name": "stdout",
          "output_type": "stream",
          "text": [
            "\b\b\b\b\b\b\b\b\b\b\b\b\b\b\b\b\b\b\b\b\b\b\b\b\b\b\b\b\b\b\b\b\b\b\b\b\b\b\b\b\b\b\b\b\b\b\b\b\b\b\b\b\b\b\b\b\b\b\b\b\b\b\b\b\b\b\b\b\b\b\b\b\b\b\b\b\b\b\b\b\b\b\r",
            "55/63 [=========================>....] - ETA: 0s - loss: 0.3002 - accuracy: 0.8602"
          ]
        },
        {
          "name": "stdout",
          "output_type": "stream",
          "text": [
            "\b\b\b\b\b\b\b\b\b\b\b\b\b\b\b\b\b\b\b\b\b\b\b\b\b\b\b\b\b\b\b\b\b\b\b\b\b\b\b\b\b\b\b\b\b\b\b\b\b\b\b\b\b\b\b\b\b\b\b\b\b\b\b\b\b\b\b\b\b\b\b\b\b\b\b\b\b\b\b\b\b\b\r",
            "57/63 [==========================>...] - ETA: 0s - loss: 0.2989 - accuracy: 0.8624"
          ]
        },
        {
          "name": "stdout",
          "output_type": "stream",
          "text": [
            "\b\b\b\b\b\b\b\b\b\b\b\b\b\b\b\b\b\b\b\b\b\b\b\b\b\b\b\b\b\b\b\b\b\b\b\b\b\b\b\b\b\b\b\b\b\b\b\b\b\b\b\b\b\b\b\b\b\b\b\b\b\b\b\b\b\b\b\b\b\b\b\b\b\b\b\b\b\b\b\b\b\b\r",
            "59/63 [===========================>..] - ETA: 0s - loss: 0.2969 - accuracy: 0.8628"
          ]
        },
        {
          "name": "stdout",
          "output_type": "stream",
          "text": [
            "\b\b\b\b\b\b\b\b\b\b\b\b\b\b\b\b\b\b\b\b\b\b\b\b\b\b\b\b\b\b\b\b\b\b\b\b\b\b\b\b\b\b\b\b\b\b\b\b\b\b\b\b\b\b\b\b\b\b\b\b\b\b\b\b\b\b\b\b\b\b\b\b\b\b\b\b\b\b\b\b\b\b\r",
            "61/63 [============================>.] - ETA: 0s - loss: 0.2954 - accuracy: 0.8632"
          ]
        },
        {
          "name": "stdout",
          "output_type": "stream",
          "text": [
            "\b\b\b\b\b\b\b\b\b\b\b\b\b\b\b\b\b\b\b\b\b\b\b\b\b\b\b\b\b\b\b\b\b\b\b\b\b\b\b\b\b\b\b\b\b\b\b\b\b\b\b\b\b\b\b\b\b\b\b\b\b\b\b\b\b\b\b\b\b\b\b\b\b\b\b\b\b\b\b\b\b\b\r",
            "63/63 [==============================] - 2s 36ms/step - loss: 0.2943 - accuracy: 0.8630 - val_loss: 0.1918 - val_accuracy: 0.9109\n"
          ]
        },
        {
          "name": "stdout",
          "output_type": "stream",
          "text": [
            "Epoch 7/10\n"
          ]
        },
        {
          "name": "stdout",
          "output_type": "stream",
          "text": [
            "\r",
            " 1/63 [..............................] - ETA: 3s - loss: 0.2700 - accuracy: 0.8750"
          ]
        },
        {
          "name": "stdout",
          "output_type": "stream",
          "text": [
            "\b\b\b\b\b\b\b\b\b\b\b\b\b\b\b\b\b\b\b\b\b\b\b\b\b\b\b\b\b\b\b\b\b\b\b\b\b\b\b\b\b\b\b\b\b\b\b\b\b\b\b\b\b\b\b\b\b\b\b\b\b\b\b\b\b\b\b\b\b\b\b\b\b\b\b\b\b\b\b\b\b\b\r",
            " 3/63 [>.............................] - ETA: 1s - loss: 0.2728 - accuracy: 0.8750"
          ]
        },
        {
          "name": "stdout",
          "output_type": "stream",
          "text": [
            "\b\b\b\b\b\b\b\b\b\b\b\b\b\b\b\b\b\b\b\b\b\b\b\b\b\b\b\b\b\b\b\b\b\b\b\b\b\b\b\b\b\b\b\b\b\b\b\b\b\b\b\b\b\b\b\b\b\b\b\b\b\b\b\b\b\b\b\b\b\b\b\b\b\b\b\b\b\b\b\b\b\b\r",
            " 5/63 [=>............................] - ETA: 1s - loss: 0.2580 - accuracy: 0.8813"
          ]
        },
        {
          "name": "stdout",
          "output_type": "stream",
          "text": [
            "\b\b\b\b\b\b\b\b\b\b\b\b\b\b\b\b\b\b\b\b\b\b\b\b\b\b\b\b\b\b\b\b\b\b\b\b\b\b\b\b\b\b\b\b\b\b\b\b\b\b\b\b\b\b\b\b\b\b\b\b\b\b\b\b\b\b\b\b\b\b\b\b\b\b\b\b\b\b\b\b\b\b\r",
            " 7/63 [==>...........................] - ETA: 1s - loss: 0.2705 - accuracy: 0.8750"
          ]
        },
        {
          "name": "stdout",
          "output_type": "stream",
          "text": [
            "\b\b\b\b\b\b\b\b\b\b\b\b\b\b\b\b\b\b\b\b\b\b\b\b\b\b\b\b\b\b\b\b\b\b\b\b\b\b\b\b\b\b\b\b\b\b\b\b\b\b\b\b\b\b\b\b\b\b\b\b\b\b\b\b\b\b\b\b\b\b\b\b\b\b\b\b\b\b\b\b\b\b\r",
            " 9/63 [===>..........................] - ETA: 1s - loss: 0.2591 - accuracy: 0.8889"
          ]
        },
        {
          "name": "stdout",
          "output_type": "stream",
          "text": [
            "\b\b\b\b\b\b\b\b\b\b\b\b\b\b\b\b\b\b\b\b\b\b\b\b\b\b\b\b\b\b\b\b\b\b\b\b\b\b\b\b\b\b\b\b\b\b\b\b\b\b\b\b\b\b\b\b\b\b\b\b\b\b\b\b\b\b\b\b\b\b\b\b\b\b\b\b\b\b\b\b\b\b\r",
            "11/63 [====>.........................] - ETA: 1s - loss: 0.2566 - accuracy: 0.8920"
          ]
        },
        {
          "name": "stdout",
          "output_type": "stream",
          "text": [
            "\b\b\b\b\b\b\b\b\b\b\b\b\b\b\b\b\b\b\b\b\b\b\b\b\b\b\b\b\b\b\b\b\b\b\b\b\b\b\b\b\b\b\b\b\b\b\b\b\b\b\b\b\b\b\b\b\b\b\b\b\b\b\b\b\b\b\b\b\b\b\b\b\b\b\b\b\b\b\b\b\b\b\r",
            "13/63 [=====>........................] - ETA: 1s - loss: 0.2641 - accuracy: 0.8822"
          ]
        },
        {
          "name": "stdout",
          "output_type": "stream",
          "text": [
            "\b\b\b\b\b\b\b\b\b\b\b\b\b\b\b\b\b\b\b\b\b\b\b\b\b\b\b\b\b\b\b\b\b\b\b\b\b\b\b\b\b\b\b\b\b\b\b\b\b\b\b\b\b\b\b\b\b\b\b\b\b\b\b\b\b\b\b\b\b\b\b\b\b\b\b\b\b\b\b\b\b\b\r",
            "15/63 [======>.......................] - ETA: 1s - loss: 0.2764 - accuracy: 0.8750"
          ]
        },
        {
          "name": "stdout",
          "output_type": "stream",
          "text": [
            "\b\b\b\b\b\b\b\b\b\b\b\b\b\b\b\b\b\b\b\b\b\b\b\b\b\b\b\b\b\b\b\b\b\b\b\b\b\b\b\b\b\b\b\b\b\b\b\b\b\b\b\b\b\b\b\b\b\b\b\b\b\b\b\b\b\b\b\b\b\b\b\b\b\b\b\b\b\b\b\b\b\b\r",
            "17/63 [=======>......................] - ETA: 1s - loss: 0.2760 - accuracy: 0.8750"
          ]
        },
        {
          "name": "stdout",
          "output_type": "stream",
          "text": [
            "\b\b\b\b\b\b\b\b\b\b\b\b\b\b\b\b\b\b\b\b\b\b\b\b\b\b\b\b\b\b\b\b\b\b\b\b\b\b\b\b\b\b\b\b\b\b\b\b\b\b\b\b\b\b\b\b\b\b\b\b\b\b\b\b\b\b\b\b\b\b\b\b\b\b\b\b\b\b\b\b\b\b\r",
            "19/63 [========>.....................] - ETA: 1s - loss: 0.2767 - accuracy: 0.8701"
          ]
        },
        {
          "name": "stdout",
          "output_type": "stream",
          "text": [
            "\b\b\b\b\b\b\b\b\b\b\b\b\b\b\b\b\b\b\b\b\b\b\b\b\b\b\b\b\b\b\b\b\b\b\b\b\b\b\b\b\b\b\b\b\b\b\b\b\b\b\b\b\b\b\b\b\b\b\b\b\b\b\b\b\b\b\b\b\b\b\b\b\b\b\b\b\b\b\b\b\b\b\r",
            "21/63 [=========>....................] - ETA: 1s - loss: 0.2765 - accuracy: 0.8750"
          ]
        },
        {
          "name": "stdout",
          "output_type": "stream",
          "text": [
            "\b\b\b\b\b\b\b\b\b\b\b\b\b\b\b\b\b\b\b\b\b\b\b\b\b\b\b\b\b\b\b\b\b\b\b\b\b\b\b\b\b\b\b\b\b\b\b\b\b\b\b\b\b\b\b\b\b\b\b\b\b\b\b\b\b\b\b\b\b\b\b\b\b\b\b\b\b\b\b\b\b\b\r",
            "23/63 [=========>....................] - ETA: 1s - loss: 0.2721 - accuracy: 0.8804"
          ]
        },
        {
          "name": "stdout",
          "output_type": "stream",
          "text": [
            "\b\b\b\b\b\b\b\b\b\b\b\b\b\b\b\b\b\b\b\b\b\b\b\b\b\b\b\b\b\b\b\b\b\b\b\b\b\b\b\b\b\b\b\b\b\b\b\b\b\b\b\b\b\b\b\b\b\b\b\b\b\b\b\b\b\b\b\b\b\b\b\b\b\b\b\b\b\b\b\b\b\b\r",
            "25/63 [==========>...................] - ETA: 1s - loss: 0.2689 - accuracy: 0.8825"
          ]
        },
        {
          "name": "stdout",
          "output_type": "stream",
          "text": [
            "\b\b\b\b\b\b\b\b\b\b\b\b\b\b\b\b\b\b\b\b\b\b\b\b\b\b\b\b\b\b\b\b\b\b\b\b\b\b\b\b\b\b\b\b\b\b\b\b\b\b\b\b\b\b\b\b\b\b\b\b\b\b\b\b\b\b\b\b\b\b\b\b\b\b\b\b\b\b\b\b\b\b\r",
            "27/63 [===========>..................] - ETA: 1s - loss: 0.2670 - accuracy: 0.8831"
          ]
        },
        {
          "name": "stdout",
          "output_type": "stream",
          "text": [
            "\b\b\b\b\b\b\b\b\b\b\b\b\b\b\b\b\b\b\b\b\b\b\b\b\b\b\b\b\b\b\b\b\b\b\b\b\b\b\b\b\b\b\b\b\b\b\b\b\b\b\b\b\b\b\b\b\b\b\b\b\b\b\b\b\b\b\b\b\b\b\b\b\b\b\b\b\b\b\b\b\b\b\r",
            "29/63 [============>.................] - ETA: 0s - loss: 0.2677 - accuracy: 0.8847"
          ]
        },
        {
          "name": "stdout",
          "output_type": "stream",
          "text": [
            "\b\b\b\b\b\b\b\b\b\b\b\b\b\b\b\b\b\b\b\b\b\b\b\b\b\b\b\b\b\b\b\b\b\b\b\b\b\b\b\b\b\b\b\b\b\b\b\b\b\b\b\b\b\b\b\b\b\b\b\b\b\b\b\b\b\b\b\b\b\b\b\b\b\b\b\b\b\b\b\b\b\b\r",
            "31/63 [=============>................] - ETA: 0s - loss: 0.2636 - accuracy: 0.8901"
          ]
        },
        {
          "name": "stdout",
          "output_type": "stream",
          "text": [
            "\b\b\b\b\b\b\b\b\b\b\b\b\b\b\b\b\b\b\b\b\b\b\b\b\b\b\b\b\b\b\b\b\b\b\b\b\b\b\b\b\b\b\b\b\b\b\b\b\b\b\b\b\b\b\b\b\b\b\b\b\b\b\b\b\b\b\b\b\b\b\b\b\b\b\b\b\b\b\b\b\b\b\r",
            "33/63 [==============>...............] - ETA: 0s - loss: 0.2660 - accuracy: 0.8892"
          ]
        },
        {
          "name": "stdout",
          "output_type": "stream",
          "text": [
            "\b\b\b\b\b\b\b\b\b\b\b\b\b\b\b\b\b\b\b\b\b\b\b\b\b\b\b\b\b\b\b\b\b\b\b\b\b\b\b\b\b\b\b\b\b\b\b\b\b\b\b\b\b\b\b\b\b\b\b\b\b\b\b\b\b\b\b\b\b\b\b\b\b\b\b\b\b\b\b\b\b\b\r",
            "35/63 [===============>..............] - ETA: 0s - loss: 0.2624 - accuracy: 0.8929"
          ]
        },
        {
          "name": "stdout",
          "output_type": "stream",
          "text": [
            "\b\b\b\b\b\b\b\b\b\b\b\b\b\b\b\b\b\b\b\b\b\b\b\b\b\b\b\b\b\b\b\b\b\b\b\b\b\b\b\b\b\b\b\b\b\b\b\b\b\b\b\b\b\b\b\b\b\b\b\b\b\b\b\b\b\b\b\b\b\b\b\b\b\b\b\b\b\b\b\b\b\b\r",
            "37/63 [================>.............] - ETA: 0s - loss: 0.2626 - accuracy: 0.8910"
          ]
        },
        {
          "name": "stdout",
          "output_type": "stream",
          "text": [
            "\b\b\b\b\b\b\b\b\b\b\b\b\b\b\b\b\b\b\b\b\b\b\b\b\b\b\b\b\b\b\b\b\b\b\b\b\b\b\b\b\b\b\b\b\b\b\b\b\b\b\b\b\b\b\b\b\b\b\b\b\b\b\b\b\b\b\b\b\b\b\b\b\b\b\b\b\b\b\b\b\b\b\r",
            "39/63 [=================>............] - ETA: 0s - loss: 0.2638 - accuracy: 0.8894"
          ]
        },
        {
          "name": "stdout",
          "output_type": "stream",
          "text": [
            "\b\b\b\b\b\b\b\b\b\b\b\b\b\b\b\b\b\b\b\b\b\b\b\b\b\b\b\b\b\b\b\b\b\b\b\b\b\b\b\b\b\b\b\b\b\b\b\b\b\b\b\b\b\b\b\b\b\b\b\b\b\b\b\b\b\b\b\b\b\b\b\b\b\b\b\b\b\b\b\b\b\b\r",
            "41/63 [==================>...........] - ETA: 0s - loss: 0.2644 - accuracy: 0.8895"
          ]
        },
        {
          "name": "stdout",
          "output_type": "stream",
          "text": [
            "\b\b\b\b\b\b\b\b\b\b\b\b\b\b\b\b\b\b\b\b\b\b\b\b\b\b\b\b\b\b\b\b\b\b\b\b\b\b\b\b\b\b\b\b\b\b\b\b\b\b\b\b\b\b\b\b\b\b\b\b\b\b\b\b\b\b\b\b\b\b\b\b\b\b\b\b\b\b\b\b\b\b\r",
            "43/63 [===================>..........] - ETA: 0s - loss: 0.2648 - accuracy: 0.8881"
          ]
        },
        {
          "name": "stdout",
          "output_type": "stream",
          "text": [
            "\b\b\b\b\b\b\b\b\b\b\b\b\b\b\b\b\b\b\b\b\b\b\b\b\b\b\b\b\b\b\b\b\b\b\b\b\b\b\b\b\b\b\b\b\b\b\b\b\b\b\b\b\b\b\b\b\b\b\b\b\b\b\b\b\b\b\b\b\b\b\b\b\b\b\b\b\b\b\b\b\b\b\r",
            "45/63 [====================>.........] - ETA: 0s - loss: 0.2632 - accuracy: 0.8861"
          ]
        },
        {
          "name": "stdout",
          "output_type": "stream",
          "text": [
            "\b\b\b\b\b\b\b\b\b\b\b\b\b\b\b\b\b\b\b\b\b\b\b\b\b\b\b\b\b\b\b\b\b\b\b\b\b\b\b\b\b\b\b\b\b\b\b\b\b\b\b\b\b\b\b\b\b\b\b\b\b\b\b\b\b\b\b\b\b\b\b\b\b\b\b\b\b\b\b\b\b\b\r",
            "47/63 [=====================>........] - ETA: 0s - loss: 0.2658 - accuracy: 0.8843"
          ]
        },
        {
          "name": "stdout",
          "output_type": "stream",
          "text": [
            "\b\b\b\b\b\b\b\b\b\b\b\b\b\b\b\b\b\b\b\b\b\b\b\b\b\b\b\b\b\b\b\b\b\b\b\b\b\b\b\b\b\b\b\b\b\b\b\b\b\b\b\b\b\b\b\b\b\b\b\b\b\b\b\b\b\b\b\b\b\b\b\b\b\b\b\b\b\b\b\b\b\b\r",
            "49/63 [======================>.......] - ETA: 0s - loss: 0.2648 - accuracy: 0.8852"
          ]
        },
        {
          "name": "stdout",
          "output_type": "stream",
          "text": [
            "\b\b\b\b\b\b\b\b\b\b\b\b\b\b\b\b\b\b\b\b\b\b\b\b\b\b\b\b\b\b\b\b\b\b\b\b\b\b\b\b\b\b\b\b\b\b\b\b\b\b\b\b\b\b\b\b\b\b\b\b\b\b\b\b\b\b\b\b\b\b\b\b\b\b\b\b\b\b\b\b\b\b\r",
            "51/63 [=======================>......] - ETA: 0s - loss: 0.2646 - accuracy: 0.8842"
          ]
        },
        {
          "name": "stdout",
          "output_type": "stream",
          "text": [
            "\b\b\b\b\b\b\b\b\b\b\b\b\b\b\b\b\b\b\b\b\b\b\b\b\b\b\b\b\b\b\b\b\b\b\b\b\b\b\b\b\b\b\b\b\b\b\b\b\b\b\b\b\b\b\b\b\b\b\b\b\b\b\b\b\b\b\b\b\b\b\b\b\b\b\b\b\b\b\b\b\b\b\r",
            "53/63 [========================>.....] - ETA: 0s - loss: 0.2676 - accuracy: 0.8827"
          ]
        },
        {
          "name": "stdout",
          "output_type": "stream",
          "text": [
            "\b\b\b\b\b\b\b\b\b\b\b\b\b\b\b\b\b\b\b\b\b\b\b\b\b\b\b\b\b\b\b\b\b\b\b\b\b\b\b\b\b\b\b\b\b\b\b\b\b\b\b\b\b\b\b\b\b\b\b\b\b\b\b\b\b\b\b\b\b\b\b\b\b\b\b\b\b\b\b\b\b\b\r",
            "55/63 [=========================>....] - ETA: 0s - loss: 0.2685 - accuracy: 0.8801"
          ]
        },
        {
          "name": "stdout",
          "output_type": "stream",
          "text": [
            "\b\b\b\b\b\b\b\b\b\b\b\b\b\b\b\b\b\b\b\b\b\b\b\b\b\b\b\b\b\b\b\b\b\b\b\b\b\b\b\b\b\b\b\b\b\b\b\b\b\b\b\b\b\b\b\b\b\b\b\b\b\b\b\b\b\b\b\b\b\b\b\b\b\b\b\b\b\b\b\b\b\b\r",
            "57/63 [==========================>...] - ETA: 0s - loss: 0.2668 - accuracy: 0.8799"
          ]
        },
        {
          "name": "stdout",
          "output_type": "stream",
          "text": [
            "\b\b\b\b\b\b\b\b\b\b\b\b\b\b\b\b\b\b\b\b\b\b\b\b\b\b\b\b\b\b\b\b\b\b\b\b\b\b\b\b\b\b\b\b\b\b\b\b\b\b\b\b\b\b\b\b\b\b\b\b\b\b\b\b\b\b\b\b\b\b\b\b\b\b\b\b\b\b\b\b\b\b\r",
            "59/63 [===========================>..] - ETA: 0s - loss: 0.2684 - accuracy: 0.8792"
          ]
        },
        {
          "name": "stdout",
          "output_type": "stream",
          "text": [
            "\b\b\b\b\b\b\b\b\b\b\b\b\b\b\b\b\b\b\b\b\b\b\b\b\b\b\b\b\b\b\b\b\b\b\b\b\b\b\b\b\b\b\b\b\b\b\b\b\b\b\b\b\b\b\b\b\b\b\b\b\b\b\b\b\b\b\b\b\b\b\b\b\b\b\b\b\b\b\b\b\b\b\r",
            "61/63 [============================>.] - ETA: 0s - loss: 0.2686 - accuracy: 0.8786"
          ]
        },
        {
          "name": "stdout",
          "output_type": "stream",
          "text": [
            "\b\b\b\b\b\b\b\b\b\b\b\b\b\b\b\b\b\b\b\b\b\b\b\b\b\b\b\b\b\b\b\b\b\b\b\b\b\b\b\b\b\b\b\b\b\b\b\b\b\b\b\b\b\b\b\b\b\b\b\b\b\b\b\b\b\b\b\b\b\b\b\b\b\b\b\b\b\b\b\b\b\b\r",
            "63/63 [==============================] - 2s 35ms/step - loss: 0.2700 - accuracy: 0.8790 - val_loss: 0.1612 - val_accuracy: 0.9344\n"
          ]
        },
        {
          "name": "stdout",
          "output_type": "stream",
          "text": [
            "Epoch 8/10\n"
          ]
        },
        {
          "name": "stdout",
          "output_type": "stream",
          "text": [
            "\r",
            " 1/63 [..............................] - ETA: 3s - loss: 0.1829 - accuracy: 0.9688"
          ]
        },
        {
          "name": "stdout",
          "output_type": "stream",
          "text": [
            "\b\b\b\b\b\b\b\b\b\b\b\b\b\b\b\b\b\b\b\b\b\b\b\b\b\b\b\b\b\b\b\b\b\b\b\b\b\b\b\b\b\b\b\b\b\b\b\b\b\b\b\b\b\b\b\b\b\b\b\b\b\b\b\b\b\b\b\b\b\b\b\b\b\b\b\b\b\b\b\b\b\b\r",
            " 3/63 [>.............................] - ETA: 1s - loss: 0.1950 - accuracy: 0.9271"
          ]
        },
        {
          "name": "stdout",
          "output_type": "stream",
          "text": [
            "\b\b\b\b\b\b\b\b\b\b\b\b\b\b\b\b\b\b\b\b\b\b\b\b\b\b\b\b\b\b\b\b\b\b\b\b\b\b\b\b\b\b\b\b\b\b\b\b\b\b\b\b\b\b\b\b\b\b\b\b\b\b\b\b\b\b\b\b\b\b\b\b\b\b\b\b\b\b\b\b\b\b\r",
            " 5/63 [=>............................] - ETA: 1s - loss: 0.2261 - accuracy: 0.9125"
          ]
        },
        {
          "name": "stdout",
          "output_type": "stream",
          "text": [
            "\b\b\b\b\b\b\b\b\b\b\b\b\b\b\b\b\b\b\b\b\b\b\b\b\b\b\b\b\b\b\b\b\b\b\b\b\b\b\b\b\b\b\b\b\b\b\b\b\b\b\b\b\b\b\b\b\b\b\b\b\b\b\b\b\b\b\b\b\b\b\b\b\b\b\b\b\b\b\b\b\b\b\r",
            " 7/63 [==>...........................] - ETA: 1s - loss: 0.2338 - accuracy: 0.9018"
          ]
        },
        {
          "name": "stdout",
          "output_type": "stream",
          "text": [
            "\b\b\b\b\b\b\b\b\b\b\b\b\b\b\b\b\b\b\b\b\b\b\b\b\b\b\b\b\b\b\b\b\b\b\b\b\b\b\b\b\b\b\b\b\b\b\b\b\b\b\b\b\b\b\b\b\b\b\b\b\b\b\b\b\b\b\b\b\b\b\b\b\b\b\b\b\b\b\b\b\b\b\r",
            " 9/63 [===>..........................] - ETA: 1s - loss: 0.2182 - accuracy: 0.9062"
          ]
        },
        {
          "name": "stdout",
          "output_type": "stream",
          "text": [
            "\b\b\b\b\b\b\b\b\b\b\b\b\b\b\b\b\b\b\b\b\b\b\b\b\b\b\b\b\b\b\b\b\b\b\b\b\b\b\b\b\b\b\b\b\b\b\b\b\b\b\b\b\b\b\b\b\b\b\b\b\b\b\b\b\b\b\b\b\b\b\b\b\b\b\b\b\b\b\b\b\b\b\r",
            "11/63 [====>.........................] - ETA: 1s - loss: 0.2302 - accuracy: 0.8949"
          ]
        },
        {
          "name": "stdout",
          "output_type": "stream",
          "text": [
            "\b\b\b\b\b\b\b\b\b\b\b\b\b\b\b\b\b\b\b\b\b\b\b\b\b\b\b\b\b\b\b\b\b\b\b\b\b\b\b\b\b\b\b\b\b\b\b\b\b\b\b\b\b\b\b\b\b\b\b\b\b\b\b\b\b\b\b\b\b\b\b\b\b\b\b\b\b\b\b\b\b\b\r",
            "13/63 [=====>........................] - ETA: 1s - loss: 0.2320 - accuracy: 0.8870"
          ]
        },
        {
          "name": "stdout",
          "output_type": "stream",
          "text": [
            "\b\b\b\b\b\b\b\b\b\b\b\b\b\b\b\b\b\b\b\b\b\b\b\b\b\b\b\b\b\b\b\b\b\b\b\b\b\b\b\b\b\b\b\b\b\b\b\b\b\b\b\b\b\b\b\b\b\b\b\b\b\b\b\b\b\b\b\b\b\b\b\b\b\b\b\b\b\b\b\b\b\b\r",
            "15/63 [======>.......................] - ETA: 1s - loss: 0.2306 - accuracy: 0.8917"
          ]
        },
        {
          "name": "stdout",
          "output_type": "stream",
          "text": [
            "\b\b\b\b\b\b\b\b\b\b\b\b\b\b\b\b\b\b\b\b\b\b\b\b\b\b\b\b\b\b\b\b\b\b\b\b\b\b\b\b\b\b\b\b\b\b\b\b\b\b\b\b\b\b\b\b\b\b\b\b\b\b\b\b\b\b\b\b\b\b\b\b\b\b\b\b\b\b\b\b\b\b\r",
            "17/63 [=======>......................] - ETA: 1s - loss: 0.2279 - accuracy: 0.8952"
          ]
        },
        {
          "name": "stdout",
          "output_type": "stream",
          "text": [
            "\b\b\b\b\b\b\b\b\b\b\b\b\b\b\b\b\b\b\b\b\b\b\b\b\b\b\b\b\b\b\b\b\b\b\b\b\b\b\b\b\b\b\b\b\b\b\b\b\b\b\b\b\b\b\b\b\b\b\b\b\b\b\b\b\b\b\b\b\b\b\b\b\b\b\b\b\b\b\b\b\b\b\r",
            "19/63 [========>.....................] - ETA: 1s - loss: 0.2383 - accuracy: 0.8914"
          ]
        },
        {
          "name": "stdout",
          "output_type": "stream",
          "text": [
            "\b\b\b\b\b\b\b\b\b\b\b\b\b\b\b\b\b\b\b\b\b\b\b\b\b\b\b\b\b\b\b\b\b\b\b\b\b\b\b\b\b\b\b\b\b\b\b\b\b\b\b\b\b\b\b\b\b\b\b\b\b\b\b\b\b\b\b\b\b\b\b\b\b\b\b\b\b\b\b\b\b\b\r",
            "21/63 [=========>....................] - ETA: 1s - loss: 0.2370 - accuracy: 0.8943"
          ]
        },
        {
          "name": "stdout",
          "output_type": "stream",
          "text": [
            "\b\b\b\b\b\b\b\b\b\b\b\b\b\b\b\b\b\b\b\b\b\b\b\b\b\b\b\b\b\b\b\b\b\b\b\b\b\b\b\b\b\b\b\b\b\b\b\b\b\b\b\b\b\b\b\b\b\b\b\b\b\b\b\b\b\b\b\b\b\b\b\b\b\b\b\b\b\b\b\b\b\b\r",
            "23/63 [=========>....................] - ETA: 1s - loss: 0.2331 - accuracy: 0.8981"
          ]
        },
        {
          "name": "stdout",
          "output_type": "stream",
          "text": [
            "\b\b\b\b\b\b\b\b\b\b\b\b\b\b\b\b\b\b\b\b\b\b\b\b\b\b\b\b\b\b\b\b\b\b\b\b\b\b\b\b\b\b\b\b\b\b\b\b\b\b\b\b\b\b\b\b\b\b\b\b\b\b\b\b\b\b\b\b\b\b\b\b\b\b\b\b\b\b\b\b\b\b\r",
            "25/63 [==========>...................] - ETA: 1s - loss: 0.2340 - accuracy: 0.8975"
          ]
        },
        {
          "name": "stdout",
          "output_type": "stream",
          "text": [
            "\b\b\b\b\b\b\b\b\b\b\b\b\b\b\b\b\b\b\b\b\b\b\b\b\b\b\b\b\b\b\b\b\b\b\b\b\b\b\b\b\b\b\b\b\b\b\b\b\b\b\b\b\b\b\b\b\b\b\b\b\b\b\b\b\b\b\b\b\b\b\b\b\b\b\b\b\b\b\b\b\b\b\r",
            "27/63 [===========>..................] - ETA: 1s - loss: 0.2317 - accuracy: 0.8981"
          ]
        },
        {
          "name": "stdout",
          "output_type": "stream",
          "text": [
            "\b\b\b\b\b\b\b\b\b\b\b\b\b\b\b\b\b\b\b\b\b\b\b\b\b\b\b\b\b\b\b\b\b\b\b\b\b\b\b\b\b\b\b\b\b\b\b\b\b\b\b\b\b\b\b\b\b\b\b\b\b\b\b\b\b\b\b\b\b\b\b\b\b\b\b\b\b\b\b\b\b\b\r",
            "29/63 [============>.................] - ETA: 0s - loss: 0.2289 - accuracy: 0.8998"
          ]
        },
        {
          "name": "stdout",
          "output_type": "stream",
          "text": [
            "\b\b\b\b\b\b\b\b\b\b\b\b\b\b\b\b\b\b\b\b\b\b\b\b\b\b\b\b\b\b\b\b\b\b\b\b\b\b\b\b\b\b\b\b\b\b\b\b\b\b\b\b\b\b\b\b\b\b\b\b\b\b\b\b\b\b\b\b\b\b\b\b\b\b\b\b\b\b\b\b\b\b\r",
            "31/63 [=============>................] - ETA: 0s - loss: 0.2347 - accuracy: 0.8992"
          ]
        },
        {
          "name": "stdout",
          "output_type": "stream",
          "text": [
            "\b\b\b\b\b\b\b\b\b\b\b\b\b\b\b\b\b\b\b\b\b\b\b\b\b\b\b\b\b\b\b\b\b\b\b\b\b\b\b\b\b\b\b\b\b\b\b\b\b\b\b\b\b\b\b\b\b\b\b\b\b\b\b\b\b\b\b\b\b\b\b\b\b\b\b\b\b\b\b\b\b\b\r",
            "33/63 [==============>...............] - ETA: 0s - loss: 0.2363 - accuracy: 0.8987"
          ]
        },
        {
          "name": "stdout",
          "output_type": "stream",
          "text": [
            "\b\b\b\b\b\b\b\b\b\b\b\b\b\b\b\b\b\b\b\b\b\b\b\b\b\b\b\b\b\b\b\b\b\b\b\b\b\b\b\b\b\b\b\b\b\b\b\b\b\b\b\b\b\b\b\b\b\b\b\b\b\b\b\b\b\b\b\b\b\b\b\b\b\b\b\b\b\b\b\b\b\b\r",
            "35/63 [===============>..............] - ETA: 0s - loss: 0.2375 - accuracy: 0.8991"
          ]
        },
        {
          "name": "stdout",
          "output_type": "stream",
          "text": [
            "\b\b\b\b\b\b\b\b\b\b\b\b\b\b\b\b\b\b\b\b\b\b\b\b\b\b\b\b\b\b\b\b\b\b\b\b\b\b\b\b\b\b\b\b\b\b\b\b\b\b\b\b\b\b\b\b\b\b\b\b\b\b\b\b\b\b\b\b\b\b\b\b\b\b\b\b\b\b\b\b\b\b\r",
            "37/63 [================>.............] - ETA: 0s - loss: 0.2354 - accuracy: 0.9003"
          ]
        },
        {
          "name": "stdout",
          "output_type": "stream",
          "text": [
            "\b\b\b\b\b\b\b\b\b\b\b\b\b\b\b\b\b\b\b\b\b\b\b\b\b\b\b\b\b\b\b\b\b\b\b\b\b\b\b\b\b\b\b\b\b\b\b\b\b\b\b\b\b\b\b\b\b\b\b\b\b\b\b\b\b\b\b\b\b\b\b\b\b\b\b\b\b\b\b\b\b\b\r",
            "39/63 [=================>............] - ETA: 0s - loss: 0.2387 - accuracy: 0.8982"
          ]
        },
        {
          "name": "stdout",
          "output_type": "stream",
          "text": [
            "\b\b\b\b\b\b\b\b\b\b\b\b\b\b\b\b\b\b\b\b\b\b\b\b\b\b\b\b\b\b\b\b\b\b\b\b\b\b\b\b\b\b\b\b\b\b\b\b\b\b\b\b\b\b\b\b\b\b\b\b\b\b\b\b\b\b\b\b\b\b\b\b\b\b\b\b\b\b\b\b\b\b\r",
            "41/63 [==================>...........] - ETA: 0s - loss: 0.2429 - accuracy: 0.8963"
          ]
        },
        {
          "name": "stdout",
          "output_type": "stream",
          "text": [
            "\b\b\b\b\b\b\b\b\b\b\b\b\b\b\b\b\b\b\b\b\b\b\b\b\b\b\b\b\b\b\b\b\b\b\b\b\b\b\b\b\b\b\b\b\b\b\b\b\b\b\b\b\b\b\b\b\b\b\b\b\b\b\b\b\b\b\b\b\b\b\b\b\b\b\b\b\b\b\b\b\b\b\r",
            "43/63 [===================>..........] - ETA: 0s - loss: 0.2465 - accuracy: 0.8961"
          ]
        },
        {
          "name": "stdout",
          "output_type": "stream",
          "text": [
            "\b\b\b\b\b\b\b\b\b\b\b\b\b\b\b\b\b\b\b\b\b\b\b\b\b\b\b\b\b\b\b\b\b\b\b\b\b\b\b\b\b\b\b\b\b\b\b\b\b\b\b\b\b\b\b\b\b\b\b\b\b\b\b\b\b\b\b\b\b\b\b\b\b\b\b\b\b\b\b\b\b\b\r",
            "45/63 [====================>.........] - ETA: 0s - loss: 0.2452 - accuracy: 0.8965"
          ]
        },
        {
          "name": "stdout",
          "output_type": "stream",
          "text": [
            "\b\b\b\b\b\b\b\b\b\b\b\b\b\b\b\b\b\b\b\b\b\b\b\b\b\b\b\b\b\b\b\b\b\b\b\b\b\b\b\b\b\b\b\b\b\b\b\b\b\b\b\b\b\b\b\b\b\b\b\b\b\b\b\b\b\b\b\b\b\b\b\b\b\b\b\b\b\b\b\b\b\b\r",
            "47/63 [=====================>........] - ETA: 0s - loss: 0.2427 - accuracy: 0.8983"
          ]
        },
        {
          "name": "stdout",
          "output_type": "stream",
          "text": [
            "\b\b\b\b\b\b\b\b\b\b\b\b\b\b\b\b\b\b\b\b\b\b\b\b\b\b\b\b\b\b\b\b\b\b\b\b\b\b\b\b\b\b\b\b\b\b\b\b\b\b\b\b\b\b\b\b\b\b\b\b\b\b\b\b\b\b\b\b\b\b\b\b\b\b\b\b\b\b\b\b\b\b\r",
            "49/63 [======================>.......] - ETA: 0s - loss: 0.2415 - accuracy: 0.8992"
          ]
        },
        {
          "name": "stdout",
          "output_type": "stream",
          "text": [
            "\b\b\b\b\b\b\b\b\b\b\b\b\b\b\b\b\b\b\b\b\b\b\b\b\b\b\b\b\b\b\b\b\b\b\b\b\b\b\b\b\b\b\b\b\b\b\b\b\b\b\b\b\b\b\b\b\b\b\b\b\b\b\b\b\b\b\b\b\b\b\b\b\b\b\b\b\b\b\b\b\b\b\r",
            "51/63 [=======================>......] - ETA: 0s - loss: 0.2416 - accuracy: 0.8977"
          ]
        },
        {
          "name": "stdout",
          "output_type": "stream",
          "text": [
            "\b\b\b\b\b\b\b\b\b\b\b\b\b\b\b\b\b\b\b\b\b\b\b\b\b\b\b\b\b\b\b\b\b\b\b\b\b\b\b\b\b\b\b\b\b\b\b\b\b\b\b\b\b\b\b\b\b\b\b\b\b\b\b\b\b\b\b\b\b\b\b\b\b\b\b\b\b\b\b\b\b\b\r",
            "53/63 [========================>.....] - ETA: 0s - loss: 0.2406 - accuracy: 0.8974"
          ]
        },
        {
          "name": "stdout",
          "output_type": "stream",
          "text": [
            "\b\b\b\b\b\b\b\b\b\b\b\b\b\b\b\b\b\b\b\b\b\b\b\b\b\b\b\b\b\b\b\b\b\b\b\b\b\b\b\b\b\b\b\b\b\b\b\b\b\b\b\b\b\b\b\b\b\b\b\b\b\b\b\b\b\b\b\b\b\b\b\b\b\b\b\b\b\b\b\b\b\b\r",
            "55/63 [=========================>....] - ETA: 0s - loss: 0.2399 - accuracy: 0.8972"
          ]
        },
        {
          "name": "stdout",
          "output_type": "stream",
          "text": [
            "\b\b\b\b\b\b\b\b\b\b\b\b\b\b\b\b\b\b\b\b\b\b\b\b\b\b\b\b\b\b\b\b\b\b\b\b\b\b\b\b\b\b\b\b\b\b\b\b\b\b\b\b\b\b\b\b\b\b\b\b\b\b\b\b\b\b\b\b\b\b\b\b\b\b\b\b\b\b\b\b\b\b\r",
            "57/63 [==========================>...] - ETA: 0s - loss: 0.2388 - accuracy: 0.8969"
          ]
        },
        {
          "name": "stdout",
          "output_type": "stream",
          "text": [
            "\b\b\b\b\b\b\b\b\b\b\b\b\b\b\b\b\b\b\b\b\b\b\b\b\b\b\b\b\b\b\b\b\b\b\b\b\b\b\b\b\b\b\b\b\b\b\b\b\b\b\b\b\b\b\b\b\b\b\b\b\b\b\b\b\b\b\b\b\b\b\b\b\b\b\b\b\b\b\b\b\b\b\r",
            "59/63 [===========================>..] - ETA: 0s - loss: 0.2374 - accuracy: 0.8978"
          ]
        },
        {
          "name": "stdout",
          "output_type": "stream",
          "text": [
            "\b\b\b\b\b\b\b\b\b\b\b\b\b\b\b\b\b\b\b\b\b\b\b\b\b\b\b\b\b\b\b\b\b\b\b\b\b\b\b\b\b\b\b\b\b\b\b\b\b\b\b\b\b\b\b\b\b\b\b\b\b\b\b\b\b\b\b\b\b\b\b\b\b\b\b\b\b\b\b\b\b\b\r",
            "61/63 [============================>.] - ETA: 0s - loss: 0.2374 - accuracy: 0.8970"
          ]
        },
        {
          "name": "stdout",
          "output_type": "stream",
          "text": [
            "\b\b\b\b\b\b\b\b\b\b\b\b\b\b\b\b\b\b\b\b\b\b\b\b\b\b\b\b\b\b\b\b\b\b\b\b\b\b\b\b\b\b\b\b\b\b\b\b\b\b\b\b\b\b\b\b\b\b\b\b\b\b\b\b\b\b\b\b\b\b\b\b\b\b\b\b\b\b\b\b\b\b\r",
            "63/63 [==============================] - 2s 35ms/step - loss: 0.2383 - accuracy: 0.8970 - val_loss: 0.1418 - val_accuracy: 0.9505\n"
          ]
        },
        {
          "name": "stdout",
          "output_type": "stream",
          "text": [
            "Epoch 9/10\n"
          ]
        },
        {
          "name": "stdout",
          "output_type": "stream",
          "text": [
            "\r",
            " 1/63 [..............................] - ETA: 3s - loss: 0.1383 - accuracy: 0.9688"
          ]
        },
        {
          "name": "stdout",
          "output_type": "stream",
          "text": [
            "\b\b\b\b\b\b\b\b\b\b\b\b\b\b\b\b\b\b\b\b\b\b\b\b\b\b\b\b\b\b\b\b\b\b\b\b\b\b\b\b\b\b\b\b\b\b\b\b\b\b\b\b\b\b\b\b\b\b\b\b\b\b\b\b\b\b\b\b\b\b\b\b\b\b\b\b\b\b\b\b\b\b\r",
            " 3/63 [>.............................] - ETA: 1s - loss: 0.2065 - accuracy: 0.9271"
          ]
        },
        {
          "name": "stdout",
          "output_type": "stream",
          "text": [
            "\b\b\b\b\b\b\b\b\b\b\b\b\b\b\b\b\b\b\b\b\b\b\b\b\b\b\b\b\b\b\b\b\b\b\b\b\b\b\b\b\b\b\b\b\b\b\b\b\b\b\b\b\b\b\b\b\b\b\b\b\b\b\b\b\b\b\b\b\b\b\b\b\b\b\b\b\b\b\b\b\b\b\r",
            " 5/63 [=>............................] - ETA: 1s - loss: 0.2139 - accuracy: 0.9250"
          ]
        },
        {
          "name": "stdout",
          "output_type": "stream",
          "text": [
            "\b\b\b\b\b\b\b\b\b\b\b\b\b\b\b\b\b\b\b\b\b\b\b\b\b\b\b\b\b\b\b\b\b\b\b\b\b\b\b\b\b\b\b\b\b\b\b\b\b\b\b\b\b\b\b\b\b\b\b\b\b\b\b\b\b\b\b\b\b\b\b\b\b\b\b\b\b\b\b\b\b\b\r",
            " 7/63 [==>...........................] - ETA: 1s - loss: 0.2246 - accuracy: 0.9152"
          ]
        },
        {
          "name": "stdout",
          "output_type": "stream",
          "text": [
            "\b\b\b\b\b\b\b\b\b\b\b\b\b\b\b\b\b\b\b\b\b\b\b\b\b\b\b\b\b\b\b\b\b\b\b\b\b\b\b\b\b\b\b\b\b\b\b\b\b\b\b\b\b\b\b\b\b\b\b\b\b\b\b\b\b\b\b\b\b\b\b\b\b\b\b\b\b\b\b\b\b\b\r",
            " 9/63 [===>..........................] - ETA: 1s - loss: 0.2538 - accuracy: 0.8889"
          ]
        },
        {
          "name": "stdout",
          "output_type": "stream",
          "text": [
            "\b\b\b\b\b\b\b\b\b\b\b\b\b\b\b\b\b\b\b\b\b\b\b\b\b\b\b\b\b\b\b\b\b\b\b\b\b\b\b\b\b\b\b\b\b\b\b\b\b\b\b\b\b\b\b\b\b\b\b\b\b\b\b\b\b\b\b\b\b\b\b\b\b\b\b\b\b\b\b\b\b\b\r",
            "11/63 [====>.........................] - ETA: 1s - loss: 0.2434 - accuracy: 0.8977"
          ]
        },
        {
          "name": "stdout",
          "output_type": "stream",
          "text": [
            "\b\b\b\b\b\b\b\b\b\b\b\b\b\b\b\b\b\b\b\b\b\b\b\b\b\b\b\b\b\b\b\b\b\b\b\b\b\b\b\b\b\b\b\b\b\b\b\b\b\b\b\b\b\b\b\b\b\b\b\b\b\b\b\b\b\b\b\b\b\b\b\b\b\b\b\b\b\b\b\b\b\b\r",
            "13/63 [=====>........................] - ETA: 1s - loss: 0.2494 - accuracy: 0.8990"
          ]
        },
        {
          "name": "stdout",
          "output_type": "stream",
          "text": [
            "\b\b\b\b\b\b\b\b\b\b\b\b\b\b\b\b\b\b\b\b\b\b\b\b\b\b\b\b\b\b\b\b\b\b\b\b\b\b\b\b\b\b\b\b\b\b\b\b\b\b\b\b\b\b\b\b\b\b\b\b\b\b\b\b\b\b\b\b\b\b\b\b\b\b\b\b\b\b\b\b\b\b\r",
            "15/63 [======>.......................] - ETA: 1s - loss: 0.2453 - accuracy: 0.9000"
          ]
        },
        {
          "name": "stdout",
          "output_type": "stream",
          "text": [
            "\b\b\b\b\b\b\b\b\b\b\b\b\b\b\b\b\b\b\b\b\b\b\b\b\b\b\b\b\b\b\b\b\b\b\b\b\b\b\b\b\b\b\b\b\b\b\b\b\b\b\b\b\b\b\b\b\b\b\b\b\b\b\b\b\b\b\b\b\b\b\b\b\b\b\b\b\b\b\b\b\b\b\r",
            "17/63 [=======>......................] - ETA: 1s - loss: 0.2404 - accuracy: 0.8989"
          ]
        },
        {
          "name": "stdout",
          "output_type": "stream",
          "text": [
            "\b\b\b\b\b\b\b\b\b\b\b\b\b\b\b\b\b\b\b\b\b\b\b\b\b\b\b\b\b\b\b\b\b\b\b\b\b\b\b\b\b\b\b\b\b\b\b\b\b\b\b\b\b\b\b\b\b\b\b\b\b\b\b\b\b\b\b\b\b\b\b\b\b\b\b\b\b\b\b\b\b\b\r",
            "19/63 [========>.....................] - ETA: 1s - loss: 0.2335 - accuracy: 0.9046"
          ]
        },
        {
          "name": "stdout",
          "output_type": "stream",
          "text": [
            "\b\b\b\b\b\b\b\b\b\b\b\b\b\b\b\b\b\b\b\b\b\b\b\b\b\b\b\b\b\b\b\b\b\b\b\b\b\b\b\b\b\b\b\b\b\b\b\b\b\b\b\b\b\b\b\b\b\b\b\b\b\b\b\b\b\b\b\b\b\b\b\b\b\b\b\b\b\b\b\b\b\b\r",
            "21/63 [=========>....................] - ETA: 1s - loss: 0.2325 - accuracy: 0.9033"
          ]
        },
        {
          "name": "stdout",
          "output_type": "stream",
          "text": [
            "\b\b\b\b\b\b\b\b\b\b\b\b\b\b\b\b\b\b\b\b\b\b\b\b\b\b\b\b\b\b\b\b\b\b\b\b\b\b\b\b\b\b\b\b\b\b\b\b\b\b\b\b\b\b\b\b\b\b\b\b\b\b\b\b\b\b\b\b\b\b\b\b\b\b\b\b\b\b\b\b\b\b\r",
            "23/63 [=========>....................] - ETA: 1s - loss: 0.2321 - accuracy: 0.9035"
          ]
        },
        {
          "name": "stdout",
          "output_type": "stream",
          "text": [
            "\b\b\b\b\b\b\b\b\b\b\b\b\b\b\b\b\b\b\b\b\b\b\b\b\b\b\b\b\b\b\b\b\b\b\b\b\b\b\b\b\b\b\b\b\b\b\b\b\b\b\b\b\b\b\b\b\b\b\b\b\b\b\b\b\b\b\b\b\b\b\b\b\b\b\b\b\b\b\b\b\b\b\r",
            "25/63 [==========>...................] - ETA: 1s - loss: 0.2354 - accuracy: 0.9000"
          ]
        },
        {
          "name": "stdout",
          "output_type": "stream",
          "text": [
            "\b\b\b\b\b\b\b\b\b\b\b\b\b\b\b\b\b\b\b\b\b\b\b\b\b\b\b\b\b\b\b\b\b\b\b\b\b\b\b\b\b\b\b\b\b\b\b\b\b\b\b\b\b\b\b\b\b\b\b\b\b\b\b\b\b\b\b\b\b\b\b\b\b\b\b\b\b\b\b\b\b\b\r",
            "27/63 [===========>..................] - ETA: 1s - loss: 0.2293 - accuracy: 0.9062"
          ]
        },
        {
          "name": "stdout",
          "output_type": "stream",
          "text": [
            "\b\b\b\b\b\b\b\b\b\b\b\b\b\b\b\b\b\b\b\b\b\b\b\b\b\b\b\b\b\b\b\b\b\b\b\b\b\b\b\b\b\b\b\b\b\b\b\b\b\b\b\b\b\b\b\b\b\b\b\b\b\b\b\b\b\b\b\b\b\b\b\b\b\b\b\b\b\b\b\b\b\b\r",
            "29/63 [============>.................] - ETA: 0s - loss: 0.2273 - accuracy: 0.9073"
          ]
        },
        {
          "name": "stdout",
          "output_type": "stream",
          "text": [
            "\b\b\b\b\b\b\b\b\b\b\b\b\b\b\b\b\b\b\b\b\b\b\b\b\b\b\b\b\b\b\b\b\b\b\b\b\b\b\b\b\b\b\b\b\b\b\b\b\b\b\b\b\b\b\b\b\b\b\b\b\b\b\b\b\b\b\b\b\b\b\b\b\b\b\b\b\b\b\b\b\b\b\r",
            "31/63 [=============>................] - ETA: 0s - loss: 0.2323 - accuracy: 0.9032"
          ]
        },
        {
          "name": "stdout",
          "output_type": "stream",
          "text": [
            "\b\b\b\b\b\b\b\b\b\b\b\b\b\b\b\b\b\b\b\b\b\b\b\b\b\b\b\b\b\b\b\b\b\b\b\b\b\b\b\b\b\b\b\b\b\b\b\b\b\b\b\b\b\b\b\b\b\b\b\b\b\b\b\b\b\b\b\b\b\b\b\b\b\b\b\b\b\b\b\b\b\b\r",
            "33/63 [==============>...............] - ETA: 0s - loss: 0.2350 - accuracy: 0.9034"
          ]
        },
        {
          "name": "stdout",
          "output_type": "stream",
          "text": [
            "\b\b\b\b\b\b\b\b\b\b\b\b\b\b\b\b\b\b\b\b\b\b\b\b\b\b\b\b\b\b\b\b\b\b\b\b\b\b\b\b\b\b\b\b\b\b\b\b\b\b\b\b\b\b\b\b\b\b\b\b\b\b\b\b\b\b\b\b\b\b\b\b\b\b\b\b\b\b\b\b\b\b\r",
            "35/63 [===============>..............] - ETA: 0s - loss: 0.2386 - accuracy: 0.9000"
          ]
        },
        {
          "name": "stdout",
          "output_type": "stream",
          "text": [
            "\b\b\b\b\b\b\b\b\b\b\b\b\b\b\b\b\b\b\b\b\b\b\b\b\b\b\b\b\b\b\b\b\b\b\b\b\b\b\b\b\b\b\b\b\b\b\b\b\b\b\b\b\b\b\b\b\b\b\b\b\b\b\b\b\b\b\b\b\b\b\b\b\b\b\b\b\b\b\b\b\b\b\r",
            "37/63 [================>.............] - ETA: 0s - loss: 0.2406 - accuracy: 0.8978"
          ]
        },
        {
          "name": "stdout",
          "output_type": "stream",
          "text": [
            "\b\b\b\b\b\b\b\b\b\b\b\b\b\b\b\b\b\b\b\b\b\b\b\b\b\b\b\b\b\b\b\b\b\b\b\b\b\b\b\b\b\b\b\b\b\b\b\b\b\b\b\b\b\b\b\b\b\b\b\b\b\b\b\b\b\b\b\b\b\b\b\b\b\b\b\b\b\b\b\b\b\b\r",
            "39/63 [=================>............] - ETA: 0s - loss: 0.2381 - accuracy: 0.8990"
          ]
        },
        {
          "name": "stdout",
          "output_type": "stream",
          "text": [
            "\b\b\b\b\b\b\b\b\b\b\b\b\b\b\b\b\b\b\b\b\b\b\b\b\b\b\b\b\b\b\b\b\b\b\b\b\b\b\b\b\b\b\b\b\b\b\b\b\b\b\b\b\b\b\b\b\b\b\b\b\b\b\b\b\b\b\b\b\b\b\b\b\b\b\b\b\b\b\b\b\b\b\r",
            "41/63 [==================>...........] - ETA: 0s - loss: 0.2369 - accuracy: 0.9009"
          ]
        },
        {
          "name": "stdout",
          "output_type": "stream",
          "text": [
            "\b\b\b\b\b\b\b\b\b\b\b\b\b\b\b\b\b\b\b\b\b\b\b\b\b\b\b\b\b\b\b\b\b\b\b\b\b\b\b\b\b\b\b\b\b\b\b\b\b\b\b\b\b\b\b\b\b\b\b\b\b\b\b\b\b\b\b\b\b\b\b\b\b\b\b\b\b\b\b\b\b\b\r",
            "43/63 [===================>..........] - ETA: 0s - loss: 0.2384 - accuracy: 0.9019"
          ]
        },
        {
          "name": "stdout",
          "output_type": "stream",
          "text": [
            "\b\b\b\b\b\b\b\b\b\b\b\b\b\b\b\b\b\b\b\b\b\b\b\b\b\b\b\b\b\b\b\b\b\b\b\b\b\b\b\b\b\b\b\b\b\b\b\b\b\b\b\b\b\b\b\b\b\b\b\b\b\b\b\b\b\b\b\b\b\b\b\b\b\b\b\b\b\b\b\b\b\b\r",
            "45/63 [====================>.........] - ETA: 0s - loss: 0.2432 - accuracy: 0.8972"
          ]
        },
        {
          "name": "stdout",
          "output_type": "stream",
          "text": [
            "\b\b\b\b\b\b\b\b\b\b\b\b\b\b\b\b\b\b\b\b\b\b\b\b\b\b\b\b\b\b\b\b\b\b\b\b\b\b\b\b\b\b\b\b\b\b\b\b\b\b\b\b\b\b\b\b\b\b\b\b\b\b\b\b\b\b\b\b\b\b\b\b\b\b\b\b\b\b\b\b\b\b\r",
            "47/63 [=====================>........] - ETA: 0s - loss: 0.2453 - accuracy: 0.8936"
          ]
        },
        {
          "name": "stdout",
          "output_type": "stream",
          "text": [
            "\b\b\b\b\b\b\b\b\b\b\b\b\b\b\b\b\b\b\b\b\b\b\b\b\b\b\b\b\b\b\b\b\b\b\b\b\b\b\b\b\b\b\b\b\b\b\b\b\b\b\b\b\b\b\b\b\b\b\b\b\b\b\b\b\b\b\b\b\b\b\b\b\b\b\b\b\b\b\b\b\b\b\r",
            "49/63 [======================>.......] - ETA: 0s - loss: 0.2439 - accuracy: 0.8948"
          ]
        },
        {
          "name": "stdout",
          "output_type": "stream",
          "text": [
            "\b\b\b\b\b\b\b\b\b\b\b\b\b\b\b\b\b\b\b\b\b\b\b\b\b\b\b\b\b\b\b\b\b\b\b\b\b\b\b\b\b\b\b\b\b\b\b\b\b\b\b\b\b\b\b\b\b\b\b\b\b\b\b\b\b\b\b\b\b\b\b\b\b\b\b\b\b\b\b\b\b\b\r",
            "51/63 [=======================>......] - ETA: 0s - loss: 0.2412 - accuracy: 0.8964"
          ]
        },
        {
          "name": "stdout",
          "output_type": "stream",
          "text": [
            "\b\b\b\b\b\b\b\b\b\b\b\b\b\b\b\b\b\b\b\b\b\b\b\b\b\b\b\b\b\b\b\b\b\b\b\b\b\b\b\b\b\b\b\b\b\b\b\b\b\b\b\b\b\b\b\b\b\b\b\b\b\b\b\b\b\b\b\b\b\b\b\b\b\b\b\b\b\b\b\b\b\b\r",
            "53/63 [========================>.....] - ETA: 0s - loss: 0.2420 - accuracy: 0.8956"
          ]
        },
        {
          "name": "stdout",
          "output_type": "stream",
          "text": [
            "\b\b\b\b\b\b\b\b\b\b\b\b\b\b\b\b\b\b\b\b\b\b\b\b\b\b\b\b\b\b\b\b\b\b\b\b\b\b\b\b\b\b\b\b\b\b\b\b\b\b\b\b\b\b\b\b\b\b\b\b\b\b\b\b\b\b\b\b\b\b\b\b\b\b\b\b\b\b\b\b\b\b\r",
            "55/63 [=========================>....] - ETA: 0s - loss: 0.2390 - accuracy: 0.8977"
          ]
        },
        {
          "name": "stdout",
          "output_type": "stream",
          "text": [
            "\b\b\b\b\b\b\b\b\b\b\b\b\b\b\b\b\b\b\b\b\b\b\b\b\b\b\b\b\b\b\b\b\b\b\b\b\b\b\b\b\b\b\b\b\b\b\b\b\b\b\b\b\b\b\b\b\b\b\b\b\b\b\b\b\b\b\b\b\b\b\b\b\b\b\b\b\b\b\b\b\b\b\r",
            "57/63 [==========================>...] - ETA: 0s - loss: 0.2389 - accuracy: 0.8964"
          ]
        },
        {
          "name": "stdout",
          "output_type": "stream",
          "text": [
            "\b\b\b\b\b\b\b\b\b\b\b\b\b\b\b\b\b\b\b\b\b\b\b\b\b\b\b\b\b\b\b\b\b\b\b\b\b\b\b\b\b\b\b\b\b\b\b\b\b\b\b\b\b\b\b\b\b\b\b\b\b\b\b\b\b\b\b\b\b\b\b\b\b\b\b\b\b\b\b\b\b\b\r",
            "59/63 [===========================>..] - ETA: 0s - loss: 0.2371 - accuracy: 0.8962"
          ]
        },
        {
          "name": "stdout",
          "output_type": "stream",
          "text": [
            "\b\b\b\b\b\b\b\b\b\b\b\b\b\b\b\b\b\b\b\b\b\b\b\b\b\b\b\b\b\b\b\b\b\b\b\b\b\b\b\b\b\b\b\b\b\b\b\b\b\b\b\b\b\b\b\b\b\b\b\b\b\b\b\b\b\b\b\b\b\b\b\b\b\b\b\b\b\b\b\b\b\b\r",
            "61/63 [============================>.] - ETA: 0s - loss: 0.2346 - accuracy: 0.8970"
          ]
        },
        {
          "name": "stdout",
          "output_type": "stream",
          "text": [
            "\b\b\b\b\b\b\b\b\b\b\b\b\b\b\b\b\b\b\b\b\b\b\b\b\b\b\b\b\b\b\b\b\b\b\b\b\b\b\b\b\b\b\b\b\b\b\b\b\b\b\b\b\b\b\b\b\b\b\b\b\b\b\b\b\b\b\b\b\b\b\b\b\b\b\b\b\b\b\b\b\b\b\r",
            "63/63 [==============================] - 2s 36ms/step - loss: 0.2344 - accuracy: 0.8975 - val_loss: 0.1318 - val_accuracy: 0.9567\n"
          ]
        },
        {
          "name": "stdout",
          "output_type": "stream",
          "text": [
            "Epoch 10/10\n"
          ]
        },
        {
          "name": "stdout",
          "output_type": "stream",
          "text": [
            "\r",
            " 1/63 [..............................] - ETA: 3s - loss: 0.1148 - accuracy: 0.9375"
          ]
        },
        {
          "name": "stdout",
          "output_type": "stream",
          "text": [
            "\b\b\b\b\b\b\b\b\b\b\b\b\b\b\b\b\b\b\b\b\b\b\b\b\b\b\b\b\b\b\b\b\b\b\b\b\b\b\b\b\b\b\b\b\b\b\b\b\b\b\b\b\b\b\b\b\b\b\b\b\b\b\b\b\b\b\b\b\b\b\b\b\b\b\b\b\b\b\b\b\b\b\r",
            " 3/63 [>.............................] - ETA: 1s - loss: 0.1945 - accuracy: 0.8958"
          ]
        },
        {
          "name": "stdout",
          "output_type": "stream",
          "text": [
            "\b\b\b\b\b\b\b\b\b\b\b\b\b\b\b\b\b\b\b\b\b\b\b\b\b\b\b\b\b\b\b\b\b\b\b\b\b\b\b\b\b\b\b\b\b\b\b\b\b\b\b\b\b\b\b\b\b\b\b\b\b\b\b\b\b\b\b\b\b\b\b\b\b\b\b\b\b\b\b\b\b\b\r",
            " 5/63 [=>............................] - ETA: 1s - loss: 0.2240 - accuracy: 0.8938"
          ]
        },
        {
          "name": "stdout",
          "output_type": "stream",
          "text": [
            "\b\b\b\b\b\b\b\b\b\b\b\b\b\b\b\b\b\b\b\b\b\b\b\b\b\b\b\b\b\b\b\b\b\b\b\b\b\b\b\b\b\b\b\b\b\b\b\b\b\b\b\b\b\b\b\b\b\b\b\b\b\b\b\b\b\b\b\b\b\b\b\b\b\b\b\b\b\b\b\b\b\b\r",
            " 7/63 [==>...........................] - ETA: 1s - loss: 0.2253 - accuracy: 0.8884"
          ]
        },
        {
          "name": "stdout",
          "output_type": "stream",
          "text": [
            "\b\b\b\b\b\b\b\b\b\b\b\b\b\b\b\b\b\b\b\b\b\b\b\b\b\b\b\b\b\b\b\b\b\b\b\b\b\b\b\b\b\b\b\b\b\b\b\b\b\b\b\b\b\b\b\b\b\b\b\b\b\b\b\b\b\b\b\b\b\b\b\b\b\b\b\b\b\b\b\b\b\b\r",
            " 9/63 [===>..........................] - ETA: 1s - loss: 0.2258 - accuracy: 0.8924"
          ]
        },
        {
          "name": "stdout",
          "output_type": "stream",
          "text": [
            "\b\b\b\b\b\b\b\b\b\b\b\b\b\b\b\b\b\b\b\b\b\b\b\b\b\b\b\b\b\b\b\b\b\b\b\b\b\b\b\b\b\b\b\b\b\b\b\b\b\b\b\b\b\b\b\b\b\b\b\b\b\b\b\b\b\b\b\b\b\b\b\b\b\b\b\b\b\b\b\b\b\b\r",
            "11/63 [====>.........................] - ETA: 1s - loss: 0.2167 - accuracy: 0.8977"
          ]
        },
        {
          "name": "stdout",
          "output_type": "stream",
          "text": [
            "\b\b\b\b\b\b\b\b\b\b\b\b\b\b\b\b\b\b\b\b\b\b\b\b\b\b\b\b\b\b\b\b\b\b\b\b\b\b\b\b\b\b\b\b\b\b\b\b\b\b\b\b\b\b\b\b\b\b\b\b\b\b\b\b\b\b\b\b\b\b\b\b\b\b\b\b\b\b\b\b\b\b\r",
            "13/63 [=====>........................] - ETA: 1s - loss: 0.2159 - accuracy: 0.8990"
          ]
        },
        {
          "name": "stdout",
          "output_type": "stream",
          "text": [
            "\b\b\b\b\b\b\b\b\b\b\b\b\b\b\b\b\b\b\b\b\b\b\b\b\b\b\b\b\b\b\b\b\b\b\b\b\b\b\b\b\b\b\b\b\b\b\b\b\b\b\b\b\b\b\b\b\b\b\b\b\b\b\b\b\b\b\b\b\b\b\b\b\b\b\b\b\b\b\b\b\b\b\r",
            "15/63 [======>.......................] - ETA: 1s - loss: 0.2210 - accuracy: 0.8958"
          ]
        },
        {
          "name": "stdout",
          "output_type": "stream",
          "text": [
            "\b\b\b\b\b\b\b\b\b\b\b\b\b\b\b\b\b\b\b\b\b\b\b\b\b\b\b\b\b\b\b\b\b\b\b\b\b\b\b\b\b\b\b\b\b\b\b\b\b\b\b\b\b\b\b\b\b\b\b\b\b\b\b\b\b\b\b\b\b\b\b\b\b\b\b\b\b\b\b\b\b\b\r",
            "17/63 [=======>......................] - ETA: 1s - loss: 0.2209 - accuracy: 0.9026"
          ]
        },
        {
          "name": "stdout",
          "output_type": "stream",
          "text": [
            "\b\b\b\b\b\b\b\b\b\b\b\b\b\b\b\b\b\b\b\b\b\b\b\b\b\b\b\b\b\b\b\b\b\b\b\b\b\b\b\b\b\b\b\b\b\b\b\b\b\b\b\b\b\b\b\b\b\b\b\b\b\b\b\b\b\b\b\b\b\b\b\b\b\b\b\b\b\b\b\b\b\b\r",
            "19/63 [========>.....................] - ETA: 1s - loss: 0.2186 - accuracy: 0.9013"
          ]
        },
        {
          "name": "stdout",
          "output_type": "stream",
          "text": [
            "\b\b\b\b\b\b\b\b\b\b\b\b\b\b\b\b\b\b\b\b\b\b\b\b\b\b\b\b\b\b\b\b\b\b\b\b\b\b\b\b\b\b\b\b\b\b\b\b\b\b\b\b\b\b\b\b\b\b\b\b\b\b\b\b\b\b\b\b\b\b\b\b\b\b\b\b\b\b\b\b\b\b\r",
            "21/63 [=========>....................] - ETA: 1s - loss: 0.2238 - accuracy: 0.8988"
          ]
        },
        {
          "name": "stdout",
          "output_type": "stream",
          "text": [
            "\b\b\b\b\b\b\b\b\b\b\b\b\b\b\b\b\b\b\b\b\b\b\b\b\b\b\b\b\b\b\b\b\b\b\b\b\b\b\b\b\b\b\b\b\b\b\b\b\b\b\b\b\b\b\b\b\b\b\b\b\b\b\b\b\b\b\b\b\b\b\b\b\b\b\b\b\b\b\b\b\b\b\r",
            "23/63 [=========>....................] - ETA: 1s - loss: 0.2161 - accuracy: 0.9049"
          ]
        },
        {
          "name": "stdout",
          "output_type": "stream",
          "text": [
            "\b\b\b\b\b\b\b\b\b\b\b\b\b\b\b\b\b\b\b\b\b\b\b\b\b\b\b\b\b\b\b\b\b\b\b\b\b\b\b\b\b\b\b\b\b\b\b\b\b\b\b\b\b\b\b\b\b\b\b\b\b\b\b\b\b\b\b\b\b\b\b\b\b\b\b\b\b\b\b\b\b\b\r",
            "25/63 [==========>...................] - ETA: 1s - loss: 0.2209 - accuracy: 0.9013"
          ]
        },
        {
          "name": "stdout",
          "output_type": "stream",
          "text": [
            "\b\b\b\b\b\b\b\b\b\b\b\b\b\b\b\b\b\b\b\b\b\b\b\b\b\b\b\b\b\b\b\b\b\b\b\b\b\b\b\b\b\b\b\b\b\b\b\b\b\b\b\b\b\b\b\b\b\b\b\b\b\b\b\b\b\b\b\b\b\b\b\b\b\b\b\b\b\b\b\b\b\b\r",
            "27/63 [===========>..................] - ETA: 1s - loss: 0.2156 - accuracy: 0.9039"
          ]
        },
        {
          "name": "stdout",
          "output_type": "stream",
          "text": [
            "\b\b\b\b\b\b\b\b\b\b\b\b\b\b\b\b\b\b\b\b\b\b\b\b\b\b\b\b\b\b\b\b\b\b\b\b\b\b\b\b\b\b\b\b\b\b\b\b\b\b\b\b\b\b\b\b\b\b\b\b\b\b\b\b\b\b\b\b\b\b\b\b\b\b\b\b\b\b\b\b\b\b\r",
            "29/63 [============>.................] - ETA: 0s - loss: 0.2192 - accuracy: 0.9009"
          ]
        },
        {
          "name": "stdout",
          "output_type": "stream",
          "text": [
            "\b\b\b\b\b\b\b\b\b\b\b\b\b\b\b\b\b\b\b\b\b\b\b\b\b\b\b\b\b\b\b\b\b\b\b\b\b\b\b\b\b\b\b\b\b\b\b\b\b\b\b\b\b\b\b\b\b\b\b\b\b\b\b\b\b\b\b\b\b\b\b\b\b\b\b\b\b\b\b\b\b\b\r",
            "31/63 [=============>................] - ETA: 0s - loss: 0.2208 - accuracy: 0.9022"
          ]
        },
        {
          "name": "stdout",
          "output_type": "stream",
          "text": [
            "\b\b\b\b\b\b\b\b\b\b\b\b\b\b\b\b\b\b\b\b\b\b\b\b\b\b\b\b\b\b\b\b\b\b\b\b\b\b\b\b\b\b\b\b\b\b\b\b\b\b\b\b\b\b\b\b\b\b\b\b\b\b\b\b\b\b\b\b\b\b\b\b\b\b\b\b\b\b\b\b\b\b\r",
            "33/63 [==============>...............] - ETA: 0s - loss: 0.2193 - accuracy: 0.9034"
          ]
        },
        {
          "name": "stdout",
          "output_type": "stream",
          "text": [
            "\b\b\b\b\b\b\b\b\b\b\b\b\b\b\b\b\b\b\b\b\b\b\b\b\b\b\b\b\b\b\b\b\b\b\b\b\b\b\b\b\b\b\b\b\b\b\b\b\b\b\b\b\b\b\b\b\b\b\b\b\b\b\b\b\b\b\b\b\b\b\b\b\b\b\b\b\b\b\b\b\b\b\r",
            "35/63 [===============>..............] - ETA: 0s - loss: 0.2167 - accuracy: 0.9036"
          ]
        },
        {
          "name": "stdout",
          "output_type": "stream",
          "text": [
            "\b\b\b\b\b\b\b\b\b\b\b\b\b\b\b\b\b\b\b\b\b\b\b\b\b\b\b\b\b\b\b\b\b\b\b\b\b\b\b\b\b\b\b\b\b\b\b\b\b\b\b\b\b\b\b\b\b\b\b\b\b\b\b\b\b\b\b\b\b\b\b\b\b\b\b\b\b\b\b\b\b\b\r",
            "37/63 [================>.............] - ETA: 0s - loss: 0.2171 - accuracy: 0.9029"
          ]
        },
        {
          "name": "stdout",
          "output_type": "stream",
          "text": [
            "\b\b\b\b\b\b\b\b\b\b\b\b\b\b\b\b\b\b\b\b\b\b\b\b\b\b\b\b\b\b\b\b\b\b\b\b\b\b\b\b\b\b\b\b\b\b\b\b\b\b\b\b\b\b\b\b\b\b\b\b\b\b\b\b\b\b\b\b\b\b\b\b\b\b\b\b\b\b\b\b\b\b\r",
            "39/63 [=================>............] - ETA: 0s - loss: 0.2176 - accuracy: 0.9038"
          ]
        },
        {
          "name": "stdout",
          "output_type": "stream",
          "text": [
            "\b\b\b\b\b\b\b\b\b\b\b\b\b\b\b\b\b\b\b\b\b\b\b\b\b\b\b\b\b\b\b\b\b\b\b\b\b\b\b\b\b\b\b\b\b\b\b\b\b\b\b\b\b\b\b\b\b\b\b\b\b\b\b\b\b\b\b\b\b\b\b\b\b\b\b\b\b\b\b\b\b\b\r",
            "41/63 [==================>...........] - ETA: 0s - loss: 0.2209 - accuracy: 0.9017"
          ]
        },
        {
          "name": "stdout",
          "output_type": "stream",
          "text": [
            "\b\b\b\b\b\b\b\b\b\b\b\b\b\b\b\b\b\b\b\b\b\b\b\b\b\b\b\b\b\b\b\b\b\b\b\b\b\b\b\b\b\b\b\b\b\b\b\b\b\b\b\b\b\b\b\b\b\b\b\b\b\b\b\b\b\b\b\b\b\b\b\b\b\b\b\b\b\b\b\b\b\b\r",
            "43/63 [===================>..........] - ETA: 0s - loss: 0.2229 - accuracy: 0.9012"
          ]
        },
        {
          "name": "stdout",
          "output_type": "stream",
          "text": [
            "\b\b\b\b\b\b\b\b\b\b\b\b\b\b\b\b\b\b\b\b\b\b\b\b\b\b\b\b\b\b\b\b\b\b\b\b\b\b\b\b\b\b\b\b\b\b\b\b\b\b\b\b\b\b\b\b\b\b\b\b\b\b\b\b\b\b\b\b\b\b\b\b\b\b\b\b\b\b\b\b\b\b\r",
            "45/63 [====================>.........] - ETA: 0s - loss: 0.2195 - accuracy: 0.9035"
          ]
        },
        {
          "name": "stdout",
          "output_type": "stream",
          "text": [
            "\b\b\b\b\b\b\b\b\b\b\b\b\b\b\b\b\b\b\b\b\b\b\b\b\b\b\b\b\b\b\b\b\b\b\b\b\b\b\b\b\b\b\b\b\b\b\b\b\b\b\b\b\b\b\b\b\b\b\b\b\b\b\b\b\b\b\b\b\b\b\b\b\b\b\b\b\b\b\b\b\b\b\r",
            "47/63 [=====================>........] - ETA: 0s - loss: 0.2175 - accuracy: 0.9049"
          ]
        },
        {
          "name": "stdout",
          "output_type": "stream",
          "text": [
            "\b\b\b\b\b\b\b\b\b\b\b\b\b\b\b\b\b\b\b\b\b\b\b\b\b\b\b\b\b\b\b\b\b\b\b\b\b\b\b\b\b\b\b\b\b\b\b\b\b\b\b\b\b\b\b\b\b\b\b\b\b\b\b\b\b\b\b\b\b\b\b\b\b\b\b\b\b\b\b\b\b\b\r",
            "49/63 [======================>.......] - ETA: 0s - loss: 0.2176 - accuracy: 0.9037"
          ]
        },
        {
          "name": "stdout",
          "output_type": "stream",
          "text": [
            "\b\b\b\b\b\b\b\b\b\b\b\b\b\b\b\b\b\b\b\b\b\b\b\b\b\b\b\b\b\b\b\b\b\b\b\b\b\b\b\b\b\b\b\b\b\b\b\b\b\b\b\b\b\b\b\b\b\b\b\b\b\b\b\b\b\b\b\b\b\b\b\b\b\b\b\b\b\b\b\b\b\b\r",
            "51/63 [=======================>......] - ETA: 0s - loss: 0.2189 - accuracy: 0.9013"
          ]
        },
        {
          "name": "stdout",
          "output_type": "stream",
          "text": [
            "\b\b\b\b\b\b\b\b\b\b\b\b\b\b\b\b\b\b\b\b\b\b\b\b\b\b\b\b\b\b\b\b\b\b\b\b\b\b\b\b\b\b\b\b\b\b\b\b\b\b\b\b\b\b\b\b\b\b\b\b\b\b\b\b\b\b\b\b\b\b\b\b\b\b\b\b\b\b\b\b\b\b\r",
            "53/63 [========================>.....] - ETA: 0s - loss: 0.2196 - accuracy: 0.9009"
          ]
        },
        {
          "name": "stdout",
          "output_type": "stream",
          "text": [
            "\b\b\b\b\b\b\b\b\b\b\b\b\b\b\b\b\b\b\b\b\b\b\b\b\b\b\b\b\b\b\b\b\b\b\b\b\b\b\b\b\b\b\b\b\b\b\b\b\b\b\b\b\b\b\b\b\b\b\b\b\b\b\b\b\b\b\b\b\b\b\b\b\b\b\b\b\b\b\b\b\b\b\r",
            "55/63 [=========================>....] - ETA: 0s - loss: 0.2198 - accuracy: 0.8994"
          ]
        },
        {
          "name": "stdout",
          "output_type": "stream",
          "text": [
            "\b\b\b\b\b\b\b\b\b\b\b\b\b\b\b\b\b\b\b\b\b\b\b\b\b\b\b\b\b\b\b\b\b\b\b\b\b\b\b\b\b\b\b\b\b\b\b\b\b\b\b\b\b\b\b\b\b\b\b\b\b\b\b\b\b\b\b\b\b\b\b\b\b\b\b\b\b\b\b\b\b\b\r",
            "57/63 [==========================>...] - ETA: 0s - loss: 0.2178 - accuracy: 0.9008"
          ]
        },
        {
          "name": "stdout",
          "output_type": "stream",
          "text": [
            "\b\b\b\b\b\b\b\b\b\b\b\b\b\b\b\b\b\b\b\b\b\b\b\b\b\b\b\b\b\b\b\b\b\b\b\b\b\b\b\b\b\b\b\b\b\b\b\b\b\b\b\b\b\b\b\b\b\b\b\b\b\b\b\b\b\b\b\b\b\b\b\b\b\b\b\b\b\b\b\b\b\b\r",
            "59/63 [===========================>..] - ETA: 0s - loss: 0.2165 - accuracy: 0.9015"
          ]
        },
        {
          "name": "stdout",
          "output_type": "stream",
          "text": [
            "\b\b\b\b\b\b\b\b\b\b\b\b\b\b\b\b\b\b\b\b\b\b\b\b\b\b\b\b\b\b\b\b\b\b\b\b\b\b\b\b\b\b\b\b\b\b\b\b\b\b\b\b\b\b\b\b\b\b\b\b\b\b\b\b\b\b\b\b\b\b\b\b\b\b\b\b\b\b\b\b\b\b\r",
            "61/63 [============================>.] - ETA: 0s - loss: 0.2162 - accuracy: 0.9032"
          ]
        },
        {
          "name": "stdout",
          "output_type": "stream",
          "text": [
            "\b\b\b\b\b\b\b\b\b\b\b\b\b\b\b\b\b\b\b\b\b\b\b\b\b\b\b\b\b\b\b\b\b\b\b\b\b\b\b\b\b\b\b\b\b\b\b\b\b\b\b\b\b\b\b\b\b\b\b\b\b\b\b\b\b\b\b\b\b\b\b\b\b\b\b\b\b\b\b\b\b\b\r",
            "63/63 [==============================] - 2s 35ms/step - loss: 0.2157 - accuracy: 0.9045 - val_loss: 0.1247 - val_accuracy: 0.9530\n"
          ]
        }
      ],
      "source": [
        "\n",
        "history = model.fit(train_dataset,\n",
        "                    epochs=initial_epochs,\n",
        "                    validation_data=validation_dataset)"
      ]
    },
    {
      "cell_type": "markdown",
      "metadata": {
        "id": "Hd94CKImf8vi"
      },
      "source": [
        "### Learning curves\n",
        "\n"
      ]
    },
    {
      "cell_type": "code",
      "execution_count": null,
      "metadata": {
        "execution": {
          "iopub.execute_input": "2022-06-08T04:09:42.631894Z",
          "iopub.status.busy": "2022-06-08T04:09:42.631207Z",
          "iopub.status.idle": "2022-06-08T04:09:42.808927Z",
          "shell.execute_reply": "2022-06-08T04:09:42.808333Z"
        },
        "id": "53OTCh3jnbwV",
        "outputId": "9021ad74-33bd-40c4-d04c-1a0ca3c1a22a"
      },
      "outputs": [
        {
          "data": {
            "image/png": "[encoded data removed]",
            "text/plain": [
              "<Figure size 576x576 with 2 Axes>"
            ]
          },
          "metadata": {
            "needs_background": "light"
          },
          "output_type": "display_data"
        }
      ],
      "source": [
        "acc = history.history['accuracy']\n",
        "val_acc = history.history['val_accuracy']\n",
        "\n",
        "loss = history.history['loss']\n",
        "val_loss = history.history['val_loss']\n",
        "\n",
        "plt.figure(figsize=(8, 8))\n",
        "plt.subplot(2, 1, 1)\n",
        "plt.plot(acc, label='Training Accuracy')\n",
        "plt.plot(val_acc, label='Validation Accuracy')\n",
        "plt.legend(loc='lower right')\n",
        "plt.ylabel('Accuracy')\n",
        "plt.ylim([min(plt.ylim()),1])\n",
        "plt.title('Training and Validation Accuracy')\n",
        "\n",
        "plt.subplot(2, 1, 2)\n",
        "plt.plot(loss, label='Training Loss')\n",
        "plt.plot(val_loss, label='Validation Loss')\n",
        "plt.legend(loc='upper right')\n",
        "plt.ylabel('Cross Entropy')\n",
        "plt.ylim([0,1.0])\n",
        "plt.title('Training and Validation Loss')\n",
        "plt.xlabel('epoch')\n",
        "plt.show()"
      ]
    },
    {
      "cell_type": "markdown",
      "metadata": {
        "id": "CPXnzUK0QonF"
      },
      "source": [
        "### Un-freeze the top layers of the model\n"
      ]
    },
    {
      "cell_type": "code",
      "execution_count": null,
      "metadata": {
        "execution": {
          "iopub.execute_input": "2022-06-08T04:09:42.812162Z",
          "iopub.status.busy": "2022-06-08T04:09:42.811938Z",
          "iopub.status.idle": "2022-06-08T04:09:42.817783Z",
          "shell.execute_reply": "2022-06-08T04:09:42.817250Z"
        },
        "id": "4nzcagVitLQm"
      },
      "outputs": [],
      "source": [
        "base_model.trainable = True"
      ]
    },
    {
      "cell_type": "code",
      "execution_count": null,
      "metadata": {
        "execution": {
          "iopub.execute_input": "2022-06-08T04:09:42.822461Z",
          "iopub.status.busy": "2022-06-08T04:09:42.822027Z",
          "iopub.status.idle": "2022-06-08T04:09:42.827637Z",
          "shell.execute_reply": "2022-06-08T04:09:42.827099Z"
        },
        "id": "-4HgVAacRs5v",
        "outputId": "9e5e2f78-af8c-48fb-9a8e-bd8567bba61f"
      },
      "outputs": [
        {
          "name": "stdout",
          "output_type": "stream",
          "text": [
            "Number of layers in the base model:  154\n"
          ]
        }
      ],
      "source": [
        "#  layers  in the base model\n",
        "print(\"Number of layers in the base model: \", len(base_model.layers))\n",
        "\n",
        "# Fine-tune from this layer onwards\n",
        "fine_tune_at = 100\n",
        "\n",
        "# Freeze all the layers before the `fine_tune_at` layer\n",
        "for layer in base_model.layers[:fine_tune_at]:\n",
        "  layer.trainable = False"
      ]
    },
    {
      "cell_type": "markdown",
      "metadata": {
        "id": "4Uk1dgsxT0IS"
      },
      "source": [
        "### Compile the model\n",
        "\n"
      ]
    },
    {
      "cell_type": "code",
      "execution_count": null,
      "metadata": {
        "execution": {
          "iopub.execute_input": "2022-06-08T04:09:42.830913Z",
          "iopub.status.busy": "2022-06-08T04:09:42.830355Z",
          "iopub.status.idle": "2022-06-08T04:09:42.839615Z",
          "shell.execute_reply": "2022-06-08T04:09:42.839079Z"
        },
        "id": "NtUnaz0WUDva"
      },
      "outputs": [],
      "source": [
        "model.compile(loss=tf.keras.losses.BinaryCrossentropy(from_logits=True),\n",
        "              optimizer = tf.keras.optimizers.RMSprop(learning_rate=base_learning_rate/10),\n",
        "              metrics=['accuracy'])"
      ]
    },
    {
      "cell_type": "code",
      "execution_count": null,
      "metadata": {
        "execution": {
          "iopub.execute_input": "2022-06-08T04:09:42.842527Z",
          "iopub.status.busy": "2022-06-08T04:09:42.842019Z",
          "iopub.status.idle": "2022-06-08T04:09:42.862903Z",
          "shell.execute_reply": "2022-06-08T04:09:42.862369Z"
        },
        "id": "WwBWy7J2kZvA"
      },
      "outputs": [],
      "source": [
        "model.summary()"
      ]
    },
    {
      "cell_type": "code",
      "execution_count": null,
      "metadata": {
        "execution": {
          "iopub.execute_input": "2022-06-08T04:09:42.875086Z",
          "iopub.status.busy": "2022-06-08T04:09:42.874653Z",
          "iopub.status.idle": "2022-06-08T04:10:18.786505Z",
          "shell.execute_reply": "2022-06-08T04:10:18.785872Z"
        },
        "id": "ECQLkAsFTlun",
        "outputId": "cf86e142-102a-4da1-f942-1db2ddd94219"
      },
      "outputs": [
        {
          "name": "stdout",
          "output_type": "stream",
          "text": [
            "Epoch 10/20\n"
          ]
        },
        {
          "name": "stdout",
          "output_type": "stream",
          "text": [
            "\r",
            " 1/63 [..............................] - ETA: 4:34 - loss: 0.2387 - accuracy: 0.9062"
          ]
        },
        {
          "name": "stdout",
          "output_type": "stream",
          "text": [
            "\b\b\b\b\b\b\b\b\b\b\b\b\b\b\b\b\b\b\b\b\b\b\b\b\b\b\b\b\b\b\b\b\b\b\b\b\b\b\b\b\b\b\b\b\b\b\b\b\b\b\b\b\b\b\b\b\b\b\b\b\b\b\b\b\b\b\b\b\b\b\b\b\b\b\b\b\b\b\b\b\b\b\b\b\r",
            " 3/63 [>.............................] - ETA: 2s - loss: 0.2282 - accuracy: 0.9375  "
          ]
        },
        {
          "name": "stdout",
          "output_type": "stream",
          "text": [
            "\b\b\b\b\b\b\b\b\b\b\b\b\b\b\b\b\b\b\b\b\b\b\b\b\b\b\b\b\b\b\b\b\b\b\b\b\b\b\b\b\b\b\b\b\b\b\b\b\b\b\b\b\b\b\b\b\b\b\b\b\b\b\b\b\b\b\b\b\b\b\b\b\b\b\b\b\b\b\b\b\b\b\r",
            " 5/63 [=>............................] - ETA: 2s - loss: 0.1860 - accuracy: 0.9375"
          ]
        },
        {
          "name": "stdout",
          "output_type": "stream",
          "text": [
            "\b\b\b\b\b\b\b\b\b\b\b\b\b\b\b\b\b\b\b\b\b\b\b\b\b\b\b\b\b\b\b\b\b\b\b\b\b\b\b\b\b\b\b\b\b\b\b\b\b\b\b\b\b\b\b\b\b\b\b\b\b\b\b\b\b\b\b\b\b\b\b\b\b\b\b\b\b\b\b\b\b\b\r",
            " 7/63 [==>...........................] - ETA: 2s - loss: 0.1670 - accuracy: 0.9420"
          ]
        },
        {
          "name": "stdout",
          "output_type": "stream",
          "text": [
            "\b\b\b\b\b\b\b\b\b\b\b\b\b\b\b\b\b\b\b\b\b\b\b\b\b\b\b\b\b\b\b\b\b\b\b\b\b\b\b\b\b\b\b\b\b\b\b\b\b\b\b\b\b\b\b\b\b\b\b\b\b\b\b\b\b\b\b\b\b\b\b\b\b\b\b\b\b\b\b\b\b\b\r",
            " 9/63 [===>..........................] - ETA: 2s - loss: 0.1691 - accuracy: 0.9340"
          ]
        },
        {
          "name": "stdout",
          "output_type": "stream",
          "text": [
            "\b\b\b\b\b\b\b\b\b\b\b\b\b\b\b\b\b\b\b\b\b\b\b\b\b\b\b\b\b\b\b\b\b\b\b\b\b\b\b\b\b\b\b\b\b\b\b\b\b\b\b\b\b\b\b\b\b\b\b\b\b\b\b\b\b\b\b\b\b\b\b\b\b\b\b\b\b\b\b\b\b\b\r",
            "11/63 [====>.........................] - ETA: 1s - loss: 0.1585 - accuracy: 0.9432"
          ]
        },
        {
          "name": "stdout",
          "output_type": "stream",
          "text": [
            "\b\b\b\b\b\b\b\b\b\b\b\b\b\b\b\b\b\b\b\b\b\b\b\b\b\b\b\b\b\b\b\b\b\b\b\b\b\b\b\b\b\b\b\b\b\b\b\b\b\b\b\b\b\b\b\b\b\b\b\b\b\b\b\b\b\b\b\b\b\b\b\b\b\b\b\b\b\b\b\b\b\b\r",
            "13/63 [=====>........................] - ETA: 1s - loss: 0.1515 - accuracy: 0.9423"
          ]
        },
        {
          "name": "stdout",
          "output_type": "stream",
          "text": [
            "\b\b\b\b\b\b\b\b\b\b\b\b\b\b\b\b\b\b\b\b\b\b\b\b\b\b\b\b\b\b\b\b\b\b\b\b\b\b\b\b\b\b\b\b\b\b\b\b\b\b\b\b\b\b\b\b\b\b\b\b\b\b\b\b\b\b\b\b\b\b\b\b\b\b\b\b\b\b\b\b\b\b\r",
            "15/63 [======>.......................] - ETA: 1s - loss: 0.1612 - accuracy: 0.9396"
          ]
        },
        {
          "name": "stdout",
          "output_type": "stream",
          "text": [
            "\b\b\b\b\b\b\b\b\b\b\b\b\b\b\b\b\b\b\b\b\b\b\b\b\b\b\b\b\b\b\b\b\b\b\b\b\b\b\b\b\b\b\b\b\b\b\b\b\b\b\b\b\b\b\b\b\b\b\b\b\b\b\b\b\b\b\b\b\b\b\b\b\b\b\b\b\b\b\b\b\b\b\r",
            "17/63 [=======>......................] - ETA: 1s - loss: 0.1543 - accuracy: 0.9412"
          ]
        },
        {
          "name": "stdout",
          "output_type": "stream",
          "text": [
            "\b\b\b\b\b\b\b\b\b\b\b\b\b\b\b\b\b\b\b\b\b\b\b\b\b\b\b\b\b\b\b\b\b\b\b\b\b\b\b\b\b\b\b\b\b\b\b\b\b\b\b\b\b\b\b\b\b\b\b\b\b\b\b\b\b\b\b\b\b\b\b\b\b\b\b\b\b\b\b\b\b\b\r",
            "19/63 [========>.....................] - ETA: 1s - loss: 0.1546 - accuracy: 0.9391"
          ]
        },
        {
          "name": "stdout",
          "output_type": "stream",
          "text": [
            "\b\b\b\b\b\b\b\b\b\b\b\b\b\b\b\b\b\b\b\b\b\b\b\b\b\b\b\b\b\b\b\b\b\b\b\b\b\b\b\b\b\b\b\b\b\b\b\b\b\b\b\b\b\b\b\b\b\b\b\b\b\b\b\b\b\b\b\b\b\b\b\b\b\b\b\b\b\b\b\b\b\b\r",
            "21/63 [=========>....................] - ETA: 1s - loss: 0.1669 - accuracy: 0.9315"
          ]
        },
        {
          "name": "stdout",
          "output_type": "stream",
          "text": [
            "\b\b\b\b\b\b\b\b\b\b\b\b\b\b\b\b\b\b\b\b\b\b\b\b\b\b\b\b\b\b\b\b\b\b\b\b\b\b\b\b\b\b\b\b\b\b\b\b\b\b\b\b\b\b\b\b\b\b\b\b\b\b\b\b\b\b\b\b\b\b\b\b\b\b\b\b\b\b\b\b\b\b\r",
            "23/63 [=========>....................] - ETA: 1s - loss: 0.1666 - accuracy: 0.9321"
          ]
        },
        {
          "name": "stdout",
          "output_type": "stream",
          "text": [
            "\b\b\b\b\b\b\b\b\b\b\b\b\b\b\b\b\b\b\b\b\b\b\b\b\b\b\b\b\b\b\b\b\b\b\b\b\b\b\b\b\b\b\b\b\b\b\b\b\b\b\b\b\b\b\b\b\b\b\b\b\b\b\b\b\b\b\b\b\b\b\b\b\b\b\b\b\b\b\b\b\b\b\r",
            "25/63 [==========>...................] - ETA: 1s - loss: 0.1620 - accuracy: 0.9350"
          ]
        },
        {
          "name": "stdout",
          "output_type": "stream",
          "text": [
            "\b\b\b\b\b\b\b\b\b\b\b\b\b\b\b\b\b\b\b\b\b\b\b\b\b\b\b\b\b\b\b\b\b\b\b\b\b\b\b\b\b\b\b\b\b\b\b\b\b\b\b\b\b\b\b\b\b\b\b\b\b\b\b\b\b\b\b\b\b\b\b\b\b\b\b\b\b\b\b\b\b\b\r",
            "27/63 [===========>..................] - ETA: 1s - loss: 0.1607 - accuracy: 0.9340"
          ]
        },
        {
          "name": "stdout",
          "output_type": "stream",
          "text": [
            "\b\b\b\b\b\b\b\b\b\b\b\b\b\b\b\b\b\b\b\b\b\b\b\b\b\b\b\b\b\b\b\b\b\b\b\b\b\b\b\b\b\b\b\b\b\b\b\b\b\b\b\b\b\b\b\b\b\b\b\b\b\b\b\b\b\b\b\b\b\b\b\b\b\b\b\b\b\b\b\b\b\b\r",
            "29/63 [============>.................] - ETA: 1s - loss: 0.1613 - accuracy: 0.9310"
          ]
        },
        {
          "name": "stdout",
          "output_type": "stream",
          "text": [
            "\b\b\b\b\b\b\b\b\b\b\b\b\b\b\b\b\b\b\b\b\b\b\b\b\b\b\b\b\b\b\b\b\b\b\b\b\b\b\b\b\b\b\b\b\b\b\b\b\b\b\b\b\b\b\b\b\b\b\b\b\b\b\b\b\b\b\b\b\b\b\b\b\b\b\b\b\b\b\b\b\b\b\r",
            "31/63 [=============>................] - ETA: 1s - loss: 0.1602 - accuracy: 0.9335"
          ]
        },
        {
          "name": "stdout",
          "output_type": "stream",
          "text": [
            "\b\b\b\b\b\b\b\b\b\b\b\b\b\b\b\b\b\b\b\b\b\b\b\b\b\b\b\b\b\b\b\b\b\b\b\b\b\b\b\b\b\b\b\b\b\b\b\b\b\b\b\b\b\b\b\b\b\b\b\b\b\b\b\b\b\b\b\b\b\b\b\b\b\b\b\b\b\b\b\b\b\b\r",
            "33/63 [==============>...............] - ETA: 1s - loss: 0.1631 - accuracy: 0.9318"
          ]
        },
        {
          "name": "stdout",
          "output_type": "stream",
          "text": [
            "\b\b\b\b\b\b\b\b\b\b\b\b\b\b\b\b\b\b\b\b\b\b\b\b\b\b\b\b\b\b\b\b\b\b\b\b\b\b\b\b\b\b\b\b\b\b\b\b\b\b\b\b\b\b\b\b\b\b\b\b\b\b\b\b\b\b\b\b\b\b\b\b\b\b\b\b\b\b\b\b\b\b\r",
            "35/63 [===============>..............] - ETA: 1s - loss: 0.1623 - accuracy: 0.9304"
          ]
        },
        {
          "name": "stdout",
          "output_type": "stream",
          "text": [
            "\b\b\b\b\b\b\b\b\b\b\b\b\b\b\b\b\b\b\b\b\b\b\b\b\b\b\b\b\b\b\b\b\b\b\b\b\b\b\b\b\b\b\b\b\b\b\b\b\b\b\b\b\b\b\b\b\b\b\b\b\b\b\b\b\b\b\b\b\b\b\b\b\b\b\b\b\b\b\b\b\b\b\r",
            "37/63 [================>.............] - ETA: 0s - loss: 0.1616 - accuracy: 0.9307"
          ]
        },
        {
          "name": "stdout",
          "output_type": "stream",
          "text": [
            "\b\b\b\b\b\b\b\b\b\b\b\b\b\b\b\b\b\b\b\b\b\b\b\b\b\b\b\b\b\b\b\b\b\b\b\b\b\b\b\b\b\b\b\b\b\b\b\b\b\b\b\b\b\b\b\b\b\b\b\b\b\b\b\b\b\b\b\b\b\b\b\b\b\b\b\b\b\b\b\b\b\b\r",
            "39/63 [=================>............] - ETA: 0s - loss: 0.1594 - accuracy: 0.9327"
          ]
        },
        {
          "name": "stdout",
          "output_type": "stream",
          "text": [
            "\b\b\b\b\b\b\b\b\b\b\b\b\b\b\b\b\b\b\b\b\b\b\b\b\b\b\b\b\b\b\b\b\b\b\b\b\b\b\b\b\b\b\b\b\b\b\b\b\b\b\b\b\b\b\b\b\b\b\b\b\b\b\b\b\b\b\b\b\b\b\b\b\b\b\b\b\b\b\b\b\b\b\r",
            "41/63 [==================>...........] - ETA: 0s - loss: 0.1595 - accuracy: 0.9306"
          ]
        },
        {
          "name": "stdout",
          "output_type": "stream",
          "text": [
            "\b\b\b\b\b\b\b\b\b\b\b\b\b\b\b\b\b\b\b\b\b\b\b\b\b\b\b\b\b\b\b\b\b\b\b\b\b\b\b\b\b\b\b\b\b\b\b\b\b\b\b\b\b\b\b\b\b\b\b\b\b\b\b\b\b\b\b\b\b\b\b\b\b\b\b\b\b\b\b\b\b\b\r",
            "43/63 [===================>..........] - ETA: 0s - loss: 0.1615 - accuracy: 0.9295"
          ]
        },
        {
          "name": "stdout",
          "output_type": "stream",
          "text": [
            "\b\b\b\b\b\b\b\b\b\b\b\b\b\b\b\b\b\b\b\b\b\b\b\b\b\b\b\b\b\b\b\b\b\b\b\b\b\b\b\b\b\b\b\b\b\b\b\b\b\b\b\b\b\b\b\b\b\b\b\b\b\b\b\b\b\b\b\b\b\b\b\b\b\b\b\b\b\b\b\b\b\b\r",
            "45/63 [====================>.........] - ETA: 0s - loss: 0.1593 - accuracy: 0.9312"
          ]
        },
        {
          "name": "stdout",
          "output_type": "stream",
          "text": [
            "\b\b\b\b\b\b\b\b\b\b\b\b\b\b\b\b\b\b\b\b\b\b\b\b\b\b\b\b\b\b\b\b\b\b\b\b\b\b\b\b\b\b\b\b\b\b\b\b\b\b\b\b\b\b\b\b\b\b\b\b\b\b\b\b\b\b\b\b\b\b\b\b\b\b\b\b\b\b\b\b\b\b\r",
            "47/63 [=====================>........] - ETA: 0s - loss: 0.1603 - accuracy: 0.9302"
          ]
        },
        {
          "name": "stdout",
          "output_type": "stream",
          "text": [
            "\b\b\b\b\b\b\b\b\b\b\b\b\b\b\b\b\b\b\b\b\b\b\b\b\b\b\b\b\b\b\b\b\b\b\b\b\b\b\b\b\b\b\b\b\b\b\b\b\b\b\b\b\b\b\b\b\b\b\b\b\b\b\b\b\b\b\b\b\b\b\b\b\b\b\b\b\b\b\b\b\b\b\r",
            "49/63 [======================>.......] - ETA: 0s - loss: 0.1599 - accuracy: 0.9292"
          ]
        },
        {
          "name": "stdout",
          "output_type": "stream",
          "text": [
            "\b\b\b\b\b\b\b\b\b\b\b\b\b\b\b\b\b\b\b\b\b\b\b\b\b\b\b\b\b\b\b\b\b\b\b\b\b\b\b\b\b\b\b\b\b\b\b\b\b\b\b\b\b\b\b\b\b\b\b\b\b\b\b\b\b\b\b\b\b\b\b\b\b\b\b\b\b\b\b\b\b\b\r",
            "51/63 [=======================>......] - ETA: 0s - loss: 0.1592 - accuracy: 0.9289"
          ]
        },
        {
          "name": "stdout",
          "output_type": "stream",
          "text": [
            "\b\b\b\b\b\b\b\b\b\b\b\b\b\b\b\b\b\b\b\b\b\b\b\b\b\b\b\b\b\b\b\b\b\b\b\b\b\b\b\b\b\b\b\b\b\b\b\b\b\b\b\b\b\b\b\b\b\b\b\b\b\b\b\b\b\b\b\b\b\b\b\b\b\b\b\b\b\b\b\b\b\b\r",
            "53/63 [========================>.....] - ETA: 0s - loss: 0.1575 - accuracy: 0.9292"
          ]
        },
        {
          "name": "stdout",
          "output_type": "stream",
          "text": [
            "\b\b\b\b\b\b\b\b\b\b\b\b\b\b\b\b\b\b\b\b\b\b\b\b\b\b\b\b\b\b\b\b\b\b\b\b\b\b\b\b\b\b\b\b\b\b\b\b\b\b\b\b\b\b\b\b\b\b\b\b\b\b\b\b\b\b\b\b\b\b\b\b\b\b\b\b\b\b\b\b\b\b\r",
            "55/63 [=========================>....] - ETA: 0s - loss: 0.1552 - accuracy: 0.9295"
          ]
        },
        {
          "name": "stdout",
          "output_type": "stream",
          "text": [
            "\b\b\b\b\b\b\b\b\b\b\b\b\b\b\b\b\b\b\b\b\b\b\b\b\b\b\b\b\b\b\b\b\b\b\b\b\b\b\b\b\b\b\b\b\b\b\b\b\b\b\b\b\b\b\b\b\b\b\b\b\b\b\b\b\b\b\b\b\b\b\b\b\b\b\b\b\b\b\b\b\b\b\r",
            "57/63 [==========================>...] - ETA: 0s - loss: 0.1536 - accuracy: 0.9309"
          ]
        },
        {
          "name": "stdout",
          "output_type": "stream",
          "text": [
            "\b\b\b\b\b\b\b\b\b\b\b\b\b\b\b\b\b\b\b\b\b\b\b\b\b\b\b\b\b\b\b\b\b\b\b\b\b\b\b\b\b\b\b\b\b\b\b\b\b\b\b\b\b\b\b\b\b\b\b\b\b\b\b\b\b\b\b\b\b\b\b\b\b\b\b\b\b\b\b\b\b\b\r",
            "59/63 [===========================>..] - ETA: 0s - loss: 0.1515 - accuracy: 0.9322"
          ]
        },
        {
          "name": "stdout",
          "output_type": "stream",
          "text": [
            "\b\b\b\b\b\b\b\b\b\b\b\b\b\b\b\b\b\b\b\b\b\b\b\b\b\b\b\b\b\b\b\b\b\b\b\b\b\b\b\b\b\b\b\b\b\b\b\b\b\b\b\b\b\b\b\b\b\b\b\b\b\b\b\b\b\b\b\b\b\b\b\b\b\b\b\b\b\b\b\b\b\b\r",
            "61/63 [============================>.] - ETA: 0s - loss: 0.1507 - accuracy: 0.9324"
          ]
        },
        {
          "name": "stdout",
          "output_type": "stream",
          "text": [
            "\b\b\b\b\b\b\b\b\b\b\b\b\b\b\b\b\b\b\b\b\b\b\b\b\b\b\b\b\b\b\b\b\b\b\b\b\b\b\b\b\b\b\b\b\b\b\b\b\b\b\b\b\b\b\b\b\b\b\b\b\b\b\b\b\b\b\b\b\b\b\b\b\b\b\b\b\b\b\b\b\b\b\r",
            "63/63 [==============================] - ETA: 0s - loss: 0.1508 - accuracy: 0.9320"
          ]
        },
        {
          "name": "stdout",
          "output_type": "stream",
          "text": [
            "\b\b\b\b\b\b\b\b\b\b\b\b\b\b\b\b\b\b\b\b\b\b\b\b\b\b\b\b\b\b\b\b\b\b\b\b\b\b\b\b\b\b\b\b\b\b\b\b\b\b\b\b\b\b\b\b\b\b\b\b\b\b\b\b\b\b\b\b\b\b\b\b\b\b\b\b\b\b\b\b\b\b\r",
            "63/63 [==============================] - 8s 56ms/step - loss: 0.1508 - accuracy: 0.9320 - val_loss: 0.0555 - val_accuracy: 0.9814\n"
          ]
        },
        {
          "name": "stdout",
          "output_type": "stream",
          "text": [
            "Epoch 11/20\n"
          ]
        },
        {
          "name": "stdout",
          "output_type": "stream",
          "text": [
            "\r",
            " 1/63 [..............................] - ETA: 4s - loss: 0.0182 - accuracy: 1.0000"
          ]
        },
        {
          "name": "stdout",
          "output_type": "stream",
          "text": [
            "\b\b\b\b\b\b\b\b\b\b\b\b\b\b\b\b\b\b\b\b\b\b\b\b\b\b\b\b\b\b\b\b\b\b\b\b\b\b\b\b\b\b\b\b\b\b\b\b\b\b\b\b\b\b\b\b\b\b\b\b\b\b\b\b\b\b\b\b\b\b\b\b\b\b\b\b\b\b\b\b\b\b\r",
            " 3/63 [>.............................] - ETA: 2s - loss: 0.0413 - accuracy: 1.0000"
          ]
        },
        {
          "name": "stdout",
          "output_type": "stream",
          "text": [
            "\b\b\b\b\b\b\b\b\b\b\b\b\b\b\b\b\b\b\b\b\b\b\b\b\b\b\b\b\b\b\b\b\b\b\b\b\b\b\b\b\b\b\b\b\b\b\b\b\b\b\b\b\b\b\b\b\b\b\b\b\b\b\b\b\b\b\b\b\b\b\b\b\b\b\b\b\b\b\b\b\b\b\r",
            " 5/63 [=>............................] - ETA: 2s - loss: 0.0842 - accuracy: 0.9812"
          ]
        },
        {
          "name": "stdout",
          "output_type": "stream",
          "text": [
            "\b\b\b\b\b\b\b\b\b\b\b\b\b\b\b\b\b\b\b\b\b\b\b\b\b\b\b\b\b\b\b\b\b\b\b\b\b\b\b\b\b\b\b\b\b\b\b\b\b\b\b\b\b\b\b\b\b\b\b\b\b\b\b\b\b\b\b\b\b\b\b\b\b\b\b\b\b\b\b\b\b\b\r",
            " 7/63 [==>...........................] - ETA: 2s - loss: 0.0736 - accuracy: 0.9821"
          ]
        },
        {
          "name": "stdout",
          "output_type": "stream",
          "text": [
            "\b\b\b\b\b\b\b\b\b\b\b\b\b\b\b\b\b\b\b\b\b\b\b\b\b\b\b\b\b\b\b\b\b\b\b\b\b\b\b\b\b\b\b\b\b\b\b\b\b\b\b\b\b\b\b\b\b\b\b\b\b\b\b\b\b\b\b\b\b\b\b\b\b\b\b\b\b\b\b\b\b\b\r",
            " 9/63 [===>..........................] - ETA: 1s - loss: 0.0877 - accuracy: 0.9792"
          ]
        },
        {
          "name": "stdout",
          "output_type": "stream",
          "text": [
            "\b\b\b\b\b\b\b\b\b\b\b\b\b\b\b\b\b\b\b\b\b\b\b\b\b\b\b\b\b\b\b\b\b\b\b\b\b\b\b\b\b\b\b\b\b\b\b\b\b\b\b\b\b\b\b\b\b\b\b\b\b\b\b\b\b\b\b\b\b\b\b\b\b\b\b\b\b\b\b\b\b\b\r",
            "11/63 [====>.........................] - ETA: 1s - loss: 0.1086 - accuracy: 0.9659"
          ]
        },
        {
          "name": "stdout",
          "output_type": "stream",
          "text": [
            "\b\b\b\b\b\b\b\b\b\b\b\b\b\b\b\b\b\b\b\b\b\b\b\b\b\b\b\b\b\b\b\b\b\b\b\b\b\b\b\b\b\b\b\b\b\b\b\b\b\b\b\b\b\b\b\b\b\b\b\b\b\b\b\b\b\b\b\b\b\b\b\b\b\b\b\b\b\b\b\b\b\b\r",
            "13/63 [=====>........................] - ETA: 1s - loss: 0.1049 - accuracy: 0.9663"
          ]
        },
        {
          "name": "stdout",
          "output_type": "stream",
          "text": [
            "\b\b\b\b\b\b\b\b\b\b\b\b\b\b\b\b\b\b\b\b\b\b\b\b\b\b\b\b\b\b\b\b\b\b\b\b\b\b\b\b\b\b\b\b\b\b\b\b\b\b\b\b\b\b\b\b\b\b\b\b\b\b\b\b\b\b\b\b\b\b\b\b\b\b\b\b\b\b\b\b\b\b\r",
            "15/63 [======>.......................] - ETA: 1s - loss: 0.1019 - accuracy: 0.9646"
          ]
        },
        {
          "name": "stdout",
          "output_type": "stream",
          "text": [
            "\b\b\b\b\b\b\b\b\b\b\b\b\b\b\b\b\b\b\b\b\b\b\b\b\b\b\b\b\b\b\b\b\b\b\b\b\b\b\b\b\b\b\b\b\b\b\b\b\b\b\b\b\b\b\b\b\b\b\b\b\b\b\b\b\b\b\b\b\b\b\b\b\b\b\b\b\b\b\b\b\b\b\r",
            "17/63 [=======>......................] - ETA: 1s - loss: 0.1055 - accuracy: 0.9632"
          ]
        },
        {
          "name": "stdout",
          "output_type": "stream",
          "text": [
            "\b\b\b\b\b\b\b\b\b\b\b\b\b\b\b\b\b\b\b\b\b\b\b\b\b\b\b\b\b\b\b\b\b\b\b\b\b\b\b\b\b\b\b\b\b\b\b\b\b\b\b\b\b\b\b\b\b\b\b\b\b\b\b\b\b\b\b\b\b\b\b\b\b\b\b\b\b\b\b\b\b\b\r",
            "19/63 [========>.....................] - ETA: 1s - loss: 0.1162 - accuracy: 0.9589"
          ]
        },
        {
          "name": "stdout",
          "output_type": "stream",
          "text": [
            "\b\b\b\b\b\b\b\b\b\b\b\b\b\b\b\b\b\b\b\b\b\b\b\b\b\b\b\b\b\b\b\b\b\b\b\b\b\b\b\b\b\b\b\b\b\b\b\b\b\b\b\b\b\b\b\b\b\b\b\b\b\b\b\b\b\b\b\b\b\b\b\b\b\b\b\b\b\b\b\b\b\b\r",
            "21/63 [=========>....................] - ETA: 1s - loss: 0.1176 - accuracy: 0.9568"
          ]
        },
        {
          "name": "stdout",
          "output_type": "stream",
          "text": [
            "\b\b\b\b\b\b\b\b\b\b\b\b\b\b\b\b\b\b\b\b\b\b\b\b\b\b\b\b\b\b\b\b\b\b\b\b\b\b\b\b\b\b\b\b\b\b\b\b\b\b\b\b\b\b\b\b\b\b\b\b\b\b\b\b\b\b\b\b\b\b\b\b\b\b\b\b\b\b\b\b\b\b\r",
            "23/63 [=========>....................] - ETA: 1s - loss: 0.1181 - accuracy: 0.9579"
          ]
        },
        {
          "name": "stdout",
          "output_type": "stream",
          "text": [
            "\b\b\b\b\b\b\b\b\b\b\b\b\b\b\b\b\b\b\b\b\b\b\b\b\b\b\b\b\b\b\b\b\b\b\b\b\b\b\b\b\b\b\b\b\b\b\b\b\b\b\b\b\b\b\b\b\b\b\b\b\b\b\b\b\b\b\b\b\b\b\b\b\b\b\b\b\b\b\b\b\b\b\r",
            "25/63 [==========>...................] - ETA: 1s - loss: 0.1210 - accuracy: 0.9563"
          ]
        },
        {
          "name": "stdout",
          "output_type": "stream",
          "text": [
            "\b\b\b\b\b\b\b\b\b\b\b\b\b\b\b\b\b\b\b\b\b\b\b\b\b\b\b\b\b\b\b\b\b\b\b\b\b\b\b\b\b\b\b\b\b\b\b\b\b\b\b\b\b\b\b\b\b\b\b\b\b\b\b\b\b\b\b\b\b\b\b\b\b\b\b\b\b\b\b\b\b\b\r",
            "27/63 [===========>..................] - ETA: 1s - loss: 0.1183 - accuracy: 0.9572"
          ]
        },
        {
          "name": "stdout",
          "output_type": "stream",
          "text": [
            "\b\b\b\b\b\b\b\b\b\b\b\b\b\b\b\b\b\b\b\b\b\b\b\b\b\b\b\b\b\b\b\b\b\b\b\b\b\b\b\b\b\b\b\b\b\b\b\b\b\b\b\b\b\b\b\b\b\b\b\b\b\b\b\b\b\b\b\b\b\b\b\b\b\b\b\b\b\b\b\b\b\b\r",
            "29/63 [============>.................] - ETA: 1s - loss: 0.1167 - accuracy: 0.9569"
          ]
        },
        {
          "name": "stdout",
          "output_type": "stream",
          "text": [
            "\b\b\b\b\b\b\b\b\b\b\b\b\b\b\b\b\b\b\b\b\b\b\b\b\b\b\b\b\b\b\b\b\b\b\b\b\b\b\b\b\b\b\b\b\b\b\b\b\b\b\b\b\b\b\b\b\b\b\b\b\b\b\b\b\b\b\b\b\b\b\b\b\b\b\b\b\b\b\b\b\b\b\r",
            "31/63 [=============>................] - ETA: 1s - loss: 0.1261 - accuracy: 0.9526"
          ]
        },
        {
          "name": "stdout",
          "output_type": "stream",
          "text": [
            "\b\b\b\b\b\b\b\b\b\b\b\b\b\b\b\b\b\b\b\b\b\b\b\b\b\b\b\b\b\b\b\b\b\b\b\b\b\b\b\b\b\b\b\b\b\b\b\b\b\b\b\b\b\b\b\b\b\b\b\b\b\b\b\b\b\b\b\b\b\b\b\b\b\b\b\b\b\b\b\b\b\b\r",
            "33/63 [==============>...............] - ETA: 1s - loss: 0.1248 - accuracy: 0.9527"
          ]
        },
        {
          "name": "stdout",
          "output_type": "stream",
          "text": [
            "\b\b\b\b\b\b\b\b\b\b\b\b\b\b\b\b\b\b\b\b\b\b\b\b\b\b\b\b\b\b\b\b\b\b\b\b\b\b\b\b\b\b\b\b\b\b\b\b\b\b\b\b\b\b\b\b\b\b\b\b\b\b\b\b\b\b\b\b\b\b\b\b\b\b\b\b\b\b\b\b\b\b\r",
            "35/63 [===============>..............] - ETA: 1s - loss: 0.1227 - accuracy: 0.9518"
          ]
        },
        {
          "name": "stdout",
          "output_type": "stream",
          "text": [
            "\b\b\b\b\b\b\b\b\b\b\b\b\b\b\b\b\b\b\b\b\b\b\b\b\b\b\b\b\b\b\b\b\b\b\b\b\b\b\b\b\b\b\b\b\b\b\b\b\b\b\b\b\b\b\b\b\b\b\b\b\b\b\b\b\b\b\b\b\b\b\b\b\b\b\b\b\b\b\b\b\b\b\r",
            "37/63 [================>.............] - ETA: 0s - loss: 0.1223 - accuracy: 0.9519"
          ]
        },
        {
          "name": "stdout",
          "output_type": "stream",
          "text": [
            "\b\b\b\b\b\b\b\b\b\b\b\b\b\b\b\b\b\b\b\b\b\b\b\b\b\b\b\b\b\b\b\b\b\b\b\b\b\b\b\b\b\b\b\b\b\b\b\b\b\b\b\b\b\b\b\b\b\b\b\b\b\b\b\b\b\b\b\b\b\b\b\b\b\b\b\b\b\b\b\b\b\b\r",
            "39/63 [=================>............] - ETA: 0s - loss: 0.1242 - accuracy: 0.9511"
          ]
        },
        {
          "name": "stdout",
          "output_type": "stream",
          "text": [
            "\b\b\b\b\b\b\b\b\b\b\b\b\b\b\b\b\b\b\b\b\b\b\b\b\b\b\b\b\b\b\b\b\b\b\b\b\b\b\b\b\b\b\b\b\b\b\b\b\b\b\b\b\b\b\b\b\b\b\b\b\b\b\b\b\b\b\b\b\b\b\b\b\b\b\b\b\b\b\b\b\b\b\r",
            "41/63 [==================>...........] - ETA: 0s - loss: 0.1231 - accuracy: 0.9520"
          ]
        },
        {
          "name": "stdout",
          "output_type": "stream",
          "text": [
            "\b\b\b\b\b\b\b\b\b\b\b\b\b\b\b\b\b\b\b\b\b\b\b\b\b\b\b\b\b\b\b\b\b\b\b\b\b\b\b\b\b\b\b\b\b\b\b\b\b\b\b\b\b\b\b\b\b\b\b\b\b\b\b\b\b\b\b\b\b\b\b\b\b\b\b\b\b\b\b\b\b\b\r",
            "43/63 [===================>..........] - ETA: 0s - loss: 0.1253 - accuracy: 0.9520"
          ]
        },
        {
          "name": "stdout",
          "output_type": "stream",
          "text": [
            "\b\b\b\b\b\b\b\b\b\b\b\b\b\b\b\b\b\b\b\b\b\b\b\b\b\b\b\b\b\b\b\b\b\b\b\b\b\b\b\b\b\b\b\b\b\b\b\b\b\b\b\b\b\b\b\b\b\b\b\b\b\b\b\b\b\b\b\b\b\b\b\b\b\b\b\b\b\b\b\b\b\b\r",
            "45/63 [====================>.........] - ETA: 0s - loss: 0.1231 - accuracy: 0.9528"
          ]
        },
        {
          "name": "stdout",
          "output_type": "stream",
          "text": [
            "\b\b\b\b\b\b\b\b\b\b\b\b\b\b\b\b\b\b\b\b\b\b\b\b\b\b\b\b\b\b\b\b\b\b\b\b\b\b\b\b\b\b\b\b\b\b\b\b\b\b\b\b\b\b\b\b\b\b\b\b\b\b\b\b\b\b\b\b\b\b\b\b\b\b\b\b\b\b\b\b\b\b\r",
            "47/63 [=====================>........] - ETA: 0s - loss: 0.1276 - accuracy: 0.9508"
          ]
        },
        {
          "name": "stdout",
          "output_type": "stream",
          "text": [
            "\b\b\b\b\b\b\b\b\b\b\b\b\b\b\b\b\b\b\b\b\b\b\b\b\b\b\b\b\b\b\b\b\b\b\b\b\b\b\b\b\b\b\b\b\b\b\b\b\b\b\b\b\b\b\b\b\b\b\b\b\b\b\b\b\b\b\b\b\b\b\b\b\b\b\b\b\b\b\b\b\b\b\r",
            "49/63 [======================>.......] - ETA: 0s - loss: 0.1294 - accuracy: 0.9496"
          ]
        },
        {
          "name": "stdout",
          "output_type": "stream",
          "text": [
            "\b\b\b\b\b\b\b\b\b\b\b\b\b\b\b\b\b\b\b\b\b\b\b\b\b\b\b\b\b\b\b\b\b\b\b\b\b\b\b\b\b\b\b\b\b\b\b\b\b\b\b\b\b\b\b\b\b\b\b\b\b\b\b\b\b\b\b\b\b\b\b\b\b\b\b\b\b\b\b\b\b\b\r",
            "51/63 [=======================>......] - ETA: 0s - loss: 0.1292 - accuracy: 0.9504"
          ]
        },
        {
          "name": "stdout",
          "output_type": "stream",
          "text": [
            "\b\b\b\b\b\b\b\b\b\b\b\b\b\b\b\b\b\b\b\b\b\b\b\b\b\b\b\b\b\b\b\b\b\b\b\b\b\b\b\b\b\b\b\b\b\b\b\b\b\b\b\b\b\b\b\b\b\b\b\b\b\b\b\b\b\b\b\b\b\b\b\b\b\b\b\b\b\b\b\b\b\b\r",
            "53/63 [========================>.....] - ETA: 0s - loss: 0.1279 - accuracy: 0.9505"
          ]
        },
        {
          "name": "stdout",
          "output_type": "stream",
          "text": [
            "\b\b\b\b\b\b\b\b\b\b\b\b\b\b\b\b\b\b\b\b\b\b\b\b\b\b\b\b\b\b\b\b\b\b\b\b\b\b\b\b\b\b\b\b\b\b\b\b\b\b\b\b\b\b\b\b\b\b\b\b\b\b\b\b\b\b\b\b\b\b\b\b\b\b\b\b\b\b\b\b\b\b\r",
            "55/63 [=========================>....] - ETA: 0s - loss: 0.1290 - accuracy: 0.9500"
          ]
        },
        {
          "name": "stdout",
          "output_type": "stream",
          "text": [
            "\b\b\b\b\b\b\b\b\b\b\b\b\b\b\b\b\b\b\b\b\b\b\b\b\b\b\b\b\b\b\b\b\b\b\b\b\b\b\b\b\b\b\b\b\b\b\b\b\b\b\b\b\b\b\b\b\b\b\b\b\b\b\b\b\b\b\b\b\b\b\b\b\b\b\b\b\b\b\b\b\b\b\r",
            "57/63 [==========================>...] - ETA: 0s - loss: 0.1269 - accuracy: 0.9507"
          ]
        },
        {
          "name": "stdout",
          "output_type": "stream",
          "text": [
            "\b\b\b\b\b\b\b\b\b\b\b\b\b\b\b\b\b\b\b\b\b\b\b\b\b\b\b\b\b\b\b\b\b\b\b\b\b\b\b\b\b\b\b\b\b\b\b\b\b\b\b\b\b\b\b\b\b\b\b\b\b\b\b\b\b\b\b\b\b\b\b\b\b\b\b\b\b\b\b\b\b\b\r",
            "59/63 [===========================>..] - ETA: 0s - loss: 0.1248 - accuracy: 0.9513"
          ]
        },
        {
          "name": "stdout",
          "output_type": "stream",
          "text": [
            "\b\b\b\b\b\b\b\b\b\b\b\b\b\b\b\b\b\b\b\b\b\b\b\b\b\b\b\b\b\b\b\b\b\b\b\b\b\b\b\b\b\b\b\b\b\b\b\b\b\b\b\b\b\b\b\b\b\b\b\b\b\b\b\b\b\b\b\b\b\b\b\b\b\b\b\b\b\b\b\b\b\b\r",
            "61/63 [============================>.] - ETA: 0s - loss: 0.1236 - accuracy: 0.9513"
          ]
        },
        {
          "name": "stdout",
          "output_type": "stream",
          "text": [
            "\b\b\b\b\b\b\b\b\b\b\b\b\b\b\b\b\b\b\b\b\b\b\b\b\b\b\b\b\b\b\b\b\b\b\b\b\b\b\b\b\b\b\b\b\b\b\b\b\b\b\b\b\b\b\b\b\b\b\b\b\b\b\b\b\b\b\b\b\b\b\b\b\b\b\b\b\b\b\b\b\b\b\r",
            "63/63 [==============================] - ETA: 0s - loss: 0.1231 - accuracy: 0.9515"
          ]
        },
        {
          "name": "stdout",
          "output_type": "stream",
          "text": [
            "\b\b\b\b\b\b\b\b\b\b\b\b\b\b\b\b\b\b\b\b\b\b\b\b\b\b\b\b\b\b\b\b\b\b\b\b\b\b\b\b\b\b\b\b\b\b\b\b\b\b\b\b\b\b\b\b\b\b\b\b\b\b\b\b\b\b\b\b\b\b\b\b\b\b\b\b\b\b\b\b\b\b\r",
            "63/63 [==============================] - 3s 44ms/step - loss: 0.1231 - accuracy: 0.9515 - val_loss: 0.0437 - val_accuracy: 0.9827\n"
          ]
        },
        {
          "name": "stdout",
          "output_type": "stream",
          "text": [
            "Epoch 12/20\n"
          ]
        },
        {
          "name": "stdout",
          "output_type": "stream",
          "text": [
            "\r",
            " 1/63 [..............................] - ETA: 3s - loss: 0.0985 - accuracy: 0.9688"
          ]
        },
        {
          "name": "stdout",
          "output_type": "stream",
          "text": [
            "\b\b\b\b\b\b\b\b\b\b\b\b\b\b\b\b\b\b\b\b\b\b\b\b\b\b\b\b\b\b\b\b\b\b\b\b\b\b\b\b\b\b\b\b\b\b\b\b\b\b\b\b\b\b\b\b\b\b\b\b\b\b\b\b\b\b\b\b\b\b\b\b\b\b\b\b\b\b\b\b\b\b\r",
            " 3/63 [>.............................] - ETA: 2s - loss: 0.0786 - accuracy: 0.9688"
          ]
        },
        {
          "name": "stdout",
          "output_type": "stream",
          "text": [
            "\b\b\b\b\b\b\b\b\b\b\b\b\b\b\b\b\b\b\b\b\b\b\b\b\b\b\b\b\b\b\b\b\b\b\b\b\b\b\b\b\b\b\b\b\b\b\b\b\b\b\b\b\b\b\b\b\b\b\b\b\b\b\b\b\b\b\b\b\b\b\b\b\b\b\b\b\b\b\b\b\b\b\r",
            " 5/63 [=>............................] - ETA: 2s - loss: 0.0932 - accuracy: 0.9625"
          ]
        },
        {
          "name": "stdout",
          "output_type": "stream",
          "text": [
            "\b\b\b\b\b\b\b\b\b\b\b\b\b\b\b\b\b\b\b\b\b\b\b\b\b\b\b\b\b\b\b\b\b\b\b\b\b\b\b\b\b\b\b\b\b\b\b\b\b\b\b\b\b\b\b\b\b\b\b\b\b\b\b\b\b\b\b\b\b\b\b\b\b\b\b\b\b\b\b\b\b\b\r",
            " 7/63 [==>...........................] - ETA: 2s - loss: 0.0767 - accuracy: 0.9688"
          ]
        },
        {
          "name": "stdout",
          "output_type": "stream",
          "text": [
            "\b\b\b\b\b\b\b\b\b\b\b\b\b\b\b\b\b\b\b\b\b\b\b\b\b\b\b\b\b\b\b\b\b\b\b\b\b\b\b\b\b\b\b\b\b\b\b\b\b\b\b\b\b\b\b\b\b\b\b\b\b\b\b\b\b\b\b\b\b\b\b\b\b\b\b\b\b\b\b\b\b\b\r",
            " 9/63 [===>..........................] - ETA: 2s - loss: 0.0929 - accuracy: 0.9618"
          ]
        },
        {
          "name": "stdout",
          "output_type": "stream",
          "text": [
            "\b\b\b\b\b\b\b\b\b\b\b\b\b\b\b\b\b\b\b\b\b\b\b\b\b\b\b\b\b\b\b\b\b\b\b\b\b\b\b\b\b\b\b\b\b\b\b\b\b\b\b\b\b\b\b\b\b\b\b\b\b\b\b\b\b\b\b\b\b\b\b\b\b\b\b\b\b\b\b\b\b\b\r",
            "11/63 [====>.........................] - ETA: 1s - loss: 0.0957 - accuracy: 0.9602"
          ]
        },
        {
          "name": "stdout",
          "output_type": "stream",
          "text": [
            "\b\b\b\b\b\b\b\b\b\b\b\b\b\b\b\b\b\b\b\b\b\b\b\b\b\b\b\b\b\b\b\b\b\b\b\b\b\b\b\b\b\b\b\b\b\b\b\b\b\b\b\b\b\b\b\b\b\b\b\b\b\b\b\b\b\b\b\b\b\b\b\b\b\b\b\b\b\b\b\b\b\b\r",
            "13/63 [=====>........................] - ETA: 1s - loss: 0.0977 - accuracy: 0.9567"
          ]
        },
        {
          "name": "stdout",
          "output_type": "stream",
          "text": [
            "\b\b\b\b\b\b\b\b\b\b\b\b\b\b\b\b\b\b\b\b\b\b\b\b\b\b\b\b\b\b\b\b\b\b\b\b\b\b\b\b\b\b\b\b\b\b\b\b\b\b\b\b\b\b\b\b\b\b\b\b\b\b\b\b\b\b\b\b\b\b\b\b\b\b\b\b\b\b\b\b\b\b\r",
            "15/63 [======>.......................] - ETA: 1s - loss: 0.1036 - accuracy: 0.9521"
          ]
        },
        {
          "name": "stdout",
          "output_type": "stream",
          "text": [
            "\b\b\b\b\b\b\b\b\b\b\b\b\b\b\b\b\b\b\b\b\b\b\b\b\b\b\b\b\b\b\b\b\b\b\b\b\b\b\b\b\b\b\b\b\b\b\b\b\b\b\b\b\b\b\b\b\b\b\b\b\b\b\b\b\b\b\b\b\b\b\b\b\b\b\b\b\b\b\b\b\b\b\r",
            "17/63 [=======>......................] - ETA: 1s - loss: 0.1027 - accuracy: 0.9504"
          ]
        },
        {
          "name": "stdout",
          "output_type": "stream",
          "text": [
            "\b\b\b\b\b\b\b\b\b\b\b\b\b\b\b\b\b\b\b\b\b\b\b\b\b\b\b\b\b\b\b\b\b\b\b\b\b\b\b\b\b\b\b\b\b\b\b\b\b\b\b\b\b\b\b\b\b\b\b\b\b\b\b\b\b\b\b\b\b\b\b\b\b\b\b\b\b\b\b\b\b\b\r",
            "19/63 [========>.....................] - ETA: 1s - loss: 0.1005 - accuracy: 0.9523"
          ]
        },
        {
          "name": "stdout",
          "output_type": "stream",
          "text": [
            "\b\b\b\b\b\b\b\b\b\b\b\b\b\b\b\b\b\b\b\b\b\b\b\b\b\b\b\b\b\b\b\b\b\b\b\b\b\b\b\b\b\b\b\b\b\b\b\b\b\b\b\b\b\b\b\b\b\b\b\b\b\b\b\b\b\b\b\b\b\b\b\b\b\b\b\b\b\b\b\b\b\b\r",
            "21/63 [=========>....................] - ETA: 1s - loss: 0.1071 - accuracy: 0.9494"
          ]
        },
        {
          "name": "stdout",
          "output_type": "stream",
          "text": [
            "\b\b\b\b\b\b\b\b\b\b\b\b\b\b\b\b\b\b\b\b\b\b\b\b\b\b\b\b\b\b\b\b\b\b\b\b\b\b\b\b\b\b\b\b\b\b\b\b\b\b\b\b\b\b\b\b\b\b\b\b\b\b\b\b\b\b\b\b\b\b\b\b\b\b\b\b\b\b\b\b\b\b\r",
            "23/63 [=========>....................] - ETA: 1s - loss: 0.1074 - accuracy: 0.9511"
          ]
        },
        {
          "name": "stdout",
          "output_type": "stream",
          "text": [
            "\b\b\b\b\b\b\b\b\b\b\b\b\b\b\b\b\b\b\b\b\b\b\b\b\b\b\b\b\b\b\b\b\b\b\b\b\b\b\b\b\b\b\b\b\b\b\b\b\b\b\b\b\b\b\b\b\b\b\b\b\b\b\b\b\b\b\b\b\b\b\b\b\b\b\b\b\b\b\b\b\b\b\r",
            "25/63 [==========>...................] - ETA: 1s - loss: 0.1125 - accuracy: 0.9488"
          ]
        },
        {
          "name": "stdout",
          "output_type": "stream",
          "text": [
            "\b\b\b\b\b\b\b\b\b\b\b\b\b\b\b\b\b\b\b\b\b\b\b\b\b\b\b\b\b\b\b\b\b\b\b\b\b\b\b\b\b\b\b\b\b\b\b\b\b\b\b\b\b\b\b\b\b\b\b\b\b\b\b\b\b\b\b\b\b\b\b\b\b\b\b\b\b\b\b\b\b\b\r",
            "27/63 [===========>..................] - ETA: 1s - loss: 0.1088 - accuracy: 0.9502"
          ]
        },
        {
          "name": "stdout",
          "output_type": "stream",
          "text": [
            "\b\b\b\b\b\b\b\b\b\b\b\b\b\b\b\b\b\b\b\b\b\b\b\b\b\b\b\b\b\b\b\b\b\b\b\b\b\b\b\b\b\b\b\b\b\b\b\b\b\b\b\b\b\b\b\b\b\b\b\b\b\b\b\b\b\b\b\b\b\b\b\b\b\b\b\b\b\b\b\b\b\b\r",
            "29/63 [============>.................] - ETA: 1s - loss: 0.1036 - accuracy: 0.9526"
          ]
        },
        {
          "name": "stdout",
          "output_type": "stream",
          "text": [
            "\b\b\b\b\b\b\b\b\b\b\b\b\b\b\b\b\b\b\b\b\b\b\b\b\b\b\b\b\b\b\b\b\b\b\b\b\b\b\b\b\b\b\b\b\b\b\b\b\b\b\b\b\b\b\b\b\b\b\b\b\b\b\b\b\b\b\b\b\b\b\b\b\b\b\b\b\b\b\b\b\b\b\r",
            "31/63 [=============>................] - ETA: 1s - loss: 0.1028 - accuracy: 0.9526"
          ]
        },
        {
          "name": "stdout",
          "output_type": "stream",
          "text": [
            "\b\b\b\b\b\b\b\b\b\b\b\b\b\b\b\b\b\b\b\b\b\b\b\b\b\b\b\b\b\b\b\b\b\b\b\b\b\b\b\b\b\b\b\b\b\b\b\b\b\b\b\b\b\b\b\b\b\b\b\b\b\b\b\b\b\b\b\b\b\b\b\b\b\b\b\b\b\b\b\b\b\b\r",
            "33/63 [==============>...............] - ETA: 1s - loss: 0.1039 - accuracy: 0.9527"
          ]
        },
        {
          "name": "stdout",
          "output_type": "stream",
          "text": [
            "\b\b\b\b\b\b\b\b\b\b\b\b\b\b\b\b\b\b\b\b\b\b\b\b\b\b\b\b\b\b\b\b\b\b\b\b\b\b\b\b\b\b\b\b\b\b\b\b\b\b\b\b\b\b\b\b\b\b\b\b\b\b\b\b\b\b\b\b\b\b\b\b\b\b\b\b\b\b\b\b\b\b\r",
            "35/63 [===============>..............] - ETA: 1s - loss: 0.1039 - accuracy: 0.9527"
          ]
        },
        {
          "name": "stdout",
          "output_type": "stream",
          "text": [
            "\b\b\b\b\b\b\b\b\b\b\b\b\b\b\b\b\b\b\b\b\b\b\b\b\b\b\b\b\b\b\b\b\b\b\b\b\b\b\b\b\b\b\b\b\b\b\b\b\b\b\b\b\b\b\b\b\b\b\b\b\b\b\b\b\b\b\b\b\b\b\b\b\b\b\b\b\b\b\b\b\b\b\r",
            "37/63 [================>.............] - ETA: 0s - loss: 0.1055 - accuracy: 0.9527"
          ]
        },
        {
          "name": "stdout",
          "output_type": "stream",
          "text": [
            "\b\b\b\b\b\b\b\b\b\b\b\b\b\b\b\b\b\b\b\b\b\b\b\b\b\b\b\b\b\b\b\b\b\b\b\b\b\b\b\b\b\b\b\b\b\b\b\b\b\b\b\b\b\b\b\b\b\b\b\b\b\b\b\b\b\b\b\b\b\b\b\b\b\b\b\b\b\b\b\b\b\b\r",
            "39/63 [=================>............] - ETA: 0s - loss: 0.1084 - accuracy: 0.9519"
          ]
        },
        {
          "name": "stdout",
          "output_type": "stream",
          "text": [
            "\b\b\b\b\b\b\b\b\b\b\b\b\b\b\b\b\b\b\b\b\b\b\b\b\b\b\b\b\b\b\b\b\b\b\b\b\b\b\b\b\b\b\b\b\b\b\b\b\b\b\b\b\b\b\b\b\b\b\b\b\b\b\b\b\b\b\b\b\b\b\b\b\b\b\b\b\b\b\b\b\b\b\r",
            "41/63 [==================>...........] - ETA: 0s - loss: 0.1081 - accuracy: 0.9512"
          ]
        },
        {
          "name": "stdout",
          "output_type": "stream",
          "text": [
            "\b\b\b\b\b\b\b\b\b\b\b\b\b\b\b\b\b\b\b\b\b\b\b\b\b\b\b\b\b\b\b\b\b\b\b\b\b\b\b\b\b\b\b\b\b\b\b\b\b\b\b\b\b\b\b\b\b\b\b\b\b\b\b\b\b\b\b\b\b\b\b\b\b\b\b\b\b\b\b\b\b\b\r",
            "43/63 [===================>..........] - ETA: 0s - loss: 0.1074 - accuracy: 0.9513"
          ]
        },
        {
          "name": "stdout",
          "output_type": "stream",
          "text": [
            "\b\b\b\b\b\b\b\b\b\b\b\b\b\b\b\b\b\b\b\b\b\b\b\b\b\b\b\b\b\b\b\b\b\b\b\b\b\b\b\b\b\b\b\b\b\b\b\b\b\b\b\b\b\b\b\b\b\b\b\b\b\b\b\b\b\b\b\b\b\b\b\b\b\b\b\b\b\b\b\b\b\b\r",
            "45/63 [====================>.........] - ETA: 0s - loss: 0.1138 - accuracy: 0.9500"
          ]
        },
        {
          "name": "stdout",
          "output_type": "stream",
          "text": [
            "\b\b\b\b\b\b\b\b\b\b\b\b\b\b\b\b\b\b\b\b\b\b\b\b\b\b\b\b\b\b\b\b\b\b\b\b\b\b\b\b\b\b\b\b\b\b\b\b\b\b\b\b\b\b\b\b\b\b\b\b\b\b\b\b\b\b\b\b\b\b\b\b\b\b\b\b\b\b\b\b\b\b\r",
            "47/63 [=====================>........] - ETA: 0s - loss: 0.1132 - accuracy: 0.9508"
          ]
        },
        {
          "name": "stdout",
          "output_type": "stream",
          "text": [
            "\b\b\b\b\b\b\b\b\b\b\b\b\b\b\b\b\b\b\b\b\b\b\b\b\b\b\b\b\b\b\b\b\b\b\b\b\b\b\b\b\b\b\b\b\b\b\b\b\b\b\b\b\b\b\b\b\b\b\b\b\b\b\b\b\b\b\b\b\b\b\b\b\b\b\b\b\b\b\b\b\b\b\r",
            "49/63 [======================>.......] - ETA: 0s - loss: 0.1104 - accuracy: 0.9528"
          ]
        },
        {
          "name": "stdout",
          "output_type": "stream",
          "text": [
            "\b\b\b\b\b\b\b\b\b\b\b\b\b\b\b\b\b\b\b\b\b\b\b\b\b\b\b\b\b\b\b\b\b\b\b\b\b\b\b\b\b\b\b\b\b\b\b\b\b\b\b\b\b\b\b\b\b\b\b\b\b\b\b\b\b\b\b\b\b\b\b\b\b\b\b\b\b\b\b\b\b\b\r",
            "51/63 [=======================>......] - ETA: 0s - loss: 0.1104 - accuracy: 0.9528"
          ]
        },
        {
          "name": "stdout",
          "output_type": "stream",
          "text": [
            "\b\b\b\b\b\b\b\b\b\b\b\b\b\b\b\b\b\b\b\b\b\b\b\b\b\b\b\b\b\b\b\b\b\b\b\b\b\b\b\b\b\b\b\b\b\b\b\b\b\b\b\b\b\b\b\b\b\b\b\b\b\b\b\b\b\b\b\b\b\b\b\b\b\b\b\b\b\b\b\b\b\b\r",
            "53/63 [========================>.....] - ETA: 0s - loss: 0.1108 - accuracy: 0.9528"
          ]
        },
        {
          "name": "stdout",
          "output_type": "stream",
          "text": [
            "\b\b\b\b\b\b\b\b\b\b\b\b\b\b\b\b\b\b\b\b\b\b\b\b\b\b\b\b\b\b\b\b\b\b\b\b\b\b\b\b\b\b\b\b\b\b\b\b\b\b\b\b\b\b\b\b\b\b\b\b\b\b\b\b\b\b\b\b\b\b\b\b\b\b\b\b\b\b\b\b\b\b\r",
            "55/63 [=========================>....] - ETA: 0s - loss: 0.1097 - accuracy: 0.9528"
          ]
        },
        {
          "name": "stdout",
          "output_type": "stream",
          "text": [
            "\b\b\b\b\b\b\b\b\b\b\b\b\b\b\b\b\b\b\b\b\b\b\b\b\b\b\b\b\b\b\b\b\b\b\b\b\b\b\b\b\b\b\b\b\b\b\b\b\b\b\b\b\b\b\b\b\b\b\b\b\b\b\b\b\b\b\b\b\b\b\b\b\b\b\b\b\b\b\b\b\b\b\r",
            "57/63 [==========================>...] - ETA: 0s - loss: 0.1103 - accuracy: 0.9529"
          ]
        },
        {
          "name": "stdout",
          "output_type": "stream",
          "text": [
            "\b\b\b\b\b\b\b\b\b\b\b\b\b\b\b\b\b\b\b\b\b\b\b\b\b\b\b\b\b\b\b\b\b\b\b\b\b\b\b\b\b\b\b\b\b\b\b\b\b\b\b\b\b\b\b\b\b\b\b\b\b\b\b\b\b\b\b\b\b\b\b\b\b\b\b\b\b\b\b\b\b\b\r",
            "59/63 [===========================>..] - ETA: 0s - loss: 0.1074 - accuracy: 0.9544"
          ]
        },
        {
          "name": "stdout",
          "output_type": "stream",
          "text": [
            "\b\b\b\b\b\b\b\b\b\b\b\b\b\b\b\b\b\b\b\b\b\b\b\b\b\b\b\b\b\b\b\b\b\b\b\b\b\b\b\b\b\b\b\b\b\b\b\b\b\b\b\b\b\b\b\b\b\b\b\b\b\b\b\b\b\b\b\b\b\b\b\b\b\b\b\b\b\b\b\b\b\b\r",
            "61/63 [============================>.] - ETA: 0s - loss: 0.1064 - accuracy: 0.9549"
          ]
        },
        {
          "name": "stdout",
          "output_type": "stream",
          "text": [
            "\b\b\b\b\b\b\b\b\b\b\b\b\b\b\b\b\b\b\b\b\b\b\b\b\b\b\b\b\b\b\b\b\b\b\b\b\b\b\b\b\b\b\b\b\b\b\b\b\b\b\b\b\b\b\b\b\b\b\b\b\b\b\b\b\b\b\b\b\b\b\b\b\b\b\b\b\b\b\b\b\b\b\r",
            "63/63 [==============================] - ETA: 0s - loss: 0.1057 - accuracy: 0.9550"
          ]
        },
        {
          "name": "stdout",
          "output_type": "stream",
          "text": [
            "\b\b\b\b\b\b\b\b\b\b\b\b\b\b\b\b\b\b\b\b\b\b\b\b\b\b\b\b\b\b\b\b\b\b\b\b\b\b\b\b\b\b\b\b\b\b\b\b\b\b\b\b\b\b\b\b\b\b\b\b\b\b\b\b\b\b\b\b\b\b\b\b\b\b\b\b\b\b\b\b\b\b\r",
            "63/63 [==============================] - 3s 44ms/step - loss: 0.1057 - accuracy: 0.9550 - val_loss: 0.0409 - val_accuracy: 0.9851\n"
          ]
        },
        {
          "name": "stdout",
          "output_type": "stream",
          "text": [
            "Epoch 13/20\n"
          ]
        },
        {
          "name": "stdout",
          "output_type": "stream",
          "text": [
            "\r",
            " 1/63 [..............................] - ETA: 3s - loss: 0.0211 - accuracy: 1.0000"
          ]
        },
        {
          "name": "stdout",
          "output_type": "stream",
          "text": [
            "\b\b\b\b\b\b\b\b\b\b\b\b\b\b\b\b\b\b\b\b\b\b\b\b\b\b\b\b\b\b\b\b\b\b\b\b\b\b\b\b\b\b\b\b\b\b\b\b\b\b\b\b\b\b\b\b\b\b\b\b\b\b\b\b\b\b\b\b\b\b\b\b\b\b\b\b\b\b\b\b\b\b\r",
            " 3/63 [>.............................] - ETA: 2s - loss: 0.0759 - accuracy: 0.9896"
          ]
        },
        {
          "name": "stdout",
          "output_type": "stream",
          "text": [
            "\b\b\b\b\b\b\b\b\b\b\b\b\b\b\b\b\b\b\b\b\b\b\b\b\b\b\b\b\b\b\b\b\b\b\b\b\b\b\b\b\b\b\b\b\b\b\b\b\b\b\b\b\b\b\b\b\b\b\b\b\b\b\b\b\b\b\b\b\b\b\b\b\b\b\b\b\b\b\b\b\b\b\r",
            " 5/63 [=>............................] - ETA: 2s - loss: 0.0548 - accuracy: 0.9937"
          ]
        },
        {
          "name": "stdout",
          "output_type": "stream",
          "text": [
            "\b\b\b\b\b\b\b\b\b\b\b\b\b\b\b\b\b\b\b\b\b\b\b\b\b\b\b\b\b\b\b\b\b\b\b\b\b\b\b\b\b\b\b\b\b\b\b\b\b\b\b\b\b\b\b\b\b\b\b\b\b\b\b\b\b\b\b\b\b\b\b\b\b\b\b\b\b\b\b\b\b\b\r",
            " 7/63 [==>...........................] - ETA: 2s - loss: 0.0544 - accuracy: 0.9911"
          ]
        },
        {
          "name": "stdout",
          "output_type": "stream",
          "text": [
            "\b\b\b\b\b\b\b\b\b\b\b\b\b\b\b\b\b\b\b\b\b\b\b\b\b\b\b\b\b\b\b\b\b\b\b\b\b\b\b\b\b\b\b\b\b\b\b\b\b\b\b\b\b\b\b\b\b\b\b\b\b\b\b\b\b\b\b\b\b\b\b\b\b\b\b\b\b\b\b\b\b\b\r",
            " 9/63 [===>..........................] - ETA: 1s - loss: 0.0655 - accuracy: 0.9757"
          ]
        },
        {
          "name": "stdout",
          "output_type": "stream",
          "text": [
            "\b\b\b\b\b\b\b\b\b\b\b\b\b\b\b\b\b\b\b\b\b\b\b\b\b\b\b\b\b\b\b\b\b\b\b\b\b\b\b\b\b\b\b\b\b\b\b\b\b\b\b\b\b\b\b\b\b\b\b\b\b\b\b\b\b\b\b\b\b\b\b\b\b\b\b\b\b\b\b\b\b\b\r",
            "11/63 [====>.........................] - ETA: 1s - loss: 0.0766 - accuracy: 0.9688"
          ]
        },
        {
          "name": "stdout",
          "output_type": "stream",
          "text": [
            "\b\b\b\b\b\b\b\b\b\b\b\b\b\b\b\b\b\b\b\b\b\b\b\b\b\b\b\b\b\b\b\b\b\b\b\b\b\b\b\b\b\b\b\b\b\b\b\b\b\b\b\b\b\b\b\b\b\b\b\b\b\b\b\b\b\b\b\b\b\b\b\b\b\b\b\b\b\b\b\b\b\b\r",
            "13/63 [=====>........................] - ETA: 1s - loss: 0.0946 - accuracy: 0.9639"
          ]
        },
        {
          "name": "stdout",
          "output_type": "stream",
          "text": [
            "\b\b\b\b\b\b\b\b\b\b\b\b\b\b\b\b\b\b\b\b\b\b\b\b\b\b\b\b\b\b\b\b\b\b\b\b\b\b\b\b\b\b\b\b\b\b\b\b\b\b\b\b\b\b\b\b\b\b\b\b\b\b\b\b\b\b\b\b\b\b\b\b\b\b\b\b\b\b\b\b\b\b\r",
            "15/63 [======>.......................] - ETA: 1s - loss: 0.0983 - accuracy: 0.9604"
          ]
        },
        {
          "name": "stdout",
          "output_type": "stream",
          "text": [
            "\b\b\b\b\b\b\b\b\b\b\b\b\b\b\b\b\b\b\b\b\b\b\b\b\b\b\b\b\b\b\b\b\b\b\b\b\b\b\b\b\b\b\b\b\b\b\b\b\b\b\b\b\b\b\b\b\b\b\b\b\b\b\b\b\b\b\b\b\b\b\b\b\b\b\b\b\b\b\b\b\b\b\r",
            "17/63 [=======>......................] - ETA: 1s - loss: 0.0917 - accuracy: 0.9632"
          ]
        },
        {
          "name": "stdout",
          "output_type": "stream",
          "text": [
            "\b\b\b\b\b\b\b\b\b\b\b\b\b\b\b\b\b\b\b\b\b\b\b\b\b\b\b\b\b\b\b\b\b\b\b\b\b\b\b\b\b\b\b\b\b\b\b\b\b\b\b\b\b\b\b\b\b\b\b\b\b\b\b\b\b\b\b\b\b\b\b\b\b\b\b\b\b\b\b\b\b\b\r",
            "19/63 [========>.....................] - ETA: 1s - loss: 0.0874 - accuracy: 0.9671"
          ]
        },
        {
          "name": "stdout",
          "output_type": "stream",
          "text": [
            "\b\b\b\b\b\b\b\b\b\b\b\b\b\b\b\b\b\b\b\b\b\b\b\b\b\b\b\b\b\b\b\b\b\b\b\b\b\b\b\b\b\b\b\b\b\b\b\b\b\b\b\b\b\b\b\b\b\b\b\b\b\b\b\b\b\b\b\b\b\b\b\b\b\b\b\b\b\b\b\b\b\b\r",
            "21/63 [=========>....................] - ETA: 1s - loss: 0.0905 - accuracy: 0.9658"
          ]
        },
        {
          "name": "stdout",
          "output_type": "stream",
          "text": [
            "\b\b\b\b\b\b\b\b\b\b\b\b\b\b\b\b\b\b\b\b\b\b\b\b\b\b\b\b\b\b\b\b\b\b\b\b\b\b\b\b\b\b\b\b\b\b\b\b\b\b\b\b\b\b\b\b\b\b\b\b\b\b\b\b\b\b\b\b\b\b\b\b\b\b\b\b\b\b\b\b\b\b\r",
            "23/63 [=========>....................] - ETA: 1s - loss: 0.1025 - accuracy: 0.9633"
          ]
        },
        {
          "name": "stdout",
          "output_type": "stream",
          "text": [
            "\b\b\b\b\b\b\b\b\b\b\b\b\b\b\b\b\b\b\b\b\b\b\b\b\b\b\b\b\b\b\b\b\b\b\b\b\b\b\b\b\b\b\b\b\b\b\b\b\b\b\b\b\b\b\b\b\b\b\b\b\b\b\b\b\b\b\b\b\b\b\b\b\b\b\b\b\b\b\b\b\b\b\r",
            "25/63 [==========>...................] - ETA: 1s - loss: 0.1041 - accuracy: 0.9625"
          ]
        },
        {
          "name": "stdout",
          "output_type": "stream",
          "text": [
            "\b\b\b\b\b\b\b\b\b\b\b\b\b\b\b\b\b\b\b\b\b\b\b\b\b\b\b\b\b\b\b\b\b\b\b\b\b\b\b\b\b\b\b\b\b\b\b\b\b\b\b\b\b\b\b\b\b\b\b\b\b\b\b\b\b\b\b\b\b\b\b\b\b\b\b\b\b\b\b\b\b\b\r",
            "27/63 [===========>..................] - ETA: 1s - loss: 0.1005 - accuracy: 0.9618"
          ]
        },
        {
          "name": "stdout",
          "output_type": "stream",
          "text": [
            "\b\b\b\b\b\b\b\b\b\b\b\b\b\b\b\b\b\b\b\b\b\b\b\b\b\b\b\b\b\b\b\b\b\b\b\b\b\b\b\b\b\b\b\b\b\b\b\b\b\b\b\b\b\b\b\b\b\b\b\b\b\b\b\b\b\b\b\b\b\b\b\b\b\b\b\b\b\b\b\b\b\b\r",
            "29/63 [============>.................] - ETA: 1s - loss: 0.1018 - accuracy: 0.9612"
          ]
        },
        {
          "name": "stdout",
          "output_type": "stream",
          "text": [
            "\b\b\b\b\b\b\b\b\b\b\b\b\b\b\b\b\b\b\b\b\b\b\b\b\b\b\b\b\b\b\b\b\b\b\b\b\b\b\b\b\b\b\b\b\b\b\b\b\b\b\b\b\b\b\b\b\b\b\b\b\b\b\b\b\b\b\b\b\b\b\b\b\b\b\b\b\b\b\b\b\b\b\r",
            "31/63 [=============>................] - ETA: 1s - loss: 0.0983 - accuracy: 0.9617"
          ]
        },
        {
          "name": "stdout",
          "output_type": "stream",
          "text": [
            "\b\b\b\b\b\b\b\b\b\b\b\b\b\b\b\b\b\b\b\b\b\b\b\b\b\b\b\b\b\b\b\b\b\b\b\b\b\b\b\b\b\b\b\b\b\b\b\b\b\b\b\b\b\b\b\b\b\b\b\b\b\b\b\b\b\b\b\b\b\b\b\b\b\b\b\b\b\b\b\b\b\b\r",
            "33/63 [==============>...............] - ETA: 1s - loss: 0.0957 - accuracy: 0.9631"
          ]
        },
        {
          "name": "stdout",
          "output_type": "stream",
          "text": [
            "\b\b\b\b\b\b\b\b\b\b\b\b\b\b\b\b\b\b\b\b\b\b\b\b\b\b\b\b\b\b\b\b\b\b\b\b\b\b\b\b\b\b\b\b\b\b\b\b\b\b\b\b\b\b\b\b\b\b\b\b\b\b\b\b\b\b\b\b\b\b\b\b\b\b\b\b\b\b\b\b\b\b\r",
            "35/63 [===============>..............] - ETA: 1s - loss: 0.0961 - accuracy: 0.9625"
          ]
        },
        {
          "name": "stdout",
          "output_type": "stream",
          "text": [
            "\b\b\b\b\b\b\b\b\b\b\b\b\b\b\b\b\b\b\b\b\b\b\b\b\b\b\b\b\b\b\b\b\b\b\b\b\b\b\b\b\b\b\b\b\b\b\b\b\b\b\b\b\b\b\b\b\b\b\b\b\b\b\b\b\b\b\b\b\b\b\b\b\b\b\b\b\b\b\b\b\b\b\r",
            "37/63 [================>.............] - ETA: 0s - loss: 0.0959 - accuracy: 0.9620"
          ]
        },
        {
          "name": "stdout",
          "output_type": "stream",
          "text": [
            "\b\b\b\b\b\b\b\b\b\b\b\b\b\b\b\b\b\b\b\b\b\b\b\b\b\b\b\b\b\b\b\b\b\b\b\b\b\b\b\b\b\b\b\b\b\b\b\b\b\b\b\b\b\b\b\b\b\b\b\b\b\b\b\b\b\b\b\b\b\b\b\b\b\b\b\b\b\b\b\b\b\b\r",
            "39/63 [=================>............] - ETA: 0s - loss: 0.1005 - accuracy: 0.9607"
          ]
        },
        {
          "name": "stdout",
          "output_type": "stream",
          "text": [
            "\b\b\b\b\b\b\b\b\b\b\b\b\b\b\b\b\b\b\b\b\b\b\b\b\b\b\b\b\b\b\b\b\b\b\b\b\b\b\b\b\b\b\b\b\b\b\b\b\b\b\b\b\b\b\b\b\b\b\b\b\b\b\b\b\b\b\b\b\b\b\b\b\b\b\b\b\b\b\b\b\b\b\r",
            "41/63 [==================>...........] - ETA: 0s - loss: 0.0998 - accuracy: 0.9611"
          ]
        },
        {
          "name": "stdout",
          "output_type": "stream",
          "text": [
            "\b\b\b\b\b\b\b\b\b\b\b\b\b\b\b\b\b\b\b\b\b\b\b\b\b\b\b\b\b\b\b\b\b\b\b\b\b\b\b\b\b\b\b\b\b\b\b\b\b\b\b\b\b\b\b\b\b\b\b\b\b\b\b\b\b\b\b\b\b\b\b\b\b\b\b\b\b\b\b\b\b\b\r",
            "43/63 [===================>..........] - ETA: 0s - loss: 0.1003 - accuracy: 0.9608"
          ]
        },
        {
          "name": "stdout",
          "output_type": "stream",
          "text": [
            "\b\b\b\b\b\b\b\b\b\b\b\b\b\b\b\b\b\b\b\b\b\b\b\b\b\b\b\b\b\b\b\b\b\b\b\b\b\b\b\b\b\b\b\b\b\b\b\b\b\b\b\b\b\b\b\b\b\b\b\b\b\b\b\b\b\b\b\b\b\b\b\b\b\b\b\b\b\b\b\b\b\b\r",
            "45/63 [====================>.........] - ETA: 0s - loss: 0.0996 - accuracy: 0.9604"
          ]
        },
        {
          "name": "stdout",
          "output_type": "stream",
          "text": [
            "\b\b\b\b\b\b\b\b\b\b\b\b\b\b\b\b\b\b\b\b\b\b\b\b\b\b\b\b\b\b\b\b\b\b\b\b\b\b\b\b\b\b\b\b\b\b\b\b\b\b\b\b\b\b\b\b\b\b\b\b\b\b\b\b\b\b\b\b\b\b\b\b\b\b\b\b\b\b\b\b\b\b\r",
            "47/63 [=====================>........] - ETA: 0s - loss: 0.0972 - accuracy: 0.9614"
          ]
        },
        {
          "name": "stdout",
          "output_type": "stream",
          "text": [
            "\b\b\b\b\b\b\b\b\b\b\b\b\b\b\b\b\b\b\b\b\b\b\b\b\b\b\b\b\b\b\b\b\b\b\b\b\b\b\b\b\b\b\b\b\b\b\b\b\b\b\b\b\b\b\b\b\b\b\b\b\b\b\b\b\b\b\b\b\b\b\b\b\b\b\b\b\b\b\b\b\b\b\r",
            "49/63 [======================>.......] - ETA: 0s - loss: 0.0956 - accuracy: 0.9624"
          ]
        },
        {
          "name": "stdout",
          "output_type": "stream",
          "text": [
            "\b\b\b\b\b\b\b\b\b\b\b\b\b\b\b\b\b\b\b\b\b\b\b\b\b\b\b\b\b\b\b\b\b\b\b\b\b\b\b\b\b\b\b\b\b\b\b\b\b\b\b\b\b\b\b\b\b\b\b\b\b\b\b\b\b\b\b\b\b\b\b\b\b\b\b\b\b\b\b\b\b\b\r",
            "51/63 [=======================>......] - ETA: 0s - loss: 0.0962 - accuracy: 0.9620"
          ]
        },
        {
          "name": "stdout",
          "output_type": "stream",
          "text": [
            "\b\b\b\b\b\b\b\b\b\b\b\b\b\b\b\b\b\b\b\b\b\b\b\b\b\b\b\b\b\b\b\b\b\b\b\b\b\b\b\b\b\b\b\b\b\b\b\b\b\b\b\b\b\b\b\b\b\b\b\b\b\b\b\b\b\b\b\b\b\b\b\b\b\b\b\b\b\b\b\b\b\b\r",
            "53/63 [========================>.....] - ETA: 0s - loss: 0.0960 - accuracy: 0.9623"
          ]
        },
        {
          "name": "stdout",
          "output_type": "stream",
          "text": [
            "\b\b\b\b\b\b\b\b\b\b\b\b\b\b\b\b\b\b\b\b\b\b\b\b\b\b\b\b\b\b\b\b\b\b\b\b\b\b\b\b\b\b\b\b\b\b\b\b\b\b\b\b\b\b\b\b\b\b\b\b\b\b\b\b\b\b\b\b\b\b\b\b\b\b\b\b\b\b\b\b\b\b\r",
            "55/63 [=========================>....] - ETA: 0s - loss: 0.0967 - accuracy: 0.9608"
          ]
        },
        {
          "name": "stdout",
          "output_type": "stream",
          "text": [
            "\b\b\b\b\b\b\b\b\b\b\b\b\b\b\b\b\b\b\b\b\b\b\b\b\b\b\b\b\b\b\b\b\b\b\b\b\b\b\b\b\b\b\b\b\b\b\b\b\b\b\b\b\b\b\b\b\b\b\b\b\b\b\b\b\b\b\b\b\b\b\b\b\b\b\b\b\b\b\b\b\b\b\r",
            "57/63 [==========================>...] - ETA: 0s - loss: 0.0952 - accuracy: 0.9616"
          ]
        },
        {
          "name": "stdout",
          "output_type": "stream",
          "text": [
            "\b\b\b\b\b\b\b\b\b\b\b\b\b\b\b\b\b\b\b\b\b\b\b\b\b\b\b\b\b\b\b\b\b\b\b\b\b\b\b\b\b\b\b\b\b\b\b\b\b\b\b\b\b\b\b\b\b\b\b\b\b\b\b\b\b\b\b\b\b\b\b\b\b\b\b\b\b\b\b\b\b\b\r",
            "59/63 [===========================>..] - ETA: 0s - loss: 0.0938 - accuracy: 0.9624"
          ]
        },
        {
          "name": "stdout",
          "output_type": "stream",
          "text": [
            "\b\b\b\b\b\b\b\b\b\b\b\b\b\b\b\b\b\b\b\b\b\b\b\b\b\b\b\b\b\b\b\b\b\b\b\b\b\b\b\b\b\b\b\b\b\b\b\b\b\b\b\b\b\b\b\b\b\b\b\b\b\b\b\b\b\b\b\b\b\b\b\b\b\b\b\b\b\b\b\b\b\b\r",
            "61/63 [============================>.] - ETA: 0s - loss: 0.0925 - accuracy: 0.9631"
          ]
        },
        {
          "name": "stdout",
          "output_type": "stream",
          "text": [
            "\b\b\b\b\b\b\b\b\b\b\b\b\b\b\b\b\b\b\b\b\b\b\b\b\b\b\b\b\b\b\b\b\b\b\b\b\b\b\b\b\b\b\b\b\b\b\b\b\b\b\b\b\b\b\b\b\b\b\b\b\b\b\b\b\b\b\b\b\b\b\b\b\b\b\b\b\b\b\b\b\b\b\r",
            "63/63 [==============================] - ETA: 0s - loss: 0.0935 - accuracy: 0.9620"
          ]
        },
        {
          "name": "stdout",
          "output_type": "stream",
          "text": [
            "\b\b\b\b\b\b\b\b\b\b\b\b\b\b\b\b\b\b\b\b\b\b\b\b\b\b\b\b\b\b\b\b\b\b\b\b\b\b\b\b\b\b\b\b\b\b\b\b\b\b\b\b\b\b\b\b\b\b\b\b\b\b\b\b\b\b\b\b\b\b\b\b\b\b\b\b\b\b\b\b\b\b\r",
            "63/63 [==============================] - 3s 44ms/step - loss: 0.0935 - accuracy: 0.9620 - val_loss: 0.0361 - val_accuracy: 0.9889\n"
          ]
        },
        {
          "name": "stdout",
          "output_type": "stream",
          "text": [
            "Epoch 14/20\n"
          ]
        },
        {
          "name": "stdout",
          "output_type": "stream",
          "text": [
            "\r",
            " 1/63 [..............................] - ETA: 3s - loss: 0.0125 - accuracy: 1.0000"
          ]
        },
        {
          "name": "stdout",
          "output_type": "stream",
          "text": [
            "\b\b\b\b\b\b\b\b\b\b\b\b\b\b\b\b\b\b\b\b\b\b\b\b\b\b\b\b\b\b\b\b\b\b\b\b\b\b\b\b\b\b\b\b\b\b\b\b\b\b\b\b\b\b\b\b\b\b\b\b\b\b\b\b\b\b\b\b\b\b\b\b\b\b\b\b\b\b\b\b\b\b\r",
            " 3/63 [>.............................] - ETA: 2s - loss: 0.1178 - accuracy: 0.9583"
          ]
        },
        {
          "name": "stdout",
          "output_type": "stream",
          "text": [
            "\b\b\b\b\b\b\b\b\b\b\b\b\b\b\b\b\b\b\b\b\b\b\b\b\b\b\b\b\b\b\b\b\b\b\b\b\b\b\b\b\b\b\b\b\b\b\b\b\b\b\b\b\b\b\b\b\b\b\b\b\b\b\b\b\b\b\b\b\b\b\b\b\b\b\b\b\b\b\b\b\b\b\r",
            " 5/63 [=>............................] - ETA: 2s - loss: 0.0967 - accuracy: 0.9625"
          ]
        },
        {
          "name": "stdout",
          "output_type": "stream",
          "text": [
            "\b\b\b\b\b\b\b\b\b\b\b\b\b\b\b\b\b\b\b\b\b\b\b\b\b\b\b\b\b\b\b\b\b\b\b\b\b\b\b\b\b\b\b\b\b\b\b\b\b\b\b\b\b\b\b\b\b\b\b\b\b\b\b\b\b\b\b\b\b\b\b\b\b\b\b\b\b\b\b\b\b\b\r",
            " 7/63 [==>...........................] - ETA: 2s - loss: 0.0823 - accuracy: 0.9688"
          ]
        },
        {
          "name": "stdout",
          "output_type": "stream",
          "text": [
            "\b\b\b\b\b\b\b\b\b\b\b\b\b\b\b\b\b\b\b\b\b\b\b\b\b\b\b\b\b\b\b\b\b\b\b\b\b\b\b\b\b\b\b\b\b\b\b\b\b\b\b\b\b\b\b\b\b\b\b\b\b\b\b\b\b\b\b\b\b\b\b\b\b\b\b\b\b\b\b\b\b\b\r",
            " 9/63 [===>..........................] - ETA: 1s - loss: 0.0713 - accuracy: 0.9757"
          ]
        },
        {
          "name": "stdout",
          "output_type": "stream",
          "text": [
            "\b\b\b\b\b\b\b\b\b\b\b\b\b\b\b\b\b\b\b\b\b\b\b\b\b\b\b\b\b\b\b\b\b\b\b\b\b\b\b\b\b\b\b\b\b\b\b\b\b\b\b\b\b\b\b\b\b\b\b\b\b\b\b\b\b\b\b\b\b\b\b\b\b\b\b\b\b\b\b\b\b\b\r",
            "11/63 [====>.........................] - ETA: 1s - loss: 0.0827 - accuracy: 0.9716"
          ]
        },
        {
          "name": "stdout",
          "output_type": "stream",
          "text": [
            "\b\b\b\b\b\b\b\b\b\b\b\b\b\b\b\b\b\b\b\b\b\b\b\b\b\b\b\b\b\b\b\b\b\b\b\b\b\b\b\b\b\b\b\b\b\b\b\b\b\b\b\b\b\b\b\b\b\b\b\b\b\b\b\b\b\b\b\b\b\b\b\b\b\b\b\b\b\b\b\b\b\b\r",
            "13/63 [=====>........................] - ETA: 1s - loss: 0.0840 - accuracy: 0.9688"
          ]
        },
        {
          "name": "stdout",
          "output_type": "stream",
          "text": [
            "\b\b\b\b\b\b\b\b\b\b\b\b\b\b\b\b\b\b\b\b\b\b\b\b\b\b\b\b\b\b\b\b\b\b\b\b\b\b\b\b\b\b\b\b\b\b\b\b\b\b\b\b\b\b\b\b\b\b\b\b\b\b\b\b\b\b\b\b\b\b\b\b\b\b\b\b\b\b\b\b\b\b\r",
            "15/63 [======>.......................] - ETA: 1s - loss: 0.0947 - accuracy: 0.9667"
          ]
        },
        {
          "name": "stdout",
          "output_type": "stream",
          "text": [
            "\b\b\b\b\b\b\b\b\b\b\b\b\b\b\b\b\b\b\b\b\b\b\b\b\b\b\b\b\b\b\b\b\b\b\b\b\b\b\b\b\b\b\b\b\b\b\b\b\b\b\b\b\b\b\b\b\b\b\b\b\b\b\b\b\b\b\b\b\b\b\b\b\b\b\b\b\b\b\b\b\b\b\r",
            "17/63 [=======>......................] - ETA: 1s - loss: 0.0987 - accuracy: 0.9669"
          ]
        },
        {
          "name": "stdout",
          "output_type": "stream",
          "text": [
            "\b\b\b\b\b\b\b\b\b\b\b\b\b\b\b\b\b\b\b\b\b\b\b\b\b\b\b\b\b\b\b\b\b\b\b\b\b\b\b\b\b\b\b\b\b\b\b\b\b\b\b\b\b\b\b\b\b\b\b\b\b\b\b\b\b\b\b\b\b\b\b\b\b\b\b\b\b\b\b\b\b\b\r",
            "19/63 [========>.....................] - ETA: 1s - loss: 0.1007 - accuracy: 0.9655"
          ]
        },
        {
          "name": "stdout",
          "output_type": "stream",
          "text": [
            "\b\b\b\b\b\b\b\b\b\b\b\b\b\b\b\b\b\b\b\b\b\b\b\b\b\b\b\b\b\b\b\b\b\b\b\b\b\b\b\b\b\b\b\b\b\b\b\b\b\b\b\b\b\b\b\b\b\b\b\b\b\b\b\b\b\b\b\b\b\b\b\b\b\b\b\b\b\b\b\b\b\b\r",
            "21/63 [=========>....................] - ETA: 1s - loss: 0.1050 - accuracy: 0.9628"
          ]
        },
        {
          "name": "stdout",
          "output_type": "stream",
          "text": [
            "\b\b\b\b\b\b\b\b\b\b\b\b\b\b\b\b\b\b\b\b\b\b\b\b\b\b\b\b\b\b\b\b\b\b\b\b\b\b\b\b\b\b\b\b\b\b\b\b\b\b\b\b\b\b\b\b\b\b\b\b\b\b\b\b\b\b\b\b\b\b\b\b\b\b\b\b\b\b\b\b\b\b\r",
            "23/63 [=========>....................] - ETA: 1s - loss: 0.0987 - accuracy: 0.9647"
          ]
        },
        {
          "name": "stdout",
          "output_type": "stream",
          "text": [
            "\b\b\b\b\b\b\b\b\b\b\b\b\b\b\b\b\b\b\b\b\b\b\b\b\b\b\b\b\b\b\b\b\b\b\b\b\b\b\b\b\b\b\b\b\b\b\b\b\b\b\b\b\b\b\b\b\b\b\b\b\b\b\b\b\b\b\b\b\b\b\b\b\b\b\b\b\b\b\b\b\b\b\r",
            "25/63 [==========>...................] - ETA: 1s - loss: 0.0999 - accuracy: 0.9638"
          ]
        },
        {
          "name": "stdout",
          "output_type": "stream",
          "text": [
            "\b\b\b\b\b\b\b\b\b\b\b\b\b\b\b\b\b\b\b\b\b\b\b\b\b\b\b\b\b\b\b\b\b\b\b\b\b\b\b\b\b\b\b\b\b\b\b\b\b\b\b\b\b\b\b\b\b\b\b\b\b\b\b\b\b\b\b\b\b\b\b\b\b\b\b\b\b\b\b\b\b\b\r",
            "27/63 [===========>..................] - ETA: 1s - loss: 0.0978 - accuracy: 0.9641"
          ]
        },
        {
          "name": "stdout",
          "output_type": "stream",
          "text": [
            "\b\b\b\b\b\b\b\b\b\b\b\b\b\b\b\b\b\b\b\b\b\b\b\b\b\b\b\b\b\b\b\b\b\b\b\b\b\b\b\b\b\b\b\b\b\b\b\b\b\b\b\b\b\b\b\b\b\b\b\b\b\b\b\b\b\b\b\b\b\b\b\b\b\b\b\b\b\b\b\b\b\b\r",
            "29/63 [============>.................] - ETA: 1s - loss: 0.0956 - accuracy: 0.9644"
          ]
        },
        {
          "name": "stdout",
          "output_type": "stream",
          "text": [
            "\b\b\b\b\b\b\b\b\b\b\b\b\b\b\b\b\b\b\b\b\b\b\b\b\b\b\b\b\b\b\b\b\b\b\b\b\b\b\b\b\b\b\b\b\b\b\b\b\b\b\b\b\b\b\b\b\b\b\b\b\b\b\b\b\b\b\b\b\b\b\b\b\b\b\b\b\b\b\b\b\b\b\r",
            "31/63 [=============>................] - ETA: 1s - loss: 0.0957 - accuracy: 0.9657"
          ]
        },
        {
          "name": "stdout",
          "output_type": "stream",
          "text": [
            "\b\b\b\b\b\b\b\b\b\b\b\b\b\b\b\b\b\b\b\b\b\b\b\b\b\b\b\b\b\b\b\b\b\b\b\b\b\b\b\b\b\b\b\b\b\b\b\b\b\b\b\b\b\b\b\b\b\b\b\b\b\b\b\b\b\b\b\b\b\b\b\b\b\b\b\b\b\b\b\b\b\b\r",
            "33/63 [==============>...............] - ETA: 1s - loss: 0.0928 - accuracy: 0.9669"
          ]
        },
        {
          "name": "stdout",
          "output_type": "stream",
          "text": [
            "\b\b\b\b\b\b\b\b\b\b\b\b\b\b\b\b\b\b\b\b\b\b\b\b\b\b\b\b\b\b\b\b\b\b\b\b\b\b\b\b\b\b\b\b\b\b\b\b\b\b\b\b\b\b\b\b\b\b\b\b\b\b\b\b\b\b\b\b\b\b\b\b\b\b\b\b\b\b\b\b\b\b\r",
            "35/63 [===============>..............] - ETA: 1s - loss: 0.0950 - accuracy: 0.9643"
          ]
        },
        {
          "name": "stdout",
          "output_type": "stream",
          "text": [
            "\b\b\b\b\b\b\b\b\b\b\b\b\b\b\b\b\b\b\b\b\b\b\b\b\b\b\b\b\b\b\b\b\b\b\b\b\b\b\b\b\b\b\b\b\b\b\b\b\b\b\b\b\b\b\b\b\b\b\b\b\b\b\b\b\b\b\b\b\b\b\b\b\b\b\b\b\b\b\b\b\b\b\r",
            "37/63 [================>.............] - ETA: 0s - loss: 0.0924 - accuracy: 0.9654"
          ]
        },
        {
          "name": "stdout",
          "output_type": "stream",
          "text": [
            "\b\b\b\b\b\b\b\b\b\b\b\b\b\b\b\b\b\b\b\b\b\b\b\b\b\b\b\b\b\b\b\b\b\b\b\b\b\b\b\b\b\b\b\b\b\b\b\b\b\b\b\b\b\b\b\b\b\b\b\b\b\b\b\b\b\b\b\b\b\b\b\b\b\b\b\b\b\b\b\b\b\b\r",
            "39/63 [=================>............] - ETA: 0s - loss: 0.0924 - accuracy: 0.9647"
          ]
        },
        {
          "name": "stdout",
          "output_type": "stream",
          "text": [
            "\b\b\b\b\b\b\b\b\b\b\b\b\b\b\b\b\b\b\b\b\b\b\b\b\b\b\b\b\b\b\b\b\b\b\b\b\b\b\b\b\b\b\b\b\b\b\b\b\b\b\b\b\b\b\b\b\b\b\b\b\b\b\b\b\b\b\b\b\b\b\b\b\b\b\b\b\b\b\b\b\b\b\r",
            "41/63 [==================>...........] - ETA: 0s - loss: 0.0931 - accuracy: 0.9649"
          ]
        },
        {
          "name": "stdout",
          "output_type": "stream",
          "text": [
            "\b\b\b\b\b\b\b\b\b\b\b\b\b\b\b\b\b\b\b\b\b\b\b\b\b\b\b\b\b\b\b\b\b\b\b\b\b\b\b\b\b\b\b\b\b\b\b\b\b\b\b\b\b\b\b\b\b\b\b\b\b\b\b\b\b\b\b\b\b\b\b\b\b\b\b\b\b\b\b\b\b\b\r",
            "43/63 [===================>..........] - ETA: 0s - loss: 0.0959 - accuracy: 0.9637"
          ]
        },
        {
          "name": "stdout",
          "output_type": "stream",
          "text": [
            "\b\b\b\b\b\b\b\b\b\b\b\b\b\b\b\b\b\b\b\b\b\b\b\b\b\b\b\b\b\b\b\b\b\b\b\b\b\b\b\b\b\b\b\b\b\b\b\b\b\b\b\b\b\b\b\b\b\b\b\b\b\b\b\b\b\b\b\b\b\b\b\b\b\b\b\b\b\b\b\b\b\b\r",
            "45/63 [====================>.........] - ETA: 0s - loss: 0.0963 - accuracy: 0.9632"
          ]
        },
        {
          "name": "stdout",
          "output_type": "stream",
          "text": [
            "\b\b\b\b\b\b\b\b\b\b\b\b\b\b\b\b\b\b\b\b\b\b\b\b\b\b\b\b\b\b\b\b\b\b\b\b\b\b\b\b\b\b\b\b\b\b\b\b\b\b\b\b\b\b\b\b\b\b\b\b\b\b\b\b\b\b\b\b\b\b\b\b\b\b\b\b\b\b\b\b\b\b\r",
            "47/63 [=====================>........] - ETA: 0s - loss: 0.0958 - accuracy: 0.9628"
          ]
        },
        {
          "name": "stdout",
          "output_type": "stream",
          "text": [
            "\b\b\b\b\b\b\b\b\b\b\b\b\b\b\b\b\b\b\b\b\b\b\b\b\b\b\b\b\b\b\b\b\b\b\b\b\b\b\b\b\b\b\b\b\b\b\b\b\b\b\b\b\b\b\b\b\b\b\b\b\b\b\b\b\b\b\b\b\b\b\b\b\b\b\b\b\b\b\b\b\b\b\r",
            "49/63 [======================>.......] - ETA: 0s - loss: 0.0958 - accuracy: 0.9630"
          ]
        },
        {
          "name": "stdout",
          "output_type": "stream",
          "text": [
            "\b\b\b\b\b\b\b\b\b\b\b\b\b\b\b\b\b\b\b\b\b\b\b\b\b\b\b\b\b\b\b\b\b\b\b\b\b\b\b\b\b\b\b\b\b\b\b\b\b\b\b\b\b\b\b\b\b\b\b\b\b\b\b\b\b\b\b\b\b\b\b\b\b\b\b\b\b\b\b\b\b\b\r",
            "51/63 [=======================>......] - ETA: 0s - loss: 0.0962 - accuracy: 0.9614"
          ]
        },
        {
          "name": "stdout",
          "output_type": "stream",
          "text": [
            "\b\b\b\b\b\b\b\b\b\b\b\b\b\b\b\b\b\b\b\b\b\b\b\b\b\b\b\b\b\b\b\b\b\b\b\b\b\b\b\b\b\b\b\b\b\b\b\b\b\b\b\b\b\b\b\b\b\b\b\b\b\b\b\b\b\b\b\b\b\b\b\b\b\b\b\b\b\b\b\b\b\b\r",
            "53/63 [========================>.....] - ETA: 0s - loss: 0.0960 - accuracy: 0.9617"
          ]
        },
        {
          "name": "stdout",
          "output_type": "stream",
          "text": [
            "\b\b\b\b\b\b\b\b\b\b\b\b\b\b\b\b\b\b\b\b\b\b\b\b\b\b\b\b\b\b\b\b\b\b\b\b\b\b\b\b\b\b\b\b\b\b\b\b\b\b\b\b\b\b\b\b\b\b\b\b\b\b\b\b\b\b\b\b\b\b\b\b\b\b\b\b\b\b\b\b\b\b\r",
            "55/63 [=========================>....] - ETA: 0s - loss: 0.0971 - accuracy: 0.9619"
          ]
        },
        {
          "name": "stdout",
          "output_type": "stream",
          "text": [
            "\b\b\b\b\b\b\b\b\b\b\b\b\b\b\b\b\b\b\b\b\b\b\b\b\b\b\b\b\b\b\b\b\b\b\b\b\b\b\b\b\b\b\b\b\b\b\b\b\b\b\b\b\b\b\b\b\b\b\b\b\b\b\b\b\b\b\b\b\b\b\b\b\b\b\b\b\b\b\b\b\b\b\r",
            "57/63 [==========================>...] - ETA: 0s - loss: 0.0945 - accuracy: 0.9633"
          ]
        },
        {
          "name": "stdout",
          "output_type": "stream",
          "text": [
            "\b\b\b\b\b\b\b\b\b\b\b\b\b\b\b\b\b\b\b\b\b\b\b\b\b\b\b\b\b\b\b\b\b\b\b\b\b\b\b\b\b\b\b\b\b\b\b\b\b\b\b\b\b\b\b\b\b\b\b\b\b\b\b\b\b\b\b\b\b\b\b\b\b\b\b\b\b\b\b\b\b\b\r",
            "59/63 [===========================>..] - ETA: 0s - loss: 0.0949 - accuracy: 0.9624"
          ]
        },
        {
          "name": "stdout",
          "output_type": "stream",
          "text": [
            "\b\b\b\b\b\b\b\b\b\b\b\b\b\b\b\b\b\b\b\b\b\b\b\b\b\b\b\b\b\b\b\b\b\b\b\b\b\b\b\b\b\b\b\b\b\b\b\b\b\b\b\b\b\b\b\b\b\b\b\b\b\b\b\b\b\b\b\b\b\b\b\b\b\b\b\b\b\b\b\b\b\b\r",
            "61/63 [============================>.] - ETA: 0s - loss: 0.0944 - accuracy: 0.9626"
          ]
        },
        {
          "name": "stdout",
          "output_type": "stream",
          "text": [
            "\b\b\b\b\b\b\b\b\b\b\b\b\b\b\b\b\b\b\b\b\b\b\b\b\b\b\b\b\b\b\b\b\b\b\b\b\b\b\b\b\b\b\b\b\b\b\b\b\b\b\b\b\b\b\b\b\b\b\b\b\b\b\b\b\b\b\b\b\b\b\b\b\b\b\b\b\b\b\b\b\b\b\r",
            "63/63 [==============================] - ETA: 0s - loss: 0.0929 - accuracy: 0.9635"
          ]
        },
        {
          "name": "stdout",
          "output_type": "stream",
          "text": [
            "\b\b\b\b\b\b\b\b\b\b\b\b\b\b\b\b\b\b\b\b\b\b\b\b\b\b\b\b\b\b\b\b\b\b\b\b\b\b\b\b\b\b\b\b\b\b\b\b\b\b\b\b\b\b\b\b\b\b\b\b\b\b\b\b\b\b\b\b\b\b\b\b\b\b\b\b\b\b\b\b\b\b\r",
            "63/63 [==============================] - 3s 44ms/step - loss: 0.0929 - accuracy: 0.9635 - val_loss: 0.0304 - val_accuracy: 0.9901\n"
          ]
        },
        {
          "name": "stdout",
          "output_type": "stream",
          "text": [
            "Epoch 15/20\n"
          ]
        },
        {
          "name": "stdout",
          "output_type": "stream",
          "text": [
            "\r",
            " 1/63 [..............................] - ETA: 3s - loss: 0.0421 - accuracy: 1.0000"
          ]
        },
        {
          "name": "stdout",
          "output_type": "stream",
          "text": [
            "\b\b\b\b\b\b\b\b\b\b\b\b\b\b\b\b\b\b\b\b\b\b\b\b\b\b\b\b\b\b\b\b\b\b\b\b\b\b\b\b\b\b\b\b\b\b\b\b\b\b\b\b\b\b\b\b\b\b\b\b\b\b\b\b\b\b\b\b\b\b\b\b\b\b\b\b\b\b\b\b\b\b\r",
            " 3/63 [>.............................] - ETA: 2s - loss: 0.0749 - accuracy: 0.9792"
          ]
        },
        {
          "name": "stdout",
          "output_type": "stream",
          "text": [
            "\b\b\b\b\b\b\b\b\b\b\b\b\b\b\b\b\b\b\b\b\b\b\b\b\b\b\b\b\b\b\b\b\b\b\b\b\b\b\b\b\b\b\b\b\b\b\b\b\b\b\b\b\b\b\b\b\b\b\b\b\b\b\b\b\b\b\b\b\b\b\b\b\b\b\b\b\b\b\b\b\b\b\r",
            " 5/63 [=>............................] - ETA: 2s - loss: 0.0726 - accuracy: 0.9750"
          ]
        },
        {
          "name": "stdout",
          "output_type": "stream",
          "text": [
            "\b\b\b\b\b\b\b\b\b\b\b\b\b\b\b\b\b\b\b\b\b\b\b\b\b\b\b\b\b\b\b\b\b\b\b\b\b\b\b\b\b\b\b\b\b\b\b\b\b\b\b\b\b\b\b\b\b\b\b\b\b\b\b\b\b\b\b\b\b\b\b\b\b\b\b\b\b\b\b\b\b\b\r",
            " 7/63 [==>...........................] - ETA: 2s - loss: 0.0707 - accuracy: 0.9777"
          ]
        },
        {
          "name": "stdout",
          "output_type": "stream",
          "text": [
            "\b\b\b\b\b\b\b\b\b\b\b\b\b\b\b\b\b\b\b\b\b\b\b\b\b\b\b\b\b\b\b\b\b\b\b\b\b\b\b\b\b\b\b\b\b\b\b\b\b\b\b\b\b\b\b\b\b\b\b\b\b\b\b\b\b\b\b\b\b\b\b\b\b\b\b\b\b\b\b\b\b\b\r",
            " 9/63 [===>..........................] - ETA: 1s - loss: 0.0753 - accuracy: 0.9757"
          ]
        },
        {
          "name": "stdout",
          "output_type": "stream",
          "text": [
            "\b\b\b\b\b\b\b\b\b\b\b\b\b\b\b\b\b\b\b\b\b\b\b\b\b\b\b\b\b\b\b\b\b\b\b\b\b\b\b\b\b\b\b\b\b\b\b\b\b\b\b\b\b\b\b\b\b\b\b\b\b\b\b\b\b\b\b\b\b\b\b\b\b\b\b\b\b\b\b\b\b\b\r",
            "11/63 [====>.........................] - ETA: 1s - loss: 0.0703 - accuracy: 0.9773"
          ]
        },
        {
          "name": "stdout",
          "output_type": "stream",
          "text": [
            "\b\b\b\b\b\b\b\b\b\b\b\b\b\b\b\b\b\b\b\b\b\b\b\b\b\b\b\b\b\b\b\b\b\b\b\b\b\b\b\b\b\b\b\b\b\b\b\b\b\b\b\b\b\b\b\b\b\b\b\b\b\b\b\b\b\b\b\b\b\b\b\b\b\b\b\b\b\b\b\b\b\b\r",
            "13/63 [=====>........................] - ETA: 1s - loss: 0.0667 - accuracy: 0.9784"
          ]
        },
        {
          "name": "stdout",
          "output_type": "stream",
          "text": [
            "\b\b\b\b\b\b\b\b\b\b\b\b\b\b\b\b\b\b\b\b\b\b\b\b\b\b\b\b\b\b\b\b\b\b\b\b\b\b\b\b\b\b\b\b\b\b\b\b\b\b\b\b\b\b\b\b\b\b\b\b\b\b\b\b\b\b\b\b\b\b\b\b\b\b\b\b\b\b\b\b\b\b\r",
            "15/63 [======>.......................] - ETA: 1s - loss: 0.0632 - accuracy: 0.9792"
          ]
        },
        {
          "name": "stdout",
          "output_type": "stream",
          "text": [
            "\b\b\b\b\b\b\b\b\b\b\b\b\b\b\b\b\b\b\b\b\b\b\b\b\b\b\b\b\b\b\b\b\b\b\b\b\b\b\b\b\b\b\b\b\b\b\b\b\b\b\b\b\b\b\b\b\b\b\b\b\b\b\b\b\b\b\b\b\b\b\b\b\b\b\b\b\b\b\b\b\b\b\r",
            "17/63 [=======>......................] - ETA: 1s - loss: 0.0603 - accuracy: 0.9816"
          ]
        },
        {
          "name": "stdout",
          "output_type": "stream",
          "text": [
            "\b\b\b\b\b\b\b\b\b\b\b\b\b\b\b\b\b\b\b\b\b\b\b\b\b\b\b\b\b\b\b\b\b\b\b\b\b\b\b\b\b\b\b\b\b\b\b\b\b\b\b\b\b\b\b\b\b\b\b\b\b\b\b\b\b\b\b\b\b\b\b\b\b\b\b\b\b\b\b\b\b\b\r",
            "19/63 [========>.....................] - ETA: 1s - loss: 0.0687 - accuracy: 0.9786"
          ]
        },
        {
          "name": "stdout",
          "output_type": "stream",
          "text": [
            "\b\b\b\b\b\b\b\b\b\b\b\b\b\b\b\b\b\b\b\b\b\b\b\b\b\b\b\b\b\b\b\b\b\b\b\b\b\b\b\b\b\b\b\b\b\b\b\b\b\b\b\b\b\b\b\b\b\b\b\b\b\b\b\b\b\b\b\b\b\b\b\b\b\b\b\b\b\b\b\b\b\b\r",
            "21/63 [=========>....................] - ETA: 1s - loss: 0.0715 - accuracy: 0.9747"
          ]
        },
        {
          "name": "stdout",
          "output_type": "stream",
          "text": [
            "\b\b\b\b\b\b\b\b\b\b\b\b\b\b\b\b\b\b\b\b\b\b\b\b\b\b\b\b\b\b\b\b\b\b\b\b\b\b\b\b\b\b\b\b\b\b\b\b\b\b\b\b\b\b\b\b\b\b\b\b\b\b\b\b\b\b\b\b\b\b\b\b\b\b\b\b\b\b\b\b\b\b\r",
            "23/63 [=========>....................] - ETA: 1s - loss: 0.0746 - accuracy: 0.9728"
          ]
        },
        {
          "name": "stdout",
          "output_type": "stream",
          "text": [
            "\b\b\b\b\b\b\b\b\b\b\b\b\b\b\b\b\b\b\b\b\b\b\b\b\b\b\b\b\b\b\b\b\b\b\b\b\b\b\b\b\b\b\b\b\b\b\b\b\b\b\b\b\b\b\b\b\b\b\b\b\b\b\b\b\b\b\b\b\b\b\b\b\b\b\b\b\b\b\b\b\b\b\r",
            "25/63 [==========>...................] - ETA: 1s - loss: 0.0730 - accuracy: 0.9725"
          ]
        },
        {
          "name": "stdout",
          "output_type": "stream",
          "text": [
            "\b\b\b\b\b\b\b\b\b\b\b\b\b\b\b\b\b\b\b\b\b\b\b\b\b\b\b\b\b\b\b\b\b\b\b\b\b\b\b\b\b\b\b\b\b\b\b\b\b\b\b\b\b\b\b\b\b\b\b\b\b\b\b\b\b\b\b\b\b\b\b\b\b\b\b\b\b\b\b\b\b\b\r",
            "27/63 [===========>..................] - ETA: 1s - loss: 0.0788 - accuracy: 0.9722"
          ]
        },
        {
          "name": "stdout",
          "output_type": "stream",
          "text": [
            "\b\b\b\b\b\b\b\b\b\b\b\b\b\b\b\b\b\b\b\b\b\b\b\b\b\b\b\b\b\b\b\b\b\b\b\b\b\b\b\b\b\b\b\b\b\b\b\b\b\b\b\b\b\b\b\b\b\b\b\b\b\b\b\b\b\b\b\b\b\b\b\b\b\b\b\b\b\b\b\b\b\b\r",
            "29/63 [============>.................] - ETA: 1s - loss: 0.0878 - accuracy: 0.9677"
          ]
        },
        {
          "name": "stdout",
          "output_type": "stream",
          "text": [
            "\b\b\b\b\b\b\b\b\b\b\b\b\b\b\b\b\b\b\b\b\b\b\b\b\b\b\b\b\b\b\b\b\b\b\b\b\b\b\b\b\b\b\b\b\b\b\b\b\b\b\b\b\b\b\b\b\b\b\b\b\b\b\b\b\b\b\b\b\b\b\b\b\b\b\b\b\b\b\b\b\b\b\r",
            "31/63 [=============>................] - ETA: 1s - loss: 0.0850 - accuracy: 0.9688"
          ]
        },
        {
          "name": "stdout",
          "output_type": "stream",
          "text": [
            "\b\b\b\b\b\b\b\b\b\b\b\b\b\b\b\b\b\b\b\b\b\b\b\b\b\b\b\b\b\b\b\b\b\b\b\b\b\b\b\b\b\b\b\b\b\b\b\b\b\b\b\b\b\b\b\b\b\b\b\b\b\b\b\b\b\b\b\b\b\b\b\b\b\b\b\b\b\b\b\b\b\b\r",
            "33/63 [==============>...............] - ETA: 1s - loss: 0.0860 - accuracy: 0.9669"
          ]
        },
        {
          "name": "stdout",
          "output_type": "stream",
          "text": [
            "\b\b\b\b\b\b\b\b\b\b\b\b\b\b\b\b\b\b\b\b\b\b\b\b\b\b\b\b\b\b\b\b\b\b\b\b\b\b\b\b\b\b\b\b\b\b\b\b\b\b\b\b\b\b\b\b\b\b\b\b\b\b\b\b\b\b\b\b\b\b\b\b\b\b\b\b\b\b\b\b\b\b\r",
            "35/63 [===============>..............] - ETA: 1s - loss: 0.0820 - accuracy: 0.9688"
          ]
        },
        {
          "name": "stdout",
          "output_type": "stream",
          "text": [
            "\b\b\b\b\b\b\b\b\b\b\b\b\b\b\b\b\b\b\b\b\b\b\b\b\b\b\b\b\b\b\b\b\b\b\b\b\b\b\b\b\b\b\b\b\b\b\b\b\b\b\b\b\b\b\b\b\b\b\b\b\b\b\b\b\b\b\b\b\b\b\b\b\b\b\b\b\b\b\b\b\b\b\r",
            "37/63 [================>.............] - ETA: 0s - loss: 0.0808 - accuracy: 0.9688"
          ]
        },
        {
          "name": "stdout",
          "output_type": "stream",
          "text": [
            "\b\b\b\b\b\b\b\b\b\b\b\b\b\b\b\b\b\b\b\b\b\b\b\b\b\b\b\b\b\b\b\b\b\b\b\b\b\b\b\b\b\b\b\b\b\b\b\b\b\b\b\b\b\b\b\b\b\b\b\b\b\b\b\b\b\b\b\b\b\b\b\b\b\b\b\b\b\b\b\b\b\b\r",
            "39/63 [=================>............] - ETA: 0s - loss: 0.0795 - accuracy: 0.9688"
          ]
        },
        {
          "name": "stdout",
          "output_type": "stream",
          "text": [
            "\b\b\b\b\b\b\b\b\b\b\b\b\b\b\b\b\b\b\b\b\b\b\b\b\b\b\b\b\b\b\b\b\b\b\b\b\b\b\b\b\b\b\b\b\b\b\b\b\b\b\b\b\b\b\b\b\b\b\b\b\b\b\b\b\b\b\b\b\b\b\b\b\b\b\b\b\b\b\b\b\b\b\r",
            "41/63 [==================>...........] - ETA: 0s - loss: 0.0787 - accuracy: 0.9688"
          ]
        },
        {
          "name": "stdout",
          "output_type": "stream",
          "text": [
            "\b\b\b\b\b\b\b\b\b\b\b\b\b\b\b\b\b\b\b\b\b\b\b\b\b\b\b\b\b\b\b\b\b\b\b\b\b\b\b\b\b\b\b\b\b\b\b\b\b\b\b\b\b\b\b\b\b\b\b\b\b\b\b\b\b\b\b\b\b\b\b\b\b\b\b\b\b\b\b\b\b\b\r",
            "43/63 [===================>..........] - ETA: 0s - loss: 0.0788 - accuracy: 0.9680"
          ]
        },
        {
          "name": "stdout",
          "output_type": "stream",
          "text": [
            "\b\b\b\b\b\b\b\b\b\b\b\b\b\b\b\b\b\b\b\b\b\b\b\b\b\b\b\b\b\b\b\b\b\b\b\b\b\b\b\b\b\b\b\b\b\b\b\b\b\b\b\b\b\b\b\b\b\b\b\b\b\b\b\b\b\b\b\b\b\b\b\b\b\b\b\b\b\b\b\b\b\b\r",
            "45/63 [====================>.........] - ETA: 0s - loss: 0.0813 - accuracy: 0.9660"
          ]
        },
        {
          "name": "stdout",
          "output_type": "stream",
          "text": [
            "\b\b\b\b\b\b\b\b\b\b\b\b\b\b\b\b\b\b\b\b\b\b\b\b\b\b\b\b\b\b\b\b\b\b\b\b\b\b\b\b\b\b\b\b\b\b\b\b\b\b\b\b\b\b\b\b\b\b\b\b\b\b\b\b\b\b\b\b\b\b\b\b\b\b\b\b\b\b\b\b\b\b\r",
            "47/63 [=====================>........] - ETA: 0s - loss: 0.0799 - accuracy: 0.9668"
          ]
        },
        {
          "name": "stdout",
          "output_type": "stream",
          "text": [
            "\b\b\b\b\b\b\b\b\b\b\b\b\b\b\b\b\b\b\b\b\b\b\b\b\b\b\b\b\b\b\b\b\b\b\b\b\b\b\b\b\b\b\b\b\b\b\b\b\b\b\b\b\b\b\b\b\b\b\b\b\b\b\b\b\b\b\b\b\b\b\b\b\b\b\b\b\b\b\b\b\b\b\r",
            "49/63 [======================>.......] - ETA: 0s - loss: 0.0786 - accuracy: 0.9668"
          ]
        },
        {
          "name": "stdout",
          "output_type": "stream",
          "text": [
            "\b\b\b\b\b\b\b\b\b\b\b\b\b\b\b\b\b\b\b\b\b\b\b\b\b\b\b\b\b\b\b\b\b\b\b\b\b\b\b\b\b\b\b\b\b\b\b\b\b\b\b\b\b\b\b\b\b\b\b\b\b\b\b\b\b\b\b\b\b\b\b\b\b\b\b\b\b\b\b\b\b\b\r",
            "51/63 [=======================>......] - ETA: 0s - loss: 0.0788 - accuracy: 0.9669"
          ]
        },
        {
          "name": "stdout",
          "output_type": "stream",
          "text": [
            "\b\b\b\b\b\b\b\b\b\b\b\b\b\b\b\b\b\b\b\b\b\b\b\b\b\b\b\b\b\b\b\b\b\b\b\b\b\b\b\b\b\b\b\b\b\b\b\b\b\b\b\b\b\b\b\b\b\b\b\b\b\b\b\b\b\b\b\b\b\b\b\b\b\b\b\b\b\b\b\b\b\b\r",
            "53/63 [========================>.....] - ETA: 0s - loss: 0.0784 - accuracy: 0.9676"
          ]
        },
        {
          "name": "stdout",
          "output_type": "stream",
          "text": [
            "\b\b\b\b\b\b\b\b\b\b\b\b\b\b\b\b\b\b\b\b\b\b\b\b\b\b\b\b\b\b\b\b\b\b\b\b\b\b\b\b\b\b\b\b\b\b\b\b\b\b\b\b\b\b\b\b\b\b\b\b\b\b\b\b\b\b\b\b\b\b\b\b\b\b\b\b\b\b\b\b\b\b\r",
            "55/63 [=========================>....] - ETA: 0s - loss: 0.0788 - accuracy: 0.9676"
          ]
        },
        {
          "name": "stdout",
          "output_type": "stream",
          "text": [
            "\b\b\b\b\b\b\b\b\b\b\b\b\b\b\b\b\b\b\b\b\b\b\b\b\b\b\b\b\b\b\b\b\b\b\b\b\b\b\b\b\b\b\b\b\b\b\b\b\b\b\b\b\b\b\b\b\b\b\b\b\b\b\b\b\b\b\b\b\b\b\b\b\b\b\b\b\b\b\b\b\b\b\r",
            "57/63 [==========================>...] - ETA: 0s - loss: 0.0789 - accuracy: 0.9677"
          ]
        },
        {
          "name": "stdout",
          "output_type": "stream",
          "text": [
            "\b\b\b\b\b\b\b\b\b\b\b\b\b\b\b\b\b\b\b\b\b\b\b\b\b\b\b\b\b\b\b\b\b\b\b\b\b\b\b\b\b\b\b\b\b\b\b\b\b\b\b\b\b\b\b\b\b\b\b\b\b\b\b\b\b\b\b\b\b\b\b\b\b\b\b\b\b\b\b\b\b\b\r",
            "59/63 [===========================>..] - ETA: 0s - loss: 0.0795 - accuracy: 0.9677"
          ]
        },
        {
          "name": "stdout",
          "output_type": "stream",
          "text": [
            "\b\b\b\b\b\b\b\b\b\b\b\b\b\b\b\b\b\b\b\b\b\b\b\b\b\b\b\b\b\b\b\b\b\b\b\b\b\b\b\b\b\b\b\b\b\b\b\b\b\b\b\b\b\b\b\b\b\b\b\b\b\b\b\b\b\b\b\b\b\b\b\b\b\b\b\b\b\b\b\b\b\b\r",
            "61/63 [============================>.] - ETA: 0s - loss: 0.0802 - accuracy: 0.9672"
          ]
        },
        {
          "name": "stdout",
          "output_type": "stream",
          "text": [
            "\b\b\b\b\b\b\b\b\b\b\b\b\b\b\b\b\b\b\b\b\b\b\b\b\b\b\b\b\b\b\b\b\b\b\b\b\b\b\b\b\b\b\b\b\b\b\b\b\b\b\b\b\b\b\b\b\b\b\b\b\b\b\b\b\b\b\b\b\b\b\b\b\b\b\b\b\b\b\b\b\b\b\r",
            "63/63 [==============================] - ETA: 0s - loss: 0.0797 - accuracy: 0.9675"
          ]
        },
        {
          "name": "stdout",
          "output_type": "stream",
          "text": [
            "\b\b\b\b\b\b\b\b\b\b\b\b\b\b\b\b\b\b\b\b\b\b\b\b\b\b\b\b\b\b\b\b\b\b\b\b\b\b\b\b\b\b\b\b\b\b\b\b\b\b\b\b\b\b\b\b\b\b\b\b\b\b\b\b\b\b\b\b\b\b\b\b\b\b\b\b\b\b\b\b\b\b\r",
            "63/63 [==============================] - 3s 44ms/step - loss: 0.0797 - accuracy: 0.9675 - val_loss: 0.0309 - val_accuracy: 0.9876\n"
          ]
        },
        {
          "name": "stdout",
          "output_type": "stream",
          "text": [
            "Epoch 16/20\n"
          ]
        },
        {
          "name": "stdout",
          "output_type": "stream",
          "text": [
            "\r",
            " 1/63 [..............................] - ETA: 3s - loss: 0.0161 - accuracy: 1.0000"
          ]
        },
        {
          "name": "stdout",
          "output_type": "stream",
          "text": [
            "\b\b\b\b\b\b\b\b\b\b\b\b\b\b\b\b\b\b\b\b\b\b\b\b\b\b\b\b\b\b\b\b\b\b\b\b\b\b\b\b\b\b\b\b\b\b\b\b\b\b\b\b\b\b\b\b\b\b\b\b\b\b\b\b\b\b\b\b\b\b\b\b\b\b\b\b\b\b\b\b\b\b\r",
            " 3/63 [>.............................] - ETA: 2s - loss: 0.0690 - accuracy: 0.9792"
          ]
        },
        {
          "name": "stdout",
          "output_type": "stream",
          "text": [
            "\b\b\b\b\b\b\b\b\b\b\b\b\b\b\b\b\b\b\b\b\b\b\b\b\b\b\b\b\b\b\b\b\b\b\b\b\b\b\b\b\b\b\b\b\b\b\b\b\b\b\b\b\b\b\b\b\b\b\b\b\b\b\b\b\b\b\b\b\b\b\b\b\b\b\b\b\b\b\b\b\b\b\r",
            " 5/63 [=>............................] - ETA: 2s - loss: 0.0708 - accuracy: 0.9812"
          ]
        },
        {
          "name": "stdout",
          "output_type": "stream",
          "text": [
            "\b\b\b\b\b\b\b\b\b\b\b\b\b\b\b\b\b\b\b\b\b\b\b\b\b\b\b\b\b\b\b\b\b\b\b\b\b\b\b\b\b\b\b\b\b\b\b\b\b\b\b\b\b\b\b\b\b\b\b\b\b\b\b\b\b\b\b\b\b\b\b\b\b\b\b\b\b\b\b\b\b\b\r",
            " 7/63 [==>...........................] - ETA: 2s - loss: 0.0611 - accuracy: 0.9866"
          ]
        },
        {
          "name": "stdout",
          "output_type": "stream",
          "text": [
            "\b\b\b\b\b\b\b\b\b\b\b\b\b\b\b\b\b\b\b\b\b\b\b\b\b\b\b\b\b\b\b\b\b\b\b\b\b\b\b\b\b\b\b\b\b\b\b\b\b\b\b\b\b\b\b\b\b\b\b\b\b\b\b\b\b\b\b\b\b\b\b\b\b\b\b\b\b\b\b\b\b\b\r",
            " 9/63 [===>..........................] - ETA: 1s - loss: 0.0728 - accuracy: 0.9757"
          ]
        },
        {
          "name": "stdout",
          "output_type": "stream",
          "text": [
            "\b\b\b\b\b\b\b\b\b\b\b\b\b\b\b\b\b\b\b\b\b\b\b\b\b\b\b\b\b\b\b\b\b\b\b\b\b\b\b\b\b\b\b\b\b\b\b\b\b\b\b\b\b\b\b\b\b\b\b\b\b\b\b\b\b\b\b\b\b\b\b\b\b\b\b\b\b\b\b\b\b\b\r",
            "11/63 [====>.........................] - ETA: 1s - loss: 0.0925 - accuracy: 0.9659"
          ]
        },
        {
          "name": "stdout",
          "output_type": "stream",
          "text": [
            "\b\b\b\b\b\b\b\b\b\b\b\b\b\b\b\b\b\b\b\b\b\b\b\b\b\b\b\b\b\b\b\b\b\b\b\b\b\b\b\b\b\b\b\b\b\b\b\b\b\b\b\b\b\b\b\b\b\b\b\b\b\b\b\b\b\b\b\b\b\b\b\b\b\b\b\b\b\b\b\b\b\b\r",
            "13/63 [=====>........................] - ETA: 1s - loss: 0.0849 - accuracy: 0.9712"
          ]
        },
        {
          "name": "stdout",
          "output_type": "stream",
          "text": [
            "\b\b\b\b\b\b\b\b\b\b\b\b\b\b\b\b\b\b\b\b\b\b\b\b\b\b\b\b\b\b\b\b\b\b\b\b\b\b\b\b\b\b\b\b\b\b\b\b\b\b\b\b\b\b\b\b\b\b\b\b\b\b\b\b\b\b\b\b\b\b\b\b\b\b\b\b\b\b\b\b\b\b\r",
            "15/63 [======>.......................] - ETA: 1s - loss: 0.0784 - accuracy: 0.9729"
          ]
        },
        {
          "name": "stdout",
          "output_type": "stream",
          "text": [
            "\b\b\b\b\b\b\b\b\b\b\b\b\b\b\b\b\b\b\b\b\b\b\b\b\b\b\b\b\b\b\b\b\b\b\b\b\b\b\b\b\b\b\b\b\b\b\b\b\b\b\b\b\b\b\b\b\b\b\b\b\b\b\b\b\b\b\b\b\b\b\b\b\b\b\b\b\b\b\b\b\b\b\r",
            "17/63 [=======>......................] - ETA: 1s - loss: 0.0818 - accuracy: 0.9724"
          ]
        },
        {
          "name": "stdout",
          "output_type": "stream",
          "text": [
            "\b\b\b\b\b\b\b\b\b\b\b\b\b\b\b\b\b\b\b\b\b\b\b\b\b\b\b\b\b\b\b\b\b\b\b\b\b\b\b\b\b\b\b\b\b\b\b\b\b\b\b\b\b\b\b\b\b\b\b\b\b\b\b\b\b\b\b\b\b\b\b\b\b\b\b\b\b\b\b\b\b\b\r",
            "19/63 [========>.....................] - ETA: 1s - loss: 0.0787 - accuracy: 0.9720"
          ]
        },
        {
          "name": "stdout",
          "output_type": "stream",
          "text": [
            "\b\b\b\b\b\b\b\b\b\b\b\b\b\b\b\b\b\b\b\b\b\b\b\b\b\b\b\b\b\b\b\b\b\b\b\b\b\b\b\b\b\b\b\b\b\b\b\b\b\b\b\b\b\b\b\b\b\b\b\b\b\b\b\b\b\b\b\b\b\b\b\b\b\b\b\b\b\b\b\b\b\b\r",
            "21/63 [=========>....................] - ETA: 1s - loss: 0.0752 - accuracy: 0.9717"
          ]
        },
        {
          "name": "stdout",
          "output_type": "stream",
          "text": [
            "\b\b\b\b\b\b\b\b\b\b\b\b\b\b\b\b\b\b\b\b\b\b\b\b\b\b\b\b\b\b\b\b\b\b\b\b\b\b\b\b\b\b\b\b\b\b\b\b\b\b\b\b\b\b\b\b\b\b\b\b\b\b\b\b\b\b\b\b\b\b\b\b\b\b\b\b\b\b\b\b\b\b\r",
            "23/63 [=========>....................] - ETA: 1s - loss: 0.0823 - accuracy: 0.9701"
          ]
        },
        {
          "name": "stdout",
          "output_type": "stream",
          "text": [
            "\b\b\b\b\b\b\b\b\b\b\b\b\b\b\b\b\b\b\b\b\b\b\b\b\b\b\b\b\b\b\b\b\b\b\b\b\b\b\b\b\b\b\b\b\b\b\b\b\b\b\b\b\b\b\b\b\b\b\b\b\b\b\b\b\b\b\b\b\b\b\b\b\b\b\b\b\b\b\b\b\b\b\r",
            "25/63 [==========>...................] - ETA: 1s - loss: 0.0777 - accuracy: 0.9712"
          ]
        },
        {
          "name": "stdout",
          "output_type": "stream",
          "text": [
            "\b\b\b\b\b\b\b\b\b\b\b\b\b\b\b\b\b\b\b\b\b\b\b\b\b\b\b\b\b\b\b\b\b\b\b\b\b\b\b\b\b\b\b\b\b\b\b\b\b\b\b\b\b\b\b\b\b\b\b\b\b\b\b\b\b\b\b\b\b\b\b\b\b\b\b\b\b\b\b\b\b\b\r",
            "27/63 [===========>..................] - ETA: 1s - loss: 0.0770 - accuracy: 0.9711"
          ]
        },
        {
          "name": "stdout",
          "output_type": "stream",
          "text": [
            "\b\b\b\b\b\b\b\b\b\b\b\b\b\b\b\b\b\b\b\b\b\b\b\b\b\b\b\b\b\b\b\b\b\b\b\b\b\b\b\b\b\b\b\b\b\b\b\b\b\b\b\b\b\b\b\b\b\b\b\b\b\b\b\b\b\b\b\b\b\b\b\b\b\b\b\b\b\b\b\b\b\b\r",
            "29/63 [============>.................] - ETA: 1s - loss: 0.0781 - accuracy: 0.9709"
          ]
        },
        {
          "name": "stdout",
          "output_type": "stream",
          "text": [
            "\b\b\b\b\b\b\b\b\b\b\b\b\b\b\b\b\b\b\b\b\b\b\b\b\b\b\b\b\b\b\b\b\b\b\b\b\b\b\b\b\b\b\b\b\b\b\b\b\b\b\b\b\b\b\b\b\b\b\b\b\b\b\b\b\b\b\b\b\b\b\b\b\b\b\b\b\b\b\b\b\b\b\r",
            "31/63 [=============>................] - ETA: 1s - loss: 0.0836 - accuracy: 0.9677"
          ]
        },
        {
          "name": "stdout",
          "output_type": "stream",
          "text": [
            "\b\b\b\b\b\b\b\b\b\b\b\b\b\b\b\b\b\b\b\b\b\b\b\b\b\b\b\b\b\b\b\b\b\b\b\b\b\b\b\b\b\b\b\b\b\b\b\b\b\b\b\b\b\b\b\b\b\b\b\b\b\b\b\b\b\b\b\b\b\b\b\b\b\b\b\b\b\b\b\b\b\b\r",
            "33/63 [==============>...............] - ETA: 1s - loss: 0.0836 - accuracy: 0.9688"
          ]
        },
        {
          "name": "stdout",
          "output_type": "stream",
          "text": [
            "\b\b\b\b\b\b\b\b\b\b\b\b\b\b\b\b\b\b\b\b\b\b\b\b\b\b\b\b\b\b\b\b\b\b\b\b\b\b\b\b\b\b\b\b\b\b\b\b\b\b\b\b\b\b\b\b\b\b\b\b\b\b\b\b\b\b\b\b\b\b\b\b\b\b\b\b\b\b\b\b\b\b\r",
            "35/63 [===============>..............] - ETA: 1s - loss: 0.0830 - accuracy: 0.9688"
          ]
        },
        {
          "name": "stdout",
          "output_type": "stream",
          "text": [
            "\b\b\b\b\b\b\b\b\b\b\b\b\b\b\b\b\b\b\b\b\b\b\b\b\b\b\b\b\b\b\b\b\b\b\b\b\b\b\b\b\b\b\b\b\b\b\b\b\b\b\b\b\b\b\b\b\b\b\b\b\b\b\b\b\b\b\b\b\b\b\b\b\b\b\b\b\b\b\b\b\b\b\r",
            "37/63 [================>.............] - ETA: 0s - loss: 0.0817 - accuracy: 0.9688"
          ]
        },
        {
          "name": "stdout",
          "output_type": "stream",
          "text": [
            "\b\b\b\b\b\b\b\b\b\b\b\b\b\b\b\b\b\b\b\b\b\b\b\b\b\b\b\b\b\b\b\b\b\b\b\b\b\b\b\b\b\b\b\b\b\b\b\b\b\b\b\b\b\b\b\b\b\b\b\b\b\b\b\b\b\b\b\b\b\b\b\b\b\b\b\b\b\b\b\b\b\b\r",
            "39/63 [=================>............] - ETA: 0s - loss: 0.0824 - accuracy: 0.9679"
          ]
        },
        {
          "name": "stdout",
          "output_type": "stream",
          "text": [
            "\b\b\b\b\b\b\b\b\b\b\b\b\b\b\b\b\b\b\b\b\b\b\b\b\b\b\b\b\b\b\b\b\b\b\b\b\b\b\b\b\b\b\b\b\b\b\b\b\b\b\b\b\b\b\b\b\b\b\b\b\b\b\b\b\b\b\b\b\b\b\b\b\b\b\b\b\b\b\b\b\b\b\r",
            "41/63 [==================>...........] - ETA: 0s - loss: 0.0806 - accuracy: 0.9680"
          ]
        },
        {
          "name": "stdout",
          "output_type": "stream",
          "text": [
            "\b\b\b\b\b\b\b\b\b\b\b\b\b\b\b\b\b\b\b\b\b\b\b\b\b\b\b\b\b\b\b\b\b\b\b\b\b\b\b\b\b\b\b\b\b\b\b\b\b\b\b\b\b\b\b\b\b\b\b\b\b\b\b\b\b\b\b\b\b\b\b\b\b\b\b\b\b\b\b\b\b\b\r",
            "43/63 [===================>..........] - ETA: 0s - loss: 0.0805 - accuracy: 0.9680"
          ]
        },
        {
          "name": "stdout",
          "output_type": "stream",
          "text": [
            "\b\b\b\b\b\b\b\b\b\b\b\b\b\b\b\b\b\b\b\b\b\b\b\b\b\b\b\b\b\b\b\b\b\b\b\b\b\b\b\b\b\b\b\b\b\b\b\b\b\b\b\b\b\b\b\b\b\b\b\b\b\b\b\b\b\b\b\b\b\b\b\b\b\b\b\b\b\b\b\b\b\b\r",
            "45/63 [====================>.........] - ETA: 0s - loss: 0.0806 - accuracy: 0.9674"
          ]
        },
        {
          "name": "stdout",
          "output_type": "stream",
          "text": [
            "\b\b\b\b\b\b\b\b\b\b\b\b\b\b\b\b\b\b\b\b\b\b\b\b\b\b\b\b\b\b\b\b\b\b\b\b\b\b\b\b\b\b\b\b\b\b\b\b\b\b\b\b\b\b\b\b\b\b\b\b\b\b\b\b\b\b\b\b\b\b\b\b\b\b\b\b\b\b\b\b\b\b\r",
            "47/63 [=====================>........] - ETA: 0s - loss: 0.0792 - accuracy: 0.9674"
          ]
        },
        {
          "name": "stdout",
          "output_type": "stream",
          "text": [
            "\b\b\b\b\b\b\b\b\b\b\b\b\b\b\b\b\b\b\b\b\b\b\b\b\b\b\b\b\b\b\b\b\b\b\b\b\b\b\b\b\b\b\b\b\b\b\b\b\b\b\b\b\b\b\b\b\b\b\b\b\b\b\b\b\b\b\b\b\b\b\b\b\b\b\b\b\b\b\b\b\b\b\r",
            "49/63 [======================>.......] - ETA: 0s - loss: 0.0770 - accuracy: 0.9688"
          ]
        },
        {
          "name": "stdout",
          "output_type": "stream",
          "text": [
            "\b\b\b\b\b\b\b\b\b\b\b\b\b\b\b\b\b\b\b\b\b\b\b\b\b\b\b\b\b\b\b\b\b\b\b\b\b\b\b\b\b\b\b\b\b\b\b\b\b\b\b\b\b\b\b\b\b\b\b\b\b\b\b\b\b\b\b\b\b\b\b\b\b\b\b\b\b\b\b\b\b\b\r",
            "51/63 [=======================>......] - ETA: 0s - loss: 0.0802 - accuracy: 0.9675"
          ]
        },
        {
          "name": "stdout",
          "output_type": "stream",
          "text": [
            "\b\b\b\b\b\b\b\b\b\b\b\b\b\b\b\b\b\b\b\b\b\b\b\b\b\b\b\b\b\b\b\b\b\b\b\b\b\b\b\b\b\b\b\b\b\b\b\b\b\b\b\b\b\b\b\b\b\b\b\b\b\b\b\b\b\b\b\b\b\b\b\b\b\b\b\b\b\b\b\b\b\b\r",
            "53/63 [========================>.....] - ETA: 0s - loss: 0.0850 - accuracy: 0.9652"
          ]
        },
        {
          "name": "stdout",
          "output_type": "stream",
          "text": [
            "\b\b\b\b\b\b\b\b\b\b\b\b\b\b\b\b\b\b\b\b\b\b\b\b\b\b\b\b\b\b\b\b\b\b\b\b\b\b\b\b\b\b\b\b\b\b\b\b\b\b\b\b\b\b\b\b\b\b\b\b\b\b\b\b\b\b\b\b\b\b\b\b\b\b\b\b\b\b\b\b\b\b\r",
            "55/63 [=========================>....] - ETA: 0s - loss: 0.0830 - accuracy: 0.9659"
          ]
        },
        {
          "name": "stdout",
          "output_type": "stream",
          "text": [
            "\b\b\b\b\b\b\b\b\b\b\b\b\b\b\b\b\b\b\b\b\b\b\b\b\b\b\b\b\b\b\b\b\b\b\b\b\b\b\b\b\b\b\b\b\b\b\b\b\b\b\b\b\b\b\b\b\b\b\b\b\b\b\b\b\b\b\b\b\b\b\b\b\b\b\b\b\b\b\b\b\b\b\r",
            "57/63 [==========================>...] - ETA: 0s - loss: 0.0843 - accuracy: 0.9649"
          ]
        },
        {
          "name": "stdout",
          "output_type": "stream",
          "text": [
            "\b\b\b\b\b\b\b\b\b\b\b\b\b\b\b\b\b\b\b\b\b\b\b\b\b\b\b\b\b\b\b\b\b\b\b\b\b\b\b\b\b\b\b\b\b\b\b\b\b\b\b\b\b\b\b\b\b\b\b\b\b\b\b\b\b\b\b\b\b\b\b\b\b\b\b\b\b\b\b\b\b\b\r",
            "59/63 [===========================>..] - ETA: 0s - loss: 0.0829 - accuracy: 0.9656"
          ]
        },
        {
          "name": "stdout",
          "output_type": "stream",
          "text": [
            "\b\b\b\b\b\b\b\b\b\b\b\b\b\b\b\b\b\b\b\b\b\b\b\b\b\b\b\b\b\b\b\b\b\b\b\b\b\b\b\b\b\b\b\b\b\b\b\b\b\b\b\b\b\b\b\b\b\b\b\b\b\b\b\b\b\b\b\b\b\b\b\b\b\b\b\b\b\b\b\b\b\b\r",
            "61/63 [============================>.] - ETA: 0s - loss: 0.0821 - accuracy: 0.9662"
          ]
        },
        {
          "name": "stdout",
          "output_type": "stream",
          "text": [
            "\b\b\b\b\b\b\b\b\b\b\b\b\b\b\b\b\b\b\b\b\b\b\b\b\b\b\b\b\b\b\b\b\b\b\b\b\b\b\b\b\b\b\b\b\b\b\b\b\b\b\b\b\b\b\b\b\b\b\b\b\b\b\b\b\b\b\b\b\b\b\b\b\b\b\b\b\b\b\b\b\b\b\r",
            "63/63 [==============================] - ETA: 0s - loss: 0.0809 - accuracy: 0.9670"
          ]
        },
        {
          "name": "stdout",
          "output_type": "stream",
          "text": [
            "\b\b\b\b\b\b\b\b\b\b\b\b\b\b\b\b\b\b\b\b\b\b\b\b\b\b\b\b\b\b\b\b\b\b\b\b\b\b\b\b\b\b\b\b\b\b\b\b\b\b\b\b\b\b\b\b\b\b\b\b\b\b\b\b\b\b\b\b\b\b\b\b\b\b\b\b\b\b\b\b\b\b\r",
            "63/63 [==============================] - 3s 44ms/step - loss: 0.0809 - accuracy: 0.9670 - val_loss: 0.0270 - val_accuracy: 0.9876\n"
          ]
        },
        {
          "name": "stdout",
          "output_type": "stream",
          "text": [
            "Epoch 17/20\n"
          ]
        },
        {
          "name": "stdout",
          "output_type": "stream",
          "text": [
            "\r",
            " 1/63 [..............................] - ETA: 3s - loss: 0.0413 - accuracy: 0.9688"
          ]
        },
        {
          "name": "stdout",
          "output_type": "stream",
          "text": [
            "\b\b\b\b\b\b\b\b\b\b\b\b\b\b\b\b\b\b\b\b\b\b\b\b\b\b\b\b\b\b\b\b\b\b\b\b\b\b\b\b\b\b\b\b\b\b\b\b\b\b\b\b\b\b\b\b\b\b\b\b\b\b\b\b\b\b\b\b\b\b\b\b\b\b\b\b\b\b\b\b\b\b\r",
            " 3/63 [>.............................] - ETA: 2s - loss: 0.0845 - accuracy: 0.9479"
          ]
        },
        {
          "name": "stdout",
          "output_type": "stream",
          "text": [
            "\b\b\b\b\b\b\b\b\b\b\b\b\b\b\b\b\b\b\b\b\b\b\b\b\b\b\b\b\b\b\b\b\b\b\b\b\b\b\b\b\b\b\b\b\b\b\b\b\b\b\b\b\b\b\b\b\b\b\b\b\b\b\b\b\b\b\b\b\b\b\b\b\b\b\b\b\b\b\b\b\b\b\r",
            " 5/63 [=>............................] - ETA: 2s - loss: 0.0694 - accuracy: 0.9625"
          ]
        },
        {
          "name": "stdout",
          "output_type": "stream",
          "text": [
            "\b\b\b\b\b\b\b\b\b\b\b\b\b\b\b\b\b\b\b\b\b\b\b\b\b\b\b\b\b\b\b\b\b\b\b\b\b\b\b\b\b\b\b\b\b\b\b\b\b\b\b\b\b\b\b\b\b\b\b\b\b\b\b\b\b\b\b\b\b\b\b\b\b\b\b\b\b\b\b\b\b\b\r",
            " 7/63 [==>...........................] - ETA: 2s - loss: 0.0872 - accuracy: 0.9554"
          ]
        },
        {
          "name": "stdout",
          "output_type": "stream",
          "text": [
            "\b\b\b\b\b\b\b\b\b\b\b\b\b\b\b\b\b\b\b\b\b\b\b\b\b\b\b\b\b\b\b\b\b\b\b\b\b\b\b\b\b\b\b\b\b\b\b\b\b\b\b\b\b\b\b\b\b\b\b\b\b\b\b\b\b\b\b\b\b\b\b\b\b\b\b\b\b\b\b\b\b\b\r",
            " 9/63 [===>..........................] - ETA: 2s - loss: 0.0724 - accuracy: 0.9653"
          ]
        },
        {
          "name": "stdout",
          "output_type": "stream",
          "text": [
            "\b\b\b\b\b\b\b\b\b\b\b\b\b\b\b\b\b\b\b\b\b\b\b\b\b\b\b\b\b\b\b\b\b\b\b\b\b\b\b\b\b\b\b\b\b\b\b\b\b\b\b\b\b\b\b\b\b\b\b\b\b\b\b\b\b\b\b\b\b\b\b\b\b\b\b\b\b\b\b\b\b\b\r",
            "11/63 [====>.........................] - ETA: 1s - loss: 0.0694 - accuracy: 0.9659"
          ]
        },
        {
          "name": "stdout",
          "output_type": "stream",
          "text": [
            "\b\b\b\b\b\b\b\b\b\b\b\b\b\b\b\b\b\b\b\b\b\b\b\b\b\b\b\b\b\b\b\b\b\b\b\b\b\b\b\b\b\b\b\b\b\b\b\b\b\b\b\b\b\b\b\b\b\b\b\b\b\b\b\b\b\b\b\b\b\b\b\b\b\b\b\b\b\b\b\b\b\b\r",
            "13/63 [=====>........................] - ETA: 1s - loss: 0.0779 - accuracy: 0.9615"
          ]
        },
        {
          "name": "stdout",
          "output_type": "stream",
          "text": [
            "\b\b\b\b\b\b\b\b\b\b\b\b\b\b\b\b\b\b\b\b\b\b\b\b\b\b\b\b\b\b\b\b\b\b\b\b\b\b\b\b\b\b\b\b\b\b\b\b\b\b\b\b\b\b\b\b\b\b\b\b\b\b\b\b\b\b\b\b\b\b\b\b\b\b\b\b\b\b\b\b\b\b\r",
            "15/63 [======>.......................] - ETA: 1s - loss: 0.0825 - accuracy: 0.9625"
          ]
        },
        {
          "name": "stdout",
          "output_type": "stream",
          "text": [
            "\b\b\b\b\b\b\b\b\b\b\b\b\b\b\b\b\b\b\b\b\b\b\b\b\b\b\b\b\b\b\b\b\b\b\b\b\b\b\b\b\b\b\b\b\b\b\b\b\b\b\b\b\b\b\b\b\b\b\b\b\b\b\b\b\b\b\b\b\b\b\b\b\b\b\b\b\b\b\b\b\b\b\r",
            "17/63 [=======>......................] - ETA: 1s - loss: 0.0909 - accuracy: 0.9614"
          ]
        },
        {
          "name": "stdout",
          "output_type": "stream",
          "text": [
            "\b\b\b\b\b\b\b\b\b\b\b\b\b\b\b\b\b\b\b\b\b\b\b\b\b\b\b\b\b\b\b\b\b\b\b\b\b\b\b\b\b\b\b\b\b\b\b\b\b\b\b\b\b\b\b\b\b\b\b\b\b\b\b\b\b\b\b\b\b\b\b\b\b\b\b\b\b\b\b\b\b\b\r",
            "19/63 [========>.....................] - ETA: 1s - loss: 0.0885 - accuracy: 0.9638"
          ]
        },
        {
          "name": "stdout",
          "output_type": "stream",
          "text": [
            "\b\b\b\b\b\b\b\b\b\b\b\b\b\b\b\b\b\b\b\b\b\b\b\b\b\b\b\b\b\b\b\b\b\b\b\b\b\b\b\b\b\b\b\b\b\b\b\b\b\b\b\b\b\b\b\b\b\b\b\b\b\b\b\b\b\b\b\b\b\b\b\b\b\b\b\b\b\b\b\b\b\b\r",
            "21/63 [=========>....................] - ETA: 1s - loss: 0.0870 - accuracy: 0.9658"
          ]
        },
        {
          "name": "stdout",
          "output_type": "stream",
          "text": [
            "\b\b\b\b\b\b\b\b\b\b\b\b\b\b\b\b\b\b\b\b\b\b\b\b\b\b\b\b\b\b\b\b\b\b\b\b\b\b\b\b\b\b\b\b\b\b\b\b\b\b\b\b\b\b\b\b\b\b\b\b\b\b\b\b\b\b\b\b\b\b\b\b\b\b\b\b\b\b\b\b\b\b\r",
            "23/63 [=========>....................] - ETA: 1s - loss: 0.0808 - accuracy: 0.9688"
          ]
        },
        {
          "name": "stdout",
          "output_type": "stream",
          "text": [
            "\b\b\b\b\b\b\b\b\b\b\b\b\b\b\b\b\b\b\b\b\b\b\b\b\b\b\b\b\b\b\b\b\b\b\b\b\b\b\b\b\b\b\b\b\b\b\b\b\b\b\b\b\b\b\b\b\b\b\b\b\b\b\b\b\b\b\b\b\b\b\b\b\b\b\b\b\b\b\b\b\b\b\r",
            "25/63 [==========>...................] - ETA: 1s - loss: 0.0806 - accuracy: 0.9688"
          ]
        },
        {
          "name": "stdout",
          "output_type": "stream",
          "text": [
            "\b\b\b\b\b\b\b\b\b\b\b\b\b\b\b\b\b\b\b\b\b\b\b\b\b\b\b\b\b\b\b\b\b\b\b\b\b\b\b\b\b\b\b\b\b\b\b\b\b\b\b\b\b\b\b\b\b\b\b\b\b\b\b\b\b\b\b\b\b\b\b\b\b\b\b\b\b\b\b\b\b\b\r",
            "27/63 [===========>..................] - ETA: 1s - loss: 0.0758 - accuracy: 0.9711"
          ]
        },
        {
          "name": "stdout",
          "output_type": "stream",
          "text": [
            "\b\b\b\b\b\b\b\b\b\b\b\b\b\b\b\b\b\b\b\b\b\b\b\b\b\b\b\b\b\b\b\b\b\b\b\b\b\b\b\b\b\b\b\b\b\b\b\b\b\b\b\b\b\b\b\b\b\b\b\b\b\b\b\b\b\b\b\b\b\b\b\b\b\b\b\b\b\b\b\b\b\b\r",
            "29/63 [============>.................] - ETA: 1s - loss: 0.0872 - accuracy: 0.9634"
          ]
        },
        {
          "name": "stdout",
          "output_type": "stream",
          "text": [
            "\b\b\b\b\b\b\b\b\b\b\b\b\b\b\b\b\b\b\b\b\b\b\b\b\b\b\b\b\b\b\b\b\b\b\b\b\b\b\b\b\b\b\b\b\b\b\b\b\b\b\b\b\b\b\b\b\b\b\b\b\b\b\b\b\b\b\b\b\b\b\b\b\b\b\b\b\b\b\b\b\b\b\r",
            "31/63 [=============>................] - ETA: 1s - loss: 0.0865 - accuracy: 0.9637"
          ]
        },
        {
          "name": "stdout",
          "output_type": "stream",
          "text": [
            "\b\b\b\b\b\b\b\b\b\b\b\b\b\b\b\b\b\b\b\b\b\b\b\b\b\b\b\b\b\b\b\b\b\b\b\b\b\b\b\b\b\b\b\b\b\b\b\b\b\b\b\b\b\b\b\b\b\b\b\b\b\b\b\b\b\b\b\b\b\b\b\b\b\b\b\b\b\b\b\b\b\b\r",
            "33/63 [==============>...............] - ETA: 1s - loss: 0.0838 - accuracy: 0.9650"
          ]
        },
        {
          "name": "stdout",
          "output_type": "stream",
          "text": [
            "\b\b\b\b\b\b\b\b\b\b\b\b\b\b\b\b\b\b\b\b\b\b\b\b\b\b\b\b\b\b\b\b\b\b\b\b\b\b\b\b\b\b\b\b\b\b\b\b\b\b\b\b\b\b\b\b\b\b\b\b\b\b\b\b\b\b\b\b\b\b\b\b\b\b\b\b\b\b\b\b\b\b\r",
            "35/63 [===============>..............] - ETA: 1s - loss: 0.0840 - accuracy: 0.9643"
          ]
        },
        {
          "name": "stdout",
          "output_type": "stream",
          "text": [
            "\b\b\b\b\b\b\b\b\b\b\b\b\b\b\b\b\b\b\b\b\b\b\b\b\b\b\b\b\b\b\b\b\b\b\b\b\b\b\b\b\b\b\b\b\b\b\b\b\b\b\b\b\b\b\b\b\b\b\b\b\b\b\b\b\b\b\b\b\b\b\b\b\b\b\b\b\b\b\b\b\b\b\r",
            "37/63 [================>.............] - ETA: 0s - loss: 0.0832 - accuracy: 0.9645"
          ]
        },
        {
          "name": "stdout",
          "output_type": "stream",
          "text": [
            "\b\b\b\b\b\b\b\b\b\b\b\b\b\b\b\b\b\b\b\b\b\b\b\b\b\b\b\b\b\b\b\b\b\b\b\b\b\b\b\b\b\b\b\b\b\b\b\b\b\b\b\b\b\b\b\b\b\b\b\b\b\b\b\b\b\b\b\b\b\b\b\b\b\b\b\b\b\b\b\b\b\b\r",
            "39/63 [=================>............] - ETA: 0s - loss: 0.0855 - accuracy: 0.9639"
          ]
        },
        {
          "name": "stdout",
          "output_type": "stream",
          "text": [
            "\b\b\b\b\b\b\b\b\b\b\b\b\b\b\b\b\b\b\b\b\b\b\b\b\b\b\b\b\b\b\b\b\b\b\b\b\b\b\b\b\b\b\b\b\b\b\b\b\b\b\b\b\b\b\b\b\b\b\b\b\b\b\b\b\b\b\b\b\b\b\b\b\b\b\b\b\b\b\b\b\b\b\r",
            "41/63 [==================>...........] - ETA: 0s - loss: 0.0824 - accuracy: 0.9657"
          ]
        },
        {
          "name": "stdout",
          "output_type": "stream",
          "text": [
            "\b\b\b\b\b\b\b\b\b\b\b\b\b\b\b\b\b\b\b\b\b\b\b\b\b\b\b\b\b\b\b\b\b\b\b\b\b\b\b\b\b\b\b\b\b\b\b\b\b\b\b\b\b\b\b\b\b\b\b\b\b\b\b\b\b\b\b\b\b\b\b\b\b\b\b\b\b\b\b\b\b\b\r",
            "43/63 [===================>..........] - ETA: 0s - loss: 0.0824 - accuracy: 0.9658"
          ]
        },
        {
          "name": "stdout",
          "output_type": "stream",
          "text": [
            "\b\b\b\b\b\b\b\b\b\b\b\b\b\b\b\b\b\b\b\b\b\b\b\b\b\b\b\b\b\b\b\b\b\b\b\b\b\b\b\b\b\b\b\b\b\b\b\b\b\b\b\b\b\b\b\b\b\b\b\b\b\b\b\b\b\b\b\b\b\b\b\b\b\b\b\b\b\b\b\b\b\b\r",
            "45/63 [====================>.........] - ETA: 0s - loss: 0.0797 - accuracy: 0.9674"
          ]
        },
        {
          "name": "stdout",
          "output_type": "stream",
          "text": [
            "\b\b\b\b\b\b\b\b\b\b\b\b\b\b\b\b\b\b\b\b\b\b\b\b\b\b\b\b\b\b\b\b\b\b\b\b\b\b\b\b\b\b\b\b\b\b\b\b\b\b\b\b\b\b\b\b\b\b\b\b\b\b\b\b\b\b\b\b\b\b\b\b\b\b\b\b\b\b\b\b\b\b\r",
            "47/63 [=====================>........] - ETA: 0s - loss: 0.0808 - accuracy: 0.9674"
          ]
        },
        {
          "name": "stdout",
          "output_type": "stream",
          "text": [
            "\b\b\b\b\b\b\b\b\b\b\b\b\b\b\b\b\b\b\b\b\b\b\b\b\b\b\b\b\b\b\b\b\b\b\b\b\b\b\b\b\b\b\b\b\b\b\b\b\b\b\b\b\b\b\b\b\b\b\b\b\b\b\b\b\b\b\b\b\b\b\b\b\b\b\b\b\b\b\b\b\b\b\r",
            "49/63 [======================>.......] - ETA: 0s - loss: 0.0783 - accuracy: 0.9688"
          ]
        },
        {
          "name": "stdout",
          "output_type": "stream",
          "text": [
            "\b\b\b\b\b\b\b\b\b\b\b\b\b\b\b\b\b\b\b\b\b\b\b\b\b\b\b\b\b\b\b\b\b\b\b\b\b\b\b\b\b\b\b\b\b\b\b\b\b\b\b\b\b\b\b\b\b\b\b\b\b\b\b\b\b\b\b\b\b\b\b\b\b\b\b\b\b\b\b\b\b\b\r",
            "51/63 [=======================>......] - ETA: 0s - loss: 0.0788 - accuracy: 0.9688"
          ]
        },
        {
          "name": "stdout",
          "output_type": "stream",
          "text": [
            "\b\b\b\b\b\b\b\b\b\b\b\b\b\b\b\b\b\b\b\b\b\b\b\b\b\b\b\b\b\b\b\b\b\b\b\b\b\b\b\b\b\b\b\b\b\b\b\b\b\b\b\b\b\b\b\b\b\b\b\b\b\b\b\b\b\b\b\b\b\b\b\b\b\b\b\b\b\b\b\b\b\b\r",
            "53/63 [========================>.....] - ETA: 0s - loss: 0.0786 - accuracy: 0.9676"
          ]
        },
        {
          "name": "stdout",
          "output_type": "stream",
          "text": [
            "\b\b\b\b\b\b\b\b\b\b\b\b\b\b\b\b\b\b\b\b\b\b\b\b\b\b\b\b\b\b\b\b\b\b\b\b\b\b\b\b\b\b\b\b\b\b\b\b\b\b\b\b\b\b\b\b\b\b\b\b\b\b\b\b\b\b\b\b\b\b\b\b\b\b\b\b\b\b\b\b\b\b\r",
            "55/63 [=========================>....] - ETA: 0s - loss: 0.0804 - accuracy: 0.9665"
          ]
        },
        {
          "name": "stdout",
          "output_type": "stream",
          "text": [
            "\b\b\b\b\b\b\b\b\b\b\b\b\b\b\b\b\b\b\b\b\b\b\b\b\b\b\b\b\b\b\b\b\b\b\b\b\b\b\b\b\b\b\b\b\b\b\b\b\b\b\b\b\b\b\b\b\b\b\b\b\b\b\b\b\b\b\b\b\b\b\b\b\b\b\b\b\b\b\b\b\b\b\r",
            "57/63 [==========================>...] - ETA: 0s - loss: 0.0788 - accuracy: 0.9671"
          ]
        },
        {
          "name": "stdout",
          "output_type": "stream",
          "text": [
            "\b\b\b\b\b\b\b\b\b\b\b\b\b\b\b\b\b\b\b\b\b\b\b\b\b\b\b\b\b\b\b\b\b\b\b\b\b\b\b\b\b\b\b\b\b\b\b\b\b\b\b\b\b\b\b\b\b\b\b\b\b\b\b\b\b\b\b\b\b\b\b\b\b\b\b\b\b\b\b\b\b\b\r",
            "59/63 [===========================>..] - ETA: 0s - loss: 0.0780 - accuracy: 0.9672"
          ]
        },
        {
          "name": "stdout",
          "output_type": "stream",
          "text": [
            "\b\b\b\b\b\b\b\b\b\b\b\b\b\b\b\b\b\b\b\b\b\b\b\b\b\b\b\b\b\b\b\b\b\b\b\b\b\b\b\b\b\b\b\b\b\b\b\b\b\b\b\b\b\b\b\b\b\b\b\b\b\b\b\b\b\b\b\b\b\b\b\b\b\b\b\b\b\b\b\b\b\b\r",
            "61/63 [============================>.] - ETA: 0s - loss: 0.0773 - accuracy: 0.9677"
          ]
        },
        {
          "name": "stdout",
          "output_type": "stream",
          "text": [
            "\b\b\b\b\b\b\b\b\b\b\b\b\b\b\b\b\b\b\b\b\b\b\b\b\b\b\b\b\b\b\b\b\b\b\b\b\b\b\b\b\b\b\b\b\b\b\b\b\b\b\b\b\b\b\b\b\b\b\b\b\b\b\b\b\b\b\b\b\b\b\b\b\b\b\b\b\b\b\b\b\b\b\r",
            "63/63 [==============================] - ETA: 0s - loss: 0.0776 - accuracy: 0.9680"
          ]
        },
        {
          "name": "stdout",
          "output_type": "stream",
          "text": [
            "\b\b\b\b\b\b\b\b\b\b\b\b\b\b\b\b\b\b\b\b\b\b\b\b\b\b\b\b\b\b\b\b\b\b\b\b\b\b\b\b\b\b\b\b\b\b\b\b\b\b\b\b\b\b\b\b\b\b\b\b\b\b\b\b\b\b\b\b\b\b\b\b\b\b\b\b\b\b\b\b\b\b\r",
            "63/63 [==============================] - 3s 44ms/step - loss: 0.0776 - accuracy: 0.9680 - val_loss: 0.0279 - val_accuracy: 0.9864\n"
          ]
        },
        {
          "name": "stdout",
          "output_type": "stream",
          "text": [
            "Epoch 18/20\n"
          ]
        },
        {
          "name": "stdout",
          "output_type": "stream",
          "text": [
            "\r",
            " 1/63 [..............................] - ETA: 3s - loss: 0.0141 - accuracy: 1.0000"
          ]
        },
        {
          "name": "stdout",
          "output_type": "stream",
          "text": [
            "\b\b\b\b\b\b\b\b\b\b\b\b\b\b\b\b\b\b\b\b\b\b\b\b\b\b\b\b\b\b\b\b\b\b\b\b\b\b\b\b\b\b\b\b\b\b\b\b\b\b\b\b\b\b\b\b\b\b\b\b\b\b\b\b\b\b\b\b\b\b\b\b\b\b\b\b\b\b\b\b\b\b\r",
            " 3/63 [>.............................] - ETA: 2s - loss: 0.0772 - accuracy: 0.9792"
          ]
        },
        {
          "name": "stdout",
          "output_type": "stream",
          "text": [
            "\b\b\b\b\b\b\b\b\b\b\b\b\b\b\b\b\b\b\b\b\b\b\b\b\b\b\b\b\b\b\b\b\b\b\b\b\b\b\b\b\b\b\b\b\b\b\b\b\b\b\b\b\b\b\b\b\b\b\b\b\b\b\b\b\b\b\b\b\b\b\b\b\b\b\b\b\b\b\b\b\b\b\r",
            " 5/63 [=>............................] - ETA: 2s - loss: 0.0698 - accuracy: 0.9812"
          ]
        },
        {
          "name": "stdout",
          "output_type": "stream",
          "text": [
            "\b\b\b\b\b\b\b\b\b\b\b\b\b\b\b\b\b\b\b\b\b\b\b\b\b\b\b\b\b\b\b\b\b\b\b\b\b\b\b\b\b\b\b\b\b\b\b\b\b\b\b\b\b\b\b\b\b\b\b\b\b\b\b\b\b\b\b\b\b\b\b\b\b\b\b\b\b\b\b\b\b\b\r",
            " 7/63 [==>...........................] - ETA: 2s - loss: 0.0621 - accuracy: 0.9821"
          ]
        },
        {
          "name": "stdout",
          "output_type": "stream",
          "text": [
            "\b\b\b\b\b\b\b\b\b\b\b\b\b\b\b\b\b\b\b\b\b\b\b\b\b\b\b\b\b\b\b\b\b\b\b\b\b\b\b\b\b\b\b\b\b\b\b\b\b\b\b\b\b\b\b\b\b\b\b\b\b\b\b\b\b\b\b\b\b\b\b\b\b\b\b\b\b\b\b\b\b\b\r",
            " 9/63 [===>..........................] - ETA: 2s - loss: 0.0577 - accuracy: 0.9792"
          ]
        },
        {
          "name": "stdout",
          "output_type": "stream",
          "text": [
            "\b\b\b\b\b\b\b\b\b\b\b\b\b\b\b\b\b\b\b\b\b\b\b\b\b\b\b\b\b\b\b\b\b\b\b\b\b\b\b\b\b\b\b\b\b\b\b\b\b\b\b\b\b\b\b\b\b\b\b\b\b\b\b\b\b\b\b\b\b\b\b\b\b\b\b\b\b\b\b\b\b\b\r",
            "11/63 [====>.........................] - ETA: 1s - loss: 0.0533 - accuracy: 0.9801"
          ]
        },
        {
          "name": "stdout",
          "output_type": "stream",
          "text": [
            "\b\b\b\b\b\b\b\b\b\b\b\b\b\b\b\b\b\b\b\b\b\b\b\b\b\b\b\b\b\b\b\b\b\b\b\b\b\b\b\b\b\b\b\b\b\b\b\b\b\b\b\b\b\b\b\b\b\b\b\b\b\b\b\b\b\b\b\b\b\b\b\b\b\b\b\b\b\b\b\b\b\b\r",
            "13/63 [=====>........................] - ETA: 1s - loss: 0.0530 - accuracy: 0.9808"
          ]
        },
        {
          "name": "stdout",
          "output_type": "stream",
          "text": [
            "\b\b\b\b\b\b\b\b\b\b\b\b\b\b\b\b\b\b\b\b\b\b\b\b\b\b\b\b\b\b\b\b\b\b\b\b\b\b\b\b\b\b\b\b\b\b\b\b\b\b\b\b\b\b\b\b\b\b\b\b\b\b\b\b\b\b\b\b\b\b\b\b\b\b\b\b\b\b\b\b\b\b\r",
            "15/63 [======>.......................] - ETA: 1s - loss: 0.0478 - accuracy: 0.9833"
          ]
        },
        {
          "name": "stdout",
          "output_type": "stream",
          "text": [
            "\b\b\b\b\b\b\b\b\b\b\b\b\b\b\b\b\b\b\b\b\b\b\b\b\b\b\b\b\b\b\b\b\b\b\b\b\b\b\b\b\b\b\b\b\b\b\b\b\b\b\b\b\b\b\b\b\b\b\b\b\b\b\b\b\b\b\b\b\b\b\b\b\b\b\b\b\b\b\b\b\b\b\r",
            "17/63 [=======>......................] - ETA: 1s - loss: 0.0493 - accuracy: 0.9798"
          ]
        },
        {
          "name": "stdout",
          "output_type": "stream",
          "text": [
            "\b\b\b\b\b\b\b\b\b\b\b\b\b\b\b\b\b\b\b\b\b\b\b\b\b\b\b\b\b\b\b\b\b\b\b\b\b\b\b\b\b\b\b\b\b\b\b\b\b\b\b\b\b\b\b\b\b\b\b\b\b\b\b\b\b\b\b\b\b\b\b\b\b\b\b\b\b\b\b\b\b\b\r",
            "19/63 [========>.....................] - ETA: 1s - loss: 0.0512 - accuracy: 0.9786"
          ]
        },
        {
          "name": "stdout",
          "output_type": "stream",
          "text": [
            "\b\b\b\b\b\b\b\b\b\b\b\b\b\b\b\b\b\b\b\b\b\b\b\b\b\b\b\b\b\b\b\b\b\b\b\b\b\b\b\b\b\b\b\b\b\b\b\b\b\b\b\b\b\b\b\b\b\b\b\b\b\b\b\b\b\b\b\b\b\b\b\b\b\b\b\b\b\b\b\b\b\b\r",
            "21/63 [=========>....................] - ETA: 1s - loss: 0.0475 - accuracy: 0.9807"
          ]
        },
        {
          "name": "stdout",
          "output_type": "stream",
          "text": [
            "\b\b\b\b\b\b\b\b\b\b\b\b\b\b\b\b\b\b\b\b\b\b\b\b\b\b\b\b\b\b\b\b\b\b\b\b\b\b\b\b\b\b\b\b\b\b\b\b\b\b\b\b\b\b\b\b\b\b\b\b\b\b\b\b\b\b\b\b\b\b\b\b\b\b\b\b\b\b\b\b\b\b\r",
            "23/63 [=========>....................] - ETA: 1s - loss: 0.0455 - accuracy: 0.9810"
          ]
        },
        {
          "name": "stdout",
          "output_type": "stream",
          "text": [
            "\b\b\b\b\b\b\b\b\b\b\b\b\b\b\b\b\b\b\b\b\b\b\b\b\b\b\b\b\b\b\b\b\b\b\b\b\b\b\b\b\b\b\b\b\b\b\b\b\b\b\b\b\b\b\b\b\b\b\b\b\b\b\b\b\b\b\b\b\b\b\b\b\b\b\b\b\b\b\b\b\b\b\r",
            "25/63 [==========>...................] - ETA: 1s - loss: 0.0434 - accuracy: 0.9825"
          ]
        },
        {
          "name": "stdout",
          "output_type": "stream",
          "text": [
            "\b\b\b\b\b\b\b\b\b\b\b\b\b\b\b\b\b\b\b\b\b\b\b\b\b\b\b\b\b\b\b\b\b\b\b\b\b\b\b\b\b\b\b\b\b\b\b\b\b\b\b\b\b\b\b\b\b\b\b\b\b\b\b\b\b\b\b\b\b\b\b\b\b\b\b\b\b\b\b\b\b\b\r",
            "27/63 [===========>..................] - ETA: 1s - loss: 0.0526 - accuracy: 0.9780"
          ]
        },
        {
          "name": "stdout",
          "output_type": "stream",
          "text": [
            "\b\b\b\b\b\b\b\b\b\b\b\b\b\b\b\b\b\b\b\b\b\b\b\b\b\b\b\b\b\b\b\b\b\b\b\b\b\b\b\b\b\b\b\b\b\b\b\b\b\b\b\b\b\b\b\b\b\b\b\b\b\b\b\b\b\b\b\b\b\b\b\b\b\b\b\b\b\b\b\b\b\b\r",
            "29/63 [============>.................] - ETA: 1s - loss: 0.0608 - accuracy: 0.9741"
          ]
        },
        {
          "name": "stdout",
          "output_type": "stream",
          "text": [
            "\b\b\b\b\b\b\b\b\b\b\b\b\b\b\b\b\b\b\b\b\b\b\b\b\b\b\b\b\b\b\b\b\b\b\b\b\b\b\b\b\b\b\b\b\b\b\b\b\b\b\b\b\b\b\b\b\b\b\b\b\b\b\b\b\b\b\b\b\b\b\b\b\b\b\b\b\b\b\b\b\b\b\r",
            "31/63 [=============>................] - ETA: 1s - loss: 0.0623 - accuracy: 0.9728"
          ]
        },
        {
          "name": "stdout",
          "output_type": "stream",
          "text": [
            "\b\b\b\b\b\b\b\b\b\b\b\b\b\b\b\b\b\b\b\b\b\b\b\b\b\b\b\b\b\b\b\b\b\b\b\b\b\b\b\b\b\b\b\b\b\b\b\b\b\b\b\b\b\b\b\b\b\b\b\b\b\b\b\b\b\b\b\b\b\b\b\b\b\b\b\b\b\b\b\b\b\b\r",
            "33/63 [==============>...............] - ETA: 1s - loss: 0.0613 - accuracy: 0.9735"
          ]
        },
        {
          "name": "stdout",
          "output_type": "stream",
          "text": [
            "\b\b\b\b\b\b\b\b\b\b\b\b\b\b\b\b\b\b\b\b\b\b\b\b\b\b\b\b\b\b\b\b\b\b\b\b\b\b\b\b\b\b\b\b\b\b\b\b\b\b\b\b\b\b\b\b\b\b\b\b\b\b\b\b\b\b\b\b\b\b\b\b\b\b\b\b\b\b\b\b\b\b\r",
            "35/63 [===============>..............] - ETA: 1s - loss: 0.0651 - accuracy: 0.9723"
          ]
        },
        {
          "name": "stdout",
          "output_type": "stream",
          "text": [
            "\b\b\b\b\b\b\b\b\b\b\b\b\b\b\b\b\b\b\b\b\b\b\b\b\b\b\b\b\b\b\b\b\b\b\b\b\b\b\b\b\b\b\b\b\b\b\b\b\b\b\b\b\b\b\b\b\b\b\b\b\b\b\b\b\b\b\b\b\b\b\b\b\b\b\b\b\b\b\b\b\b\b\r",
            "37/63 [================>.............] - ETA: 0s - loss: 0.0661 - accuracy: 0.9721"
          ]
        },
        {
          "name": "stdout",
          "output_type": "stream",
          "text": [
            "\b\b\b\b\b\b\b\b\b\b\b\b\b\b\b\b\b\b\b\b\b\b\b\b\b\b\b\b\b\b\b\b\b\b\b\b\b\b\b\b\b\b\b\b\b\b\b\b\b\b\b\b\b\b\b\b\b\b\b\b\b\b\b\b\b\b\b\b\b\b\b\b\b\b\b\b\b\b\b\b\b\b\r",
            "39/63 [=================>............] - ETA: 0s - loss: 0.0668 - accuracy: 0.9720"
          ]
        },
        {
          "name": "stdout",
          "output_type": "stream",
          "text": [
            "\b\b\b\b\b\b\b\b\b\b\b\b\b\b\b\b\b\b\b\b\b\b\b\b\b\b\b\b\b\b\b\b\b\b\b\b\b\b\b\b\b\b\b\b\b\b\b\b\b\b\b\b\b\b\b\b\b\b\b\b\b\b\b\b\b\b\b\b\b\b\b\b\b\b\b\b\b\b\b\b\b\b\r",
            "41/63 [==================>...........] - ETA: 0s - loss: 0.0658 - accuracy: 0.9726"
          ]
        },
        {
          "name": "stdout",
          "output_type": "stream",
          "text": [
            "\b\b\b\b\b\b\b\b\b\b\b\b\b\b\b\b\b\b\b\b\b\b\b\b\b\b\b\b\b\b\b\b\b\b\b\b\b\b\b\b\b\b\b\b\b\b\b\b\b\b\b\b\b\b\b\b\b\b\b\b\b\b\b\b\b\b\b\b\b\b\b\b\b\b\b\b\b\b\b\b\b\b\r",
            "43/63 [===================>..........] - ETA: 0s - loss: 0.0648 - accuracy: 0.9731"
          ]
        },
        {
          "name": "stdout",
          "output_type": "stream",
          "text": [
            "\b\b\b\b\b\b\b\b\b\b\b\b\b\b\b\b\b\b\b\b\b\b\b\b\b\b\b\b\b\b\b\b\b\b\b\b\b\b\b\b\b\b\b\b\b\b\b\b\b\b\b\b\b\b\b\b\b\b\b\b\b\b\b\b\b\b\b\b\b\b\b\b\b\b\b\b\b\b\b\b\b\b\r",
            "45/63 [====================>.........] - ETA: 0s - loss: 0.0658 - accuracy: 0.9715"
          ]
        },
        {
          "name": "stdout",
          "output_type": "stream",
          "text": [
            "\b\b\b\b\b\b\b\b\b\b\b\b\b\b\b\b\b\b\b\b\b\b\b\b\b\b\b\b\b\b\b\b\b\b\b\b\b\b\b\b\b\b\b\b\b\b\b\b\b\b\b\b\b\b\b\b\b\b\b\b\b\b\b\b\b\b\b\b\b\b\b\b\b\b\b\b\b\b\b\b\b\b\r",
            "47/63 [=====================>........] - ETA: 0s - loss: 0.0639 - accuracy: 0.9727"
          ]
        },
        {
          "name": "stdout",
          "output_type": "stream",
          "text": [
            "\b\b\b\b\b\b\b\b\b\b\b\b\b\b\b\b\b\b\b\b\b\b\b\b\b\b\b\b\b\b\b\b\b\b\b\b\b\b\b\b\b\b\b\b\b\b\b\b\b\b\b\b\b\b\b\b\b\b\b\b\b\b\b\b\b\b\b\b\b\b\b\b\b\b\b\b\b\b\b\b\b\b\r",
            "49/63 [======================>.......] - ETA: 0s - loss: 0.0636 - accuracy: 0.9726"
          ]
        },
        {
          "name": "stdout",
          "output_type": "stream",
          "text": [
            "\b\b\b\b\b\b\b\b\b\b\b\b\b\b\b\b\b\b\b\b\b\b\b\b\b\b\b\b\b\b\b\b\b\b\b\b\b\b\b\b\b\b\b\b\b\b\b\b\b\b\b\b\b\b\b\b\b\b\b\b\b\b\b\b\b\b\b\b\b\b\b\b\b\b\b\b\b\b\b\b\b\b\r",
            "51/63 [=======================>......] - ETA: 0s - loss: 0.0625 - accuracy: 0.9730"
          ]
        },
        {
          "name": "stdout",
          "output_type": "stream",
          "text": [
            "\b\b\b\b\b\b\b\b\b\b\b\b\b\b\b\b\b\b\b\b\b\b\b\b\b\b\b\b\b\b\b\b\b\b\b\b\b\b\b\b\b\b\b\b\b\b\b\b\b\b\b\b\b\b\b\b\b\b\b\b\b\b\b\b\b\b\b\b\b\b\b\b\b\b\b\b\b\b\b\b\b\b\r",
            "53/63 [========================>.....] - ETA: 0s - loss: 0.0627 - accuracy: 0.9735"
          ]
        },
        {
          "name": "stdout",
          "output_type": "stream",
          "text": [
            "\b\b\b\b\b\b\b\b\b\b\b\b\b\b\b\b\b\b\b\b\b\b\b\b\b\b\b\b\b\b\b\b\b\b\b\b\b\b\b\b\b\b\b\b\b\b\b\b\b\b\b\b\b\b\b\b\b\b\b\b\b\b\b\b\b\b\b\b\b\b\b\b\b\b\b\b\b\b\b\b\b\b\r",
            "55/63 [=========================>....] - ETA: 0s - loss: 0.0646 - accuracy: 0.9733"
          ]
        },
        {
          "name": "stdout",
          "output_type": "stream",
          "text": [
            "\b\b\b\b\b\b\b\b\b\b\b\b\b\b\b\b\b\b\b\b\b\b\b\b\b\b\b\b\b\b\b\b\b\b\b\b\b\b\b\b\b\b\b\b\b\b\b\b\b\b\b\b\b\b\b\b\b\b\b\b\b\b\b\b\b\b\b\b\b\b\b\b\b\b\b\b\b\b\b\b\b\b\r",
            "57/63 [==========================>...] - ETA: 0s - loss: 0.0640 - accuracy: 0.9731"
          ]
        },
        {
          "name": "stdout",
          "output_type": "stream",
          "text": [
            "\b\b\b\b\b\b\b\b\b\b\b\b\b\b\b\b\b\b\b\b\b\b\b\b\b\b\b\b\b\b\b\b\b\b\b\b\b\b\b\b\b\b\b\b\b\b\b\b\b\b\b\b\b\b\b\b\b\b\b\b\b\b\b\b\b\b\b\b\b\b\b\b\b\b\b\b\b\b\b\b\b\b\r",
            "59/63 [===========================>..] - ETA: 0s - loss: 0.0636 - accuracy: 0.9735"
          ]
        },
        {
          "name": "stdout",
          "output_type": "stream",
          "text": [
            "\b\b\b\b\b\b\b\b\b\b\b\b\b\b\b\b\b\b\b\b\b\b\b\b\b\b\b\b\b\b\b\b\b\b\b\b\b\b\b\b\b\b\b\b\b\b\b\b\b\b\b\b\b\b\b\b\b\b\b\b\b\b\b\b\b\b\b\b\b\b\b\b\b\b\b\b\b\b\b\b\b\b\r",
            "61/63 [============================>.] - ETA: 0s - loss: 0.0656 - accuracy: 0.9723"
          ]
        },
        {
          "name": "stdout",
          "output_type": "stream",
          "text": [
            "\b\b\b\b\b\b\b\b\b\b\b\b\b\b\b\b\b\b\b\b\b\b\b\b\b\b\b\b\b\b\b\b\b\b\b\b\b\b\b\b\b\b\b\b\b\b\b\b\b\b\b\b\b\b\b\b\b\b\b\b\b\b\b\b\b\b\b\b\b\b\b\b\b\b\b\b\b\b\b\b\b\b\r",
            "63/63 [==============================] - ETA: 0s - loss: 0.0646 - accuracy: 0.9730"
          ]
        },
        {
          "name": "stdout",
          "output_type": "stream",
          "text": [
            "\b\b\b\b\b\b\b\b\b\b\b\b\b\b\b\b\b\b\b\b\b\b\b\b\b\b\b\b\b\b\b\b\b\b\b\b\b\b\b\b\b\b\b\b\b\b\b\b\b\b\b\b\b\b\b\b\b\b\b\b\b\b\b\b\b\b\b\b\b\b\b\b\b\b\b\b\b\b\b\b\b\b\r",
            "63/63 [==============================] - 3s 44ms/step - loss: 0.0646 - accuracy: 0.9730 - val_loss: 0.0244 - val_accuracy: 0.9913\n"
          ]
        },
        {
          "name": "stdout",
          "output_type": "stream",
          "text": [
            "Epoch 19/20\n"
          ]
        },
        {
          "name": "stdout",
          "output_type": "stream",
          "text": [
            "\r",
            " 1/63 [..............................] - ETA: 3s - loss: 0.0136 - accuracy: 1.0000"
          ]
        },
        {
          "name": "stdout",
          "output_type": "stream",
          "text": [
            "\b\b\b\b\b\b\b\b\b\b\b\b\b\b\b\b\b\b\b\b\b\b\b\b\b\b\b\b\b\b\b\b\b\b\b\b\b\b\b\b\b\b\b\b\b\b\b\b\b\b\b\b\b\b\b\b\b\b\b\b\b\b\b\b\b\b\b\b\b\b\b\b\b\b\b\b\b\b\b\b\b\b\r",
            " 3/63 [>.............................] - ETA: 2s - loss: 0.0261 - accuracy: 0.9896"
          ]
        },
        {
          "name": "stdout",
          "output_type": "stream",
          "text": [
            "\b\b\b\b\b\b\b\b\b\b\b\b\b\b\b\b\b\b\b\b\b\b\b\b\b\b\b\b\b\b\b\b\b\b\b\b\b\b\b\b\b\b\b\b\b\b\b\b\b\b\b\b\b\b\b\b\b\b\b\b\b\b\b\b\b\b\b\b\b\b\b\b\b\b\b\b\b\b\b\b\b\b\r",
            " 5/63 [=>............................] - ETA: 2s - loss: 0.0375 - accuracy: 0.9750"
          ]
        },
        {
          "name": "stdout",
          "output_type": "stream",
          "text": [
            "\b\b\b\b\b\b\b\b\b\b\b\b\b\b\b\b\b\b\b\b\b\b\b\b\b\b\b\b\b\b\b\b\b\b\b\b\b\b\b\b\b\b\b\b\b\b\b\b\b\b\b\b\b\b\b\b\b\b\b\b\b\b\b\b\b\b\b\b\b\b\b\b\b\b\b\b\b\b\b\b\b\b\r",
            " 7/63 [==>...........................] - ETA: 2s - loss: 0.0393 - accuracy: 0.9777"
          ]
        },
        {
          "name": "stdout",
          "output_type": "stream",
          "text": [
            "\b\b\b\b\b\b\b\b\b\b\b\b\b\b\b\b\b\b\b\b\b\b\b\b\b\b\b\b\b\b\b\b\b\b\b\b\b\b\b\b\b\b\b\b\b\b\b\b\b\b\b\b\b\b\b\b\b\b\b\b\b\b\b\b\b\b\b\b\b\b\b\b\b\b\b\b\b\b\b\b\b\b\r",
            " 9/63 [===>..........................] - ETA: 2s - loss: 0.0380 - accuracy: 0.9792"
          ]
        },
        {
          "name": "stdout",
          "output_type": "stream",
          "text": [
            "\b\b\b\b\b\b\b\b\b\b\b\b\b\b\b\b\b\b\b\b\b\b\b\b\b\b\b\b\b\b\b\b\b\b\b\b\b\b\b\b\b\b\b\b\b\b\b\b\b\b\b\b\b\b\b\b\b\b\b\b\b\b\b\b\b\b\b\b\b\b\b\b\b\b\b\b\b\b\b\b\b\b\r",
            "11/63 [====>.........................] - ETA: 1s - loss: 0.0402 - accuracy: 0.9801"
          ]
        },
        {
          "name": "stdout",
          "output_type": "stream",
          "text": [
            "\b\b\b\b\b\b\b\b\b\b\b\b\b\b\b\b\b\b\b\b\b\b\b\b\b\b\b\b\b\b\b\b\b\b\b\b\b\b\b\b\b\b\b\b\b\b\b\b\b\b\b\b\b\b\b\b\b\b\b\b\b\b\b\b\b\b\b\b\b\b\b\b\b\b\b\b\b\b\b\b\b\b\r",
            "13/63 [=====>........................] - ETA: 1s - loss: 0.0367 - accuracy: 0.9808"
          ]
        },
        {
          "name": "stdout",
          "output_type": "stream",
          "text": [
            "\b\b\b\b\b\b\b\b\b\b\b\b\b\b\b\b\b\b\b\b\b\b\b\b\b\b\b\b\b\b\b\b\b\b\b\b\b\b\b\b\b\b\b\b\b\b\b\b\b\b\b\b\b\b\b\b\b\b\b\b\b\b\b\b\b\b\b\b\b\b\b\b\b\b\b\b\b\b\b\b\b\b\r",
            "15/63 [======>.......................] - ETA: 1s - loss: 0.0356 - accuracy: 0.9792"
          ]
        },
        {
          "name": "stdout",
          "output_type": "stream",
          "text": [
            "\b\b\b\b\b\b\b\b\b\b\b\b\b\b\b\b\b\b\b\b\b\b\b\b\b\b\b\b\b\b\b\b\b\b\b\b\b\b\b\b\b\b\b\b\b\b\b\b\b\b\b\b\b\b\b\b\b\b\b\b\b\b\b\b\b\b\b\b\b\b\b\b\b\b\b\b\b\b\b\b\b\b\r",
            "17/63 [=======>......................] - ETA: 1s - loss: 0.0350 - accuracy: 0.9816"
          ]
        },
        {
          "name": "stdout",
          "output_type": "stream",
          "text": [
            "\b\b\b\b\b\b\b\b\b\b\b\b\b\b\b\b\b\b\b\b\b\b\b\b\b\b\b\b\b\b\b\b\b\b\b\b\b\b\b\b\b\b\b\b\b\b\b\b\b\b\b\b\b\b\b\b\b\b\b\b\b\b\b\b\b\b\b\b\b\b\b\b\b\b\b\b\b\b\b\b\b\b\r",
            "19/63 [========>.....................] - ETA: 1s - loss: 0.0373 - accuracy: 0.9803"
          ]
        },
        {
          "name": "stdout",
          "output_type": "stream",
          "text": [
            "\b\b\b\b\b\b\b\b\b\b\b\b\b\b\b\b\b\b\b\b\b\b\b\b\b\b\b\b\b\b\b\b\b\b\b\b\b\b\b\b\b\b\b\b\b\b\b\b\b\b\b\b\b\b\b\b\b\b\b\b\b\b\b\b\b\b\b\b\b\b\b\b\b\b\b\b\b\b\b\b\b\b\r",
            "21/63 [=========>....................] - ETA: 1s - loss: 0.0427 - accuracy: 0.9777"
          ]
        },
        {
          "name": "stdout",
          "output_type": "stream",
          "text": [
            "\b\b\b\b\b\b\b\b\b\b\b\b\b\b\b\b\b\b\b\b\b\b\b\b\b\b\b\b\b\b\b\b\b\b\b\b\b\b\b\b\b\b\b\b\b\b\b\b\b\b\b\b\b\b\b\b\b\b\b\b\b\b\b\b\b\b\b\b\b\b\b\b\b\b\b\b\b\b\b\b\b\b\r",
            "23/63 [=========>....................] - ETA: 1s - loss: 0.0504 - accuracy: 0.9755"
          ]
        },
        {
          "name": "stdout",
          "output_type": "stream",
          "text": [
            "\b\b\b\b\b\b\b\b\b\b\b\b\b\b\b\b\b\b\b\b\b\b\b\b\b\b\b\b\b\b\b\b\b\b\b\b\b\b\b\b\b\b\b\b\b\b\b\b\b\b\b\b\b\b\b\b\b\b\b\b\b\b\b\b\b\b\b\b\b\b\b\b\b\b\b\b\b\b\b\b\b\b\r",
            "25/63 [==========>...................] - ETA: 1s - loss: 0.0487 - accuracy: 0.9775"
          ]
        },
        {
          "name": "stdout",
          "output_type": "stream",
          "text": [
            "\b\b\b\b\b\b\b\b\b\b\b\b\b\b\b\b\b\b\b\b\b\b\b\b\b\b\b\b\b\b\b\b\b\b\b\b\b\b\b\b\b\b\b\b\b\b\b\b\b\b\b\b\b\b\b\b\b\b\b\b\b\b\b\b\b\b\b\b\b\b\b\b\b\b\b\b\b\b\b\b\b\b\r",
            "27/63 [===========>..................] - ETA: 1s - loss: 0.0515 - accuracy: 0.9769"
          ]
        },
        {
          "name": "stdout",
          "output_type": "stream",
          "text": [
            "\b\b\b\b\b\b\b\b\b\b\b\b\b\b\b\b\b\b\b\b\b\b\b\b\b\b\b\b\b\b\b\b\b\b\b\b\b\b\b\b\b\b\b\b\b\b\b\b\b\b\b\b\b\b\b\b\b\b\b\b\b\b\b\b\b\b\b\b\b\b\b\b\b\b\b\b\b\b\b\b\b\b\r",
            "29/63 [============>.................] - ETA: 1s - loss: 0.0500 - accuracy: 0.9774"
          ]
        },
        {
          "name": "stdout",
          "output_type": "stream",
          "text": [
            "\b\b\b\b\b\b\b\b\b\b\b\b\b\b\b\b\b\b\b\b\b\b\b\b\b\b\b\b\b\b\b\b\b\b\b\b\b\b\b\b\b\b\b\b\b\b\b\b\b\b\b\b\b\b\b\b\b\b\b\b\b\b\b\b\b\b\b\b\b\b\b\b\b\b\b\b\b\b\b\b\b\b\r",
            "31/63 [=============>................] - ETA: 1s - loss: 0.0508 - accuracy: 0.9768"
          ]
        },
        {
          "name": "stdout",
          "output_type": "stream",
          "text": [
            "\b\b\b\b\b\b\b\b\b\b\b\b\b\b\b\b\b\b\b\b\b\b\b\b\b\b\b\b\b\b\b\b\b\b\b\b\b\b\b\b\b\b\b\b\b\b\b\b\b\b\b\b\b\b\b\b\b\b\b\b\b\b\b\b\b\b\b\b\b\b\b\b\b\b\b\b\b\b\b\b\b\b\r",
            "33/63 [==============>...............] - ETA: 1s - loss: 0.0508 - accuracy: 0.9773"
          ]
        },
        {
          "name": "stdout",
          "output_type": "stream",
          "text": [
            "\b\b\b\b\b\b\b\b\b\b\b\b\b\b\b\b\b\b\b\b\b\b\b\b\b\b\b\b\b\b\b\b\b\b\b\b\b\b\b\b\b\b\b\b\b\b\b\b\b\b\b\b\b\b\b\b\b\b\b\b\b\b\b\b\b\b\b\b\b\b\b\b\b\b\b\b\b\b\b\b\b\b\r",
            "35/63 [===============>..............] - ETA: 1s - loss: 0.0514 - accuracy: 0.9777"
          ]
        },
        {
          "name": "stdout",
          "output_type": "stream",
          "text": [
            "\b\b\b\b\b\b\b\b\b\b\b\b\b\b\b\b\b\b\b\b\b\b\b\b\b\b\b\b\b\b\b\b\b\b\b\b\b\b\b\b\b\b\b\b\b\b\b\b\b\b\b\b\b\b\b\b\b\b\b\b\b\b\b\b\b\b\b\b\b\b\b\b\b\b\b\b\b\b\b\b\b\b\r",
            "37/63 [================>.............] - ETA: 0s - loss: 0.0528 - accuracy: 0.9772"
          ]
        },
        {
          "name": "stdout",
          "output_type": "stream",
          "text": [
            "\b\b\b\b\b\b\b\b\b\b\b\b\b\b\b\b\b\b\b\b\b\b\b\b\b\b\b\b\b\b\b\b\b\b\b\b\b\b\b\b\b\b\b\b\b\b\b\b\b\b\b\b\b\b\b\b\b\b\b\b\b\b\b\b\b\b\b\b\b\b\b\b\b\b\b\b\b\b\b\b\b\b\r",
            "39/63 [=================>............] - ETA: 0s - loss: 0.0519 - accuracy: 0.9784"
          ]
        },
        {
          "name": "stdout",
          "output_type": "stream",
          "text": [
            "\b\b\b\b\b\b\b\b\b\b\b\b\b\b\b\b\b\b\b\b\b\b\b\b\b\b\b\b\b\b\b\b\b\b\b\b\b\b\b\b\b\b\b\b\b\b\b\b\b\b\b\b\b\b\b\b\b\b\b\b\b\b\b\b\b\b\b\b\b\b\b\b\b\b\b\b\b\b\b\b\b\b\r",
            "41/63 [==================>...........] - ETA: 0s - loss: 0.0513 - accuracy: 0.9779"
          ]
        },
        {
          "name": "stdout",
          "output_type": "stream",
          "text": [
            "\b\b\b\b\b\b\b\b\b\b\b\b\b\b\b\b\b\b\b\b\b\b\b\b\b\b\b\b\b\b\b\b\b\b\b\b\b\b\b\b\b\b\b\b\b\b\b\b\b\b\b\b\b\b\b\b\b\b\b\b\b\b\b\b\b\b\b\b\b\b\b\b\b\b\b\b\b\b\b\b\b\b\r",
            "43/63 [===================>..........] - ETA: 0s - loss: 0.0537 - accuracy: 0.9767"
          ]
        },
        {
          "name": "stdout",
          "output_type": "stream",
          "text": [
            "\b\b\b\b\b\b\b\b\b\b\b\b\b\b\b\b\b\b\b\b\b\b\b\b\b\b\b\b\b\b\b\b\b\b\b\b\b\b\b\b\b\b\b\b\b\b\b\b\b\b\b\b\b\b\b\b\b\b\b\b\b\b\b\b\b\b\b\b\b\b\b\b\b\b\b\b\b\b\b\b\b\b\r",
            "45/63 [====================>.........] - ETA: 0s - loss: 0.0562 - accuracy: 0.9757"
          ]
        },
        {
          "name": "stdout",
          "output_type": "stream",
          "text": [
            "\b\b\b\b\b\b\b\b\b\b\b\b\b\b\b\b\b\b\b\b\b\b\b\b\b\b\b\b\b\b\b\b\b\b\b\b\b\b\b\b\b\b\b\b\b\b\b\b\b\b\b\b\b\b\b\b\b\b\b\b\b\b\b\b\b\b\b\b\b\b\b\b\b\b\b\b\b\b\b\b\b\b\r",
            "47/63 [=====================>........] - ETA: 0s - loss: 0.0547 - accuracy: 0.9767"
          ]
        },
        {
          "name": "stdout",
          "output_type": "stream",
          "text": [
            "\b\b\b\b\b\b\b\b\b\b\b\b\b\b\b\b\b\b\b\b\b\b\b\b\b\b\b\b\b\b\b\b\b\b\b\b\b\b\b\b\b\b\b\b\b\b\b\b\b\b\b\b\b\b\b\b\b\b\b\b\b\b\b\b\b\b\b\b\b\b\b\b\b\b\b\b\b\b\b\b\b\b\r",
            "49/63 [======================>.......] - ETA: 0s - loss: 0.0559 - accuracy: 0.9764"
          ]
        },
        {
          "name": "stdout",
          "output_type": "stream",
          "text": [
            "\b\b\b\b\b\b\b\b\b\b\b\b\b\b\b\b\b\b\b\b\b\b\b\b\b\b\b\b\b\b\b\b\b\b\b\b\b\b\b\b\b\b\b\b\b\b\b\b\b\b\b\b\b\b\b\b\b\b\b\b\b\b\b\b\b\b\b\b\b\b\b\b\b\b\b\b\b\b\b\b\b\b\r",
            "51/63 [=======================>......] - ETA: 0s - loss: 0.0553 - accuracy: 0.9767"
          ]
        },
        {
          "name": "stdout",
          "output_type": "stream",
          "text": [
            "\b\b\b\b\b\b\b\b\b\b\b\b\b\b\b\b\b\b\b\b\b\b\b\b\b\b\b\b\b\b\b\b\b\b\b\b\b\b\b\b\b\b\b\b\b\b\b\b\b\b\b\b\b\b\b\b\b\b\b\b\b\b\b\b\b\b\b\b\b\b\b\b\b\b\b\b\b\b\b\b\b\b\r",
            "53/63 [========================>.....] - ETA: 0s - loss: 0.0539 - accuracy: 0.9776"
          ]
        },
        {
          "name": "stdout",
          "output_type": "stream",
          "text": [
            "\b\b\b\b\b\b\b\b\b\b\b\b\b\b\b\b\b\b\b\b\b\b\b\b\b\b\b\b\b\b\b\b\b\b\b\b\b\b\b\b\b\b\b\b\b\b\b\b\b\b\b\b\b\b\b\b\b\b\b\b\b\b\b\b\b\b\b\b\b\b\b\b\b\b\b\b\b\b\b\b\b\b\r",
            "55/63 [=========================>....] - ETA: 0s - loss: 0.0535 - accuracy: 0.9784"
          ]
        },
        {
          "name": "stdout",
          "output_type": "stream",
          "text": [
            "\b\b\b\b\b\b\b\b\b\b\b\b\b\b\b\b\b\b\b\b\b\b\b\b\b\b\b\b\b\b\b\b\b\b\b\b\b\b\b\b\b\b\b\b\b\b\b\b\b\b\b\b\b\b\b\b\b\b\b\b\b\b\b\b\b\b\b\b\b\b\b\b\b\b\b\b\b\b\b\b\b\b\r",
            "57/63 [==========================>...] - ETA: 0s - loss: 0.0553 - accuracy: 0.9770"
          ]
        },
        {
          "name": "stdout",
          "output_type": "stream",
          "text": [
            "\b\b\b\b\b\b\b\b\b\b\b\b\b\b\b\b\b\b\b\b\b\b\b\b\b\b\b\b\b\b\b\b\b\b\b\b\b\b\b\b\b\b\b\b\b\b\b\b\b\b\b\b\b\b\b\b\b\b\b\b\b\b\b\b\b\b\b\b\b\b\b\b\b\b\b\b\b\b\b\b\b\b\r",
            "59/63 [===========================>..] - ETA: 0s - loss: 0.0574 - accuracy: 0.9762"
          ]
        },
        {
          "name": "stdout",
          "output_type": "stream",
          "text": [
            "\b\b\b\b\b\b\b\b\b\b\b\b\b\b\b\b\b\b\b\b\b\b\b\b\b\b\b\b\b\b\b\b\b\b\b\b\b\b\b\b\b\b\b\b\b\b\b\b\b\b\b\b\b\b\b\b\b\b\b\b\b\b\b\b\b\b\b\b\b\b\b\b\b\b\b\b\b\b\b\b\b\b\r",
            "61/63 [============================>.] - ETA: 0s - loss: 0.0586 - accuracy: 0.9754"
          ]
        },
        {
          "name": "stdout",
          "output_type": "stream",
          "text": [
            "\b\b\b\b\b\b\b\b\b\b\b\b\b\b\b\b\b\b\b\b\b\b\b\b\b\b\b\b\b\b\b\b\b\b\b\b\b\b\b\b\b\b\b\b\b\b\b\b\b\b\b\b\b\b\b\b\b\b\b\b\b\b\b\b\b\b\b\b\b\b\b\b\b\b\b\b\b\b\b\b\b\b\r",
            "63/63 [==============================] - ETA: 0s - loss: 0.0580 - accuracy: 0.9755"
          ]
        },
        {
          "name": "stdout",
          "output_type": "stream",
          "text": [
            "\b\b\b\b\b\b\b\b\b\b\b\b\b\b\b\b\b\b\b\b\b\b\b\b\b\b\b\b\b\b\b\b\b\b\b\b\b\b\b\b\b\b\b\b\b\b\b\b\b\b\b\b\b\b\b\b\b\b\b\b\b\b\b\b\b\b\b\b\b\b\b\b\b\b\b\b\b\b\b\b\b\b\r",
            "63/63 [==============================] - 3s 44ms/step - loss: 0.0580 - accuracy: 0.9755 - val_loss: 0.0326 - val_accuracy: 0.9901\n"
          ]
        },
        {
          "name": "stdout",
          "output_type": "stream",
          "text": [
            "Epoch 20/20\n"
          ]
        },
        {
          "name": "stdout",
          "output_type": "stream",
          "text": [
            "\r",
            " 1/63 [..............................] - ETA: 3s - loss: 0.0135 - accuracy: 1.0000"
          ]
        },
        {
          "name": "stdout",
          "output_type": "stream",
          "text": [
            "\b\b\b\b\b\b\b\b\b\b\b\b\b\b\b\b\b\b\b\b\b\b\b\b\b\b\b\b\b\b\b\b\b\b\b\b\b\b\b\b\b\b\b\b\b\b\b\b\b\b\b\b\b\b\b\b\b\b\b\b\b\b\b\b\b\b\b\b\b\b\b\b\b\b\b\b\b\b\b\b\b\b\r",
            " 3/63 [>.............................] - ETA: 2s - loss: 0.0314 - accuracy: 0.9792"
          ]
        },
        {
          "name": "stdout",
          "output_type": "stream",
          "text": [
            "\b\b\b\b\b\b\b\b\b\b\b\b\b\b\b\b\b\b\b\b\b\b\b\b\b\b\b\b\b\b\b\b\b\b\b\b\b\b\b\b\b\b\b\b\b\b\b\b\b\b\b\b\b\b\b\b\b\b\b\b\b\b\b\b\b\b\b\b\b\b\b\b\b\b\b\b\b\b\b\b\b\b\r",
            " 5/63 [=>............................] - ETA: 2s - loss: 0.0303 - accuracy: 0.9875"
          ]
        },
        {
          "name": "stdout",
          "output_type": "stream",
          "text": [
            "\b\b\b\b\b\b\b\b\b\b\b\b\b\b\b\b\b\b\b\b\b\b\b\b\b\b\b\b\b\b\b\b\b\b\b\b\b\b\b\b\b\b\b\b\b\b\b\b\b\b\b\b\b\b\b\b\b\b\b\b\b\b\b\b\b\b\b\b\b\b\b\b\b\b\b\b\b\b\b\b\b\b\r",
            " 7/63 [==>...........................] - ETA: 2s - loss: 0.0339 - accuracy: 0.9866"
          ]
        },
        {
          "name": "stdout",
          "output_type": "stream",
          "text": [
            "\b\b\b\b\b\b\b\b\b\b\b\b\b\b\b\b\b\b\b\b\b\b\b\b\b\b\b\b\b\b\b\b\b\b\b\b\b\b\b\b\b\b\b\b\b\b\b\b\b\b\b\b\b\b\b\b\b\b\b\b\b\b\b\b\b\b\b\b\b\b\b\b\b\b\b\b\b\b\b\b\b\b\r",
            " 9/63 [===>..........................] - ETA: 2s - loss: 0.0410 - accuracy: 0.9861"
          ]
        },
        {
          "name": "stdout",
          "output_type": "stream",
          "text": [
            "\b\b\b\b\b\b\b\b\b\b\b\b\b\b\b\b\b\b\b\b\b\b\b\b\b\b\b\b\b\b\b\b\b\b\b\b\b\b\b\b\b\b\b\b\b\b\b\b\b\b\b\b\b\b\b\b\b\b\b\b\b\b\b\b\b\b\b\b\b\b\b\b\b\b\b\b\b\b\b\b\b\b\r",
            "11/63 [====>.........................] - ETA: 1s - loss: 0.0473 - accuracy: 0.9858"
          ]
        },
        {
          "name": "stdout",
          "output_type": "stream",
          "text": [
            "\b\b\b\b\b\b\b\b\b\b\b\b\b\b\b\b\b\b\b\b\b\b\b\b\b\b\b\b\b\b\b\b\b\b\b\b\b\b\b\b\b\b\b\b\b\b\b\b\b\b\b\b\b\b\b\b\b\b\b\b\b\b\b\b\b\b\b\b\b\b\b\b\b\b\b\b\b\b\b\b\b\b\r",
            "13/63 [=====>........................] - ETA: 1s - loss: 0.0415 - accuracy: 0.9880"
          ]
        },
        {
          "name": "stdout",
          "output_type": "stream",
          "text": [
            "\b\b\b\b\b\b\b\b\b\b\b\b\b\b\b\b\b\b\b\b\b\b\b\b\b\b\b\b\b\b\b\b\b\b\b\b\b\b\b\b\b\b\b\b\b\b\b\b\b\b\b\b\b\b\b\b\b\b\b\b\b\b\b\b\b\b\b\b\b\b\b\b\b\b\b\b\b\b\b\b\b\b\r",
            "15/63 [======>.......................] - ETA: 1s - loss: 0.0397 - accuracy: 0.9896"
          ]
        },
        {
          "name": "stdout",
          "output_type": "stream",
          "text": [
            "\b\b\b\b\b\b\b\b\b\b\b\b\b\b\b\b\b\b\b\b\b\b\b\b\b\b\b\b\b\b\b\b\b\b\b\b\b\b\b\b\b\b\b\b\b\b\b\b\b\b\b\b\b\b\b\b\b\b\b\b\b\b\b\b\b\b\b\b\b\b\b\b\b\b\b\b\b\b\b\b\b\b\r",
            "17/63 [=======>......................] - ETA: 1s - loss: 0.0454 - accuracy: 0.9871"
          ]
        },
        {
          "name": "stdout",
          "output_type": "stream",
          "text": [
            "\b\b\b\b\b\b\b\b\b\b\b\b\b\b\b\b\b\b\b\b\b\b\b\b\b\b\b\b\b\b\b\b\b\b\b\b\b\b\b\b\b\b\b\b\b\b\b\b\b\b\b\b\b\b\b\b\b\b\b\b\b\b\b\b\b\b\b\b\b\b\b\b\b\b\b\b\b\b\b\b\b\b\r",
            "19/63 [========>.....................] - ETA: 1s - loss: 0.0479 - accuracy: 0.9852"
          ]
        },
        {
          "name": "stdout",
          "output_type": "stream",
          "text": [
            "\b\b\b\b\b\b\b\b\b\b\b\b\b\b\b\b\b\b\b\b\b\b\b\b\b\b\b\b\b\b\b\b\b\b\b\b\b\b\b\b\b\b\b\b\b\b\b\b\b\b\b\b\b\b\b\b\b\b\b\b\b\b\b\b\b\b\b\b\b\b\b\b\b\b\b\b\b\b\b\b\b\b\r",
            "21/63 [=========>....................] - ETA: 1s - loss: 0.0508 - accuracy: 0.9851"
          ]
        },
        {
          "name": "stdout",
          "output_type": "stream",
          "text": [
            "\b\b\b\b\b\b\b\b\b\b\b\b\b\b\b\b\b\b\b\b\b\b\b\b\b\b\b\b\b\b\b\b\b\b\b\b\b\b\b\b\b\b\b\b\b\b\b\b\b\b\b\b\b\b\b\b\b\b\b\b\b\b\b\b\b\b\b\b\b\b\b\b\b\b\b\b\b\b\b\b\b\b\r",
            "23/63 [=========>....................] - ETA: 1s - loss: 0.0550 - accuracy: 0.9823"
          ]
        },
        {
          "name": "stdout",
          "output_type": "stream",
          "text": [
            "\b\b\b\b\b\b\b\b\b\b\b\b\b\b\b\b\b\b\b\b\b\b\b\b\b\b\b\b\b\b\b\b\b\b\b\b\b\b\b\b\b\b\b\b\b\b\b\b\b\b\b\b\b\b\b\b\b\b\b\b\b\b\b\b\b\b\b\b\b\b\b\b\b\b\b\b\b\b\b\b\b\b\r",
            "25/63 [==========>...................] - ETA: 1s - loss: 0.0531 - accuracy: 0.9825"
          ]
        },
        {
          "name": "stdout",
          "output_type": "stream",
          "text": [
            "\b\b\b\b\b\b\b\b\b\b\b\b\b\b\b\b\b\b\b\b\b\b\b\b\b\b\b\b\b\b\b\b\b\b\b\b\b\b\b\b\b\b\b\b\b\b\b\b\b\b\b\b\b\b\b\b\b\b\b\b\b\b\b\b\b\b\b\b\b\b\b\b\b\b\b\b\b\b\b\b\b\b\r",
            "27/63 [===========>..................] - ETA: 1s - loss: 0.0530 - accuracy: 0.9826"
          ]
        },
        {
          "name": "stdout",
          "output_type": "stream",
          "text": [
            "\b\b\b\b\b\b\b\b\b\b\b\b\b\b\b\b\b\b\b\b\b\b\b\b\b\b\b\b\b\b\b\b\b\b\b\b\b\b\b\b\b\b\b\b\b\b\b\b\b\b\b\b\b\b\b\b\b\b\b\b\b\b\b\b\b\b\b\b\b\b\b\b\b\b\b\b\b\b\b\b\b\b\r",
            "29/63 [============>.................] - ETA: 1s - loss: 0.0522 - accuracy: 0.9838"
          ]
        },
        {
          "name": "stdout",
          "output_type": "stream",
          "text": [
            "\b\b\b\b\b\b\b\b\b\b\b\b\b\b\b\b\b\b\b\b\b\b\b\b\b\b\b\b\b\b\b\b\b\b\b\b\b\b\b\b\b\b\b\b\b\b\b\b\b\b\b\b\b\b\b\b\b\b\b\b\b\b\b\b\b\b\b\b\b\b\b\b\b\b\b\b\b\b\b\b\b\b\r",
            "31/63 [=============>................] - ETA: 1s - loss: 0.0538 - accuracy: 0.9829"
          ]
        },
        {
          "name": "stdout",
          "output_type": "stream",
          "text": [
            "\b\b\b\b\b\b\b\b\b\b\b\b\b\b\b\b\b\b\b\b\b\b\b\b\b\b\b\b\b\b\b\b\b\b\b\b\b\b\b\b\b\b\b\b\b\b\b\b\b\b\b\b\b\b\b\b\b\b\b\b\b\b\b\b\b\b\b\b\b\b\b\b\b\b\b\b\b\b\b\b\b\b\r",
            "33/63 [==============>...............] - ETA: 1s - loss: 0.0521 - accuracy: 0.9830"
          ]
        },
        {
          "name": "stdout",
          "output_type": "stream",
          "text": [
            "\b\b\b\b\b\b\b\b\b\b\b\b\b\b\b\b\b\b\b\b\b\b\b\b\b\b\b\b\b\b\b\b\b\b\b\b\b\b\b\b\b\b\b\b\b\b\b\b\b\b\b\b\b\b\b\b\b\b\b\b\b\b\b\b\b\b\b\b\b\b\b\b\b\b\b\b\b\b\b\b\b\b\r",
            "35/63 [===============>..............] - ETA: 1s - loss: 0.0515 - accuracy: 0.9839"
          ]
        },
        {
          "name": "stdout",
          "output_type": "stream",
          "text": [
            "\b\b\b\b\b\b\b\b\b\b\b\b\b\b\b\b\b\b\b\b\b\b\b\b\b\b\b\b\b\b\b\b\b\b\b\b\b\b\b\b\b\b\b\b\b\b\b\b\b\b\b\b\b\b\b\b\b\b\b\b\b\b\b\b\b\b\b\b\b\b\b\b\b\b\b\b\b\b\b\b\b\b\r",
            "37/63 [================>.............] - ETA: 0s - loss: 0.0526 - accuracy: 0.9831"
          ]
        },
        {
          "name": "stdout",
          "output_type": "stream",
          "text": [
            "\b\b\b\b\b\b\b\b\b\b\b\b\b\b\b\b\b\b\b\b\b\b\b\b\b\b\b\b\b\b\b\b\b\b\b\b\b\b\b\b\b\b\b\b\b\b\b\b\b\b\b\b\b\b\b\b\b\b\b\b\b\b\b\b\b\b\b\b\b\b\b\b\b\b\b\b\b\b\b\b\b\b\r",
            "39/63 [=================>............] - ETA: 0s - loss: 0.0520 - accuracy: 0.9840"
          ]
        },
        {
          "name": "stdout",
          "output_type": "stream",
          "text": [
            "\b\b\b\b\b\b\b\b\b\b\b\b\b\b\b\b\b\b\b\b\b\b\b\b\b\b\b\b\b\b\b\b\b\b\b\b\b\b\b\b\b\b\b\b\b\b\b\b\b\b\b\b\b\b\b\b\b\b\b\b\b\b\b\b\b\b\b\b\b\b\b\b\b\b\b\b\b\b\b\b\b\b\r",
            "41/63 [==================>...........] - ETA: 0s - loss: 0.0502 - accuracy: 0.9848"
          ]
        },
        {
          "name": "stdout",
          "output_type": "stream",
          "text": [
            "\b\b\b\b\b\b\b\b\b\b\b\b\b\b\b\b\b\b\b\b\b\b\b\b\b\b\b\b\b\b\b\b\b\b\b\b\b\b\b\b\b\b\b\b\b\b\b\b\b\b\b\b\b\b\b\b\b\b\b\b\b\b\b\b\b\b\b\b\b\b\b\b\b\b\b\b\b\b\b\b\b\b\r",
            "43/63 [===================>..........] - ETA: 0s - loss: 0.0495 - accuracy: 0.9847"
          ]
        },
        {
          "name": "stdout",
          "output_type": "stream",
          "text": [
            "\b\b\b\b\b\b\b\b\b\b\b\b\b\b\b\b\b\b\b\b\b\b\b\b\b\b\b\b\b\b\b\b\b\b\b\b\b\b\b\b\b\b\b\b\b\b\b\b\b\b\b\b\b\b\b\b\b\b\b\b\b\b\b\b\b\b\b\b\b\b\b\b\b\b\b\b\b\b\b\b\b\b\r",
            "45/63 [====================>.........] - ETA: 0s - loss: 0.0501 - accuracy: 0.9847"
          ]
        },
        {
          "name": "stdout",
          "output_type": "stream",
          "text": [
            "\b\b\b\b\b\b\b\b\b\b\b\b\b\b\b\b\b\b\b\b\b\b\b\b\b\b\b\b\b\b\b\b\b\b\b\b\b\b\b\b\b\b\b\b\b\b\b\b\b\b\b\b\b\b\b\b\b\b\b\b\b\b\b\b\b\b\b\b\b\b\b\b\b\b\b\b\b\b\b\b\b\b\r",
            "47/63 [=====================>........] - ETA: 0s - loss: 0.0505 - accuracy: 0.9840"
          ]
        },
        {
          "name": "stdout",
          "output_type": "stream",
          "text": [
            "\b\b\b\b\b\b\b\b\b\b\b\b\b\b\b\b\b\b\b\b\b\b\b\b\b\b\b\b\b\b\b\b\b\b\b\b\b\b\b\b\b\b\b\b\b\b\b\b\b\b\b\b\b\b\b\b\b\b\b\b\b\b\b\b\b\b\b\b\b\b\b\b\b\b\b\b\b\b\b\b\b\b\r",
            "49/63 [======================>.......] - ETA: 0s - loss: 0.0514 - accuracy: 0.9841"
          ]
        },
        {
          "name": "stdout",
          "output_type": "stream",
          "text": [
            "\b\b\b\b\b\b\b\b\b\b\b\b\b\b\b\b\b\b\b\b\b\b\b\b\b\b\b\b\b\b\b\b\b\b\b\b\b\b\b\b\b\b\b\b\b\b\b\b\b\b\b\b\b\b\b\b\b\b\b\b\b\b\b\b\b\b\b\b\b\b\b\b\b\b\b\b\b\b\b\b\b\b\r",
            "51/63 [=======================>......] - ETA: 0s - loss: 0.0516 - accuracy: 0.9841"
          ]
        },
        {
          "name": "stdout",
          "output_type": "stream",
          "text": [
            "\b\b\b\b\b\b\b\b\b\b\b\b\b\b\b\b\b\b\b\b\b\b\b\b\b\b\b\b\b\b\b\b\b\b\b\b\b\b\b\b\b\b\b\b\b\b\b\b\b\b\b\b\b\b\b\b\b\b\b\b\b\b\b\b\b\b\b\b\b\b\b\b\b\b\b\b\b\b\b\b\b\b\r",
            "53/63 [========================>.....] - ETA: 0s - loss: 0.0503 - accuracy: 0.9841"
          ]
        },
        {
          "name": "stdout",
          "output_type": "stream",
          "text": [
            "\b\b\b\b\b\b\b\b\b\b\b\b\b\b\b\b\b\b\b\b\b\b\b\b\b\b\b\b\b\b\b\b\b\b\b\b\b\b\b\b\b\b\b\b\b\b\b\b\b\b\b\b\b\b\b\b\b\b\b\b\b\b\b\b\b\b\b\b\b\b\b\b\b\b\b\b\b\b\b\b\b\b\r",
            "55/63 [=========================>....] - ETA: 0s - loss: 0.0497 - accuracy: 0.9835"
          ]
        },
        {
          "name": "stdout",
          "output_type": "stream",
          "text": [
            "\b\b\b\b\b\b\b\b\b\b\b\b\b\b\b\b\b\b\b\b\b\b\b\b\b\b\b\b\b\b\b\b\b\b\b\b\b\b\b\b\b\b\b\b\b\b\b\b\b\b\b\b\b\b\b\b\b\b\b\b\b\b\b\b\b\b\b\b\b\b\b\b\b\b\b\b\b\b\b\b\b\b\r",
            "57/63 [==========================>...] - ETA: 0s - loss: 0.0512 - accuracy: 0.9830"
          ]
        },
        {
          "name": "stdout",
          "output_type": "stream",
          "text": [
            "\b\b\b\b\b\b\b\b\b\b\b\b\b\b\b\b\b\b\b\b\b\b\b\b\b\b\b\b\b\b\b\b\b\b\b\b\b\b\b\b\b\b\b\b\b\b\b\b\b\b\b\b\b\b\b\b\b\b\b\b\b\b\b\b\b\b\b\b\b\b\b\b\b\b\b\b\b\b\b\b\b\b\r",
            "59/63 [===========================>..] - ETA: 0s - loss: 0.0522 - accuracy: 0.9825"
          ]
        },
        {
          "name": "stdout",
          "output_type": "stream",
          "text": [
            "\b\b\b\b\b\b\b\b\b\b\b\b\b\b\b\b\b\b\b\b\b\b\b\b\b\b\b\b\b\b\b\b\b\b\b\b\b\b\b\b\b\b\b\b\b\b\b\b\b\b\b\b\b\b\b\b\b\b\b\b\b\b\b\b\b\b\b\b\b\b\b\b\b\b\b\b\b\b\b\b\b\b\r",
            "61/63 [============================>.] - ETA: 0s - loss: 0.0520 - accuracy: 0.9821"
          ]
        },
        {
          "name": "stdout",
          "output_type": "stream",
          "text": [
            "\b\b\b\b\b\b\b\b\b\b\b\b\b\b\b\b\b\b\b\b\b\b\b\b\b\b\b\b\b\b\b\b\b\b\b\b\b\b\b\b\b\b\b\b\b\b\b\b\b\b\b\b\b\b\b\b\b\b\b\b\b\b\b\b\b\b\b\b\b\b\b\b\b\b\b\b\b\b\b\b\b\b\r",
            "63/63 [==============================] - ETA: 0s - loss: 0.0522 - accuracy: 0.9815"
          ]
        },
        {
          "name": "stdout",
          "output_type": "stream",
          "text": [
            "\b\b\b\b\b\b\b\b\b\b\b\b\b\b\b\b\b\b\b\b\b\b\b\b\b\b\b\b\b\b\b\b\b\b\b\b\b\b\b\b\b\b\b\b\b\b\b\b\b\b\b\b\b\b\b\b\b\b\b\b\b\b\b\b\b\b\b\b\b\b\b\b\b\b\b\b\b\b\b\b\b\b\r",
            "63/63 [==============================] - 3s 44ms/step - loss: 0.0522 - accuracy: 0.9815 - val_loss: 0.0248 - val_accuracy: 0.9901\n"
          ]
        }
      ],
      "source": [
        "\n",
        "\n",
        "fine_tune_epochs = 10\n",
        "total_epochs =  initial_epochs + fine_tune_epochs\n",
        "\n",
        "history_fine = model.fit(train_dataset,\n",
        "                         epochs=total_epochs,\n",
        "                         initial_epoch=history.epoch[-1],\n",
        "                         validation_data=validation_dataset)"
      ]
    },
    {
      "cell_type": "markdown",
      "metadata": {
        "id": "DNtfNZKlInGT"
      },
      "source": [
        "After fine tuning the model nearly reaches 98% accuracy on the validation set."
      ]
    },
    {
      "cell_type": "code",
      "execution_count": null,
      "metadata": {
        "execution": {
          "iopub.execute_input": "2022-06-08T04:10:18.790464Z",
          "iopub.status.busy": "2022-06-08T04:10:18.789862Z",
          "iopub.status.idle": "2022-06-08T04:10:18.793534Z",
          "shell.execute_reply": "2022-06-08T04:10:18.792967Z"
        },
        "id": "PpA8PlpQKygw"
      },
      "outputs": [],
      "source": [
        "acc += history_fine.history['accuracy']\n",
        "val_acc += history_fine.history['val_accuracy']\n",
        "\n",
        "loss += history_fine.history['loss']\n",
        "val_loss += history_fine.history['val_loss']"
      ]
    },
    {
      "cell_type": "code",
      "execution_count": null,
      "metadata": {
        "execution": {
          "iopub.execute_input": "2022-06-08T04:10:18.796432Z",
          "iopub.status.busy": "2022-06-08T04:10:18.795894Z",
          "iopub.status.idle": "2022-06-08T04:10:19.013485Z",
          "shell.execute_reply": "2022-06-08T04:10:19.012826Z"
        },
        "id": "chW103JUItdk",
        "outputId": "ae08578a-9cd4-425d-d4b3-1c4a6dc5a31f"
      },
      "outputs": [
        {
          "data": {
            "image/png": "[encoded data removed]",
            "text/plain": [
              "<Figure size 576x576 with 2 Axes>"
            ]
          },
          "metadata": {
            "needs_background": "light"
          },
          "output_type": "display_data"
        }
      ],
      "source": [
        "plt.figure(figsize=(8, 8))\n",
        "plt.subplot(2, 1, 1)\n",
        "plt.plot(acc, label='Training Accuracy')\n",
        "plt.plot(val_acc, label='Validation Accuracy')\n",
        "plt.ylim([0.8, 1])\n",
        "plt.plot([initial_epochs-1,initial_epochs-1],\n",
        "          plt.ylim(), label='Start Fine Tuning')\n",
        "plt.legend(loc='lower right')\n",
        "plt.title('Training and Validation Accuracy')\n",
        "\n",
        "plt.subplot(2, 1, 2)\n",
        "plt.plot(loss, label='Training Loss')\n",
        "plt.plot(val_loss, label='Validation Loss')\n",
        "plt.ylim([0, 1.0])\n",
        "plt.plot([initial_epochs-1,initial_epochs-1],\n",
        "         plt.ylim(), label='Start Fine Tuning')\n",
        "plt.legend(loc='upper right')\n",
        "plt.title('Training and Validation Loss')\n",
        "plt.xlabel('epoch')\n",
        "plt.show()"
      ]
    },
    {
      "cell_type": "markdown",
      "metadata": {
        "id": "R6cWgjgfrsn5"
      },
      "source": [
        "### Evaluation and prediction"
      ]
    },
    {
      "cell_type": "markdown",
      "metadata": {
        "id": "PSXH7PRMxOi5"
      },
      "source": [
        "verify the performance of the model on test set."
      ]
    },
    {
      "cell_type": "code",
      "execution_count": null,
      "metadata": {
        "execution": {
          "iopub.execute_input": "2022-06-08T04:10:19.016538Z",
          "iopub.status.busy": "2022-06-08T04:10:19.016325Z",
          "iopub.status.idle": "2022-06-08T04:10:19.172751Z",
          "shell.execute_reply": "2022-06-08T04:10:19.172059Z"
        },
        "id": "2KyNhagHwfar",
        "outputId": "10e76640-a236-4ee2-878c-eac342e04bd5"
      },
      "outputs": [
        {
          "name": "stdout",
          "output_type": "stream",
          "text": [
            "\r",
            "1/6 [====>.........................] - ETA: 0s - loss: 0.0159 - accuracy: 1.0000"
          ]
        },
        {
          "name": "stdout",
          "output_type": "stream",
          "text": [
            "\b\b\b\b\b\b\b\b\b\b\b\b\b\b\b\b\b\b\b\b\b\b\b\b\b\b\b\b\b\b\b\b\b\b\b\b\b\b\b\b\b\b\b\b\b\b\b\b\b\b\b\b\b\b\b\b\b\b\b\b\b\b\b\b\b\b\b\b\b\b\b\b\b\b\b\b\b\b\b\b\r",
            "4/6 [===================>..........] - ETA: 0s - loss: 0.0499 - accuracy: 0.9766"
          ]
        },
        {
          "name": "stdout",
          "output_type": "stream",
          "text": [
            "\b\b\b\b\b\b\b\b\b\b\b\b\b\b\b\b\b\b\b\b\b\b\b\b\b\b\b\b\b\b\b\b\b\b\b\b\b\b\b\b\b\b\b\b\b\b\b\b\b\b\b\b\b\b\b\b\b\b\b\b\b\b\b\b\b\b\b\b\b\b\b\b\b\b\b\b\b\b\b\b\r",
            "6/6 [==============================] - 0s 18ms/step - loss: 0.0383 - accuracy: 0.9844\n"
          ]
        },
        {
          "name": "stdout",
          "output_type": "stream",
          "text": [
            "Test accuracy : 0.984375\n"
          ]
        }
      ],
      "source": [
        "loss, accuracy = model.evaluate(test_dataset)\n",
        "print('Test accuracy :', accuracy)"
      ]
    },
    {
      "cell_type": "code",
      "source": [
        "#wrong predictions\n",
        "import sklearn\n",
        "result, model_outputs, wrong_predictions = model.eval_model(test_dataset)\n",
        "print(result)\n",
        "print(model_outputs)"
      ],
      "metadata": {
        "id": "Qcu8E50dIVuA"
      },
      "execution_count": null,
      "outputs": []
    },
    {
      "cell_type": "markdown",
      "source": [
        "![Screenshot (176).png](data:image/png;base64,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)"
      ],
      "metadata": {
        "id": "Bjg_f6eUIWX4"
      }
    },
    {
      "cell_type": "code",
      "source": [
        "final = pd.DataFrame({\"SMILES\":test_df.SMILES.tolist(),\"PREDICTIONS\":final_preds})\n",
        "final.head()"
      ],
      "metadata": {
        "id": "MOWqIiSIImI5"
      },
      "execution_count": null,
      "outputs": []
    },
    {
      "cell_type": "markdown",
      "source": [
        "![Screenshot (179).png](data:image/png;base64,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)"
      ],
      "metadata": {
        "id": "UdoDIWbTI8mn"
      }
    },
    {
      "cell_type": "markdown",
      "source": [
        "#Predictions from test dataset"
      ],
      "metadata": {
        "id": "Di6KJF_VJ4Ec"
      }
    },
    {
      "cell_type": "code",
      "source": [
        "np.random.seed(42) # set random seed so we always get the same validation set\n",
        "src =  (ImageList.from_df(path=\"/content/molecule_data/train\", df=new_data, cols=[\"FILENAME\"]).split_by_rand_pct(0.2).label_from_df(label_delim=',').databunch(num_workers=0,bs=64)).normalize(imagenet_stats)    "
      ],
      "metadata": {
        "id": "ez7ZzlWtJIFY"
      },
      "execution_count": null,
      "outputs": []
    },
    {
      "cell_type": "markdown",
      "source": [
        "![download (1).png](data:image/png;base64,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)"
      ],
      "metadata": {
        "id": "CGCkAxQrLgrh"
      }
    },
    {
      "cell_type": "markdown",
      "source": [
        "Plot "
      ],
      "metadata": {
        "id": "jfmidfK2P2qA"
      }
    },
    {
      "cell_type": "code",
      "source": [
        "# create metrics\n",
        "acc_02 = partial(accuracy_thresh, thresh=0.2)\n",
        "f_score = partial(fbeta, thresh=0.2)\n",
        "learn = dnn_learner(src, models.ann, metrics=[acc_02, f_score])\n",
        "learn.lr_find() # find learning rate\n",
        "learn.recorder.plot() # plot learning rate"
      ],
      "metadata": {
        "id": "_pUCBWCxLj9W"
      },
      "execution_count": null,
      "outputs": []
    },
    {
      "cell_type": "markdown",
      "source": [
        "![Screenshot (181).png](data:image/png;base64,iVBORw0KGgoAAAANSUhEUgAAAdYAAAERCAYAAADG94ZWAAAAAXNSR0IArs4c6QAAAARnQU1BAACxjwv8YQUAAAAJcEhZcwAADsMAAA7DAcdvqGQAAAAhdEVYdENyZWF0aW9uIFRpbWUAMjAyMjoxMToxMiAxMDoyNDowNS4/CM4AAC2GSURBVHhe7d0LXBVl/j/wD3DkLjcB5aoigoiCqJh2MdEMM3O7mKvt6pqtWtq63Xb/9vOv1W5utpW/SivTtbSt1XKzsFK0LC9pSibeUUlQARFBroJchPOb52GOEgGCzjmcy+fda5qZ7wwwRy6f88w884ydXgEiIiLShL06JyIiIg0wWImIiDTEYCUiItIQg5WIiEhDDFYiIiINMViJiIg0xGAlIiLSEO9j1YCvry+6deumrhERUWucPn0a+fn56pr1YLBqYODAgdi7d6+6RkRErWGtfzt5KpiIiEhDDFYiIiINMViJiIg0xGAlIiLSEIOViIhIQwxWIiIiDTFYiYiINMT7WDVgLfdi1dXpUXCxCtnFFcgpqkDppRo4dXCAizK5OjrA3bkDfFyd4OPmCE+XDqioqcXpgnKcunARWYUVqL5cB529HeyVqYODHToq+3u5OsJb7O/sCAf5Ns5Ofi0nnT06ezor+/G9HZGtstb7WK0yWKdOnYovv/wS/v7+OHz4sFq9SrzkP//5z9iwYQNcXV2xcuVK9O/fX25zcHBA37595XJoaCjWr18vl1ui5Q/H5do6HD9Xhv1ZhUg9XYTM/IsyfFyUYHMWIeeoqw86J7HsAG8luIK8XREsJh9XOCr7llTUoEQJxZLKaiXsapXPqUeN8nlrleC0U3LNXvmfmC7X1SEjvxw/55Xh5/NlOKN8LRGOraFkJ5RPd0MclE/i6+GsHLsbfNwdlc+nl8cqjlN8avE1RBCLY66ouoyiiioUlVejTHl9rs46+HZ0gr+HixL0TrhUrWxXthVfqkJ55WU4izcCTo5KuOuUNwQ6uDnVT+7qXPzbiX9L+YZBWfdQgl+8WeioTF7KJN4cEJFxMVgtyPbt2+Hu7o7Jkyc3GawiUBcvXizne/bskSEr5oL4uIsXL8rl1rreHw4RBNNX7UGV0vK7VHMZldW1uKiEQo0abj5KcER08ZQtyUvKPpXKPiJALin7iX0rlZoIoRvV2csFYf4d0cPPHSGd1JBWJk8ltMXXEV+7QpmXKUFdqBxz/VSlhJIO3Xzd0NXHHV19XeGsc0Ct8uMkjkkEeZnyWurDrlq2fkVwiqMVP3Li2HOKLiFbaemKqUTZRwStYRL/ib3FyxP7uzp2kC1f2Vp27YByJWjzSqpQUHYJF5RWtqsSjl5Ka1q80XBTglT8O4l/S3EMF6uqlWBWXofyMRVK/Vo/8eLre4mv5a60zt2dZRtbvOERbzpqamvlMYnXIiZBhLJomYvjEh/nr3zf/Do6w8/DCb5uzso2JbCV1rv4vIL4forjEv8m9kqD3d2pgxL2DtCx9U42hsFqYU6dOoUxY8Y0GawzZszAsGHDMHHiRLkeGRmJrVu3IiAgwKTBelH5Q//nj/ZeaT2JuWg9RQV6IC7ER2mJuiitteZbTuJbJ1qm2YVKQBWXy9OxItTEH3jR+hKTOJWrs7OXrV7xh118t2XAKXPxqUOVIBV/9G2F4U2KeKMg3jRUKG9WLlbVyJCTrXylNSzeOBSUKaGtBHbhxUr5cY7KmwZHnb0MPwfR4lf+LUVOKnmrhKT42CqUijMFFdWy1d2Y+LcWp9LF90y8KRD//o05dbBHF+UNTajyRqWb8kalq6+YuyFMmfspYd3SzwKRJWKwWpiWglXU58yZg1tvvVWujxgxAi+//LL8Jut0OvTr10/OxT733nuv3Kcl1vrDQW0ngrtYCejzpZXIV0JZBLQIbVEToSui0UO0bpU3PR7KJPYXb7BE2JYp+2QXVeDMhXJkK1PD0/KiRR7SyQ0BXi5yClQm8carW6eO8s2RuExAZGkYrBbmeoM1JycHQUFByMjIwPDhw7Flyxb06NFD7tfQsmXL5CSIpzOIpzQQaUUE7jklnDMLynCqoByZ+eVyfq6kAueKL8nWtoFoyPp71p/O7xPkiT7BXugb5AV/D2d1DyLzxGC1MNd7KrihKVOmyM8xbtw4tdI0tljJlMSvbOmly/LU/6nCi7KD2ykleNPzSnHqfJm8BiyIa/SRAZ7y0kJ0oCfiu/vKa9RE5oLBamFaCtavvvoKS5YsudJ5afbs2UhJSUFRUZHsJezk5ISCggIMGTIESUlJ6N27t/qRTWOwkrkQnbPScktwKLsER8+W4JgynVaCV1x7F9eE47r54o7ozhgZHYAuSiuXqD0xWC2IaImKFqgIx86dO+OFF15ATU2N3Pboo4/Kd/yPP/44kpOTZZC+//778hu8a9cu2Zq1t7dHXV0dnnjiCTzyyCPy41rCYCVzJnpgp50rxbZjefjmSK7Sqq3vnBcV7IU7+wQgUQnZ0E5uskZkSgxWahaDlSxJhtKC3awE7DeHc2WLVugZ4IHRsUG4OyZIdowiMgUGKzWLwUqWStxD/PXRXGw8mIuj2UWy1q9bJyVkA3F7hL8cfITIWBis1CwGK1kDcZvPlwdylCkbZ/LLZS3Uzw239PTHsF6dMSTMlyNSkaYYrNQsBitZE/EnQZwu3pGejx0n8pGaWSDvqRUjdN07IAQPDAjl6WLSBIOVmsVgJWsmOj9tSTuHdXuzkHIyX9YG9fBTQjYYI3sHcHAKum4MVmoWg5Vshbgm++m+LKxXprziS3Jc5sSYIDx0Uzf0CvBQ9yJqHQYrNYvBSrZGjAy1J7MA637KxrdHzqKqpg4JSuv18TsiENmFAUutw2ClZjFYyZaJBxes3JWB/+zMkGMe39EnEE/c2Us+QICoJdb6t5PPqSKiGyKepvTnOyKx6S8j8MeEntiVfh73vbkVS7emt/r5vkTWhMFKRJoQz6R9YmQvfPlkAob26owlm49h3FvbkZpVf38ska1gsBKRpsRTdd54aCDemBQvn1U7een3eG1TmnxYPJEtYLASkVGMiOqCL55IwNj+oXh/28+Y8q/dyCupf3A8kTVjsBKR0bg76bDggVgsGN8Px3KLcf+SbdiRfl7dSmSdGKxEZHS/6ReCj2cORSd3Jzz2/h688fUx+Sg7ImvEYCUik+jh746PH7sN9/QPwfLv0jF95R5cuFilbiWyHgxWIjIZF0cHvDSuH567Pwb7Tl2QvYb3nSlUtxJZBwYrEZncgwO74sMZt6KDgz2mLt+Fz1Oz1C1Elo/BSkTtIjrIE2tnDkVsaCf8/7X7sWTLCflkHSJLx2AlonYjRm1a/vBNGB0XjKVbjuPZTw9wtCayeAxWImpXjjp7vDyuH2aMiMCX+7Lw2Acp8lF1RJaKwUpE7c7Ozg5/GhGJ5++PxZ6f8/H0mn0cqYksFoOViMzGuIGh+OuYaGxLO4d5nx3kNVeySAxWIjIrk28Ow7ThEfhiXxZeSU5juJLFYbASkdmZPSICvx3cDR/sOIl/KRORJWGwEpHZEddc547pgztjgvCG0mr95miuuoXI/DFYicgs2dvb4R8PxCIqyBNzPknF8XOl6hYi88ZgJSKz5dzBAW9NGgQ3Jx1m/TsFheXV6hYi82WVwTp16lT4+/ujT58+auWXRGeI2bNnIzw8HDExMdi3b5+6BVi1ahV69uwpJ7FMRO1LPDj9zd8PwoWyKvz5o70cQILMnlUG65QpU5CcnKyu/drGjRuRnp4up2XLluGxxx6T9cLCQrzwwgvYs2cPUlJS5HJRUZHcRkTtJzbEC397IBappy7gnxuPqlUi82SVwTp06FD4+Pioa7+WlJSEyZMnyw4SgwcPRnFxMXJzc7Fp0yaMHDlSfqy3t7dcbimgich07okNxoQh3bHmh0zs/JkPSyfzZZPXWHNychASEqKuAcHBwbLWXL0poqU7cOBAOeXn56tVIjKmZ0ZFIdTPDXP/ewAlFTVqlci8sPPSdZo+fTr27t0rJz8/P7VKRMYkOjO9/GB/FF2swt+/OKRWicyLTQZrUFAQsrKuPv8xOztb1pqrE5H56BvshWkJEUg+kIONh86qVSLzYZPBOnbsWHzwwQeyd/Du3bvh6emJgIAAJCYmYvPmzbLDkpjEsqgRkXl5dFg4opSA/XvSQZwvrVSrRObBKoN14sSJGDJkCI4fPy6vk65YsQJLly6VkzB69GiEhYXJ222mTZuGt99+W9ZFp6V58+YhPj5eTvPnz2+xExQRtQ+dgz1efjAOldW1WLiBvYTJvNgprTaOcH2DRAcmca2ViEzrjW+OY/m3J/D+9JsR362TWiVLYa1/O9l5iYgs1rShPeDn6YyXvjyM2jq2Ecg8MFiJyGK5Ourw1KgonDhbinX7zqhVovbFYCUiizYmJggxoT54c/MxlFby3lZqfwxWIrJoYgS1/xnTB8Xl1Vj6XbpaJWo/DFYisnh9gj1xT/8Q/GdXBk4XlKtVovbBYCUiq/Dknb1gr7Rel237Wa0QtQ8GKxFZBb+OzvjNgFB8tT8LeSUcNILaD4OViKzGI7f1gLgzf9WuDLVCZHoMViKyGsE+rrijTyDW7jnFp99Qu2GwEpFV+ePQcFyqrsXqlFNqhci0GKxEZFWiAj0wJMIfH+3KQGVNrVolMh0GKxFZnT/e3gNFF6uxbt/Vx0ASmQqDlYiszqBunRAd4o2VO07icm2dWiUyDQYrEVkdMRrTI0N74GxhBbafOK9WiUyDwUpEVml4r87w6eiE/+7l6WAyLQYrEVkl8TD0e+KCsfN4HvLLOGAEmQ6DlYis1v39Q+VzWpNSs9UKkfExWInIavXwd5ePlFv30xnoxZBMRCbAYCUiq3b/wBCcyS9HalaRWiEyLgYrEVm1u/oGwtnRAZ/+yE5MZBoMViKyam5OOtyphOvmQzkor7qsVomMh8FKRFbvgYEhcvzgjYfPqhUi42GwEpHV6x/qg1A/N6zj6WAyAQYrEVk9MRLTvf1DcfBMIbILK9QqkXEwWInIJozuGyjnm47wdDAZF4OViGyCeAh6r0BPJB/KVStExmG1wZqcnIzIyEiEh4dj4cKFavWq06dPY8SIEYiJicGwYcOQnX11ZBYHBwf069dPTmPHjlWrRGTpRvYNQFp2MXKKeDqYjMcqg7W2thazZs3Cxo0bcfToUaxevVrOG3rmmWcwefJkHDx4EPPnz8ezzz6rbgFcXFywf/9+Oa1fv16tEpGlGxVdfzp48xG2Wsl4rDJYU1JSZEs1LCwMjo6OmDBhApKSktSt9UTQDh8+XC4nJCT8ajsRWZ+uvm7oGeCBTTwdTEZklcGak5ODkJAQdQ0IDg6WtYZiY2Oxbt06ufzZZ5+hrKwMFy5ckOuVlZUYOHAgBg8ejM8//1zWGlu2bJncR0z5+flqlYjM3Z19AnA4qwi5xZfUCpG2bLbz0quvvopt27YhLi5OzoOCguS1VUFcf927dy/+85//4IknnsDJkydlvaHp06fLfcTk5+enVonI3I3qw9PBZFxWGawiJLOyrt4ILjomiVpDgYGBssWampqKBQsWyJqXl5ecG/YVp5JFxyaxDxFZh+5+7ujRpSNPB5PRWGWwxsfHIz09HZmZmaiursaaNWt+1bu3oKAAdXV1cvmll17C1KlT5XJRURGqqqrksthn586d6N27t1wnIuswMjpQDhaRV8IHoJP2rDJYdTodlixZgsTERERFRWH8+PGIjo6WvX8NvXy3bt0qb8eJiIhAXl4e5s6dK+tpaWnyuqm4Bis6Nc2ZM4fBSmRl7uobIOebOVgEGYGdnk//vWEiiMW1ViKyHGNe/w5erk74cPrNaoVMzVr/dtps5yUism0jegfg4OkLKKmoUStE2mCwEpFNur2XP+r0wPc/n1crRNpgsBKRTYoN9kZHlw7Yfpz3oZO2GKxEZJMc7O0wpKc/dqXnoU40XYk0wmAlIpt1W4Qfii5W4+jZUrVCdOMYrERks26L8JfzbSfy5JxICwxWIrJZvu5OiAryxI7j7MBE2mGwEpFNuzWyM45kF6GovFqtEN0YBisR2bTbI/whhsnhbTekFQYrEdm0vsFe8HDlbTekHQYrEdk0cdvNzfK2m/O87YY0wWAlIps3NNIfJeXVOJRTolaIrp/ZB2t5efmVx7udOHFCPp2mpoZjexKRdm5VWqx2dsB23nZDGjD7YB06dCgqKyuRk5ODO++8E//+978xZcoUdSsR0Y3zcXNEVJA3dvA6K2nA7INVPNXO1dUV69atw8yZM7F27VocOXJE3UpEpI1bIvxwLKeIT7uhG2YRwfrDDz/go48+wt133y1rtbW1ck5EpJVbe/rKp938kMFWK90Ysw/W119/HS+99BLuu+8+REdHIyMjAwkJCepWIiJtxAR7w81Jh53pDFa6MXZKi9Bi+peLTkwXL16Eh4eHWjEP1voUfCJbM+vfP+JYbgm++csI2IneTGRU1vq30+xbrA899BBKS0tl7+A+ffqgd+/eeOWVV9StRETaEddZ84ov4VRBuVohajuzD9ajR4/KFurnn3+Ou+66C5mZmbJnMBGR1m4Lr3/azc6feTqYrp/ZB6u4Z1VMIljHjh2LDh068BQNERlFSCdXBCkTr7PSjTD7YJ0xYwa6desmTwWLe1pPnz5tdtdYich6DAn3w96MAlRfrh+YhqitzD5YZ8+eLQeH2LBhg2ypdu3aFd999526lYhIW7f09MOl6lrszypUK0RtY/bBWlJSgqeeekr2HhPT008/LVuvRETGcFOYrxyYf2d6gVohahuzD9apU6eiY8eO+OSTT+QkTgM//PDD6lYiIm15OHdAdLC3fNoN0fUw+2A9efIkXnjhBYSFhcnpueeek4NEXEtycjIiIyMRHh6OhQsXqtWrxLXaESNGICYmBsOGDUN2dra6BVi1ahV69uwpJ7FMRLbl5p5+OHa2BIXl1WqFqPXMPlhdXFzw/fffq2vAzp07Za0lYsjDWbNmYePGjfJ2ndWrV8t5Q8888wwmT56MgwcPYv78+Xj22WdlvbCwUAb5nj17kJKSIpeLiorkNiKyDeJ+VjF0zg8n2TuY2s7sg3Xp0qUyJEXPYDE9/vjjePfdd9WtTROBKFqqooXr6OiICRMmICkpSd1aTwTt8OHD5bIYItGwfdOmTRg5ciR8fHzg7e0tl0Xrl4hsR0yQFzq6dMD3Jxis1HZmH6yxsbE4cOCAbFmKKTU1Fd9++626tWmiF3FISIi6BgQHB8taQ+LziifmCJ999hnKyspw4cKFVn2ssGzZsisdqvLz+ctHZE1E56Wbwv3kdVYLGvWVzITZB6uB6LRkuH910aJFcn4jXn31VWzbtg1xcXFyHhQUBAcHB3XrtU2fPl2OcSkmPz8/tUpE1uK2CD9cKKtCWm6pWiFqHYsJ1oau9Q5ShGRWVpa6BtkxSdQaCgwMlC1W0QJesGCBrHl5ebXqY4nI+g2NqB/ecPsJ9g6mtrHIYL3WkIbx8fFIT0+X4wpXV1djzZo1cjjEhgoKCuTTcgTxWDpxW4+QmJiIzZs3yw5LYhLLokZEtsWvozMiAj3w/XFe6qG2MdtgFfeuGk7/NpxE/ezZs+peTdPpdFiyZIkMxKioKIwfP14+y1X0/l2/fr3cZ+vWrfJ2nIiICOTl5WHu3LmyLjotzZs3T4azmMTHiBoR2Z5blVbroaxClFyqUStE12ZRz2M1V9b6TEEiW7f39AVMeXcXXn1oAEb1CVSrpBVr/dtpkaeCiYhMoV+wN9ycddh+nNdZqfUYrEREzdA52GMwb7uhNmKwEhG14LYIfxSUVuH4uTK1QtQyBisRUQt42w21FYOViKgF/h7OCA/wwA5eZ6VWYrASEV2DuO3m4JlClFXythu6NgYrEdE1DI3wQ22dnk+7oVZhsBIRXUNcqA/cnXX4Lo2ng+naGKxERNfQwcEet0R0xo7jebLlStQSBisRUSsMi/JHcXk1DmQXqRWipjFYiYhaYWjPzvI5rd+l5akVoqYxWImIWsHTtQNiu/pg2zEGK7WMwUpE1EoJUZ2RkVeG7MIKtUL0awxWIqJWGt6ri5x/d+ycnBM1hcFKRNRKXX3dEOrnxttuqEUMViKiNhimtFr3nSrgKEzULAYrEVEbiOusl2v1+D6dozBR0xisRERtEBfiDQ/XDrzthprFYCUiagPx8PNbIzrj+xN5Ssu1Tq0SXcVgJSJqI3E6uLSiBvvOFKoVoqsYrEREbXRbhD866Oyx+TBvu6FfY7ASEbWRu5MON/f0xzdHzqKOg/JTIwxWIqLrMComAAWlVdiXxdPB9EsMViKi65DQq4s8HZx8MFetENVjsBIRXQeeDqbmMFiJiK6T4XRwKk8HUwNWG6zJycmIjIxEeHg4Fi5cqFavOnPmDBISEhAXF4eYmBhs2LBB1k+dOgUXFxf069dPTo8++qisExE1ZjgdvJGng6kBqwzW2tpazJo1Cxs3bsTRo0exevVqOW/oxRdfxPjx45Gamoo1a9Zg5syZ6hagR48e2L9/v5yWLl2qVomIfkmcDh7C08HUiFUGa0pKimyphoWFwdHRERMmTEBSUpK6tZ6dnR1KS0vlcklJCQIDA+UyEVFb3MXTwdSIVQZrTk4OQkJC1DUgODhY1hp6/vnn8eGHH8pto0ePxuLFi9UtQGZmpjxFfPvtt2PHjh1q9ZeWLVuGgQMHyik/n4NxE9mqK72DD/F0MNWz2c5L4vTwlClTkJ2dLa+vTpo0CXV1dQgICJDXX8Up4kWLFuGhhx660rJtaPr06di7d6+c/Pz81CoR2RrD6eCvD+fydDBJVhmsQUFByMrKUtcgw1PUGlqxYoW8xioMGTIElZWVKCgogJOTEzp16iTrAwYMkNdbT5w4IdeJiJpSfzq4EntOFagVsmVWGazx8fFIT0+Xp3Srq6tl56SxY8eqW+uFhoZiy5YtcjktLU0Gq2h5itO6ovOTkJGRIT+PuFZLRNSckb0D4O6sw6c/Xn1DT7bLKoNVp9NhyZIlSExMRFRUlGyZRkdHY/78+Vi/fr3c57XXXsPy5csRGxuLiRMnYuXKlbJD0/bt2+XtN+JWm3HjxslewT4+PvJjiIia4tzBAXf3C8aWI7korqhWq2Sr7PQKdZmuk+jAJK61EpHtOpZbinGLt+Evd0fjD7fwLFdrWOvfTpvtvEREpKVeAR6ICvLEp3vPgO0V28ZgJSLSyLhBXZGRV4b92cVqhWwRg5WISCN3xwTB2dEBa1NOqxXrtmpnBpZuTVfXyIDBSkSkEXFPa2LfIGw6eBZllTVq1XptVF7nD+m8xagxBisRkYYejA9FVU0tvlJCx9rlFFUg2MdVXSMDBisRkYZiQ7zQo0tHfPqjdZ8Orqi+jKKLVQjpxGBtjMFKRKQhcT/8+EFdkZZTgtSsIrVqfbILL8k5W6y/xmAlItLYvXEhciSmVd9nqBXrk1VULuch3m5yTlcxWImINObmpMMDSqv128NnlZZdhVq1LobXFcIW668wWImIjGDSkO7ytPCHP2SqFeuSpQSrq/IGwtu1g1ohAwYrEZERdPF0wci+gVi394xV3nojWqyBSmtVvHmgX2KwEhEZiRgzuKLqMv6rhKu1yS4qR5AXTwM3hcFKRGQkfYO90K9bJ3y4KxOXa+vUquUTYyGfVVqsvL7aNAYrEZERTbm1O/KKL+GbtHNqxfLll1Wh+nId72FtBoOViMiIEnp1QZASQCu2/Ww1T70x3GrDe1ibxmAlIjIiB3s7/PH2cDlgxNdHc9WqZRM9ggXew9o0BisRkZHdFxeCbv7u+N9Nx1BjBddaRbCKzsCBXi5qhRpisBIRGZnOwR5PJUYhq6Aca62gh7AYztDXwxnOHRzUCjXEYCUiMoGEXp3Rr2snvLPlBMqrLqtVy5SjtFiDeBq4WQxWIiITEAMpPD06Sj4R5n0LH0NY3MPKjkvNY7ASEZlIXIg3EnoHYNWOn1GgBKwlqqypRUFpJe9hbQGDlYjIhJ5M7CXvAX372xNqxbLkFNU/Lo7B2jwGKxGRCYX5ueM3A0PxacppZF2wvCffiNPAAk8FN4/BSkRkYrMSIuT9rYu3HFcrluPqPawM1uYwWImITKyzpzMmDOmOjQeyceJcmVq1DCJYnTrYw9fdSa1QYwxWIqJ2MG1oOFwddXj962NqxTKIYOXj4lpmtcGanJyMyMhIhIeHY+HChWr1qjNnziAhIQFxcXGIiYnBhg0b1C3ASy+9JD9OfPymTZvUKhGRdrzdHPGH23pge9o5pGYVqVXzlyNuteE9rC2yymCtra3FrFmzsHHjRhw9ehSrV6+W84ZefPFFjB8/HqmpqVizZg1mzpwp62I/sX7kyBEZzqIuPh8RkdbE81q93R3xevIxixig3/C4OHZcaplVBmtKSopscYaFhcHR0RETJkxAUlKSurWeOI1RWloql0tKShAYGCiXxX5ifycnJ3Tv3l1+HvH5iIi05uakw/RhPfFTZgF2pJ9Xq+arsLwal6preavNNVhlsObk5CAkJERdA4KDg2Wtoeeffx4ffvih3DZ69GgsXrxY1lvzscKyZcswcOBAOeXn56tVIqK2GT+oK0J83fD/Pk7F8XP1b/bN1ZUewQzWFtls5yVxenjKlCnIzs6W11cnTZqEurrWP3Vi+vTp2Lt3r5z8/PzUKhFR2zjpHLB8ymA4dXDAH9/bjVMF9feJmiPDc1j5uLiWWWWwBgUFISsrS12DDE9Ra2jFihXyGqswZMgQVFZWoqCgoFUfS0SkJXHNcsXUwajT6/HIez8gt7h+dCNzYxjQIoj3sLbIKoM1Pj4e6enpyMzMRHV1teyMNHbsWHVrvdDQUGzZskUup6WlyWAVLU+xn9i/qqpKfrz4PIMGDZL7EREZSw//jlimtFwvXqrBVCVczW0s4ezCCqzenYkeXTrCxZGPi2uJVQarTqfDkiVLkJiYiKioKNkyjY6Oxvz587F+/Xq5z2uvvYbly5cjNjYWEydOxMqVK2WHJrGf2L93794YNWoU3nrrLTg48IeIiIwvOsgTb08ZhDylxTr30wNm01O4uKIa01ftxuVaPRZNGKhWqTl2yjfO/Pt4mznRgUlcayUi0sIHuzLwzy+PYP59MRgf31Wttg/xNJs/vrcHR7KLsOyRwYjv1kndcuOs9W+nzXZeIiIyV78f3B0Dw3zxyldH2nWg/ro6Pf5HaTnvP30Bf3+wn6ahas0YrEREZsbe3g7/GNcP9nZ2ePa/+1GrBFx7WPT1MWw+mIPZiVEYE8NOnK3FYCUiMkOBXi6Yc08f2VpcufOkWjWdj388jZXbfsb9g7pi2tAeapVag8FKRGSm7o0LRkLvACzZfByHs0vUqvF9n34e/0g6hME9/TFfCXcOuN82DFYiIjMlAu35e/vCp6MTHv8wBedLK9UtxiNGf3rqPz+hm787/ndif+gcGBNtxX8xIiIz1sndCW9NGoSLlTWY9e8U2UvXWMS9s4+t2gNXJwe8+4eb0NG5g7qF2oLBSkRk5noFeODl3/bHsbMlspeuse6SfC05DYVKuL416SZ08XRRq9RWDFYiIgswIqoL/nRnlOyl+9a36WpVOweyivHFviz87pYwOVAFXT8GKxGRhRC9c0fHBWPpluNYujVds5aruF/1xS8OyWu5jyVEqFW6XgxWIiILITozvXhfLEbFBmHJ5mNY8OURGYo36rPULKRlF+OpUVFwd9KpVbpeDFYiIgviqLPHPx+Mw+9vCcOaHzLx1Mf7UHX5+js0lVbW4PVNxxAd4o2xscFqlW4Eg5WIyMKIkZnm3B2NJ++KwjeHzmLCO9/j9a+PYevxcygsr1b3ap13vj2B4vIqzB3TR35eunEchF8DHISfiNrLlwdz8K9tPyPjXCkMZ4W7d3ZHYp8gjI4JRJife32xkYtVl/Hu1nR8sOMkxsSFYMEDseoW07HWv50MVg0wWImovVVUX8bhnGLsP1OM7cfP48DpCxB/3cMDPHBrhD9igj3RN8gbnT2c5TXVNzYfQ2FZlbxeO29sX3i6mP6eVQYrNYvBSkTmJq+kEhsPn0XywbNIUwLXMJC/eEj5pepa9A72xrP3RCMuxFvW2wODlZrFYCUicyZGazqWWypbtGLIwvjuneTTatr7miqDlZrFYCUiajtr/dvJXsFEREQaYrASERFpiMFKRESkIQYrERGRhhisREREGmKwEhERaYjBSkREpCEGKxERkYY4QIQG/Pz80LVrV3XtqpKSEnh6/vJJ/I1rDdebWjbMCwoK4OvrK7e1VeOv2Vhz25uqN641XG9q2TC39OMXrvc1NP6aTWlun8b1ltavtczjb15z+zRVb+rYDAzrTe3D3+FfH9/p06eRn5+vrlkREaxkHNOmTVOXrmpca7je1LJhPmDAADm/Ho2/ZmPNbW+q3rjWcL2pZcPc0o9fuN7X0PhrNqW5fRrXW1q/1jKPv3nN7dNUvaljMzCsN7UPf4dth8PzCjVjyQgiIyPVpasa1xquN7Us5suWLcP06dPl+vVo/DUba257U/XGtYbrTS2LuaUfv3Ajr6Hx12xKc/s0rre03tIyj79lze3TVL3xsTVkWG+8D3+Hf30c1oqngi2EpY+paQ1jgvJ70L54/O3LGn6HTYUtVgsyYMAAdckyWfrxC/wetC8ef/uyht9hU2CLlYiISEO83YaIiEhDDFYiIiINMVjbwdSpU+Hv748+ffqoldb76aef0LdvX4SHh2P27Nnidil1C7B48WL06tUL0dHR+Otf/6pWtWeM4xeX+oOCgtCvXz85bdiwQdaNwVj//sJrr70GOzs7ec+fMRnjNcybNw8xMTHy3//OO+/E2bNnZd0YjHH8f/nLX+TPv3gN9913H4qLi2XdGIxx/GvXrpW/u/b29kbrJHQjx92UVatWoWfPnnISywbX+j2xesoLJhPbtm2bXvnB0yu/RGql9eLj4/U//PCDvq6uTj9q1Ci9EkCy/u233+pHjBihr6yslOt5eXlybgzGOP7nnntO/8orr8hlYzPG8QtnzpzRK4GkDw0N1efn56tV4zDGaygpKZFz4Y033tDPmDFDXdOeMY5/06ZN+pqaGrmsvLGUk7EY4/iPHj2qP3bsmP7222/X//jjj7Kmtes9bnFMmZmZ6lq9Cxcu6Lt37y7nhYWFclnMhZZ+T2wBW6ztYOjQofDx8VHX6p08eRLKD6DsdXfbbbdB+QVTt1yVm5uL0tJSDB48WLaKJk+ejM8//1xue+eddzBnzhw4OTnJdfGu1FiMcfymZKzjf/LJJ/HPf/5TbjM2Y7wGDw8PORfKy8uN+jqMcfyila3T6eSy2J6dnS2XjcEYxx8VFWX0ez2v97iboryRwciRI+Xn8/b2lsvJyclm83venhisZkLceC1O5SrvJvHqq69i5syZ6parcnJyEBwcrK5BLouacOLECezYsQM33XQTlHeXUN7xyrqp3OjxC0uWLJGn8cTpqqKiIrVqGjd6/ElJSfJUdmxsrFxvD1p8D+bOnYuQkBB89NFH+Nvf/qZWTUOL4zd47733cNddd6lrpqHl8ZtSa467KeK4xc+KgeG1mONrNDUGqxm4ePEidu3ahQcffFBe35oxY4Z819cWly9fRmFhIXbv3o1XXnkF48ePN9l1DS2O/7HHHpPvnPfv34+AgAA8/fTT6hbju9Hjr6iowD/+8Q+TB1FDWnwPhAULFiArKwu/+93v5BsdU9Hq+AXxGkTLVbwGU9Hy+E2ppeN+//33ZU1M4prv6NGj5bK4fk0tY7Cagbq6Onh5eclQMUxpaWmora298oM9f/582SJqeHpLLIuaIN4V3n///RCnXgYNGiQ7QBi7A42BFsffuXNnODg4yOOeNm0aUlJSZN0UbvT4xRuCzMxM2Vrt1q2brPfv3x/nzp1T9zQ+Lb4HDYlQ+vTTT9U149Pq+FeuXIkvv/xStriNeSq7Ma3//U2lueMWHn744Ss1MerShg0b5PJnn30mt4vjFm/CDAyvxdxeY7uov9RKpiY6AjTsQDBkyBD9J598IpeVH3a98gMslxtr3Cngq6++kvV33nlHP2/ePLl8/PhxvRK0ch9j0fr4z549K+fCokWL9L/97W/VNePQ+vgb6tq1q9E7Lwlav4YTJ07IufDmm2/qH3jgAXXNOLQ+/o0bN+qjoqL058+fl+vGZqyfIWN2XhKu57ib67ykvJGUHZbEJJZFTWjN74k1Y7C2gwkTJui7dOmi1+l0euWdnP5f//qXPiMjQ5+YmKiPiYmRfxxeeOEFde9fEr9w4pciLCxMP2vWLPmDK1RVVemVVobcFhcXp9+yZYusG4Mxjv/3v/+9vk+fPvq+ffvq77nnnl8ErdaMcfwNmSJYjfEa7r//flkX34MxY8bolZaGrBuDMY6/R48e8g1lbGysnGYYsVezMY5/3bp18nM5Ojrq/f39ZQ9zrV3vcTcVrMKKFSvkv7uY3nvvPbXaut8Ta8YhDYmIiDTEa6xEREQaYrASERFpiMFKRESkIQYrERGRhhisREREGmKwEhmJu7u7umQaN998s7p0Y7Zu3QpPT085qIF4WswzzzyjbmmeGAv26NGj6hqRbWOwElkIMWxlS8TQdFoRg7Hv378fqampciSjnTt3qluaxmAluorBSmRCzT1J5IsvvpAPUIiLi8Mdd9yBvLw8WRfPqZ00aRJuueUWORfr4iEFw4YNQ1hYGN588025n2BoIYsWp9g+btw42eIUwxMablcXw9KJmvj64jmZY8aMkfXmuLi4yJarYRD15cuXIz4+Xg7f+MADD8hxkkWgr1+/Xj4PVewrXuP1PjGFyCqIASKISHtubm7q0lXDhw+/MnTg7t279QkJCXJZDAlnGJ1GCS/9U089JZfFc2r79++vVwLsyroYgk48d1eM7uTj46Ovrq6W2wxf77vvvtN7eHjos7Ky9LW1tfrBgwfrd+zYob906ZIcmUiMtCOIUXjuvvtuudyQ+HhDXRyX+Pq5ublyvaCgQM6FuXPnyqEPhT/84Q/6tWvXymWhuddJZAvYYiUykZaeJCIGKk9MTETfvn3l04mOHDki68LYsWNly9FACT353F1fX1/53F1D67Yh8SAG8WAG8VAD8bVOnTolW42ildu9e3e5z8SJE+W8KeIRhKJVGhQUJI+rS5cusn748GHZAhXHKQa6b3icBpb6pBcirTBYiUxEaZE2+ySRP/3pT3j88cdx6NAhvPvuu1BapLIuKC1Rdame4WH2gngiUFPXXluzT0tEeB44cEAG54oVK+SxClOmTJGPkxPHqbSef3GcBi29TiJbwGAlMhEPDw/ZWly7dq1c1+v1MryEkpKSK4/WWrVqlZxrLTIyEhkZGbL1Knz88cdy3hJxvHPmzMHLL78s18vKyuTzcmtqamSL1aBjx45ym9DS6ySyBQxWIiMRHXvE6VjDtGjRIhlGogUoTrNGR0cjKSlJ7is6JYlTp6KzjzjFawzidPLbb799pVORCENxW821PProo9i+fbsM5L///e+yk5XoTCU6QRlMmDBBnsIWna9Ex6XmXieRLeDTbYhsiLj+KXoPi1/7WbNmoWfPnnjyySfVrUSkBbZYiWyIuF1GdCgSrUhx+ll0LCIibbHFSkREpCG2WImIiDTEYCUiItIQg5WIiEhDDFYiIiINMViJiIg0xGAlIiLSEIOViIhIQwxWIiIiDTFYiYiINMRgJSIi0hCDlYiISEMMViIiIg0xWImIiDTEYCUiItIM8H9IrZV7K9REPgAAAABJRU5ErkJggg==)"
      ],
      "metadata": {
        "id": "uKIzMo_ML_ao"
      }
    },
    {
      "cell_type": "code",
      "source": [
        "val_fns = [str(x) for x in learn.data.valid_ds.items]\n",
        "val_fns_y=[str(x) for x in learn.data.valid_ds.y]\n",
        "for img,gt in zip(val_fns,val_fns_y):\n",
        "  pred_class, pred_idx, preds=learn.predict(open_image(img))\n",
        "  print(\"----------------------------------------------------------\")\n",
        "  thresh = 0.1\n",
        "  labelled_preds = [' '.join([learn.data.classes[i] for i,p in enumerate(preds) if p > thresh])]\n",
        "  print(\"GT:\",gt)\n",
        "  print(\"PREDS:\",labelled_preds)\n",
        "  print(\"----------------------------------------------------------\")\n"
      ],
      "metadata": {
        "id": "dH8jgrW_MMpp"
      },
      "execution_count": null,
      "outputs": []
    },
    {
      "cell_type": "markdown",
      "source": [
        "![Screenshot (183).png](data:image/png;base64,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)"
      ],
      "metadata": {
        "id": "1G5a89jmMblP"
      }
    },
    {
      "cell_type": "code",
      "source": [
        "np.random.seed(42) # set random seed so we always get the same validation set\n",
        "src =  (ImageList.from_df(path=\"/content/molecule_data/train\", df=new_data, cols=[\"FILENAME\"]).split_by_rand_pct(0.2).label_from_df(label_delim=',').databunch(num_workers=0,bs=64)).normalize(imagenet_stats)    "
      ],
      "metadata": {
        "id": "5YYiEwe-NDpY"
      },
      "execution_count": null,
      "outputs": []
    },
    {
      "cell_type": "markdown",
      "source": [
        "![download (6).png](data:image/png;base64,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)"
      ],
      "metadata": {
        "id": "fl9byAtFNzEV"
      }
    }
  ],
  "metadata": {
    "colab": {
      "provenance": []
    },
    "kernelspec": {
      "display_name": "Python 3",
      "name": "python3"
    },
    "language_info": {
      "codemirror_mode": {
        "name": "ipython",
        "version": 3
      },
      "file_extension": ".py",
      "mimetype": "text/x-python",
      "name": "python",
      "nbconvert_exporter": "python",
      "pygments_lexer": "ipython3",
      "version": "3.9.13"
    },
    "gpuClass": "standard"
  },
  "nbformat": 4,
  "nbformat_minor": 0
}