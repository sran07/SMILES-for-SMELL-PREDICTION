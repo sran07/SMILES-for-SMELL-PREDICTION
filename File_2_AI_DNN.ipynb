{
  "cells": [
    {
      "cell_type": "code",
      "execution_count": null,
      "metadata": {
        "_cell_guid": "6fe1e8d5-b36d-4e39-9a9b-34618b5e275e",
        "_uuid": "79f18357b846d2cd91e0f7b2389e1dba8097cbdb",
        "id": "ZE_oNYDI-l2M"
      },
      "outputs": [],
      "source": [
        "!pip install -q condacolab"
      ]
    },
    {
      "cell_type": "code",
      "source": [
        "import condacolab\n",
        "condacolab.install()"
      ],
      "metadata": {
        "colab": {
          "base_uri": "https://localhost:8080/"
        },
        "id": "i7POD-A0XrLd",
        "outputId": "f216d6b1-701c-4b54-f964-0642fa4e35e6"
      },
      "execution_count": null,
      "outputs": [
        {
          "output_type": "stream",
          "name": "stdout",
          "text": [
            "⏬ Downloading https://github.com/jaimergp/miniforge/releases/latest/download/Mambaforge-colab-Linux-x86_64.sh...\n",
            "📦 Installing...\n",
            "📌 Adjusting configuration...\n",
            "🩹 Patching environment...\n",
            "⏲ Done in 0:00:22\n",
            "🔁 Restarting kernel...\n"
          ]
        }
      ]
    },
    {
      "cell_type": "code",
      "source": [
        "!conda install -c conda-forge mdtraj\n",
        "!conda install -c conda-forge pdbfixer"
      ],
      "metadata": {
        "colab": {
          "base_uri": "https://localhost:8080/"
        },
        "id": "5wRoTn60XrOO",
        "outputId": "2564eca7-1835-4035-d8a2-e6d864086c91"
      },
      "execution_count": null,
      "outputs": [
        {
          "output_type": "stream",
          "name": "stdout",
          "text": [
            "Collecting package metadata (current_repodata.json): - \b\b\\ \b\b| \b\b/ \b\b- \b\b\\ \b\b| \b\b/ \b\b- \b\b\\ \b\b| \b\b/ \b\b- \b\b\\ \b\b| \b\b/ \b\b- \b\b\\ \b\b| \b\b/ \b\b- \b\b\\ \b\b| \b\b/ \b\b- \b\b\\ \b\b| \b\b/ \b\b- \b\b\\ \b\b| \b\b/ \b\b- \b\b\\ \b\b| \b\b/ \b\b- \b\b\\ \b\b| \b\b/ \b\b- \b\b\\ \b\b| \b\b/ \b\b- \b\b\\ \b\b| \b\b/ \b\b- \b\b\\ \b\b| \b\b/ \b\b- \b\b\\ \b\b| \b\b/ \b\b- \b\b\\ \b\b| \b\b/ \b\b- \b\b\\ \b\b| \b\b/ \b\b- \b\b\\ \b\b| \b\b/ \b\b- \b\b\\ \b\b| \b\b/ \b\b- \b\b\\ \b\b| \b\b/ \b\b- \b\b\\ \b\b| \b\b/ \b\b- \b\b\\ \b\b| \b\b/ \b\b- \b\b\\ \b\b| \b\b/ \b\b- \b\b\\ \b\b| \b\b/ \b\b- \b\b\\ \b\b| \b\b/ \b\b- \b\b\\ \b\b| \b\b/ \b\b- \b\b\\ \b\b| \b\b/ \b\b- \b\b\\ \b\b| \b\b/ \b\b- \b\bdone\n",
            "Solving environment: | \b\b/ \b\b- \b\b\\ \b\b| \b\b/ \b\b- \b\b\\ \b\b| \b\b/ \b\b- \b\b\\ \b\b| \b\b/ \b\b- \b\b\\ \b\b| \b\b/ \b\b- \b\b\\ \b\b| \b\b/ \b\b- \b\b\\ \b\b| \b\b/ \b\b- \b\b\\ \b\b| \b\b/ \b\b- \b\b\\ \b\b| \b\b/ \b\b- \b\b\\ \b\b| \b\b/ \b\b- \b\b\\ \b\bfailed with initial frozen solve. Retrying with flexible solve.\n",
            "Collecting package metadata (repodata.json): / \b\b- \b\b\\ \b\b| \b\b/ \b\b- \b\b\\ \b\b| \b\b/ \b\b- \b\b\\ \b\b| \b\b/ \b\b- \b\b\\ \b\b| \b\b/ \b\b- \b\b\\ \b\b| \b\b/ \b\b- \b\b\\ \b\b| \b\b/ \b\b- \b\b\\ \b\b| \b\b/ \b\b- \b\b\\ \b\b| \b\b/ \b\b- \b\b\\ \b\b| \b\b/ \b\b- \b\b\\ \b\b| \b\b/ \b\b- \b\b\\ \b\b| \b\b/ \b\b- \b\b\\ \b\b| \b\b/ \b\b- \b\b\\ \b\b| \b\b/ \b\b- \b\b\\ \b\b| \b\b/ \b\b- \b\b\\ \b\b| \b\b/ \b\b- \b\b\\ \b\b| \b\b/ \b\b- \b\b\\ \b\b| \b\b/ \b\b- \b\b\\ \b\b| \b\b/ \b\b- \b\b\\ \b\b| \b\b/ \b\b- \b\b\\ \b\b| \b\b/ \b\b- \b\b\\ \b\b| \b\b/ \b\b- \b\b\\ \b\b| \b\b/ \b\b- \b\b\\ \b\b| \b\b/ \b\b- \b\b\\ \b\b| \b\b/ \b\b- \b\b\\ \b\b| \b\b/ \b\b- \b\b\\ \b\b| \b\b/ \b\b- \b\b\\ \b\b| \b\b/ \b\b- \b\b\\ \b\b| \b\b/ \b\b- \b\b\\ \b\b| \b\b/ \b\b- \b\b\\ \b\b| \b\b/ \b\b- \b\b\\ \b\b| \b\b/ \b\b- \b\b\\ \b\b| \b\b/ \b\b- \b\b\\ \b\b| \b\b/ \b\b- \b\b\\ \b\b| \b\b/ \b\b- \b\b\\ \b\b| \b\b/ \b\b- \b\b\\ \b\b| \b\b/ \b\b- \b\b\\ \b\b| \b\b/ \b\b- \b\b\\ \b\b| \b\b/ \b\b- \b\b\\ \b\b| \b\b/ \b\b- \b\b\\ \b\b| \b\b/ \b\b- \b\b\\ \b\b| \b\b/ \b\b- \b\b\\ \b\b| \b\b/ \b\b- \b\b\\ \b\b| \b\b/ \b\b- \b\b\\ \b\b| \b\b/ \b\b- \b\b\\ \b\b| \b\b/ \b\b- \b\b\\ \b\b| \b\b/ \b\b- \b\b\\ \b\b| \b\b/ \b\b- \b\b\\ \b\b| \b\b/ \b\b- \b\b\\ \b\b| \b\b/ \b\b- \b\b\\ \b\b| \b\b/ \b\b- \b\b\\ \b\b| \b\b/ \b\b- \b\b\\ \b\b| \b\b/ \b\b- \b\b\\ \b\b| \b\b/ \b\b- \b\b\\ \b\b| \b\b/ \b\b- \b\b\\ \b\b| \b\b/ \b\b- \b\b\\ \b\b| \b\b/ \b\b- \b\b\\ \b\b| \b\b/ \b\b- \b\b\\ \b\b| \b\b/ \b\b- \b\b\\ \b\b| \b\b/ \b\b- \b\b\\ \b\b| \b\b/ \b\b- \b\b\\ \b\b| \b\b/ \b\b- \b\b\\ \b\b| \b\b/ \b\b- \b\b\\ \b\b| \b\b/ \b\b- \b\b\\ \b\b| \b\b/ \b\b- \b\b\\ \b\b| \b\b/ \b\b- \b\b\\ \b\b| \b\b/ \b\b- \b\b\\ \b\b| \b\b/ \b\b- \b\b\\ \b\b| \b\b/ \b\b- \b\b\\ \b\b| \b\b/ \b\b- \b\b\\ \b\b| \b\b/ \b\b- \b\b\\ \b\b| \b\b/ \b\b- \b\b\\ \b\b| \b\b/ \b\b- \b\b\\ \b\b| \b\b/ \b\b- \b\b\\ \b\b| \b\b/ \b\b- \b\b\\ \b\b| \b\b/ \b\b- \b\b\\ \b\b| \b\b/ \b\b- \b\b\\ \b\b| \b\b/ \b\b- \b\b\\ \b\b| \b\b/ \b\b- \b\b\\ \b\b| \b\b/ \b\b- \b\b\\ \b\b| \b\b/ \b\b- \b\b\\ \b\b| \b\b/ \b\b- \b\b\\ \b\b| \b\b/ \b\b- \b\b\\ \b\b| \b\b/ \b\b- \b\b\\ \b\b| \b\b/ \b\b- \b\b\\ \b\b| \b\b/ \b\b- \b\b\\ \b\b| \b\b/ \b\b- \b\b\\ \b\b| \b\b/ \b\b- \b\b\\ \b\b| \b\b/ \b\b- \b\b\\ \b\b| \b\b/ \b\b- \b\b\\ \b\b| \b\b/ \b\b- \b\b\\ \b\b| \b\b/ \b\b- \b\b\\ \b\b| \b\b/ \b\b- \b\b\\ \b\b| \b\b/ \b\b- \b\b\\ \b\b| \b\b/ \b\b- \b\b\\ \b\b| \b\b/ \b\b- \b\b\\ \b\b| \b\b/ \b\b- \b\b\\ \b\b| \b\b/ \b\b- \b\b\\ \b\b| \b\b/ \b\b- \b\b\\ \b\b| \b\b/ \b\b- \b\b\\ \b\b| \b\b/ \b\b- \b\b\\ \b\b| \b\b/ \b\b- \b\b\\ \b\b| \b\b/ \b\b- \b\b\\ \b\b| \b\b/ \b\b- \b\b\\ \b\b| \b\b/ \b\b- \b\b\\ \b\b| \b\b/ \b\b- \b\b\\ \b\b| \b\b/ \b\b- \b\b\\ \b\b| \b\b/ \b\b- \b\b\\ \b\b| \b\b/ \b\b- \b\b\\ \b\b| \b\b/ \b\b- \b\b\\ \b\b| \b\b/ \b\b- \b\b\\ \b\b| \b\b/ \b\b- \b\b\\ \b\b| \b\b/ \b\b- \b\b\\ \b\bdone\n",
            "Solving environment: / \b\b- \b\b\\ \b\b| \b\b/ \b\b- \b\b\\ \b\b| \b\b/ \b\b- \b\b\\ \b\b| \b\b/ \b\b- \b\b\\ \b\b| \b\b/ \b\b- \b\b\\ \b\b| \b\b/ \b\b- \b\b\\ \b\b| \b\b/ \b\b- \b\b\\ \b\b| \b\b/ \b\b- \b\b\\ \b\b| \b\b/ \b\b- \b\b\\ \b\b| \b\b/ \b\b- \b\b\\ \b\b| \b\b/ \b\b- \b\b\\ \b\b| \b\b/ \b\b- \b\b\\ \b\b| \b\b/ \b\b- \b\b\\ \b\b| \b\b/ \b\b- \b\b\\ \b\b| \b\b/ \b\b- \b\b\\ \b\b| \b\b/ \b\b- \b\b\\ \b\b| \b\b/ \b\b- \b\b\\ \b\b| \b\b/ \b\b- \b\b\\ \b\b| \b\b/ \b\b- \b\b\\ \b\b| \b\b/ \b\b- \b\b\\ \b\b| \b\b/ \b\b- \b\b\\ \b\b| \b\b/ \b\b- \b\b\\ \b\b| \b\b/ \b\b- \b\b\\ \b\b| \b\b/ \b\b- \b\b\\ \b\b| \b\b/ \b\b- \b\b\\ \b\b| \b\b/ \b\b- \b\b\\ \b\b| \b\b/ \b\b- \b\b\\ \b\b| \b\b/ \b\b- \b\b\\ \b\b| \b\b/ \b\b- \b\b\\ \b\b| \b\b/ \b\b- \b\b\\ \b\b| \b\b/ \b\b- \b\b\\ \b\b| \b\b/ \b\b- \b\b\\ \b\b| \b\b/ \b\b- \b\b\\ \b\b| \b\b/ \b\b- \b\b\\ \b\b| \b\b/ \b\b- \b\b\\ \b\b| \b\b/ \b\b- \b\b\\ \b\b| \b\b/ \b\b- \b\b\\ \b\b| \b\b/ \b\b- \b\b\\ \b\b| \b\b/ \b\b- \b\b\\ \b\b| \b\b/ \b\b- \b\b\\ \b\b| \b\b/ \b\b- \b\b\\ \b\b| \b\b/ \b\b- \b\b\\ \b\b| \b\b/ \b\b- \b\b\\ \b\b| \b\b/ \b\b- \b\b\\ \b\b| \b\b/ \b\b- \b\b\\ \b\b| \b\b/ \b\b- \b\b\\ \b\b| \b\b/ \b\b- \b\b\\ \b\b| \b\b/ \b\b- \b\b\\ \b\b| \b\b/ \b\b- \b\b\\ \b\b| \b\b/ \b\b- \b\b\\ \b\b| \b\b/ \b\b- \b\b\\ \b\b| \b\b/ \b\b- \b\b\\ \b\b| \b\b/ \b\b- \b\b\\ \b\b| \b\b/ \b\b- \b\b\\ \b\b| \b\b/ \b\b- \b\b\\ \b\b| \b\b/ \b\b- \b\b\\ \b\b| \b\b/ \b\b- \b\b\\ \b\b| \b\b/ \b\b- \b\b\\ \b\b| \b\b/ \b\b- \b\b\\ \b\b| \b\b/ \b\b- \b\b\\ \b\b| \b\b/ \b\b- \b\b\\ \b\b| \b\b/ \b\b- \b\b\\ \b\b| \b\bdone\n",
            "\n",
            "\n",
            "==> WARNING: A newer version of conda exists. <==\n",
            "  current version: 4.14.0\n",
            "  latest version: 22.9.0\n",
            "\n",
            "Please update conda by running\n",
            "\n",
            "    $ conda update -n base -c conda-forge conda\n",
            "\n",
            "\n",
            "\n",
            "## Package Plan ##\n",
            "\n",
            "  environment location: /usr/local\n",
            "\n",
            "  added / updated specs:\n",
            "    - mdtraj\n",
            "\n",
            "\n",
            "The following packages will be downloaded:\n",
            "\n",
            "    package                    |            build\n",
            "    ---------------------------|-----------------\n",
            "    astunparse-1.6.3           |     pyhd8ed1ab_0          15 KB  conda-forge\n",
            "    blosc-1.21.1               |       h83bc5f7_3          47 KB  conda-forge\n",
            "    ca-certificates-2022.9.24  |       ha878542_0         150 KB  conda-forge\n",
            "    certifi-2022.9.24          |     pyhd8ed1ab_0         155 KB  conda-forge\n",
            "    cudatoolkit-11.2.2         |      hbe64b41_10       876.8 MB  conda-forge\n",
            "    hdf5-1.12.2                |nompi_h2386368_100         3.5 MB  conda-forge\n",
            "    libblas-3.9.0              |16_linux64_openblas          13 KB  conda-forge\n",
            "    libcblas-3.9.0             |16_linux64_openblas          13 KB  conda-forge\n",
            "    libgfortran-ng-12.2.0      |      h69a702a_19          22 KB  conda-forge\n",
            "    libgfortran5-12.2.0        |      h337968e_19         1.8 MB  conda-forge\n",
            "    liblapack-3.9.0            |16_linux64_openblas          13 KB  conda-forge\n",
            "    libopenblas-0.3.21         |pthreads_h78a6416_3        10.1 MB  conda-forge\n",
            "    mdtraj-1.9.7               |   py37hcc56668_2         1.7 MB  conda-forge\n",
            "    nomkl-1.0                  |       h5ca1d4c_0           4 KB  conda-forge\n",
            "    numexpr-2.8.3              | py37h85a3170_100         134 KB  conda-forge\n",
            "    numpy-1.21.6               |   py37h976b520_0         6.1 MB  conda-forge\n",
            "    openssl-1.1.1s             |       h166bdaf_0         2.1 MB  conda-forge\n",
            "    packaging-21.3             |     pyhd8ed1ab_0          36 KB  conda-forge\n",
            "    pandas-1.3.5               |   py37he8f5f7f_0        12.7 MB  conda-forge\n",
            "    pyparsing-3.0.9            |     pyhd8ed1ab_0          79 KB  conda-forge\n",
            "    pytables-3.7.0             |   py37h7d129aa_2         1.9 MB  conda-forge\n",
            "    python-dateutil-2.8.2      |     pyhd8ed1ab_0         240 KB  conda-forge\n",
            "    pytz-2022.6                |     pyhd8ed1ab_0         235 KB  conda-forge\n",
            "    scipy-1.7.3                |   py37hf2a6cf1_0        21.8 MB  conda-forge\n",
            "    setuptools-59.8.0          |   py37h89c1867_1         1.0 MB  conda-forge\n",
            "    snappy-1.1.9               |       hbd366e4_2          37 KB  conda-forge\n",
            "    zlib-1.2.12                |       h166bdaf_2          91 KB  conda-forge\n",
            "    ------------------------------------------------------------\n",
            "                                           Total:       940.8 MB\n",
            "\n",
            "The following NEW packages will be INSTALLED:\n",
            "\n",
            "  astunparse         conda-forge/noarch::astunparse-1.6.3-pyhd8ed1ab_0\n",
            "  blosc              conda-forge/linux-64::blosc-1.21.1-h83bc5f7_3\n",
            "  cudatoolkit        conda-forge/linux-64::cudatoolkit-11.2.2-hbe64b41_10\n",
            "  hdf5               conda-forge/linux-64::hdf5-1.12.2-nompi_h2386368_100\n",
            "  libblas            conda-forge/linux-64::libblas-3.9.0-16_linux64_openblas\n",
            "  libcblas           conda-forge/linux-64::libcblas-3.9.0-16_linux64_openblas\n",
            "  libgfortran-ng     conda-forge/linux-64::libgfortran-ng-12.2.0-h69a702a_19\n",
            "  libgfortran5       conda-forge/linux-64::libgfortran5-12.2.0-h337968e_19\n",
            "  liblapack          conda-forge/linux-64::liblapack-3.9.0-16_linux64_openblas\n",
            "  libopenblas        conda-forge/linux-64::libopenblas-0.3.21-pthreads_h78a6416_3\n",
            "  mdtraj             conda-forge/linux-64::mdtraj-1.9.7-py37hcc56668_2\n",
            "  nomkl              conda-forge/noarch::nomkl-1.0-h5ca1d4c_0\n",
            "  numexpr            conda-forge/linux-64::numexpr-2.8.3-py37h85a3170_100\n",
            "  numpy              conda-forge/linux-64::numpy-1.21.6-py37h976b520_0\n",
            "  packaging          conda-forge/noarch::packaging-21.3-pyhd8ed1ab_0\n",
            "  pandas             conda-forge/linux-64::pandas-1.3.5-py37he8f5f7f_0\n",
            "  pyparsing          conda-forge/noarch::pyparsing-3.0.9-pyhd8ed1ab_0\n",
            "  pytables           conda-forge/linux-64::pytables-3.7.0-py37h7d129aa_2\n",
            "  python-dateutil    conda-forge/noarch::python-dateutil-2.8.2-pyhd8ed1ab_0\n",
            "  pytz               conda-forge/noarch::pytz-2022.6-pyhd8ed1ab_0\n",
            "  scipy              conda-forge/linux-64::scipy-1.7.3-py37hf2a6cf1_0\n",
            "  snappy             conda-forge/linux-64::snappy-1.1.9-hbd366e4_2\n",
            "  zlib               conda-forge/linux-64::zlib-1.2.12-h166bdaf_2\n",
            "\n",
            "The following packages will be UPDATED:\n",
            "\n",
            "  ca-certificates                      2022.6.15-ha878542_0 --> 2022.9.24-ha878542_0\n",
            "  certifi            conda-forge/linux-64::certifi-2022.6.~ --> conda-forge/noarch::certifi-2022.9.24-pyhd8ed1ab_0\n",
            "  openssl                                 1.1.1q-h166bdaf_0 --> 1.1.1s-h166bdaf_0\n",
            "\n",
            "The following packages will be DOWNGRADED:\n",
            "\n",
            "  setuptools                          65.3.0-py37h89c1867_0 --> 59.8.0-py37h89c1867_1\n",
            "\n",
            "\n",
            "\n",
            "Downloading and Extracting Packages\n",
            "mdtraj-1.9.7         | 1.7 MB    | : 100% 1.0/1 [00:00<00:00,  3.52it/s]\n",
            "libcblas-3.9.0       | 13 KB     | : 100% 1.0/1 [00:00<00:00, 37.52it/s]\n",
            "scipy-1.7.3          | 21.8 MB   | : 100% 1.0/1 [00:02<00:00,  2.68s/it]               \n",
            "certifi-2022.9.24    | 155 KB    | : 100% 1.0/1 [00:00<00:00, 21.13it/s]\n",
            "ca-certificates-2022 | 150 KB    | : 100% 1.0/1 [00:00<00:00, 22.86it/s]\n",
            "libopenblas-0.3.21   | 10.1 MB   | : 100% 1.0/1 [00:01<00:00,  1.40s/it]               \n",
            "python-dateutil-2.8. | 240 KB    | : 100% 1.0/1 [00:00<00:00, 19.94it/s]\n",
            "nomkl-1.0            | 4 KB      | : 100% 1.0/1 [00:00<00:00, 34.75it/s]\n",
            "libblas-3.9.0        | 13 KB     | : 100% 1.0/1 [00:00<00:00, 33.83it/s]\n",
            "libgfortran5-12.2.0  | 1.8 MB    | : 100% 1.0/1 [00:00<00:00,  3.41it/s]\n",
            "pandas-1.3.5         | 12.7 MB   | : 100% 1.0/1 [00:02<00:00,  2.63s/it]               \n",
            "zlib-1.2.12          | 91 KB     | : 100% 1.0/1 [00:00<00:00, 22.22it/s]\n",
            "blosc-1.21.1         | 47 KB     | : 100% 1.0/1 [00:00<00:00, 22.08it/s]\n",
            "hdf5-1.12.2          | 3.5 MB    | : 100% 1.0/1 [00:00<00:00,  1.69it/s]\n",
            "openssl-1.1.1s       | 2.1 MB    | : 100% 1.0/1 [00:00<00:00,  3.14it/s]\n",
            "astunparse-1.6.3     | 15 KB     | : 100% 1.0/1 [00:00<00:00, 31.01it/s]\n",
            "numpy-1.21.6         | 6.1 MB    | : 100% 1.0/1 [00:01<00:00,  1.35s/it]\n",
            "liblapack-3.9.0      | 13 KB     | : 100% 1.0/1 [00:00<00:00, 30.57it/s]\n",
            "numexpr-2.8.3        | 134 KB    | : 100% 1.0/1 [00:00<00:00, 20.07it/s]\n",
            "cudatoolkit-11.2.2   | 876.8 MB  | : 100% 1.0/1 [01:29<00:00, 89.52s/it]               \n",
            "setuptools-59.8.0    | 1.0 MB    | : 100% 1.0/1 [00:00<00:00,  4.48it/s]\n",
            "pytables-3.7.0       | 1.9 MB    | : 100% 1.0/1 [00:00<00:00,  2.16it/s]\n",
            "pyparsing-3.0.9      | 79 KB     | : 100% 1.0/1 [00:00<00:00, 16.53it/s]\n",
            "packaging-21.3       | 36 KB     | : 100% 1.0/1 [00:00<00:00, 33.39it/s]\n",
            "libgfortran-ng-12.2. | 22 KB     | : 100% 1.0/1 [00:00<00:00, 32.37it/s]\n",
            "snappy-1.1.9         | 37 KB     | : 100% 1.0/1 [00:00<00:00, 29.38it/s]\n",
            "pytz-2022.6          | 235 KB    | : 100% 1.0/1 [00:00<00:00,  9.88it/s]\n",
            "Preparing transaction: - \b\b\\ \b\b| \b\bdone\n",
            "Verifying transaction: - \b\b\\ \b\b| \b\b/ \b\b- \b\b\\ \b\b| \b\bdone\n",
            "Executing transaction: - \b\b\\ \b\b| \b\b/ \b\b- \b\b\\ \b\b| \b\b/ \b\b- \b\b\\ By downloading and using the CUDA Toolkit conda packages, you accept the terms and conditions of the CUDA End User License Agreement (EULA): https://docs.nvidia.com/cuda/eula/index.html\n",
            "\n",
            "\b\b| \b\b/ \b\b- \b\b\\ \b\b| \b\b/ \b\b- \b\bdone\n",
            "Retrieving notices: ...working... done\n",
            "Collecting package metadata (current_repodata.json): - \b\b\\ \b\b| \b\b/ \b\b- \b\b\\ \b\b| \b\b/ \b\b- \b\b\\ \b\b| \b\b/ \b\b- \b\b\\ \b\b| \b\b/ \b\bdone\n",
            "Solving environment: \\ \b\b| \b\b/ \b\b- \b\b\\ \b\b| \b\b/ \b\b- \b\b\\ \b\b| \b\b/ \b\b- \b\b\\ \b\b| \b\b/ \b\b- \b\b\\ \b\b| \b\b/ \b\b- \b\bdone\n",
            "\n",
            "## Package Plan ##\n",
            "\n",
            "  environment location: /usr/local\n",
            "\n",
            "  added / updated specs:\n",
            "    - pdbfixer\n",
            "\n",
            "\n",
            "The following packages will be downloaded:\n",
            "\n",
            "    package                    |            build\n",
            "    ---------------------------|-----------------\n",
            "    conda-22.9.0               |   py37h89c1867_1         960 KB  conda-forge\n",
            "    fftw-3.3.10                |nompi_hf0379b8_105         2.2 MB  conda-forge\n",
            "    ocl-icd-2.3.1              |       h7f98852_0         119 KB  conda-forge\n",
            "    ocl-icd-system-1.0.0       |                1           4 KB  conda-forge\n",
            "    openmm-7.7.0               |   py37h9d45a84_1        11.3 MB  conda-forge\n",
            "    pdbfixer-1.8.1             |     pyh6c4a22f_0         498 KB  conda-forge\n",
            "    ------------------------------------------------------------\n",
            "                                           Total:        15.0 MB\n",
            "\n",
            "The following NEW packages will be INSTALLED:\n",
            "\n",
            "  fftw               conda-forge/linux-64::fftw-3.3.10-nompi_hf0379b8_105\n",
            "  ocl-icd            conda-forge/linux-64::ocl-icd-2.3.1-h7f98852_0\n",
            "  ocl-icd-system     conda-forge/linux-64::ocl-icd-system-1.0.0-1\n",
            "  openmm             conda-forge/linux-64::openmm-7.7.0-py37h9d45a84_1\n",
            "  pdbfixer           conda-forge/noarch::pdbfixer-1.8.1-pyh6c4a22f_0\n",
            "\n",
            "The following packages will be UPDATED:\n",
            "\n",
            "  conda                               4.14.0-py37h89c1867_0 --> 22.9.0-py37h89c1867_1\n",
            "\n",
            "\n",
            "\n",
            "Downloading and Extracting Packages\n",
            "fftw-3.3.10          | 2.2 MB    | : 100% 1.0/1 [00:00<00:00,  3.01it/s]\n",
            "ocl-icd-2.3.1        | 119 KB    | : 100% 1.0/1 [00:00<00:00, 17.55it/s]\n",
            "ocl-icd-system-1.0.0 | 4 KB      | : 100% 1.0/1 [00:00<00:00, 34.76it/s]\n",
            "conda-22.9.0         | 960 KB    | : 100% 1.0/1 [00:00<00:00,  5.22it/s]\n",
            "openmm-7.7.0         | 11.3 MB   | : 100% 1.0/1 [00:01<00:00,  1.93s/it]\n",
            "pdbfixer-1.8.1       | 498 KB    | : 100% 1.0/1 [00:00<00:00, 10.44it/s]\n",
            "Preparing transaction: | \b\bdone\n",
            "Verifying transaction: - \b\b\\ \b\b| \b\bdone\n",
            "Executing transaction: - \b\b\\ \b\b| \b\b/ \b\b- \b\b\\ \b\b| \b\b/ \b\b- \b\bdone\n",
            "Retrieving notices: ...working... done\n"
          ]
        }
      ]
    },
    {
      "cell_type": "code",
      "source": [
        "!pip install --pre deepchem"
      ],
      "metadata": {
        "colab": {
          "base_uri": "https://localhost:8080/"
        },
        "id": "cLKRA1M3XrTu",
        "outputId": "5aac134b-54e6-4658-b58a-a09d97a002a7"
      },
      "execution_count": null,
      "outputs": [
        {
          "output_type": "stream",
          "name": "stdout",
          "text": [
            "Looking in indexes: https://pypi.org/simple, https://us-python.pkg.dev/colab-wheels/public/simple/\n",
            "Collecting deepchem\n",
            "  Downloading deepchem-2.6.2.dev20221111184512-py3-none-any.whl (693 kB)\n",
            "\u001b[2K     \u001b[90m━━━━━━━━━━━━━━━━━━━━━━━━━━━━━━━━━━━━━━\u001b[0m \u001b[32m693.4/693.4 kB\u001b[0m \u001b[31m36.8 MB/s\u001b[0m eta \u001b[36m0:00:00\u001b[0m\n",
            "\u001b[?25hRequirement already satisfied: numpy>=1.21 in /usr/local/lib/python3.7/site-packages (from deepchem) (1.21.6)\n",
            "Collecting scikit-learn\n",
            "  Downloading scikit_learn-1.0.2-cp37-cp37m-manylinux_2_17_x86_64.manylinux2014_x86_64.whl (24.8 MB)\n",
            "\u001b[2K     \u001b[90m━━━━━━━━━━━━━━━━━━━━━━━━━━━━━━━━━━━━━━━━\u001b[0m \u001b[32m24.8/24.8 MB\u001b[0m \u001b[31m77.0 MB/s\u001b[0m eta \u001b[36m0:00:00\u001b[0m\n",
            "\u001b[?25hRequirement already satisfied: scipy<1.9 in /usr/local/lib/python3.7/site-packages (from deepchem) (1.7.3)\n",
            "Collecting joblib\n",
            "  Downloading joblib-1.2.0-py3-none-any.whl (297 kB)\n",
            "\u001b[2K     \u001b[90m━━━━━━━━━━━━━━━━━━━━━━━━━━━━━━━━━━━━━━\u001b[0m \u001b[32m298.0/298.0 kB\u001b[0m \u001b[31m29.4 MB/s\u001b[0m eta \u001b[36m0:00:00\u001b[0m\n",
            "\u001b[?25hCollecting rdkit\n",
            "  Downloading rdkit-2022.9.1-cp37-cp37m-manylinux_2_17_x86_64.manylinux2014_x86_64.whl (29.5 MB)\n",
            "\u001b[2K     \u001b[90m━━━━━━━━━━━━━━━━━━━━━━━━━━━━━━━━━━━━━━━━\u001b[0m \u001b[32m29.5/29.5 MB\u001b[0m \u001b[31m30.1 MB/s\u001b[0m eta \u001b[36m0:00:00\u001b[0m\n",
            "\u001b[?25hRequirement already satisfied: pandas in /usr/local/lib/python3.7/site-packages (from deepchem) (1.3.5)\n",
            "Requirement already satisfied: python-dateutil>=2.7.3 in /usr/local/lib/python3.7/site-packages (from pandas->deepchem) (2.8.2)\n",
            "Requirement already satisfied: pytz>=2017.3 in /usr/local/lib/python3.7/site-packages (from pandas->deepchem) (2022.6)\n",
            "Collecting Pillow\n",
            "  Downloading Pillow-9.3.0-cp37-cp37m-manylinux_2_17_x86_64.manylinux2014_x86_64.whl (3.2 MB)\n",
            "\u001b[2K     \u001b[90m━━━━━━━━━━━━━━━━━━━━━━━━━━━━━━━━━━━━━━━━\u001b[0m \u001b[32m3.2/3.2 MB\u001b[0m \u001b[31m99.3 MB/s\u001b[0m eta \u001b[36m0:00:00\u001b[0m\n",
            "\u001b[?25hCollecting threadpoolctl>=2.0.0\n",
            "  Downloading threadpoolctl-3.1.0-py3-none-any.whl (14 kB)\n",
            "Requirement already satisfied: six>=1.5 in /usr/local/lib/python3.7/site-packages (from python-dateutil>=2.7.3->pandas->deepchem) (1.16.0)\n",
            "Installing collected packages: threadpoolctl, Pillow, joblib, scikit-learn, rdkit, deepchem\n",
            "Successfully installed Pillow-9.3.0 deepchem-2.6.2.dev20221111184512 joblib-1.2.0 rdkit-2022.9.1 scikit-learn-1.0.2 threadpoolctl-3.1.0\n",
            "\u001b[33mWARNING: Running pip as the 'root' user can result in broken permissions and conflicting behaviour with the system package manager. It is recommended to use a virtual environment instead: https://pip.pypa.io/warnings/venv\u001b[0m\u001b[33m\n",
            "\u001b[0m"
          ]
        }
      ]
    },
    {
      "cell_type": "code",
      "source": [
        "import deepchem as dc\n",
        "dc.__version__"
      ],
      "metadata": {
        "colab": {
          "base_uri": "https://localhost:8080/",
          "height": 125
        },
        "id": "N-Jo0quXXrWR",
        "outputId": "85201da7-aa1f-4b14-9a91-4790fb8c8401"
      },
      "execution_count": null,
      "outputs": [
        {
          "output_type": "stream",
          "name": "stderr",
          "text": [
            "WARNING:deepchem.models.torch_models:Skipped loading modules with pytorch-geometric dependency, missing a dependency. No module named 'torch_geometric'\n",
            "WARNING:deepchem.models:Skipped loading modules with pytorch-geometric dependency, missing a dependency. cannot import name 'DMPNN' from 'deepchem.models.torch_models' (/usr/local/lib/python3.7/site-packages/deepchem/models/torch_models/__init__.py)\n",
            "WARNING:deepchem.models:Skipped loading modules with pytorch-lightning dependency, missing a dependency. No module named 'pytorch_lightning'\n",
            "WARNING:deepchem.models:Skipped loading some Jax models, missing a dependency. No module named 'haiku'\n"
          ]
        },
        {
          "output_type": "execute_result",
          "data": {
            "text/plain": [
              "'2.6.2.dev'"
            ],
            "application/vnd.google.colaboratory.intrinsic+json": {
              "type": "string"
            }
          },
          "metadata": {},
          "execution_count": 2
        }
      ]
    },
    {
      "cell_type": "code",
      "source": [
        "from deepchem.feat import AtomicConvFeaturizer\n",
        "f1_num_atoms = 100  # maximum number of atoms to consider in the ligand\n",
        "f2_num_atoms = 1000  # maximum number of atoms to consider in the protein\n",
        "max_num_neighbors = 12  # maximum number of spatial neighbors for an atom\n",
        "neighbor_cutoff = 4 # Maximum distance (angstroms) for two atoms to be considered as neighbors.\n",
        "\n",
        "acf = AtomicConvFeaturizer(frag1_num_atoms=f1_num_atoms,\n",
        "                      frag2_num_atoms=f2_num_atoms,\n",
        "                      complex_num_atoms=f1_num_atoms+f2_num_atoms,\n",
        "                      max_num_neighbors=max_num_neighbors,\n",
        "                      neighbor_cutoff=neighbor_cutoff)"
      ],
      "metadata": {
        "id": "60ca_A7lXrYs"
      },
      "execution_count": null,
      "outputs": []
    },
    {
      "cell_type": "code",
      "source": [
        "tasks, datasets, transformers = dc.molnet.load_pdbbind(featurizer=acf, reload=False)"
      ],
      "metadata": {
        "colab": {
          "base_uri": "https://localhost:8080/"
        },
        "id": "AIS8GiBSY-Di",
        "outputId": "2a80fec4-4ea9-460e-cfdc-b1f107c9d3d9"
      },
      "execution_count": null,
      "outputs": [
        {
          "output_type": "stream",
          "name": "stderr",
          "text": [
            "WARNING:root:Warning: importing 'simtk.openmm' is deprecated.  Import 'openmm' instead.\n",
            "/usr/local/lib/python3.7/site-packages/deepchem/feat/base_classes.py:213: VisibleDeprecationWarning: Creating an ndarray from ragged nested sequences (which is a list-or-tuple of lists-or-tuples-or ndarrays with different lengths or shapes) is deprecated. If you meant to do this, you must specify 'dtype=object' when creating the ndarray.\n",
            "  return np.asarray(features)\n"
          ]
        }
      ]
    },
    {
      "cell_type": "code",
      "source": [
        "train_dataset, valid_dataset, test_dataset = datasets\n",
        "train_dataset\n",
        "sample = train_dataset.X[0]\n"
      ],
      "metadata": {
        "id": "xzzXZ7ScY-Ga"
      },
      "execution_count": null,
      "outputs": []
    },
    {
      "cell_type": "code",
      "source": [
        "frag1_coords, frag1_neighbor_list, frag1_z, frag2_coords, frag2_neighbor_list, frag2_z, \\\n",
        "           system_coords, system_neighbor_list, system_z = sample"
      ],
      "metadata": {
        "id": "ov8Cx5ixY-OB"
      },
      "execution_count": null,
      "outputs": []
    },
    {
      "cell_type": "code",
      "source": [
        "frag1_coords # The matrix X containing interatomic distance"
      ],
      "metadata": {
        "colab": {
          "base_uri": "https://localhost:8080/"
        },
        "id": "EyDqp34RZGyZ",
        "outputId": "19d482a2-52b1-471d-c9cb-13b676af67dc"
      },
      "execution_count": null,
      "outputs": [
        {
          "output_type": "execute_result",
          "data": {
            "text/plain": [
              "array([[-26.862,  86.438, -12.003],\n",
              "       [-26.045,  85.937, -11.296],\n",
              "       [-27.997,  86.995, -11.595],\n",
              "       [-32.018,  89.983, -10.912],\n",
              "       [-28.298,  86.999, -10.187],\n",
              "       [-29.49 ,  87.579,  -9.719],\n",
              "       [-30.397,  88.159, -10.631],\n",
              "       [-30.107,  88.156, -12.011],\n",
              "       [-28.921,  87.58 , -12.491],\n",
              "       [-31.68 ,  88.779, -10.128],\n",
              "       [-26.334,  86.304, -13.15 ],\n",
              "       [  0.   ,   0.   ,   0.   ],\n",
              "       [  0.   ,   0.   ,   0.   ],\n",
              "       [  0.   ,   0.   ,   0.   ],\n",
              "       [  0.   ,   0.   ,   0.   ],\n",
              "       [  0.   ,   0.   ,   0.   ],\n",
              "       [  0.   ,   0.   ,   0.   ],\n",
              "       [  0.   ,   0.   ,   0.   ],\n",
              "       [  0.   ,   0.   ,   0.   ],\n",
              "       [  0.   ,   0.   ,   0.   ],\n",
              "       [  0.   ,   0.   ,   0.   ],\n",
              "       [  0.   ,   0.   ,   0.   ],\n",
              "       [  0.   ,   0.   ,   0.   ],\n",
              "       [  0.   ,   0.   ,   0.   ],\n",
              "       [  0.   ,   0.   ,   0.   ],\n",
              "       [  0.   ,   0.   ,   0.   ],\n",
              "       [  0.   ,   0.   ,   0.   ],\n",
              "       [  0.   ,   0.   ,   0.   ],\n",
              "       [  0.   ,   0.   ,   0.   ],\n",
              "       [  0.   ,   0.   ,   0.   ],\n",
              "       [  0.   ,   0.   ,   0.   ],\n",
              "       [  0.   ,   0.   ,   0.   ],\n",
              "       [  0.   ,   0.   ,   0.   ],\n",
              "       [  0.   ,   0.   ,   0.   ],\n",
              "       [  0.   ,   0.   ,   0.   ],\n",
              "       [  0.   ,   0.   ,   0.   ],\n",
              "       [  0.   ,   0.   ,   0.   ],\n",
              "       [  0.   ,   0.   ,   0.   ],\n",
              "       [  0.   ,   0.   ,   0.   ],\n",
              "       [  0.   ,   0.   ,   0.   ],\n",
              "       [  0.   ,   0.   ,   0.   ],\n",
              "       [  0.   ,   0.   ,   0.   ],\n",
              "       [  0.   ,   0.   ,   0.   ],\n",
              "       [  0.   ,   0.   ,   0.   ],\n",
              "       [  0.   ,   0.   ,   0.   ],\n",
              "       [  0.   ,   0.   ,   0.   ],\n",
              "       [  0.   ,   0.   ,   0.   ],\n",
              "       [  0.   ,   0.   ,   0.   ],\n",
              "       [  0.   ,   0.   ,   0.   ],\n",
              "       [  0.   ,   0.   ,   0.   ],\n",
              "       [  0.   ,   0.   ,   0.   ],\n",
              "       [  0.   ,   0.   ,   0.   ],\n",
              "       [  0.   ,   0.   ,   0.   ],\n",
              "       [  0.   ,   0.   ,   0.   ],\n",
              "       [  0.   ,   0.   ,   0.   ],\n",
              "       [  0.   ,   0.   ,   0.   ],\n",
              "       [  0.   ,   0.   ,   0.   ],\n",
              "       [  0.   ,   0.   ,   0.   ],\n",
              "       [  0.   ,   0.   ,   0.   ],\n",
              "       [  0.   ,   0.   ,   0.   ],\n",
              "       [  0.   ,   0.   ,   0.   ],\n",
              "       [  0.   ,   0.   ,   0.   ],\n",
              "       [  0.   ,   0.   ,   0.   ],\n",
              "       [  0.   ,   0.   ,   0.   ],\n",
              "       [  0.   ,   0.   ,   0.   ],\n",
              "       [  0.   ,   0.   ,   0.   ],\n",
              "       [  0.   ,   0.   ,   0.   ],\n",
              "       [  0.   ,   0.   ,   0.   ],\n",
              "       [  0.   ,   0.   ,   0.   ],\n",
              "       [  0.   ,   0.   ,   0.   ],\n",
              "       [  0.   ,   0.   ,   0.   ],\n",
              "       [  0.   ,   0.   ,   0.   ],\n",
              "       [  0.   ,   0.   ,   0.   ],\n",
              "       [  0.   ,   0.   ,   0.   ],\n",
              "       [  0.   ,   0.   ,   0.   ],\n",
              "       [  0.   ,   0.   ,   0.   ],\n",
              "       [  0.   ,   0.   ,   0.   ],\n",
              "       [  0.   ,   0.   ,   0.   ],\n",
              "       [  0.   ,   0.   ,   0.   ],\n",
              "       [  0.   ,   0.   ,   0.   ],\n",
              "       [  0.   ,   0.   ,   0.   ],\n",
              "       [  0.   ,   0.   ,   0.   ],\n",
              "       [  0.   ,   0.   ,   0.   ],\n",
              "       [  0.   ,   0.   ,   0.   ],\n",
              "       [  0.   ,   0.   ,   0.   ],\n",
              "       [  0.   ,   0.   ,   0.   ],\n",
              "       [  0.   ,   0.   ,   0.   ],\n",
              "       [  0.   ,   0.   ,   0.   ],\n",
              "       [  0.   ,   0.   ,   0.   ],\n",
              "       [  0.   ,   0.   ,   0.   ],\n",
              "       [  0.   ,   0.   ,   0.   ],\n",
              "       [  0.   ,   0.   ,   0.   ],\n",
              "       [  0.   ,   0.   ,   0.   ],\n",
              "       [  0.   ,   0.   ,   0.   ],\n",
              "       [  0.   ,   0.   ,   0.   ],\n",
              "       [  0.   ,   0.   ,   0.   ],\n",
              "       [  0.   ,   0.   ,   0.   ],\n",
              "       [  0.   ,   0.   ,   0.   ],\n",
              "       [  0.   ,   0.   ,   0.   ],\n",
              "       [  0.   ,   0.   ,   0.   ]])"
            ]
          },
          "metadata": {},
          "execution_count": 9
        }
      ]
    },
    {
      "cell_type": "code",
      "source": [
        "frag1_neighbor_list # The matrix Z containing neighbors"
      ],
      "metadata": {
        "colab": {
          "base_uri": "https://localhost:8080/"
        },
        "id": "bsPXurr-ZG1R",
        "outputId": "1fe35bb8-1fe8-4451-f474-4a877a67c975"
      },
      "execution_count": null,
      "outputs": [
        {
          "output_type": "execute_result",
          "data": {
            "text/plain": [
              "{0: [1, 2, 4, 5, 7, 8, 10],\n",
              " 1: [0, 2, 4, 8, 10],\n",
              " 2: [0, 1, 4, 5, 6, 7, 8, 10],\n",
              " 3: [5, 6, 7, 9],\n",
              " 4: [2, 0, 1, 5, 6, 7, 8, 9, 10],\n",
              " 5: [3, 4, 2, 0, 6, 7, 8, 9],\n",
              " 6: [3, 5, 4, 2, 7, 8, 9],\n",
              " 7: [3, 6, 5, 4, 2, 0, 8, 9],\n",
              " 8: [6, 7, 5, 4, 2, 0, 1, 9, 10],\n",
              " 9: [3, 6, 7, 5, 8, 4],\n",
              " 10: [8, 4, 2, 0, 1]}"
            ]
          },
          "metadata": {},
          "execution_count": 10
        }
      ]
    },
    {
      "cell_type": "code",
      "source": [
        "frag1_z # The matrix of atomic numbers of each atoms"
      ],
      "metadata": {
        "colab": {
          "base_uri": "https://localhost:8080/"
        },
        "id": "E1HRBe2bXrbX",
        "outputId": "389dc8a8-9c49-46a6-9396-c2517bf51890"
      },
      "execution_count": null,
      "outputs": [
        {
          "output_type": "execute_result",
          "data": {
            "text/plain": [
              "array([6, 8, 6, 7, 6, 6, 6, 6, 6, 6, 8, 0, 0, 0, 0, 0, 0, 0, 0, 0, 0, 0,\n",
              "       0, 0, 0, 0, 0, 0, 0, 0, 0, 0, 0, 0, 0, 0, 0, 0, 0, 0, 0, 0, 0, 0,\n",
              "       0, 0, 0, 0, 0, 0, 0, 0, 0, 0, 0, 0, 0, 0, 0, 0, 0, 0, 0, 0, 0, 0,\n",
              "       0, 0, 0, 0, 0, 0, 0, 0, 0, 0, 0, 0, 0, 0, 0, 0, 0, 0, 0, 0, 0, 0,\n",
              "       0, 0, 0, 0, 0, 0, 0, 0, 0, 0, 0, 0])"
            ]
          },
          "metadata": {},
          "execution_count": 12
        }
      ]
    },
    {
      "cell_type": "markdown",
      "source": [
        "#Training the model"
      ],
      "metadata": {
        "id": "dGgpRQnIZ3fJ"
      }
    },
    {
      "cell_type": "code",
      "source": [
        "from deepchem.models import AtomicConvModel\n",
        "acm = AtomicConvModel(n_tasks=1,\n",
        "                      frag1_num_atoms=f1_num_atoms,\n",
        "                      frag2_num_atoms=f2_num_atoms,\n",
        "                      complex_num_atoms=f1_num_atoms+f2_num_atoms,\n",
        "                      max_num_neighbors=max_num_neighbors,\n",
        "                      batch_size=12,\n",
        "                      layer_sizes=[32, 32, 16],\n",
        "                      learning_rate=0.003,\n",
        "                      )"
      ],
      "metadata": {
        "id": "mmJv6tSrZ27w"
      },
      "execution_count": null,
      "outputs": []
    },
    {
      "cell_type": "code",
      "source": [
        "import numpy as np \n",
        "import pandas as pd \n",
        "import matplotlib.pyplot as plt\n",
        "import warnings\n",
        "# filter warnings\n",
        "warnings.filterwarnings('ignore')"
      ],
      "metadata": {
        "id": "BL-3PNqOXo82"
      },
      "execution_count": null,
      "outputs": []
    },
    {
      "cell_type": "code",
      "execution_count": null,
      "metadata": {
        "_cell_guid": "4768ce70-3e7f-4ac9-8764-642e88006b77",
        "_uuid": "d6b38399b27c2d723750c0b4f8787a7d6d0025ea",
        "id": "ARQzSZ6v-l2Q"
      },
      "outputs": [],
      "source": [
        "x_l = np.load('../input/drive/molecule.csv')\n"
      ]
    },
    {
      "cell_type": "code",
      "execution_count": null,
      "metadata": {
        "_cell_guid": "00db1f03-75d3-48dc-a6fb-824a58790d42",
        "_uuid": "82869efdb6890ede1899c1bc8c90fa8b1caceec3",
        "id": "dzh68beL-l2S"
      },
      "outputs": [],
      "source": [
        "from sklearn.model_selection import train_test_split\n",
        "X_train, X_test, Y_train, Y_test = train_test_split(X, Y, test_size=0.15, random_state=42)\n",
        "number_of_train = X_train.shape[0]\n",
        "number_of_test = X_test.shape[0]\n",
        "X_train_flatten = X_train.reshape(number_of_train,X_train.shape[1]*X_train.shape[2])\n",
        "X_test_flatten = X_test .reshape(number_of_test,X_test.shape[1]*X_test.shape[2])\n",
        "x_train = X_train_flatten.T\n",
        "x_test = X_test_flatten.T\n",
        "y_train = Y_train.T\n",
        "y_test = Y_test.T"
      ]
    },
    {
      "cell_type": "code",
      "execution_count": null,
      "metadata": {
        "_cell_guid": "74d461fc-4aa9-4b76-bd26-43551cef138b",
        "_uuid": "f3be95b8ca86fea08336badabf563b5f8f59a142",
        "id": "kIHq_BGp-l2W"
      },
      "outputs": [],
      "source": [
        "def initialize_weights_and_bias(dimension):\n",
        "    w = np.full((dimension,1),0.01)\n",
        "    b = 0.0\n",
        "    return w, b\n",
        "def sigmoid(z):\n",
        "    y_head = 1/(1+np.exp(-z))\n",
        "    return y_head"
      ]
    },
    {
      "cell_type": "code",
      "execution_count": null,
      "metadata": {
        "_uuid": "da7e0244449200eaf382507806f01901f1d281c8",
        "id": "J7Va6Xq2-l2X",
        "outputId": "16a194b8-5b37-4bf7-c10a-b2a2a812956e"
      },
      "outputs": [
        {
          "data": {
            "text/plain": [
              "0.5"
            ]
          },
          "execution_count": 10,
          "metadata": {},
          "output_type": "execute_result"
        }
      ],
      "source": [
        "y_head = sigmoid(0)\n",
        "y_head"
      ]
    },
    {
      "cell_type": "code",
      "execution_count": null,
      "metadata": {
        "_cell_guid": "adbc7d22-8bba-48c1-b754-75c9d4f0543c",
        "_uuid": "447f1ee51819fdfeba0e1ce0b03449cb549510ed",
        "id": "6NY0Pr5Q-l2Y"
      },
      "outputs": [],
      "source": [
        "def forward_propagation(w,b,x_train,y_train):\n",
        "    z = np.dot(w.T,x_train) + b\n",
        "    y_head = sigmoid(z) # probabilistic 0-1\n",
        "    loss = -y_train*np.log(y_head)-(1-y_train)*np.log(1-y_head)\n",
        "    cost = (np.sum(loss))/x_train.shape[1]      # x_train.shape[1]  is for scaling\n",
        "    return cost "
      ]
    },
    {
      "cell_type": "code",
      "execution_count": null,
      "metadata": {
        "_cell_guid": "2b74bb7c-bcbe-4865-ac61-25ced274e7de",
        "_uuid": "088f192f99d2a31f041116c893ec713ef3b4fe43",
        "id": "8UW7WWNq-l2a"
      },
      "outputs": [],
      "source": [
        "def forward_backward_propagation(w,b,x_train,y_train):\n",
        "    # forward propagation\n",
        "    z = np.dot(w.T,x_train) + b\n",
        "    y_head = sigmoid(z)\n",
        "    loss = -y_train*np.log(y_head)-(1-y_train)*np.log(1-y_head)\n",
        "    cost = (np.sum(loss))/x_train.shape[1]     \n",
        "    # backward propagation\n",
        "    derivative_weight = (np.dot(x_train,((y_head-y_train).T)))/x_train.shape[1] \n",
        "    derivative_bias = np.sum(y_head-y_train)/x_train.shape[1]                \n",
        "    gradients = {\"derivative_weight\": derivative_weight,\"derivative_bias\": derivative_bias}\n",
        "    return cost,gradients"
      ]
    },
    {
      "cell_type": "code",
      "execution_count": null,
      "metadata": {
        "_cell_guid": "0940e18d-636d-4503-a2c6-1994024726fe",
        "_uuid": "31299bda686ae2ab157ea18df70e4741e5225345",
        "id": "ld8M783n-l2a"
      },
      "outputs": [],
      "source": [
        "# Updating(learning) parameters\n",
        "def update(w, b, x_train, y_train, learning_rate,number_of_iterarion):\n",
        "    cost_list = []\n",
        "    cost_list2 = []\n",
        "    index = []\n",
        "   \n",
        "    for i in range(number_of_iterarion):\n",
        "       \n",
        "        cost,gradients = forward_backward_propagation(w,b,x_train,y_train)\n",
        "        cost_list.append(cost)\n",
        "        update\n",
        "        w = w - learning_rate * gradients[\"derivative_weight\"]\n",
        "        b = b - learning_rate * gradients[\"derivative_bias\"]\n",
        "        if i % 10 == 0:\n",
        "            cost_list2.append(cost)\n",
        "            index.append(i)\n",
        "            print (\"Cost after iteration %i: %f\" %(i, cost))\n",
        "    # we update(learn) parameters weights and bias\n",
        "    parameters = {\"weight\": w,\"bias\": b}\n",
        "    plt.plot(index,cost_list2)\n",
        "    plt.xticks(index,rotation='vertical')\n",
        "    plt.xlabel(\"Number of Iterarion\")\n",
        "    plt.ylabel(\"Cost\")\n",
        "    plt.show()\n",
        "    return parameters, gradients, cost_list\n"
      ]
    },
    {
      "cell_type": "code",
      "execution_count": null,
      "metadata": {
        "_cell_guid": "1fd35d0f-e989-49fa-9bcb-1769d92a5ab4",
        "_uuid": "c9b80f081f49a722818cfebfc01e8b8dc69db9c1",
        "id": "0z4AxP6X-l2b"
      },
      "outputs": [],
      "source": [
        " # prediction\n",
        "def predict(w,b,x_test):\n",
        "    # x_test is a input for forward propagation\n",
        "    z = sigmoid(np.dot(w.T,x_test)+b)\n",
        "    Y_prediction = np.zeros((1,x_test.shape[1]))\n",
        "\n",
        "    for i in range(z.shape[1]):\n",
        "        if z[0,i]<= 0.5:\n",
        "            Y_prediction[0,i] = 0\n",
        "        else:\n",
        "            Y_prediction[0,i] = 1\n",
        "\n",
        "    return Y_prediction\n",
        " predict(parameters[\"weight\"],parameters[\"bias\"],x_test)"
      ]
    },
    {
      "cell_type": "code",
      "execution_count": null,
      "metadata": {
        "_cell_guid": "089fd577-95a0-4218-9b53-72bf1c0ab206",
        "_uuid": "922670a74f6999885759399ebea8b10692796a29",
        "id": "xvZHDvLA-l2f"
      },
      "outputs": [],
      "source": [
        "# intialize parameters and layer sizes\n",
        "def initialize_parameters_and_layer_sizes_NN(x_train, y_train):\n",
        "    parameters = {\"weight1\": np.random.randn(3,x_train.shape[0]) * 0.1,\n",
        "                  \"bias1\": np.zeros((3,1)),\n",
        "                  \"weight2\": np.random.randn(y_train.shape[0],3) * 0.1,\n",
        "                  \"bias2\": np.zeros((y_train.shape[0],1))}\n",
        "    return parameters"
      ]
    },
    {
      "cell_type": "code",
      "execution_count": null,
      "metadata": {
        "_cell_guid": "d64d6b90-7f14-453f-a401-4119504496e3",
        "_uuid": "41e1e2f1c7afff027ba0a9f9b2fdcbe312e9a194",
        "id": "Km1NyG80-l2f"
      },
      "outputs": [],
      "source": [
        "def forward_propagation_NN(x_train, parameters):\n",
        "\n",
        "    Z1 = np.dot(parameters[\"weight1\"],x_train) +parameters[\"bias1\"]\n",
        "    A1 = np.tanh(Z1)\n",
        "    Z2 = np.dot(parameters[\"weight2\"],A1) + parameters[\"bias2\"]\n",
        "    A2 = sigmoid(Z2)\n",
        "\n",
        "    cache = {\"Z1\": Z1,\n",
        "             \"A1\": A1,\n",
        "             \"Z2\": Z2,\n",
        "             \"A2\": A2}\n",
        "    \n",
        "    return A2, cache\n"
      ]
    },
    {
      "cell_type": "code",
      "execution_count": null,
      "metadata": {
        "_cell_guid": "24143d72-bc62-4f2d-b0cf-4f67a4016299",
        "_uuid": "b55887b28cffc8083a76af45d25957d4f3e9f6fa",
        "id": "hQffNx5q-l2g"
      },
      "outputs": [],
      "source": [
        "# Compute cost\n",
        "def compute_cost_NN(A2, Y, parameters):\n",
        "    logprobs = np.multiply(np.log(A2),Y)\n",
        "    cost = -np.sum(logprobs)/Y.shape[1]\n",
        "    return cost\n"
      ]
    },
    {
      "cell_type": "code",
      "execution_count": null,
      "metadata": {
        "_cell_guid": "2fcfd3c4-f935-4272-a284-c2dbc2c35afb",
        "_uuid": "6bf7bce2e4413ecdc16ea778008eee4072738aab",
        "id": "iKouKO6M-l2h"
      },
      "outputs": [],
      "source": [
        "# Backward Propagation\n",
        "def backward_propagation_NN(parameters, cache, X, Y):\n",
        "\n",
        "    dZ2 = cache[\"A2\"]-Y\n",
        "    dW2 = np.dot(dZ2,cache[\"A1\"].T)/X.shape[1]\n",
        "    db2 = np.sum(dZ2,axis =1,keepdims=True)/X.shape[1]\n",
        "    dZ1 = np.dot(parameters[\"weight2\"].T,dZ2)*(1 - np.power(cache[\"A1\"], 2))\n",
        "    dW1 = np.dot(dZ1,X.T)/X.shape[1]\n",
        "    db1 = np.sum(dZ1,axis =1,keepdims=True)/X.shape[1]\n",
        "    grads = {\"dweight1\": dW1,\n",
        "             \"dbias1\": db1,\n",
        "             \"dweight2\": dW2,\n",
        "             \"dbias2\": db2}\n",
        "    return grads"
      ]
    },
    {
      "cell_type": "code",
      "execution_count": null,
      "metadata": {
        "_cell_guid": "96004eb5-d6ca-41ab-a577-70fb0628a2f4",
        "_uuid": "53c00c4430c6fcc3298dde8de804cab71884caa5",
        "id": "ToIcsc7x-l2i"
      },
      "outputs": [],
      "source": [
        "# update parameters\n",
        "def update_parameters_NN(parameters, grads, learning_rate = 0.01):\n",
        "    parameters = {\"weight1\": parameters[\"weight1\"]-learning_rate*grads[\"dweight1\"],\n",
        "                  \"bias1\": parameters[\"bias1\"]-learning_rate*grads[\"dbias1\"],\n",
        "                  \"weight2\": parameters[\"weight2\"]-learning_rate*grads[\"dweight2\"],\n",
        "                  \"bias2\": parameters[\"bias2\"]-learning_rate*grads[\"dbias2\"]}\n",
        "    \n",
        "    return parameters\n",
        "# prediction\n",
        "def predict_NN(parameters,x_test):\n",
        "    # x_test is a input for forward propagation\n",
        "    A2, cache = forward_propagation_NN(x_test,parameters)\n",
        "    Y_prediction = np.zeros((1,x_test.shape[1]))\n",
        "    # if z is bigger than 0.5, our prediction is sign one \n",
        "    # if z is smaller than 0.5, our prediction is sign zero \n",
        "    for i in range(A2.shape[1]):\n",
        "        if A2[0,i]<= 0.5:\n",
        "            Y_prediction[0,i] = 0\n",
        "        else:\n",
        "            Y_prediction[0,i] = 1\n",
        "\n",
        "    return Y_prediction"
      ]
    },
    {
      "cell_type": "markdown",
      "metadata": {
        "_cell_guid": "d0df9e13-300b-4d5e-b8ec-f702ed0e06af",
        "_uuid": "94202fbc047d59fa5c8b81ba02962f1f3cc56d8f",
        "id": "AMmluBnu-l2i"
      },
      "source": [
        "<a id=\"18\"></a> <br>\n",
        "## Create Model\n"
      ]
    },
    {
      "cell_type": "code",
      "execution_count": null,
      "metadata": {
        "_cell_guid": "b66f3c28-0f71-4176-8a6b-35b98b0db936",
        "_uuid": "9babf239f800bedc9864c6a75677985d57f1cc78",
        "id": "gWuOLqtg-l2j",
        "outputId": "0fa5d6fe-3b19-4df3-d4b6-177e3774f033"
      },
      "outputs": [
        {
          "name": "stdout",
          "output_type": "stream",
          "text": [
            "Cost after iteration 0: 0.335035\n",
            "Cost after iteration 100: 0.341398\n",
            "Cost after iteration 200: 0.342808\n",
            "Cost after iteration 300: 0.330091\n",
            "Cost after iteration 400: 0.318796\n",
            "Cost after iteration 500: 0.293973\n",
            "Cost after iteration 600: 0.260056\n",
            "Cost after iteration 700: 0.224854\n",
            "Cost after iteration 800: 0.193199\n",
            "Cost after iteration 900: 0.167102\n",
            "Cost after iteration 1000: 0.145568\n",
            "Cost after iteration 1100: 0.131181\n",
            "Cost after iteration 1200: 0.115718\n",
            "Cost after iteration 1300: 0.103623\n",
            "Cost after iteration 1400: 0.093212\n",
            "Cost after iteration 1500: 0.084084\n",
            "Cost after iteration 1600: 0.076276\n",
            "Cost after iteration 1700: 0.069709\n",
            "Cost after iteration 1800: 0.064087\n",
            "Cost after iteration 1900: 0.059070\n",
            "Cost after iteration 2000: 0.054392\n",
            "Cost after iteration 2100: 0.050004\n",
            "Cost after iteration 2200: 0.046068\n",
            "Cost after iteration 2300: 0.042514\n",
            "Cost after iteration 2400: 0.039062\n"
          ]
        },
        {
          "data": {
            "image/png": "[encoded data removed]",
            "text/plain": [
              "<Figure size 432x288 with 1 Axes>"
            ]
          },
          "metadata": {},
          "output_type": "display_data"
        },
        {
          "name": "stdout",
          "output_type": "stream",
          "text": [
            "train accuracy: 99.71264367816092 %\n",
            "test accuracy: 96.7741935483871 %\n"
          ]
        }
      ],
      "source": [
        "# AI- neural network\n",
        "def two_layer_neural_network(res1, res2, x_test, y_test, num_iterations):\n",
        "    cost_list = []\n",
        "    index_list = []\n",
        "    #initialize \n",
        "    parameters = initialize_parameters_and_layer_sizes_NN(x_train, y_train)\n",
        "\n",
        "    for i in range(0, num_iterations):\n",
        "        \n",
        "        A2, cache = forward_propagation_NN(x_train,parameters)\n",
        "      \n",
        "        cost = compute_cost_NN(A2, y_train, parameters)\n",
        "        \n",
        "        grads = backward_propagation_NN(parameters, cache, x_train, y_train)\n",
        "        \n",
        "        parameters = update_parameters_NN(parameters, grads)\n",
        "        \n",
        "        if i % 100 == 0:\n",
        "            cost_list.append(cost)\n",
        "            index_list.append(i)\n",
        "            print (\"Cost after iteration %i: %f\" %(i, cost))\n",
        "    plt.plot(index_list,cost_list)\n",
        "    plt.xticks(index_list,rotation='vertical')\n",
        "    plt.xlabel(\"Number of Iterarion\")\n",
        "    plt.ylabel(\"Cost\")\n",
        "    plt.show()\n",
        "    \n",
        "    # predict\n",
        "    y_prediction_test = predict_NN(parameters,x_test)\n",
        "    y_prediction_train = predict_NN(parameters,x_train)\n",
        "\n",
        "    # Print train/test Errors\n",
        "    print(\"train accuracy: {} %\".format(100 - np.mean(np.abs(y_prediction_train - y_train)) * 100))\n",
        "    print(\"test accuracy: {} %\".format(100 - np.mean(np.abs(y_prediction_test - y_test)) * 100))\n",
        "    return parameters\n",
        "\n",
        "parameters = two_layer_neural_network(x_train, y_train,x_test,y_test, num_iterations=2500)"
      ]
    },
    {
      "cell_type": "code",
      "execution_count": null,
      "metadata": {
        "_cell_guid": "631a05c4-e362-4fa0-9048-21c599f55344",
        "_uuid": "0a978924a68d423de4babe73c15412ad938c1858",
        "id": "3LvM_vx4-l2k"
      },
      "outputs": [],
      "source": [
        "# reshaping\n",
        "x_train, x_test, y_train, y_test = x_train.T, x_test.T, y_train.T, y_test.T"
      ]
    },
    {
      "cell_type": "code",
      "execution_count": null,
      "metadata": {
        "_cell_guid": "8870c45b-b0fe-4050-a8af-41498a417ed5",
        "_uuid": "9361c3183a40fa0080055b7d5c1002aef68b4d77",
        "id": "T3vYZW33-l2l",
        "outputId": "ee6e5ba9-a6a1-46d9-af8e-70bdf1989b07"
      },
      "outputs": [
        {
          "name": "stderr",
          "output_type": "stream",
          "text": [
            "Using TensorFlow backend.\n"
          ]
        },
        {
          "name": "stdout",
          "output_type": "stream",
          "text": [
            "WARNING:tensorflow:From /opt/conda/lib/python3.6/site-packages/tensorflow/python/framework/op_def_library.py:263: colocate_with (from tensorflow.python.framework.ops) is deprecated and will be removed in a future version.\n",
            "Instructions for updating:\n",
            "Colocations handled automatically by placer.\n",
            "WARNING:tensorflow:From /opt/conda/lib/python3.6/site-packages/tensorflow/python/ops/math_ops.py:3066: to_int32 (from tensorflow.python.ops.math_ops) is deprecated and will be removed in a future version.\n",
            "Instructions for updating:\n",
            "Use tf.cast instead.\n",
            "Epoch 1/100\n",
            "232/232 [==============================] - 0s 2ms/step - loss: 0.6932 - acc: 0.5776\n",
            "Epoch 2/100\n",
            "232/232 [==============================] - 0s 100us/step - loss: 0.6927 - acc: 0.6336\n",
            "Epoch 3/100\n",
            "232/232 [==============================] - 0s 99us/step - loss: 0.6923 - acc: 0.5517\n",
            "Epoch 4/100\n",
            "232/232 [==============================] - 0s 123us/step - loss: 0.6920 - acc: 0.7069\n",
            "Epoch 5/100\n",
            "232/232 [==============================] - 0s 103us/step - loss: 0.6905 - acc: 0.5431\n",
            "Epoch 6/100\n",
            "232/232 [==============================] - 0s 98us/step - loss: 0.6890 - acc: 0.5431\n",
            "Epoch 7/100\n",
            "232/232 [==============================] - 0s 97us/step - loss: 0.6861 - acc: 0.5431\n",
            "Epoch 8/100\n",
            "232/232 [==============================] - 0s 97us/step - loss: 0.6814 - acc: 0.5431\n",
            "Epoch 9/100\n",
            "232/232 [==============================] - 0s 102us/step - loss: 0.6767 - acc: 0.6034\n",
            "Epoch 10/100\n",
            "232/232 [==============================] - 0s 97us/step - loss: 0.6701 - acc: 0.5517\n",
            "Epoch 11/100\n",
            "232/232 [==============================] - 0s 99us/step - loss: 0.6590 - acc: 0.5474\n",
            "Epoch 12/100\n",
            "232/232 [==============================] - 0s 94us/step - loss: 0.6488 - acc: 0.6810\n",
            "Epoch 13/100\n",
            "232/232 [==============================] - 0s 90us/step - loss: 0.6283 - acc: 0.6810\n",
            "Epoch 14/100\n",
            "232/232 [==============================] - 0s 92us/step - loss: 0.6081 - acc: 0.7931\n",
            "Epoch 15/100\n",
            "232/232 [==============================] - 0s 94us/step - loss: 0.5805 - acc: 0.8276\n",
            "Epoch 16/100\n",
            "232/232 [==============================] - 0s 92us/step - loss: 0.5498 - acc: 0.8750\n",
            "Epoch 17/100\n",
            "232/232 [==============================] - 0s 95us/step - loss: 0.5123 - acc: 0.8621\n",
            "Epoch 18/100\n",
            "232/232 [==============================] - 0s 88us/step - loss: 0.4840 - acc: 0.8664\n",
            "Epoch 19/100\n",
            "232/232 [==============================] - 0s 92us/step - loss: 0.4437 - acc: 0.8362\n",
            "Epoch 20/100\n",
            "232/232 [==============================] - 0s 94us/step - loss: 0.4443 - acc: 0.8319\n",
            "Epoch 21/100\n",
            "232/232 [==============================] - 0s 97us/step - loss: 0.3941 - acc: 0.8836\n",
            "Epoch 22/100\n",
            "232/232 [==============================] - 0s 100us/step - loss: 0.3835 - acc: 0.8448\n",
            "Epoch 23/100\n",
            "232/232 [==============================] - 0s 99us/step - loss: 0.3368 - acc: 0.9052\n",
            "Epoch 24/100\n",
            "232/232 [==============================] - 0s 92us/step - loss: 0.3168 - acc: 0.9095\n",
            "Epoch 25/100\n",
            "232/232 [==============================] - 0s 93us/step - loss: 0.3061 - acc: 0.9052\n",
            "Epoch 26/100\n",
            "232/232 [==============================] - 0s 90us/step - loss: 0.3046 - acc: 0.9181\n",
            "Epoch 27/100\n",
            "232/232 [==============================] - 0s 89us/step - loss: 0.2829 - acc: 0.9009\n",
            "Epoch 28/100\n",
            "232/232 [==============================] - 0s 94us/step - loss: 0.2630 - acc: 0.9267\n",
            "Epoch 29/100\n",
            "232/232 [==============================] - 0s 93us/step - loss: 0.2448 - acc: 0.9224\n",
            "Epoch 30/100\n",
            "232/232 [==============================] - 0s 91us/step - loss: 0.2472 - acc: 0.9138\n",
            "Epoch 31/100\n",
            "232/232 [==============================] - 0s 91us/step - loss: 0.2291 - acc: 0.9310\n",
            "Epoch 32/100\n",
            "232/232 [==============================] - 0s 91us/step - loss: 0.2268 - acc: 0.9267\n",
            "Epoch 33/100\n",
            "232/232 [==============================] - 0s 97us/step - loss: 0.2357 - acc: 0.9138\n",
            "Epoch 34/100\n",
            "232/232 [==============================] - 0s 93us/step - loss: 0.2072 - acc: 0.9267\n",
            "Epoch 35/100\n",
            "232/232 [==============================] - 0s 96us/step - loss: 0.1998 - acc: 0.9267\n",
            "Epoch 36/100\n",
            "232/232 [==============================] - 0s 90us/step - loss: 0.2005 - acc: 0.9181\n",
            "Epoch 37/100\n",
            "232/232 [==============================] - 0s 98us/step - loss: 0.1879 - acc: 0.9267\n",
            "Epoch 38/100\n",
            "232/232 [==============================] - 0s 95us/step - loss: 0.1814 - acc: 0.9267\n",
            "Epoch 39/100\n",
            "232/232 [==============================] - 0s 91us/step - loss: 0.1765 - acc: 0.9267\n",
            "Epoch 40/100\n",
            "232/232 [==============================] - 0s 90us/step - loss: 0.1712 - acc: 0.9310\n",
            "Epoch 41/100\n",
            "232/232 [==============================] - 0s 95us/step - loss: 0.1701 - acc: 0.9440\n",
            "Epoch 42/100\n",
            "232/232 [==============================] - 0s 92us/step - loss: 0.1817 - acc: 0.9224\n",
            "Epoch 43/100\n",
            "232/232 [==============================] - 0s 96us/step - loss: 0.1589 - acc: 0.9353\n",
            "Epoch 44/100\n",
            "232/232 [==============================] - 0s 95us/step - loss: 0.1570 - acc: 0.9483\n",
            "Epoch 45/100\n",
            "232/232 [==============================] - 0s 87us/step - loss: 0.1517 - acc: 0.9440\n",
            "Epoch 46/100\n",
            "232/232 [==============================] - 0s 94us/step - loss: 0.1478 - acc: 0.9353\n",
            "Epoch 47/100\n",
            "232/232 [==============================] - 0s 96us/step - loss: 0.1456 - acc: 0.9440\n",
            "Epoch 48/100\n",
            "232/232 [==============================] - 0s 91us/step - loss: 0.1421 - acc: 0.9353\n",
            "Epoch 49/100\n",
            "232/232 [==============================] - 0s 92us/step - loss: 0.1492 - acc: 0.9440\n",
            "Epoch 50/100\n",
            "232/232 [==============================] - 0s 95us/step - loss: 0.1448 - acc: 0.9353\n",
            "Epoch 51/100\n",
            "232/232 [==============================] - 0s 93us/step - loss: 0.1316 - acc: 0.9483\n",
            "Epoch 52/100\n",
            "232/232 [==============================] - 0s 93us/step - loss: 0.1312 - acc: 0.9440\n",
            "Epoch 53/100\n",
            "232/232 [==============================] - 0s 95us/step - loss: 0.1335 - acc: 0.9440\n",
            "Epoch 54/100\n",
            "232/232 [==============================] - 0s 94us/step - loss: 0.1295 - acc: 0.9526\n",
            "Epoch 55/100\n",
            "232/232 [==============================] - 0s 91us/step - loss: 0.1240 - acc: 0.9440\n",
            "Epoch 56/100\n",
            "232/232 [==============================] - 0s 94us/step - loss: 0.1237 - acc: 0.9569\n",
            "Epoch 57/100\n",
            "232/232 [==============================] - 0s 100us/step - loss: 0.1197 - acc: 0.9483\n",
            "Epoch 58/100\n",
            "232/232 [==============================] - 0s 97us/step - loss: 0.1159 - acc: 0.9569\n",
            "Epoch 59/100\n",
            "232/232 [==============================] - 0s 96us/step - loss: 0.1139 - acc: 0.9526\n",
            "Epoch 60/100\n",
            "232/232 [==============================] - 0s 90us/step - loss: 0.1165 - acc: 0.9655\n",
            "Epoch 61/100\n",
            "232/232 [==============================] - 0s 92us/step - loss: 0.1237 - acc: 0.9483\n",
            "Epoch 62/100\n",
            "232/232 [==============================] - 0s 92us/step - loss: 0.1106 - acc: 0.9655\n",
            "Epoch 63/100\n",
            "232/232 [==============================] - 0s 96us/step - loss: 0.1187 - acc: 0.9397\n",
            "Epoch 64/100\n",
            "232/232 [==============================] - 0s 96us/step - loss: 0.1180 - acc: 0.9569\n",
            "Epoch 65/100\n",
            "232/232 [==============================] - 0s 101us/step - loss: 0.1085 - acc: 0.9612\n",
            "Epoch 66/100\n",
            "232/232 [==============================] - 0s 92us/step - loss: 0.1063 - acc: 0.9655\n",
            "Epoch 67/100\n",
            "232/232 [==============================] - 0s 91us/step - loss: 0.1029 - acc: 0.9569\n",
            "Epoch 68/100\n",
            "232/232 [==============================] - 0s 88us/step - loss: 0.1209 - acc: 0.9612\n",
            "Epoch 69/100\n",
            "232/232 [==============================] - 0s 94us/step - loss: 0.1062 - acc: 0.9612\n",
            "Epoch 70/100\n",
            "232/232 [==============================] - 0s 95us/step - loss: 0.0982 - acc: 0.9569\n",
            "Epoch 71/100\n",
            "232/232 [==============================] - 0s 91us/step - loss: 0.0930 - acc: 0.9655\n",
            "Epoch 72/100\n",
            "232/232 [==============================] - 0s 94us/step - loss: 0.0973 - acc: 0.9741\n",
            "Epoch 73/100\n",
            "232/232 [==============================] - 0s 90us/step - loss: 0.1010 - acc: 0.9526\n",
            "Epoch 74/100\n",
            "232/232 [==============================] - 0s 96us/step - loss: 0.0981 - acc: 0.9569\n",
            "Epoch 75/100\n",
            "232/232 [==============================] - 0s 96us/step - loss: 0.0864 - acc: 0.9655\n",
            "Epoch 76/100\n",
            "232/232 [==============================] - 0s 94us/step - loss: 0.0863 - acc: 0.9784\n",
            "Epoch 77/100\n",
            "232/232 [==============================] - 0s 90us/step - loss: 0.0952 - acc: 0.9612\n",
            "Epoch 78/100\n",
            "232/232 [==============================] - 0s 96us/step - loss: 0.0983 - acc: 0.9612\n",
            "Epoch 79/100\n",
            "232/232 [==============================] - 0s 91us/step - loss: 0.0981 - acc: 0.9655\n",
            "Epoch 80/100\n",
            "232/232 [==============================] - 0s 94us/step - loss: 0.1025 - acc: 0.9526\n",
            "Epoch 81/100\n",
            "232/232 [==============================] - 0s 93us/step - loss: 0.1302 - acc: 0.9526\n",
            "Epoch 82/100\n",
            "232/232 [==============================] - 0s 88us/step - loss: 0.1833 - acc: 0.9224\n",
            "Epoch 83/100\n",
            "232/232 [==============================] - 0s 90us/step - loss: 0.1000 - acc: 0.9612\n",
            "Epoch 84/100\n",
            "232/232 [==============================] - 0s 92us/step - loss: 0.0815 - acc: 0.9655\n",
            "Epoch 85/100\n",
            "232/232 [==============================] - 0s 93us/step - loss: 0.0770 - acc: 0.9655\n",
            "Epoch 86/100\n",
            "232/232 [==============================] - 0s 97us/step - loss: 0.0785 - acc: 0.9698\n",
            "Epoch 87/100\n",
            "232/232 [==============================] - 0s 94us/step - loss: 0.0794 - acc: 0.9698\n",
            "Epoch 88/100\n",
            "232/232 [==============================] - 0s 97us/step - loss: 0.0740 - acc: 0.9784\n",
            "Epoch 89/100\n",
            "232/232 [==============================] - 0s 98us/step - loss: 0.0754 - acc: 0.9655\n",
            "Epoch 90/100\n",
            "232/232 [==============================] - 0s 119us/step - loss: 0.0774 - acc: 0.9741\n",
            "Epoch 91/100\n",
            "232/232 [==============================] - 0s 95us/step - loss: 0.0721 - acc: 0.9741\n",
            "Epoch 92/100\n",
            "232/232 [==============================] - 0s 99us/step - loss: 0.0700 - acc: 0.9741\n",
            "Epoch 93/100\n",
            "232/232 [==============================] - 0s 91us/step - loss: 0.0687 - acc: 0.9741\n",
            "Epoch 94/100\n",
            "232/232 [==============================] - 0s 89us/step - loss: 0.0693 - acc: 0.9698\n",
            "Epoch 95/100\n",
            "232/232 [==============================] - 0s 90us/step - loss: 0.0716 - acc: 0.9741\n",
            "Epoch 96/100\n",
            "232/232 [==============================] - 0s 93us/step - loss: 0.0735 - acc: 0.9741\n",
            "Epoch 97/100\n",
            "232/232 [==============================] - 0s 95us/step - loss: 0.0831 - acc: 0.9569\n",
            "Epoch 98/100\n",
            "232/232 [==============================] - 0s 92us/step - loss: 0.1025 - acc: 0.9526\n",
            "Epoch 99/100\n",
            "232/232 [==============================] - 0s 88us/step - loss: 0.1329 - acc: 0.9440\n",
            "Epoch 100/100\n",
            "232/232 [==============================] - 0s 96us/step - loss: 0.0785 - acc: 0.9828\n",
            "116/116 [==============================] - 0s 379us/step\n",
            "Epoch 1/100\n",
            "232/232 [==============================] - 0s 1ms/step - loss: 0.6933 - acc: 0.5216\n",
            "Epoch 2/100\n",
            "232/232 [==============================] - 0s 95us/step - loss: 0.6924 - acc: 0.5216\n",
            "Epoch 3/100\n",
            "232/232 [==============================] - 0s 98us/step - loss: 0.6918 - acc: 0.5216\n",
            "Epoch 4/100\n",
            "232/232 [==============================] - 0s 91us/step - loss: 0.6909 - acc: 0.5216\n",
            "Epoch 5/100\n",
            "232/232 [==============================] - 0s 96us/step - loss: 0.6893 - acc: 0.5216\n",
            "Epoch 6/100\n",
            "232/232 [==============================] - 0s 93us/step - loss: 0.6871 - acc: 0.5216\n",
            "Epoch 7/100\n",
            "232/232 [==============================] - 0s 93us/step - loss: 0.6839 - acc: 0.5216\n",
            "Epoch 8/100\n",
            "232/232 [==============================] - 0s 93us/step - loss: 0.6791 - acc: 0.5216\n",
            "Epoch 9/100\n",
            "232/232 [==============================] - 0s 106us/step - loss: 0.6734 - acc: 0.5216\n",
            "Epoch 10/100\n",
            "232/232 [==============================] - 0s 96us/step - loss: 0.6647 - acc: 0.5216\n",
            "Epoch 11/100\n",
            "232/232 [==============================] - 0s 96us/step - loss: 0.6517 - acc: 0.5216\n",
            "Epoch 12/100\n",
            "232/232 [==============================] - 0s 93us/step - loss: 0.6404 - acc: 0.5259\n",
            "Epoch 13/100\n",
            "232/232 [==============================] - 0s 93us/step - loss: 0.6199 - acc: 0.7155\n",
            "Epoch 14/100\n",
            "232/232 [==============================] - 0s 89us/step - loss: 0.6147 - acc: 0.5302\n",
            "Epoch 15/100\n",
            "232/232 [==============================] - 0s 92us/step - loss: 0.5973 - acc: 0.8233\n",
            "Epoch 16/100\n",
            "232/232 [==============================] - 0s 92us/step - loss: 0.5964 - acc: 0.5690\n",
            "Epoch 17/100\n",
            "232/232 [==============================] - 0s 103us/step - loss: 0.5628 - acc: 0.7759\n",
            "Epoch 18/100\n",
            "232/232 [==============================] - 0s 91us/step - loss: 0.5481 - acc: 0.7974\n",
            "Epoch 19/100\n",
            "232/232 [==============================] - 0s 91us/step - loss: 0.5309 - acc: 0.7198\n",
            "Epoch 20/100\n",
            "232/232 [==============================] - 0s 88us/step - loss: 0.5185 - acc: 0.7802\n",
            "Epoch 21/100\n",
            "232/232 [==============================] - 0s 94us/step - loss: 0.5061 - acc: 0.8362\n",
            "Epoch 22/100\n",
            "232/232 [==============================] - 0s 91us/step - loss: 0.5036 - acc: 0.9009\n",
            "Epoch 23/100\n",
            "232/232 [==============================] - 0s 96us/step - loss: 0.4834 - acc: 0.7802\n",
            "Epoch 24/100\n",
            "232/232 [==============================] - 0s 94us/step - loss: 0.4735 - acc: 0.8922\n",
            "Epoch 25/100\n",
            "232/232 [==============================] - 0s 97us/step - loss: 0.4597 - acc: 0.8836\n",
            "Epoch 26/100\n",
            "232/232 [==============================] - 0s 100us/step - loss: 0.4477 - acc: 0.8405\n",
            "Epoch 27/100\n",
            "232/232 [==============================] - 0s 99us/step - loss: 0.4367 - acc: 0.8922\n",
            "Epoch 28/100\n",
            "232/232 [==============================] - 0s 93us/step - loss: 0.4344 - acc: 0.9397\n",
            "Epoch 29/100\n",
            "232/232 [==============================] - 0s 93us/step - loss: 0.4149 - acc: 0.9181\n",
            "Epoch 30/100\n",
            "232/232 [==============================] - 0s 98us/step - loss: 0.4159 - acc: 0.8750\n",
            "Epoch 31/100\n",
            "232/232 [==============================] - 0s 91us/step - loss: 0.3966 - acc: 0.8922\n",
            "Epoch 32/100\n",
            "232/232 [==============================] - 0s 91us/step - loss: 0.3881 - acc: 0.9397\n",
            "Epoch 33/100\n",
            "232/232 [==============================] - 0s 96us/step - loss: 0.3823 - acc: 0.9181\n",
            "Epoch 34/100\n",
            "232/232 [==============================] - 0s 112us/step - loss: 0.3717 - acc: 0.9310\n",
            "Epoch 35/100\n",
            "232/232 [==============================] - 0s 92us/step - loss: 0.3666 - acc: 0.9483\n",
            "Epoch 36/100\n",
            "232/232 [==============================] - 0s 92us/step - loss: 0.3643 - acc: 0.9526\n",
            "Epoch 37/100\n",
            "232/232 [==============================] - 0s 92us/step - loss: 0.3517 - acc: 0.9353\n",
            "Epoch 38/100\n",
            "232/232 [==============================] - 0s 97us/step - loss: 0.3691 - acc: 0.9440\n",
            "Epoch 39/100\n",
            "232/232 [==============================] - 0s 94us/step - loss: 0.3448 - acc: 0.9569\n",
            "Epoch 40/100\n",
            "232/232 [==============================] - 0s 100us/step - loss: 0.3403 - acc: 0.9224\n",
            "Epoch 41/100\n",
            "232/232 [==============================] - 0s 119us/step - loss: 0.3274 - acc: 0.9569\n",
            "Epoch 42/100\n",
            "232/232 [==============================] - 0s 97us/step - loss: 0.3266 - acc: 0.9569\n",
            "Epoch 43/100\n",
            "232/232 [==============================] - 0s 94us/step - loss: 0.3248 - acc: 0.9440\n",
            "Epoch 44/100\n",
            "232/232 [==============================] - 0s 91us/step - loss: 0.3041 - acc: 0.9698\n",
            "Epoch 45/100\n",
            "232/232 [==============================] - 0s 89us/step - loss: 0.3081 - acc: 0.9483\n",
            "Epoch 46/100\n",
            "232/232 [==============================] - 0s 94us/step - loss: 0.3046 - acc: 0.9569\n",
            "Epoch 47/100\n",
            "232/232 [==============================] - 0s 92us/step - loss: 0.2985 - acc: 0.9655\n",
            "Epoch 48/100\n",
            "232/232 [==============================] - 0s 93us/step - loss: 0.2941 - acc: 0.9526\n",
            "Epoch 49/100\n",
            "232/232 [==============================] - 0s 94us/step - loss: 0.2860 - acc: 0.9655\n",
            "Epoch 50/100\n",
            "232/232 [==============================] - 0s 94us/step - loss: 0.2779 - acc: 0.9741\n",
            "Epoch 51/100\n",
            "232/232 [==============================] - 0s 95us/step - loss: 0.2698 - acc: 0.9784\n",
            "Epoch 52/100\n",
            "232/232 [==============================] - 0s 90us/step - loss: 0.2696 - acc: 0.9526\n",
            "Epoch 53/100\n",
            "232/232 [==============================] - 0s 97us/step - loss: 0.2780 - acc: 0.9698\n",
            "Epoch 54/100\n",
            "232/232 [==============================] - 0s 96us/step - loss: 0.2894 - acc: 0.9698\n",
            "Epoch 55/100\n",
            "232/232 [==============================] - 0s 92us/step - loss: 0.2959 - acc: 0.9181\n",
            "Epoch 56/100\n",
            "232/232 [==============================] - 0s 93us/step - loss: 0.2558 - acc: 0.9828\n",
            "Epoch 57/100\n",
            "232/232 [==============================] - 0s 90us/step - loss: 0.2502 - acc: 0.9569\n",
            "Epoch 58/100\n",
            "232/232 [==============================] - 0s 92us/step - loss: 0.2419 - acc: 0.9698\n",
            "Epoch 59/100\n",
            "232/232 [==============================] - 0s 92us/step - loss: 0.2362 - acc: 0.9828\n",
            "Epoch 60/100\n",
            "232/232 [==============================] - 0s 92us/step - loss: 0.2320 - acc: 0.9698\n",
            "Epoch 61/100\n",
            "232/232 [==============================] - 0s 94us/step - loss: 0.2427 - acc: 0.9784\n",
            "Epoch 62/100\n",
            "232/232 [==============================] - 0s 89us/step - loss: 0.2248 - acc: 0.9828\n",
            "Epoch 63/100\n",
            "232/232 [==============================] - 0s 93us/step - loss: 0.2230 - acc: 0.9612\n",
            "Epoch 64/100\n",
            "232/232 [==============================] - 0s 94us/step - loss: 0.2168 - acc: 0.9828\n",
            "Epoch 65/100\n",
            "232/232 [==============================] - 0s 93us/step - loss: 0.2085 - acc: 0.9828\n",
            "Epoch 66/100\n",
            "232/232 [==============================] - 0s 92us/step - loss: 0.2067 - acc: 0.9828\n",
            "Epoch 67/100\n",
            "232/232 [==============================] - 0s 94us/step - loss: 0.2072 - acc: 0.9784\n",
            "Epoch 68/100\n",
            "232/232 [==============================] - 0s 95us/step - loss: 0.1976 - acc: 0.9828\n",
            "Epoch 69/100\n",
            "232/232 [==============================] - 0s 92us/step - loss: 0.2068 - acc: 0.9828\n",
            "Epoch 70/100\n",
            "232/232 [==============================] - 0s 91us/step - loss: 0.2018 - acc: 0.9569\n",
            "Epoch 71/100\n",
            "232/232 [==============================] - 0s 94us/step - loss: 0.1956 - acc: 0.9741\n",
            "Epoch 72/100\n",
            "232/232 [==============================] - 0s 93us/step - loss: 0.1886 - acc: 0.9655\n",
            "Epoch 73/100\n",
            "232/232 [==============================] - 0s 92us/step - loss: 0.1777 - acc: 0.9914\n",
            "Epoch 74/100\n",
            "232/232 [==============================] - 0s 91us/step - loss: 0.1770 - acc: 0.9871\n",
            "Epoch 75/100\n",
            "232/232 [==============================] - 0s 96us/step - loss: 0.1728 - acc: 0.9828\n",
            "Epoch 76/100\n",
            "232/232 [==============================] - 0s 94us/step - loss: 0.1663 - acc: 0.9914\n",
            "Epoch 77/100\n",
            "232/232 [==============================] - 0s 92us/step - loss: 0.1638 - acc: 0.9871\n",
            "Epoch 78/100\n",
            "232/232 [==============================] - 0s 93us/step - loss: 0.1675 - acc: 0.9741\n",
            "Epoch 79/100\n",
            "232/232 [==============================] - 0s 93us/step - loss: 0.1979 - acc: 0.9569\n",
            "Epoch 80/100\n",
            "232/232 [==============================] - 0s 90us/step - loss: 0.1629 - acc: 0.9784\n",
            "Epoch 81/100\n",
            "232/232 [==============================] - 0s 159us/step - loss: 0.1518 - acc: 0.9871\n",
            "Epoch 82/100\n",
            "232/232 [==============================] - 0s 95us/step - loss: 0.1483 - acc: 0.9871\n",
            "Epoch 83/100\n",
            "232/232 [==============================] - 0s 95us/step - loss: 0.1459 - acc: 0.9914\n",
            "Epoch 84/100\n",
            "232/232 [==============================] - 0s 97us/step - loss: 0.1396 - acc: 0.9957\n",
            "Epoch 85/100\n",
            "232/232 [==============================] - 0s 96us/step - loss: 0.1390 - acc: 0.9957\n",
            "Epoch 86/100\n",
            "232/232 [==============================] - 0s 90us/step - loss: 0.1346 - acc: 0.9914\n",
            "Epoch 87/100\n",
            "232/232 [==============================] - 0s 92us/step - loss: 0.1296 - acc: 0.9914\n",
            "Epoch 88/100\n",
            "232/232 [==============================] - 0s 92us/step - loss: 0.1274 - acc: 0.9957\n",
            "Epoch 89/100\n",
            "232/232 [==============================] - 0s 93us/step - loss: 0.1256 - acc: 0.9957\n",
            "Epoch 90/100\n",
            "232/232 [==============================] - 0s 95us/step - loss: 0.1243 - acc: 0.9914\n",
            "Epoch 91/100\n",
            "232/232 [==============================] - 0s 91us/step - loss: 0.1233 - acc: 0.9914\n",
            "Epoch 92/100\n",
            "232/232 [==============================] - 0s 92us/step - loss: 0.1181 - acc: 0.9914\n",
            "Epoch 93/100\n",
            "232/232 [==============================] - 0s 96us/step - loss: 0.1146 - acc: 0.9957\n",
            "Epoch 94/100\n",
            "232/232 [==============================] - 0s 96us/step - loss: 0.1170 - acc: 0.9871\n",
            "Epoch 95/100\n",
            "232/232 [==============================] - 0s 94us/step - loss: 0.1191 - acc: 0.9828\n",
            "Epoch 96/100\n",
            "232/232 [==============================] - 0s 95us/step - loss: 0.1275 - acc: 0.9828\n",
            "Epoch 97/100\n",
            "232/232 [==============================] - 0s 92us/step - loss: 0.1169 - acc: 0.9914\n",
            "Epoch 98/100\n",
            "232/232 [==============================] - 0s 89us/step - loss: 0.1067 - acc: 0.9957\n",
            "Epoch 99/100\n",
            "232/232 [==============================] - 0s 88us/step - loss: 0.1047 - acc: 0.9957\n",
            "Epoch 100/100\n",
            "232/232 [==============================] - 0s 87us/step - loss: 0.0993 - acc: 0.9957\n",
            "116/116 [==============================] - 0s 539us/step\n",
            "Epoch 1/100\n",
            "232/232 [==============================] - 0s 2ms/step - loss: 0.6932 - acc: 0.5086\n",
            "Epoch 2/100\n",
            "232/232 [==============================] - 0s 93us/step - loss: 0.6931 - acc: 0.4914\n",
            "Epoch 3/100\n",
            "232/232 [==============================] - 0s 91us/step - loss: 0.6927 - acc: 0.6121\n",
            "Epoch 4/100\n",
            "232/232 [==============================] - 0s 96us/step - loss: 0.6925 - acc: 0.5000\n",
            "Epoch 5/100\n",
            "232/232 [==============================] - 0s 94us/step - loss: 0.6911 - acc: 0.6336\n",
            "Epoch 6/100\n",
            "232/232 [==============================] - 0s 90us/step - loss: 0.6893 - acc: 0.8103\n",
            "Epoch 7/100\n",
            "232/232 [==============================] - 0s 98us/step - loss: 0.6862 - acc: 0.5776\n",
            "Epoch 8/100\n",
            "232/232 [==============================] - 0s 103us/step - loss: 0.6838 - acc: 0.7069\n",
            "Epoch 9/100\n",
            "232/232 [==============================] - 0s 91us/step - loss: 0.6778 - acc: 0.7155\n",
            "Epoch 10/100\n",
            "232/232 [==============================] - 0s 96us/step - loss: 0.6687 - acc: 0.8147\n",
            "Epoch 11/100\n",
            "232/232 [==============================] - 0s 101us/step - loss: 0.6556 - acc: 0.8966\n",
            "Epoch 12/100\n",
            "232/232 [==============================] - 0s 100us/step - loss: 0.6382 - acc: 0.8922\n",
            "Epoch 13/100\n",
            "232/232 [==============================] - 0s 99us/step - loss: 0.6146 - acc: 0.8879\n",
            "Epoch 14/100\n",
            "232/232 [==============================] - 0s 97us/step - loss: 0.6000 - acc: 0.8190\n",
            "Epoch 15/100\n",
            "232/232 [==============================] - 0s 95us/step - loss: 0.5776 - acc: 0.8017\n",
            "Epoch 16/100\n",
            "232/232 [==============================] - 0s 92us/step - loss: 0.5356 - acc: 0.8750\n",
            "Epoch 17/100\n",
            "232/232 [==============================] - 0s 94us/step - loss: 0.4986 - acc: 0.8966\n",
            "Epoch 18/100\n",
            "232/232 [==============================] - 0s 93us/step - loss: 0.4724 - acc: 0.8578\n",
            "Epoch 19/100\n",
            "232/232 [==============================] - 0s 95us/step - loss: 0.4440 - acc: 0.8578\n",
            "Epoch 20/100\n",
            "232/232 [==============================] - 0s 97us/step - loss: 0.4458 - acc: 0.8319\n",
            "Epoch 21/100\n",
            "232/232 [==============================] - 0s 91us/step - loss: 0.3933 - acc: 0.8664\n",
            "Epoch 22/100\n",
            "232/232 [==============================] - 0s 116us/step - loss: 0.3564 - acc: 0.8922\n",
            "Epoch 23/100\n",
            "232/232 [==============================] - 0s 131us/step - loss: 0.3441 - acc: 0.8707\n",
            "Epoch 24/100\n",
            "232/232 [==============================] - 0s 93us/step - loss: 0.3155 - acc: 0.9052\n",
            "Epoch 25/100\n",
            "232/232 [==============================] - 0s 94us/step - loss: 0.3094 - acc: 0.8879\n",
            "Epoch 26/100\n",
            "232/232 [==============================] - 0s 97us/step - loss: 0.2829 - acc: 0.9181\n",
            "Epoch 27/100\n",
            "232/232 [==============================] - 0s 103us/step - loss: 0.2644 - acc: 0.9224\n",
            "Epoch 28/100\n",
            "232/232 [==============================] - 0s 100us/step - loss: 0.2584 - acc: 0.9138\n",
            "Epoch 29/100\n",
            "232/232 [==============================] - 0s 124us/step - loss: 0.2414 - acc: 0.9310\n",
            "Epoch 30/100\n",
            "232/232 [==============================] - 0s 96us/step - loss: 0.2257 - acc: 0.9397\n",
            "Epoch 31/100\n",
            "232/232 [==============================] - 0s 90us/step - loss: 0.2143 - acc: 0.9310\n",
            "Epoch 32/100\n",
            "232/232 [==============================] - 0s 99us/step - loss: 0.2004 - acc: 0.9138\n",
            "Epoch 33/100\n",
            "232/232 [==============================] - 0s 99us/step - loss: 0.2025 - acc: 0.9397\n",
            "Epoch 34/100\n",
            "232/232 [==============================] - 0s 104us/step - loss: 0.1985 - acc: 0.9310\n",
            "Epoch 35/100\n",
            "232/232 [==============================] - 0s 97us/step - loss: 0.1886 - acc: 0.9397\n",
            "Epoch 36/100\n",
            "232/232 [==============================] - 0s 96us/step - loss: 0.1730 - acc: 0.9353\n",
            "Epoch 37/100\n",
            "232/232 [==============================] - 0s 93us/step - loss: 0.1677 - acc: 0.9310\n",
            "Epoch 38/100\n",
            "232/232 [==============================] - 0s 95us/step - loss: 0.1580 - acc: 0.9440\n",
            "Epoch 39/100\n",
            "232/232 [==============================] - 0s 93us/step - loss: 0.1524 - acc: 0.9440\n",
            "Epoch 40/100\n",
            "232/232 [==============================] - 0s 104us/step - loss: 0.1484 - acc: 0.9526\n",
            "Epoch 41/100\n",
            "232/232 [==============================] - 0s 94us/step - loss: 0.1426 - acc: 0.9440\n",
            "Epoch 42/100\n",
            "232/232 [==============================] - 0s 94us/step - loss: 0.1441 - acc: 0.9483\n",
            "Epoch 43/100\n",
            "232/232 [==============================] - 0s 92us/step - loss: 0.1296 - acc: 0.9612\n",
            "Epoch 44/100\n",
            "232/232 [==============================] - 0s 94us/step - loss: 0.1255 - acc: 0.9569\n",
            "Epoch 45/100\n",
            "232/232 [==============================] - 0s 95us/step - loss: 0.1387 - acc: 0.9526\n",
            "Epoch 46/100\n",
            "232/232 [==============================] - 0s 101us/step - loss: 0.1390 - acc: 0.9440\n",
            "Epoch 47/100\n",
            "232/232 [==============================] - 0s 96us/step - loss: 0.1135 - acc: 0.9655\n",
            "Epoch 48/100\n",
            "232/232 [==============================] - 0s 95us/step - loss: 0.1088 - acc: 0.9612\n",
            "Epoch 49/100\n",
            "232/232 [==============================] - 0s 90us/step - loss: 0.1073 - acc: 0.9698\n",
            "Epoch 50/100\n",
            "232/232 [==============================] - 0s 95us/step - loss: 0.1043 - acc: 0.9655\n",
            "Epoch 51/100\n",
            "232/232 [==============================] - 0s 93us/step - loss: 0.1024 - acc: 0.9698\n",
            "Epoch 52/100\n",
            "232/232 [==============================] - 0s 91us/step - loss: 0.1008 - acc: 0.9741\n",
            "Epoch 53/100\n",
            "232/232 [==============================] - 0s 93us/step - loss: 0.1043 - acc: 0.9698\n",
            "Epoch 54/100\n",
            "232/232 [==============================] - 0s 96us/step - loss: 0.1016 - acc: 0.9612\n",
            "Epoch 55/100\n",
            "232/232 [==============================] - 0s 90us/step - loss: 0.0916 - acc: 0.9784\n",
            "Epoch 56/100\n",
            "232/232 [==============================] - 0s 94us/step - loss: 0.1260 - acc: 0.9526\n",
            "Epoch 57/100\n",
            "232/232 [==============================] - 0s 92us/step - loss: 0.1009 - acc: 0.9655\n",
            "Epoch 58/100\n",
            "232/232 [==============================] - 0s 94us/step - loss: 0.0881 - acc: 0.9741\n",
            "Epoch 59/100\n",
            "232/232 [==============================] - 0s 95us/step - loss: 0.0937 - acc: 0.9828\n",
            "Epoch 60/100\n",
            "232/232 [==============================] - 0s 104us/step - loss: 0.0834 - acc: 0.9698\n",
            "Epoch 61/100\n",
            "232/232 [==============================] - 0s 91us/step - loss: 0.0816 - acc: 0.9784\n",
            "Epoch 62/100\n",
            "232/232 [==============================] - 0s 90us/step - loss: 0.0798 - acc: 0.9741\n",
            "Epoch 63/100\n",
            "232/232 [==============================] - 0s 97us/step - loss: 0.0893 - acc: 0.9698\n",
            "Epoch 64/100\n",
            "232/232 [==============================] - 0s 116us/step - loss: 0.0772 - acc: 0.9784\n",
            "Epoch 65/100\n",
            "232/232 [==============================] - 0s 97us/step - loss: 0.1034 - acc: 0.9569\n",
            "Epoch 66/100\n",
            "232/232 [==============================] - 0s 91us/step - loss: 0.1033 - acc: 0.9612\n",
            "Epoch 67/100\n",
            "232/232 [==============================] - 0s 90us/step - loss: 0.1200 - acc: 0.9483\n",
            "Epoch 68/100\n",
            "232/232 [==============================] - 0s 89us/step - loss: 0.0801 - acc: 0.9612\n",
            "Epoch 69/100\n",
            "232/232 [==============================] - 0s 93us/step - loss: 0.0764 - acc: 0.9871\n",
            "Epoch 70/100\n",
            "232/232 [==============================] - 0s 93us/step - loss: 0.0821 - acc: 0.9698\n",
            "Epoch 71/100\n",
            "232/232 [==============================] - 0s 117us/step - loss: 0.0796 - acc: 0.9741\n",
            "Epoch 72/100\n",
            "232/232 [==============================] - 0s 91us/step - loss: 0.0799 - acc: 0.9698\n",
            "Epoch 73/100\n",
            "232/232 [==============================] - 0s 94us/step - loss: 0.0744 - acc: 0.9784\n",
            "Epoch 74/100\n",
            "232/232 [==============================] - 0s 94us/step - loss: 0.0780 - acc: 0.9655\n",
            "Epoch 75/100\n",
            "232/232 [==============================] - 0s 94us/step - loss: 0.0804 - acc: 0.9741\n",
            "Epoch 76/100\n",
            "232/232 [==============================] - 0s 91us/step - loss: 0.1012 - acc: 0.9569\n",
            "Epoch 77/100\n",
            "232/232 [==============================] - 0s 91us/step - loss: 0.0958 - acc: 0.9612\n",
            "Epoch 78/100\n",
            "232/232 [==============================] - 0s 93us/step - loss: 0.0615 - acc: 0.9784\n",
            "Epoch 79/100\n",
            "232/232 [==============================] - 0s 106us/step - loss: 0.0567 - acc: 0.9828\n",
            "Epoch 80/100\n",
            "232/232 [==============================] - 0s 99us/step - loss: 0.0602 - acc: 0.9828\n",
            "Epoch 81/100\n",
            "232/232 [==============================] - 0s 97us/step - loss: 0.0712 - acc: 0.9784\n",
            "Epoch 82/100\n",
            "232/232 [==============================] - 0s 92us/step - loss: 0.0648 - acc: 0.9828\n",
            "Epoch 83/100\n",
            "232/232 [==============================] - 0s 92us/step - loss: 0.0547 - acc: 0.9828\n",
            "Epoch 84/100\n",
            "232/232 [==============================] - 0s 91us/step - loss: 0.0525 - acc: 0.9871\n",
            "Epoch 85/100\n",
            "232/232 [==============================] - 0s 95us/step - loss: 0.0543 - acc: 0.9828\n",
            "Epoch 86/100\n",
            "232/232 [==============================] - 0s 92us/step - loss: 0.0539 - acc: 0.9914\n",
            "Epoch 87/100\n",
            "232/232 [==============================] - 0s 94us/step - loss: 0.0531 - acc: 0.9828\n",
            "Epoch 88/100\n",
            "232/232 [==============================] - 0s 91us/step - loss: 0.0511 - acc: 0.9828\n",
            "Epoch 89/100\n",
            "232/232 [==============================] - 0s 91us/step - loss: 0.0540 - acc: 0.9871\n",
            "Epoch 90/100\n",
            "232/232 [==============================] - 0s 97us/step - loss: 0.0547 - acc: 0.9784\n",
            "Epoch 91/100\n",
            "232/232 [==============================] - 0s 93us/step - loss: 0.0470 - acc: 0.9914\n",
            "Epoch 92/100\n",
            "232/232 [==============================] - 0s 96us/step - loss: 0.0546 - acc: 0.9784\n",
            "Epoch 93/100\n",
            "232/232 [==============================] - 0s 95us/step - loss: 0.0610 - acc: 0.9871\n",
            "Epoch 94/100\n",
            "232/232 [==============================] - 0s 97us/step - loss: 0.0687 - acc: 0.9784\n",
            "Epoch 95/100\n",
            "232/232 [==============================] - 0s 97us/step - loss: 0.0686 - acc: 0.9784\n",
            "Epoch 96/100\n",
            "232/232 [==============================] - 0s 91us/step - loss: 0.0512 - acc: 0.9828\n",
            "Epoch 97/100\n",
            "232/232 [==============================] - 0s 94us/step - loss: 0.0415 - acc: 0.9871\n",
            "Epoch 98/100\n",
            "232/232 [==============================] - 0s 94us/step - loss: 0.0441 - acc: 0.9871\n",
            "Epoch 99/100\n",
            "232/232 [==============================] - 0s 93us/step - loss: 0.0538 - acc: 0.9828\n",
            "Epoch 100/100\n",
            "232/232 [==============================] - 0s 90us/step - loss: 0.0549 - acc: 0.9828\n",
            "116/116 [==============================] - 0s 696us/step\n",
            "Accuracy mean: 0.9482758586434112\n",
            "Accuracy variance: 0.012191495742907735\n"
          ]
        }
      ],
      "source": [
        "# Evaluating the AI-DNN\n",
        "from keras.wrappers.scikit_learn import KerasClassifier\n",
        "from sklearn.model_selection import cross_val_score\n",
        "from keras.models import Sequential # initialize neural network library\n",
        "from keras.layers import Dense # build our layers library\n",
        "def build_classifier():\n",
        "    classifier = Sequential() # initialize neural network\n",
        "    classifier.add(Dense(units = 8, kernel_initializer = 'uniform', activation = 'relu', input_dim = x_train.shape[1]))\n",
        "    classifier.add(Dense(units = 4, kernel_initializer = 'uniform', activation = 'relu'))\n",
        "    classifier.add(Dense(units = 1, kernel_initializer = 'uniform', activation = 'sigmoid'))\n",
        "    classifier.compile(optimizer = 'adam', loss = 'binary_crossentropy', metrics = ['accuracy'])\n",
        "    return classifier\n",
        "classifier = KerasClassifier(build_fn = build_classifier, epochs = 100)\n",
        "accuracies = cross_val_score(estimator = classifier, X = x_train, y = y_train, cv = 3)\n",
        "mean = accuracies.mean()\n",
        "variance = accuracies.std()\n",
        "print(\"Accuracy mean: \"+ str(mean))\n",
        "print(\"Accuracy variance: \"+ str(variance))"
      ]
    },
    {
      "cell_type": "code",
      "source": [
        "ann_prediction = ann.predict(X_test)\n",
        "ann_prediction = (ann_prediction > 0.5) \n",
        "score = metrics.accuracy_score(Y_test, ann_prediction)\n",
        "display_cm(Y_test, ann_prediction, score=score)"
      ],
      "metadata": {
        "id": "Fpl6gQWVFXkf"
      },
      "execution_count": null,
      "outputs": []
    },
    {
      "cell_type": "markdown",
      "source": [
        "![Screenshot (93).png](data:image/png;base64,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)"
      ],
      "metadata": {
        "id": "tgj9iaO-GQgU"
      }
    },
    {
      "cell_type": "markdown",
      "source": [
        "#Predictions"
      ],
      "metadata": {
        "id": "AIow_Gsnm0Kt"
      }
    },
    {
      "cell_type": "code",
      "source": [
        "predictions, raw_outputs = model.predict(test_df[\"SMILES\"].tolist())"
      ],
      "metadata": {
        "id": "iCAFnZtE5Sm8"
      },
      "execution_count": null,
      "outputs": []
    },
    {
      "cell_type": "markdown",
      "source": [
        "![Screenshot (193).png](data:image/png;base64,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)"
      ],
      "metadata": {
        "id": "3cE8H1VcqLFg"
      }
    },
    {
      "cell_type": "code",
      "source": [
        "from tqdm.notebook import tqdm  #used for creating Progress Meters\n",
        "final_preds=[]\n",
        "for i,row in tqdm(test_df.iterrows(),total=len(test_df)):\n",
        "    #predictions, raw_outputs = model.predict([row[\"SMILES\"]])\n",
        "    order = np.argsort(raw_outputs[i])[::-1][:15]\n",
        "    labelled_preds = [vocab[i] for i in order]\n",
        "    for x in labelled_preds:\n",
        "      assert x in vocab\n",
        "    sents = []\n",
        "    for sent in range(0,15,3):\n",
        "      sents.append(\",\".join([x for x in labelled_preds[sent:sent+3]]))\n",
        "    pred = \";\".join([x for x in sents])\n",
        "    final_preds.append(pred)\n",
        "print(len(final_preds),len(test_df))"
      ],
      "metadata": {
        "id": "71_LehostDcS"
      },
      "execution_count": null,
      "outputs": []
    },
    {
      "cell_type": "markdown",
      "source": [
        "![Screenshot (194).png](data:image/png;base64,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)"
      ],
      "metadata": {
        "id": "RLQhFa3TDda7"
      }
    },
    {
      "cell_type": "code",
      "source": [
        "final = pd.DataFrame({\"SMILES\":test_df.SMILES.tolist(),\"PREDICTIONS\":final_preds})\n",
        "final.head()"
      ],
      "metadata": {
        "id": "mdJtC6f_Dtz6"
      },
      "execution_count": null,
      "outputs": []
    },
    {
      "cell_type": "markdown",
      "source": [
        "![Screenshot (195).png](data:image/png;base64,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)"
      ],
      "metadata": {
        "id": "_uK8OHEvEA6J"
      }
    },
    {
      "cell_type": "code",
      "source": [
        "final.tail()"
      ],
      "metadata": {
        "id": "syJIwEMNDdsq"
      },
      "execution_count": null,
      "outputs": []
    },
    {
      "cell_type": "markdown",
      "source": [
        "![Screenshot (198).png](data:image/png;base64,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)"
      ],
      "metadata": {
        "id": "1dMNG46tEgzn"
      }
    },
    {
      "cell_type": "code",
      "source": [
        "gt = []\n",
        "for i in range(y_test.shape[0]):\n",
        "    smell_ids = np.where(y_test[i]==1)\n",
        "    smells = [vocab[k] for k in smell_ids[0]]\n",
        "    gt.append(\",\".join([x for x in smells[:min(len(smells),3)]])) \n",
        "val_dict = {\"top_5_sents\":top_5_predictions,\"target\":gt}\n",
        "df_to_eval = pd.DataFrame(val_dict)\n",
        "top_5_scr = []\n",
        "for pred,y in zip(df_to_eval.top_5_sents.tolist(),df_to_eval.target.tolist()):\n",
        "  top_5_scr.append(in_top_5(pred,y))\n",
        "df_to_eval[\"top_5_score\"] = top_5_scr\n",
        "print(\"OVERALL SCORE:\",np.mean(df_to_eval.top_5_score.tolist()))\n",
        "display(df_to_eval.head())"
      ],
      "metadata": {
        "id": "97dA83nHEimi"
      },
      "execution_count": null,
      "outputs": []
    },
    {
      "cell_type": "markdown",
      "source": [
        "![Screenshot (201).png](data:image/png;base64,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)"
      ],
      "metadata": {
        "id": "owViiMf5FRUs"
      }
    },
    {
      "cell_type": "code",
      "source": [
        "#test data set predictions"
      ],
      "metadata": {
        "id": "TzsXz4S2EDLo"
      },
      "execution_count": null,
      "outputs": []
    },
    {
      "cell_type": "code",
      "source": [
        "mols = [Chem.MolFromSmiles(smile) for smile in test_df[\"SMILES\"].tolist()]\n",
        "feat = dc.feat.CircularFingerprint(size=1024)\n",
        "test_arr = feat.featurize(mols)\n",
        "predictions=classifier.predict(test_arr)\n",
        "top_5_predictions = get_submission(predictions.toarray())\n",
        "final = pd.DataFrame({\"SMILES\":test_df.SMILES.tolist(),\"PREDICTIONS\":top_5_predictions})\n",
        "final.head()"
      ],
      "metadata": {
        "id": "8E43JCjDGHAs"
      },
      "execution_count": null,
      "outputs": []
    },
    {
      "cell_type": "markdown",
      "source": [
        "![Screenshot (202).png](data:image/png;base64,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)"
      ],
      "metadata": {
        "id": "bn123Kb4GLGc"
      }
    },
    {
      "cell_type": "code",
      "source": [
        "#frequently ocurring multilabel classes based on coordinate prediction\n",
        "\n",
        "y_true = val_dataset.y\n",
        "y_pred = best_model.predict(val_dataset)\n",
        "# print(y_true.shape,y_pred.shape)\n",
        "for i in range(y_true.shape[0]):\n",
        "  final_pred = []\n",
        "  for y in range(109):\n",
        "      prediction = y_pred[i,y]\n",
        "      if prediction[1]>0.1:\n",
        "        final_pred.append(1)\n",
        "      else:\n",
        "        final_pred.append(0)\n",
        "  smell_ids = np.where(np.array(final_pred)==1)\n",
        "  smells = [vocab[k] for k in smell_ids[0]]\n",
        "  \n",
        "  gt_smell_ids = np.where(np.array(y_true[i])==1)\n",
        "  gt_smells = [vocab[k] for k in gt_smell_ids[0]]\n",
        "  print(smells,gt_smells)\n",
        "    "
      ],
      "metadata": {
        "id": "y44_Yd1BGkCk"
      },
      "execution_count": null,
      "outputs": []
    },
    {
      "cell_type": "markdown",
      "source": [
        "![Screenshot (207).png](data:image/png;base64,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)"
      ],
      "metadata": {
        "id": "AM0JWSXAINWm"
      }
    }
  ],
  "metadata": {
    "kernelspec": {
      "display_name": "Python 3",
      "language": "python",
      "name": "python3"
    },
    "language_info": {
      "codemirror_mode": {
        "name": "ipython",
        "version": 3
      },
      "file_extension": ".py",
      "mimetype": "text/x-python",
      "name": "python",
      "nbconvert_exporter": "python",
      "pygments_lexer": "ipython3",
      "version": "3.6.6"
    },
    "colab": {
      "provenance": []
    }
  },
  "nbformat": 4,
  "nbformat_minor": 0
}